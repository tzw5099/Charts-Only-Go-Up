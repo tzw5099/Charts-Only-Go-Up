{
 "cells": [
  {
   "cell_type": "code",
   "execution_count": 132,
   "metadata": {
    "ExecuteTime": {
     "end_time": "2020-12-20T20:24:55.302843Z",
     "start_time": "2020-12-20T20:24:55.294843Z"
    },
    "code_folding": [
     13
    ]
   },
   "outputs": [],
   "source": [
    "import pandas as pd\n",
    "import numpy as np\n",
    "import glob as glob\n",
    "import os\n",
    "import time\n",
    "import pathlib\n",
    "\n",
    "# from ..route_imports import ratio_map\n",
    "import sys; sys.path.insert(0, '..') # add parent folder path where lib folder is\n",
    "# import route_imports.ratio_map as ratios # store_load is a file on my library folder\n",
    "from route_imports.ratio_map import metric_to_url_map # as ratios\n",
    "from route_imports.ratio_map import url_to_metric_map\n",
    "from route_imports.ratio_map import url_to_name_map\n",
    "from route_imports.ratio_map import fin_statement_raw_names\n",
    "from route_imports.ratio_map import fin_statement_renamed_cols\n",
    "from route_imports.ratio_map import metric_to_formula_map\n",
    "from route_imports.ratio_map import url_to_var_name_map\n",
    "# from route_imports.ratio_map import metric_to_list_variables_map\n",
    "\n",
    "# from route_imports.ratio_map import *\n",
    "\n",
    "# from route_imports import ratio_map.metric_to_url_map# as ratios\n",
    "\n",
    "start_time = time.time()\n",
    "uri_list = \"cash-and-cash-equivalents\"\n",
    "url_symbol_name = \"apple\"\n",
    "url_symbol = \"JAX\"\n",
    "url_fin_metric = \"cash-and-cash-equivalents\"\n",
    "\n",
    "def magnitude_num(number, currency_symbol):\n",
    "    if len(str(number)) > 9:\n",
    "        magnitude = number/1000000000\n",
    "        magnitude_str = \"{}{}{}\".format(currency_symbol,round(magnitude,1),\"B\")\n",
    "    elif len(str(number)) > 6:\n",
    "        magnitude = number/1000000\n",
    "        magnitude_str = \"{}{}{}\".format(currency_symbol,round(magnitude,1),\"M\")\n",
    "    elif len(str(number)) > 3:\n",
    "        magnitude = number/1000\n",
    "        magnitude_str = \"{}{}{}\".format(currency_symbol,round(magnitude,1),\"K\")\n",
    "    else:\n",
    "        magnitude = number\n",
    "        magnitude_str = \"{}{}{}\".format(currency_symbol,round(magnitude,1),\"K\")\n",
    "    return magnitude_str"
   ]
  },
  {
   "cell_type": "code",
   "execution_count": 3,
   "metadata": {
    "ExecuteTime": {
     "end_time": "2020-12-20T03:12:21.818990Z",
     "start_time": "2020-12-20T03:12:21.619461Z"
    },
    "code_folding": [
     3
    ],
    "run_control": {
     "marked": false
    }
   },
   "outputs": [],
   "source": [
    "company_profiles = pd.read_csv(\"../reference_data/Company_Profiles.csv\")#, encoding='cp1252')\n",
    "fin_statements_matching = pd.read_csv(\"../reference_data/Financial_Statements_Reference_Matching.csv\")#, encoding='cp1252')\n",
    "currency_symbol = list(company_profiles[company_profiles['symbol']==\"{}\".format(url_symbol.upper())]['currency symbol'])[0]\n",
    "company_profiles_col = ['symbol',\n",
    "                        'long name',\n",
    "                        'currency',\n",
    "                        'exchange',\n",
    "                        'industry',\n",
    "                        'description',\n",
    "                        'sector',\n",
    "                        'country',\n",
    "                        'ipo date',\n",
    "                        'short name']\n",
    "company_profiles = company_profiles[company_profiles_col]  "
   ]
  },
  {
   "cell_type": "code",
   "execution_count": 23,
   "metadata": {
    "ExecuteTime": {
     "end_time": "2020-12-20T02:32:29.555738Z",
     "start_time": "2020-12-20T02:32:29.534739Z"
    },
    "code_folding": [],
    "run_control": {
     "marked": true
    }
   },
   "outputs": [],
   "source": [
    "# hide - cash equiv\n",
    "profiles_dict = {}\n",
    "profiles_value = company_profiles[company_profiles['symbol']==\"{}\".format(url_symbol.upper())].values.tolist()[0]\n",
    "\n",
    "titles_bs = list(fin_statements_matching[fin_statements_matching['Financial Statement']==\"Balance Sheet\"]['Title'])\n",
    "titles_cf = list(fin_statements_matching[fin_statements_matching['Financial Statement']==\"Cash Flow Statement\"]['Title'])\n",
    "titles_is = list(fin_statements_matching[fin_statements_matching['Financial Statement']==\"Income Statement\"]['Title'])\n",
    "\n",
    "urls_bs = list(fin_statements_matching[fin_statements_matching['Financial Statement']==\"Balance Sheet\"]['URL'])\n",
    "urls_cf = list(fin_statements_matching[fin_statements_matching['Financial Statement']==\"Cash Flow Statement\"]['URL'])\n",
    "urls_is = list(fin_statements_matching[fin_statements_matching['Financial Statement']==\"Income Statement\"]['URL'])"
   ]
  },
  {
   "cell_type": "code",
   "execution_count": 24,
   "metadata": {
    "ExecuteTime": {
     "end_time": "2020-12-20T02:32:30.381516Z",
     "start_time": "2020-12-20T02:32:30.371514Z"
    },
    "code_folding": [
     8
    ],
    "run_control": {
     "marked": true
    }
   },
   "outputs": [],
   "source": [
    "# hide - cash equiv\n",
    "for n, profiles_col in enumerate(company_profiles_col):\n",
    "    key = profiles_col\n",
    "    value = profiles_value[n]\n",
    "    profiles_dict[key] = value \n",
    "\n",
    "if \"{}\".format(url_fin_metric) in urls_is:\n",
    "    fin_statement_dir = \"Income Statement\"\n",
    "elif \"{}\".format(url_fin_metric) in urls_bs:\n",
    "    fin_metric_pos = urls_bs.index(\"{}\".format(url_fin_metric))\n",
    "    fin_statement_dir = \"Balance Sheet\"\n",
    "    fin_statement_cols = titles_bs\n",
    "    cols = titles_bs\n",
    "    fin_metric_title = fin_statement_cols[fin_metric_pos]\n",
    "\n",
    "elif \"{}\".format(url_fin_metric) in urls_cf:\n",
    "    fin_statement_dir = \"Cash Flow Statement\"\n",
    "\n",
    "else:\n",
    "    pass\n"
   ]
  },
  {
   "cell_type": "code",
   "execution_count": 25,
   "metadata": {
    "ExecuteTime": {
     "end_time": "2020-12-20T02:32:31.267988Z",
     "start_time": "2020-12-20T02:32:31.231984Z"
    },
    "code_folding": [],
    "run_control": {
     "marked": true
    }
   },
   "outputs": [
    {
     "name": "stdout",
     "output_type": "stream",
     "text": [
      "fin metric name cashAndCashEquivalents\n"
     ]
    }
   ],
   "source": [
    "# hide - cash equiv\n",
    "# start_time = time.time()\n",
    "bs_dir = \"Balance Sheet\"\n",
    "bs_file = glob.glob(\"../Charts_TenDollarData/financial_statements/data/Historical Financial Statements/*/quarter/{}/*~{}~*\".format(bs_dir, url_symbol.upper()))[-1]\n",
    "\n",
    "df = pd.read_csv(bs_file,index_col = False) #.format(\"NLOK\"))[-1]\n",
    "# df = df[df['date'].notna()]#fillna(method='ffill')\n",
    "df = df[0:].iloc[::-1]#.dropna()\n",
    "df_fin_statement = df\n",
    "#region Pandas data manipulation\n",
    "matching_row = fin_statements_matching[fin_statements_matching['URL']==\"{}\".format(url_fin_metric)]\n",
    "fin_metric_title = list(matching_row['Title'])[0]\n",
    "fin_metric_name = list(matching_row['Name'])[0]\n",
    "print(\"fin metric name\", fin_metric_name)\n",
    "sorted_metric = df[\"{}\".format(fin_metric_name)].sort_values()"
   ]
  },
  {
   "cell_type": "code",
   "execution_count": 10,
   "metadata": {
    "ExecuteTime": {
     "end_time": "2020-12-20T02:30:26.726522Z",
     "start_time": "2020-12-20T02:30:26.440523Z"
    }
   },
   "outputs": [],
   "source": []
  },
  {
   "cell_type": "code",
   "execution_count": 108,
   "metadata": {
    "ExecuteTime": {
     "end_time": "2020-12-20T20:03:35.323410Z",
     "start_time": "2020-12-20T20:03:35.311898Z"
    }
   },
   "outputs": [],
   "source": [
    "# fin_df_list[1][\"period\"]+\"-\"+fin_df_list[1][\"date\"].apply(lambda x: x[0:4])#[\"QQ-YYYY\"]"
   ]
  },
  {
   "cell_type": "code",
   "execution_count": 12,
   "metadata": {
    "ExecuteTime": {
     "end_time": "2020-12-20T02:30:28.233638Z",
     "start_time": "2020-12-20T02:30:28.213102Z"
    },
    "code_folding": [],
    "run_control": {
     "marked": true
    }
   },
   "outputs": [],
   "source": [
    "fin_dir = [\"Income Statement\",\"Balance Sheet\",\"Cash Flow Statement\"]\n",
    "# url_symbol = \"TSLA\"\n",
    "url_symbol = \"JAX\"\n",
    "\n",
    "fin_df_list = []\n",
    "for x in fin_dir:\n",
    "    fin_file = glob.glob(\"../Charts_TenDollarData/financial_statements/data/Historical Financial Statements/*/quarter/{}/*~{}~*\".format(x, url_symbol.upper()))[-1]\n",
    "    fin_df = pd.read_csv(fin_file)\n",
    "    fin_df[\"Year\"] = fin_df[\"date\"].apply(lambda x: x[0:4])\n",
    "    fin_df[\"QQ-YYYY\"] = fin_df[\"period\"]+\"-\"+fin_df[\"date\"].apply(lambda x: x[0:4])#[\"QQ-YYYY\"]\n",
    "    fin_df_list.append(fin_df)\n",
    "# df = pd.concat(fin_df_list,ignore_index=True)#,axis = 1)\n",
    "# df = pd.concat(fin_df_list, join='outer', axis=1)#.fillna(nan_value)\n",
    "\n",
    "# df = pd.concat(fin_df_list,ignore_index=True)\n",
    "df_merge_is_bs = pd.merge(fin_df_list[0],fin_df_list[1],how=\"inner\", on=\"QQ-YYYY\")\n",
    "# df\n",
    "# df_merge cols\n",
    "df_merge = pd.merge(df_merge_is_bs,fin_df_list[2],how=\"inner\", on=\"QQ-YYYY\")\n",
    "df_merge = df_merge[fin_statement_raw_names]\n",
    "\n",
    "df_merge.columns = fin_statement_renamed_cols\n",
    "df = df_merge\n",
    "\n",
    "df['ffo_math']=df['net_income'] + df['d_n_a'] + df['sales_maturities_of_investments'] + df['purchase_of_investments'] + df['investments_in_pp_n_e'] + df['acquisitions_net']\n",
    "df['book_value_math']=df['total_assets'].dropna()-df['total_liabilities'].dropna()\n",
    "df['ebit_math']=df['ebitda_non'] - df['d_n_a']\n",
    "df['working_capital_math']= df['total_current_assets'] - df['total_current_liabilities']\n",
    "\n",
    "df['quick_assets_math']=df['cash_non']+df['short_term_investments']+df['accounts_receivable']\n",
    "df['quick_ratio_math']=df['total_current_assets'] - df['inventory']\n",
    "# df['other_current_assets'] * df['total_current_assets']\n",
    "# df['g_n_a']+df['s_n_m']"
   ]
  },
  {
   "cell_type": "code",
   "execution_count": 25,
   "metadata": {
    "ExecuteTime": {
     "end_time": "2020-12-18T09:38:32.755626Z",
     "start_time": "2020-12-18T09:38:32.737632Z"
    },
    "code_folding": [
     0
    ],
    "run_control": {
     "marked": false
    }
   },
   "outputs": [],
   "source": [
    "# wtf red dot\n",
    "# perc​entage_of_debt_to_asset_formula = lambda perc​entage_of_debt_to_asset_formula: ((total_non_current_liabilities)/(total_assets))\n",
    "# rece​ivables_turnover = lambda rece​ivables_turnover: ((net_revenue)/(accounts_receivable))"
   ]
  },
  {
   "cell_type": "code",
   "execution_count": 26,
   "metadata": {
    "ExecuteTime": {
     "end_time": "2020-12-18T09:38:33.189713Z",
     "start_time": "2020-12-18T09:38:33.177715Z"
    },
    "code_folding": [
     0
    ],
    "run_control": {
     "marked": false
    }
   },
   "outputs": [],
   "source": [
    "# # hide lambda\n",
    "# net_working_capital_ratio = lambda net_working_capital_ratio: (df['working_capital_math']/df['total_assets'])\n",
    "# book_value_per_share = lambda book_value_per_share: (df['total_se']/df['shares_outstanding_non'])\n",
    "# total_equity_to_total_assets = lambda total_equity_to_total_assets: (df['total_se']/df['total_assets'])\n",
    "# operating_cost_ratio = lambda operating_cost_ratio: (df['total_opex'] - df['d_n_a']/df['net_revenue'])\n",
    "# percentage_of_debt_to_asset_formula = lambda percentage_of_debt_to_asset_formula: (df['total_non_current_liabilities']/df['total_assets'])\n",
    "\n",
    "# total_liabilities_pct_of_total_assets = lambda total_liabilities_pct_of_total_assets: (df['total_liabilities']/df['total_assets'])\n",
    "# debt_to_assets_ratio = lambda debt_to_assets_ratio: (df['total_debt']/df['total_assets'])\n",
    "# debt_to_equity_ratio = lambda debt_to_equity_ratio: (df['total_debt']/df['total_se'])\n",
    "# quick_ratio = lambda quick_ratio: (df['total_current_assets']-df['inventory']/df['total_current_liabilities'])\n",
    "# working_capital = lambda working_capital: (df['total_current_assets'] - df['total_current_liabilities'])\n",
    "# current_ratio = lambda current_ratio: (df['total_current_assets']/df['total_current_liabilities'])\n",
    "# capital_intensity = lambda capital_intensity: (df['total_assets']/df['net_revenue'])\n",
    "# equity_multiplier = lambda equity_multiplier: (df['total_assets']/df['total_se'])\n",
    "# short_term_debt_to_equity_ratio = lambda short_term_debt_to_equity_ratio: (df['short_term_debt']/df['total_se'])\n",
    "# st_debt_as_pct_of_total_debt = lambda st_debt_as_pct_of_total_debt: (df['short_term_debt']/df['total_liabilities'])\n",
    "# acid_test_ratio = lambda acid_test_ratio: (df['quick_assets_math']/df['total_current_liabilities'])\n",
    "# pre_tax_income_to_sales = lambda pre_tax_income_to_sales: (df['pretax_income_non']/df['net_revenue'])\n",
    "# pre_tax_return_on_assets = lambda pre_tax_return_on_assets: (df['pretax_income_non']/df['total_assets'])\n",
    "# pre_tax_return_on_common_equity = lambda pre_tax_return_on_common_equity: (df['pretax_income_non']/df['common_stock'])\n",
    "# operating_roa = lambda operating_roa: (df['operating_income']/df['total_assets'])\n",
    "# operating_profit_margin = lambda operating_profit_margin: (df['operating_income']/df['net_revenue'])\n",
    "# free_operating_cash_flow_to_debt = lambda free_operating_cash_flow_to_debt: (df['operating_cash_flow']-df['capex']/df['total_debt'])\n",
    "# discretionary_cash_flow_to_debt = lambda discretionary_cash_flow_to_debt: (df['operating_cash_flow']-df['accounts_payable']-df['debt_repayment']-df['dividends_paid']-df['interest_expense'])\n",
    "# operating_cash_flow_to_interest = lambda operating_cash_flow_to_interest: (df['operating_cash_flow'] + df['interest_expense'] + df['income_tax_expense']/df['interest_expense'])\n",
    "# operating_cash_flow_to_debt = lambda operating_cash_flow_to_debt: (df['operating_cash_flow'] + df['interest_expense'] + df['income_tax_expense']/df['total_liabilities'])\n",
    "# cash_flow_margin_ratio_formula = lambda cash_flow_margin_ratio_formula: (df['operating_cash_flow']/df['total_liabilities'])\n",
    "# cash_flow_to_debt = lambda cash_flow_to_debt: (df['operating_cash_flow']/df['total_debt'])\n",
    "# net_cash_flow_to_capital_expenditures = lambda net_cash_flow_to_capital_expenditures: (df['operating_cash_flow']/df['capex'])\n",
    "# cash_flow_to_revenue = lambda cash_flow_to_revenue: (df['operating_cash_flow']/df['net_revenue'])\n",
    "# cash_return_on_assets = lambda cash_return_on_assets: (df['operating_cash_flow']/df['total_assets'])\n",
    "# cash_return_on_equity = lambda cash_return_on_equity: (df['operating_cash_flow']/df['total_se'])\n",
    "# cash_to_income_ratio = lambda cash_to_income_ratio: (df['operating_cash_flow']/df['operating_income'])\n",
    "# cash_flow_per_share = lambda cash_flow_per_share: (df['operating_cash_flow']/df['shares_outstanding_non'])\n",
    "# debt_payment = lambda debt_payment: (df['operating_cash_flow']/df['debt_repayment'])\n",
    "# debt_coverage = lambda debt_coverage: (df['operating_cash_flow']/df['long_term_debt'])\n",
    "# cash_flow_from_operations_ratio = lambda cash_flow_from_operations_ratio: (df['operating_cash_flow']/df['total_current_liabilities'])\n",
    "# gross_profit_margin = lambda gross_profit_margin: (df['net_revenue'] - df['cost_of_sales']/df['net_revenue'])\n",
    "# receivables_turnover = lambda receivables_turnover: (df['net_revenue']/df['accounts_receivable'])\n",
    "# capital_turnover_ratio = lambda capital_turnover_ratio: (df['net_revenue']/df['working_capital_math'])\n",
    "# assets_turnover_ratio = lambda assets_turnover_ratio: (df['net_revenue']/df['total_assets'])\n",
    "# accounts_receivableturnover = lambda accounts_receivableturnover: (df['net_revenue']/df['accounts_receivable'])\n",
    "# operating_cash_flow_to_debt = lambda operating_cash_flow_to_debt: (df['net_revenue']/df['total_se'])\n",
    "# inventory_ratio = lambda inventory_ratio: (df['net_revenue']/df['inventory'])\n",
    "# return_on_investment = lambda return_on_investment: (df['net_income']+ df['interest_expense']/df['total_se'])\n",
    "# pretax_margin = lambda pretax_margin: (df['net_income'] - df['income_tax_expense']/df['net_revenue'])\n",
    "# income_to_net_worth_ratio = lambda income_to_net_worth_ratio: (df['net_income'] - df['deferred_income_tax']/df['shares_outstanding_non'])\n",
    "# return_on_assets_roa = lambda return_on_assets_roa: (df['net_income']/df['total_assets'])\n",
    "# roe = lambda roe: (df['net_income']/df['total_se'])\n",
    "# profit_margin = lambda profit_margin: (df['net_income']/df['net_revenue'])\n",
    "# earnings_per_share = lambda earnings_per_share: (df['net_income']/df['shares_outstanding_non'])\n",
    "# current_cash_debt_coverage = lambda current_cash_debt_coverage: (df['net_cash_by_operating_activities']/df['total_current_liabilities'])\n",
    "# cash_debt_coverage = lambda cash_debt_coverage: (df['net_cash_by_operating_activities']/df['total_liabilities'])\n",
    "# long_term_debt_ratio = lambda long_term_debt_ratio: (df['long_term_debt']/df['total_assets'])\n",
    "# long_term_debt_equity_ratio = lambda long_term_debt_equity_ratio: (df['long_term_debt']/df['total_se'])\n",
    "# lt_debt_as_pct_of_total_debt = lambda lt_debt_as_pct_of_total_debt: (df['long_term_debt']/df['total_liabilities'])\n",
    "# inventory_pct_of_revenue = lambda inventory_pct_of_revenue: (df['inventory']/df['net_revenue'])\n",
    "# intangibles_pct_of_book_value = lambda intangibles_pct_of_book_value: (df['goodwill_n_intangible_assets']/df['total_se'])\n",
    "# ffo_funds_from_operations_to_debt = lambda ffo_funds_from_operations_to_debt: (df['ffo_math']/df['total_debt'])\n",
    "# operating_margin = lambda operating_margin: (df['ebitda_non']-df['d_a']/df['net_revenue'])\n",
    "# cash_coverage_ratio = lambda cash_coverage_ratio: (df['ebitda_non']/df['interest_expense'])\n",
    "# ebitda_per_share = lambda ebitda_per_share: (df['ebitda_non']/df['shares_outstanding_non'])\n",
    "# ebitda_interest_coverage = lambda ebitda_interest_coverage: (df['ebitda_non']/df['interest_expense'])\n",
    "# ebitda_margin = lambda ebitda_margin: (df['ebitda_non']/df['net_revenue'])\n",
    "# net_margin_profit_margin = lambda net_margin_profit_margin: (df['ebitda_margin']/df['net_revenue'])\n",
    "# return_on_capital_employed_ratio = lambda return_on_capital_employed_ratio: (df['ebit_math']/df['total_assets'] - df['total_current_liabilities'])\n",
    "# debt_service_ratio = lambda debt_service_ratio: (df['ebit_math']/df['interest_expense'])\n",
    "# return_on_capital = lambda return_on_capital: (df['ebit_math']/df['total_assets'])\n",
    "# dividend_yield = lambda dividend_yield: (df['dividends_paid']/df['shares_outstanding_non'])\n",
    "# dividend_payout_ratio = lambda dividend_payout_ratio: (df['dividends_paid']/df['net_income'])\n",
    "# dividends_per_share = lambda dividends_per_share: (df['dividends_paid']/df['shares_outstanding_non'])\n",
    "# inventory_turnover = lambda inventory_turnover: (df['cost_of_sales']/df['inventory'])\n",
    "# cash_ratio = lambda cash_ratio: (df['cash_non']/df['total_current_liabilities'])\n",
    "# cash_flow_roa = lambda cash_flow_roa: (df['operating_cash_flow']/df['total_assets'])\n",
    "# average_collection_period = lambda average_collection_period: (df['accounts_receivable']/df['net_revenue'])\n",
    "# number_of_days_of_receivables = lambda number_of_days_of_receivables: (df['accounts_receivable']/df['inventory'])\n",
    "# average_days_payables_outstanding = lambda average_days_payables_outstanding: (df['accounts_payable']/df['cost_of_sales'])\n",
    "# days_sales_in_payables = lambda days_sales_in_payables: (df['accounts_payable']/df['total_opex'])"
   ]
  },
  {
   "cell_type": "code",
   "execution_count": 27,
   "metadata": {
    "ExecuteTime": {
     "end_time": "2020-12-18T18:46:49.070888Z",
     "start_time": "2020-12-18T18:46:49.056878Z"
    }
   },
   "outputs": [],
   "source": [
    "# ratios_df = pd.read_csv(\"../reference_data/ratios.csv\")\n",
    "# ratios_df = ratios_df.dropna(subset = [\"Name\"])\n",
    "# fin_statements_matching[fin_statements_matching['URL']==\"{}\".format(url_fin_metric)]\n",
    "# fin_metric_ratio_variable_name = list(matching_row['Python Variable Name'])[0]\n",
    "# # ratios_df = pd.read_csv(\"../reference_data/ratios.csv\")"
   ]
  },
  {
   "cell_type": "code",
   "execution_count": 15,
   "metadata": {
    "ExecuteTime": {
     "end_time": "2020-12-20T02:30:51.923993Z",
     "start_time": "2020-12-20T02:30:51.905993Z"
    }
   },
   "outputs": [],
   "source": [
    "df['year'] = df['filing_date'].apply(lambda x: str(x)[0:4])\n",
    "year_df = df.groupby(\"year\").sum()"
   ]
  },
  {
   "cell_type": "code",
   "execution_count": 16,
   "metadata": {
    "ExecuteTime": {
     "end_time": "2020-12-20T02:30:54.270285Z",
     "start_time": "2020-12-20T02:30:54.250284Z"
    }
   },
   "outputs": [],
   "source": [
    "year_df = df.groupby(\"year\").sum()"
   ]
  },
  {
   "cell_type": "code",
   "execution_count": 107,
   "metadata": {
    "ExecuteTime": {
     "end_time": "2020-12-20T20:02:56.680236Z",
     "start_time": "2020-12-20T20:02:56.663239Z"
    },
    "run_control": {
     "marked": true
    }
   },
   "outputs": [],
   "source": [
    "# metric_name = url_to_metric_map['common-stock-repurchased']#['net-working-capital-ratio']\n",
    "# metric_to_formula_map(df,metric_name)#.items()"
   ]
  },
  {
   "cell_type": "code",
   "execution_count": 32,
   "metadata": {
    "ExecuteTime": {
     "end_time": "2020-12-18T09:38:35.320898Z",
     "start_time": "2020-12-18T09:38:35.306898Z"
    }
   },
   "outputs": [
    {
     "data": {
      "text/plain": [
       "'net_working_capital_ratio'"
      ]
     },
     "execution_count": 32,
     "metadata": {},
     "output_type": "execute_result"
    }
   ],
   "source": [
    "url_to_metric_map['net-working-capital-ratio']"
   ]
  },
  {
   "cell_type": "code",
   "execution_count": 33,
   "metadata": {
    "ExecuteTime": {
     "end_time": "2020-12-18T09:38:35.725897Z",
     "start_time": "2020-12-18T09:38:35.712896Z"
    },
    "code_folding": [],
    "run_control": {
     "marked": true
    }
   },
   "outputs": [],
   "source": [
    "# net_working_capital_ratio[url_to_metric_map['net-working-capital-ratio']]"
   ]
  },
  {
   "cell_type": "code",
   "execution_count": 21,
   "metadata": {
    "ExecuteTime": {
     "end_time": "2020-12-18T18:53:44.752672Z",
     "start_time": "2020-12-18T18:53:44.746669Z"
    }
   },
   "outputs": [],
   "source": [
    "# url_fin_metric = 'cash-and-cash-equivalents'\n",
    "url_fin_metric = 'net-working-capital-ratio'\n",
    "# fin_statements_matching = pd.read_csv(\"../reference_data/Financial_Statements_Reference_Matching.csv\")#, encoding='cp1252')"
   ]
  },
  {
   "cell_type": "code",
   "execution_count": 24,
   "metadata": {
    "ExecuteTime": {
     "end_time": "2020-12-18T18:54:00.737700Z",
     "start_time": "2020-12-18T18:54:00.711700Z"
    }
   },
   "outputs": [],
   "source": [
    "# url_fin_metric = 'net-working-capital-ratio'\n",
    "\n",
    "fin_metric_title = url_to_name_map[url_fin_metric]\n",
    "fin_metric_name = url_fin_metric\n",
    "metric_history = metric_to_formula_map(df,metric_name)\n",
    "sorted_metric = metric_history.sort_values(ascending=True)"
   ]
  },
  {
   "cell_type": "code",
   "execution_count": 25,
   "metadata": {
    "ExecuteTime": {
     "end_time": "2020-12-18T18:54:23.410815Z",
     "start_time": "2020-12-18T18:54:23.400815Z"
    }
   },
   "outputs": [],
   "source": [
    "df['metric history'] = metric_history"
   ]
  },
  {
   "cell_type": "code",
   "execution_count": 29,
   "metadata": {
    "ExecuteTime": {
     "end_time": "2020-12-18T19:03:45.729253Z",
     "start_time": "2020-12-18T19:03:45.712252Z"
    }
   },
   "outputs": [],
   "source": [
    "df['metric history'] = metric_history\n",
    "df['period'] = df['filing_date'].apply(lambda x: str(x)[0:4])\n",
    "year_df = df.groupby(\"year\").sum()"
   ]
  },
  {
   "cell_type": "code",
   "execution_count": 210,
   "metadata": {
    "ExecuteTime": {
     "end_time": "2020-12-21T06:13:58.723968Z",
     "start_time": "2020-12-21T06:13:58.675970Z"
    },
    "scrolled": true
   },
   "outputs": [],
   "source": [
    "# jcp_bs = pd.read_csv(\"D:/Cloud/rclone/OneDrive/Web/TenDollarData/Charts_TenDollarData/financial_statements/data/Historical Financial Statements/Consumer Cyclical/quarter/Balance Sheet/quarter~JCP~balance_sheet.csv\")\n",
    "df = pd.read_csv(\"D:/Cloud/rclone/OneDrive/Web/TenDollarData/Charts_TenDollarData/financial_statements/data/Historical Financial Statements/Consumer Cyclical/quarter/Income Statement/quarter~JCP~income_statement.csv\")\n",
    "year_df = pd.read_csv(\"D:/Cloud/rclone/OneDrive/Web/TenDollarData/Charts_TenDollarData/financial_statements/data/Historical Financial Statements/Consumer Cyclical/year/Income Statement/year~JCP~income_statement.csv\")\n",
    "# jcp_bs = pd.read_csv(\"D:/Cloud/rclone/OneDrive/Web/TenDollarData/Charts_TenDollarData/financial_statements/data/Historical Financial Statements/Consumer Cyclical/quarter/Cash Flow Statement/quarter~JCP~cash_flow_statement.csv\")\n",
    "# jcp_bs = pd.read_csv(\"D:/Cloud/rclone/OneDrive/Web/TenDollarData/Charts_TenDollarData/financial_statements/data/Historical Financial Statements/Technology/quarter/Income Statement/quarter~AAPL~income_statement.csv\")\n",
    "# jcp_bs = pd.read_csv(\"D:/Cloud/rclone/OneDrive/Web/TenDollarData/Charts_TenDollarData/financial_statements/data/Historical Financial Statements/Consumer Cyclical/quarter/Cash Flow Statement/quarter~JAX~cash_flow_statement.csv\")\n",
    "# jcp_bs\n",
    "# df = pd.read_csv(\"D:/Cloud/rclone/OneDrive/Web/TenDollarData/Charts_TenDollarData/financial_statements/data/Historical Financial Statements/Technology/quarter/Cash Flow Statement/quarter~AAPL~cash_flow_statement.csv\")"
   ]
  },
  {
   "cell_type": "code",
   "execution_count": 216,
   "metadata": {
    "ExecuteTime": {
     "end_time": "2020-12-21T06:14:58.705154Z",
     "start_time": "2020-12-21T06:14:58.693153Z"
    }
   },
   "outputs": [
    {
     "data": {
      "text/plain": [
       "array([1577836800000, 1577836800000, 1546300800000, 1546300800000,\n",
       "       1546300800000, 1546300800000, 1514764800000, 1514764800000,\n",
       "       1514764800000, 1514764800000, 1483228800000, 1483228800000,\n",
       "       1483228800000, 1483228800000, 1451606400000, 1451606400000,\n",
       "       1451606400000, 1451606400000, 1420070400000, 1420070400000,\n",
       "       1420070400000, 1420070400000, 1388534400000, 1388534400000,\n",
       "       1388534400000, 1388534400000, 1356998400000, 1356998400000,\n",
       "       1356998400000, 1356998400000, 1325376000000, 1325376000000,\n",
       "       1325376000000, 1325376000000, 1293840000000, 1293840000000,\n",
       "       1293840000000, 1293840000000, 1262304000000, 1262304000000,\n",
       "       1262304000000, 1262304000000, 1230768000000, 1230768000000,\n",
       "       1230768000000, 1230768000000, 1199145600000, 1199145600000,\n",
       "       1199145600000, 1199145600000, 1167609600000, 1167609600000,\n",
       "       1167609600000, 1167609600000, 1167609600000, 1136073600000,\n",
       "       1136073600000, 1136073600000, 1136073600000, 1104537600000,\n",
       "       1104537600000, 1104537600000, 1104537600000, 1072915200000,\n",
       "       1072915200000, 1072915200000, 1072915200000, 1041379200000,\n",
       "       1041379200000, 1041379200000, 1041379200000, 1009843200000,\n",
       "       1009843200000, 1009843200000], dtype=int64)"
      ]
     },
     "execution_count": 216,
     "metadata": {},
     "output_type": "execute_result"
    }
   ],
   "source": [
    "pd.to_datetime(year_df.index.apply(lambda x: x[0:4])).values.astype(np.int64) // 10 ** 6"
   ]
  },
  {
   "cell_type": "code",
   "execution_count": 171,
   "metadata": {
    "ExecuteTime": {
     "end_time": "2020-12-20T23:00:13.174748Z",
     "start_time": "2020-12-20T23:00:13.156746Z"
    },
    "code_folding": [
     0
    ],
    "run_control": {
     "marked": true
    }
   },
   "outputs": [],
   "source": [
    "metric_to_list_variables_map = {\n",
    "        'net_working_capital_ratio':['working_capital_math','total_assets',],\n",
    "        'book_value_per_share':['total_se','shares_outstanding_non',],\n",
    "        'total_equity_to_total_assets':['total_se','total_assets',],\n",
    "        'operating_cost_ratio':['total_opex','d_n_a','net_revenue',],\n",
    "        'percentage_of_debt_to_asset_formula':['total_non_current_liabilities','total_assets',],\n",
    "\n",
    "        'total_liabilities_pct_of_total_assets':['total_liabilities','total_assets',],\n",
    "        'debt_to_assets_ratio':['total_debt','total_assets',],\n",
    "        'debt_to_equity_ratio':['total_debt','total_se',],\n",
    "        'quick_ratio':['total_current_liabilities','total_assets'],\n",
    "        'working_capital':['total_current_assets','total_current_liabilities',],\n",
    "        'current_ratio':['total_current_liabilities','total_assets','inventory'],\n",
    "        'capital_intensity':['total_assets','net_revenue',],\n",
    "        'equity_multiplier':['total_assets','total_se',],\n",
    "        'short_term_debt_to_equity_ratio':['short_term_debt','total_se',],\n",
    "        'st_debt_as_pct_of_total_debt':['short_term_debt','total_liabilities',],\n",
    "        'acid_test_ratio':['quick_assets_math','total_current_liabilities',],\n",
    "        'pre_tax_income_to_sales':['pretax_income_non','net_revenue',],\n",
    "        'pre_tax_return_on_assets':['pretax_income_non','total_assets',],\n",
    "        'pre_tax_return_on_common_equity':['pretax_income_non','common_equity',],\n",
    "        'operating_roa':['operating_income','total_assets',],\n",
    "        'operating_profit_margin':['operating_income','net_revenue',],\n",
    "        'free_operating_cash_flow_to_debt':['operating_cash_flow','capex','total_debt',],\n",
    "        'discretionary_cash_flow_to_debt':['operating_cash_flow','accounts_payable','debt_repayment','dividends_paid','interest_expense',],\n",
    "        'operating_cash_flow_to_interest':['operating_cash_flow','interest_expense','income_tax_expense','interest_expense',],\n",
    "        'operating_cash_flow_to_debt':['operating_cash_flow','interest_expense','income_tax_expense','total_liabilities',],\n",
    "        'cash_flow_margin_ratio_formula':['operating_cash_flow','total_liabilities',],\n",
    "        'cash_flow_to_debt':['operating_cash_flow','total_debt',],\n",
    "        'net_cash_flow_to_capital_expenditures':['operating_cash_flow','capex',],\n",
    "        'cash_flow_to_revenue':['operating_cash_flow','net_revenue',],\n",
    "        'cash_return_on_assets':['operating_cash_flow','total_assets',],\n",
    "        'cash_return_on_equity':['operating_cash_flow','total_se',],\n",
    "        'cash_to_income_ratio':['operating_cash_flow','operating_income',],\n",
    "        'cash_flow_per_share':['operating_cash_flow','shares_outstanding_non',],\n",
    "        'debt_payment':['operating_cash_flow','debt_repayment',],\n",
    "        'debt_coverage':['operating_cash_flow','long_term_debt',],\n",
    "        'cash_flow_from_operations_ratio':['operating_cash_flow','total_current_liabilities',],\n",
    "        'gross_profit_margin':['net_revenue','cost_of_sales','net_revenue',],\n",
    "        'rece​ivables_turnover':['net_revenue','accounts_receivable',],\n",
    "        'capital_turnover_ratio':['net_revenue','working_capital_math',],\n",
    "        'assets_turnover_ratio':['net_revenue','total_assets',],\n",
    "        'accounts_receivableturnover':['net_revenue','accounts_receivable',],\n",
    "        'operating_cash_flow_to_debt':['net_revenue','total_se',],\n",
    "        'inventory_ratio':['net_revenue','inventory',],\n",
    "        'return_on_investment':['net_income','interest_expense','total_se','long_term_debt',],\n",
    "\n",
    "        'pretax_margin':['net_income','income_tax_expense','net_revenue',],\n",
    "        'income_to_net_worth_ratio':['net_income','deferred_income_tax','shares_outstanding_non',],\n",
    "        'return_on_assets_roa':['net_income','total_assets',],\n",
    "        'roe':['net_income','total_se',],\n",
    "        'profit_margin':['net_income','net_revenue',],\n",
    "        'earnings_per_share':['net_income','shares_outstanding_non',],\n",
    "        'current_cash_debt_coverage':['net_cash_by_operating_activities','total_current_liabilities',],\n",
    "        'cash_debt_coverage':['net_cash_by_operating_activities','total_liabilities',],\n",
    "        'long_term_debt_ratio':['long_term_debt','total_assets',],\n",
    "        'long_term_debt_equity_ratio':['long_term_debt','total_se',],\n",
    "        'lt_debt_as_pct_of_total_debt':['long_term_debt','total_liabilities',],\n",
    "        'inventory_pct_of_revenue':['inventory','net_revenue',],\n",
    "        'intangibles_pct_of_book_value':['goodwill_n_intangible_assets','total_se',],\n",
    "        'ffo_funds_from_operations_to_debt':['ffo_math','total_debt',],\n",
    "        'operating_margin':['ebitda_non','d_a','net_revenue',],\n",
    "        'cash_coverage_ratio':['ebitda_non','interest_expense',],\n",
    "        'ebitda_per_share':['ebitda_non','shares_outstanding_non',],\n",
    "        'ebitda_interest_coverage':['ebitda_non','interest_expense',],\n",
    "        'ebitda_margin':['ebitda_non','net_revenue',],\n",
    "        'net_margin_profit_margin':['ebitda_margin','net_revenue',],\n",
    "        'return_on_capital_employed_ratio':['ebit_math','total_assets','total_current_liabilities',],\n",
    "        'debt_service_ratio':['ebit_math','interest_expense',],\n",
    "        'return_on_capital':['ebit_math','total_assets',],\n",
    "        'dividend_yield':['dividends_paid','price_market','shares_outstanding_non',],\n",
    "        'dividend_payout_ratio':['dividends_paid','net_income',],\n",
    "        'dividends_per_share':['dividends_paid','shares_outstanding_non',],\n",
    "        'inventory_turnover':['cost_of_sales','inventory',],\n",
    "        'cash_ratio':['cash_non','total_current_liabilities',],\n",
    "        'cash_flow_roa':['operating_cash_flow','total_assets',],\n",
    "        'average_collection_period':['accounts_receivable','net_revenue',],\n",
    "        'number_of_days_of_receivables':['accounts_receivable','inventory',],\n",
    "        'average_days_payables_outstanding':['accounts_payable','cost_of_sales',],\n",
    "        'days_sales_in_payables':['accounts_payable','total_opex',],\n",
    "    }"
   ]
  },
  {
   "cell_type": "code",
   "execution_count": 172,
   "metadata": {
    "ExecuteTime": {
     "end_time": "2020-12-20T23:00:23.201583Z",
     "start_time": "2020-12-20T23:00:23.044585Z"
    }
   },
   "outputs": [],
   "source": [
    "fin_dir = [\"Income Statement\",\"Balance Sheet\",\"Cash Flow Statement\"]\n",
    "# url_symbol = \"TSLA\"\n",
    "url_symbol = \"JCP\" # \"AAPL\"\n",
    "\n",
    "# url_fin_metric = 'current-ratio'\n",
    "url_fin_metric = \"operating-cost-ratio\" # 'discretionary-cash-flow-to-debt'\n",
    "fin_df_list = []\n",
    "for x in fin_dir:\n",
    "    fin_file = glob.glob(\"../Charts_TenDollarData/financial_statements/data/Historical Financial Statements/*/quarter/{}/*~{}~*\".format(x, url_symbol.upper()))[-1]\n",
    "    fin_df = pd.read_csv(fin_file)\n",
    "    fin_df[\"Year\"] = fin_df[\"date\"].apply(lambda x: x[0:4])\n",
    "    fin_df[\"QQ-YYYY\"] = fin_df[\"period\"]+\"-\"+fin_df[\"date\"].apply(lambda x: x[0:4])#[\"QQ-YYYY\"]\n",
    "    fin_df_list.append(fin_df)\n",
    "# df = pd.concat(fin_df_list,ignore_index=True)#,axis = 1)\n",
    "# df = pd.concat(fin_df_list, join='outer', axis=1)#.fillna(nan_value)\n",
    "\n",
    "# df = pd.concat(fin_df_list,ignore_index=True)\n",
    "df_merge_is_bs = pd.merge(fin_df_list[0],fin_df_list[1],how=\"inner\", on=\"QQ-YYYY\")\n",
    "df_merge = pd.merge(df_merge_is_bs,fin_df_list[2],how=\"inner\", on=\"QQ-YYYY\")\n",
    "df_merge = df_merge[fin_statement_raw_names]\n",
    "\n",
    "df_merge.columns = fin_statement_renamed_cols\n",
    "df = df_merge\n",
    "metric_name = url_to_metric_map[\"{}\".format(url_fin_metric)]\n",
    "fin_metric_title = url_to_name_map[url_fin_metric] \n",
    "fin_metric_name = url_to_var_name_map[url_fin_metric]\n",
    "fin_metric_vars = metric_to_list_variables_map[fin_metric_name]\n",
    "\n",
    "df['ffo_math']=df['net_income'] + df['d_n_a'] + df['sales_maturities_of_investments'] + df['purchase_of_investments'] + df['investments_in_pp_n_e'] + df['acquisitions_net']\n",
    "df['book_value_math']=df['total_assets'].dropna()-df['total_liabilities'].dropna()\n",
    "df['ebit_math']=df['ebitda_non'] - df['d_n_a']\n",
    "df['working_capital_math']= df['total_current_assets'] - df['total_current_liabilities']\n",
    "\n",
    "df['quick_assets_math']=df['cash_non']+df['short_term_investments']+df['accounts_receivable']\n",
    "df['quick_ratio_math']=df['total_current_assets'] - df['inventory']\n",
    "# df['other_current_assets'] * df['total_current_assets']\n",
    "# df['g_n_a']+df['s_n_m']"
   ]
  },
  {
   "cell_type": "code",
   "execution_count": 92,
   "metadata": {
    "ExecuteTime": {
     "end_time": "2020-12-20T18:43:01.800076Z",
     "start_time": "2020-12-20T18:43:01.792079Z"
    },
    "run_control": {
     "marked": false
    }
   },
   "outputs": [
    {
     "data": {
      "text/plain": [
       "18"
      ]
     },
     "execution_count": 92,
     "metadata": {},
     "output_type": "execute_result"
    }
   ],
   "source": [
    "if len(df) == len(df[df['revenue'] == 0]):\n",
    "    return 404"
   ]
  },
  {
   "cell_type": "code",
   "execution_count": 96,
   "metadata": {
    "ExecuteTime": {
     "end_time": "2020-12-20T19:53:05.307015Z",
     "start_time": "2020-12-20T19:53:05.282015Z"
    },
    "code_folding": [
     0
    ]
   },
   "outputs": [],
   "source": [
    "# # hide\n",
    "# filter_pos_neg = list(fin_statements_matching[fin_statements_matching['Name']==\"revenue\"]['positive_negative'])[0]\n",
    "# filter_pos_neg_list = ['positive','all', 'both', 'negative', 'zero_or_neg']\n",
    "\n",
    "\n",
    "# if \"{}\".format(filter_pos_neg) == \"positive\": #in filter_pos_neg_list:\n",
    "#     nan_rows = df[(df['revenue']<0)]\n",
    "#     nan_rows['revenue'] = np.nan\n",
    "#     df[(df['revenue']<0)] = nan_rows\n",
    "# #     df.loc[df['revenue'] < 0, 0:] = np.nan\n",
    "# #     df.loc[df['revenue'] < 0, 0:] = np.nan\n",
    "# #     df = df[~(df['revenue']<0)]\n",
    "# elif \"{}\".format(filter_pos_neg) == \"neg\": #in filter_pos_neg_list:\n",
    "#     nan_rows = df[(df['revenue']>=0)]\n",
    "#     nan_rows['revenue'] = np.nan\n",
    "#     df[(df['revenue']>=0)] = nan_rows\n",
    "# #     df.loc[df['revenue'] > 0, 0:] = np.nan\n",
    "# #     df = df[~(df['revenue']>=0)]\n",
    "# elif \"{}\".format(filter_pos_neg) == \"zero_or_neg\":\n",
    "#     nan_rows = df[(df['revenue']>0)]\n",
    "#     nan_rows['revenue'] = np.nan\n",
    "#     df[(df['revenue']>0)] = nan_rows\n",
    "# #     df.loc[df['revenue'] > 0, 0:] = np.nan\n",
    "# #     df = df[~(df['revenue']>0)]\n",
    "# elif \"{}\".format(filter_pos_neg) == \"both\":\n",
    "#     nan_rows = df[(df['revenue']==0)]\n",
    "#     nan_rows['revenue'] = np.nan\n",
    "#     df[(df['revenue']==0)] = nan_rows\n",
    "# #     df.loc[df['revenue'] == 0, 0:] = np.nan\n",
    "# #     df = df[~(df['revenue']==0)]\n",
    "# elif \"{}\".format(filter_pos_neg) == \"all\":\n",
    "#     pass\n",
    "# else:\n",
    "#     pass\n",
    "# df['revenue'] = df['revenue'].fillna(df['revenue'].rolling(4,center=True,min_periods=1).mean())\n",
    "# # df"
   ]
  },
  {
   "cell_type": "code",
   "execution_count": 165,
   "metadata": {
    "ExecuteTime": {
     "end_time": "2020-12-20T20:39:45.652877Z",
     "start_time": "2020-12-20T20:39:45.644880Z"
    }
   },
   "outputs": [
    {
     "data": {
      "text/plain": [
       "['total_current_liabilities', 'total_assets', 'inventory']"
      ]
     },
     "execution_count": 165,
     "metadata": {},
     "output_type": "execute_result"
    }
   ],
   "source": [
    "fin_metric_varsz"
   ]
  },
  {
   "cell_type": "code",
   "execution_count": 173,
   "metadata": {
    "ExecuteTime": {
     "end_time": "2020-12-20T23:00:30.538078Z",
     "start_time": "2020-12-20T23:00:30.442555Z"
    }
   },
   "outputs": [
    {
     "name": "stderr",
     "output_type": "stream",
     "text": [
      "<ipython-input-173-44e185a7fd55>:6: SettingWithCopyWarning: \n",
      "A value is trying to be set on a copy of a slice from a DataFrame.\n",
      "Try using .loc[row_indexer,col_indexer] = value instead\n",
      "\n",
      "See the caveats in the documentation: https://pandas.pydata.org/pandas-docs/stable/user_guide/indexing.html#returning-a-view-versus-a-copy\n",
      "  nan_rows['{}'.format(x)] = np.nan\n",
      "<ipython-input-173-44e185a7fd55>:6: SettingWithCopyWarning: \n",
      "A value is trying to be set on a copy of a slice from a DataFrame.\n",
      "Try using .loc[row_indexer,col_indexer] = value instead\n",
      "\n",
      "See the caveats in the documentation: https://pandas.pydata.org/pandas-docs/stable/user_guide/indexing.html#returning-a-view-versus-a-copy\n",
      "  nan_rows['{}'.format(x)] = np.nan\n",
      "<ipython-input-173-44e185a7fd55>:6: SettingWithCopyWarning: \n",
      "A value is trying to be set on a copy of a slice from a DataFrame.\n",
      "Try using .loc[row_indexer,col_indexer] = value instead\n",
      "\n",
      "See the caveats in the documentation: https://pandas.pydata.org/pandas-docs/stable/user_guide/indexing.html#returning-a-view-versus-a-copy\n",
      "  nan_rows['{}'.format(x)] = np.nan\n"
     ]
    }
   ],
   "source": [
    "filter_pos_neg_list = ['positive','all', 'both', 'negative', 'zero_or_neg']\n",
    "for n,x in enumerate(fin_metric_vars):\n",
    "    filter_pos_neg = list(fin_statements_matching[fin_statements_matching['Python Variable Name']==\"{}\".format(x)]['positive_negative'])[0]\n",
    "    if \"{}\".format(filter_pos_neg) == \"positive\": #in filter_pos_neg_list:\n",
    "        nan_rows = df[(df[\"{}\".format(x)]<0)]\n",
    "        nan_rows['{}'.format(x)] = np.nan\n",
    "        df[(df['{}'.format(x)]<0)] = nan_rows\n",
    "    elif \"{}\".format(filter_pos_neg) == \"neg\": #in filter_pos_neg_list:\n",
    "        nan_rows = df[(df['{}'.format(x)]>=0)]\n",
    "        nan_rows['{}'.format(x)] = np.nan\n",
    "        df[(df['{}'.format(x)]>=0)] = nan_rows\n",
    "    elif \"{}\".format(filter_pos_neg) == \"zero_or_neg\":\n",
    "        nan_rows = df[(df['{}'.format(x)]>0)]\n",
    "        nan_rows['{}'.format(x)] = np.nan\n",
    "        df[(df['{}'.format(x)]>0)] = nan_rows\n",
    "    elif \"{}\".format(filter_pos_neg) == \"both\":\n",
    "        nan_rows = df[(df['{}'.format(x)]==0)]\n",
    "        nan_rows['{}'.format(x)] = np.nan\n",
    "        df[(df['{}'.format(x)]==0)] = nan_rows\n",
    "    elif \"{}\".format(filter_pos_neg) == \"all\":\n",
    "        pass\n",
    "    else:\n",
    "        pass\n",
    "#     df['revenue'] = df['revenue'].fillna(df['revenue'].rolling(4,center=True,min_periods=1).mean())\n",
    "    # df"
   ]
  },
  {
   "cell_type": "code",
   "execution_count": 181,
   "metadata": {
    "ExecuteTime": {
     "end_time": "2020-12-20T23:22:47.205288Z",
     "start_time": "2020-12-20T23:22:47.185288Z"
    }
   },
   "outputs": [],
   "source": [
    "df['{}'.format(x)] = df['{}'.format(x)].fillna(df['{}'.format(x)].rolling(1000,center=True,min_periods=1).mean())"
   ]
  },
  {
   "cell_type": "code",
   "execution_count": 198,
   "metadata": {
    "ExecuteTime": {
     "end_time": "2020-12-21T00:01:05.288992Z",
     "start_time": "2020-12-21T00:01:05.277996Z"
    }
   },
   "outputs": [],
   "source": [
    "pct_chg = df['net_revenue']/df['net_revenue'].shift(-4)\n",
    "pct_chg = pct_change.apply(lambda x: \"{}%\".format(round((x-1)*100,1)))"
   ]
  },
  {
   "cell_type": "code",
   "execution_count": 187,
   "metadata": {
    "ExecuteTime": {
     "end_time": "2020-12-20T23:56:22.839041Z",
     "start_time": "2020-12-20T23:56:22.817042Z"
    }
   },
   "outputs": [
    {
     "data": {
      "text/plain": [
       "79         NaN\n",
       "78         NaN\n",
       "77         NaN\n",
       "76         NaN\n",
       "75   -0.519798\n",
       "        ...   \n",
       "4    -0.043429\n",
       "3    -0.074231\n",
       "2    -0.085254\n",
       "1    -0.077390\n",
       "0     0.618153\n",
       "Name: net_revenue, Length: 80, dtype: float64"
      ]
     },
     "execution_count": 187,
     "metadata": {},
     "output_type": "execute_result"
    }
   ],
   "source": [
    "df['net_revenue'][::-1].pct_change(periods=4)"
   ]
  },
  {
   "cell_type": "code",
   "execution_count": null,
   "metadata": {},
   "outputs": [],
   "source": [
    "df['revenue'] = df['revenue'].fillna(df['revenue'].rolling(4,center=True,min_periods=1).mean())\n",
    "\n",
    "if df['revenue'][0]>=0 and (len(df['revenue'])) - df['revenue'].lt(0).sum() == 1:\n",
    "    df.loc[df['revenue'] > 0, 0:] = np.nan\n",
    "#     jcp_bs.replace()\n",
    "elif df['revenue'][0]<=0 and (len(df['revenue'])) - df['revenue'].gt(0).sum()==1:\n",
    "    df.loc[df['revenue']<0, 'revenue'] = np.nan\n",
    "else:\n",
    "    print(\"passed\")"
   ]
  },
  {
   "cell_type": "code",
   "execution_count": 49,
   "metadata": {
    "ExecuteTime": {
     "end_time": "2020-12-20T03:27:41.660565Z",
     "start_time": "2020-12-20T03:27:41.653557Z"
    }
   },
   "outputs": [
    {
     "name": "stdout",
     "output_type": "stream",
     "text": [
      "dict_keys(['-', 'positive', 'all', 'both', 'negative', 'zero_or_neg', 'zero_or_pos', nan])\n",
      "dict_values([17, 46, 15, 27, 2, 6, 1, 2])\n"
     ]
    }
   ],
   "source": [
    "fin_statements_matching['positive_negative'].unique()\n",
    "\n",
    "from collections import Counter\n",
    "\n",
    "words = list(fin_statements_matching['positive_negative'])#[0]\n",
    "\n",
    "print(Counter(words).keys())\n",
    "print(Counter(words).values()) # counts the elements' frequency"
   ]
  },
  {
   "cell_type": "code",
   "execution_count": 18,
   "metadata": {
    "ExecuteTime": {
     "end_time": "2020-12-20T03:15:35.213117Z",
     "start_time": "2020-12-20T03:15:35.198119Z"
    }
   },
   "outputs": [],
   "source": [
    "# important\n",
    "# jcp_bs['otherFinancingActivities'][::-1].values.searchsorted(0, side='right')\n",
    "# list(jcp_bs['costAndExpenses'].pct_change())\n",
    "# list(jcp_bs['costAndExpenses'])"
   ]
  },
  {
   "cell_type": "code",
   "execution_count": 50,
   "metadata": {
    "ExecuteTime": {
     "end_time": "2020-12-20T04:30:23.666568Z",
     "start_time": "2020-12-20T04:30:23.654525Z"
    }
   },
   "outputs": [],
   "source": [
    "early_missing_periods = jcp_bs[::-1]['commonStockRepurchased'].ne(0).idxmax()\n",
    "jcp_bs = jcp_bs[0:early_missing_periods+1]"
   ]
  },
  {
   "cell_type": "code",
   "execution_count": 53,
   "metadata": {
    "ExecuteTime": {
     "end_time": "2020-12-20T04:38:27.202633Z",
     "start_time": "2020-12-20T04:38:27.199624Z"
    }
   },
   "outputs": [],
   "source": [
    "# jcp_bs.loc[jcp_bs.commonStockRepurchased>0].iloc[[0,]].index[0]"
   ]
  },
  {
   "cell_type": "code",
   "execution_count": 52,
   "metadata": {
    "ExecuteTime": {
     "end_time": "2020-12-20T04:38:23.829767Z",
     "start_time": "2020-12-20T04:38:23.815242Z"
    }
   },
   "outputs": [],
   "source": [
    "# jcp_bs.loc[(jcp_bs.commonStockRepurchased>3).groupby(jcp_bs.symbol).idxmax]"
   ]
  },
  {
   "cell_type": "code",
   "execution_count": 48,
   "metadata": {
    "ExecuteTime": {
     "end_time": "2020-12-20T02:54:33.067386Z",
     "start_time": "2020-12-20T02:54:33.049387Z"
    }
   },
   "outputs": [],
   "source": [
    "\n",
    "ignore_periods = jcp_bs['commonStockRepurchased'][::-1].values.searchsorted(0, side='right')\n",
    "df = jcp_bs[0:ignore_periods]"
   ]
  },
  {
   "cell_type": "code",
   "execution_count": 150,
   "metadata": {
    "ExecuteTime": {
     "end_time": "2020-12-18T21:25:34.363494Z",
     "start_time": "2020-12-18T21:25:34.350493Z"
    }
   },
   "outputs": [],
   "source": [
    "# jcp_bs['revenue']= \n",
    "# jcp_bs['revenue'].fillna(pd.rolling_mean(input_data_frame[var_list], 6, min_periods=1))\n",
    "# jcp_bs['revenue'].fillna(pd.rolling(4,center=True,min_periods=1).mean((input_data_frame[var_list], 6, min_periods=1)))\n",
    "# jcp_bs['revenue'].fillna(jcp_bs['revenue'].rolling(4, min_periods=1, center=True))\n",
    "jcp_bs['revenue'] = jcp_bs['revenue'].fillna(jcp_bs['revenue'].rolling(4,center=True,min_periods=1).mean())\n",
    "jcp_bs['revenue'] = jcp_bs['revenue'].replace(np.NaN, 0)"
   ]
  },
  {
   "cell_type": "code",
   "execution_count": 68,
   "metadata": {
    "ExecuteTime": {
     "end_time": "2020-12-18T19:56:48.623259Z",
     "start_time": "2020-12-18T19:56:48.605259Z"
    }
   },
   "outputs": [],
   "source": [
    "no_null_jcp = jcp_bs[~jcp_bs['retainedEarnings'].isnull()]\n",
    "no_neg_jcp = no_null_jcp[~(no_null_jcp['retainedEarnings']<0)]\n",
    "no_pos_jcp = no_neg_jcp[~(no_neg_jcp['retainedEarnings']>=0)]"
   ]
  },
  {
   "cell_type": "code",
   "execution_count": 116,
   "metadata": {
    "ExecuteTime": {
     "end_time": "2020-12-19T20:06:59.363398Z",
     "start_time": "2020-12-19T20:06:59.336879Z"
    }
   },
   "outputs": [
    {
     "data": {
      "text/html": [
       "<div>\n",
       "<style scoped>\n",
       "    .dataframe tbody tr th:only-of-type {\n",
       "        vertical-align: middle;\n",
       "    }\n",
       "\n",
       "    .dataframe tbody tr th {\n",
       "        vertical-align: top;\n",
       "    }\n",
       "\n",
       "    .dataframe thead th {\n",
       "        text-align: right;\n",
       "    }\n",
       "</style>\n",
       "<table border=\"1\" class=\"dataframe\">\n",
       "  <thead>\n",
       "    <tr style=\"text-align: right;\">\n",
       "      <th></th>\n",
       "      <th>Unnamed: 0</th>\n",
       "      <th>date</th>\n",
       "      <th>symbol</th>\n",
       "      <th>fillingDate</th>\n",
       "      <th>acceptedDate</th>\n",
       "      <th>period</th>\n",
       "      <th>netIncome</th>\n",
       "      <th>depreciationAndAmortization</th>\n",
       "      <th>deferredIncomeTax</th>\n",
       "      <th>stockBasedCompensation</th>\n",
       "      <th>...</th>\n",
       "      <th>netCashUsedProvidedByFinancingActivities</th>\n",
       "      <th>effectOfForexChangesOnCash</th>\n",
       "      <th>netChangeInCash</th>\n",
       "      <th>cashAtEndOfPeriod</th>\n",
       "      <th>cashAtBeginningOfPeriod</th>\n",
       "      <th>operatingCashFlow</th>\n",
       "      <th>capitalExpenditure</th>\n",
       "      <th>freeCashFlow</th>\n",
       "      <th>link</th>\n",
       "      <th>finalLink</th>\n",
       "    </tr>\n",
       "  </thead>\n",
       "  <tbody>\n",
       "  </tbody>\n",
       "</table>\n",
       "<p>0 rows × 38 columns</p>\n",
       "</div>"
      ],
      "text/plain": [
       "Empty DataFrame\n",
       "Columns: [Unnamed: 0, date, symbol, fillingDate, acceptedDate, period, netIncome, depreciationAndAmortization, deferredIncomeTax, stockBasedCompensation, changeInWorkingCapital, accountsReceivables, inventory, accountsPayables, otherWorkingCapital, otherNonCashItems, netCashProvidedByOperatingActivities, investmentsInPropertyPlantAndEquipment, acquisitionsNet, purchasesOfInvestments, salesMaturitiesOfInvestments, otherInvestingActivites, netCashUsedForInvestingActivites, debtRepayment, commonStockIssued, commonStockRepurchased, dividendsPaid, otherFinancingActivites, netCashUsedProvidedByFinancingActivities, effectOfForexChangesOnCash, netChangeInCash, cashAtEndOfPeriod, cashAtBeginningOfPeriod, operatingCashFlow, capitalExpenditure, freeCashFlow, link, finalLink]\n",
       "Index: []\n",
       "\n",
       "[0 rows x 38 columns]"
      ]
     },
     "execution_count": 116,
     "metadata": {},
     "output_type": "execute_result"
    }
   ],
   "source": [
    "# important\n",
    "jcp_bs[(jcp_bs['otherFinancingActivites'].isnull())&(jcp_bs['otherFinancingActivites']<0)]\n",
    "# jcp_bs[~(jcp_bs['retainedEarnings']<0)]"
   ]
  },
  {
   "cell_type": "code",
   "execution_count": 79,
   "metadata": {
    "ExecuteTime": {
     "end_time": "2020-12-19T19:43:47.462373Z",
     "start_time": "2020-12-19T19:43:47.439856Z"
    }
   },
   "outputs": [],
   "source": [
    "if jcp_bs['revenue'][0]>=0 and (len(jcp_bs['revenue'])) - jcp_bs['revenue'].lt(0).sum() == 1:\n",
    "    jcp_bs.loc[jcp_bs['revenue'] > 0, 0:] = np.nan\n",
    "#     jcp_bs.replace()\n",
    "elif jcp_bs['revenue'][0]<=0 and (len(jcp_bs['revenue'])) - jcp_bs['revenue'].gt(0).sum()==1:\n",
    "    jcp_bs.loc[jcp_bs['revenue']<0, 'revenue'] = np.nan\n",
    "else:\n",
    "    print(\"passed\")"
   ]
  },
  {
   "cell_type": "code",
   "execution_count": 155,
   "metadata": {
    "ExecuteTime": {
     "end_time": "2020-12-18T23:31:43.900597Z",
     "start_time": "2020-12-18T23:31:43.884600Z"
    }
   },
   "outputs": [
    {
     "data": {
      "text/plain": [
       "'<table border=\"1\" class=\"dataframe\">\\n  <thead>\\n    <tr style=\"text-align: right;\">\\n      <th></th>\\n      <th>totalOtherIncomeExpensesNet</th>\\n    </tr>\\n  </thead>\\n  <tbody>\\n    <tr>\\n      <th>0</th>\\n      <td></td>\\n    </tr>\\n    <tr>\\n      <th>1</th>\\n      <td>-4000000.0</td>\\n    </tr>\\n    <tr>\\n      <th>2</th>\\n      <td>13000000.0</td>\\n    </tr>\\n    <tr>\\n      <th>3</th>\\n      <td>13000000.0</td>\\n    </tr>\\n    <tr>\\n      <th>4</th>\\n      <td>13000000.0</td>\\n    </tr>\\n    <tr>\\n      <th>5</th>\\n      <td>14000000.0</td>\\n    </tr>\\n    <tr>\\n      <th>6</th>\\n      <td>19000000.0</td>\\n    </tr>\\n    <tr>\\n      <th>7</th>\\n      <td>19000000.0</td>\\n    </tr>\\n    <tr>\\n      <th>8</th>\\n      <td>19000000.0</td>\\n    </tr>\\n    <tr>\\n      <th>9</th>\\n      <td>-8000000.0</td>\\n    </tr>\\n    <tr>\\n      <th>10</th>\\n      <td>2000000.0</td>\\n    </tr>\\n    <tr>\\n      <th>11</th>\\n      <td>14000000.0</td>\\n    </tr>\\n    <tr>\\n      <th>12</th>\\n      <td>-106000000.0</td>\\n    </tr>\\n    <tr>\\n      <th>13</th>\\n      <td>-1000000.0</td>\\n    </tr>\\n    <tr>\\n      <th>14</th>\\n      <td>-1000000.0</td>\\n    </tr>\\n    <tr>\\n      <th>15</th>\\n      <td>-2000000.0</td>\\n    </tr>\\n    <tr>\\n      <th>16</th>\\n      <td>-6000000.0</td>\\n    </tr>\\n    <tr>\\n      <th>17</th>\\n      <td>17000000.0</td>\\n    </tr>\\n    <tr>\\n      <th>18</th>\\n      <td>22000000.0</td>\\n    </tr>\\n    <tr>\\n      <th>19</th>\\n      <td>19000000.0</td>\\n    </tr>\\n    <tr>\\n      <th>20</th>\\n      <td>-5000000.0</td>\\n    </tr>\\n    <tr>\\n      <th>21</th>\\n      <td>12000000.0</td>\\n    </tr>\\n    <tr>\\n      <th>22</th>\\n      <td>-90000000.0</td>\\n    </tr>\\n    <tr>\\n      <th>23</th>\\n      <td>-53000000.0</td>\\n    </tr>\\n    <tr>\\n      <th>24</th>\\n      <td>-17000000.0</td>\\n    </tr>\\n    <tr>\\n      <th>25</th>\\n      <td>-38000000.0</td>\\n    </tr>\\n    <tr>\\n      <th>26</th>\\n      <td>-26000000.0</td>\\n    </tr>\\n    <tr>\\n      <th>27</th>\\n      <td>-64000000.0</td>\\n    </tr>\\n    <tr>\\n      <th>28</th>\\n      <td>-4000000.0</td>\\n    </tr>\\n    <tr>\\n      <th>29</th>\\n      <td>0.0</td>\\n    </tr>\\n    <tr>\\n      <th>30</th>\\n      <td>-197000000.0</td>\\n    </tr>\\n    <tr>\\n      <th>31</th>\\n      <td>-208000000.0</td>\\n    </tr>\\n    <tr>\\n      <th>32</th>\\n      <td>-7000000.0</td>\\n    </tr>\\n    <tr>\\n      <th>33</th>\\n      <td>0.0</td>\\n    </tr>\\n    <tr>\\n      <th>34</th>\\n      <td>0.0</td>\\n    </tr>\\n    <tr>\\n      <th>35</th>\\n      <td>0.0</td>\\n    </tr>\\n    <tr>\\n      <th>36</th>\\n      <td>0.0</td>\\n    </tr>\\n    <tr>\\n      <th>37</th>\\n      <td>0.0</td>\\n    </tr>\\n    <tr>\\n      <th>38</th>\\n      <td>0.0</td>\\n    </tr>\\n    <tr>\\n      <th>39</th>\\n      <td>-20000000.0</td>\\n    </tr>\\n    <tr>\\n      <th>40</th>\\n      <td>0.0</td>\\n    </tr>\\n    <tr>\\n      <th>41</th>\\n      <td>0.0</td>\\n    </tr>\\n    <tr>\\n      <th>42</th>\\n      <td>0.0</td>\\n    </tr>\\n    <tr>\\n      <th>43</th>\\n      <td>0.0</td>\\n    </tr>\\n    <tr>\\n      <th>44</th>\\n      <td>0.0</td>\\n    </tr>\\n    <tr>\\n      <th>45</th>\\n      <td>0.0</td>\\n    </tr>\\n    <tr>\\n      <th>46</th>\\n      <td>0.0</td>\\n    </tr>\\n    <tr>\\n      <th>47</th>\\n      <td>0.0</td>\\n    </tr>\\n    <tr>\\n      <th>48</th>\\n      <td>0.0</td>\\n    </tr>\\n    <tr>\\n      <th>49</th>\\n      <td>-15000000.0</td>\\n    </tr>\\n    <tr>\\n      <th>50</th>\\n      <td>-9000000.0</td>\\n    </tr>\\n    <tr>\\n      <th>51</th>\\n      <td>-13000000.0</td>\\n    </tr>\\n    <tr>\\n      <th>52</th>\\n      <td>-9000000.0</td>\\n    </tr>\\n    <tr>\\n      <th>53</th>\\n      <td>-9000000.0</td>\\n    </tr>\\n    <tr>\\n      <th>54</th>\\n      <td>-4000000.0</td>\\n    </tr>\\n    <tr>\\n      <th>55</th>\\n      <td>-8000000.0</td>\\n    </tr>\\n    <tr>\\n      <th>56</th>\\n      <td>-9000000.0</td>\\n    </tr>\\n    <tr>\\n      <th>57</th>\\n      <td>-13000000.0</td>\\n    </tr>\\n    <tr>\\n      <th>58</th>\\n      <td>-13000000.0</td>\\n    </tr>\\n    <tr>\\n      <th>59</th>\\n      <td>-5000000.0</td>\\n    </tr>\\n    <tr>\\n      <th>60</th>\\n      <td>-14000000.0</td>\\n    </tr>\\n    <tr>\\n      <th>61</th>\\n      <td>-22000000.0</td>\\n    </tr>\\n    <tr>\\n      <th>62</th>\\n      <td>25000000.0</td>\\n    </tr>\\n    <tr>\\n      <th>63</th>\\n      <td>0.0</td>\\n    </tr>\\n    <tr>\\n      <th>64</th>\\n      <td>-5000000.0</td>\\n    </tr>\\n    <tr>\\n      <th>65</th>\\n      <td>-8000000.0</td>\\n    </tr>\\n    <tr>\\n      <th>66</th>\\n      <td>-10000000.0</td>\\n    </tr>\\n    <tr>\\n      <th>67</th>\\n      <td>-8000000.0</td>\\n    </tr>\\n    <tr>\\n      <th>68</th>\\n      <td>9000000.0</td>\\n    </tr>\\n    <tr>\\n      <th>69</th>\\n      <td>-3000000.0</td>\\n    </tr>\\n    <tr>\\n      <th>70</th>\\n      <td>0.0</td>\\n    </tr>\\n    <tr>\\n      <th>71</th>\\n      <td>-5000000.0</td>\\n    </tr>\\n    <tr>\\n      <th>72</th>\\n      <td>-9000000.0</td>\\n    </tr>\\n    <tr>\\n      <th>73</th>\\n      <td>-6000000.0</td>\\n    </tr>\\n  </tbody>\\n</table>'"
      ]
     },
     "execution_count": 155,
     "metadata": {},
     "output_type": "execute_result"
    }
   ],
   "source": [
    "jcp_bs[['totalOtherIncomeExpensesNet']].to_html().replace(\"<td>NaN</td>\",\"<td></td>\")"
   ]
  },
  {
   "cell_type": "code",
   "execution_count": 8,
   "metadata": {
    "ExecuteTime": {
     "end_time": "2020-12-18T09:39:55.743539Z",
     "start_time": "2020-12-18T09:39:55.725541Z"
    }
   },
   "outputs": [],
   "source": [
    "# sorted_metric = np.sort(metric_history)[::-1]\n",
    "fin_metric_name = 'cashAndCashEquivalents'\n",
    "sorted_metric = df[\"{}\".format(fin_metric_name)].sort_values()\n",
    "quarters = round(len(sorted_metric)/4)\n",
    "bottom_25 = sorted_metric[len(sorted_metric)-1-quarters]\n",
    "top_25 = sorted_metric[quarters-1]\n",
    "max_num = max(sorted_metric)\n",
    "min_num = min(sorted_metric)\n",
    "mean = sorted_metric.mean()\n",
    "std_dev = sorted_metric.std()\n",
    "std_dev_str = \"+/-{}{}%\".format(currency_symbol,round(abs((std_dev-mean)/mean)*100,1))\n",
    "mean_str = magnitude_num(mean, currency_symbol)\n",
    "max_str = magnitude_num(max_num, currency_symbol)\n",
    "min_str = magnitude_num(min_num, currency_symbol)\n",
    "bottom_25_str = magnitude_num(bottom_25, currency_symbol)\n",
    "top_25_str = magnitude_num(top_25, currency_symbol)"
   ]
  },
  {
   "cell_type": "code",
   "execution_count": 9,
   "metadata": {
    "ExecuteTime": {
     "end_time": "2020-12-18T09:39:59.848524Z",
     "start_time": "2020-12-18T09:39:59.834527Z"
    },
    "code_folding": [],
    "run_control": {
     "marked": true
    }
   },
   "outputs": [],
   "source": [
    "latest_num = df[\"{}\".format(fin_metric_name)][0]\n",
    "first_num = list(df[\"{}\".format(fin_metric_name)])[-1]\n",
    "pct_chg = (latest_num - first_num)/first_num\n",
    "historical_pct_chg = str(round(pct_chg*100, 1))\n",
    "# lifetime_sum_all_metric = df[\"{}\".format(fin_metric_name)].sum()\n",
    "# lifetime_sum_all_metric = magnitude_num(lifetime_sum_all_metric,currency_symbol)"
   ]
  },
  {
   "cell_type": "code",
   "execution_count": 11,
   "metadata": {
    "ExecuteTime": {
     "end_time": "2020-12-18T09:40:01.266025Z",
     "start_time": "2020-12-18T09:40:01.245028Z"
    },
    "code_folding": [],
    "run_control": {
     "marked": true
    }
   },
   "outputs": [],
   "source": [
    "# hide - cash equiv\n",
    "if pct_chg>=0:\n",
    "    pct_chg_str = \"+{}%\".format(pct_chg)\n",
    "elif pct_chg<0:\n",
    "    pct_chg_str = \"-{}%\".format(pct_chg)\n",
    "else:\n",
    "    pct_chg_str = \"\"\n",
    "# historical_pct_chg = str(round(pct_chg*100, 1))\n",
    "max_min_pct_diff = ((max_num-min_num)/min_num)\n",
    "if max_min_pct_diff>=0:\n",
    "    max_min_pct_diff_str = \"+{}%\".format(round(max_min_pct_diff)*100,1)\n",
    "elif max_min_pct_diff<0:\n",
    "    max_min_pct_diff_str = \"-{}%\".format(round(max_min_pct_diff)*100,1)\n",
    "else:\n",
    "    max_min_pct_diff_str = \"\"\n",
    "    \n",
    "df_fin_statement['Quarter & Year'] =(df_fin_statement['date'].astype(str).str[0:4]).astype(int)\n",
    "latest_year = list((df_fin_statement['date'].astype(str).str[0:4]))[0]\n",
    "earliest_year = list((df_fin_statement['date'].astype(str).str[0:4]))[-1]\n",
    "earliest_metric = (list(df[\"{}\".format(\"{}\".format(fin_metric_name))])[-1])\n",
    "latest_metric = (list(df[\"{}\".format(\"{}\".format(fin_metric_name))])[0])"
   ]
  },
  {
   "cell_type": "code",
   "execution_count": 13,
   "metadata": {
    "ExecuteTime": {
     "end_time": "2020-12-17T23:56:57.029200Z",
     "start_time": "2020-12-17T23:56:57.020199Z"
    }
   },
   "outputs": [
    {
     "data": {
      "text/plain": [
       "'Cash and Cash Equivalents'"
      ]
     },
     "execution_count": 13,
     "metadata": {},
     "output_type": "execute_result"
    }
   ],
   "source": [
    "fin_metric_title"
   ]
  },
  {
   "cell_type": "code",
   "execution_count": 12,
   "metadata": {
    "ExecuteTime": {
     "end_time": "2020-12-18T09:40:05.491105Z",
     "start_time": "2020-12-18T09:40:05.478106Z"
    },
    "code_folding": [
     0
    ],
    "run_control": {
     "marked": false
    }
   },
   "outputs": [],
   "source": [
    "titles_bs =['Cash and Cash Equivalents',\n",
    " 'Short Term Investments',\n",
    " 'Cash And Short-Term Investments',\n",
    " 'Accounts Receivables',\n",
    " 'Inventory',\n",
    " 'Other Current Assets',\n",
    " 'Total Current Assets',\n",
    " 'PP&E',\n",
    " 'Goodwill',\n",
    " 'Intangible Assets',\n",
    " 'Goodwill and Intangible Assets',\n",
    " 'Long-term Investments',\n",
    " 'Tax Assets',\n",
    " 'Other Non-Current Assets',\n",
    " 'Total Non-Current Assets',\n",
    " 'Other Assets',\n",
    " 'Total Assets',\n",
    " 'Accounts Payables',\n",
    " 'Short-term Debt',\n",
    " 'Income Tax Payables',\n",
    " 'Deferred Revenue',\n",
    " 'Other Current Liabilities',\n",
    " 'Total Current Liabilities',\n",
    " 'Long-term Debt',\n",
    " 'Deferred Revenue Non-Current',\n",
    " 'Deferred Tax Liabilities Non-Current',\n",
    " 'Other Non-Current Liabilities',\n",
    " 'Total Non-Current Liabilities',\n",
    " 'Other Liabilities',\n",
    " 'Total Liabilities',\n",
    " 'Common Stock',\n",
    " 'Retained Earnings',\n",
    " 'Accumulated Other Comprehensive Income Loss',\n",
    " 'Other Shareholders Equity',\n",
    " 'Total Shareholders Equity',\n",
    " 'Total Liabilities & Stockholders Equity',\n",
    " 'Total Investments',\n",
    " 'Total Debt',\n",
    " 'Net Debt',\n",
    " 'SEC Statement Link']\n",
    "# col = titles_bs\n",
    "# df_fin_statement = df_fin_statement[col]\n",
    "# df_fin_statement = df_fin_statement.iloc[:, [0,1,2,3,4,5,6,7,8,9,10,11,12,13,14,15,16,17,18,19,20,21,22,23,24,25,26,27,28,29,30,31,32,33,34,35,36,37,38,39]]\n",
    "# cols"
   ]
  },
  {
   "cell_type": "code",
   "execution_count": 13,
   "metadata": {
    "ExecuteTime": {
     "end_time": "2020-12-18T09:40:06.411468Z",
     "start_time": "2020-12-18T09:40:06.384467Z"
    },
    "code_folding": [],
    "run_control": {
     "marked": true
    }
   },
   "outputs": [],
   "source": [
    "# hide - cash equiv\n",
    "titles_list = ['Date','Symbol','Filing Date','Accepted Date','Period','SEC Filing Link'][:]\n",
    "\n",
    "for x in reversed(titles_bs):\n",
    "    if x in titles_list:\n",
    "        titles_bs.remove(x)\n",
    "        print(x, \"is in\")\n",
    "    else:\n",
    "        pass\n",
    "#         print(x, \"is not in\")  \n",
    "titles_bs.append('Quarter & Year') \n",
    "df_fin_statement = df_fin_statement.drop([ 'Unnamed: 0','date','symbol','fillingDate','acceptedDate','period','link'],axis=1, errors='ignore')\n",
    "df_fin_statement.columns = titles_bs\n",
    "\n",
    "# df_fin_statement = df_fin_statement[cols]\n",
    "\n",
    "df_fin_statement.index = df_fin_statement['Quarter & Year']\n",
    "\n",
    "million = 1000000\n",
    "billion = 1000000000\n",
    "fin_metric_title = \"Cash and Cash Equivalents\"\n",
    "fin_metric_history = df_fin_statement['{}'.format(fin_metric_title)]\n",
    "if list(fin_metric_history)[0]  > billion:\n",
    "    df_fin_statement['{}'.format(fin_metric_title)] = (fin_metric_history/billion).round(decimals=2)\n",
    "\n",
    "elif list(fin_metric_history)[0]  > million:\n",
    "    df_fin_statement['{}'.format(fin_metric_title)] = (fin_metric_history/million).round(decimals=2)\n",
    "\n",
    "    pass\n",
    "else:\n",
    "    pass"
   ]
  },
  {
   "cell_type": "code",
   "execution_count": null,
   "metadata": {},
   "outputs": [],
   "source": []
  },
  {
   "cell_type": "code",
   "execution_count": 15,
   "metadata": {
    "ExecuteTime": {
     "end_time": "2020-12-16T19:22:10.285150Z",
     "start_time": "2020-12-16T19:22:10.275157Z"
    },
    "code_folding": [
     0
    ],
    "run_control": {
     "marked": false
    }
   },
   "outputs": [],
   "source": [
    "# hide - variables\n",
    "# vars_names_list = []\n",
    "# vars_values_list = []\n",
    "# # for name in vars().keys():\n",
    "# #   vars_names_list.append(name)\n",
    "# for name, value in globals().items():\n",
    "#     vars_names_list.append(name)\n",
    "#     vars_values_list.append(value)\n",
    "# vars_names_list    \n",
    "# vars_values_list_100 = [str(x)[0:50] for x in vars_values_list]\n",
    "# vars_df = pd.DataFrame({'vars_names_list':vars_names_list,'vars_values_list_100':vars_values_list_100})\n",
    "# # vars_values_list_100\n",
    "# vars_df.to_csv(\"../reference_data/flask_variables.csv\")"
   ]
  },
  {
   "cell_type": "code",
   "execution_count": 14,
   "metadata": {
    "ExecuteTime": {
     "end_time": "2020-12-18T09:40:10.377354Z",
     "start_time": "2020-12-18T09:40:10.347355Z"
    }
   },
   "outputs": [],
   "source": [
    "df_pct_chg = df_fin_statement\n",
    "pct_chg_cols = (df_fin_statement.select_dtypes(include=['number']).pct_change(-1))\n",
    "df_pct_chg_str = df_pct_chg.drop(list(pct_chg_cols), axis=1)\n",
    "df_pct_chg = df_pct_chg_str.join(pct_chg_cols)[list(df_fin_statement)]\n",
    "# pd.set_option('display.float_format', '{:.2f}'.format)\n",
    "df_pct_chg_t = df_pct_chg.transpose()\n",
    "# df_pct_chg_t.columns = list(df_pct_chg['Quarter & Year'])\n",
    "# df_pct_chg_t = df_pct_chg_t.iloc[1:]\n",
    "# # list(df_pct_chg_str.join(pct_chg_cols)[list(df_fin_statement)])\n",
    "# # len(df_pct_chg.transpose())\n",
    "# # list(df_pct_chg['Quarter & Year'])\n",
    "# df_pct_chg_str.join(pct_chg_cols)[list(df_fin_statement)]"
   ]
  },
  {
   "cell_type": "code",
   "execution_count": 100,
   "metadata": {
    "ExecuteTime": {
     "end_time": "2020-12-20T19:56:34.584272Z",
     "start_time": "2020-12-20T19:56:34.570760Z"
    }
   },
   "outputs": [],
   "source": [
    "# hide\n",
    "df_pct_chg = df_fin_statement\n",
    "pct_chg_cols = (df_fin_statement.select_dtypes(include=['number']).pct_change(-1))\n",
    "df_pct_chg_str = df_pct_chg.drop(list(pct_chg_cols), axis=1)\n",
    "# df_pct_chg = df_pct_chg_str.join(pct_chg_cols)[list(df_fin_statement)]\n",
    "df_pct_chg = df_fin_statement\n",
    "\n",
    "pd.set_option('display.float_format', '{:.2f}'.format)\n",
    "df_pct_chg_t = df_pct_chg.transpose()\n",
    "# df_pct_chg_t.columns = list(df_pct_chg['Quarter & Year'])\n",
    "# df_pct_chg_t = df_pct_chg_t.iloc[1:]\n",
    "df_pct_chg_t.columns = list(df_pct_chg['Quarter & Year'])\n",
    "# df_pct_chg_t = df_pct_chg_t.iloc[1:]\n",
    "# df_pct_chg_t\n",
    "df_pct_chg_t = df_pct_chg_t.iloc[1:]\n",
    "df_pct_chg_t['']=df_pct_chg_t.index\n",
    "df_pct_chg_t.index = range(len(df_pct_chg_t))\n",
    "\n",
    "# print(\"ww\",len(col))\n",
    "cols = list(df_pct_chg_t.columns)\n",
    "print(\"ww\",len(df))\n",
    "cols = [cols[-1]] + cols[:-1]\n",
    "\n",
    "df_pct_chg_t = df_pct_chg_t[cols]\n",
    "\n",
    "df_t = df_fin_statement.transpose()\n",
    "df_t.columns = list(df_fin_statement['Quarter & Year'])\n",
    "df_t = df_t.iloc[1:]\n",
    "df_t['']=df_t.index\n",
    "\n",
    "df_t.index = range(len(df_t))\n",
    "cols = list(df_t.columns)\n",
    "cols = [cols[-1]] + cols[:-1]\n",
    "df_t = df_t[cols]\n",
    "df_pct = df_pct_chg_t.to_html()#.replace('<table','<table class=\"df_tableBoot\" id=\"df_myTable1\"')# dt-responsive\" id=\"df_myTable\"')\n",
    "def isnumber(x):\n",
    "    try:\n",
    "        float(x)\n",
    "        return True\n",
    "    except:\n",
    "        return False"
   ]
  },
  {
   "cell_type": "code",
   "execution_count": 39,
   "metadata": {
    "ExecuteTime": {
     "end_time": "2020-12-18T00:34:49.850327Z",
     "start_time": "2020-12-18T00:34:49.841330Z"
    }
   },
   "outputs": [
    {
     "data": {
      "text/plain": [
       "Index([1085.22,      '',    1994,    1994,    1994,    1994,    1994,    1994,\n",
       "          1994,    1994,\n",
       "       ...\n",
       "          2019,    2020,    2020,    2020,    2020,    2020,    2020,    2020,\n",
       "          2020,    2020],\n",
       "      dtype='object', length=429)"
      ]
     },
     "execution_count": 39,
     "metadata": {},
     "output_type": "execute_result"
    }
   ],
   "source": [
    "\n",
    "df_n = df_fin_statement[df_fin_statement.applymap(isnumber)]\n",
    "\n",
    "df_n[df_n < 2] = np.nan\n",
    "df_n_sum = pd.DataFrame(df_n.sum())\n",
    "\n",
    "new_header = df_n_sum.iloc[0] #grab the first row for the header\n",
    "df_n_sum = df_n_sum#[1:] #take the data less the header row\n",
    "\n",
    "df_n_sum.columns = new_header #set the header row as the df header\n",
    "df_n_sum.index = range(len(df_n_sum))\n",
    "# df_t = pd.merge(df_n_sum, df_t, left_index=True, right_index=True,suffixes=('Total: {} - {}'.format(latest_year,earliest_year), 'Line Items'))\n",
    "# df_t = df_t[0:25]\n",
    "\n",
    "df_t = pd.merge(df_n_sum, df_t, left_index=True, right_index=True,suffixes=('Total: {} - {}'.format(latest_year,earliest_year), 'Line Items'))\n",
    "len(list(df_t))\n",
    "df_t.columns\n",
    "df_t[df_t.columns]"
   ]
  },
  {
   "cell_type": "code",
   "execution_count": 19,
   "metadata": {
    "ExecuteTime": {
     "end_time": "2020-12-16T19:22:15.622019Z",
     "start_time": "2020-12-16T19:22:15.488017Z"
    },
    "code_folding": [],
    "run_control": {
     "marked": false
    }
   },
   "outputs": [
    {
     "name": "stdout",
     "output_type": "stream",
     "text": [
      "Nothing took 19.73895835876465 seconds\n"
     ]
    }
   ],
   "source": [
    "\n",
    "# df_t = df_t[0:25]\n",
    "\n",
    "\n",
    "\n",
    "col_list = []\n",
    "n=0\n",
    "while n<len(list(df_t))-0:\n",
    "    if n<6:\n",
    "            col_item = '<col id=\"col_item_{}\" class=\"col_item_class first_7_col\">'.format(n)\n",
    "    else:\n",
    "        col_item = '<col id=\"col_item_{}\" class=\"col_item_class\">'.format(n)\n",
    "    col_list.append(col_item)\n",
    "    n+=1\n",
    "col_list_str = ''.join(map(str, col_list))\n",
    "df_html = df_t.to_html().replace('border=\"1\" class=\"dataframe\">','class=\"df_tableBoot\" id=\"df_myTable\" border=\"1\" class=\"dataframe\"><colgroup>{}</colgroup>'.format(col_list_str))\n",
    "# df_table_html = df_fin_statement[['{}'.format(fin_metric_title)]].iloc[::-1].transpose().to_html()#.replace(\"\\n\",\"\")\n",
    "df_tall = df.iloc[::-1]\n",
    "# df_tall.index = df['Quarter & Year']\n",
    "# df_tall = df.index.shift(-1)\n",
    "# df_tall = df_tall.reset_index()\n",
    "df_html_tall = df_tall[['{}'.format('Quarter & Year'),'{}'.format(fin_metric_name)]].to_html(index=False)\n",
    "df_html_tall = df_html_tall.replace('border=\"1\" class=\"dataframe\">','class=\"abc\" id=\"df_myTable\" border=\"1\" class=\"dataframe\">')#.replace(\"'\",\"\")\n",
    "# df_html_tall = df_html_tall.replace(\"\\n\",\"\")\n",
    "df_html_tall = df_html_tall.replace(\"\\n\",\"\")\n",
    "df_html_tall = df_html_tall.replace(\"{}\".format(\"[\"),\"\")\n",
    "df_html_tall = df_html_tall #render_template_string(df_html_tall)\n",
    "df_html = df_html.replace('<td>','<td class=\"td_fin_statement_class fin_statement_class\">')\n",
    "df_html = df_html.replace('<th>','<th class=\"th_fin_statement_class fin_statement_class\">')\n",
    "df_html = df_html.replace('<tr>','<tr class=\"tr_fin_statement_class fin_statement_class\">')\n",
    "#  df_html_tall = df_html_tall.replace(\"\\n\",\"\")\n",
    "# df_html_tall.replace(\"\\n\",'\">')\n",
    "df_html_tall = df_html_tall.replace('<td>','<td class=\"td_fin_statement_class fin_statement_class\">')\n",
    "df_html_tall = df_html_tall.replace('<th>','<th class=\"th_fin_statement_class fin_statement_class\">')\n",
    "df_html_tall = df_html_tall.replace('<tr>','<tr class=\"tr_fin_statement_class fin_statement_class\">')\n",
    "df_html_tall = df_html_tall[0:]\n",
    "\n",
    "df = df[['date',\"{}\".format(fin_metric_name)]].dropna() #.fillna(0)#.fillna(method='bfill')\n",
    "df['date'] = pd.to_datetime(df['date']).values.astype(np.int64) // 10 ** 6\n",
    "full_path = csv_file.split(' ~ ')\n",
    "path = pathlib.PurePath(full_path[0])\n",
    "print(\"Nothing took {} seconds\".format(time.time() - start_time))\n",
    "total_seconds = ((time.time() - start_time))\n",
    "\n",
    "labels = [\n",
    "    'JAN', 'FEB', 'MAR', 'APR',\n",
    "    'MAY', 'JUN', 'JUL', 'AUG',\n",
    "    'SEP', 'OCT', 'NOV', 'DEC'\n",
    "]\n",
    "labels = list(df['date'])#[0:19]\n",
    "\n",
    "values = [\n",
    "    967.67, 1190.89, 1079.75, 1349.19,\n",
    "    2328.91, 2504.28, 2873.83, 4764.87,\n",
    "    4349.29, 6458.30, 9907, 16297\n",
    "]\n",
    "\n",
    "values = list(df[\"{}\".format(fin_metric_name)])#[0:19]\n",
    "\n",
    "colors = [\n",
    "    \"#F7464A\", \"#46BFBD\", \"#FDB45C\", \"#FEDCBA\",\n",
    "    \"#ABCDEF\", \"#DDDDDD\", \"#ABCABC\", \"#4169E1\",\n",
    "    \"#C71585\", \"#FF4500\", \"#FEDCBA\", \"#46BFBD\"]\n",
    "df_table_html = df_tall[['{}'.format(fin_metric_name)]].iloc[::-1].transpose().to_html()#.replace(\"\\n\",\"\")\n",
    "present_num = magnitude_num(int(latest_metric),currency_symbol)\n",
    "latest_num = \"${}\".format(df[\"{}\".format(fin_metric_name)][0])\n"
   ]
  },
  {
   "cell_type": "markdown",
   "metadata": {},
   "source": [
    "#### trying to read flask server with requests  "
   ]
  },
  {
   "cell_type": "code",
   "execution_count": 13,
   "metadata": {
    "ExecuteTime": {
     "end_time": "2020-12-14T19:06:46.857681Z",
     "start_time": "2020-12-14T19:06:46.401227Z"
    }
   },
   "outputs": [
    {
     "name": "stdout",
     "output_type": "stream",
     "text": [
      "b'<!DOCTYPE HTML PUBLIC \"-//W3C//DTD HTML 4.01 Transitional//EN\"\\n  \"http://www.w3.org/TR/html4/loose.dtd\">\\n<html>\\n  <head>\\n    <title>NameError: name \\'start_time\\' is not defined // Werkzeug Debugger</title>\\n    <link rel=\"stylesheet\" href=\"?__debugger__=yes&amp;cmd=resource&amp;f=style.css\"\\n        type=\"text/css\">\\n    <!-- We need to make sure this has a favicon so that the debugger does\\n         not by accident trigger a request to /favicon.ico which might\\n         change the application state. -->\\n    <link rel=\"shortcut icon\"\\n        href=\"?__debugger__=yes&amp;cmd=resource&amp;f=console.png\">\\n    <script src=\"?__debugger__=yes&amp;cmd=resource&amp;f=jquery.js\"></script>\\n    <script src=\"?__debugger__=yes&amp;cmd=resource&amp;f=debugger.js\"></script>\\n    <script type=\"text/javascript\">\\n      var TRACEBACK = 1834011132928,\\n          CONSOLE_MODE = false,\\n          EVALEX = true,\\n          EVALEX_TRUSTED = false,\\n          SECRET = \"t3wb8w77FxDSu3AUMLC3\";\\n    </script>\\n  </head>\\n  <body style=\"background-color: #fff\">\\n    <div class=\"debugger\">\\n<h1>NameError</h1>\\n<div class=\"detail\">\\n  <p class=\"errormsg\">NameError: name \\'start_time\\' is not defined</p>\\n</div>\\n<h2 class=\"traceback\">Traceback <em>(most recent call last)</em></h2>\\n<div class=\"traceback\">\\n  \\n  <ul><li><div class=\"frame\" id=\"frame-1834011046432\">\\n  <h4>File <cite class=\"filename\">\"C:\\\\Users\\\\Tom\\\\AppData\\\\Local\\\\Programs\\\\Python\\\\Python39\\\\Lib\\\\site-packages\\\\flask\\\\app.py\"</cite>,\\n      line <em class=\"line\">2464</em>,\\n      in <code class=\"function\">__call__</code></h4>\\n  <div class=\"source \"><pre class=\"line before\"><span class=\"ws\"></span> </pre>\\n<pre class=\"line before\"><span class=\"ws\">    </span>def __call__(self, environ, start_response):</pre>\\n<pre class=\"line before\"><span class=\"ws\">        </span>&quot;&quot;&quot;The WSGI server calls the Flask application object as the</pre>\\n<pre class=\"line before\"><span class=\"ws\">        </span>WSGI application. This calls :meth:`wsgi_app` which can be</pre>\\n<pre class=\"line before\"><span class=\"ws\">        </span>wrapped to applying middleware.&quot;&quot;&quot;</pre>\\n<pre class=\"line current\"><span class=\"ws\">        </span>return self.wsgi_app(environ, start_response)</pre>\\n<pre class=\"line after\"><span class=\"ws\"></span> </pre>\\n<pre class=\"line after\"><span class=\"ws\">    </span>def __repr__(self):</pre>\\n<pre class=\"line after\"><span class=\"ws\">        </span>return &quot;&lt;%s %r&gt;&quot; % (self.__class__.__name__, self.name)</pre></div>\\n</div>\\n\\n<li><div class=\"frame\" id=\"frame-1834011046192\">\\n  <h4>File <cite class=\"filename\">\"C:\\\\Users\\\\Tom\\\\AppData\\\\Local\\\\Programs\\\\Python\\\\Python39\\\\Lib\\\\site-packages\\\\flask\\\\app.py\"</cite>,\\n      line <em class=\"line\">2450</em>,\\n      in <code class=\"function\">wsgi_app</code></h4>\\n  <div class=\"source \"><pre class=\"line before\"><span class=\"ws\">            </span>try:</pre>\\n<pre class=\"line before\"><span class=\"ws\">                </span>ctx.push()</pre>\\n<pre class=\"line before\"><span class=\"ws\">                </span>response = self.full_dispatch_request()</pre>\\n<pre class=\"line before\"><span class=\"ws\">            </span>except Exception as e:</pre>\\n<pre class=\"line before\"><span class=\"ws\">                </span>error = e</pre>\\n<pre class=\"line current\"><span class=\"ws\">                </span>response = self.handle_exception(e)</pre>\\n<pre class=\"line after\"><span class=\"ws\">            </span>except:  # noqa: B001</pre>\\n<pre class=\"line after\"><span class=\"ws\">                </span>error = sys.exc_info()[1]</pre>\\n<pre class=\"line after\"><span class=\"ws\">                </span>raise</pre>\\n<pre class=\"line after\"><span class=\"ws\">            </span>return response(environ, start_response)</pre>\\n<pre class=\"line after\"><span class=\"ws\">        </span>finally:</pre></div>\\n</div>\\n\\n<li><div class=\"frame\" id=\"frame-1834011046048\">\\n  <h4>File <cite class=\"filename\">\"C:\\\\Users\\\\Tom\\\\AppData\\\\Local\\\\Programs\\\\Python\\\\Python39\\\\Lib\\\\site-packages\\\\flask\\\\app.py\"</cite>,\\n      line <em class=\"line\">1867</em>,\\n      in <code class=\"function\">handle_exception</code></h4>\\n  <div class=\"source \"><pre class=\"line before\"><span class=\"ws\">            </span># if we want to repropagate the exception, we can attempt to</pre>\\n<pre class=\"line before\"><span class=\"ws\">            </span># raise it with the whole traceback in case we can do that</pre>\\n<pre class=\"line before\"><span class=\"ws\">            </span># (the function was actually called from the except part)</pre>\\n<pre class=\"line before\"><span class=\"ws\">            </span># otherwise, we just raise the error again</pre>\\n<pre class=\"line before\"><span class=\"ws\">            </span>if exc_value is e:</pre>\\n<pre class=\"line current\"><span class=\"ws\">                </span>reraise(exc_type, exc_value, tb)</pre>\\n<pre class=\"line after\"><span class=\"ws\">            </span>else:</pre>\\n<pre class=\"line after\"><span class=\"ws\">                </span>raise e</pre>\\n<pre class=\"line after\"><span class=\"ws\"></span> </pre>\\n<pre class=\"line after\"><span class=\"ws\">        </span>self.log_exception((exc_type, exc_value, tb))</pre>\\n<pre class=\"line after\"><span class=\"ws\">        </span>server_error = InternalServerError()</pre></div>\\n</div>\\n\\n<li><div class=\"frame\" id=\"frame-1834011047488\">\\n  <h4>File <cite class=\"filename\">\"C:\\\\Users\\\\Tom\\\\AppData\\\\Local\\\\Programs\\\\Python\\\\Python39\\\\Lib\\\\site-packages\\\\flask\\\\_compat.py\"</cite>,\\n      line <em class=\"line\">39</em>,\\n      in <code class=\"function\">reraise</code></h4>\\n  <div class=\"source \"><pre class=\"line before\"><span class=\"ws\">    </span>import collections.abc as collections_abc</pre>\\n<pre class=\"line before\"><span class=\"ws\"></span> </pre>\\n<pre class=\"line before\"><span class=\"ws\">    </span>def reraise(tp, value, tb=None):</pre>\\n<pre class=\"line before\"><span class=\"ws\">        </span>if value.__traceback__ is not tb:</pre>\\n<pre class=\"line before\"><span class=\"ws\">            </span>raise value.with_traceback(tb)</pre>\\n<pre class=\"line current\"><span class=\"ws\">        </span>raise value</pre>\\n<pre class=\"line after\"><span class=\"ws\"></span> </pre>\\n<pre class=\"line after\"><span class=\"ws\">    </span>implements_to_string = _identity</pre>\\n<pre class=\"line after\"><span class=\"ws\"></span> </pre>\\n<pre class=\"line after\"><span class=\"ws\"></span>else:</pre>\\n<pre class=\"line after\"><span class=\"ws\">    </span>iterkeys = lambda d: d.iterkeys()</pre></div>\\n</div>\\n\\n<li><div class=\"frame\" id=\"frame-1834011049744\">\\n  <h4>File <cite class=\"filename\">\"C:\\\\Users\\\\Tom\\\\AppData\\\\Local\\\\Programs\\\\Python\\\\Python39\\\\Lib\\\\site-packages\\\\flask\\\\app.py\"</cite>,\\n      line <em class=\"line\">2447</em>,\\n      in <code class=\"function\">wsgi_app</code></h4>\\n  <div class=\"source \"><pre class=\"line before\"><span class=\"ws\">        </span>ctx = self.request_context(environ)</pre>\\n<pre class=\"line before\"><span class=\"ws\">        </span>error = None</pre>\\n<pre class=\"line before\"><span class=\"ws\">        </span>try:</pre>\\n<pre class=\"line before\"><span class=\"ws\">            </span>try:</pre>\\n<pre class=\"line before\"><span class=\"ws\">                </span>ctx.push()</pre>\\n<pre class=\"line current\"><span class=\"ws\">                </span>response = self.full_dispatch_request()</pre>\\n<pre class=\"line after\"><span class=\"ws\">            </span>except Exception as e:</pre>\\n<pre class=\"line after\"><span class=\"ws\">                </span>error = e</pre>\\n<pre class=\"line after\"><span class=\"ws\">                </span>response = self.handle_exception(e)</pre>\\n<pre class=\"line after\"><span class=\"ws\">            </span>except:  # noqa: B001</pre>\\n<pre class=\"line after\"><span class=\"ws\">                </span>error = sys.exc_info()[1]</pre></div>\\n</div>\\n\\n<li><div class=\"frame\" id=\"frame-1834011047152\">\\n  <h4>File <cite class=\"filename\">\"C:\\\\Users\\\\Tom\\\\AppData\\\\Local\\\\Programs\\\\Python\\\\Python39\\\\Lib\\\\site-packages\\\\flask\\\\app.py\"</cite>,\\n      line <em class=\"line\">1952</em>,\\n      in <code class=\"function\">full_dispatch_request</code></h4>\\n  <div class=\"source \"><pre class=\"line before\"><span class=\"ws\">            </span>request_started.send(self)</pre>\\n<pre class=\"line before\"><span class=\"ws\">            </span>rv = self.preprocess_request()</pre>\\n<pre class=\"line before\"><span class=\"ws\">            </span>if rv is None:</pre>\\n<pre class=\"line before\"><span class=\"ws\">                </span>rv = self.dispatch_request()</pre>\\n<pre class=\"line before\"><span class=\"ws\">        </span>except Exception as e:</pre>\\n<pre class=\"line current\"><span class=\"ws\">            </span>rv = self.handle_user_exception(e)</pre>\\n<pre class=\"line after\"><span class=\"ws\">        </span>return self.finalize_request(rv)</pre>\\n<pre class=\"line after\"><span class=\"ws\"></span> </pre>\\n<pre class=\"line after\"><span class=\"ws\">    </span>def finalize_request(self, rv, from_error_handler=False):</pre>\\n<pre class=\"line after\"><span class=\"ws\">        </span>&quot;&quot;&quot;Given the return value from a view function this finalizes</pre>\\n<pre class=\"line after\"><span class=\"ws\">        </span>the request by converting it into a response and invoking the</pre></div>\\n</div>\\n\\n<li><div class=\"frame\" id=\"frame-1834011047344\">\\n  <h4>File <cite class=\"filename\">\"C:\\\\Users\\\\Tom\\\\AppData\\\\Local\\\\Programs\\\\Python\\\\Python39\\\\Lib\\\\site-packages\\\\flask\\\\app.py\"</cite>,\\n      line <em class=\"line\">1821</em>,\\n      in <code class=\"function\">handle_user_exception</code></h4>\\n  <div class=\"source \"><pre class=\"line before\"><span class=\"ws\">            </span>return self.handle_http_exception(e)</pre>\\n<pre class=\"line before\"><span class=\"ws\"></span> </pre>\\n<pre class=\"line before\"><span class=\"ws\">        </span>handler = self._find_error_handler(e)</pre>\\n<pre class=\"line before\"><span class=\"ws\"></span> </pre>\\n<pre class=\"line before\"><span class=\"ws\">        </span>if handler is None:</pre>\\n<pre class=\"line current\"><span class=\"ws\">            </span>reraise(exc_type, exc_value, tb)</pre>\\n<pre class=\"line after\"><span class=\"ws\">        </span>return handler(e)</pre>\\n<pre class=\"line after\"><span class=\"ws\"></span> </pre>\\n<pre class=\"line after\"><span class=\"ws\">    </span>def handle_exception(self, e):</pre>\\n<pre class=\"line after\"><span class=\"ws\">        </span>&quot;&quot;&quot;Handle an exception that did not have an error handler</pre>\\n<pre class=\"line after\"><span class=\"ws\">        </span>associated with it, or that was raised from an error handler.</pre></div>\\n</div>\\n\\n<li><div class=\"frame\" id=\"frame-1834011047440\">\\n  <h4>File <cite class=\"filename\">\"C:\\\\Users\\\\Tom\\\\AppData\\\\Local\\\\Programs\\\\Python\\\\Python39\\\\Lib\\\\site-packages\\\\flask\\\\_compat.py\"</cite>,\\n      line <em class=\"line\">39</em>,\\n      in <code class=\"function\">reraise</code></h4>\\n  <div class=\"source \"><pre class=\"line before\"><span class=\"ws\">    </span>import collections.abc as collections_abc</pre>\\n<pre class=\"line before\"><span class=\"ws\"></span> </pre>\\n<pre class=\"line before\"><span class=\"ws\">    </span>def reraise(tp, value, tb=None):</pre>\\n<pre class=\"line before\"><span class=\"ws\">        </span>if value.__traceback__ is not tb:</pre>\\n<pre class=\"line before\"><span class=\"ws\">            </span>raise value.with_traceback(tb)</pre>\\n<pre class=\"line current\"><span class=\"ws\">        </span>raise value</pre>\\n<pre class=\"line after\"><span class=\"ws\"></span> </pre>\\n<pre class=\"line after\"><span class=\"ws\">    </span>implements_to_string = _identity</pre>\\n<pre class=\"line after\"><span class=\"ws\"></span> </pre>\\n<pre class=\"line after\"><span class=\"ws\"></span>else:</pre>\\n<pre class=\"line after\"><span class=\"ws\">    </span>iterkeys = lambda d: d.iterkeys()</pre></div>\\n</div>\\n\\n<li><div class=\"frame\" id=\"frame-1834011047008\">\\n  <h4>File <cite class=\"filename\">\"C:\\\\Users\\\\Tom\\\\AppData\\\\Local\\\\Programs\\\\Python\\\\Python39\\\\Lib\\\\site-packages\\\\flask\\\\app.py\"</cite>,\\n      line <em class=\"line\">1950</em>,\\n      in <code class=\"function\">full_dispatch_request</code></h4>\\n  <div class=\"source \"><pre class=\"line before\"><span class=\"ws\">        </span>self.try_trigger_before_first_request_functions()</pre>\\n<pre class=\"line before\"><span class=\"ws\">        </span>try:</pre>\\n<pre class=\"line before\"><span class=\"ws\">            </span>request_started.send(self)</pre>\\n<pre class=\"line before\"><span class=\"ws\">            </span>rv = self.preprocess_request()</pre>\\n<pre class=\"line before\"><span class=\"ws\">            </span>if rv is None:</pre>\\n<pre class=\"line current\"><span class=\"ws\">                </span>rv = self.dispatch_request()</pre>\\n<pre class=\"line after\"><span class=\"ws\">        </span>except Exception as e:</pre>\\n<pre class=\"line after\"><span class=\"ws\">            </span>rv = self.handle_user_exception(e)</pre>\\n<pre class=\"line after\"><span class=\"ws\">        </span>return self.finalize_request(rv)</pre>\\n<pre class=\"line after\"><span class=\"ws\"></span> </pre>\\n<pre class=\"line after\"><span class=\"ws\">    </span>def finalize_request(self, rv, from_error_handler=False):</pre></div>\\n</div>\\n\\n<li><div class=\"frame\" id=\"frame-1834011047200\">\\n  <h4>File <cite class=\"filename\">\"C:\\\\Users\\\\Tom\\\\AppData\\\\Local\\\\Programs\\\\Python\\\\Python39\\\\Lib\\\\site-packages\\\\flask\\\\app.py\"</cite>,\\n      line <em class=\"line\">1936</em>,\\n      in <code class=\"function\">dispatch_request</code></h4>\\n  <div class=\"source \"><pre class=\"line before\"><span class=\"ws\">            </span>getattr(rule, &quot;provide_automatic_options&quot;, False)</pre>\\n<pre class=\"line before\"><span class=\"ws\">            </span>and req.method == &quot;OPTIONS&quot;</pre>\\n<pre class=\"line before\"><span class=\"ws\">        </span>):</pre>\\n<pre class=\"line before\"><span class=\"ws\">            </span>return self.make_default_options_response()</pre>\\n<pre class=\"line before\"><span class=\"ws\">        </span># otherwise dispatch to the handler for that endpoint</pre>\\n<pre class=\"line current\"><span class=\"ws\">        </span>return self.view_functions[rule.endpoint](**req.view_args)</pre>\\n<pre class=\"line after\"><span class=\"ws\"></span> </pre>\\n<pre class=\"line after\"><span class=\"ws\">    </span>def full_dispatch_request(self):</pre>\\n<pre class=\"line after\"><span class=\"ws\">        </span>&quot;&quot;&quot;Dispatches the request and on top of that performs request</pre>\\n<pre class=\"line after\"><span class=\"ws\">        </span>pre and postprocessing as well as HTTP exception catching and</pre>\\n<pre class=\"line after\"><span class=\"ws\">        </span>error handling.</pre></div>\\n</div>\\n\\n<li><div class=\"frame\" id=\"frame-1834011046480\">\\n  <h4>File <cite class=\"filename\">\"D:\\\\Cloud\\\\rclone\\\\OneDrive\\\\Web\\\\TenDollarData\\\\Charts_TenDollarData\\\\financial_statements\\\\routes.py\"</cite>,\\n      line <em class=\"line\">319</em>,\\n      in <code class=\"function\">current_ratio</code></h4>\\n  <div class=\"source \"><pre class=\"line before\"><span class=\"ws\"></span> </pre>\\n<pre class=\"line before\"><span class=\"ws\">    </span>df = df[[\\'date\\',&quot;{}&quot;.format(fin_metric_name)]].dropna() #.fillna(0)#.fillna(method=\\'bfill\\')</pre>\\n<pre class=\"line before\"><span class=\"ws\">    </span>df[\\'date\\'] = pd.to_datetime(df[\\'date\\']).values.astype(np.int64) // 10 ** 6</pre>\\n<pre class=\"line before\"><span class=\"ws\">    </span>full_path = csv_file.split(\\' ~ \\')</pre>\\n<pre class=\"line before\"><span class=\"ws\">    </span>path = pathlib.PurePath(full_path[0])</pre>\\n<pre class=\"line current\"><span class=\"ws\">    </span>print(&quot;Nothing took {} seconds&quot;.format(time.time() - start_time))</pre>\\n<pre class=\"line after\"><span class=\"ws\">    </span>total_seconds = ((time.time() - start_time))</pre>\\n<pre class=\"line after\"><span class=\"ws\"></span> </pre>\\n<pre class=\"line after\"><span class=\"ws\">    </span>labels = [</pre>\\n<pre class=\"line after\"><span class=\"ws\">        </span>\\'JAN\\', \\'FEB\\', \\'MAR\\', \\'APR\\',</pre>\\n<pre class=\"line after\"><span class=\"ws\">        </span>\\'MAY\\', \\'JUN\\', \\'JUL\\', \\'AUG\\',</pre></div>\\n</div>\\n</ul>\\n  <blockquote>NameError: name \\'start_time\\' is not defined</blockquote>\\n</div>\\n\\n<div class=\"plain\">\\n  <form action=\"/?__debugger__=yes&amp;cmd=paste\" method=\"post\">\\n    <p>\\n      <input type=\"hidden\" name=\"language\" value=\"pytb\">\\n      This is the Copy/Paste friendly version of the traceback.  <span\\n      class=\"pastemessage\">You can also paste this traceback into\\n      a <a href=\"https://gist.github.com/\">gist</a>:\\n      <input type=\"submit\" value=\"create paste\"></span>\\n    </p>\\n    <textarea cols=\"50\" rows=\"10\" name=\"code\" readonly>Traceback (most recent call last):\\n  File &quot;C:\\\\Users\\\\Tom\\\\AppData\\\\Local\\\\Programs\\\\Python\\\\Python39\\\\Lib\\\\site-packages\\\\flask\\\\app.py&quot;, line 2464, in __call__\\n    return self.wsgi_app(environ, start_response)\\n  File &quot;C:\\\\Users\\\\Tom\\\\AppData\\\\Local\\\\Programs\\\\Python\\\\Python39\\\\Lib\\\\site-packages\\\\flask\\\\app.py&quot;, line 2450, in wsgi_app\\n    response = self.handle_exception(e)\\n  File &quot;C:\\\\Users\\\\Tom\\\\AppData\\\\Local\\\\Programs\\\\Python\\\\Python39\\\\Lib\\\\site-packages\\\\flask\\\\app.py&quot;, line 1867, in handle_exception\\n    reraise(exc_type, exc_value, tb)\\n  File &quot;C:\\\\Users\\\\Tom\\\\AppData\\\\Local\\\\Programs\\\\Python\\\\Python39\\\\Lib\\\\site-packages\\\\flask\\\\_compat.py&quot;, line 39, in reraise\\n    raise value\\n  File &quot;C:\\\\Users\\\\Tom\\\\AppData\\\\Local\\\\Programs\\\\Python\\\\Python39\\\\Lib\\\\site-packages\\\\flask\\\\app.py&quot;, line 2447, in wsgi_app\\n    response = self.full_dispatch_request()\\n  File &quot;C:\\\\Users\\\\Tom\\\\AppData\\\\Local\\\\Programs\\\\Python\\\\Python39\\\\Lib\\\\site-packages\\\\flask\\\\app.py&quot;, line 1952, in full_dispatch_request\\n    rv = self.handle_user_exception(e)\\n  File &quot;C:\\\\Users\\\\Tom\\\\AppData\\\\Local\\\\Programs\\\\Python\\\\Python39\\\\Lib\\\\site-packages\\\\flask\\\\app.py&quot;, line 1821, in handle_user_exception\\n    reraise(exc_type, exc_value, tb)\\n  File &quot;C:\\\\Users\\\\Tom\\\\AppData\\\\Local\\\\Programs\\\\Python\\\\Python39\\\\Lib\\\\site-packages\\\\flask\\\\_compat.py&quot;, line 39, in reraise\\n    raise value\\n  File &quot;C:\\\\Users\\\\Tom\\\\AppData\\\\Local\\\\Programs\\\\Python\\\\Python39\\\\Lib\\\\site-packages\\\\flask\\\\app.py&quot;, line 1950, in full_dispatch_request\\n    rv = self.dispatch_request()\\n  File &quot;C:\\\\Users\\\\Tom\\\\AppData\\\\Local\\\\Programs\\\\Python\\\\Python39\\\\Lib\\\\site-packages\\\\flask\\\\app.py&quot;, line 1936, in dispatch_request\\n    return self.view_functions[rule.endpoint](**req.view_args)\\n  File &quot;D:\\\\Cloud\\\\rclone\\\\OneDrive\\\\Web\\\\TenDollarData\\\\Charts_TenDollarData\\\\financial_statements\\\\routes.py&quot;, line 319, in current_ratio\\n    print(&quot;Nothing took {} seconds&quot;.format(time.time() - start_time))\\nNameError: name \\'start_time\\' is not defined</textarea>\\n  </form>\\n</div>\\n<div class=\"explanation\">\\n  The debugger caught an exception in your WSGI application.  You can now\\n  look at the traceback which led to the error.  <span class=\"nojavascript\">\\n  If you enable JavaScript you can also use additional features such as code\\n  execution (if the evalex feature is enabled), automatic pasting of the\\n  exceptions and much more.</span>\\n</div>\\n      <div class=\"footer\">\\n        Brought to you by <strong class=\"arthur\">DON\\'T PANIC</strong>, your\\n        friendly Werkzeug powered traceback interpreter.\\n      </div>\\n    </div>\\n\\n    <div class=\"pin-prompt\">\\n      <div class=\"inner\">\\n        <h3>Console Locked</h3>\\n        <p>\\n          The console is locked and needs to be unlocked by entering the PIN.\\n          You can find the PIN printed out on the standard output of your\\n          shell that runs the server.\\n        <form>\\n          <p>PIN:\\n            <input type=text name=pin size=14>\\n            <input type=submit name=btn value=\"Confirm Pin\">\\n        </form>\\n      </div>\\n    </div>\\n  </body>\\n</html>\\n\\n<!--\\n\\nTraceback (most recent call last):\\n  File \"C:\\\\Users\\\\Tom\\\\AppData\\\\Local\\\\Programs\\\\Python\\\\Python39\\\\Lib\\\\site-packages\\\\flask\\\\app.py\", line 2464, in __call__\\n    return self.wsgi_app(environ, start_response)\\n  File \"C:\\\\Users\\\\Tom\\\\AppData\\\\Local\\\\Programs\\\\Python\\\\Python39\\\\Lib\\\\site-packages\\\\flask\\\\app.py\", line 2450, in wsgi_app\\n    response = self.handle_exception(e)\\n  File \"C:\\\\Users\\\\Tom\\\\AppData\\\\Local\\\\Programs\\\\Python\\\\Python39\\\\Lib\\\\site-packages\\\\flask\\\\app.py\", line 1867, in handle_exception\\n    reraise(exc_type, exc_value, tb)\\n  File \"C:\\\\Users\\\\Tom\\\\AppData\\\\Local\\\\Programs\\\\Python\\\\Python39\\\\Lib\\\\site-packages\\\\flask\\\\_compat.py\", line 39, in reraise\\n    raise value\\n  File \"C:\\\\Users\\\\Tom\\\\AppData\\\\Local\\\\Programs\\\\Python\\\\Python39\\\\Lib\\\\site-packages\\\\flask\\\\app.py\", line 2447, in wsgi_app\\n    response = self.full_dispatch_request()\\n  File \"C:\\\\Users\\\\Tom\\\\AppData\\\\Local\\\\Programs\\\\Python\\\\Python39\\\\Lib\\\\site-packages\\\\flask\\\\app.py\", line 1952, in full_dispatch_request\\n    rv = self.handle_user_exception(e)\\n  File \"C:\\\\Users\\\\Tom\\\\AppData\\\\Local\\\\Programs\\\\Python\\\\Python39\\\\Lib\\\\site-packages\\\\flask\\\\app.py\", line 1821, in handle_user_exception\\n    reraise(exc_type, exc_value, tb)\\n  File \"C:\\\\Users\\\\Tom\\\\AppData\\\\Local\\\\Programs\\\\Python\\\\Python39\\\\Lib\\\\site-packages\\\\flask\\\\_compat.py\", line 39, in reraise\\n    raise value\\n  File \"C:\\\\Users\\\\Tom\\\\AppData\\\\Local\\\\Programs\\\\Python\\\\Python39\\\\Lib\\\\site-packages\\\\flask\\\\app.py\", line 1950, in full_dispatch_request\\n    rv = self.dispatch_request()\\n  File \"C:\\\\Users\\\\Tom\\\\AppData\\\\Local\\\\Programs\\\\Python\\\\Python39\\\\Lib\\\\site-packages\\\\flask\\\\app.py\", line 1936, in dispatch_request\\n    return self.view_functions[rule.endpoint](**req.view_args)\\n  File \"D:\\\\Cloud\\\\rclone\\\\OneDrive\\\\Web\\\\TenDollarData\\\\Charts_TenDollarData\\\\financial_statements\\\\routes.py\", line 319, in current_ratio\\n    print(\"Nothing took {} seconds\".format(time.time() - start_time))\\nNameError: name \\'start_time\\' is not defined\\n\\n-->\\n'\n"
     ]
    }
   ],
   "source": [
    "import requests\n",
    "response = requests.get(\"http://www.google.com\")\n",
    "response = requests.get(\"http://127.0.0.1:5000/aapl-stock/apple/cash-and-cash-equivalents\")\n",
    "print(response.content)"
   ]
  },
  {
   "cell_type": "code",
   "execution_count": 14,
   "metadata": {
    "ExecuteTime": {
     "end_time": "2020-12-14T19:06:50.451450Z",
     "start_time": "2020-12-14T19:06:49.937726Z"
    },
    "collapsed": true
   },
   "outputs": [
    {
     "ename": "HTTPError",
     "evalue": "HTTP Error 500: INTERNAL SERVER ERROR",
     "output_type": "error",
     "traceback": [
      "\u001b[1;31m---------------------------------------------------------------------------\u001b[0m",
      "\u001b[1;31mHTTPError\u001b[0m                                 Traceback (most recent call last)",
      "\u001b[1;32m<ipython-input-14-d91acbefa098>\u001b[0m in \u001b[0;36m<module>\u001b[1;34m\u001b[0m\n\u001b[0;32m      9\u001b[0m \u001b[1;31m# data = response.read()\u001b[0m\u001b[1;33m\u001b[0m\u001b[1;33m\u001b[0m\u001b[1;33m\u001b[0m\u001b[0m\n\u001b[0;32m     10\u001b[0m \u001b[1;33m\u001b[0m\u001b[0m\n\u001b[1;32m---> 11\u001b[1;33m \u001b[1;32mwith\u001b[0m \u001b[0murllib\u001b[0m\u001b[1;33m.\u001b[0m\u001b[0mrequest\u001b[0m\u001b[1;33m.\u001b[0m\u001b[0murlopen\u001b[0m\u001b[1;33m(\u001b[0m\u001b[1;34m\"http://127.0.0.1:5000/aapl-stock/apple/cash-and-cash-equivalents\"\u001b[0m\u001b[1;33m)\u001b[0m \u001b[1;32mas\u001b[0m \u001b[0murl\u001b[0m\u001b[1;33m:\u001b[0m\u001b[1;33m\u001b[0m\u001b[1;33m\u001b[0m\u001b[0m\n\u001b[0m\u001b[0;32m     12\u001b[0m     \u001b[0ms\u001b[0m \u001b[1;33m=\u001b[0m \u001b[0murl\u001b[0m\u001b[1;33m.\u001b[0m\u001b[0mread\u001b[0m\u001b[1;33m(\u001b[0m\u001b[1;33m)\u001b[0m\u001b[1;33m\u001b[0m\u001b[1;33m\u001b[0m\u001b[0m\n\u001b[0;32m     13\u001b[0m     \u001b[1;31m# I'm guessing this would output the html source code ?\u001b[0m\u001b[1;33m\u001b[0m\u001b[1;33m\u001b[0m\u001b[1;33m\u001b[0m\u001b[0m\n",
      "\u001b[1;32m~\\AppData\\Local\\Programs\\Python\\Python39\\lib\\urllib\\request.py\u001b[0m in \u001b[0;36murlopen\u001b[1;34m(url, data, timeout, cafile, capath, cadefault, context)\u001b[0m\n\u001b[0;32m    212\u001b[0m     \u001b[1;32melse\u001b[0m\u001b[1;33m:\u001b[0m\u001b[1;33m\u001b[0m\u001b[1;33m\u001b[0m\u001b[0m\n\u001b[0;32m    213\u001b[0m         \u001b[0mopener\u001b[0m \u001b[1;33m=\u001b[0m \u001b[0m_opener\u001b[0m\u001b[1;33m\u001b[0m\u001b[1;33m\u001b[0m\u001b[0m\n\u001b[1;32m--> 214\u001b[1;33m     \u001b[1;32mreturn\u001b[0m \u001b[0mopener\u001b[0m\u001b[1;33m.\u001b[0m\u001b[0mopen\u001b[0m\u001b[1;33m(\u001b[0m\u001b[0murl\u001b[0m\u001b[1;33m,\u001b[0m \u001b[0mdata\u001b[0m\u001b[1;33m,\u001b[0m \u001b[0mtimeout\u001b[0m\u001b[1;33m)\u001b[0m\u001b[1;33m\u001b[0m\u001b[1;33m\u001b[0m\u001b[0m\n\u001b[0m\u001b[0;32m    215\u001b[0m \u001b[1;33m\u001b[0m\u001b[0m\n\u001b[0;32m    216\u001b[0m \u001b[1;32mdef\u001b[0m \u001b[0minstall_opener\u001b[0m\u001b[1;33m(\u001b[0m\u001b[0mopener\u001b[0m\u001b[1;33m)\u001b[0m\u001b[1;33m:\u001b[0m\u001b[1;33m\u001b[0m\u001b[1;33m\u001b[0m\u001b[0m\n",
      "\u001b[1;32m~\\AppData\\Local\\Programs\\Python\\Python39\\lib\\urllib\\request.py\u001b[0m in \u001b[0;36mopen\u001b[1;34m(self, fullurl, data, timeout)\u001b[0m\n\u001b[0;32m    521\u001b[0m         \u001b[1;32mfor\u001b[0m \u001b[0mprocessor\u001b[0m \u001b[1;32min\u001b[0m \u001b[0mself\u001b[0m\u001b[1;33m.\u001b[0m\u001b[0mprocess_response\u001b[0m\u001b[1;33m.\u001b[0m\u001b[0mget\u001b[0m\u001b[1;33m(\u001b[0m\u001b[0mprotocol\u001b[0m\u001b[1;33m,\u001b[0m \u001b[1;33m[\u001b[0m\u001b[1;33m]\u001b[0m\u001b[1;33m)\u001b[0m\u001b[1;33m:\u001b[0m\u001b[1;33m\u001b[0m\u001b[1;33m\u001b[0m\u001b[0m\n\u001b[0;32m    522\u001b[0m             \u001b[0mmeth\u001b[0m \u001b[1;33m=\u001b[0m \u001b[0mgetattr\u001b[0m\u001b[1;33m(\u001b[0m\u001b[0mprocessor\u001b[0m\u001b[1;33m,\u001b[0m \u001b[0mmeth_name\u001b[0m\u001b[1;33m)\u001b[0m\u001b[1;33m\u001b[0m\u001b[1;33m\u001b[0m\u001b[0m\n\u001b[1;32m--> 523\u001b[1;33m             \u001b[0mresponse\u001b[0m \u001b[1;33m=\u001b[0m \u001b[0mmeth\u001b[0m\u001b[1;33m(\u001b[0m\u001b[0mreq\u001b[0m\u001b[1;33m,\u001b[0m \u001b[0mresponse\u001b[0m\u001b[1;33m)\u001b[0m\u001b[1;33m\u001b[0m\u001b[1;33m\u001b[0m\u001b[0m\n\u001b[0m\u001b[0;32m    524\u001b[0m \u001b[1;33m\u001b[0m\u001b[0m\n\u001b[0;32m    525\u001b[0m         \u001b[1;32mreturn\u001b[0m \u001b[0mresponse\u001b[0m\u001b[1;33m\u001b[0m\u001b[1;33m\u001b[0m\u001b[0m\n",
      "\u001b[1;32m~\\AppData\\Local\\Programs\\Python\\Python39\\lib\\urllib\\request.py\u001b[0m in \u001b[0;36mhttp_response\u001b[1;34m(self, request, response)\u001b[0m\n\u001b[0;32m    630\u001b[0m         \u001b[1;31m# request was successfully received, understood, and accepted.\u001b[0m\u001b[1;33m\u001b[0m\u001b[1;33m\u001b[0m\u001b[1;33m\u001b[0m\u001b[0m\n\u001b[0;32m    631\u001b[0m         \u001b[1;32mif\u001b[0m \u001b[1;32mnot\u001b[0m \u001b[1;33m(\u001b[0m\u001b[1;36m200\u001b[0m \u001b[1;33m<=\u001b[0m \u001b[0mcode\u001b[0m \u001b[1;33m<\u001b[0m \u001b[1;36m300\u001b[0m\u001b[1;33m)\u001b[0m\u001b[1;33m:\u001b[0m\u001b[1;33m\u001b[0m\u001b[1;33m\u001b[0m\u001b[0m\n\u001b[1;32m--> 632\u001b[1;33m             response = self.parent.error(\n\u001b[0m\u001b[0;32m    633\u001b[0m                 'http', request, response, code, msg, hdrs)\n\u001b[0;32m    634\u001b[0m \u001b[1;33m\u001b[0m\u001b[0m\n",
      "\u001b[1;32m~\\AppData\\Local\\Programs\\Python\\Python39\\lib\\urllib\\request.py\u001b[0m in \u001b[0;36merror\u001b[1;34m(self, proto, *args)\u001b[0m\n\u001b[0;32m    559\u001b[0m         \u001b[1;32mif\u001b[0m \u001b[0mhttp_err\u001b[0m\u001b[1;33m:\u001b[0m\u001b[1;33m\u001b[0m\u001b[1;33m\u001b[0m\u001b[0m\n\u001b[0;32m    560\u001b[0m             \u001b[0margs\u001b[0m \u001b[1;33m=\u001b[0m \u001b[1;33m(\u001b[0m\u001b[0mdict\u001b[0m\u001b[1;33m,\u001b[0m \u001b[1;34m'default'\u001b[0m\u001b[1;33m,\u001b[0m \u001b[1;34m'http_error_default'\u001b[0m\u001b[1;33m)\u001b[0m \u001b[1;33m+\u001b[0m \u001b[0morig_args\u001b[0m\u001b[1;33m\u001b[0m\u001b[1;33m\u001b[0m\u001b[0m\n\u001b[1;32m--> 561\u001b[1;33m             \u001b[1;32mreturn\u001b[0m \u001b[0mself\u001b[0m\u001b[1;33m.\u001b[0m\u001b[0m_call_chain\u001b[0m\u001b[1;33m(\u001b[0m\u001b[1;33m*\u001b[0m\u001b[0margs\u001b[0m\u001b[1;33m)\u001b[0m\u001b[1;33m\u001b[0m\u001b[1;33m\u001b[0m\u001b[0m\n\u001b[0m\u001b[0;32m    562\u001b[0m \u001b[1;33m\u001b[0m\u001b[0m\n\u001b[0;32m    563\u001b[0m \u001b[1;31m# XXX probably also want an abstract factory that knows when it makes\u001b[0m\u001b[1;33m\u001b[0m\u001b[1;33m\u001b[0m\u001b[1;33m\u001b[0m\u001b[0m\n",
      "\u001b[1;32m~\\AppData\\Local\\Programs\\Python\\Python39\\lib\\urllib\\request.py\u001b[0m in \u001b[0;36m_call_chain\u001b[1;34m(self, chain, kind, meth_name, *args)\u001b[0m\n\u001b[0;32m    492\u001b[0m         \u001b[1;32mfor\u001b[0m \u001b[0mhandler\u001b[0m \u001b[1;32min\u001b[0m \u001b[0mhandlers\u001b[0m\u001b[1;33m:\u001b[0m\u001b[1;33m\u001b[0m\u001b[1;33m\u001b[0m\u001b[0m\n\u001b[0;32m    493\u001b[0m             \u001b[0mfunc\u001b[0m \u001b[1;33m=\u001b[0m \u001b[0mgetattr\u001b[0m\u001b[1;33m(\u001b[0m\u001b[0mhandler\u001b[0m\u001b[1;33m,\u001b[0m \u001b[0mmeth_name\u001b[0m\u001b[1;33m)\u001b[0m\u001b[1;33m\u001b[0m\u001b[1;33m\u001b[0m\u001b[0m\n\u001b[1;32m--> 494\u001b[1;33m             \u001b[0mresult\u001b[0m \u001b[1;33m=\u001b[0m \u001b[0mfunc\u001b[0m\u001b[1;33m(\u001b[0m\u001b[1;33m*\u001b[0m\u001b[0margs\u001b[0m\u001b[1;33m)\u001b[0m\u001b[1;33m\u001b[0m\u001b[1;33m\u001b[0m\u001b[0m\n\u001b[0m\u001b[0;32m    495\u001b[0m             \u001b[1;32mif\u001b[0m \u001b[0mresult\u001b[0m \u001b[1;32mis\u001b[0m \u001b[1;32mnot\u001b[0m \u001b[1;32mNone\u001b[0m\u001b[1;33m:\u001b[0m\u001b[1;33m\u001b[0m\u001b[1;33m\u001b[0m\u001b[0m\n\u001b[0;32m    496\u001b[0m                 \u001b[1;32mreturn\u001b[0m \u001b[0mresult\u001b[0m\u001b[1;33m\u001b[0m\u001b[1;33m\u001b[0m\u001b[0m\n",
      "\u001b[1;32m~\\AppData\\Local\\Programs\\Python\\Python39\\lib\\urllib\\request.py\u001b[0m in \u001b[0;36mhttp_error_default\u001b[1;34m(self, req, fp, code, msg, hdrs)\u001b[0m\n\u001b[0;32m    639\u001b[0m \u001b[1;32mclass\u001b[0m \u001b[0mHTTPDefaultErrorHandler\u001b[0m\u001b[1;33m(\u001b[0m\u001b[0mBaseHandler\u001b[0m\u001b[1;33m)\u001b[0m\u001b[1;33m:\u001b[0m\u001b[1;33m\u001b[0m\u001b[1;33m\u001b[0m\u001b[0m\n\u001b[0;32m    640\u001b[0m     \u001b[1;32mdef\u001b[0m \u001b[0mhttp_error_default\u001b[0m\u001b[1;33m(\u001b[0m\u001b[0mself\u001b[0m\u001b[1;33m,\u001b[0m \u001b[0mreq\u001b[0m\u001b[1;33m,\u001b[0m \u001b[0mfp\u001b[0m\u001b[1;33m,\u001b[0m \u001b[0mcode\u001b[0m\u001b[1;33m,\u001b[0m \u001b[0mmsg\u001b[0m\u001b[1;33m,\u001b[0m \u001b[0mhdrs\u001b[0m\u001b[1;33m)\u001b[0m\u001b[1;33m:\u001b[0m\u001b[1;33m\u001b[0m\u001b[1;33m\u001b[0m\u001b[0m\n\u001b[1;32m--> 641\u001b[1;33m         \u001b[1;32mraise\u001b[0m \u001b[0mHTTPError\u001b[0m\u001b[1;33m(\u001b[0m\u001b[0mreq\u001b[0m\u001b[1;33m.\u001b[0m\u001b[0mfull_url\u001b[0m\u001b[1;33m,\u001b[0m \u001b[0mcode\u001b[0m\u001b[1;33m,\u001b[0m \u001b[0mmsg\u001b[0m\u001b[1;33m,\u001b[0m \u001b[0mhdrs\u001b[0m\u001b[1;33m,\u001b[0m \u001b[0mfp\u001b[0m\u001b[1;33m)\u001b[0m\u001b[1;33m\u001b[0m\u001b[1;33m\u001b[0m\u001b[0m\n\u001b[0m\u001b[0;32m    642\u001b[0m \u001b[1;33m\u001b[0m\u001b[0m\n\u001b[0;32m    643\u001b[0m \u001b[1;32mclass\u001b[0m \u001b[0mHTTPRedirectHandler\u001b[0m\u001b[1;33m(\u001b[0m\u001b[0mBaseHandler\u001b[0m\u001b[1;33m)\u001b[0m\u001b[1;33m:\u001b[0m\u001b[1;33m\u001b[0m\u001b[1;33m\u001b[0m\u001b[0m\n",
      "\u001b[1;31mHTTPError\u001b[0m: HTTP Error 500: INTERNAL SERVER ERROR"
     ]
    }
   ],
   "source": [
    "import urllib.request\n",
    "\n",
    "myurl = \"http://127.0.0.1:5000/aapl-stock/apple/cash-and-cash-equivalents\"\n",
    "\n",
    "# # GET is the default action\n",
    "# response = urllib.request.urlopen(myurl)  \n",
    "\n",
    "# # Output from the GET assuming response code was 200\n",
    "# data = response.read()  \n",
    "\n",
    "with urllib.request.urlopen(\"http://127.0.0.1:5000/aapl-stock/apple/cash-and-cash-equivalents\") as url:\n",
    "    s = url.read()\n",
    "    # I'm guessing this would output the html source code ?\n",
    "    print(s)"
   ]
  },
  {
   "cell_type": "code",
   "execution_count": null,
   "metadata": {},
   "outputs": [],
   "source": [
    "from requests_testadapter import Resp\n",
    "\n",
    "class LocalFileAdapter(requests.adapters.HTTPAdapter):\n",
    "    def build_response_from_file(self, request):\n",
    "        file_path = request.url[7:]\n",
    "        with open(file_path, 'rb') as file:\n",
    "            buff = bytearray(os.path.getsize(file_path))\n",
    "            file.readinto(buff)\n",
    "            resp = Resp(buff)\n",
    "            r = self.build_response(request, resp)\n",
    "\n",
    "            return r\n",
    "\n",
    "    def send(self, request, stream=False, timeout=None,\n",
    "             verify=True, cert=None, proxies=None):\n",
    "\n",
    "        return self.build_response_from_file(request)\n",
    "\n",
    "requests_session = requests.session()\n",
    "requests_session.mount('file://', LocalFileAdapter())\n",
    "requests_session.get('file://<some_local_path>')"
   ]
  },
  {
   "cell_type": "code",
   "execution_count": 15,
   "metadata": {
    "ExecuteTime": {
     "end_time": "2020-12-14T19:07:25.849385Z",
     "start_time": "2020-12-14T19:07:25.833380Z"
    }
   },
   "outputs": [
    {
     "name": "stdout",
     "output_type": "stream",
     "text": [
      "b'<!DOCTYPE HTML PUBLIC \"-//W3C//DTD HTML 3.2 Final//EN\">\\n<title>404 Not Found</title>\\n<h1>Not Found</h1>\\n<p>The requested URL was not found on the server. If you entered the URL manually please check your spelling and try again.</p>\\n'\n"
     ]
    }
   ],
   "source": [
    "import requests\n",
    "\n",
    "os.environ['NO_PROXY'] = '127.0.0.1'\n",
    "r = requests.get('http://127.0.0.1:5000/aapl=stock/apple/cash-and-cash-equivalents')\n",
    "print(r.content)"
   ]
  },
  {
   "cell_type": "code",
   "execution_count": 99,
   "metadata": {
    "ExecuteTime": {
     "end_time": "2020-12-20T19:55:30.060717Z",
     "start_time": "2020-12-20T19:55:30.043197Z"
    },
    "scrolled": true
   },
   "outputs": [],
   "source": [
    "import requests\n",
    "os.environ['NO_PROXY'] = '127.0.1'\n",
    "\n",
    "# r=requests.get(\"http://127.0.01:5000/aapl=stock/apple/cash-and-cash-equivalents\")"
   ]
  },
  {
   "cell_type": "code",
   "execution_count": 16,
   "metadata": {
    "ExecuteTime": {
     "end_time": "2020-12-14T19:07:44.294450Z",
     "start_time": "2020-12-14T19:07:44.280453Z"
    }
   },
   "outputs": [],
   "source": [
    "# BASE_URL='http://127.0.0.1:8000'\n",
    "BASE_URL = \"http://127.0.0.1:5000/aapl=stock/apple/cash-and-cash-equivalents/\"\n",
    "BASE_URL = \"http://127.0.0.1:5000/aapl=stock/apple/cash-and-cash-equivalents\"\n",
    "resp=requests.get(BASE_URL)\n",
    "# print(resp.status_code)\n",
    "# print(resp.json())"
   ]
  },
  {
   "cell_type": "code",
   "execution_count": 17,
   "metadata": {
    "ExecuteTime": {
     "end_time": "2020-12-14T19:07:46.127999Z",
     "start_time": "2020-12-14T19:07:46.104480Z"
    }
   },
   "outputs": [
    {
     "data": {
      "text/plain": [
       "'<!DOCTYPE HTML PUBLIC \"-//W3C//DTD HTML 3.2 Final//EN\">\\n<title>404 Not Found</title>\\n<h1>Not Found</h1>\\n<p>The requested URL was not found on the server. If you entered the URL manually please check your spelling and try again.</p>\\n'"
      ]
     },
     "execution_count": 17,
     "metadata": {},
     "output_type": "execute_result"
    }
   ],
   "source": [
    "resp.text"
   ]
  },
  {
   "cell_type": "code",
   "execution_count": 19,
   "metadata": {
    "ExecuteTime": {
     "end_time": "2020-12-14T19:09:30.633884Z",
     "start_time": "2020-12-14T19:09:30.619519Z"
    }
   },
   "outputs": [
    {
     "data": {
      "text/plain": [
       "<Response [404]>"
      ]
     },
     "execution_count": 19,
     "metadata": {},
     "output_type": "execute_result"
    }
   ],
   "source": [
    "req = requests.post(\"http://127.0.0.1:5000/aapl=stock/apple/cash-and-cash-equivalents\", 'html.parser')\n",
    "req"
   ]
  },
  {
   "cell_type": "code",
   "execution_count": 98,
   "metadata": {
    "ExecuteTime": {
     "end_time": "2020-12-20T19:55:23.558118Z",
     "start_time": "2020-12-20T19:55:23.396118Z"
    },
    "scrolled": true
   },
   "outputs": [],
   "source": [
    "from pypac import PACSession\n",
    "session = PACSession()\n",
    "# session.get('https://127.0.0.1/aapl=stock/apple/cash-and-cash-equival\n",
    "# session.get(\"http://127.0.01:5000/aapl=stock/apple/cash-and-cash-equivalents\")\n",
    "# <Response [200]>"
   ]
  },
  {
   "cell_type": "code",
   "execution_count": null,
   "metadata": {},
   "outputs": [],
   "source": [
    "from pypac import PACSession\n",
    "session = PACSession()\n",
    "session.get('https://127.0.0/aapl=stock/apple/cash-and-cash-equivalents')\n",
    "# <Response [200]>"
   ]
  },
  {
   "cell_type": "code",
   "execution_count": null,
   "metadata": {},
   "outputs": [],
   "source": [
    "from requests_testadapter import Resp\n",
    "\n",
    "class LocalFileAdapter(requests.adapters.HTTPAdapter):\n",
    "    def build_response_from_file(self, request):\n",
    "        file_path = request.url[7:]\n",
    "        with open(file_path, 'rb') as file:\n",
    "            buff = bytearray(os.path.getsize(file_path))\n",
    "            file.readinto(buff)\n",
    "            resp = Resp(buff)\n",
    "            r = self.build_response(request, resp)\n",
    "\n",
    "            return r\n",
    "\n",
    "    def send(self, request, stream=False, timeout=None,\n",
    "             verify=True, cert=None, proxies=None):\n",
    "\n",
    "        return self.build_response_from_file(request)\n",
    "\n",
    "requests_session = requests.session()\n",
    "requests_session.mount('file://', LocalFileAdapter())\n",
    "requests_session.get('file://<some_local_path>')"
   ]
  },
  {
   "cell_type": "code",
   "execution_count": 17,
   "metadata": {
    "ExecuteTime": {
     "end_time": "2020-12-17T23:02:00.850435Z",
     "start_time": "2020-12-17T23:02:00.766437Z"
    }
   },
   "outputs": [
    {
     "ename": "KeyError",
     "evalue": "\"None of [Index(['Cash and Cash Equivalents', 'Short Term Investments',\\n       'Cash And Short-Term Investments', 'Accounts Receivables', 'Inventory',\\n       'Other Current Assets', 'Total Current Assets', 'PP&E', 'Goodwill',\\n       'Intangible Assets', 'Goodwill and Intangible Assets',\\n       'Long-term Investments', 'Tax Assets', 'Other Non-Current Assets',\\n       'Total Non-Current Assets', 'Other Assets', 'Total Assets',\\n       'Accounts Payables', 'Short-term Debt', 'Income Tax Payables',\\n       'Deferred Revenue', 'Other Current Liabilities',\\n       'Total Current Liabilities', 'Long-term Debt',\\n       'Deferred Revenue Non-Current', 'Deferred Tax Liabilities Non-Current',\\n       'Other Non-Current Liabilities', 'Total Non-Current Liabilities',\\n       'Other Liabilities', 'Total Liabilities', 'Common Stock',\\n       'Retained Earnings', 'Accumulated Other Comprehensive Income Loss',\\n       'Other Shareholders Equity', 'Total Shareholders Equity',\\n       'Total Liabilities & Stockholders Equity', 'Total Investments',\\n       'Total Debt', 'Net Debt', 'SEC Statement Link', 'Quarter & Year'],\\n      dtype='object')] are in the [columns]\"",
     "output_type": "error",
     "traceback": [
      "\u001b[1;31m---------------------------------------------------------------------------\u001b[0m",
      "\u001b[1;31mKeyError\u001b[0m                                  Traceback (most recent call last)",
      "\u001b[1;32m<ipython-input-17-e6eaa19c381e>\u001b[0m in \u001b[0;36m<module>\u001b[1;34m\u001b[0m\n\u001b[0;32m     35\u001b[0m \u001b[0mcols\u001b[0m \u001b[1;33m=\u001b[0m \u001b[0mlist\u001b[0m\u001b[1;33m(\u001b[0m\u001b[0mdf_pct_chg_t\u001b[0m\u001b[1;33m.\u001b[0m\u001b[0mcolumns\u001b[0m\u001b[1;33m)\u001b[0m\u001b[1;33m\u001b[0m\u001b[1;33m\u001b[0m\u001b[0m\n\u001b[0;32m     36\u001b[0m \u001b[0mcols\u001b[0m \u001b[1;33m=\u001b[0m \u001b[1;33m[\u001b[0m\u001b[0mcols\u001b[0m\u001b[1;33m[\u001b[0m\u001b[1;33m-\u001b[0m\u001b[1;36m1\u001b[0m\u001b[1;33m]\u001b[0m\u001b[1;33m]\u001b[0m \u001b[1;33m+\u001b[0m \u001b[0mcols\u001b[0m\u001b[1;33m[\u001b[0m\u001b[1;33m:\u001b[0m\u001b[1;33m-\u001b[0m\u001b[1;36m1\u001b[0m\u001b[1;33m]\u001b[0m\u001b[1;33m\u001b[0m\u001b[1;33m\u001b[0m\u001b[0m\n\u001b[1;32m---> 37\u001b[1;33m \u001b[0mdf_pct_chg_t\u001b[0m \u001b[1;33m=\u001b[0m \u001b[0mdf_pct_chg_t\u001b[0m\u001b[1;33m[\u001b[0m\u001b[0mtitles_bs\u001b[0m\u001b[1;33m]\u001b[0m\u001b[1;33m\u001b[0m\u001b[1;33m\u001b[0m\u001b[0m\n\u001b[0m\u001b[0;32m     38\u001b[0m \u001b[1;33m\u001b[0m\u001b[0m\n\u001b[0;32m     39\u001b[0m \u001b[1;33m\u001b[0m\u001b[0m\n",
      "\u001b[1;32m~\\quantconnect\\lib\\site-packages\\pandas\\core\\frame.py\u001b[0m in \u001b[0;36m__getitem__\u001b[1;34m(self, key)\u001b[0m\n\u001b[0;32m   2910\u001b[0m             \u001b[1;32mif\u001b[0m \u001b[0mis_iterator\u001b[0m\u001b[1;33m(\u001b[0m\u001b[0mkey\u001b[0m\u001b[1;33m)\u001b[0m\u001b[1;33m:\u001b[0m\u001b[1;33m\u001b[0m\u001b[1;33m\u001b[0m\u001b[0m\n\u001b[0;32m   2911\u001b[0m                 \u001b[0mkey\u001b[0m \u001b[1;33m=\u001b[0m \u001b[0mlist\u001b[0m\u001b[1;33m(\u001b[0m\u001b[0mkey\u001b[0m\u001b[1;33m)\u001b[0m\u001b[1;33m\u001b[0m\u001b[1;33m\u001b[0m\u001b[0m\n\u001b[1;32m-> 2912\u001b[1;33m             \u001b[0mindexer\u001b[0m \u001b[1;33m=\u001b[0m \u001b[0mself\u001b[0m\u001b[1;33m.\u001b[0m\u001b[0mloc\u001b[0m\u001b[1;33m.\u001b[0m\u001b[0m_get_listlike_indexer\u001b[0m\u001b[1;33m(\u001b[0m\u001b[0mkey\u001b[0m\u001b[1;33m,\u001b[0m \u001b[0maxis\u001b[0m\u001b[1;33m=\u001b[0m\u001b[1;36m1\u001b[0m\u001b[1;33m,\u001b[0m \u001b[0mraise_missing\u001b[0m\u001b[1;33m=\u001b[0m\u001b[1;32mTrue\u001b[0m\u001b[1;33m)\u001b[0m\u001b[1;33m[\u001b[0m\u001b[1;36m1\u001b[0m\u001b[1;33m]\u001b[0m\u001b[1;33m\u001b[0m\u001b[1;33m\u001b[0m\u001b[0m\n\u001b[0m\u001b[0;32m   2913\u001b[0m \u001b[1;33m\u001b[0m\u001b[0m\n\u001b[0;32m   2914\u001b[0m         \u001b[1;31m# take() does not accept boolean indexers\u001b[0m\u001b[1;33m\u001b[0m\u001b[1;33m\u001b[0m\u001b[1;33m\u001b[0m\u001b[0m\n",
      "\u001b[1;32m~\\quantconnect\\lib\\site-packages\\pandas\\core\\indexing.py\u001b[0m in \u001b[0;36m_get_listlike_indexer\u001b[1;34m(self, key, axis, raise_missing)\u001b[0m\n\u001b[0;32m   1252\u001b[0m             \u001b[0mkeyarr\u001b[0m\u001b[1;33m,\u001b[0m \u001b[0mindexer\u001b[0m\u001b[1;33m,\u001b[0m \u001b[0mnew_indexer\u001b[0m \u001b[1;33m=\u001b[0m \u001b[0max\u001b[0m\u001b[1;33m.\u001b[0m\u001b[0m_reindex_non_unique\u001b[0m\u001b[1;33m(\u001b[0m\u001b[0mkeyarr\u001b[0m\u001b[1;33m)\u001b[0m\u001b[1;33m\u001b[0m\u001b[1;33m\u001b[0m\u001b[0m\n\u001b[0;32m   1253\u001b[0m \u001b[1;33m\u001b[0m\u001b[0m\n\u001b[1;32m-> 1254\u001b[1;33m         \u001b[0mself\u001b[0m\u001b[1;33m.\u001b[0m\u001b[0m_validate_read_indexer\u001b[0m\u001b[1;33m(\u001b[0m\u001b[0mkeyarr\u001b[0m\u001b[1;33m,\u001b[0m \u001b[0mindexer\u001b[0m\u001b[1;33m,\u001b[0m \u001b[0maxis\u001b[0m\u001b[1;33m,\u001b[0m \u001b[0mraise_missing\u001b[0m\u001b[1;33m=\u001b[0m\u001b[0mraise_missing\u001b[0m\u001b[1;33m)\u001b[0m\u001b[1;33m\u001b[0m\u001b[1;33m\u001b[0m\u001b[0m\n\u001b[0m\u001b[0;32m   1255\u001b[0m         \u001b[1;32mreturn\u001b[0m \u001b[0mkeyarr\u001b[0m\u001b[1;33m,\u001b[0m \u001b[0mindexer\u001b[0m\u001b[1;33m\u001b[0m\u001b[1;33m\u001b[0m\u001b[0m\n\u001b[0;32m   1256\u001b[0m \u001b[1;33m\u001b[0m\u001b[0m\n",
      "\u001b[1;32m~\\quantconnect\\lib\\site-packages\\pandas\\core\\indexing.py\u001b[0m in \u001b[0;36m_validate_read_indexer\u001b[1;34m(self, key, indexer, axis, raise_missing)\u001b[0m\n\u001b[0;32m   1296\u001b[0m             \u001b[1;32mif\u001b[0m \u001b[0mmissing\u001b[0m \u001b[1;33m==\u001b[0m \u001b[0mlen\u001b[0m\u001b[1;33m(\u001b[0m\u001b[0mindexer\u001b[0m\u001b[1;33m)\u001b[0m\u001b[1;33m:\u001b[0m\u001b[1;33m\u001b[0m\u001b[1;33m\u001b[0m\u001b[0m\n\u001b[0;32m   1297\u001b[0m                 \u001b[0maxis_name\u001b[0m \u001b[1;33m=\u001b[0m \u001b[0mself\u001b[0m\u001b[1;33m.\u001b[0m\u001b[0mobj\u001b[0m\u001b[1;33m.\u001b[0m\u001b[0m_get_axis_name\u001b[0m\u001b[1;33m(\u001b[0m\u001b[0maxis\u001b[0m\u001b[1;33m)\u001b[0m\u001b[1;33m\u001b[0m\u001b[1;33m\u001b[0m\u001b[0m\n\u001b[1;32m-> 1298\u001b[1;33m                 \u001b[1;32mraise\u001b[0m \u001b[0mKeyError\u001b[0m\u001b[1;33m(\u001b[0m\u001b[1;34mf\"None of [{key}] are in the [{axis_name}]\"\u001b[0m\u001b[1;33m)\u001b[0m\u001b[1;33m\u001b[0m\u001b[1;33m\u001b[0m\u001b[0m\n\u001b[0m\u001b[0;32m   1299\u001b[0m \u001b[1;33m\u001b[0m\u001b[0m\n\u001b[0;32m   1300\u001b[0m             \u001b[1;31m# We (temporarily) allow for some missing keys with .loc, except in\u001b[0m\u001b[1;33m\u001b[0m\u001b[1;33m\u001b[0m\u001b[1;33m\u001b[0m\u001b[0m\n",
      "\u001b[1;31mKeyError\u001b[0m: \"None of [Index(['Cash and Cash Equivalents', 'Short Term Investments',\\n       'Cash And Short-Term Investments', 'Accounts Receivables', 'Inventory',\\n       'Other Current Assets', 'Total Current Assets', 'PP&E', 'Goodwill',\\n       'Intangible Assets', 'Goodwill and Intangible Assets',\\n       'Long-term Investments', 'Tax Assets', 'Other Non-Current Assets',\\n       'Total Non-Current Assets', 'Other Assets', 'Total Assets',\\n       'Accounts Payables', 'Short-term Debt', 'Income Tax Payables',\\n       'Deferred Revenue', 'Other Current Liabilities',\\n       'Total Current Liabilities', 'Long-term Debt',\\n       'Deferred Revenue Non-Current', 'Deferred Tax Liabilities Non-Current',\\n       'Other Non-Current Liabilities', 'Total Non-Current Liabilities',\\n       'Other Liabilities', 'Total Liabilities', 'Common Stock',\\n       'Retained Earnings', 'Accumulated Other Comprehensive Income Loss',\\n       'Other Shareholders Equity', 'Total Shareholders Equity',\\n       'Total Liabilities & Stockholders Equity', 'Total Investments',\\n       'Total Debt', 'Net Debt', 'SEC Statement Link', 'Quarter & Year'],\\n      dtype='object')] are in the [columns]\""
     ]
    }
   ],
   "source": [
    "\n",
    "\n",
    "\n",
    "\n",
    "\n",
    "\n",
    "\n",
    "\n",
    "# df_fin_statement = df_fin_statement[cols]\n",
    "\n",
    "df_fin_statement.index = df_fin_statement['Quarter & Year']\n",
    "\n",
    "million = 1000000\n",
    "billion = 1000000000\n",
    "fin_metric_history = df_fin_statement['{}'.format(fin_metric_title)]\n",
    "if list(fin_metric_history)[0]  > billion:\n",
    "    df_fin_statement['{}'.format(fin_metric_title)] = (fin_metric_history/billion).round(decimals=2)\n",
    "\n",
    "\n",
    "elif list(fin_metric_history)[0]  > million:\n",
    "    df_fin_statement['{}'.format(fin_metric_title)] = (fin_metric_history/million).round(decimals=2)\n",
    "\n",
    "    pass\n",
    "else:\n",
    "    pass\n",
    "\n",
    "df_pct_chg = df_fin_statement\n",
    "pct_chg_cols = (df_fin_statement.select_dtypes(include=['number']).pct_change(-1))\n",
    "df_pct_chg_str = df_pct_chg.drop(list(pct_chg_cols), axis=1)\n",
    "df_pct_chg = df_pct_chg_str.join(pct_chg_cols)[list(df_fin_statement)]\n",
    "\n",
    "pd.set_option('display.float_format', '{:.2f}'.format)\n",
    "df_pct_chg_t = df_pct_chg.transpose()\n",
    "df_pct_chg_t.columns = list(df_pct_chg['Quarter & Year'])\n",
    "df_pct_chg_t = df_pct_chg_t.iloc[1:]\n",
    "\n",
    "df_pct_chg_t = df_pct_chg.transpose()\n",
    "df_pct_chg_t.columns = list(df_pct_chg['Quarter & Year'])\n",
    "df_pct_chg_t = df_pct_chg_t.iloc[1:]\n",
    "df_pct_chg_t['']=df_pct_chg_t.index\n",
    "df_pct_chg_t.index = range(len(df_pct_chg_t))\n",
    "\n",
    "cols = list(df_pct_chg_t.columns)\n",
    "cols = [cols[-1]] + cols[:-1]\n",
    "df_pct_chg_t = df_pct_chg_t[titles_bs]\n",
    "\n",
    "\n",
    "df_t = df_fin_statement.transpose()\n",
    "df_t.columns = list(df_fin_statement['Quarter & Year'])\n",
    "df_t = df_t.iloc[1:]\n",
    "df_t['']=df_t.index\n",
    "df_t.index = range(len(df_t))\n",
    "\n",
    "cols = list(df_t.columns)\n",
    "cols = [cols[-1]] + cols[:-1]\n",
    "df_t = df_t[cols]\n",
    "#endregion\n",
    "\n",
    "df_pct = df_pct_chg_t.to_html().replace('<table','<table class=\"df_tableBoot\" id=\"df_myTable1\"')# dt-responsive\" id=\"df_myTable\"')\n",
    "\n",
    "df_t = df_t[df_t.columns[::-1]]\n",
    "cols = list(df_t.columns)\n",
    "cols = [cols[-1]] + cols[:-1]\n",
    "df_t = df_t[cols]\n",
    "\n",
    "\n",
    "def isnumber(x):\n",
    "    try:\n",
    "        float(x)\n",
    "        return True\n",
    "    except:\n",
    "        return False\n",
    "df_n = df_fin_statement[df_fin_statement.applymap(isnumber)]\n",
    "df_n[df_n < 2] = np.nan\n",
    "df_n_sum = pd.DataFrame(df_n.sum())\n",
    "df_n_sum[df_n_sum == 0] = \"\"\n",
    "new_header = df_n_sum.iloc[0] #grab the first row for the header\n",
    "df_n_sum = df_n_sum[1:] #take the data less the header row\n",
    "df_n_sum.columns = new_header #set the header row as the df header\n",
    "df_n_sum.index = range(len(df_n_sum))\n",
    "df_t = pd.merge(df_n_sum, df_t, left_index=True, right_index=True,suffixes=('Total: {} - {}'.format(latest_year,earliest_year), 'Line Items'))\n",
    "df_t = df_t[0:25]\n",
    "\n",
    "\n",
    "\n",
    "col_list = []\n",
    "n=0\n",
    "while n<len(list(df_t))-0:\n",
    "    if n<6:\n",
    "            col_item = '<col id=\"col_item_{}\" class=\"col_item_class first_7_col\">'.format(n)\n",
    "    else:\n",
    "        col_item = '<col id=\"col_item_{}\" class=\"col_item_class\">'.format(n)\n",
    "    col_list.append(col_item)\n",
    "    n+=1\n",
    "col_list_str = ''.join(map(str, col_list))\n",
    "df_html = df_t.to_html().replace('border=\"1\" class=\"dataframe\">','class=\"df_tableBoot\" id=\"df_myTable\" border=\"1\" class=\"dataframe\"><colgroup>{}</colgroup>'.format(col_list_str))\n",
    "# df_table_html = df_fin_statement[['{}'.format(fin_metric_title)]].iloc[::-1].transpose().to_html()#.replace(\"\\n\",\"\")\n",
    "df_tall = df.iloc[::-1]\n",
    "# df_tall.index = df['Quarter & Year']\n",
    "# df_tall = df.index.shift(-1)\n",
    "# df_tall = df_tall.reset_index()\n",
    "df_html_tall = df_tall[['{}'.format('Quarter & Year'),'{}'.format(fin_metric_name)]].to_html(index=False)\n",
    "df_html_tall = df_html_tall.replace('border=\"1\" class=\"dataframe\">','class=\"abc\" id=\"df_myTable\" border=\"1\" class=\"dataframe\">')#.replace(\"'\",\"\")\n",
    "# df_html_tall = df_html_tall.replace(\"\\n\",\"\")\n",
    "df_html_tall = df_html_tall.replace(\"\\n\",\"\")\n",
    "df_html_tall = df_html_tall.replace(\"{}\".format(\"[\"),\"\")\n",
    "df_html_tall = df_html_tall #render_template_string(df_html_tall)\n",
    "df_html = df_html.replace('<td>','<td class=\"td_fin_statement_class fin_statement_class\">')\n",
    "df_html = df_html.replace('<th>','<th class=\"th_fin_statement_class fin_statement_class\">')\n",
    "df_html = df_html.replace('<tr>','<tr class=\"tr_fin_statement_class fin_statement_class\">')\n",
    "#  df_html_tall = df_html_tall.replace(\"\\n\",\"\")\n",
    "# df_html_tall.replace(\"\\n\",'\">')\n",
    "df_html_tall = df_html_tall.replace('<td>','<td class=\"td_fin_statement_class fin_statement_class\">')\n",
    "df_html_tall = df_html_tall.replace('<th>','<th class=\"th_fin_statement_class fin_statement_class\">')\n",
    "df_html_tall = df_html_tall.replace('<tr>','<tr class=\"tr_fin_statement_class fin_statement_class\">')\n",
    "df_html_tall = df_html_tall[0:]\n",
    "\n",
    "df = df[['date',\"{}\".format(fin_metric_name)]].dropna() #.fillna(0)#.fillna(method='bfill')\n",
    "df['date'] = pd.to_datetime(df['date']).values.astype(np.int64) // 10 ** 6\n",
    "full_path = csv_file.split(' ~ ')\n",
    "path = pathlib.PurePath(full_path[0])\n",
    "print(\"Nothing took {} seconds\".format(time.time() - start_time))\n",
    "total_seconds = ((time.time() - start_time))\n",
    "\n",
    "labels = [\n",
    "    'JAN', 'FEB', 'MAR', 'APR',\n",
    "    'MAY', 'JUN', 'JUL', 'AUG',\n",
    "    'SEP', 'OCT', 'NOV', 'DEC'\n",
    "]\n",
    "labels = list(df['date'])#[0:19]\n",
    "\n",
    "values = [\n",
    "    967.67, 1190.89, 1079.75, 1349.19,\n",
    "    2328.91, 2504.28, 2873.83, 4764.87,\n",
    "    4349.29, 6458.30, 9907, 16297\n",
    "]\n",
    "\n",
    "values = list(df[\"{}\".format(fin_metric_name)])#[0:19]\n",
    "\n",
    "colors = [\n",
    "    \"#F7464A\", \"#46BFBD\", \"#FDB45C\", \"#FEDCBA\",\n",
    "    \"#ABCDEF\", \"#DDDDDD\", \"#ABCABC\", \"#4169E1\",\n",
    "    \"#C71585\", \"#FF4500\", \"#FEDCBA\", \"#46BFBD\"]\n",
    "df_table_html = df_tall[['{}'.format(fin_metric_name)]].iloc[::-1].transpose().to_html()#.replace(\"\\n\",\"\")\n",
    "present_num = magnitude_num(int(latest_metric),currency_symbol)\n",
    "latest_num = \"${}\".format(df[\"{}\".format(fin_metric_name)][0])\n",
    "\n",
    "# return render_template('current_ratio.html', company_symbol = profiles_dict['symbol'],\\\n",
    "#                         company_long_name = profiles_dict['long name'],\\\n",
    "#                         company_currency = profiles_dict['currency'],\\\n",
    "#                         company_exchange = profiles_dict['exchange'],\\\n",
    "#                         company_industry = profiles_dict['industry'],\\\n",
    "#                         company_description = profiles_dict['description'],\\\n",
    "#                         company_sector = profiles_dict['sector'],\\\n",
    "#                         company_country = profiles_dict['country'],\\\n",
    "#                         company_ipo_date = profiles_dict['ipo date'],\\\n",
    "#                         company_short_name = profiles_dict['short name'],\\\n",
    "#                         first_num = first_num,\\\n",
    "#                         latest_num = latest_num,\\\n",
    "#                         historical_pct_chg = historical_pct_chg,\\\n",
    "#                         lifetime_sum_all_metric = lifetime_sum_all_metric,\\\n",
    "#                         mean_str = mean_str,\\\n",
    "#                         max_str = max_str,\\\n",
    "#                         min_str = min_str,\\\n",
    "#                         std_dev_str = std_dev_str,\\\n",
    "#                         bottom_25_str = bottom_25_str,\\\n",
    "#                         top_25_str = top_25_str,\\\n",
    "#                         earliest_year = earliest_year,\\\n",
    "#                         latest_year = latest_year,\\\n",
    "#                         earliest_metric = earliest_metric,\\\n",
    "#                         latest_metric = latest_metric,\\\n",
    "#                         max_min_pct_diff_str = max_min_pct_diff_str, df_bs_table_html = [df_table_html],df_html_tall = [df_html_tall],fin_metric_name = fin_metric_title,\\\n",
    "#                         df_date = df['date'].to_list(), df_rev = df[\"{}\".format(fin_metric_name)].to_list(),\\\n",
    "#                         df_json  =df.to_numpy().tolist(),\\\n",
    "#                         table_pct = [df_pct],\\\n",
    "#                         tables=[df_html],\\\n",
    "#                         titles=df.columns.values,\\\n",
    "#                         total_time=total_seconds,\\\n",
    "#                         place_name=url_symbol,\\\n",
    "#                         max=17000,\\\n",
    "#                         labels=labels,\\\n",
    "#                         values=values)\n"
   ]
  },
  {
   "cell_type": "code",
   "execution_count": 1,
   "metadata": {
    "ExecuteTime": {
     "end_time": "2020-12-17T23:04:43.897128Z",
     "start_time": "2020-12-17T23:04:43.686131Z"
    },
    "code_folding": [
     147
    ]
   },
   "outputs": [
    {
     "ename": "NameError",
     "evalue": "name 'df_fin_statement' is not defined",
     "output_type": "error",
     "traceback": [
      "\u001b[1;31m---------------------------------------------------------------------------\u001b[0m",
      "\u001b[1;31mNameError\u001b[0m                                 Traceback (most recent call last)",
      "\u001b[1;32m<ipython-input-1-e6eaa19c381e>\u001b[0m in \u001b[0;36m<module>\u001b[1;34m\u001b[0m\n\u001b[0;32m      1\u001b[0m \u001b[1;31m# df_fin_statement = df_fin_statement[cols]\u001b[0m\u001b[1;33m\u001b[0m\u001b[1;33m\u001b[0m\u001b[1;33m\u001b[0m\u001b[0m\n\u001b[0;32m      2\u001b[0m \u001b[1;33m\u001b[0m\u001b[0m\n\u001b[1;32m----> 3\u001b[1;33m \u001b[0mdf_fin_statement\u001b[0m\u001b[1;33m.\u001b[0m\u001b[0mindex\u001b[0m \u001b[1;33m=\u001b[0m \u001b[0mdf_fin_statement\u001b[0m\u001b[1;33m[\u001b[0m\u001b[1;34m'Quarter & Year'\u001b[0m\u001b[1;33m]\u001b[0m\u001b[1;33m\u001b[0m\u001b[1;33m\u001b[0m\u001b[0m\n\u001b[0m\u001b[0;32m      4\u001b[0m \u001b[1;33m\u001b[0m\u001b[0m\n\u001b[0;32m      5\u001b[0m \u001b[0mmillion\u001b[0m \u001b[1;33m=\u001b[0m \u001b[1;36m1000000\u001b[0m\u001b[1;33m\u001b[0m\u001b[1;33m\u001b[0m\u001b[0m\n",
      "\u001b[1;31mNameError\u001b[0m: name 'df_fin_statement' is not defined"
     ]
    }
   ],
   "source": [
    "\n",
    "\n",
    "\n",
    "\n",
    "\n",
    "\n",
    "\n",
    "\n",
    "# df_fin_statement = df_fin_statement[cols]\n",
    "\n",
    "df_fin_statement.index = df_fin_statement['Quarter & Year']\n",
    "\n",
    "million = 1000000\n",
    "billion = 1000000000\n",
    "fin_metric_history = df_fin_statement['{}'.format(fin_metric_title)]\n",
    "if list(fin_metric_history)[0]  > billion:\n",
    "    df_fin_statement['{}'.format(fin_metric_title)] = (fin_metric_history/billion).round(decimals=2)\n",
    "\n",
    "\n",
    "elif list(fin_metric_history)[0]  > million:\n",
    "    df_fin_statement['{}'.format(fin_metric_title)] = (fin_metric_history/million).round(decimals=2)\n",
    "\n",
    "    pass\n",
    "else:\n",
    "    pass\n",
    "\n",
    "df_pct_chg = df_fin_statement\n",
    "pct_chg_cols = (df_fin_statement.select_dtypes(include=['number']).pct_change(-1))\n",
    "df_pct_chg_str = df_pct_chg.drop(list(pct_chg_cols), axis=1)\n",
    "df_pct_chg = df_pct_chg_str.join(pct_chg_cols)[list(df_fin_statement)]\n",
    "\n",
    "pd.set_option('display.float_format', '{:.2f}'.format)\n",
    "df_pct_chg_t = df_pct_chg.transpose()\n",
    "df_pct_chg_t.columns = list(df_pct_chg['Quarter & Year'])\n",
    "df_pct_chg_t = df_pct_chg_t.iloc[1:]\n",
    "\n",
    "df_pct_chg_t = df_pct_chg.transpose()\n",
    "df_pct_chg_t.columns = list(df_pct_chg['Quarter & Year'])\n",
    "df_pct_chg_t = df_pct_chg_t.iloc[1:]\n",
    "df_pct_chg_t['']=df_pct_chg_t.index\n",
    "df_pct_chg_t.index = range(len(df_pct_chg_t))\n",
    "\n",
    "cols = list(df_pct_chg_t.columns)\n",
    "cols = [cols[-1]] + cols[:-1]\n",
    "df_pct_chg_t = df_pct_chg_t[titles_bs]\n",
    "\n",
    "\n",
    "df_t = df_fin_statement.transpose()\n",
    "df_t.columns = list(df_fin_statement['Quarter & Year'])\n",
    "df_t = df_t.iloc[1:]\n",
    "df_t['']=df_t.index\n",
    "df_t.index = range(len(df_t))\n",
    "\n",
    "cols = list(df_t.columns)\n",
    "cols = [cols[-1]] + cols[:-1]\n",
    "df_t = df_t[cols]\n",
    "#endregion\n",
    "\n",
    "df_pct = df_pct_chg_t.to_html().replace('<table','<table class=\"df_tableBoot\" id=\"df_myTable1\"')# dt-responsive\" id=\"df_myTable\"')\n",
    "\n",
    "df_t = df_t[df_t.columns[::-1]]\n",
    "cols = list(df_t.columns)\n",
    "cols = [cols[-1]] + cols[:-1]\n",
    "df_t = df_t[cols]\n",
    "\n",
    "\n",
    "def isnumber(x):\n",
    "    try:\n",
    "        float(x)\n",
    "        return True\n",
    "    except:\n",
    "        return False\n",
    "df_n = df_fin_statement[df_fin_statement.applymap(isnumber)]\n",
    "df_n[df_n < 2] = np.nan\n",
    "df_n_sum = pd.DataFrame(df_n.sum())\n",
    "df_n_sum[df_n_sum == 0] = \"\"\n",
    "new_header = df_n_sum.iloc[0] #grab the first row for the header\n",
    "df_n_sum = df_n_sum[1:] #take the data less the header row\n",
    "df_n_sum.columns = new_header #set the header row as the df header\n",
    "df_n_sum.index = range(len(df_n_sum))\n",
    "df_t = pd.merge(df_n_sum, df_t, left_index=True, right_index=True,suffixes=('Total: {} - {}'.format(latest_year,earliest_year), 'Line Items'))\n",
    "df_t = df_t[0:25]\n",
    "\n",
    "\n",
    "\n",
    "col_list = []\n",
    "n=0\n",
    "while n<len(list(df_t))-0:\n",
    "    if n<6:\n",
    "            col_item = '<col id=\"col_item_{}\" class=\"col_item_class first_7_col\">'.format(n)\n",
    "    else:\n",
    "        col_item = '<col id=\"col_item_{}\" class=\"col_item_class\">'.format(n)\n",
    "    col_list.append(col_item)\n",
    "    n+=1\n",
    "col_list_str = ''.join(map(str, col_list))\n",
    "df_html = df_t.to_html().replace('border=\"1\" class=\"dataframe\">','class=\"df_tableBoot\" id=\"df_myTable\" border=\"1\" class=\"dataframe\"><colgroup>{}</colgroup>'.format(col_list_str))\n",
    "# df_table_html = df_fin_statement[['{}'.format(fin_metric_title)]].iloc[::-1].transpose().to_html()#.replace(\"\\n\",\"\")\n",
    "df_tall = df.iloc[::-1]\n",
    "# df_tall.index = df['Quarter & Year']\n",
    "# df_tall = df.index.shift(-1)\n",
    "# df_tall = df_tall.reset_index()\n",
    "df_html_tall = df_tall[['{}'.format('Quarter & Year'),'{}'.format(fin_metric_name)]].to_html(index=False)\n",
    "df_html_tall = df_html_tall.replace('border=\"1\" class=\"dataframe\">','class=\"abc\" id=\"df_myTable\" border=\"1\" class=\"dataframe\">')#.replace(\"'\",\"\")\n",
    "# df_html_tall = df_html_tall.replace(\"\\n\",\"\")\n",
    "df_html_tall = df_html_tall.replace(\"\\n\",\"\")\n",
    "df_html_tall = df_html_tall.replace(\"{}\".format(\"[\"),\"\")\n",
    "df_html_tall = df_html_tall #render_template_string(df_html_tall)\n",
    "df_html = df_html.replace('<td>','<td class=\"td_fin_statement_class fin_statement_class\">')\n",
    "df_html = df_html.replace('<th>','<th class=\"th_fin_statement_class fin_statement_class\">')\n",
    "df_html = df_html.replace('<tr>','<tr class=\"tr_fin_statement_class fin_statement_class\">')\n",
    "#  df_html_tall = df_html_tall.replace(\"\\n\",\"\")\n",
    "# df_html_tall.replace(\"\\n\",'\">')\n",
    "df_html_tall = df_html_tall.replace('<td>','<td class=\"td_fin_statement_class fin_statement_class\">')\n",
    "df_html_tall = df_html_tall.replace('<th>','<th class=\"th_fin_statement_class fin_statement_class\">')\n",
    "df_html_tall = df_html_tall.replace('<tr>','<tr class=\"tr_fin_statement_class fin_statement_class\">')\n",
    "df_html_tall = df_html_tall[0:]\n",
    "\n",
    "df = df[['date',\"{}\".format(fin_metric_name)]].dropna() #.fillna(0)#.fillna(method='bfill')\n",
    "df['date'] = pd.to_datetime(df['date']).values.astype(np.int64) // 10 ** 6\n",
    "full_path = csv_file.split(' ~ ')\n",
    "path = pathlib.PurePath(full_path[0])\n",
    "print(\"Nothing took {} seconds\".format(time.time() - start_time))\n",
    "total_seconds = ((time.time() - start_time))\n",
    "\n",
    "labels = [\n",
    "    'JAN', 'FEB', 'MAR', 'APR',\n",
    "    'MAY', 'JUN', 'JUL', 'AUG',\n",
    "    'SEP', 'OCT', 'NOV', 'DEC'\n",
    "]\n",
    "labels = list(df['date'])#[0:19]\n",
    "\n",
    "values = [\n",
    "    967.67, 1190.89, 1079.75, 1349.19,\n",
    "    2328.91, 2504.28, 2873.83, 4764.87,\n",
    "    4349.29, 6458.30, 9907, 16297\n",
    "]\n",
    "\n",
    "values = list(df[\"{}\".format(fin_metric_name)])#[0:19]\n",
    "\n",
    "colors = [\n",
    "    \"#F7464A\", \"#46BFBD\", \"#FDB45C\", \"#FEDCBA\",\n",
    "    \"#ABCDEF\", \"#DDDDDD\", \"#ABCABC\", \"#4169E1\",\n",
    "    \"#C71585\", \"#FF4500\", \"#FEDCBA\", \"#46BFBD\"]\n",
    "df_table_html = df_tall[['{}'.format(fin_metric_name)]].iloc[::-1].transpose().to_html()#.replace(\"\\n\",\"\")\n",
    "present_num = magnitude_num(int(latest_metric),currency_symbol)\n",
    "latest_num = \"${}\".format(df[\"{}\".format(fin_metric_name)][0])\n",
    "\n",
    "# return render_template('current_ratio.html', company_symbol = profiles_dict['symbol'],\\\n",
    "#                         company_long_name = profiles_dict['long name'],\\\n",
    "#                         company_currency = profiles_dict['currency'],\\\n",
    "#                         company_exchange = profiles_dict['exchange'],\\\n",
    "#                         company_industry = profiles_dict['industry'],\\\n",
    "#                         company_description = profiles_dict['description'],\\\n",
    "#                         company_sector = profiles_dict['sector'],\\\n",
    "#                         company_country = profiles_dict['country'],\\\n",
    "#                         company_ipo_date = profiles_dict['ipo date'],\\\n",
    "#                         company_short_name = profiles_dict['short name'],\\\n",
    "#                         first_num = first_num,\\\n",
    "#                         latest_num = latest_num,\\\n",
    "#                         historical_pct_chg = historical_pct_chg,\\\n",
    "#                         lifetime_sum_all_metric = lifetime_sum_all_metric,\\\n",
    "#                         mean_str = mean_str,\\\n",
    "#                         max_str = max_str,\\\n",
    "#                         min_str = min_str,\\\n",
    "#                         std_dev_str = std_dev_str,\\\n",
    "#                         bottom_25_str = bottom_25_str,\\\n",
    "#                         top_25_str = top_25_str,\\\n",
    "#                         earliest_year = earliest_year,\\\n",
    "#                         latest_year = latest_year,\\\n",
    "#                         earliest_metric = earliest_metric,\\\n",
    "#                         latest_metric = latest_metric,\\\n",
    "#                         max_min_pct_diff_str = max_min_pct_diff_str, df_bs_table_html = [df_table_html],df_html_tall = [df_html_tall],fin_metric_name = fin_metric_title,\\\n",
    "#                         df_date = df['date'].to_list(), df_rev = df[\"{}\".format(fin_metric_name)].to_list(),\\\n",
    "#                         df_json  =df.to_numpy().tolist(),\\\n",
    "#                         table_pct = [df_pct],\\\n",
    "#                         tables=[df_html],\\\n",
    "#                         titles=df.columns.values,\\\n",
    "#                         total_time=total_seconds,\\\n",
    "#                         place_name=url_symbol,\\\n",
    "#                         max=17000,\\\n",
    "#                         labels=labels,\\\n",
    "#                         values=values)\n"
   ]
  },
  {
   "cell_type": "code",
   "execution_count": 19,
   "metadata": {
    "ExecuteTime": {
     "end_time": "2020-12-17T23:02:35.448645Z",
     "start_time": "2020-12-17T23:02:35.436631Z"
    }
   },
   "outputs": [
    {
     "data": {
      "text/plain": [
       "28"
      ]
     },
     "execution_count": 19,
     "metadata": {},
     "output_type": "execute_result"
    }
   ],
   "source": [
    "len(cols)"
   ]
  },
  {
   "cell_type": "code",
   "execution_count": null,
   "metadata": {},
   "outputs": [],
   "source": []
  }
 ],
 "metadata": {
  "kernelspec": {
   "display_name": "quantconnect",
   "language": "python",
   "name": "quantconnect"
  },
  "language_info": {
   "codemirror_mode": {
    "name": "ipython",
    "version": 3
   },
   "file_extension": ".py",
   "mimetype": "text/x-python",
   "name": "python",
   "nbconvert_exporter": "python",
   "pygments_lexer": "ipython3",
   "version": "3.9.0"
  },
  "toc": {
   "base_numbering": 1,
   "nav_menu": {},
   "number_sections": true,
   "sideBar": true,
   "skip_h1_title": false,
   "title_cell": "Table of Contents",
   "title_sidebar": "Contents",
   "toc_cell": false,
   "toc_position": {},
   "toc_section_display": true,
   "toc_window_display": false
  },
  "varInspector": {
   "cols": {
    "lenName": 16,
    "lenType": 16,
    "lenVar": 40
   },
   "kernels_config": {
    "python": {
     "delete_cmd_postfix": "",
     "delete_cmd_prefix": "del ",
     "library": "var_list.py",
     "varRefreshCmd": "print(var_dic_list())"
    },
    "r": {
     "delete_cmd_postfix": ") ",
     "delete_cmd_prefix": "rm(",
     "library": "var_list.r",
     "varRefreshCmd": "cat(var_dic_list()) "
    }
   },
   "position": {
    "height": "975px",
    "left": "932px",
    "right": "20px",
    "top": "48px",
    "width": "572px"
   },
   "types_to_exclude": [
    "module",
    "function",
    "builtin_function_or_method",
    "instance",
    "_Feature"
   ],
   "window_display": false
  }
 },
 "nbformat": 4,
 "nbformat_minor": 4
}
