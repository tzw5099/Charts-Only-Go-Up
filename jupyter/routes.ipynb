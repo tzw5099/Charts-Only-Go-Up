{
 "cells": [
  {
   "cell_type": "code",
   "execution_count": 517,
   "metadata": {
    "ExecuteTime": {
     "end_time": "2020-12-25T19:55:14.381246Z",
     "start_time": "2020-12-25T19:55:14.362730Z"
    },
    "code_folding": [
     13
    ]
   },
   "outputs": [],
   "source": [
    "import pandas as pd\n",
    "import numpy as np\n",
    "import glob as glob\n",
    "import os\n",
    "import time\n",
    "import pathlib\n",
    "from datetime import datetime\n",
    "# from ..route_imports import ratio_map\n",
    "import sys; sys.path.insert(0, '..') # add parent folder path where lib folder is\n",
    "# import route_imports.ratio_map as ratios # store_load is a file on my library folder\n",
    "from route_imports.ratio_map import metric_to_url_map # as ratios\n",
    "from route_imports.ratio_map import url_to_metric_map\n",
    "from route_imports.ratio_map import url_to_name_map\n",
    "from route_imports.ratio_map import fin_statement_raw_names\n",
    "from route_imports.ratio_map import fin_statement_renamed_cols\n",
    "from route_imports.ratio_map import metric_to_formula_map\n",
    "from route_imports.ratio_map import url_to_var_name_map\n",
    "# from route_imports.ratio_map import metric_to_list_variables_map\n",
    "\n",
    "# from route_imports.ratio_map import *\n",
    "\n",
    "# from route_imports import ratio_map.metric_to_url_map# as ratios\n",
    "\n",
    "start_time = time.time()\n",
    "uri_list = \"cash-and-cash-equivalents\"\n",
    "url_symbol_name = \"apple\"\n",
    "url_symbol = \"JAX\"\n",
    "url_fin_metric = \"cash-and-cash-equivalents\"\n",
    "\n",
    "def magnitude_num(number, currency_symbol):\n",
    "    if len(str(number)) > 9:\n",
    "        magnitude = number/1000000000\n",
    "        magnitude_str = \"{}{}{}\".format(currency_symbol,round(magnitude,1),\"B\")\n",
    "    elif len(str(number)) > 6:\n",
    "        magnitude = number/1000000\n",
    "        magnitude_str = \"{}{}{}\".format(currency_symbol,round(magnitude,1),\"M\")\n",
    "    elif len(str(number)) > 3:\n",
    "        magnitude = number/1000\n",
    "        magnitude_str = \"{}{}{}\".format(currency_symbol,round(magnitude,1),\"K\")\n",
    "    else:\n",
    "        magnitude = number\n",
    "        magnitude_str = \"{}{}{}\".format(currency_symbol,round(magnitude,1),\"K\")\n",
    "    return magnitude_str"
   ]
  },
  {
   "cell_type": "code",
   "execution_count": 518,
   "metadata": {
    "ExecuteTime": {
     "end_time": "2020-12-25T19:55:14.941767Z",
     "start_time": "2020-12-25T19:55:14.759252Z"
    },
    "code_folding": [
     3
    ],
    "run_control": {
     "marked": false
    }
   },
   "outputs": [],
   "source": [
    "company_profiles = pd.read_csv(\"../reference_data/Company_Profiles.csv\")#, encoding='cp1252')\n",
    "fin_statements_matching = pd.read_csv(\"../reference_data/Financial_Statements_Reference_Matching.csv\")#, encoding='cp1252')\n",
    "currency_symbol = list(company_profiles[company_profiles['symbol']==\"{}\".format(url_symbol.upper())]['currency symbol'])[0]\n",
    "company_profiles_col = ['symbol',\n",
    "                        'long name',\n",
    "                        'currency',\n",
    "                        'exchange',\n",
    "                        'industry',\n",
    "                        'description',\n",
    "                        'sector',\n",
    "                        'country',\n",
    "                        'ipo date',\n",
    "                        'short name']\n",
    "company_profiles = company_profiles[company_profiles_col]  "
   ]
  },
  {
   "cell_type": "code",
   "execution_count": 311,
   "metadata": {
    "ExecuteTime": {
     "end_time": "2020-12-25T13:36:46.538839Z",
     "start_time": "2020-12-25T13:36:46.522837Z"
    },
    "code_folding": [],
    "run_control": {
     "marked": true
    }
   },
   "outputs": [],
   "source": [
    "# hide - cash equiv\n",
    "profiles_dict = {}\n",
    "profiles_value = company_profiles[company_profiles['symbol']==\"{}\".format(url_symbol.upper())].values.tolist()[0]\n",
    "\n",
    "titles_bs = list(fin_statements_matching[fin_statements_matching['Financial Statement']==\"Balance Sheet\"]['Title'])\n",
    "titles_cf = list(fin_statements_matching[fin_statements_matching['Financial Statement']==\"Cash Flow Statement\"]['Title'])\n",
    "titles_is = list(fin_statements_matching[fin_statements_matching['Financial Statement']==\"Income Statement\"]['Title'])\n",
    "\n",
    "urls_bs = list(fin_statements_matching[fin_statements_matching['Financial Statement']==\"Balance Sheet\"]['URL'])\n",
    "urls_cf = list(fin_statements_matching[fin_statements_matching['Financial Statement']==\"Cash Flow Statement\"]['URL'])\n",
    "urls_is = list(fin_statements_matching[fin_statements_matching['Financial Statement']==\"Income Statement\"]['URL'])"
   ]
  },
  {
   "cell_type": "code",
   "execution_count": 312,
   "metadata": {
    "ExecuteTime": {
     "end_time": "2020-12-25T13:36:47.148277Z",
     "start_time": "2020-12-25T13:36:47.130276Z"
    },
    "code_folding": [
     8
    ],
    "run_control": {
     "marked": true
    }
   },
   "outputs": [],
   "source": [
    "# hide - cash equiv\n",
    "for n, profiles_col in enumerate(company_profiles_col):\n",
    "    key = profiles_col\n",
    "    value = profiles_value[n]\n",
    "    profiles_dict[key] = value \n",
    "\n",
    "if \"{}\".format(url_fin_metric) in urls_is:\n",
    "    fin_statement_dir = \"Income Statement\"\n",
    "elif \"{}\".format(url_fin_metric) in urls_bs:\n",
    "    fin_metric_pos = urls_bs.index(\"{}\".format(url_fin_metric))\n",
    "    fin_statement_dir = \"Balance Sheet\"\n",
    "    fin_statement_cols = titles_bs\n",
    "    cols = titles_bs\n",
    "    fin_metric_title = fin_statement_cols[fin_metric_pos]\n",
    "\n",
    "elif \"{}\".format(url_fin_metric) in urls_cf:\n",
    "    fin_statement_dir = \"Cash Flow Statement\"\n",
    "\n",
    "else:\n",
    "    pass\n"
   ]
  },
  {
   "cell_type": "code",
   "execution_count": 25,
   "metadata": {
    "ExecuteTime": {
     "end_time": "2020-12-20T02:32:31.267988Z",
     "start_time": "2020-12-20T02:32:31.231984Z"
    },
    "code_folding": [],
    "run_control": {
     "marked": true
    }
   },
   "outputs": [
    {
     "name": "stdout",
     "output_type": "stream",
     "text": [
      "fin metric name cashAndCashEquivalents\n"
     ]
    }
   ],
   "source": [
    "# hide - cash equiv\n",
    "# start_time = time.time()\n",
    "bs_dir = \"Balance Sheet\"\n",
    "bs_file = glob.glob(\"../Charts_TenDollarData/financial_statements/data/Historical Financial Statements/*/quarter/{}/*~{}~*\".format(bs_dir, url_symbol.upper()))[-1]\n",
    "\n",
    "df = pd.read_csv(bs_file,index_col = False) #.format(\"NLOK\"))[-1]\n",
    "# df = df[df['date'].notna()]#fillna(method='ffill')\n",
    "df = df[0:].iloc[::-1]#.dropna()\n",
    "df_fin_statement = df\n",
    "#region Pandas data manipulation\n",
    "matching_row = fin_statements_matching[fin_statements_matching['URL']==\"{}\".format(url_fin_metric)]\n",
    "fin_metric_title = list(matching_row['Title'])[0]\n",
    "fin_metric_name = list(matching_row['Name'])[0]\n",
    "print(\"fin metric name\", fin_metric_name)\n",
    "sorted_metric = df[\"{}\".format(fin_metric_name)].sort_values()"
   ]
  },
  {
   "cell_type": "code",
   "execution_count": 322,
   "metadata": {
    "ExecuteTime": {
     "end_time": "2020-12-25T14:02:49.464915Z",
     "start_time": "2020-12-25T14:02:49.459910Z"
    }
   },
   "outputs": [],
   "source": [
    "\"https://financialmodelingprep.com/api/v3/historical-price-full/AAPL?from={}&to={}&apikey=4b5cd112b74ca86811fd1ccddd4ad9c1\".format(first_date,today)"
   ]
  },
  {
   "cell_type": "code",
   "execution_count": 370,
   "metadata": {
    "ExecuteTime": {
     "end_time": "2020-12-25T14:37:03.909885Z",
     "start_time": "2020-12-25T14:37:03.819884Z"
    }
   },
   "outputs": [],
   "source": [
    "symbol = \"AAPL\"\n",
    "market_cap_path = glob.glob(\"../Charts_TenDollarData/financial_statements/data/Historical Market Cap & Price/All/D-*-{}.csv\".format(symbol))[0]\n",
    "market_cap_df = pd.read_csv(\"{}\".format(market_cap_path))\n",
    "market_cap_df_first_day = (pd.to_datetime(market_cap_df.datetime).values.astype(np.int64))[-1]\n",
    "market_cap_df['timestamp'] = pd.to_datetime(market_cap_df.datetime).values.astype(np.int64)\n",
    "market_cap_df_first_day = (pd.to_datetime(market_cap_df.datetime).values.astype(np.int64))[-1]\n",
    "today = datetime.today().strftime('%Y-%m-%d')\n",
    "first_date = datetime.utcfromtimestamp(int(first_day // 10 ** 9)).strftime('%Y-%m-%d')\n",
    "market_cap_df['timestamp'] = pd.to_datetime(market_cap_df.datetime).values.astype(np.int64)// 10 ** 6\n",
    "market_cap_df = market_cap_df[market_cap_df['timestamp']>765158400000]\n",
    "price_json = market_cap_df[['timestamp','adjClose']].to_json(orient=\"records\")"
   ]
  },
  {
   "cell_type": "code",
   "execution_count": 373,
   "metadata": {
    "ExecuteTime": {
     "end_time": "2020-12-25T14:38:20.177131Z",
     "start_time": "2020-12-25T14:38:20.135132Z"
    }
   },
   "outputs": [
    {
     "data": {
      "text/plain": [
       "'[{\"timestamp\":765417600000,\"adjClose\":0.251026},{\"timestamp\":765504000000,\"adjClose\":0.252914},{\"timestamp\":765590400000,\"adjClose\":0.252914},{\"timestamp\":765676800000,\"adjClose\":0.25197},{\"timestamp\":765763200000,\"adjClose\":0.252914},{\"timestamp\":766022400000,\"adjClose\":0.252914},{\"timestamp\":766108800000,\"adjClose\":0.241589},{\"timestamp\":766195200000,\"adjClose\":0.239702},{\"timestamp\":766281600000,\"adjClose\":0.237814},{\"timestamp\":766368000000,\"adjClose\":0.228377},{\"timestamp\":766627200000,\"adjClose\":0.223659},{\"timestamp\":766713600000,\"adjClose\":0.21894},{\"timestamp\":766800000000,\"adjClose\":0.213278},{\"timestamp\":766886400000,\"adjClose\":0.223659},{\"timestamp\":766972800000,\"adjClose\":0.224602},{\"timestamp\":767232000000,\"adjClose\":0.234039},{\"timestamp\":767318400000,\"adjClose\":0.235927},{\"timestamp\":767491200000,\"adjClose\":0.228377},{\"timestamp\":767577600000,\"adjClose\":0.22649},{\"timestamp\":767836800000,\"adjClose\":0.234039},{\"timestamp\":767923200000,\"adjClose\":0.228377},{\"timestamp\":768009600000,\"adjClose\":0.249139},{\"timestamp\":768096000000,\"adjClose\":0.248195},{\"timestamp\":768182400000,\"adjClose\":0.243948},{\"timestamp\":768441600000,\"adjClose\":0.235927},{\"timestamp\":768528000000,\"adjClose\":0.234039},{\"timestamp\":768614400000,\"adjClose\":0.228377},{\"timestamp\":768700800000,\"adjClose\":0.22413},{\"timestamp\":768787200000,\"adjClose\":0.22649},{\"timestamp\":769046400000,\"adjClose\":0.222715},{\"timestamp\":769132800000,\"adjClose\":0.221771},{\"timestamp\":769219200000,\"adjClose\":0.231208},{\"timestamp\":769305600000,\"adjClose\":0.242533},{\"timestamp\":769392000000,\"adjClose\":0.234511},{\"timestamp\":769651200000,\"adjClose\":0.230265},{\"timestamp\":769737600000,\"adjClose\":0.232152},{\"timestamp\":769824000000,\"adjClose\":0.235927},{\"timestamp\":769910400000,\"adjClose\":0.230265},{\"timestamp\":769996800000,\"adjClose\":0.226909},{\"timestamp\":770342400000,\"adjClose\":0.221699},{\"timestamp\":770428800000,\"adjClose\":0.214119},{\"timestamp\":770515200000,\"adjClose\":0.207487},{\"timestamp\":770601600000,\"adjClose\":0.209382},{\"timestamp\":770860800000,\"adjClose\":0.207487},{\"timestamp\":770947200000,\"adjClose\":0.208435},{\"timestamp\":771033600000,\"adjClose\":0.198013},{\"timestamp\":771120000000,\"adjClose\":0.204645},{\"timestamp\":771206400000,\"adjClose\":0.200855},{\"timestamp\":771465600000,\"adjClose\":0.204645},{\"timestamp\":771552000000,\"adjClose\":0.205119},{\"timestamp\":771638400000,\"adjClose\":0.210803},{\"timestamp\":771724800000,\"adjClose\":0.199908},{\"timestamp\":771811200000,\"adjClose\":0.200855},{\"timestamp\":772070400000,\"adjClose\":0.205592},{\"timestamp\":772156800000,\"adjClose\":0.197065},{\"timestamp\":772243200000,\"adjClose\":0.19896},{\"timestamp\":772329600000,\"adjClose\":0.190433},{\"timestamp\":772416000000,\"adjClose\":0.194105},{\"timestamp\":772675200000,\"adjClose\":0.19896},{\"timestamp\":772761600000,\"adjClose\":0.20275},{\"timestamp\":772848000000,\"adjClose\":0.198013},{\"timestamp\":772934400000,\"adjClose\":0.200855},{\"timestamp\":773020800000,\"adjClose\":0.195171},{\"timestamp\":773366400000,\"adjClose\":0.200855},{\"timestamp\":773452800000,\"adjClose\":0.198013},{\"timestamp\":773539200000,\"adjClose\":0.203224},{\"timestamp\":773625600000,\"adjClose\":0.205119},{\"timestamp\":773884800000,\"adjClose\":0.204645},{\"timestamp\":773971200000,\"adjClose\":0.215067},{\"timestamp\":774057600000,\"adjClose\":0.225015},{\"timestamp\":774144000000,\"adjClose\":0.216961},{\"timestamp\":774230400000,\"adjClose\":0.214119},{\"timestamp\":774489600000,\"adjClose\":0.215067},{\"timestamp\":774576000000,\"adjClose\":0.209856},{\"timestamp\":774662400000,\"adjClose\":0.201803},{\"timestamp\":774748800000,\"adjClose\":0.212224},{\"timestamp\":774835200000,\"adjClose\":0.234963},{\"timestamp\":775094400000,\"adjClose\":0.240173},{\"timestamp\":775180800000,\"adjClose\":0.237805},{\"timestamp\":775267200000,\"adjClose\":0.235436},{\"timestamp\":775353600000,\"adjClose\":0.241595},{\"timestamp\":775440000000,\"adjClose\":0.255332},{\"timestamp\":775699200000,\"adjClose\":0.252964},{\"timestamp\":775785600000,\"adjClose\":0.246805},{\"timestamp\":775872000000,\"adjClose\":0.251069},{\"timestamp\":775958400000,\"adjClose\":0.252016},{\"timestamp\":776044800000,\"adjClose\":0.252016},{\"timestamp\":776304000000,\"adjClose\":0.255806},{\"timestamp\":776390400000,\"adjClose\":0.254859},{\"timestamp\":776476800000,\"adjClose\":0.262438},{\"timestamp\":776563200000,\"adjClose\":0.26007},{\"timestamp\":776649600000,\"adjClose\":0.263386},{\"timestamp\":776908800000,\"adjClose\":0.263346},{\"timestamp\":776995200000,\"adjClose\":0.264297},{\"timestamp\":777081600000,\"adjClose\":0.266198},{\"timestamp\":777168000000,\"adjClose\":0.263346},{\"timestamp\":777254400000,\"adjClose\":0.265248},{\"timestamp\":777513600000,\"adjClose\":0.265248},{\"timestamp\":777600000000,\"adjClose\":0.266198},{\"timestamp\":777686400000,\"adjClose\":0.265248},{\"timestamp\":777772800000,\"adjClose\":0.266674},{\"timestamp\":777859200000,\"adjClose\":0.271903},{\"timestamp\":778118400000,\"adjClose\":0.269051},{\"timestamp\":778204800000,\"adjClose\":0.275706},{\"timestamp\":778291200000,\"adjClose\":0.27523},{\"timestamp\":778377600000,\"adjClose\":0.266198},{\"timestamp\":778464000000,\"adjClose\":0.269051},{\"timestamp\":778809600000,\"adjClose\":0.270477},{\"timestamp\":778896000000,\"adjClose\":0.274755},{\"timestamp\":778982400000,\"adjClose\":0.274755},{\"timestamp\":779068800000,\"adjClose\":0.271903},{\"timestamp\":779328000000,\"adjClose\":0.271903},{\"timestamp\":779414400000,\"adjClose\":0.272378},{\"timestamp\":779500800000,\"adjClose\":0.267149},{\"timestamp\":779587200000,\"adjClose\":0.273804},{\"timestamp\":779673600000,\"adjClose\":0.276656},{\"timestamp\":779932800000,\"adjClose\":0.270001},{\"timestamp\":780019200000,\"adjClose\":0.262871},{\"timestamp\":780105600000,\"adjClose\":0.259543},{\"timestamp\":780192000000,\"adjClose\":0.257642},{\"timestamp\":780278400000,\"adjClose\":0.258117},{\"timestamp\":780537600000,\"adjClose\":0.258117},{\"timestamp\":780624000000,\"adjClose\":0.257642},{\"timestamp\":780710400000,\"adjClose\":0.257642},{\"timestamp\":780796800000,\"adjClose\":0.259543},{\"timestamp\":780883200000,\"adjClose\":0.256216},{\"timestamp\":781142400000,\"adjClose\":0.251938},{\"timestamp\":781228800000,\"adjClose\":0.256691},{\"timestamp\":781315200000,\"adjClose\":0.288065},{\"timestamp\":781401600000,\"adjClose\":0.275706},{\"timestamp\":781488000000,\"adjClose\":0.28141},{\"timestamp\":781747200000,\"adjClose\":0.29567},{\"timestamp\":781833600000,\"adjClose\":0.301375},{\"timestamp\":781920000000,\"adjClose\":0.320389},{\"timestamp\":782006400000,\"adjClose\":0.312783},{\"timestamp\":782092800000,\"adjClose\":0.312783},{\"timestamp\":782352000000,\"adjClose\":0.302325},{\"timestamp\":782438400000,\"adjClose\":0.313734},{\"timestamp\":782524800000,\"adjClose\":0.313734},{\"timestamp\":782611200000,\"adjClose\":0.311832},{\"timestamp\":782697600000,\"adjClose\":0.324192},{\"timestamp\":782956800000,\"adjClose\":0.321339},{\"timestamp\":783043200000,\"adjClose\":0.324192},{\"timestamp\":783129600000,\"adjClose\":0.328945},{\"timestamp\":783216000000,\"adjClose\":0.325142},{\"timestamp\":783302400000,\"adjClose\":0.320389},{\"timestamp\":783561600000,\"adjClose\":0.32847},{\"timestamp\":783648000000,\"adjClose\":0.327994},{\"timestamp\":783734400000,\"adjClose\":0.314685},{\"timestamp\":783820800000,\"adjClose\":0.315635},{\"timestamp\":783907200000,\"adjClose\":0.307079},{\"timestamp\":784166400000,\"adjClose\":0.309931},{\"timestamp\":784252800000,\"adjClose\":0.321339},{\"timestamp\":784339200000,\"adjClose\":0.316586},{\"timestamp\":784425600000,\"adjClose\":0.314209},{\"timestamp\":784512000000,\"adjClose\":0.312783},{\"timestamp\":784771200000,\"adjClose\":0.323241},{\"timestamp\":784857600000,\"adjClose\":0.314685},{\"timestamp\":784944000000,\"adjClose\":0.311357},{\"timestamp\":785030400000,\"adjClose\":0.304227},{\"timestamp\":785116800000,\"adjClose\":0.305141},{\"timestamp\":785376000000,\"adjClose\":0.290837},{\"timestamp\":785462400000,\"adjClose\":0.285116},{\"timestamp\":785548800000,\"adjClose\":0.281302},{\"timestamp\":785721600000,\"adjClose\":0.287977},{\"timestamp\":785980800000,\"adjClose\":0.288454},{\"timestamp\":786067200000,\"adjClose\":0.291791},{\"timestamp\":786153600000,\"adjClose\":0.284163},{\"timestamp\":786240000000,\"adjClose\":0.276057},{\"timestamp\":786326400000,\"adjClose\":0.278918},{\"timestamp\":786585600000,\"adjClose\":0.283686},{\"timestamp\":786672000000,\"adjClose\":0.286546},{\"timestamp\":786758400000,\"adjClose\":0.279395},{\"timestamp\":786844800000,\"adjClose\":0.273673},{\"timestamp\":786931200000,\"adjClose\":0.276534},{\"timestamp\":787190400000,\"adjClose\":0.278441},{\"timestamp\":787276800000,\"adjClose\":0.277488},{\"timestamp\":787363200000,\"adjClose\":0.28893},{\"timestamp\":787449600000,\"adjClose\":0.283209},{\"timestamp\":787536000000,\"adjClose\":0.284163},{\"timestamp\":787795200000,\"adjClose\":0.298466},{\"timestamp\":787881600000,\"adjClose\":0.293698},{\"timestamp\":787968000000,\"adjClose\":0.292745},{\"timestamp\":788054400000,\"adjClose\":0.294652},{\"timestamp\":788140800000,\"adjClose\":0.296559},{\"timestamp\":788486400000,\"adjClose\":0.298466},{\"timestamp\":788572800000,\"adjClose\":0.298466},{\"timestamp\":788659200000,\"adjClose\":0.301327},{\"timestamp\":788745600000,\"adjClose\":0.297512},{\"timestamp\":789091200000,\"adjClose\":0.292745},{\"timestamp\":789177600000,\"adjClose\":0.300373},{\"timestamp\":789264000000,\"adjClose\":0.296559},{\"timestamp\":789350400000,\"adjClose\":0.320398},{\"timestamp\":789609600000,\"adjClose\":0.314319},{\"timestamp\":789696000000,\"adjClose\":0.333271},{\"timestamp\":789782400000,\"adjClose\":0.356633},{\"timestamp\":789868800000,\"adjClose\":0.346144},{\"timestamp\":789955200000,\"adjClose\":0.34233},{\"timestamp\":790214400000,\"adjClose\":0.339469},{\"timestamp\":790300800000,\"adjClose\":0.343284},{\"timestamp\":790387200000,\"adjClose\":0.348051},{\"timestamp\":790473600000,\"adjClose\":0.349959},{\"timestamp\":790560000000,\"adjClose\":0.325166},{\"timestamp\":790819200000,\"adjClose\":0.322305},{\"timestamp\":790905600000,\"adjClose\":0.317537},{\"timestamp\":790992000000,\"adjClose\":0.31265},{\"timestamp\":791078400000,\"adjClose\":0.301327},{\"timestamp\":791164800000,\"adjClose\":0.304187},{\"timestamp\":791424000000,\"adjClose\":0.306095},{\"timestamp\":791510400000,\"adjClose\":0.308002},{\"timestamp\":791596800000,\"adjClose\":0.306095},{\"timestamp\":791683200000,\"adjClose\":0.317537},{\"timestamp\":791769600000,\"adjClose\":0.308955},{\"timestamp\":792028800000,\"adjClose\":0.308955},{\"timestamp\":792115200000,\"adjClose\":0.311339},{\"timestamp\":792201600000,\"adjClose\":0.322782},{\"timestamp\":792288000000,\"adjClose\":0.332794},{\"timestamp\":792374400000,\"adjClose\":0.333748},{\"timestamp\":792633600000,\"adjClose\":0.334665},{\"timestamp\":792720000000,\"adjClose\":0.328449},{\"timestamp\":792806400000,\"adjClose\":0.325581},{\"timestamp\":792892800000,\"adjClose\":0.330362},{\"timestamp\":792979200000,\"adjClose\":0.325103},{\"timestamp\":793324800000,\"adjClose\":0.313629},{\"timestamp\":793411200000,\"adjClose\":0.312194},{\"timestamp\":793497600000,\"adjClose\":0.307413},{\"timestamp\":793584000000,\"adjClose\":0.29833},{\"timestamp\":793843200000,\"adjClose\":0.292592},{\"timestamp\":793929600000,\"adjClose\":0.302154},{\"timestamp\":794016000000,\"adjClose\":0.305979},{\"timestamp\":794102400000,\"adjClose\":0.305979},{\"timestamp\":794188800000,\"adjClose\":0.307891},{\"timestamp\":794448000000,\"adjClose\":0.304067},{\"timestamp\":794534400000,\"adjClose\":0.293071},{\"timestamp\":794620800000,\"adjClose\":0.302632},{\"timestamp\":794707200000,\"adjClose\":0.304067},{\"timestamp\":794793600000,\"adjClose\":0.302154},{\"timestamp\":795052800000,\"adjClose\":0.291636},{\"timestamp\":795139200000,\"adjClose\":0.267732},{\"timestamp\":795225600000,\"adjClose\":0.267732},{\"timestamp\":795312000000,\"adjClose\":0.269644},{\"timestamp\":795398400000,\"adjClose\":0.268688},{\"timestamp\":795657600000,\"adjClose\":0.269644},{\"timestamp\":795744000000,\"adjClose\":0.277294},{\"timestamp\":795830400000,\"adjClose\":0.291158},{\"timestamp\":795916800000,\"adjClose\":0.283987},{\"timestamp\":796003200000,\"adjClose\":0.288768},{\"timestamp\":796262400000,\"adjClose\":0.284465},{\"timestamp\":796348800000,\"adjClose\":0.262951},{\"timestamp\":796435200000,\"adjClose\":0.262951},{\"timestamp\":796521600000,\"adjClose\":0.2706},{\"timestamp\":796608000000,\"adjClose\":0.269644},{\"timestamp\":796867200000,\"adjClose\":0.271556},{\"timestamp\":796953600000,\"adjClose\":0.259126},{\"timestamp\":797040000000,\"adjClose\":0.265819},{\"timestamp\":797126400000,\"adjClose\":0.281118},{\"timestamp\":797212800000,\"adjClose\":0.281118},{\"timestamp\":797472000000,\"adjClose\":0.280162},{\"timestamp\":797558400000,\"adjClose\":0.288768},{\"timestamp\":797644800000,\"adjClose\":0.29833},{\"timestamp\":797731200000,\"adjClose\":0.292592},{\"timestamp\":798076800000,\"adjClose\":0.293549},{\"timestamp\":798163200000,\"adjClose\":0.286855},{\"timestamp\":798249600000,\"adjClose\":0.27825},{\"timestamp\":798336000000,\"adjClose\":0.287812},{\"timestamp\":798422400000,\"adjClose\":0.299286},{\"timestamp\":798681600000,\"adjClose\":0.29833},{\"timestamp\":798768000000,\"adjClose\":0.288768},{\"timestamp\":798854400000,\"adjClose\":0.292592},{\"timestamp\":798940800000,\"adjClose\":0.289724},{\"timestamp\":799027200000,\"adjClose\":0.292592},{\"timestamp\":799286400000,\"adjClose\":0.292592},{\"timestamp\":799372800000,\"adjClose\":0.291636},{\"timestamp\":799459200000,\"adjClose\":0.291636},{\"timestamp\":799545600000,\"adjClose\":0.294505},{\"timestamp\":799632000000,\"adjClose\":0.297373},{\"timestamp\":799891200000,\"adjClose\":0.309804},{\"timestamp\":799977600000,\"adjClose\":0.315541},{\"timestamp\":800064000000,\"adjClose\":0.316975},{\"timestamp\":800150400000,\"adjClose\":0.313629},{\"timestamp\":800236800000,\"adjClose\":0.333709},{\"timestamp\":800496000000,\"adjClose\":0.333709},{\"timestamp\":800582400000,\"adjClose\":0.334665},{\"timestamp\":800668800000,\"adjClose\":0.336577},{\"timestamp\":800755200000,\"adjClose\":0.331796},{\"timestamp\":800841600000,\"adjClose\":0.327015},{\"timestamp\":801100800000,\"adjClose\":0.337533},{\"timestamp\":801187200000,\"adjClose\":0.335621},{\"timestamp\":801273600000,\"adjClose\":0.332752},{\"timestamp\":801360000000,\"adjClose\":0.331796},{\"timestamp\":801446400000,\"adjClose\":0.327442},{\"timestamp\":801792000000,\"adjClose\":0.322168},{\"timestamp\":801878400000,\"adjClose\":0.318812},{\"timestamp\":801964800000,\"adjClose\":0.323606},{\"timestamp\":802051200000,\"adjClose\":0.323127},{\"timestamp\":802310400000,\"adjClose\":0.333674},{\"timestamp\":802396800000,\"adjClose\":0.337509},{\"timestamp\":802483200000,\"adjClose\":0.330798},{\"timestamp\":802569600000,\"adjClose\":0.329359},{\"timestamp\":802656000000,\"adjClose\":0.333674},{\"timestamp\":802915200000,\"adjClose\":0.338828},{\"timestamp\":803001600000,\"adjClose\":0.337509},{\"timestamp\":803088000000,\"adjClose\":0.334633},{\"timestamp\":803174400000,\"adjClose\":0.334633},{\"timestamp\":803260800000,\"adjClose\":0.336551},{\"timestamp\":803520000000,\"adjClose\":0.340386},{\"timestamp\":803606400000,\"adjClose\":0.363398},{\"timestamp\":803692800000,\"adjClose\":0.378739},{\"timestamp\":803779200000,\"adjClose\":0.376822},{\"timestamp\":803865600000,\"adjClose\":0.373945},{\"timestamp\":804124800000,\"adjClose\":0.369151},{\"timestamp\":804211200000,\"adjClose\":0.355727},{\"timestamp\":804297600000,\"adjClose\":0.357645},{\"timestamp\":804384000000,\"adjClose\":0.362439},{\"timestamp\":804470400000,\"adjClose\":0.356207},{\"timestamp\":804729600000,\"adjClose\":0.360042},{\"timestamp\":804902400000,\"adjClose\":0.356686},{\"timestamp\":804988800000,\"adjClose\":0.360521},{\"timestamp\":805075200000,\"adjClose\":0.372986},{\"timestamp\":805334400000,\"adjClose\":0.372986},{\"timestamp\":805420800000,\"adjClose\":0.36148},{\"timestamp\":805507200000,\"adjClose\":0.360521},{\"timestamp\":805593600000,\"adjClose\":0.365316},{\"timestamp\":805680000000,\"adjClose\":0.373945},{\"timestamp\":805939200000,\"adjClose\":0.375863},{\"timestamp\":806025600000,\"adjClose\":0.369151},{\"timestamp\":806112000000,\"adjClose\":0.349016},{\"timestamp\":806198400000,\"adjClose\":0.361001},{\"timestamp\":806284800000,\"adjClose\":0.335592},{\"timestamp\":806544000000,\"adjClose\":0.348057},{\"timestamp\":806630400000,\"adjClose\":0.350933},{\"timestamp\":806716800000,\"adjClose\":0.348057},{\"timestamp\":806803200000,\"adjClose\":0.359083},{\"timestamp\":806889600000,\"adjClose\":0.349016},{\"timestamp\":807148800000,\"adjClose\":0.34518},{\"timestamp\":807235200000,\"adjClose\":0.333674},{\"timestamp\":807321600000,\"adjClose\":0.340386},{\"timestamp\":807408000000,\"adjClose\":0.34518},{\"timestamp\":807494400000,\"adjClose\":0.339427},{\"timestamp\":807753600000,\"adjClose\":0.332715},{\"timestamp\":807840000000,\"adjClose\":0.326003},{\"timestamp\":807926400000,\"adjClose\":0.330798},{\"timestamp\":808012800000,\"adjClose\":0.327921},{\"timestamp\":808099200000,\"adjClose\":0.330318},{\"timestamp\":808358400000,\"adjClose\":0.332715},{\"timestamp\":808444800000,\"adjClose\":0.337989},{\"timestamp\":808531200000,\"adjClose\":0.342276},{\"timestamp\":808617600000,\"adjClose\":0.343237},{\"timestamp\":808704000000,\"adjClose\":0.34516},{\"timestamp\":808963200000,\"adjClose\":0.339391},{\"timestamp\":809049600000,\"adjClose\":0.344199},{\"timestamp\":809136000000,\"adjClose\":0.349967},{\"timestamp\":809222400000,\"adjClose\":0.35189},{\"timestamp\":809308800000,\"adjClose\":0.344199},{\"timestamp\":809568000000,\"adjClose\":0.330738},{\"timestamp\":809654400000,\"adjClose\":0.3317},{\"timestamp\":809740800000,\"adjClose\":0.333623},{\"timestamp\":809827200000,\"adjClose\":0.330738},{\"timestamp\":809913600000,\"adjClose\":0.330258},{\"timestamp\":810259200000,\"adjClose\":0.334584},{\"timestamp\":810345600000,\"adjClose\":0.336507},{\"timestamp\":810432000000,\"adjClose\":0.344199},{\"timestamp\":810518400000,\"adjClose\":0.344199},{\"timestamp\":810777600000,\"adjClose\":0.340353},{\"timestamp\":810864000000,\"adjClose\":0.330258},{\"timestamp\":810950400000,\"adjClose\":0.325931},{\"timestamp\":811036800000,\"adjClose\":0.307664},{\"timestamp\":811123200000,\"adjClose\":0.275936},{\"timestamp\":811382400000,\"adjClose\":0.282185},{\"timestamp\":811468800000,\"adjClose\":0.282666},{\"timestamp\":811555200000,\"adjClose\":0.281704},{\"timestamp\":811641600000,\"adjClose\":0.284589},{\"timestamp\":811728000000,\"adjClose\":0.28507},{\"timestamp\":811987200000,\"adjClose\":0.288555},{\"timestamp\":812073600000,\"adjClose\":0.287473},{\"timestamp\":812160000000,\"adjClose\":0.27882},{\"timestamp\":812246400000,\"adjClose\":0.290357},{\"timestamp\":812332800000,\"adjClose\":0.286512},{\"timestamp\":812592000000,\"adjClose\":0.289396},{\"timestamp\":812678400000,\"adjClose\":0.289396},{\"timestamp\":812764800000,\"adjClose\":0.279782},{\"timestamp\":812851200000,\"adjClose\":0.280743},{\"timestamp\":812937600000,\"adjClose\":0.274494},{\"timestamp\":813196800000,\"adjClose\":0.267763},{\"timestamp\":813283200000,\"adjClose\":0.266802},{\"timestamp\":813369600000,\"adjClose\":0.268244},{\"timestamp\":813456000000,\"adjClose\":0.271609},{\"timestamp\":813542400000,\"adjClose\":0.276897},{\"timestamp\":813801600000,\"adjClose\":0.277859},{\"timestamp\":813888000000,\"adjClose\":0.281704},{\"timestamp\":813974400000,\"adjClose\":0.287473},{\"timestamp\":814060800000,\"adjClose\":0.267283},{\"timestamp\":814147200000,\"adjClose\":0.270167},{\"timestamp\":814406400000,\"adjClose\":0.270167},{\"timestamp\":814492800000,\"adjClose\":0.270167},{\"timestamp\":814579200000,\"adjClose\":0.267283},{\"timestamp\":814665600000,\"adjClose\":0.268244},{\"timestamp\":814752000000,\"adjClose\":0.267283},{\"timestamp\":815011200000,\"adjClose\":0.271129},{\"timestamp\":815097600000,\"adjClose\":0.279301},{\"timestamp\":815184000000,\"adjClose\":0.281704},{\"timestamp\":815270400000,\"adjClose\":0.281704},{\"timestamp\":815356800000,\"adjClose\":0.280743},{\"timestamp\":815616000000,\"adjClose\":0.293242},{\"timestamp\":815702400000,\"adjClose\":0.304779},{\"timestamp\":815788800000,\"adjClose\":0.299011},{\"timestamp\":815875200000,\"adjClose\":0.302856},{\"timestamp\":815961600000,\"adjClose\":0.305741},{\"timestamp\":816220800000,\"adjClose\":0.314394},{\"timestamp\":816307200000,\"adjClose\":0.319201},{\"timestamp\":816393600000,\"adjClose\":0.315355},{\"timestamp\":816480000000,\"adjClose\":0.307183},{\"timestamp\":816566400000,\"adjClose\":0.308625},{\"timestamp\":816825600000,\"adjClose\":0.297088},{\"timestamp\":816912000000,\"adjClose\":0.298012},{\"timestamp\":816998400000,\"adjClose\":0.298012},{\"timestamp\":817171200000,\"adjClose\":0.310068},{\"timestamp\":817430400000,\"adjClose\":0.303799},{\"timestamp\":817516800000,\"adjClose\":0.308621},{\"timestamp\":817603200000,\"adjClose\":0.302834},{\"timestamp\":817689600000,\"adjClose\":0.294154},{\"timestamp\":817776000000,\"adjClose\":0.290297},{\"timestamp\":818035200000,\"adjClose\":0.304763},{\"timestamp\":818121600000,\"adjClose\":0.304763},{\"timestamp\":818208000000,\"adjClose\":0.298977},{\"timestamp\":818294400000,\"adjClose\":0.29753},{\"timestamp\":818380800000,\"adjClose\":0.303799},{\"timestamp\":818640000000,\"adjClose\":0.298012},{\"timestamp\":818726400000,\"adjClose\":0.29319},{\"timestamp\":818812800000,\"adjClose\":0.296083},{\"timestamp\":818899200000,\"adjClose\":0.295119},{\"timestamp\":818985600000,\"adjClose\":0.271972},{\"timestamp\":819244800000,\"adjClose\":0.248826},{\"timestamp\":819331200000,\"adjClose\":0.252684},{\"timestamp\":819417600000,\"adjClose\":0.251719},{\"timestamp\":819504000000,\"adjClose\":0.250755},{\"timestamp\":819590400000,\"adjClose\":0.248826},{\"timestamp\":819936000000,\"adjClose\":0.247379},{\"timestamp\":820022400000,\"adjClose\":0.24979},{\"timestamp\":820108800000,\"adjClose\":0.246897},{\"timestamp\":820195200000,\"adjClose\":0.245932},{\"timestamp\":820540800000,\"adjClose\":0.247861},{\"timestamp\":820627200000,\"adjClose\":0.247861},{\"timestamp\":820713600000,\"adjClose\":0.243521},{\"timestamp\":820800000000,\"adjClose\":0.264257},{\"timestamp\":821059200000,\"adjClose\":0.26715},{\"timestamp\":821145600000,\"adjClose\":0.252684},{\"timestamp\":821232000000,\"adjClose\":0.264257},{\"timestamp\":821318400000,\"adjClose\":0.270044},{\"timestamp\":821404800000,\"adjClose\":0.261363},{\"timestamp\":821664000000,\"adjClose\":0.263292},{\"timestamp\":821750400000,\"adjClose\":0.266668},{\"timestamp\":821836800000,\"adjClose\":0.262328},{\"timestamp\":821923200000,\"adjClose\":0.246415},{\"timestamp\":822009600000,\"adjClose\":0.230501},{\"timestamp\":822268800000,\"adjClose\":0.235324},{\"timestamp\":822355200000,\"adjClose\":0.244004},{\"timestamp\":822441600000,\"adjClose\":0.248826},{\"timestamp\":822528000000,\"adjClose\":0.233395},{\"timestamp\":822614400000,\"adjClose\":0.236288},{\"timestamp\":822873600000,\"adjClose\":0.224715},{\"timestamp\":822960000000,\"adjClose\":0.21073},{\"timestamp\":823046400000,\"adjClose\":0.213141},{\"timestamp\":823132800000,\"adjClose\":0.218928},{\"timestamp\":823219200000,\"adjClose\":0.225679},{\"timestamp\":823478400000,\"adjClose\":0.225679},{\"timestamp\":823564800000,\"adjClose\":0.228573},{\"timestamp\":823651200000,\"adjClose\":0.217964},{\"timestamp\":823737600000,\"adjClose\":0.21507},{\"timestamp\":823824000000,\"adjClose\":0.214106},{\"timestamp\":824083200000,\"adjClose\":0.218928},{\"timestamp\":824169600000,\"adjClose\":0.216999},{\"timestamp\":824256000000,\"adjClose\":0.213141},{\"timestamp\":824342400000,\"adjClose\":0.216035},{\"timestamp\":824428800000,\"adjClose\":0.212177},{\"timestamp\":824774400000,\"adjClose\":0.22375},{\"timestamp\":824860800000,\"adjClose\":0.228573},{\"timestamp\":824947200000,\"adjClose\":0.230501},{\"timestamp\":825033600000,\"adjClose\":0.230501},{\"timestamp\":825292800000,\"adjClose\":0.227608},{\"timestamp\":825379200000,\"adjClose\":0.220857},{\"timestamp\":825465600000,\"adjClose\":0.214106},{\"timestamp\":825552000000,\"adjClose\":0.212177},{\"timestamp\":825638400000,\"adjClose\":0.207355},{\"timestamp\":825897600000,\"adjClose\":0.202533},{\"timestamp\":825984000000,\"adjClose\":0.205426},{\"timestamp\":826070400000,\"adjClose\":0.20205},{\"timestamp\":826156800000,\"adjClose\":0.199157},{\"timestamp\":826243200000,\"adjClose\":0.200604},{\"timestamp\":826502400000,\"adjClose\":0.199639},{\"timestamp\":826588800000,\"adjClose\":0.199157},{\"timestamp\":826675200000,\"adjClose\":0.198675},{\"timestamp\":826761600000,\"adjClose\":0.19771},{\"timestamp\":826848000000,\"adjClose\":0.199639},{\"timestamp\":827107200000,\"adjClose\":0.201568},{\"timestamp\":827193600000,\"adjClose\":0.198675},{\"timestamp\":827280000000,\"adjClose\":0.194817},{\"timestamp\":827366400000,\"adjClose\":0.193853},{\"timestamp\":827452800000,\"adjClose\":0.195782},{\"timestamp\":827712000000,\"adjClose\":0.185173},{\"timestamp\":827798400000,\"adjClose\":0.184208},{\"timestamp\":827884800000,\"adjClose\":0.194817},{\"timestamp\":827971200000,\"adjClose\":0.186619},{\"timestamp\":828057600000,\"adjClose\":0.189513},{\"timestamp\":828316800000,\"adjClose\":0.196746},{\"timestamp\":828403200000,\"adjClose\":0.192888},{\"timestamp\":828489600000,\"adjClose\":0.189513},{\"timestamp\":828576000000,\"adjClose\":0.186137},{\"timestamp\":828921600000,\"adjClose\":0.188066},{\"timestamp\":829008000000,\"adjClose\":0.200604},{\"timestamp\":829094400000,\"adjClose\":0.200604},{\"timestamp\":829180800000,\"adjClose\":0.198675},{\"timestamp\":829267200000,\"adjClose\":0.196746},{\"timestamp\":829526400000,\"adjClose\":0.198675},{\"timestamp\":829612800000,\"adjClose\":0.199639},{\"timestamp\":829699200000,\"adjClose\":0.194817},{\"timestamp\":829785600000,\"adjClose\":0.190959},{\"timestamp\":829872000000,\"adjClose\":0.19337},{\"timestamp\":830131200000,\"adjClose\":0.193853},{\"timestamp\":830217600000,\"adjClose\":0.190959},{\"timestamp\":830304000000,\"adjClose\":0.187102},{\"timestamp\":830390400000,\"adjClose\":0.191924},{\"timestamp\":830476800000,\"adjClose\":0.190959},{\"timestamp\":830736000000,\"adjClose\":0.190959},{\"timestamp\":830822400000,\"adjClose\":0.188066},{\"timestamp\":830908800000,\"adjClose\":0.188066},{\"timestamp\":830995200000,\"adjClose\":0.183244},{\"timestamp\":831081600000,\"adjClose\":0.184208},{\"timestamp\":831340800000,\"adjClose\":0.19771},{\"timestamp\":831427200000,\"adjClose\":0.207355},{\"timestamp\":831513600000,\"adjClose\":0.20639},{\"timestamp\":831600000000,\"adjClose\":0.201568},{\"timestamp\":831686400000,\"adjClose\":0.210248},{\"timestamp\":831945600000,\"adjClose\":0.208801},{\"timestamp\":832032000000,\"adjClose\":0.212177},{\"timestamp\":832118400000,\"adjClose\":0.219893},{\"timestamp\":832204800000,\"adjClose\":0.218928},{\"timestamp\":832291200000,\"adjClose\":0.213141},{\"timestamp\":832550400000,\"adjClose\":0.215553},{\"timestamp\":832636800000,\"adjClose\":0.209284},{\"timestamp\":832723200000,\"adjClose\":0.201086},{\"timestamp\":832809600000,\"adjClose\":0.202533},{\"timestamp\":832896000000,\"adjClose\":0.20639},{\"timestamp\":833241600000,\"adjClose\":0.203497},{\"timestamp\":833328000000,\"adjClose\":0.191924},{\"timestamp\":833414400000,\"adjClose\":0.196746},{\"timestamp\":833500800000,\"adjClose\":0.201568},{\"timestamp\":833760000000,\"adjClose\":0.190959},{\"timestamp\":833846400000,\"adjClose\":0.186619},{\"timestamp\":833932800000,\"adjClose\":0.193853},{\"timestamp\":834019200000,\"adjClose\":0.187102},{\"timestamp\":834105600000,\"adjClose\":0.188066},{\"timestamp\":834364800000,\"adjClose\":0.186137},{\"timestamp\":834451200000,\"adjClose\":0.185173},{\"timestamp\":834537600000,\"adjClose\":0.187102},{\"timestamp\":834624000000,\"adjClose\":0.189995},{\"timestamp\":834710400000,\"adjClose\":0.18469},{\"timestamp\":834969600000,\"adjClose\":0.182279},{\"timestamp\":835056000000,\"adjClose\":0.175528},{\"timestamp\":835142400000,\"adjClose\":0.178422},{\"timestamp\":835228800000,\"adjClose\":0.175528},{\"timestamp\":835315200000,\"adjClose\":0.174564},{\"timestamp\":835574400000,\"adjClose\":0.171671},{\"timestamp\":835660800000,\"adjClose\":0.159133},{\"timestamp\":835747200000,\"adjClose\":0.153346},{\"timestamp\":835833600000,\"adjClose\":0.159133},{\"timestamp\":835920000000,\"adjClose\":0.162026},{\"timestamp\":836179200000,\"adjClose\":0.165884},{\"timestamp\":836265600000,\"adjClose\":0.162026},{\"timestamp\":836352000000,\"adjClose\":0.149488},{\"timestamp\":836524800000,\"adjClose\":0.150453},{\"timestamp\":836784000000,\"adjClose\":0.147559},{\"timestamp\":836870400000,\"adjClose\":0.146595},{\"timestamp\":836956800000,\"adjClose\":0.144666},{\"timestamp\":837043200000,\"adjClose\":0.137915},{\"timestamp\":837129600000,\"adjClose\":0.139362},{\"timestamp\":837388800000,\"adjClose\":0.132611},{\"timestamp\":837475200000,\"adjClose\":0.1302},{\"timestamp\":837561600000,\"adjClose\":0.1302},{\"timestamp\":837648000000,\"adjClose\":0.161062},{\"timestamp\":837734400000,\"adjClose\":0.160097},{\"timestamp\":837993600000,\"adjClose\":0.156239},{\"timestamp\":838080000000,\"adjClose\":0.158168},{\"timestamp\":838166400000,\"adjClose\":0.160579},{\"timestamp\":838252800000,\"adjClose\":0.162026},{\"timestamp\":838339200000,\"adjClose\":0.169742},{\"timestamp\":838598400000,\"adjClose\":0.171671},{\"timestamp\":838684800000,\"adjClose\":0.164919},{\"timestamp\":838771200000,\"adjClose\":0.169742},{\"timestamp\":838857600000,\"adjClose\":0.163955},{\"timestamp\":838944000000,\"adjClose\":0.166848},{\"timestamp\":839203200000,\"adjClose\":0.162026},{\"timestamp\":839289600000,\"adjClose\":0.165884},{\"timestamp\":839376000000,\"adjClose\":0.172635},{\"timestamp\":839462400000,\"adjClose\":0.170706},{\"timestamp\":839548800000,\"adjClose\":0.178422},{\"timestamp\":839808000000,\"adjClose\":0.177457},{\"timestamp\":839894400000,\"adjClose\":0.173599},{\"timestamp\":839980800000,\"adjClose\":0.175528},{\"timestamp\":840067200000,\"adjClose\":0.171671},{\"timestamp\":840153600000,\"adjClose\":0.173599},{\"timestamp\":840412800000,\"adjClose\":0.182279},{\"timestamp\":840499200000,\"adjClose\":0.181315},{\"timestamp\":840585600000,\"adjClose\":0.177457},{\"timestamp\":840672000000,\"adjClose\":0.179386},{\"timestamp\":840758400000,\"adjClose\":0.184208},{\"timestamp\":841017600000,\"adjClose\":0.186137},{\"timestamp\":841104000000,\"adjClose\":0.191803},{\"timestamp\":841190400000,\"adjClose\":0.191924},{\"timestamp\":841276800000,\"adjClose\":0.18903},{\"timestamp\":841363200000,\"adjClose\":0.187102},{\"timestamp\":841708800000,\"adjClose\":0.186137},{\"timestamp\":841795200000,\"adjClose\":0.186137},{\"timestamp\":841881600000,\"adjClose\":0.176493},{\"timestamp\":841968000000,\"adjClose\":0.177457},{\"timestamp\":842227200000,\"adjClose\":0.169742},{\"timestamp\":842313600000,\"adjClose\":0.165884},{\"timestamp\":842400000000,\"adjClose\":0.162991},{\"timestamp\":842486400000,\"adjClose\":0.157204},{\"timestamp\":842572800000,\"adjClose\":0.162026},{\"timestamp\":842832000000,\"adjClose\":0.172635},{\"timestamp\":842918400000,\"adjClose\":0.177457},{\"timestamp\":843004800000,\"adjClose\":0.181315},{\"timestamp\":843091200000,\"adjClose\":0.18035},{\"timestamp\":843177600000,\"adjClose\":0.176493},{\"timestamp\":843436800000,\"adjClose\":0.172635},{\"timestamp\":843523200000,\"adjClose\":0.173599},{\"timestamp\":843609600000,\"adjClose\":0.172635},{\"timestamp\":843696000000,\"adjClose\":0.172635},{\"timestamp\":843782400000,\"adjClose\":0.172153},{\"timestamp\":844041600000,\"adjClose\":0.171188},{\"timestamp\":844128000000,\"adjClose\":0.189995},{\"timestamp\":844214400000,\"adjClose\":0.182279},{\"timestamp\":844300800000,\"adjClose\":0.172635},{\"timestamp\":844387200000,\"adjClose\":0.17601},{\"timestamp\":844646400000,\"adjClose\":0.178422},{\"timestamp\":844732800000,\"adjClose\":0.179386},{\"timestamp\":844819200000,\"adjClose\":0.177457},{\"timestamp\":844905600000,\"adjClose\":0.186619},{\"timestamp\":844992000000,\"adjClose\":0.187102},{\"timestamp\":845251200000,\"adjClose\":0.194817},{\"timestamp\":845337600000,\"adjClose\":0.194817},{\"timestamp\":845424000000,\"adjClose\":0.198675},{\"timestamp\":845510400000,\"adjClose\":0.203497},{\"timestamp\":845596800000,\"adjClose\":0.204944},{\"timestamp\":845856000000,\"adjClose\":0.19771},{\"timestamp\":845942400000,\"adjClose\":0.191924},{\"timestamp\":846028800000,\"adjClose\":0.190959},{\"timestamp\":846115200000,\"adjClose\":0.190959},{\"timestamp\":846201600000,\"adjClose\":0.18903},{\"timestamp\":846460800000,\"adjClose\":0.18903},{\"timestamp\":846547200000,\"adjClose\":0.179386},{\"timestamp\":846633600000,\"adjClose\":0.176493},{\"timestamp\":846720000000,\"adjClose\":0.177457},{\"timestamp\":846806400000,\"adjClose\":0.187102},{\"timestamp\":847065600000,\"adjClose\":0.188066},{\"timestamp\":847152000000,\"adjClose\":0.196746},{\"timestamp\":847238400000,\"adjClose\":0.196746},{\"timestamp\":847324800000,\"adjClose\":0.199639},{\"timestamp\":847411200000,\"adjClose\":0.202533},{\"timestamp\":847670400000,\"adjClose\":0.200604},{\"timestamp\":847756800000,\"adjClose\":0.194817},{\"timestamp\":847843200000,\"adjClose\":0.197228},{\"timestamp\":847929600000,\"adjClose\":0.19771},{\"timestamp\":848016000000,\"adjClose\":0.192888},{\"timestamp\":848275200000,\"adjClose\":0.190959},{\"timestamp\":848361600000,\"adjClose\":0.191924},{\"timestamp\":848448000000,\"adjClose\":0.192888},{\"timestamp\":848534400000,\"adjClose\":0.18903},{\"timestamp\":848620800000,\"adjClose\":0.194817},{\"timestamp\":848880000000,\"adjClose\":0.192888},{\"timestamp\":848966400000,\"adjClose\":0.187102},{\"timestamp\":849052800000,\"adjClose\":0.18903},{\"timestamp\":849225600000,\"adjClose\":0.186137},{\"timestamp\":849484800000,\"adjClose\":0.193853},{\"timestamp\":849571200000,\"adjClose\":0.193853},{\"timestamp\":849657600000,\"adjClose\":0.192888},{\"timestamp\":849744000000,\"adjClose\":0.192888},{\"timestamp\":849830400000,\"adjClose\":0.193853},{\"timestamp\":850089600000,\"adjClose\":0.192888},{\"timestamp\":850176000000,\"adjClose\":0.18903},{\"timestamp\":850262400000,\"adjClose\":0.185173},{\"timestamp\":850348800000,\"adjClose\":0.184208},{\"timestamp\":850435200000,\"adjClose\":0.179386},{\"timestamp\":850694400000,\"adjClose\":0.174564},{\"timestamp\":850780800000,\"adjClose\":0.173599},{\"timestamp\":850867200000,\"adjClose\":0.178422},{\"timestamp\":850953600000,\"adjClose\":0.171671},{\"timestamp\":851040000000,\"adjClose\":0.181315},{\"timestamp\":851299200000,\"adjClose\":0.179386},{\"timestamp\":851385600000,\"adjClose\":0.178422},{\"timestamp\":851558400000,\"adjClose\":0.177457},{\"timestamp\":851644800000,\"adjClose\":0.178422},{\"timestamp\":851904000000,\"adjClose\":0.167813},{\"timestamp\":851990400000,\"adjClose\":0.161062},{\"timestamp\":852163200000,\"adjClose\":0.162026},{\"timestamp\":852249600000,\"adjClose\":0.167813},{\"timestamp\":852508800000,\"adjClose\":0.137915},{\"timestamp\":852595200000,\"adjClose\":0.135022},{\"timestamp\":852681600000,\"adjClose\":0.135986},{\"timestamp\":852768000000,\"adjClose\":0.136951},{\"timestamp\":852854400000,\"adjClose\":0.140808},{\"timestamp\":853113600000,\"adjClose\":0.139844},{\"timestamp\":853200000000,\"adjClose\":0.137915},{\"timestamp\":853286400000,\"adjClose\":0.133093},{\"timestamp\":853372800000,\"adjClose\":0.129235},{\"timestamp\":853459200000,\"adjClose\":0.129235},{\"timestamp\":853718400000,\"adjClose\":0.130682},{\"timestamp\":853804800000,\"adjClose\":0.133093},{\"timestamp\":853891200000,\"adjClose\":0.132611},{\"timestamp\":853977600000,\"adjClose\":0.133093},{\"timestamp\":854064000000,\"adjClose\":0.1302},{\"timestamp\":854323200000,\"adjClose\":0.128271},{\"timestamp\":854409600000,\"adjClose\":0.128271},{\"timestamp\":854496000000,\"adjClose\":0.128271},{\"timestamp\":854582400000,\"adjClose\":0.129235},{\"timestamp\":854668800000,\"adjClose\":0.128271},{\"timestamp\":854928000000,\"adjClose\":0.12586},{\"timestamp\":855014400000,\"adjClose\":0.118626},{\"timestamp\":855100800000,\"adjClose\":0.117662},{\"timestamp\":855187200000,\"adjClose\":0.123448},{\"timestamp\":855273600000,\"adjClose\":0.122002},{\"timestamp\":855532800000,\"adjClose\":0.120555},{\"timestamp\":855619200000,\"adjClose\":0.121037},{\"timestamp\":855705600000,\"adjClose\":0.12152},{\"timestamp\":855792000000,\"adjClose\":0.124413},{\"timestamp\":855878400000,\"adjClose\":0.12586},{\"timestamp\":856224000000,\"adjClose\":0.137915},{\"timestamp\":856310400000,\"adjClose\":0.135986},{\"timestamp\":856396800000,\"adjClose\":0.131164},{\"timestamp\":856483200000,\"adjClose\":0.126342},{\"timestamp\":856742400000,\"adjClose\":0.128271},{\"timestamp\":856828800000,\"adjClose\":0.1302},{\"timestamp\":856915200000,\"adjClose\":0.132128},{\"timestamp\":857001600000,\"adjClose\":0.131164},{\"timestamp\":857088000000,\"adjClose\":0.125377},{\"timestamp\":857347200000,\"adjClose\":0.124413},{\"timestamp\":857433600000,\"adjClose\":0.127306},{\"timestamp\":857520000000,\"adjClose\":0.131164},{\"timestamp\":857606400000,\"adjClose\":0.128271},{\"timestamp\":857692800000,\"adjClose\":0.127306},{\"timestamp\":857952000000,\"adjClose\":0.128271},{\"timestamp\":858038400000,\"adjClose\":0.126342},{\"timestamp\":858124800000,\"adjClose\":0.125377},{\"timestamp\":858211200000,\"adjClose\":0.126342},{\"timestamp\":858297600000,\"adjClose\":0.127788},{\"timestamp\":858556800000,\"adjClose\":0.127306},{\"timestamp\":858643200000,\"adjClose\":0.125377},{\"timestamp\":858729600000,\"adjClose\":0.124413},{\"timestamp\":858816000000,\"adjClose\":0.133093},{\"timestamp\":858902400000,\"adjClose\":0.128271},{\"timestamp\":859161600000,\"adjClose\":0.127306},{\"timestamp\":859248000000,\"adjClose\":0.127306},{\"timestamp\":859334400000,\"adjClose\":0.129235},{\"timestamp\":859420800000,\"adjClose\":0.143702},{\"timestamp\":859766400000,\"adjClose\":0.140808},{\"timestamp\":859852800000,\"adjClose\":0.135022},{\"timestamp\":859939200000,\"adjClose\":0.13888},{\"timestamp\":860025600000,\"adjClose\":0.145631},{\"timestamp\":860112000000,\"adjClose\":0.148524},{\"timestamp\":860371200000,\"adjClose\":0.150453},{\"timestamp\":860457600000,\"adjClose\":0.147559},{\"timestamp\":860544000000,\"adjClose\":0.146595},{\"timestamp\":860630400000,\"adjClose\":0.145631},{\"timestamp\":860716800000,\"adjClose\":0.140808},{\"timestamp\":860976000000,\"adjClose\":0.144666},{\"timestamp\":861062400000,\"adjClose\":0.142255},{\"timestamp\":861148800000,\"adjClose\":0.143219},{\"timestamp\":861235200000,\"adjClose\":0.146595},{\"timestamp\":861321600000,\"adjClose\":0.141773},{\"timestamp\":861580800000,\"adjClose\":0.13888},{\"timestamp\":861667200000,\"adjClose\":0.142737},{\"timestamp\":861753600000,\"adjClose\":0.139844},{\"timestamp\":861840000000,\"adjClose\":0.137915},{\"timestamp\":861926400000,\"adjClose\":0.135022},{\"timestamp\":862185600000,\"adjClose\":0.135986},{\"timestamp\":862272000000,\"adjClose\":0.136468},{\"timestamp\":862358400000,\"adjClose\":0.131164},{\"timestamp\":862444800000,\"adjClose\":0.131164},{\"timestamp\":862531200000,\"adjClose\":0.131164},{\"timestamp\":862790400000,\"adjClose\":0.131164},{\"timestamp\":862876800000,\"adjClose\":0.1302},{\"timestamp\":862963200000,\"adjClose\":0.127306},{\"timestamp\":863049600000,\"adjClose\":0.131164},{\"timestamp\":863136000000,\"adjClose\":0.131646},{\"timestamp\":863395200000,\"adjClose\":0.135504},{\"timestamp\":863481600000,\"adjClose\":0.135504},{\"timestamp\":863568000000,\"adjClose\":0.136468},{\"timestamp\":863654400000,\"adjClose\":0.136951},{\"timestamp\":863740800000,\"adjClose\":0.133093},{\"timestamp\":864000000000,\"adjClose\":0.131164},{\"timestamp\":864086400000,\"adjClose\":0.133093},{\"timestamp\":864172800000,\"adjClose\":0.1302},{\"timestamp\":864259200000,\"adjClose\":0.128271},{\"timestamp\":864345600000,\"adjClose\":0.1302},{\"timestamp\":864691200000,\"adjClose\":0.133093},{\"timestamp\":864777600000,\"adjClose\":0.131164},{\"timestamp\":864864000000,\"adjClose\":0.128271},{\"timestamp\":864950400000,\"adjClose\":0.128271},{\"timestamp\":865209600000,\"adjClose\":0.130682},{\"timestamp\":865296000000,\"adjClose\":0.128753},{\"timestamp\":865382400000,\"adjClose\":0.128271},{\"timestamp\":865468800000,\"adjClose\":0.128753},{\"timestamp\":865555200000,\"adjClose\":0.129235},{\"timestamp\":865814400000,\"adjClose\":0.128271},{\"timestamp\":865900800000,\"adjClose\":0.125377},{\"timestamp\":865987200000,\"adjClose\":0.12586},{\"timestamp\":866073600000,\"adjClose\":0.123931},{\"timestamp\":866160000000,\"adjClose\":0.122002},{\"timestamp\":866419200000,\"adjClose\":0.119591},{\"timestamp\":866505600000,\"adjClose\":0.126101},{\"timestamp\":866592000000,\"adjClose\":0.122966},{\"timestamp\":866678400000,\"adjClose\":0.12152},{\"timestamp\":866764800000,\"adjClose\":0.120073},{\"timestamp\":867024000000,\"adjClose\":0.118626},{\"timestamp\":867110400000,\"adjClose\":0.118144},{\"timestamp\":867196800000,\"adjClose\":0.116697},{\"timestamp\":867283200000,\"adjClose\":0.113322},{\"timestamp\":867369600000,\"adjClose\":0.113322},{\"timestamp\":867628800000,\"adjClose\":0.109946},{\"timestamp\":867715200000,\"adjClose\":0.101749},{\"timestamp\":867801600000,\"adjClose\":0.100784},{\"timestamp\":867888000000,\"adjClose\":0.105606},{\"timestamp\":868233600000,\"adjClose\":0.106571},{\"timestamp\":868320000000,\"adjClose\":0.106089},{\"timestamp\":868406400000,\"adjClose\":0.105606},{\"timestamp\":868492800000,\"adjClose\":0.102231},{\"timestamp\":868579200000,\"adjClose\":0.11718},{\"timestamp\":868838400000,\"adjClose\":0.120555},{\"timestamp\":868924800000,\"adjClose\":0.122966},{\"timestamp\":869011200000,\"adjClose\":0.126824},{\"timestamp\":869097600000,\"adjClose\":0.135022},{\"timestamp\":869184000000,\"adjClose\":0.133816},{\"timestamp\":869443200000,\"adjClose\":0.124654},{\"timestamp\":869529600000,\"adjClose\":0.127788},{\"timestamp\":869616000000,\"adjClose\":0.124413},{\"timestamp\":869702400000,\"adjClose\":0.122002},{\"timestamp\":869788800000,\"adjClose\":0.125377},{\"timestamp\":870048000000,\"adjClose\":0.126824},{\"timestamp\":870134400000,\"adjClose\":0.127306},{\"timestamp\":870220800000,\"adjClose\":0.134057},{\"timestamp\":870307200000,\"adjClose\":0.135022},{\"timestamp\":870393600000,\"adjClose\":0.148042},{\"timestamp\":870652800000,\"adjClose\":0.152382},{\"timestamp\":870739200000,\"adjClose\":0.152382},{\"timestamp\":870825600000,\"adjClose\":0.203015},{\"timestamp\":870912000000,\"adjClose\":0.225197},{\"timestamp\":870998400000,\"adjClose\":0.206873},{\"timestamp\":871257600000,\"adjClose\":0.189513},{\"timestamp\":871344000000,\"adjClose\":0.170224},{\"timestamp\":871430400000,\"adjClose\":0.182279},{\"timestamp\":871516800000,\"adjClose\":0.177457},{\"timestamp\":871603200000,\"adjClose\":0.179386},{\"timestamp\":871862400000,\"adjClose\":0.182279},{\"timestamp\":871948800000,\"adjClose\":0.188548},{\"timestamp\":872035200000,\"adjClose\":0.189995},{\"timestamp\":872121600000,\"adjClose\":0.185173},{\"timestamp\":872208000000,\"adjClose\":0.182279},{\"timestamp\":872467200000,\"adjClose\":0.177939},{\"timestamp\":872553600000,\"adjClose\":0.171671},{\"timestamp\":872640000000,\"adjClose\":0.175046},{\"timestamp\":872726400000,\"adjClose\":0.169742},{\"timestamp\":872812800000,\"adjClose\":0.167813},{\"timestamp\":873158400000,\"adjClose\":0.172635},{\"timestamp\":873244800000,\"adjClose\":0.173599},{\"timestamp\":873331200000,\"adjClose\":0.173599},{\"timestamp\":873417600000,\"adjClose\":0.171188},{\"timestamp\":873676800000,\"adjClose\":0.165884},{\"timestamp\":873763200000,\"adjClose\":0.168295},{\"timestamp\":873849600000,\"adjClose\":0.176975},{\"timestamp\":873936000000,\"adjClose\":0.172635},{\"timestamp\":874022400000,\"adjClose\":0.170224},{\"timestamp\":874281600000,\"adjClose\":0.165884},{\"timestamp\":874368000000,\"adjClose\":0.169259},{\"timestamp\":874454400000,\"adjClose\":0.168295},{\"timestamp\":874540800000,\"adjClose\":0.172153},{\"timestamp\":874627200000,\"adjClose\":0.169259},{\"timestamp\":874886400000,\"adjClose\":0.17601},{\"timestamp\":874972800000,\"adjClose\":0.167813},{\"timestamp\":875059200000,\"adjClose\":0.165884},{\"timestamp\":875145600000,\"adjClose\":0.162991},{\"timestamp\":875232000000,\"adjClose\":0.164437},{\"timestamp\":875491200000,\"adjClose\":0.170224},{\"timestamp\":875577600000,\"adjClose\":0.167331},{\"timestamp\":875664000000,\"adjClose\":0.166125},{\"timestamp\":875750400000,\"adjClose\":0.169259},{\"timestamp\":875836800000,\"adjClose\":0.170706},{\"timestamp\":876096000000,\"adjClose\":0.169259},{\"timestamp\":876182400000,\"adjClose\":0.168295},{\"timestamp\":876268800000,\"adjClose\":0.165884},{\"timestamp\":876355200000,\"adjClose\":0.167813},{\"timestamp\":876441600000,\"adjClose\":0.175046},{\"timestamp\":876700800000,\"adjClose\":0.175046},{\"timestamp\":876787200000,\"adjClose\":0.175046},{\"timestamp\":876873600000,\"adjClose\":0.183726},{\"timestamp\":876960000000,\"adjClose\":0.165884},{\"timestamp\":877046400000,\"adjClose\":0.155275},{\"timestamp\":877305600000,\"adjClose\":0.144184},{\"timestamp\":877392000000,\"adjClose\":0.147077},{\"timestamp\":877478400000,\"adjClose\":0.143219},{\"timestamp\":877564800000,\"adjClose\":0.136951},{\"timestamp\":877651200000,\"adjClose\":0.127788},{\"timestamp\":877910400000,\"adjClose\":0.129235},{\"timestamp\":877996800000,\"adjClose\":0.139844},{\"timestamp\":878083200000,\"adjClose\":0.135022},{\"timestamp\":878169600000,\"adjClose\":0.127306},{\"timestamp\":878256000000,\"adjClose\":0.131405},{\"timestamp\":878515200000,\"adjClose\":0.134057},{\"timestamp\":878601600000,\"adjClose\":0.138397},{\"timestamp\":878688000000,\"adjClose\":0.141773},{\"timestamp\":878774400000,\"adjClose\":0.146595},{\"timestamp\":878860800000,\"adjClose\":0.152382},{\"timestamp\":879120000000,\"adjClose\":0.144184},{\"timestamp\":879206400000,\"adjClose\":0.141773},{\"timestamp\":879292800000,\"adjClose\":0.135986},{\"timestamp\":879379200000,\"adjClose\":0.13888},{\"timestamp\":879465600000,\"adjClose\":0.142255},{\"timestamp\":879724800000,\"adjClose\":0.142737},{\"timestamp\":879811200000,\"adjClose\":0.139362},{\"timestamp\":879897600000,\"adjClose\":0.140808},{\"timestamp\":879984000000,\"adjClose\":0.142737},{\"timestamp\":880070400000,\"adjClose\":0.140326},{\"timestamp\":880329600000,\"adjClose\":0.135986},{\"timestamp\":880416000000,\"adjClose\":0.134057},{\"timestamp\":880502400000,\"adjClose\":0.135022},{\"timestamp\":880675200000,\"adjClose\":0.136951},{\"timestamp\":880934400000,\"adjClose\":0.136951},{\"timestamp\":881020800000,\"adjClose\":0.122484},{\"timestamp\":881107200000,\"adjClose\":0.12152},{\"timestamp\":881193600000,\"adjClose\":0.120555},{\"timestamp\":881280000000,\"adjClose\":0.122002},{\"timestamp\":881539200000,\"adjClose\":0.120073},{\"timestamp\":881625600000,\"adjClose\":0.117662},{\"timestamp\":881712000000,\"adjClose\":0.113804},{\"timestamp\":881798400000,\"adjClose\":0.112357},{\"timestamp\":881884800000,\"adjClose\":0.108982},{\"timestamp\":882144000000,\"adjClose\":0.107535},{\"timestamp\":882230400000,\"adjClose\":0.110428},{\"timestamp\":882316800000,\"adjClose\":0.107535},{\"timestamp\":882403200000,\"adjClose\":0.106571},{\"timestamp\":882489600000,\"adjClose\":0.105606},{\"timestamp\":882748800000,\"adjClose\":0.102713},{\"timestamp\":882835200000,\"adjClose\":0.09982},{\"timestamp\":882921600000,\"adjClose\":0.101266},{\"timestamp\":883094400000,\"adjClose\":0.102713},{\"timestamp\":883353600000,\"adjClose\":0.101266},{\"timestamp\":883440000000,\"adjClose\":0.101749},{\"timestamp\":883526400000,\"adjClose\":0.101266},{\"timestamp\":883699200000,\"adjClose\":0.125377},{\"timestamp\":883958400000,\"adjClose\":0.122484},{\"timestamp\":884044800000,\"adjClose\":0.146113},{\"timestamp\":884131200000,\"adjClose\":0.135022},{\"timestamp\":884217600000,\"adjClose\":0.140326},{\"timestamp\":884304000000,\"adjClose\":0.140326},{\"timestamp\":884563200000,\"adjClose\":0.140808},{\"timestamp\":884649600000,\"adjClose\":0.150453},{\"timestamp\":884736000000,\"adjClose\":0.152382},{\"timestamp\":884822400000,\"adjClose\":0.148042},{\"timestamp\":884908800000,\"adjClose\":0.145148},{\"timestamp\":885254400000,\"adjClose\":0.147077},{\"timestamp\":885340800000,\"adjClose\":0.145872},{\"timestamp\":885427200000,\"adjClose\":0.148524},{\"timestamp\":885513600000,\"adjClose\":0.150453},{\"timestamp\":885772800000,\"adjClose\":0.149971},{\"timestamp\":885859200000,\"adjClose\":0.147559},{\"timestamp\":885945600000,\"adjClose\":0.148042},{\"timestamp\":886032000000,\"adjClose\":0.142737},{\"timestamp\":886118400000,\"adjClose\":0.141291},{\"timestamp\":886377600000,\"adjClose\":0.136468},{\"timestamp\":886464000000,\"adjClose\":0.141291},{\"timestamp\":886550400000,\"adjClose\":0.140808},{\"timestamp\":886636800000,\"adjClose\":0.141291},{\"timestamp\":886723200000,\"adjClose\":0.142737},{\"timestamp\":886982400000,\"adjClose\":0.148042},{\"timestamp\":887068800000,\"adjClose\":0.149971},{\"timestamp\":887155200000,\"adjClose\":0.146595},{\"timestamp\":887241600000,\"adjClose\":0.149488},{\"timestamp\":887328000000,\"adjClose\":0.150453},{\"timestamp\":887673600000,\"adjClose\":0.151417},{\"timestamp\":887760000000,\"adjClose\":0.158651},{\"timestamp\":887846400000,\"adjClose\":0.157686},{\"timestamp\":887932800000,\"adjClose\":0.154311},{\"timestamp\":888192000000,\"adjClose\":0.163955},{\"timestamp\":888278400000,\"adjClose\":0.164437},{\"timestamp\":888364800000,\"adjClose\":0.172153},{\"timestamp\":888451200000,\"adjClose\":0.181315},{\"timestamp\":888537600000,\"adjClose\":0.182279},{\"timestamp\":888796800000,\"adjClose\":0.175528},{\"timestamp\":888883200000,\"adjClose\":0.178422},{\"timestamp\":888969600000,\"adjClose\":0.188548},{\"timestamp\":889056000000,\"adjClose\":0.185655},{\"timestamp\":889142400000,\"adjClose\":0.188548},{\"timestamp\":889401600000,\"adjClose\":0.175528},{\"timestamp\":889488000000,\"adjClose\":0.185655},{\"timestamp\":889574400000,\"adjClose\":0.201568},{\"timestamp\":889660800000,\"adjClose\":0.208319},{\"timestamp\":889747200000,\"adjClose\":0.209284},{\"timestamp\":890006400000,\"adjClose\":0.205908},{\"timestamp\":890092800000,\"adjClose\":0.203256},{\"timestamp\":890179200000,\"adjClose\":0.207837},{\"timestamp\":890265600000,\"adjClose\":0.20639},{\"timestamp\":890352000000,\"adjClose\":0.203497},{\"timestamp\":890611200000,\"adjClose\":0.201568},{\"timestamp\":890697600000,\"adjClose\":0.216035},{\"timestamp\":890784000000,\"adjClose\":0.209525},{\"timestamp\":890870400000,\"adjClose\":0.204944},{\"timestamp\":890956800000,\"adjClose\":0.207837},{\"timestamp\":891216000000,\"adjClose\":0.211695},{\"timestamp\":891302400000,\"adjClose\":0.212177},{\"timestamp\":891388800000,\"adjClose\":0.212177},{\"timestamp\":891475200000,\"adjClose\":0.21073},{\"timestamp\":891561600000,\"adjClose\":0.208801},{\"timestamp\":891820800000,\"adjClose\":0.202533},{\"timestamp\":891907200000,\"adjClose\":0.196746},{\"timestamp\":891993600000,\"adjClose\":0.192888},{\"timestamp\":892080000000,\"adjClose\":0.19771},{\"timestamp\":892425600000,\"adjClose\":0.203979},{\"timestamp\":892512000000,\"adjClose\":0.207837},{\"timestamp\":892598400000,\"adjClose\":0.211695},{\"timestamp\":892684800000,\"adjClose\":0.220857},{\"timestamp\":892771200000,\"adjClose\":0.215553},{\"timestamp\":893030400000,\"adjClose\":0.22375},{\"timestamp\":893116800000,\"adjClose\":0.22375},{\"timestamp\":893203200000,\"adjClose\":0.212177},{\"timestamp\":893289600000,\"adjClose\":0.213624},{\"timestamp\":893376000000,\"adjClose\":0.215553},{\"timestamp\":893635200000,\"adjClose\":0.214106},{\"timestamp\":893721600000,\"adjClose\":0.207837},{\"timestamp\":893808000000,\"adjClose\":0.208319},{\"timestamp\":893894400000,\"adjClose\":0.211213},{\"timestamp\":893980800000,\"adjClose\":0.216035},{\"timestamp\":894240000000,\"adjClose\":0.224233},{\"timestamp\":894326400000,\"adjClose\":0.229055},{\"timestamp\":894412800000,\"adjClose\":0.233877},{\"timestamp\":894499200000,\"adjClose\":0.232912},{\"timestamp\":894585600000,\"adjClose\":0.234841},{\"timestamp\":894844800000,\"adjClose\":0.238699},{\"timestamp\":894931200000,\"adjClose\":0.23243},{\"timestamp\":895017600000,\"adjClose\":0.234841},{\"timestamp\":895104000000,\"adjClose\":0.231948},{\"timestamp\":895190400000,\"adjClose\":0.22809},{\"timestamp\":895449600000,\"adjClose\":0.219893},{\"timestamp\":895536000000,\"adjClose\":0.226644},{\"timestamp\":895622400000,\"adjClose\":0.22809},{\"timestamp\":895708800000,\"adjClose\":0.222786},{\"timestamp\":895795200000,\"adjClose\":0.21507},{\"timestamp\":896140800000,\"adjClose\":0.205908},{\"timestamp\":896227200000,\"adjClose\":0.20639},{\"timestamp\":896313600000,\"adjClose\":0.211695},{\"timestamp\":896400000000,\"adjClose\":0.205426},{\"timestamp\":896659200000,\"adjClose\":0.202533},{\"timestamp\":896745600000,\"adjClose\":0.207355},{\"timestamp\":896832000000,\"adjClose\":0.203015},{\"timestamp\":896918400000,\"adjClose\":0.206873},{\"timestamp\":897004800000,\"adjClose\":0.207355},{\"timestamp\":897264000000,\"adjClose\":0.210248},{\"timestamp\":897350400000,\"adjClose\":0.217964},{\"timestamp\":897436800000,\"adjClose\":0.216517},{\"timestamp\":897523200000,\"adjClose\":0.214588},{\"timestamp\":897609600000,\"adjClose\":0.216999},{\"timestamp\":897868800000,\"adjClose\":0.212177},{\"timestamp\":897955200000,\"adjClose\":0.216035},{\"timestamp\":898041600000,\"adjClose\":0.216999},{\"timestamp\":898128000000,\"adjClose\":0.21073},{\"timestamp\":898214400000,\"adjClose\":0.208801},{\"timestamp\":898473600000,\"adjClose\":0.211213},{\"timestamp\":898560000000,\"adjClose\":0.214588},{\"timestamp\":898646400000,\"adjClose\":0.217964},{\"timestamp\":898732800000,\"adjClose\":0.220375},{\"timestamp\":898819200000,\"adjClose\":0.217481},{\"timestamp\":899078400000,\"adjClose\":0.221339},{\"timestamp\":899164800000,\"adjClose\":0.221339},{\"timestamp\":899251200000,\"adjClose\":0.230984},{\"timestamp\":899337600000,\"adjClose\":0.22375},{\"timestamp\":899683200000,\"adjClose\":0.234359},{\"timestamp\":899769600000,\"adjClose\":0.235324},{\"timestamp\":899856000000,\"adjClose\":0.251237},{\"timestamp\":899942400000,\"adjClose\":0.244486},{\"timestamp\":900028800000,\"adjClose\":0.247379},{\"timestamp\":900288000000,\"adjClose\":0.261846},{\"timestamp\":900374400000,\"adjClose\":0.257988},{\"timestamp\":900460800000,\"adjClose\":0.265703},{\"timestamp\":900547200000,\"adjClose\":0.289332},{\"timestamp\":900633600000,\"adjClose\":0.28451},{\"timestamp\":900892800000,\"adjClose\":0.279688},{\"timestamp\":900979200000,\"adjClose\":0.274866},{\"timestamp\":901065600000,\"adjClose\":0.270044},{\"timestamp\":901152000000,\"adjClose\":0.269561},{\"timestamp\":901238400000,\"adjClose\":0.267632},{\"timestamp\":901497600000,\"adjClose\":0.265703},{\"timestamp\":901584000000,\"adjClose\":0.259435},{\"timestamp\":901670400000,\"adjClose\":0.271008},{\"timestamp\":901756800000,\"adjClose\":0.281617},{\"timestamp\":901843200000,\"adjClose\":0.26715},{\"timestamp\":902102400000,\"adjClose\":0.271008},{\"timestamp\":902188800000,\"adjClose\":0.263775},{\"timestamp\":902275200000,\"adjClose\":0.277759},{\"timestamp\":902361600000,\"adjClose\":0.28451},{\"timestamp\":902448000000,\"adjClose\":0.281617},{\"timestamp\":902707200000,\"adjClose\":0.292708},{\"timestamp\":902793600000,\"adjClose\":0.300906},{\"timestamp\":902880000000,\"adjClose\":0.309103},{\"timestamp\":902966400000,\"adjClose\":0.304281},{\"timestamp\":903052800000,\"adjClose\":0.312479},{\"timestamp\":903312000000,\"adjClose\":0.32357},{\"timestamp\":903398400000,\"adjClose\":0.328392},{\"timestamp\":903484800000,\"adjClose\":0.316337},{\"timestamp\":903571200000,\"adjClose\":0.313443},{\"timestamp\":903657600000,\"adjClose\":0.331768},{\"timestamp\":903916800000,\"adjClose\":0.317783},{\"timestamp\":904003200000,\"adjClose\":0.31489},{\"timestamp\":904089600000,\"adjClose\":0.311515},{\"timestamp\":904176000000,\"adjClose\":0.289332},{\"timestamp\":904262400000,\"adjClose\":0.263775},{\"timestamp\":904521600000,\"adjClose\":0.240628},{\"timestamp\":904608000000,\"adjClose\":0.263292},{\"timestamp\":904694400000,\"adjClose\":0.274384},{\"timestamp\":904780800000,\"adjClose\":0.26715},{\"timestamp\":904867200000,\"adjClose\":0.271008},{\"timestamp\":905212800000,\"adjClose\":0.295119},{\"timestamp\":905299200000,\"adjClose\":0.288368},{\"timestamp\":905385600000,\"adjClose\":0.294154},{\"timestamp\":905472000000,\"adjClose\":0.290297},{\"timestamp\":905731200000,\"adjClose\":0.286921},{\"timestamp\":905817600000,\"adjClose\":0.294637},{\"timestamp\":905904000000,\"adjClose\":0.287886},{\"timestamp\":905990400000,\"adjClose\":0.277759},{\"timestamp\":906076800000,\"adjClose\":0.283546},{\"timestamp\":906336000000,\"adjClose\":0.284992},{\"timestamp\":906422400000,\"adjClose\":0.285475},{\"timestamp\":906508800000,\"adjClose\":0.295601},{\"timestamp\":906595200000,\"adjClose\":0.297048},{\"timestamp\":906681600000,\"adjClose\":0.298977},{\"timestamp\":906940800000,\"adjClose\":0.301388},{\"timestamp\":907027200000,\"adjClose\":0.304763},{\"timestamp\":907113600000,\"adjClose\":0.294154},{\"timestamp\":907200000000,\"adjClose\":0.275348},{\"timestamp\":907286400000,\"adjClose\":0.270526},{\"timestamp\":907545600000,\"adjClose\":0.248344},{\"timestamp\":907632000000,\"adjClose\":0.251237},{\"timestamp\":907718400000,\"adjClose\":0.246415},{\"timestamp\":907804800000,\"adjClose\":0.237735},{\"timestamp\":907891200000,\"adjClose\":0.271008},{\"timestamp\":908150400000,\"adjClose\":0.28885},{\"timestamp\":908236800000,\"adjClose\":0.298977},{\"timestamp\":908323200000,\"adjClose\":0.288368},{\"timestamp\":908409600000,\"adjClose\":0.282581},{\"timestamp\":908496000000,\"adjClose\":0.283063},{\"timestamp\":908755200000,\"adjClose\":0.289332},{\"timestamp\":908841600000,\"adjClose\":0.278241},{\"timestamp\":908928000000,\"adjClose\":0.286439},{\"timestamp\":909014400000,\"adjClose\":0.283546},{\"timestamp\":909100800000,\"adjClose\":0.273901},{\"timestamp\":909360000000,\"adjClose\":0.28885},{\"timestamp\":909446400000,\"adjClose\":0.271972},{\"timestamp\":909532800000,\"adjClose\":0.284028},{\"timestamp\":909619200000,\"adjClose\":0.281135},{\"timestamp\":909705600000,\"adjClose\":0.286439},{\"timestamp\":909964800000,\"adjClose\":0.290297},{\"timestamp\":910051200000,\"adjClose\":0.291743},{\"timestamp\":910137600000,\"adjClose\":0.298495},{\"timestamp\":910224000000,\"adjClose\":0.294637},{\"timestamp\":910310400000,\"adjClose\":0.293672},{\"timestamp\":910569600000,\"adjClose\":0.282581},{\"timestamp\":910656000000,\"adjClose\":0.271008},{\"timestamp\":910742400000,\"adjClose\":0.258952},{\"timestamp\":910828800000,\"adjClose\":0.262328},{\"timestamp\":910915200000,\"adjClose\":0.275348},{\"timestamp\":911174400000,\"adjClose\":0.277759},{\"timestamp\":911260800000,\"adjClose\":0.268597},{\"timestamp\":911347200000,\"adjClose\":0.273419},{\"timestamp\":911433600000,\"adjClose\":0.27583},{\"timestamp\":911520000000,\"adjClose\":0.272455},{\"timestamp\":911779200000,\"adjClose\":0.279688},{\"timestamp\":911865600000,\"adjClose\":0.277277},{\"timestamp\":911952000000,\"adjClose\":0.271008},{\"timestamp\":912124800000,\"adjClose\":0.270526},{\"timestamp\":912384000000,\"adjClose\":0.246415},{\"timestamp\":912470400000,\"adjClose\":0.263292},{\"timestamp\":912556800000,\"adjClose\":0.277759},{\"timestamp\":912643200000,\"adjClose\":0.259917},{\"timestamp\":912729600000,\"adjClose\":0.252684},{\"timestamp\":912988800000,\"adjClose\":0.260399},{\"timestamp\":913075200000,\"adjClose\":0.247379},{\"timestamp\":913161600000,\"adjClose\":0.246897},{\"timestamp\":913248000000,\"adjClose\":0.246897},{\"timestamp\":913334400000,\"adjClose\":0.260399},{\"timestamp\":913593600000,\"adjClose\":0.250755},{\"timestamp\":913680000000,\"adjClose\":0.258952},{\"timestamp\":913766400000,\"adjClose\":0.253166},{\"timestamp\":913852800000,\"adjClose\":0.257988},{\"timestamp\":913939200000,\"adjClose\":0.27149},{\"timestamp\":914198400000,\"adjClose\":0.270526},{\"timestamp\":914284800000,\"adjClose\":0.29319},{\"timestamp\":914371200000,\"adjClose\":0.307174},{\"timestamp\":914457600000,\"adjClose\":0.302834},{\"timestamp\":914803200000,\"adjClose\":0.315372},{\"timestamp\":914889600000,\"adjClose\":0.31489},{\"timestamp\":914976000000,\"adjClose\":0.309103},{\"timestamp\":915062400000,\"adjClose\":0.315854},{\"timestamp\":915408000000,\"adjClose\":0.318266},{\"timestamp\":915494400000,\"adjClose\":0.334179},{\"timestamp\":915580800000,\"adjClose\":0.322123},{\"timestamp\":915667200000,\"adjClose\":0.347199},{\"timestamp\":915753600000,\"adjClose\":0.347199},{\"timestamp\":916012800000,\"adjClose\":0.35395},{\"timestamp\":916099200000,\"adjClose\":0.355879},{\"timestamp\":916185600000,\"adjClose\":0.358772},{\"timestamp\":916272000000,\"adjClose\":0.31923},{\"timestamp\":916358400000,\"adjClose\":0.318748},{\"timestamp\":916704000000,\"adjClose\":0.315372},{\"timestamp\":916790400000,\"adjClose\":0.312961},{\"timestamp\":916876800000,\"adjClose\":0.299459},{\"timestamp\":916963200000,\"adjClose\":0.298977},{\"timestamp\":917222400000,\"adjClose\":0.303799},{\"timestamp\":917308800000,\"adjClose\":0.312479},{\"timestamp\":917395200000,\"adjClose\":0.309586},{\"timestamp\":917481600000,\"adjClose\":0.315372},{\"timestamp\":917568000000,\"adjClose\":0.317783},{\"timestamp\":917827200000,\"adjClose\":0.315854},{\"timestamp\":917913600000,\"adjClose\":0.302352},{\"timestamp\":918000000000,\"adjClose\":0.310068},{\"timestamp\":918086400000,\"adjClose\":0.292226},{\"timestamp\":918172800000,\"adjClose\":0.28017},{\"timestamp\":918432000000,\"adjClose\":0.291261},{\"timestamp\":918518400000,\"adjClose\":0.286921},{\"timestamp\":918604800000,\"adjClose\":0.295601},{\"timestamp\":918691200000,\"adjClose\":0.305728},{\"timestamp\":918777600000,\"adjClose\":0.290779},{\"timestamp\":919123200000,\"adjClose\":0.295601},{\"timestamp\":919209600000,\"adjClose\":0.285475},{\"timestamp\":919296000000,\"adjClose\":0.277759},{\"timestamp\":919382400000,\"adjClose\":0.286921},{\"timestamp\":919641600000,\"adjClose\":0.296566},{\"timestamp\":919728000000,\"adjClose\":0.296566},{\"timestamp\":919814400000,\"adjClose\":0.28885},{\"timestamp\":919900800000,\"adjClose\":0.284992},{\"timestamp\":919987200000,\"adjClose\":0.268597},{\"timestamp\":920246400000,\"adjClose\":0.260399},{\"timestamp\":920332800000,\"adjClose\":0.26715},{\"timestamp\":920419200000,\"adjClose\":0.263775},{\"timestamp\":920505600000,\"adjClose\":0.257988},{\"timestamp\":920592000000,\"adjClose\":0.256059},{\"timestamp\":920851200000,\"adjClose\":0.265221},{\"timestamp\":920937600000,\"adjClose\":0.263292},{\"timestamp\":921024000000,\"adjClose\":0.251237},{\"timestamp\":921110400000,\"adjClose\":0.248344},{\"timestamp\":921196800000,\"adjClose\":0.256059},{\"timestamp\":921456000000,\"adjClose\":0.26281},{\"timestamp\":921542400000,\"adjClose\":0.273901},{\"timestamp\":921628800000,\"adjClose\":0.26281},{\"timestamp\":921715200000,\"adjClose\":0.273901},{\"timestamp\":921801600000,\"adjClose\":0.25847},{\"timestamp\":922060800000,\"adjClose\":0.270526},{\"timestamp\":922147200000,\"adjClose\":0.254613},{\"timestamp\":922233600000,\"adjClose\":0.259917},{\"timestamp\":922320000000,\"adjClose\":0.260881},{\"timestamp\":922406400000,\"adjClose\":0.256541},{\"timestamp\":922665600000,\"adjClose\":0.272937},{\"timestamp\":922752000000,\"adjClose\":0.276795},{\"timestamp\":922838400000,\"adjClose\":0.277277},{\"timestamp\":922924800000,\"adjClose\":0.278241},{\"timestamp\":923270400000,\"adjClose\":0.285957},{\"timestamp\":923356800000,\"adjClose\":0.29319},{\"timestamp\":923443200000,\"adjClose\":0.286439},{\"timestamp\":923529600000,\"adjClose\":0.28451},{\"timestamp\":923616000000,\"adjClose\":0.283546},{\"timestamp\":923875200000,\"adjClose\":0.279688},{\"timestamp\":923961600000,\"adjClose\":0.26715},{\"timestamp\":924048000000,\"adjClose\":0.274142},{\"timestamp\":924134400000,\"adjClose\":0.27583},{\"timestamp\":924220800000,\"adjClose\":0.273419},{\"timestamp\":924480000000,\"adjClose\":0.261363},{\"timestamp\":924566400000,\"adjClose\":0.26281},{\"timestamp\":924652800000,\"adjClose\":0.265221},{\"timestamp\":924739200000,\"adjClose\":0.280652},{\"timestamp\":924825600000,\"adjClose\":0.302352},{\"timestamp\":925084800000,\"adjClose\":0.315854},{\"timestamp\":925171200000,\"adjClose\":0.352985},{\"timestamp\":925257600000,\"adjClose\":0.339965},{\"timestamp\":925344000000,\"adjClose\":0.331768},{\"timestamp\":925430400000,\"adjClose\":0.354914},{\"timestamp\":925689600000,\"adjClose\":0.382401},{\"timestamp\":925776000000,\"adjClose\":0.358772},{\"timestamp\":925862400000,\"adjClose\":0.36263},{\"timestamp\":925948800000,\"adjClose\":0.343341},{\"timestamp\":926035200000,\"adjClose\":0.35395},{\"timestamp\":926294400000,\"adjClose\":0.349128},{\"timestamp\":926380800000,\"adjClose\":0.34527},{\"timestamp\":926467200000,\"adjClose\":0.358772},{\"timestamp\":926553600000,\"adjClose\":0.356361},{\"timestamp\":926640000000,\"adjClose\":0.342377},{\"timestamp\":926899200000,\"adjClose\":0.342377},{\"timestamp\":926985600000,\"adjClose\":0.349128},{\"timestamp\":927072000000,\"adjClose\":0.348646},{\"timestamp\":927158400000,\"adjClose\":0.32791},{\"timestamp\":927244800000,\"adjClose\":0.339001},{\"timestamp\":927504000000,\"adjClose\":0.32357},{\"timestamp\":927590400000,\"adjClose\":0.320194},{\"timestamp\":927676800000,\"adjClose\":0.339965},{\"timestamp\":927763200000,\"adjClose\":0.335625},{\"timestamp\":927849600000,\"adjClose\":0.339965},{\"timestamp\":928195200000,\"adjClose\":0.345752},{\"timestamp\":928281600000,\"adjClose\":0.359254},{\"timestamp\":928368000000,\"adjClose\":0.366005},{\"timestamp\":928454400000,\"adjClose\":0.37131},{\"timestamp\":928713600000,\"adjClose\":0.377579},{\"timestamp\":928800000000,\"adjClose\":0.367934},{\"timestamp\":928886400000,\"adjClose\":0.373721},{\"timestamp\":928972800000,\"adjClose\":0.37131},{\"timestamp\":929059200000,\"adjClose\":0.35829},{\"timestamp\":929318400000,\"adjClose\":0.350574},{\"timestamp\":929404800000,\"adjClose\":0.355397},{\"timestamp\":929491200000,\"adjClose\":0.369863},{\"timestamp\":929577600000,\"adjClose\":0.357808},{\"timestamp\":929664000000,\"adjClose\":0.363594},{\"timestamp\":929923200000,\"adjClose\":0.358772},{\"timestamp\":930009600000,\"adjClose\":0.350092},{\"timestamp\":930096000000,\"adjClose\":0.337072},{\"timestamp\":930182400000,\"adjClose\":0.326463},{\"timestamp\":930268800000,\"adjClose\":0.325499},{\"timestamp\":930528000000,\"adjClose\":0.328392},{\"timestamp\":930614400000,\"adjClose\":0.350092},{\"timestamp\":930700800000,\"adjClose\":0.357325},{\"timestamp\":930787200000,\"adjClose\":0.34961},{\"timestamp\":930873600000,\"adjClose\":0.357325},{\"timestamp\":931219200000,\"adjClose\":0.365523},{\"timestamp\":931305600000,\"adjClose\":0.384812},{\"timestamp\":931392000000,\"adjClose\":0.420496},{\"timestamp\":931478400000,\"adjClose\":0.429176},{\"timestamp\":931737600000,\"adjClose\":0.420496},{\"timestamp\":931824000000,\"adjClose\":0.414227},{\"timestamp\":931910400000,\"adjClose\":0.431587},{\"timestamp\":931996800000,\"adjClose\":0.410852},{\"timestamp\":932083200000,\"adjClose\":0.409405},{\"timestamp\":932342400000,\"adjClose\":0.420014},{\"timestamp\":932428800000,\"adjClose\":0.407959},{\"timestamp\":932515200000,\"adjClose\":0.417121},{\"timestamp\":932601600000,\"adjClose\":0.404101},{\"timestamp\":932688000000,\"adjClose\":0.411334},{\"timestamp\":932947200000,\"adjClose\":0.39301},{\"timestamp\":933033600000,\"adjClose\":0.414227},{\"timestamp\":933120000000,\"adjClose\":0.419532},{\"timestamp\":933206400000,\"adjClose\":0.415674},{\"timestamp\":933292800000,\"adjClose\":0.429658},{\"timestamp\":933552000000,\"adjClose\":0.430141},{\"timestamp\":933638400000,\"adjClose\":0.426283},{\"timestamp\":933724800000,\"adjClose\":0.415192},{\"timestamp\":933811200000,\"adjClose\":0.422425},{\"timestamp\":933897600000,\"adjClose\":0.417603},{\"timestamp\":934156800000,\"adjClose\":0.420014},{\"timestamp\":934243200000,\"adjClose\":0.427247},{\"timestamp\":934329600000,\"adjClose\":0.460521},{\"timestamp\":934416000000,\"adjClose\":0.462932},{\"timestamp\":934502400000,\"adjClose\":0.463414},{\"timestamp\":934761600000,\"adjClose\":0.46679},{\"timestamp\":934848000000,\"adjClose\":0.465343},{\"timestamp\":934934400000,\"adjClose\":0.463896},{\"timestamp\":935020800000,\"adjClose\":0.453287},{\"timestamp\":935107200000,\"adjClose\":0.456663},{\"timestamp\":935366400000,\"adjClose\":0.468718},{\"timestamp\":935452800000,\"adjClose\":0.465825},{\"timestamp\":935539200000,\"adjClose\":0.473541},{\"timestamp\":935625600000,\"adjClose\":0.479327},{\"timestamp\":935712000000,\"adjClose\":0.49958},{\"timestamp\":935971200000,\"adjClose\":0.478845},{\"timestamp\":936057600000,\"adjClose\":0.503438},{\"timestamp\":936144000000,\"adjClose\":0.529478},{\"timestamp\":936230400000,\"adjClose\":0.544427},{\"timestamp\":936316800000,\"adjClose\":0.567091},{\"timestamp\":936662400000,\"adjClose\":0.589274},{\"timestamp\":936748800000,\"adjClose\":0.574807},{\"timestamp\":936835200000,\"adjClose\":0.583004},{\"timestamp\":936921600000,\"adjClose\":0.597471},{\"timestamp\":937180800000,\"adjClose\":0.578665},{\"timestamp\":937267200000,\"adjClose\":0.600365},{\"timestamp\":937353600000,\"adjClose\":0.581558},{\"timestamp\":937440000000,\"adjClose\":0.592649},{\"timestamp\":937526400000,\"adjClose\":0.593614},{\"timestamp\":937785600000,\"adjClose\":0.610009},{\"timestamp\":937872000000,\"adjClose\":0.5343},{\"timestamp\":937958400000,\"adjClose\":0.542498},{\"timestamp\":938044800000,\"adjClose\":0.488489},{\"timestamp\":938131200000,\"adjClose\":0.501027},{\"timestamp\":938390400000,\"adjClose\":0.473058},{\"timestamp\":938476800000,\"adjClose\":0.460038},{\"timestamp\":938563200000,\"adjClose\":0.455698},{\"timestamp\":938649600000,\"adjClose\":0.488489},{\"timestamp\":938736000000,\"adjClose\":0.476193},{\"timestamp\":938995200000,\"adjClose\":0.498134},{\"timestamp\":939081600000,\"adjClose\":0.524174},{\"timestamp\":939168000000,\"adjClose\":0.518387},{\"timestamp\":939254400000,\"adjClose\":0.512118},{\"timestamp\":939340800000,\"adjClose\":0.505849},{\"timestamp\":939600000000,\"adjClose\":0.51453},{\"timestamp\":939686400000,\"adjClose\":0.522245},{\"timestamp\":939772800000,\"adjClose\":0.494035},{\"timestamp\":939859200000,\"adjClose\":0.56468},{\"timestamp\":939945600000,\"adjClose\":0.575289},{\"timestamp\":940204800000,\"adjClose\":0.565162},{\"timestamp\":940291200000,\"adjClose\":0.528514},{\"timestamp\":940377600000,\"adjClose\":0.579629},{\"timestamp\":940464000000,\"adjClose\":0.587345},{\"timestamp\":940550400000,\"adjClose\":0.570467},{\"timestamp\":940809600000,\"adjClose\":0.574807},{\"timestamp\":940896000000,\"adjClose\":0.579147},{\"timestamp\":940982400000,\"adjClose\":0.589274},{\"timestamp\":941068800000,\"adjClose\":0.600847},{\"timestamp\":941155200000,\"adjClose\":0.618207},{\"timestamp\":941414400000,\"adjClose\":0.598918},{\"timestamp\":941500800000,\"adjClose\":0.619171},{\"timestamp\":941587200000,\"adjClose\":0.628815},{\"timestamp\":941673600000,\"adjClose\":0.645211},{\"timestamp\":941760000000,\"adjClose\":0.681378},{\"timestamp\":942019200000,\"adjClose\":0.743584},{\"timestamp\":942105600000,\"adjClose\":0.691504},{\"timestamp\":942192000000,\"adjClose\":0.705489},{\"timestamp\":942278400000,\"adjClose\":0.711758},{\"timestamp\":942364800000,\"adjClose\":0.69922},{\"timestamp\":942624000000,\"adjClose\":0.690057},{\"timestamp\":942710400000,\"adjClose\":0.70356},{\"timestamp\":942796800000,\"adjClose\":0.696326},{\"timestamp\":942883200000,\"adjClose\":0.691504},{\"timestamp\":942969600000,\"adjClose\":0.713204},{\"timestamp\":943228800000,\"adjClose\":0.69922},{\"timestamp\":943315200000,\"adjClose\":0.716097},{\"timestamp\":943401600000,\"adjClose\":0.730564},{\"timestamp\":943574400000,\"adjClose\":0.733457},{\"timestamp\":943833600000,\"adjClose\":0.7296},{\"timestamp\":943920000000,\"adjClose\":0.755157},{\"timestamp\":944006400000,\"adjClose\":0.795182},{\"timestamp\":944092800000,\"adjClose\":0.850155},{\"timestamp\":944179200000,\"adjClose\":0.887286},{\"timestamp\":944438400000,\"adjClose\":0.895001},{\"timestamp\":944524800000,\"adjClose\":0.908986},{\"timestamp\":944611200000,\"adjClose\":0.84919},{\"timestamp\":944697600000,\"adjClose\":0.812059},{\"timestamp\":944784000000,\"adjClose\":0.794699},{\"timestamp\":945043200000,\"adjClose\":0.763837},{\"timestamp\":945129600000,\"adjClose\":0.732011},{\"timestamp\":945216000000,\"adjClose\":0.748406},{\"timestamp\":945302400000,\"adjClose\":0.758533},{\"timestamp\":945388800000,\"adjClose\":0.771553},{\"timestamp\":945648000000,\"adjClose\":0.756122},{\"timestamp\":945734400000,\"adjClose\":0.790842},{\"timestamp\":945820800000,\"adjClose\":0.771071},{\"timestamp\":945907200000,\"adjClose\":0.798557},{\"timestamp\":946252800000,\"adjClose\":0.766248},{\"timestamp\":946339200000,\"adjClose\":0.757568},{\"timestamp\":946425600000,\"adjClose\":0.776857},{\"timestamp\":946512000000,\"adjClose\":0.773964},{\"timestamp\":946598400000,\"adjClose\":0.793253},{\"timestamp\":946857600000,\"adjClose\":0.863657},{\"timestamp\":946944000000,\"adjClose\":0.790842},{\"timestamp\":947030400000,\"adjClose\":0.802415},{\"timestamp\":947116800000,\"adjClose\":0.732975},{\"timestamp\":947203200000,\"adjClose\":0.767695},{\"timestamp\":947462400000,\"adjClose\":0.754193},{\"timestamp\":947548800000,\"adjClose\":0.715615},{\"timestamp\":947635200000,\"adjClose\":0.672698},{\"timestamp\":947721600000,\"adjClose\":0.746477},{\"timestamp\":947808000000,\"adjClose\":0.774928},{\"timestamp\":948153600000,\"adjClose\":0.801933},{\"timestamp\":948240000000,\"adjClose\":0.822186},{\"timestamp\":948326400000,\"adjClose\":0.875712},{\"timestamp\":948412800000,\"adjClose\":0.858835},{\"timestamp\":948672000000,\"adjClose\":0.819775},{\"timestamp\":948758400000,\"adjClose\":0.866068},{\"timestamp\":948844800000,\"adjClose\":0.850155},{\"timestamp\":948931200000,\"adjClose\":0.848708},{\"timestamp\":949017600000,\"adjClose\":0.784091},{\"timestamp\":949276800000,\"adjClose\":0.800486},{\"timestamp\":949363200000,\"adjClose\":0.773482},{\"timestamp\":949449600000,\"adjClose\":0.762391},{\"timestamp\":949536000000,\"adjClose\":0.797111},{\"timestamp\":949622400000,\"adjClose\":0.833277},{\"timestamp\":949881600000,\"adjClose\":0.880053},{\"timestamp\":949968000000,\"adjClose\":0.886321},{\"timestamp\":950054400000,\"adjClose\":0.868961},{\"timestamp\":950140800000,\"adjClose\":0.875712},{\"timestamp\":950227200000,\"adjClose\":0.839064},{\"timestamp\":950486400000,\"adjClose\":0.893555},{\"timestamp\":950572800000,\"adjClose\":0.918148},{\"timestamp\":950659200000,\"adjClose\":0.880535},{\"timestamp\":950745600000,\"adjClose\":0.886321},{\"timestamp\":950832000000,\"adjClose\":0.858352},{\"timestamp\":951177600000,\"adjClose\":0.878124},{\"timestamp\":951264000000,\"adjClose\":0.89693},{\"timestamp\":951350400000,\"adjClose\":0.888853},{\"timestamp\":951436800000,\"adjClose\":0.851601},{\"timestamp\":951696000000,\"adjClose\":0.873784},{\"timestamp\":951782400000,\"adjClose\":0.884392},{\"timestamp\":951868800000,\"adjClose\":1.00543},{\"timestamp\":951955200000,\"adjClose\":0.941294},{\"timestamp\":952041600000,\"adjClose\":0.987588},{\"timestamp\":952300800000,\"adjClose\":0.969746},{\"timestamp\":952387200000,\"adjClose\":0.948046},{\"timestamp\":952473600000,\"adjClose\":0.941294},{\"timestamp\":952560000000,\"adjClose\":0.943223},{\"timestamp\":952646400000,\"adjClose\":0.970228},{\"timestamp\":952905600000,\"adjClose\":0.93599},{\"timestamp\":952992000000,\"adjClose\":0.881499},{\"timestamp\":953078400000,\"adjClose\":0.89693},{\"timestamp\":953164800000,\"adjClose\":0.937919},{\"timestamp\":953251200000,\"adjClose\":0.964441},{\"timestamp\":953510400000,\"adjClose\":0.94901},{\"timestamp\":953596800000,\"adjClose\":1.041114},{\"timestamp\":953683200000,\"adjClose\":1.112483},{\"timestamp\":953769600000,\"adjClose\":1.090301},{\"timestamp\":953856000000,\"adjClose\":1.070047},{\"timestamp\":954115200000,\"adjClose\":1.076798},{\"timestamp\":954201600000,\"adjClose\":1.073423},{\"timestamp\":954288000000,\"adjClose\":1.04883},{\"timestamp\":954374400000,\"adjClose\":0.970228},{\"timestamp\":954460800000,\"adjClose\":1.047865},{\"timestamp\":954720000000,\"adjClose\":1.028576},{\"timestamp\":954806400000,\"adjClose\":0.982283},{\"timestamp\":954892800000,\"adjClose\":1.005912},{\"timestamp\":954979200000,\"adjClose\":0.965888},{\"timestamp\":955065600000,\"adjClose\":1.016521},{\"timestamp\":955324800000,\"adjClose\":0.964441},{\"timestamp\":955411200000,\"adjClose\":0.921523},{\"timestamp\":955497600000,\"adjClose\":0.842921},{\"timestamp\":955584000000,\"adjClose\":0.878124},{\"timestamp\":955670400000,\"adjClose\":0.863175},{\"timestamp\":955929600000,\"adjClose\":0.955761},{\"timestamp\":956016000000,\"adjClose\":0.978908},{\"timestamp\":956102400000,\"adjClose\":0.934543},{\"timestamp\":956188800000,\"adjClose\":0.917183},{\"timestamp\":956534400000,\"adjClose\":0.929721},{\"timestamp\":956620800000,\"adjClose\":0.989999},{\"timestamp\":956707200000,\"adjClose\":0.93599},{\"timestamp\":956793600000,\"adjClose\":0.977943},{\"timestamp\":956880000000,\"adjClose\":0.957207},{\"timestamp\":957139200000,\"adjClose\":0.959137},{\"timestamp\":957225600000,\"adjClose\":0.909468},{\"timestamp\":957312000000,\"adjClose\":0.887768},{\"timestamp\":957398400000,\"adjClose\":0.854013},{\"timestamp\":957484800000,\"adjClose\":0.872819},{\"timestamp\":957744000000,\"adjClose\":0.849673},{\"timestamp\":957830400000,\"adjClose\":0.813506},{\"timestamp\":957916800000,\"adjClose\":0.766248},{\"timestamp\":958003200000,\"adjClose\":0.793253},{\"timestamp\":958089600000,\"adjClose\":0.830384},{\"timestamp\":958348800000,\"adjClose\":0.779268},{\"timestamp\":958435200000,\"adjClose\":0.815435},{\"timestamp\":958521600000,\"adjClose\":0.782162},{\"timestamp\":958608000000,\"adjClose\":0.77734},{\"timestamp\":958694400000,\"adjClose\":0.725259},{\"timestamp\":958953600000,\"adjClose\":0.693915},{\"timestamp\":959040000000,\"adjClose\":0.662089},{\"timestamp\":959126400000,\"adjClose\":0.676555},{\"timestamp\":959212800000,\"adjClose\":0.6733},{\"timestamp\":959299200000,\"adjClose\":0.666429},{\"timestamp\":959644800000,\"adjClose\":0.675591},{\"timestamp\":959731200000,\"adjClose\":0.648104},{\"timestamp\":959817600000,\"adjClose\":0.687646},{\"timestamp\":959904000000,\"adjClose\":0.714168},{\"timestamp\":960163200000,\"adjClose\":0.704524},{\"timestamp\":960249600000,\"adjClose\":0.71658},{\"timestamp\":960336000000,\"adjClose\":0.745031},{\"timestamp\":960422400000,\"adjClose\":0.731529},{\"timestamp\":960508800000,\"adjClose\":0.738762},{\"timestamp\":960768000000,\"adjClose\":0.70356},{\"timestamp\":960854400000,\"adjClose\":0.729118},{\"timestamp\":960940800000,\"adjClose\":0.697773},{\"timestamp\":961027200000,\"adjClose\":0.712722},{\"timestamp\":961113600000,\"adjClose\":0.70356},{\"timestamp\":961372800000,\"adjClose\":0.745513},{\"timestamp\":961459200000,\"adjClose\":0.781197},{\"timestamp\":961545600000,\"adjClose\":0.858352},{\"timestamp\":961632000000,\"adjClose\":0.829419},{\"timestamp\":961718400000,\"adjClose\":0.797593},{\"timestamp\":961977600000,\"adjClose\":0.835206},{\"timestamp\":962064000000,\"adjClose\":0.798557},{\"timestamp\":962150400000,\"adjClose\":0.840028},{\"timestamp\":962236800000,\"adjClose\":0.790842},{\"timestamp\":962323200000,\"adjClose\":0.808202},{\"timestamp\":962582400000,\"adjClose\":0.822668},{\"timestamp\":962755200000,\"adjClose\":0.796628},{\"timestamp\":962841600000,\"adjClose\":0.799522},{\"timestamp\":962928000000,\"adjClose\":0.840028},{\"timestamp\":963187200000,\"adjClose\":0.881499},{\"timestamp\":963273600000,\"adjClose\":0.878606},{\"timestamp\":963360000000,\"adjClose\":0.908503},{\"timestamp\":963446400000,\"adjClose\":0.871855},{\"timestamp\":963532800000,\"adjClose\":0.890179},{\"timestamp\":963792000000,\"adjClose\":0.899824},{\"timestamp\":963878400000,\"adjClose\":0.883428},{\"timestamp\":963964800000,\"adjClose\":0.813024},{\"timestamp\":964051200000,\"adjClose\":0.850637},{\"timestamp\":964137600000,\"adjClose\":0.826526},{\"timestamp\":964396800000,\"adjClose\":0.7513},{\"timestamp\":964483200000,\"adjClose\":0.772517},{\"timestamp\":964569600000,\"adjClose\":0.772517},{\"timestamp\":964656000000,\"adjClose\":0.802415},{\"timestamp\":964742400000,\"adjClose\":0.745513},{\"timestamp\":965001600000,\"adjClose\":0.784091},{\"timestamp\":965088000000,\"adjClose\":0.760944},{\"timestamp\":965174400000,\"adjClose\":0.729118},{\"timestamp\":965260800000,\"adjClose\":0.740691},{\"timestamp\":965347200000,\"adjClose\":0.731046},{\"timestamp\":965606400000,\"adjClose\":0.739726},{\"timestamp\":965692800000,\"adjClose\":0.721402},{\"timestamp\":965779200000,\"adjClose\":0.732975},{\"timestamp\":965865600000,\"adjClose\":0.73394},{\"timestamp\":965952000000,\"adjClose\":0.735869},{\"timestamp\":966211200000,\"adjClose\":0.726224},{\"timestamp\":966297600000,\"adjClose\":0.720437},{\"timestamp\":966384000000,\"adjClose\":0.748406},{\"timestamp\":966470400000,\"adjClose\":0.793735},{\"timestamp\":966556800000,\"adjClose\":0.771553},{\"timestamp\":966816000000,\"adjClose\":0.779268},{\"timestamp\":966902400000,\"adjClose\":0.797593},{\"timestamp\":966988800000,\"adjClose\":0.838099},{\"timestamp\":967075200000,\"adjClose\":0.865827},{\"timestamp\":967161600000,\"adjClose\":0.876677},{\"timestamp\":967420800000,\"adjClose\":0.895966},{\"timestamp\":967507200000,\"adjClose\":0.913326},{\"timestamp\":967593600000,\"adjClose\":0.918148},{\"timestamp\":967680000000,\"adjClose\":0.94033},{\"timestamp\":967766400000,\"adjClose\":0.978908},{\"timestamp\":968112000000,\"adjClose\":0.963477},{\"timestamp\":968198400000,\"adjClose\":0.901752},{\"timestamp\":968284800000,\"adjClose\":0.956725},{\"timestamp\":968371200000,\"adjClose\":0.908503},{\"timestamp\":968630400000,\"adjClose\":0.901752},{\"timestamp\":968716800000,\"adjClose\":0.891144},{\"timestamp\":968803200000,\"adjClose\":0.895001},{\"timestamp\":968889600000,\"adjClose\":0.8774},{\"timestamp\":968976000000,\"adjClose\":0.852325},{\"timestamp\":969235200000,\"adjClose\":0.93599},{\"timestamp\":969321600000,\"adjClose\":0.924899},{\"timestamp\":969408000000,\"adjClose\":0.942018},{\"timestamp\":969494400000,\"adjClose\":0.874748},{\"timestamp\":969580800000,\"adjClose\":0.805308},{\"timestamp\":969840000000,\"adjClose\":0.825561},{\"timestamp\":969926400000,\"adjClose\":0.793735},{\"timestamp\":970012800000,\"adjClose\":0.755157},{\"timestamp\":970099200000,\"adjClose\":0.825561},{\"timestamp\":970185600000,\"adjClose\":0.39735},{\"timestamp\":970444800000,\"adjClose\":0.374203},{\"timestamp\":970531200000,\"adjClose\":0.344305},{\"timestamp\":970617600000,\"adjClose\":0.364559},{\"timestamp\":970704000000,\"adjClose\":0.340448},{\"timestamp\":970790400000,\"adjClose\":0.342377},{\"timestamp\":971049600000,\"adjClose\":0.335625},{\"timestamp\":971136000000,\"adjClose\":0.322123},{\"timestamp\":971222400000,\"adjClose\":0.302834},{\"timestamp\":971308800000,\"adjClose\":0.308621},{\"timestamp\":971395200000,\"adjClose\":0.340448},{\"timestamp\":971654400000,\"adjClose\":0.331768},{\"timestamp\":971740800000,\"adjClose\":0.31055},{\"timestamp\":971827200000,\"adjClose\":0.31055},{\"timestamp\":971913600000,\"adjClose\":0.292226},{\"timestamp\":972000000000,\"adjClose\":0.300906},{\"timestamp\":972259200000,\"adjClose\":0.314408},{\"timestamp\":972345600000,\"adjClose\":0.291261},{\"timestamp\":972432000000,\"adjClose\":0.285475},{\"timestamp\":972518400000,\"adjClose\":0.285475},{\"timestamp\":972604800000,\"adjClose\":0.286439},{\"timestamp\":972864000000,\"adjClose\":0.298012},{\"timestamp\":972950400000,\"adjClose\":0.30187},{\"timestamp\":973036800000,\"adjClose\":0.316337},{\"timestamp\":973123200000,\"adjClose\":0.344305},{\"timestamp\":973209600000,\"adjClose\":0.343341},{\"timestamp\":973468800000,\"adjClose\":0.330803},{\"timestamp\":973555200000,\"adjClose\":0.328874},{\"timestamp\":973641600000,\"adjClose\":0.309586},{\"timestamp\":973728000000,\"adjClose\":0.311515},{\"timestamp\":973814400000,\"adjClose\":0.294154},{\"timestamp\":974073600000,\"adjClose\":0.298977},{\"timestamp\":974160000000,\"adjClose\":0.312479},{\"timestamp\":974246400000,\"adjClose\":0.306692},{\"timestamp\":974332800000,\"adjClose\":0.29319},{\"timestamp\":974419200000,\"adjClose\":0.285475},{\"timestamp\":974678400000,\"adjClose\":0.292226},{\"timestamp\":974764800000,\"adjClose\":0.290297},{\"timestamp\":974851200000,\"adjClose\":0.285475},{\"timestamp\":975024000000,\"adjClose\":0.298012},{\"timestamp\":975283200000,\"adjClose\":0.288368},{\"timestamp\":975369600000,\"adjClose\":0.278241},{\"timestamp\":975456000000,\"adjClose\":0.271008},{\"timestamp\":975542400000,\"adjClose\":0.254613},{\"timestamp\":975628800000,\"adjClose\":0.263292},{\"timestamp\":975888000000,\"adjClose\":0.257506},{\"timestamp\":975974400000,\"adjClose\":0.262328},{\"timestamp\":976060800000,\"adjClose\":0.220857},{\"timestamp\":976147200000,\"adjClose\":0.220857},{\"timestamp\":976233600000,\"adjClose\":0.23243},{\"timestamp\":976492800000,\"adjClose\":0.234359},{\"timestamp\":976579200000,\"adjClose\":0.237252},{\"timestamp\":976665600000,\"adjClose\":0.231466},{\"timestamp\":976752000000,\"adjClose\":0.222786},{\"timestamp\":976838400000,\"adjClose\":0.216999},{\"timestamp\":977097600000,\"adjClose\":0.219893},{\"timestamp\":977184000000,\"adjClose\":0.216035},{\"timestamp\":977270400000,\"adjClose\":0.221821},{\"timestamp\":977356800000,\"adjClose\":0.216999},{\"timestamp\":977443200000,\"adjClose\":0.231466},{\"timestamp\":977788800000,\"adjClose\":0.226644},{\"timestamp\":977875200000,\"adjClose\":0.228573},{\"timestamp\":977961600000,\"adjClose\":0.228573},{\"timestamp\":978048000000,\"adjClose\":0.229537},{\"timestamp\":978393600000,\"adjClose\":0.229537},{\"timestamp\":978480000000,\"adjClose\":0.252684},{\"timestamp\":978566400000,\"adjClose\":0.263292},{\"timestamp\":978652800000,\"adjClose\":0.252684},{\"timestamp\":978912000000,\"adjClose\":0.255577},{\"timestamp\":978998400000,\"adjClose\":0.265221},{\"timestamp\":979084800000,\"adjClose\":0.255577},{\"timestamp\":979171200000,\"adjClose\":0.277759},{\"timestamp\":979257600000,\"adjClose\":0.265221},{\"timestamp\":979603200000,\"adjClose\":0.264257},{\"timestamp\":979689600000,\"adjClose\":0.259435},{\"timestamp\":979776000000,\"adjClose\":0.288368},{\"timestamp\":979862400000,\"adjClose\":0.300906},{\"timestamp\":980121600000,\"adjClose\":0.297048},{\"timestamp\":980208000000,\"adjClose\":0.316337},{\"timestamp\":980294400000,\"adjClose\":0.316337},{\"timestamp\":980380800000,\"adjClose\":0.307657},{\"timestamp\":980467200000,\"adjClose\":0.30187},{\"timestamp\":980726400000,\"adjClose\":0.334661},{\"timestamp\":980812800000,\"adjClose\":0.335625},{\"timestamp\":980899200000,\"adjClose\":0.333697},{\"timestamp\":980985600000,\"adjClose\":0.325981},{\"timestamp\":981072000000,\"adjClose\":0.318266},{\"timestamp\":981331200000,\"adjClose\":0.311515},{\"timestamp\":981417600000,\"adjClose\":0.325981},{\"timestamp\":981504000000,\"adjClose\":0.320194},{\"timestamp\":981590400000,\"adjClose\":0.320194},{\"timestamp\":981676800000,\"adjClose\":0.295119},{\"timestamp\":981936000000,\"adjClose\":0.303799},{\"timestamp\":982022400000,\"adjClose\":0.295119},{\"timestamp\":982108800000,\"adjClose\":0.300906},{\"timestamp\":982195200000,\"adjClose\":0.309586},{\"timestamp\":982281600000,\"adjClose\":0.29319},{\"timestamp\":982627200000,\"adjClose\":0.282581},{\"timestamp\":982713600000,\"adjClose\":0.291261},{\"timestamp\":982800000000,\"adjClose\":0.290297},{\"timestamp\":982886400000,\"adjClose\":0.290297},{\"timestamp\":983145600000,\"adjClose\":0.300906},{\"timestamp\":983232000000,\"adjClose\":0.298977},{\"timestamp\":983318400000,\"adjClose\":0.281617},{\"timestamp\":983404800000,\"adjClose\":0.289332},{\"timestamp\":983491200000,\"adjClose\":0.297048},{\"timestamp\":983750400000,\"adjClose\":0.314408},{\"timestamp\":983836800000,\"adjClose\":0.331768},{\"timestamp\":983923200000,\"adjClose\":0.32791},{\"timestamp\":984009600000,\"adjClose\":0.321159},{\"timestamp\":984096000000,\"adjClose\":0.312479},{\"timestamp\":984355200000,\"adjClose\":0.287403},{\"timestamp\":984441600000,\"adjClose\":0.30187},{\"timestamp\":984528000000,\"adjClose\":0.315372},{\"timestamp\":984614400000,\"adjClose\":0.303799},{\"timestamp\":984700800000,\"adjClose\":0.302834},{\"timestamp\":984960000000,\"adjClose\":0.317301},{\"timestamp\":985046400000,\"adjClose\":0.303799},{\"timestamp\":985132800000,\"adjClose\":0.31055},{\"timestamp\":985219200000,\"adjClose\":0.333697},{\"timestamp\":985305600000,\"adjClose\":0.354914},{\"timestamp\":985564800000,\"adjClose\":0.336088},{\"timestamp\":985651200000,\"adjClose\":0.352908},{\"timestamp\":985737600000,\"adjClose\":0.342107},{\"timestamp\":985824000000,\"adjClose\":0.347662},{\"timestamp\":985910400000,\"adjClose\":0.340563},{\"timestamp\":986169600000,\"adjClose\":0.333157},{\"timestamp\":986256000000,\"adjClose\":0.312325},{\"timestamp\":986342400000,\"adjClose\":0.300906},{\"timestamp\":986428800000,\"adjClose\":0.322046},{\"timestamp\":986515200000,\"adjClose\":0.317725},{\"timestamp\":986774400000,\"adjClose\":0.316954},{\"timestamp\":986860800000,\"adjClose\":0.3401},{\"timestamp\":986947200000,\"adjClose\":0.336397},{\"timestamp\":987033600000,\"adjClose\":0.345964},{\"timestamp\":987379200000,\"adjClose\":0.330842},{\"timestamp\":987465600000,\"adjClose\":0.314794},{\"timestamp\":987552000000,\"adjClose\":0.351674},{\"timestamp\":987638400000,\"adjClose\":0.396887},{\"timestamp\":987724800000,\"adjClose\":0.386394},{\"timestamp\":987984000000,\"adjClose\":0.374203},{\"timestamp\":988070400000,\"adjClose\":0.370808},{\"timestamp\":988156800000,\"adjClose\":0.381456},{\"timestamp\":988243200000,\"adjClose\":0.380993},{\"timestamp\":988329600000,\"adjClose\":0.404294},{\"timestamp\":988588800000,\"adjClose\":0.393338},{\"timestamp\":988675200000,\"adjClose\":0.400127},{\"timestamp\":988761600000,\"adjClose\":0.410312},{\"timestamp\":988848000000,\"adjClose\":0.385159},{\"timestamp\":988934400000,\"adjClose\":0.39735},{\"timestamp\":989193600000,\"adjClose\":0.385159},{\"timestamp\":989280000000,\"adjClose\":0.379141},{\"timestamp\":989366400000,\"adjClose\":0.370037},{\"timestamp\":989452800000,\"adjClose\":0.354914},{\"timestamp\":989539200000,\"adjClose\":0.3526},{\"timestamp\":989798400000,\"adjClose\":0.359389},{\"timestamp\":989884800000,\"adjClose\":0.357692},{\"timestamp\":989971200000,\"adjClose\":0.371889},{\"timestamp\":990057600000,\"adjClose\":0.363401},{\"timestamp\":990144000000,\"adjClose\":0.363093},{\"timestamp\":990403200000,\"adjClose\":0.363556},{\"timestamp\":990489600000,\"adjClose\":0.36263},{\"timestamp\":990576000000,\"adjClose\":0.358463},{\"timestamp\":990662400000,\"adjClose\":0.358001},{\"timestamp\":990748800000,\"adjClose\":0.351211},{\"timestamp\":991094400000,\"adjClose\":0.331305},{\"timestamp\":991180800000,\"adjClose\":0.305226},{\"timestamp\":991267200000,\"adjClose\":0.30785},{\"timestamp\":991353600000,\"adjClose\":0.322355},{\"timestamp\":991612800000,\"adjClose\":0.318806},{\"timestamp\":991699200000,\"adjClose\":0.323126},{\"timestamp\":991785600000,\"adjClose\":0.319886},{\"timestamp\":991872000000,\"adjClose\":0.334237},{\"timestamp\":991958400000,\"adjClose\":0.32899},{\"timestamp\":992217600000,\"adjClose\":0.309238},{\"timestamp\":992304000000,\"adjClose\":0.313405},{\"timestamp\":992390400000,\"adjClose\":0.315874},{\"timestamp\":992476800000,\"adjClose\":0.306769},{\"timestamp\":992563200000,\"adjClose\":0.315411},{\"timestamp\":992822400000,\"adjClose\":0.313713},{\"timestamp\":992908800000,\"adjClose\":0.311553},{\"timestamp\":992995200000,\"adjClose\":0.334391},{\"timestamp\":993081600000,\"adjClose\":0.347044},{\"timestamp\":993168000000,\"adjClose\":0.343495},{\"timestamp\":993427200000,\"adjClose\":0.370191},{\"timestamp\":993513600000,\"adjClose\":0.366488},{\"timestamp\":993600000000,\"adjClose\":0.360161},{\"timestamp\":993686400000,\"adjClose\":0.363247},{\"timestamp\":993772800000,\"adjClose\":0.358772},{\"timestamp\":994032000000,\"adjClose\":0.368802},{\"timestamp\":994118400000,\"adjClose\":0.367876},{\"timestamp\":994291200000,\"adjClose\":0.357846},{\"timestamp\":994377600000,\"adjClose\":0.339946},{\"timestamp\":994636800000,\"adjClose\":0.350285},{\"timestamp\":994723200000,\"adjClose\":0.326213},{\"timestamp\":994809600000,\"adjClose\":0.347816},{\"timestamp\":994896000000,\"adjClose\":0.375901},{\"timestamp\":994982400000,\"adjClose\":0.383462},{\"timestamp\":995241600000,\"adjClose\":0.369728},{\"timestamp\":995328000000,\"adjClose\":0.387319},{\"timestamp\":995414400000,\"adjClose\":0.320812},{\"timestamp\":995500800000,\"adjClose\":0.308004},{\"timestamp\":995587200000,\"adjClose\":0.308313},{\"timestamp\":995846400000,\"adjClose\":0.301523},{\"timestamp\":995932800000,\"adjClose\":0.294579},{\"timestamp\":996019200000,\"adjClose\":0.285012},{\"timestamp\":996105600000,\"adjClose\":0.286863},{\"timestamp\":996192000000,\"adjClose\":0.292573},{\"timestamp\":996451200000,\"adjClose\":0.29211},{\"timestamp\":996537600000,\"adjClose\":0.28995},{\"timestamp\":996624000000,\"adjClose\":0.294116},{\"timestamp\":996710400000,\"adjClose\":0.305844},{\"timestamp\":996796800000,\"adjClose\":0.300906},{\"timestamp\":997056000000,\"adjClose\":0.295196},{\"timestamp\":997142400000,\"adjClose\":0.297048},{\"timestamp\":997228800000,\"adjClose\":0.291647},{\"timestamp\":997315200000,\"adjClose\":0.293962},{\"timestamp\":997401600000,\"adjClose\":0.293499},{\"timestamp\":997660800000,\"adjClose\":0.294579},{\"timestamp\":997747200000,\"adjClose\":0.289024},{\"timestamp\":997833600000,\"adjClose\":0.284549},{\"timestamp\":997920000000,\"adjClose\":0.287789},{\"timestamp\":998006400000,\"adjClose\":0.278839},{\"timestamp\":998265600000,\"adjClose\":0.279611},{\"timestamp\":998352000000,\"adjClose\":0.276525},{\"timestamp\":998438400000,\"adjClose\":0.281},{\"timestamp\":998524800000,\"adjClose\":0.274827},{\"timestamp\":998611200000,\"adjClose\":0.286555},{\"timestamp\":998870400000,\"adjClose\":0.291956},{\"timestamp\":998956800000,\"adjClose\":0.283931},{\"timestamp\":999043200000,\"adjClose\":0.275136},{\"timestamp\":999129600000,\"adjClose\":0.275136},{\"timestamp\":999216000000,\"adjClose\":0.286246},{\"timestamp\":999561600000,\"adjClose\":0.281617},{\"timestamp\":999648000000,\"adjClose\":0.286246},{\"timestamp\":999734400000,\"adjClose\":0.273438},{\"timestamp\":999820800000,\"adjClose\":0.266649},{\"timestamp\":1000080000000,\"adjClose\":0.268037},{\"timestamp\":1000684800000,\"adjClose\":0.262174},{\"timestamp\":1000771200000,\"adjClose\":0.251218},{\"timestamp\":1000857600000,\"adjClose\":0.262637},{\"timestamp\":1000944000000,\"adjClose\":0.241959},{\"timestamp\":1001030400000,\"adjClose\":0.24273},{\"timestamp\":1001289600000,\"adjClose\":0.253841},{\"timestamp\":1001376000000,\"adjClose\":0.239799},{\"timestamp\":1001462400000,\"adjClose\":0.23378},{\"timestamp\":1001548800000,\"adjClose\":0.239336},{\"timestamp\":1001635200000,\"adjClose\":0.239336},{\"timestamp\":1001894400000,\"adjClose\":0.239799},{\"timestamp\":1001980800000,\"adjClose\":0.232237},{\"timestamp\":1002067200000,\"adjClose\":0.231157},{\"timestamp\":1002153600000,\"adjClose\":0.245045},{\"timestamp\":1002240000000,\"adjClose\":0.249057},{\"timestamp\":1002499200000,\"adjClose\":0.249983},{\"timestamp\":1002585600000,\"adjClose\":0.246897},{\"timestamp\":1002672000000,\"adjClose\":0.25955},{\"timestamp\":1002758400000,\"adjClose\":0.273747},{\"timestamp\":1002844800000,\"adjClose\":0.277913},{\"timestamp\":1003104000000,\"adjClose\":0.277605},{\"timestamp\":1003190400000,\"adjClose\":0.277913},{\"timestamp\":1003276800000,\"adjClose\":0.262174},{\"timestamp\":1003363200000,\"adjClose\":0.277759},{\"timestamp\":1003449600000,\"adjClose\":0.282388},{\"timestamp\":1003708800000,\"adjClose\":0.293499},{\"timestamp\":1003795200000,\"adjClose\":0.279919},{\"timestamp\":1003881600000,\"adjClose\":0.292419},{\"timestamp\":1003968000000,\"adjClose\":0.296122},{\"timestamp\":1004054400000,\"adjClose\":0.288098},{\"timestamp\":1004313600000,\"adjClose\":0.27205},{\"timestamp\":1004400000000,\"adjClose\":0.271587},{\"timestamp\":1004486400000,\"adjClose\":0.270969},{\"timestamp\":1004572800000,\"adjClose\":0.286863},{\"timestamp\":1004659200000,\"adjClose\":0.286555},{\"timestamp\":1004918400000,\"adjClose\":0.29427},{\"timestamp\":1005004800000,\"adjClose\":0.301986},{\"timestamp\":1005091200000,\"adjClose\":0.302294},{\"timestamp\":1005177600000,\"adjClose\":0.288715},{\"timestamp\":1005264000000,\"adjClose\":0.288715},{\"timestamp\":1005523200000,\"adjClose\":0.289332},{\"timestamp\":1005609600000,\"adjClose\":0.2989},{\"timestamp\":1005696000000,\"adjClose\":0.302603},{\"timestamp\":1005782400000,\"adjClose\":0.300134},{\"timestamp\":1005868800000,\"adjClose\":0.292727},{\"timestamp\":1006128000000,\"adjClose\":0.308621},{\"timestamp\":1006214400000,\"adjClose\":0.301369},{\"timestamp\":1006300800000,\"adjClose\":0.303683},{\"timestamp\":1006473600000,\"adjClose\":0.306152},{\"timestamp\":1006732800000,\"adjClose\":0.329762},{\"timestamp\":1006819200000,\"adjClose\":0.324052},{\"timestamp\":1006905600000,\"adjClose\":0.3168},{\"timestamp\":1006992000000,\"adjClose\":0.315102},{\"timestamp\":1007078400000,\"adjClose\":0.328682},{\"timestamp\":1007337600000,\"adjClose\":0.324824},{\"timestamp\":1007424000000,\"adjClose\":0.345656},{\"timestamp\":1007510400000,\"adjClose\":0.366642},{\"timestamp\":1007596800000,\"adjClose\":0.351519},{\"timestamp\":1007683200000,\"adjClose\":0.347816},{\"timestamp\":1007942400000,\"adjClose\":0.347816},{\"timestamp\":1008028800000,\"adjClose\":0.336088},{\"timestamp\":1008115200000,\"adjClose\":0.331613},{\"timestamp\":1008201600000,\"adjClose\":0.324052},{\"timestamp\":1008288000000,\"adjClose\":0.314639},{\"timestamp\":1008547200000,\"adjClose\":0.318188},{\"timestamp\":1008633600000,\"adjClose\":0.324207},{\"timestamp\":1008720000000,\"adjClose\":0.333619},{\"timestamp\":1008806400000,\"adjClose\":0.31896},{\"timestamp\":1008892800000,\"adjClose\":0.324052},{\"timestamp\":1009152000000,\"adjClose\":0.329607},{\"timestamp\":1009324800000,\"adjClose\":0.331613},{\"timestamp\":1009411200000,\"adjClose\":0.340563},{\"timestamp\":1009497600000,\"adjClose\":0.346119},{\"timestamp\":1009756800000,\"adjClose\":0.33794},{\"timestamp\":1009929600000,\"adjClose\":0.359544},{\"timestamp\":1010016000000,\"adjClose\":0.363864},{\"timestamp\":1010102400000,\"adjClose\":0.365562},{\"timestamp\":1010361600000,\"adjClose\":0.353371},{\"timestamp\":1010448000000,\"adjClose\":0.348896},{\"timestamp\":1010534400000,\"adjClose\":0.334082},{\"timestamp\":1010620800000,\"adjClose\":0.327601},{\"timestamp\":1010707200000,\"adjClose\":0.324824},{\"timestamp\":1010966400000,\"adjClose\":0.326367},{\"timestamp\":1011052800000,\"adjClose\":0.334854},{\"timestamp\":1011139200000,\"adjClose\":0.320657},{\"timestamp\":1011225600000,\"adjClose\":0.34689},{\"timestamp\":1011312000000,\"adjClose\":0.342107},{\"timestamp\":1011657600000,\"adjClose\":0.336706},{\"timestamp\":1011744000000,\"adjClose\":0.355223},{\"timestamp\":1011830400000,\"adjClose\":0.358155},{\"timestamp\":1011916800000,\"adjClose\":0.358772},{\"timestamp\":1012176000000,\"adjClose\":0.359081},{\"timestamp\":1012262400000,\"adjClose\":0.355994},{\"timestamp\":1012348800000,\"adjClose\":0.371734},{\"timestamp\":1012435200000,\"adjClose\":0.381456},{\"timestamp\":1012521600000,\"adjClose\":0.376672},{\"timestamp\":1012780800000,\"adjClose\":0.391177},{\"timestamp\":1012867200000,\"adjClose\":0.39272},{\"timestamp\":1012953600000,\"adjClose\":0.380684},{\"timestamp\":1013040000000,\"adjClose\":0.374975},{\"timestamp\":1013126400000,\"adjClose\":0.370808},{\"timestamp\":1013385600000,\"adjClose\":0.385468},{\"timestamp\":1013472000000,\"adjClose\":0.381301},{\"timestamp\":1013558400000,\"adjClose\":0.385931},{\"timestamp\":1013644800000,\"adjClose\":0.379604},{\"timestamp\":1013731200000,\"adjClose\":0.368802},{\"timestamp\":1014076800000,\"adjClose\":0.349051},{\"timestamp\":1014163200000,\"adjClose\":0.35692},{\"timestamp\":1014249600000,\"adjClose\":0.331768},{\"timestamp\":1014336000000,\"adjClose\":0.350902},{\"timestamp\":1014595200000,\"adjClose\":0.367413},{\"timestamp\":1014681600000,\"adjClose\":0.365253},{\"timestamp\":1014768000000,\"adjClose\":0.338866},{\"timestamp\":1014854400000,\"adjClose\":0.334854},{\"timestamp\":1014940800000,\"adjClose\":0.361858},{\"timestamp\":1015200000000,\"adjClose\":0.37482},{\"timestamp\":1015286400000,\"adjClose\":0.363093},{\"timestamp\":1015372800000,\"adjClose\":0.371425},{\"timestamp\":1015459200000,\"adjClose\":0.376209},{\"timestamp\":1015545600000,\"adjClose\":0.38053},{\"timestamp\":1015804800000,\"adjClose\":0.386702},{\"timestamp\":1015891200000,\"adjClose\":0.381456},{\"timestamp\":1015977600000,\"adjClose\":0.377907},{\"timestamp\":1016064000000,\"adjClose\":0.376981},{\"timestamp\":1016150400000,\"adjClose\":0.385005},{\"timestamp\":1016409600000,\"adjClose\":0.381764},{\"timestamp\":1016496000000,\"adjClose\":0.383462},{\"timestamp\":1016582400000,\"adjClose\":0.384542},{\"timestamp\":1016668800000,\"adjClose\":0.374512},{\"timestamp\":1016755200000,\"adjClose\":0.371734},{\"timestamp\":1017014400000,\"adjClose\":0.360315},{\"timestamp\":1017100800000,\"adjClose\":0.362013},{\"timestamp\":1017187200000,\"adjClose\":0.362167},{\"timestamp\":1017273600000,\"adjClose\":0.365253},{\"timestamp\":1017619200000,\"adjClose\":0.377444},{\"timestamp\":1017705600000,\"adjClose\":0.371425},{\"timestamp\":1017792000000,\"adjClose\":0.366488},{\"timestamp\":1017878400000,\"adjClose\":0.384233},{\"timestamp\":1017964800000,\"adjClose\":0.381764},{\"timestamp\":1018224000000,\"adjClose\":0.378987},{\"timestamp\":1018310400000,\"adjClose\":0.371889},{\"timestamp\":1018396800000,\"adjClose\":0.38053},{\"timestamp\":1018483200000,\"adjClose\":0.383616},{\"timestamp\":1018569600000,\"adjClose\":0.386702},{\"timestamp\":1018828800000,\"adjClose\":0.385776},{\"timestamp\":1018915200000,\"adjClose\":0.397195},{\"timestamp\":1019001600000,\"adjClose\":0.402905},{\"timestamp\":1019088000000,\"adjClose\":0.392103},{\"timestamp\":1019174400000,\"adjClose\":0.385468},{\"timestamp\":1019433600000,\"adjClose\":0.378524},{\"timestamp\":1019520000000,\"adjClose\":0.374203},{\"timestamp\":1019606400000,\"adjClose\":0.366796},{\"timestamp\":1019692800000,\"adjClose\":0.372197},{\"timestamp\":1019779200000,\"adjClose\":0.355069},{\"timestamp\":1020038400000,\"adjClose\":0.369728},{\"timestamp\":1020124800000,\"adjClose\":0.374512},{\"timestamp\":1020211200000,\"adjClose\":0.370037},{\"timestamp\":1020297600000,\"adjClose\":0.365562},{\"timestamp\":1020384000000,\"adjClose\":0.362784},{\"timestamp\":1020643200000,\"adjClose\":0.349513},{\"timestamp\":1020729600000,\"adjClose\":0.346736},{\"timestamp\":1020816000000,\"adjClose\":0.376055},{\"timestamp\":1020902400000,\"adjClose\":0.373277},{\"timestamp\":1020988800000,\"adjClose\":0.359852},{\"timestamp\":1021248000000,\"adjClose\":0.369419},{\"timestamp\":1021334400000,\"adjClose\":0.395189},{\"timestamp\":1021420800000,\"adjClose\":0.390097},{\"timestamp\":1021507200000,\"adjClose\":0.389017},{\"timestamp\":1021593600000,\"adjClose\":0.385931},{\"timestamp\":1021852800000,\"adjClose\":0.381764},{\"timestamp\":1021939200000,\"adjClose\":0.362013},{\"timestamp\":1022025600000,\"adjClose\":0.375283},{\"timestamp\":1022112000000,\"adjClose\":0.388554},{\"timestamp\":1022198400000,\"adjClose\":0.37266},{\"timestamp\":1022544000000,\"adjClose\":0.370037},{\"timestamp\":1022630400000,\"adjClose\":0.370037},{\"timestamp\":1022716800000,\"adjClose\":0.373432},{\"timestamp\":1022803200000,\"adjClose\":0.359544},{\"timestamp\":1023062400000,\"adjClose\":0.353526},{\"timestamp\":1023148800000,\"adjClose\":0.351519},{\"timestamp\":1023235200000,\"adjClose\":0.350594},{\"timestamp\":1023321600000,\"adjClose\":0.341952},{\"timestamp\":1023408000000,\"adjClose\":0.330225},{\"timestamp\":1023667200000,\"adjClose\":0.331459},{\"timestamp\":1023753600000,\"adjClose\":0.315719},{\"timestamp\":1023840000000,\"adjClose\":0.31001},{\"timestamp\":1023926400000,\"adjClose\":0.301523},{\"timestamp\":1024012800000,\"adjClose\":0.310164},{\"timestamp\":1024272000000,\"adjClose\":0.316954},{\"timestamp\":1024358400000,\"adjClose\":0.310936},{\"timestamp\":1024444800000,\"adjClose\":0.26418},{\"timestamp\":1024531200000,\"adjClose\":0.264025},{\"timestamp\":1024617600000,\"adjClose\":0.260013},{\"timestamp\":1024876800000,\"adjClose\":0.266494},{\"timestamp\":1024963200000,\"adjClose\":0.264488},{\"timestamp\":1025049600000,\"adjClose\":0.255384},{\"timestamp\":1025136000000,\"adjClose\":0.263254},{\"timestamp\":1025222400000,\"adjClose\":0.273438},{\"timestamp\":1025481600000,\"adjClose\":0.263254},{\"timestamp\":1025568000000,\"adjClose\":0.261402},{\"timestamp\":1025654400000,\"adjClose\":0.270815},{\"timestamp\":1025827200000,\"adjClose\":0.289178},{\"timestamp\":1026086400000,\"adjClose\":0.277913},{\"timestamp\":1026172800000,\"adjClose\":0.270507},{\"timestamp\":1026259200000,\"adjClose\":0.267266},{\"timestamp\":1026345600000,\"adjClose\":0.282388},{\"timestamp\":1026432000000,\"adjClose\":0.270198},{\"timestamp\":1026691200000,\"adjClose\":0.281308},{\"timestamp\":1026777600000,\"adjClose\":0.275599},{\"timestamp\":1026864000000,\"adjClose\":0.241187},{\"timestamp\":1026950400000,\"adjClose\":0.231311},{\"timestamp\":1027036800000,\"adjClose\":0.230849},{\"timestamp\":1027296000000,\"adjClose\":0.230231},{\"timestamp\":1027382400000,\"adjClose\":0.223287},{\"timestamp\":1027468800000,\"adjClose\":0.234552},{\"timestamp\":1027555200000,\"adjClose\":0.22159},{\"timestamp\":1027641600000,\"adjClose\":0.221281},{\"timestamp\":1027900800000,\"adjClose\":0.231775},{\"timestamp\":1027987200000,\"adjClose\":0.238101},{\"timestamp\":1028073600000,\"adjClose\":0.235478},{\"timestamp\":1028160000000,\"adjClose\":0.22838},{\"timestamp\":1028246400000,\"adjClose\":0.222979},{\"timestamp\":1028505600000,\"adjClose\":0.21588},{\"timestamp\":1028592000000,\"adjClose\":0.227454},{\"timestamp\":1028678400000,\"adjClose\":0.231929},{\"timestamp\":1028764800000,\"adjClose\":0.236095},{\"timestamp\":1028851200000,\"adjClose\":0.231466},{\"timestamp\":1029110400000,\"adjClose\":0.231311},{\"timestamp\":1029196800000,\"adjClose\":0.225139},{\"timestamp\":1029283200000,\"adjClose\":0.234089},{\"timestamp\":1029369600000,\"adjClose\":0.240879},{\"timestamp\":1029456000000,\"adjClose\":0.243965},{\"timestamp\":1029715200000,\"adjClose\":0.246588},{\"timestamp\":1029801600000,\"adjClose\":0.245508},{\"timestamp\":1029888000000,\"adjClose\":0.248749},{\"timestamp\":1029974400000,\"adjClose\":0.246434},{\"timestamp\":1030060800000,\"adjClose\":0.24273},{\"timestamp\":1030320000000,\"adjClose\":0.239644},{\"timestamp\":1030406400000,\"adjClose\":0.229151},{\"timestamp\":1030492800000,\"adjClose\":0.226836},{\"timestamp\":1030579200000,\"adjClose\":0.226836},{\"timestamp\":1030665600000,\"adjClose\":0.227608},{\"timestamp\":1031011200000,\"adjClose\":0.216806},{\"timestamp\":1031097600000,\"adjClose\":0.223442},{\"timestamp\":1031184000000,\"adjClose\":0.218812},{\"timestamp\":1031270400000,\"adjClose\":0.221899},{\"timestamp\":1031529600000,\"adjClose\":0.221744},{\"timestamp\":1031616000000,\"adjClose\":0.221127},{\"timestamp\":1031702400000,\"adjClose\":0.22051},{\"timestamp\":1031788800000,\"adjClose\":0.218195},{\"timestamp\":1031875200000,\"adjClose\":0.218658},{\"timestamp\":1032134400000,\"adjClose\":0.22375},{\"timestamp\":1032220800000,\"adjClose\":0.22838},{\"timestamp\":1032307200000,\"adjClose\":0.231775},{\"timestamp\":1032393600000,\"adjClose\":0.224985},{\"timestamp\":1032480000000,\"adjClose\":0.22946},{\"timestamp\":1032739200000,\"adjClose\":0.229151},{\"timestamp\":1032825600000,\"adjClose\":0.225911},{\"timestamp\":1032912000000,\"adjClose\":0.230386},{\"timestamp\":1032998400000,\"adjClose\":0.226836},{\"timestamp\":1033084800000,\"adjClose\":0.227145},{\"timestamp\":1033344000000,\"adjClose\":0.22375},{\"timestamp\":1033430400000,\"adjClose\":0.223905},{\"timestamp\":1033516800000,\"adjClose\":0.218658},{\"timestamp\":1033603200000,\"adjClose\":0.220664},{\"timestamp\":1033689600000,\"adjClose\":0.216498},{\"timestamp\":1033948800000,\"adjClose\":0.212486},{\"timestamp\":1034035200000,\"adjClose\":0.211097},{\"timestamp\":1034121600000,\"adjClose\":0.209708},{\"timestamp\":1034208000000,\"adjClose\":0.217732},{\"timestamp\":1034294400000,\"adjClose\":0.223905},{\"timestamp\":1034553600000,\"adjClose\":0.227917},{\"timestamp\":1034640000000,\"adjClose\":0.233935},{\"timestamp\":1034726400000,\"adjClose\":0.224676},{\"timestamp\":1034812800000,\"adjClose\":0.217732},{\"timestamp\":1034899200000,\"adjClose\":0.221281},{\"timestamp\":1035158400000,\"adjClose\":0.224676},{\"timestamp\":1035244800000,\"adjClose\":0.226836},{\"timestamp\":1035331200000,\"adjClose\":0.229614},{\"timestamp\":1035417600000,\"adjClose\":0.226682},{\"timestamp\":1035504000000,\"adjClose\":0.237947},{\"timestamp\":1035763200000,\"adjClose\":0.240879},{\"timestamp\":1035849600000,\"adjClose\":0.238256},{\"timestamp\":1035936000000,\"adjClose\":0.246588},{\"timestamp\":1036022400000,\"adjClose\":0.247977},{\"timestamp\":1036108800000,\"adjClose\":0.252452},{\"timestamp\":1036368000000,\"adjClose\":0.260631},{\"timestamp\":1036454400000,\"adjClose\":0.260785},{\"timestamp\":1036540800000,\"adjClose\":0.265723},{\"timestamp\":1036627200000,\"adjClose\":0.246897},{\"timestamp\":1036713600000,\"adjClose\":0.244428},{\"timestamp\":1036972800000,\"adjClose\":0.233935},{\"timestamp\":1037059200000,\"adjClose\":0.241342},{\"timestamp\":1037145600000,\"adjClose\":0.24057},{\"timestamp\":1037232000000,\"adjClose\":0.251526},{\"timestamp\":1037318400000,\"adjClose\":0.246125},{\"timestamp\":1037577600000,\"adjClose\":0.241496},{\"timestamp\":1037664000000,\"adjClose\":0.235632},{\"timestamp\":1037750400000,\"adjClose\":0.239644},{\"timestamp\":1037836800000,\"adjClose\":0.252298},{\"timestamp\":1037923200000,\"adjClose\":0.247051},{\"timestamp\":1038182400000,\"adjClose\":0.246434},{\"timestamp\":1038268800000,\"adjClose\":0.237793},{\"timestamp\":1038355200000,\"adjClose\":0.242576},{\"timestamp\":1038528000000,\"adjClose\":0.239181},{\"timestamp\":1038787200000,\"adjClose\":0.234243},{\"timestamp\":1038873600000,\"adjClose\":0.233935},{\"timestamp\":1038960000000,\"adjClose\":0.231003},{\"timestamp\":1039046400000,\"adjClose\":0.225756},{\"timestamp\":1039132800000,\"adjClose\":0.230694},{\"timestamp\":1039392000000,\"adjClose\":0.227608},{\"timestamp\":1039478400000,\"adjClose\":0.235787},{\"timestamp\":1039564800000,\"adjClose\":0.239027},{\"timestamp\":1039651200000,\"adjClose\":0.234398},{\"timestamp\":1039737600000,\"adjClose\":0.228225},{\"timestamp\":1039996800000,\"adjClose\":0.229151},{\"timestamp\":1040083200000,\"adjClose\":0.2327},{\"timestamp\":1040169600000,\"adjClose\":0.22483},{\"timestamp\":1040256000000,\"adjClose\":0.219121},{\"timestamp\":1040342400000,\"adjClose\":0.218195},{\"timestamp\":1040601600000,\"adjClose\":0.223596},{\"timestamp\":1040688000000,\"adjClose\":0.22159},{\"timestamp\":1040860800000,\"adjClose\":0.222207},{\"timestamp\":1040947200000,\"adjClose\":0.216961},{\"timestamp\":1041206400000,\"adjClose\":0.217115},{\"timestamp\":1041292800000,\"adjClose\":0.221127},{\"timestamp\":1041465600000,\"adjClose\":0.22838},{\"timestamp\":1041552000000,\"adjClose\":0.229923},{\"timestamp\":1041811200000,\"adjClose\":0.229923},{\"timestamp\":1041897600000,\"adjClose\":0.229151},{\"timestamp\":1041984000000,\"adjClose\":0.224522},{\"timestamp\":1042070400000,\"adjClose\":0.226528},{\"timestamp\":1042156800000,\"adjClose\":0.227145},{\"timestamp\":1042416000000,\"adjClose\":0.225756},{\"timestamp\":1042502400000,\"adjClose\":0.225448},{\"timestamp\":1042588800000,\"adjClose\":0.22267},{\"timestamp\":1042675200000,\"adjClose\":0.225602},{\"timestamp\":1042761600000,\"adjClose\":0.217578},{\"timestamp\":1043107200000,\"adjClose\":0.216343},{\"timestamp\":1043193600000,\"adjClose\":0.214183},{\"timestamp\":1043280000000,\"adjClose\":0.218658},{\"timestamp\":1043366400000,\"adjClose\":0.212949},{\"timestamp\":1043625600000,\"adjClose\":0.218041},{\"timestamp\":1043712000000,\"adjClose\":0.224985},{\"timestamp\":1043798400000,\"adjClose\":0.230386},{\"timestamp\":1043884800000,\"adjClose\":0.220973},{\"timestamp\":1043971200000,\"adjClose\":0.22159},{\"timestamp\":1044230400000,\"adjClose\":0.226219},{\"timestamp\":1044316800000,\"adjClose\":0.225293},{\"timestamp\":1044403200000,\"adjClose\":0.222979},{\"timestamp\":1044489600000,\"adjClose\":0.22267},{\"timestamp\":1044576000000,\"adjClose\":0.218349},{\"timestamp\":1044835200000,\"adjClose\":0.221436},{\"timestamp\":1044921600000,\"adjClose\":0.221436},{\"timestamp\":1045008000000,\"adjClose\":0.222053},{\"timestamp\":1045094400000,\"adjClose\":0.224368},{\"timestamp\":1045180800000,\"adjClose\":0.226374},{\"timestamp\":1045526400000,\"adjClose\":0.235632},{\"timestamp\":1045612800000,\"adjClose\":0.229151},{\"timestamp\":1045699200000,\"adjClose\":0.227917},{\"timestamp\":1045785600000,\"adjClose\":0.231466},{\"timestamp\":1046044800000,\"adjClose\":0.227454},{\"timestamp\":1046131200000,\"adjClose\":0.231775},{\"timestamp\":1046217600000,\"adjClose\":0.22375},{\"timestamp\":1046304000000,\"adjClose\":0.229305},{\"timestamp\":1046390400000,\"adjClose\":0.23162},{\"timestamp\":1046649600000,\"adjClose\":0.226065},{\"timestamp\":1046736000000,\"adjClose\":0.224676},{\"timestamp\":1046822400000,\"adjClose\":0.225602},{\"timestamp\":1046908800000,\"adjClose\":0.224676},{\"timestamp\":1046995200000,\"adjClose\":0.224213},{\"timestamp\":1047254400000,\"adjClose\":0.221744},{\"timestamp\":1047340800000,\"adjClose\":0.219584},{\"timestamp\":1047427200000,\"adjClose\":0.21943},{\"timestamp\":1047513600000,\"adjClose\":0.227145},{\"timestamp\":1047600000000,\"adjClose\":0.228071},{\"timestamp\":1047859200000,\"adjClose\":0.23162},{\"timestamp\":1047945600000,\"adjClose\":0.231466},{\"timestamp\":1048032000000,\"adjClose\":0.230694},{\"timestamp\":1048118400000,\"adjClose\":0.230077},{\"timestamp\":1048204800000,\"adjClose\":0.231466},{\"timestamp\":1048464000000,\"adjClose\":0.221744},{\"timestamp\":1048550400000,\"adjClose\":0.224522},{\"timestamp\":1048636800000,\"adjClose\":0.222362},{\"timestamp\":1048723200000,\"adjClose\":0.223596},{\"timestamp\":1048809600000,\"adjClose\":0.22483},{\"timestamp\":1049068800000,\"adjClose\":0.218195},{\"timestamp\":1049155200000,\"adjClose\":0.218504},{\"timestamp\":1049241600000,\"adjClose\":0.225293},{\"timestamp\":1049328000000,\"adjClose\":0.223133},{\"timestamp\":1049414400000,\"adjClose\":0.222362},{\"timestamp\":1049673600000,\"adjClose\":0.223596},{\"timestamp\":1049760000000,\"adjClose\":0.222979},{\"timestamp\":1049846400000,\"adjClose\":0.218967},{\"timestamp\":1049932800000,\"adjClose\":0.221744},{\"timestamp\":1050019200000,\"adjClose\":0.20369},{\"timestamp\":1050278400000,\"adjClose\":0.209554},{\"timestamp\":1050364800000,\"adjClose\":0.206622},{\"timestamp\":1050451200000,\"adjClose\":0.204307},{\"timestamp\":1050537600000,\"adjClose\":0.202455},{\"timestamp\":1050883200000,\"adjClose\":0.202764},{\"timestamp\":1050969600000,\"adjClose\":0.208474},{\"timestamp\":1051056000000,\"adjClose\":0.209554},{\"timestamp\":1051142400000,\"adjClose\":0.207393},{\"timestamp\":1051228800000,\"adjClose\":0.206005},{\"timestamp\":1051488000000,\"adjClose\":0.213874},{\"timestamp\":1051574400000,\"adjClose\":0.216961},{\"timestamp\":1051660800000,\"adjClose\":0.21943},{\"timestamp\":1051747200000,\"adjClose\":0.22159},{\"timestamp\":1051833600000,\"adjClose\":0.222979},{\"timestamp\":1052092800000,\"adjClose\":0.248286},{\"timestamp\":1052179200000,\"adjClose\":0.270044},{\"timestamp\":1052265600000,\"adjClose\":0.272358},{\"timestamp\":1052352000000,\"adjClose\":0.277759},{\"timestamp\":1052438400000,\"adjClose\":0.282388},{\"timestamp\":1052697600000,\"adjClose\":0.2864},{\"timestamp\":1052784000000,\"adjClose\":0.288098},{\"timestamp\":1052870400000,\"adjClose\":0.286246},{\"timestamp\":1052956800000,\"adjClose\":0.289024},{\"timestamp\":1053043200000,\"adjClose\":0.290104},{\"timestamp\":1053302400000,\"adjClose\":0.279302},{\"timestamp\":1053388800000,\"adjClose\":0.274518},{\"timestamp\":1053475200000,\"adjClose\":0.275444},{\"timestamp\":1053561600000,\"adjClose\":0.281462},{\"timestamp\":1053648000000,\"adjClose\":0.282697},{\"timestamp\":1053993600000,\"adjClose\":0.291339},{\"timestamp\":1054080000000,\"adjClose\":0.28208},{\"timestamp\":1054166400000,\"adjClose\":0.279302},{\"timestamp\":1054252800000,\"adjClose\":0.276987},{\"timestamp\":1054512000000,\"adjClose\":0.269272},{\"timestamp\":1054598400000,\"adjClose\":0.267112},{\"timestamp\":1054684800000,\"adjClose\":0.271587},{\"timestamp\":1054771200000,\"adjClose\":0.272204},{\"timestamp\":1054857600000,\"adjClose\":0.264643},{\"timestamp\":1055116800000,\"adjClose\":0.259087},{\"timestamp\":1055203200000,\"adjClose\":0.265106},{\"timestamp\":1055289600000,\"adjClose\":0.269272},{\"timestamp\":1055376000000,\"adjClose\":0.27421},{\"timestamp\":1055462400000,\"adjClose\":0.268809},{\"timestamp\":1055721600000,\"adjClose\":0.281925},{\"timestamp\":1055808000000,\"adjClose\":0.280691},{\"timestamp\":1055894400000,\"adjClose\":0.295042},{\"timestamp\":1055980800000,\"adjClose\":0.29535},{\"timestamp\":1056067200000,\"adjClose\":0.296276},{\"timestamp\":1056326400000,\"adjClose\":0.294116},{\"timestamp\":1056412800000,\"adjClose\":0.289795},{\"timestamp\":1056499200000,\"adjClose\":0.294579},{\"timestamp\":1056585600000,\"adjClose\":0.297665},{\"timestamp\":1056672000000,\"adjClose\":0.289024},{\"timestamp\":1056931200000,\"adjClose\":0.294116},{\"timestamp\":1057017600000,\"adjClose\":0.294579},{\"timestamp\":1057104000000,\"adjClose\":0.297357},{\"timestamp\":1057190400000,\"adjClose\":0.295196},{\"timestamp\":1057536000000,\"adjClose\":0.306615},{\"timestamp\":1057622400000,\"adjClose\":0.314794},{\"timestamp\":1057708800000,\"adjClose\":0.306924},{\"timestamp\":1057795200000,\"adjClose\":0.30214},{\"timestamp\":1057881600000,\"adjClose\":0.306307},{\"timestamp\":1058140800000,\"adjClose\":0.307078},{\"timestamp\":1058227200000,\"adjClose\":0.302603},{\"timestamp\":1058313600000,\"adjClose\":0.306615},{\"timestamp\":1058400000000,\"adjClose\":0.322509},{\"timestamp\":1058486400000,\"adjClose\":0.321892},{\"timestamp\":1058745600000,\"adjClose\":0.318034},{\"timestamp\":1058832000000,\"adjClose\":0.320966},{\"timestamp\":1058918400000,\"adjClose\":0.320812},{\"timestamp\":1059004800000,\"adjClose\":0.316491},{\"timestamp\":1059091200000,\"adjClose\":0.332385},{\"timestamp\":1059350400000,\"adjClose\":0.323898},{\"timestamp\":1059436800000,\"adjClose\":0.319731},{\"timestamp\":1059523200000,\"adjClose\":0.312942},{\"timestamp\":1059609600000,\"adjClose\":0.325287},{\"timestamp\":1059696000000,\"adjClose\":0.319886},{\"timestamp\":1059955200000,\"adjClose\":0.327293},{\"timestamp\":1060041600000,\"adjClose\":0.314485},{\"timestamp\":1060128000000,\"adjClose\":0.302912},{\"timestamp\":1060214400000,\"adjClose\":0.307541},{\"timestamp\":1060300800000,\"adjClose\":0.303066},{\"timestamp\":1060560000000,\"adjClose\":0.303375},{\"timestamp\":1060646400000,\"adjClose\":0.303992},{\"timestamp\":1060732800000,\"adjClose\":0.311399},{\"timestamp\":1060819200000,\"adjClose\":0.308158},{\"timestamp\":1060905600000,\"adjClose\":0.304146},{\"timestamp\":1061164800000,\"adjClose\":0.313868},{\"timestamp\":1061251200000,\"adjClose\":0.313559},{\"timestamp\":1061337600000,\"adjClose\":0.324207},{\"timestamp\":1061424000000,\"adjClose\":0.334545},{\"timestamp\":1061510400000,\"adjClose\":0.3222},{\"timestamp\":1061769600000,\"adjClose\":0.321892},{\"timestamp\":1061856000000,\"adjClose\":0.324824},{\"timestamp\":1061942400000,\"adjClose\":0.331459},{\"timestamp\":1062028800000,\"adjClose\":0.342415},{\"timestamp\":1062115200000,\"adjClose\":0.348896},{\"timestamp\":1062460800000,\"adjClose\":0.3526},{\"timestamp\":1062547200000,\"adjClose\":0.354143},{\"timestamp\":1062633600000,\"adjClose\":0.352291},{\"timestamp\":1062720000000,\"adjClose\":0.347199},{\"timestamp\":1062979200000,\"adjClose\":0.350902},{\"timestamp\":1063065600000,\"adjClose\":0.345193},{\"timestamp\":1063152000000,\"adjClose\":0.342261},{\"timestamp\":1063238400000,\"adjClose\":0.348125},{\"timestamp\":1063324800000,\"adjClose\":0.356457},{\"timestamp\":1063584000000,\"adjClose\":0.342724},{\"timestamp\":1063670400000,\"adjClose\":0.345038},{\"timestamp\":1063756800000,\"adjClose\":0.341335},{\"timestamp\":1063843200000,\"adjClose\":0.353063},{\"timestamp\":1063929600000,\"adjClose\":0.348433},{\"timestamp\":1064188800000,\"adjClose\":0.340718},{\"timestamp\":1064275200000,\"adjClose\":0.346119},{\"timestamp\":1064361600000,\"adjClose\":0.32899},{\"timestamp\":1064448000000,\"adjClose\":0.315257},{\"timestamp\":1064534400000,\"adjClose\":0.319269},{\"timestamp\":1064793600000,\"adjClose\":0.328682},{\"timestamp\":1064880000000,\"adjClose\":0.319731},{\"timestamp\":1064966400000,\"adjClose\":0.320812},{\"timestamp\":1065052800000,\"adjClose\":0.317417},{\"timestamp\":1065139200000,\"adjClose\":0.3347},{\"timestamp\":1065398400000,\"adjClose\":0.343958},{\"timestamp\":1065484800000,\"adjClose\":0.358309},{\"timestamp\":1065571200000,\"adjClose\":0.35584},{\"timestamp\":1065657600000,\"adjClose\":0.361858},{\"timestamp\":1065744000000,\"adjClose\":0.365407},{\"timestamp\":1066003200000,\"adjClose\":0.375746},{\"timestamp\":1066089600000,\"adjClose\":0.378832},{\"timestamp\":1066176000000,\"adjClose\":0.382999},{\"timestamp\":1066262400000,\"adjClose\":0.358772},{\"timestamp\":1066348800000,\"adjClose\":0.351057},{\"timestamp\":1066608000000,\"adjClose\":0.358309},{\"timestamp\":1066694400000,\"adjClose\":0.357692},{\"timestamp\":1066780800000,\"adjClose\":0.351211},{\"timestamp\":1066867200000,\"adjClose\":0.35476},{\"timestamp\":1066953600000,\"adjClose\":0.348742},{\"timestamp\":1067212800000,\"adjClose\":0.348742},{\"timestamp\":1067299200000,\"adjClose\":0.366025},{\"timestamp\":1067385600000,\"adjClose\":0.365562},{\"timestamp\":1067472000000,\"adjClose\":0.356303},{\"timestamp\":1067558400000,\"adjClose\":0.353217},{\"timestamp\":1067817600000,\"adjClose\":0.357229},{\"timestamp\":1067904000000,\"adjClose\":0.353526},{\"timestamp\":1067990400000,\"adjClose\":0.355377},{\"timestamp\":1068076800000,\"adjClose\":0.356766},{\"timestamp\":1068163200000,\"adjClose\":0.347199},{\"timestamp\":1068422400000,\"adjClose\":0.33794},{\"timestamp\":1068508800000,\"adjClose\":0.332385},{\"timestamp\":1068595200000,\"adjClose\":0.344576},{\"timestamp\":1068681600000,\"adjClose\":0.345964},{\"timestamp\":1068768000000,\"adjClose\":0.331151},{\"timestamp\":1069027200000,\"adjClose\":0.326058},{\"timestamp\":1069113600000,\"adjClose\":0.314948},{\"timestamp\":1069200000000,\"adjClose\":0.315102},{\"timestamp\":1069286400000,\"adjClose\":0.314485},{\"timestamp\":1069372800000,\"adjClose\":0.312942},{\"timestamp\":1069632000000,\"adjClose\":0.326367},{\"timestamp\":1069718400000,\"adjClose\":0.319114},{\"timestamp\":1069804800000,\"adjClose\":0.319731},{\"timestamp\":1069977600000,\"adjClose\":0.322663},{\"timestamp\":1070236800000,\"adjClose\":0.335008},{\"timestamp\":1070323200000,\"adjClose\":0.332385},{\"timestamp\":1070409600000,\"adjClose\":0.324515},{\"timestamp\":1070496000000,\"adjClose\":0.326367},{\"timestamp\":1070582400000,\"adjClose\":0.321738},{\"timestamp\":1070841600000,\"adjClose\":0.324824},{\"timestamp\":1070928000000,\"adjClose\":0.315565},{\"timestamp\":1071014400000,\"adjClose\":0.314485},{\"timestamp\":1071100800000,\"adjClose\":0.327293},{\"timestamp\":1071187200000,\"adjClose\":0.322355},{\"timestamp\":1071446400000,\"adjClose\":0.311244},{\"timestamp\":1071532800000,\"adjClose\":0.310473},{\"timestamp\":1071619200000,\"adjClose\":0.306769},{\"timestamp\":1071705600000,\"adjClose\":0.309238},{\"timestamp\":1071792000000,\"adjClose\":0.303992},{\"timestamp\":1072051200000,\"adjClose\":0.306307},{\"timestamp\":1072137600000,\"adjClose\":0.305689},{\"timestamp\":1072224000000,\"adjClose\":0.314948},{\"timestamp\":1072396800000,\"adjClose\":0.320657},{\"timestamp\":1072656000000,\"adjClose\":0.326367},{\"timestamp\":1072742400000,\"adjClose\":0.328373},{\"timestamp\":1072828800000,\"adjClose\":0.329762},{\"timestamp\":1073001600000,\"adjClose\":0.328373},{\"timestamp\":1073260800000,\"adjClose\":0.342107},{\"timestamp\":1073347200000,\"adjClose\":0.340872},{\"timestamp\":1073433600000,\"adjClose\":0.348588},{\"timestamp\":1073520000000,\"adjClose\":0.360469},{\"timestamp\":1073606400000,\"adjClose\":0.354914},{\"timestamp\":1073865600000,\"adjClose\":0.366179},{\"timestamp\":1073952000000,\"adjClose\":0.372197},{\"timestamp\":1074038400000,\"adjClose\":0.373432},{\"timestamp\":1074124800000,\"adjClose\":0.3526},{\"timestamp\":1074211200000,\"adjClose\":0.350594},{\"timestamp\":1074556800000,\"adjClose\":0.350748},{\"timestamp\":1074643200000,\"adjClose\":0.348896},{\"timestamp\":1074729600000,\"adjClose\":0.342261},{\"timestamp\":1074816000000,\"adjClose\":0.348125},{\"timestamp\":1075075200000,\"adjClose\":0.355069},{\"timestamp\":1075161600000,\"adjClose\":0.355994},{\"timestamp\":1075248000000,\"adjClose\":0.347507},{\"timestamp\":1075334400000,\"adjClose\":0.349976},{\"timestamp\":1075420800000,\"adjClose\":0.348125},{\"timestamp\":1075680000000,\"adjClose\":0.344421},{\"timestamp\":1075766400000,\"adjClose\":0.343495},{\"timestamp\":1075852800000,\"adjClose\":0.336243},{\"timestamp\":1075939200000,\"adjClose\":0.345964},{\"timestamp\":1076025600000,\"adjClose\":0.350439},{\"timestamp\":1076284800000,\"adjClose\":0.349822},{\"timestamp\":1076371200000,\"adjClose\":0.354606},{\"timestamp\":1076457600000,\"adjClose\":0.367259},{\"timestamp\":1076544000000,\"adjClose\":0.366179},{\"timestamp\":1076630400000,\"adjClose\":0.354914},{\"timestamp\":1076976000000,\"adjClose\":0.357383},{\"timestamp\":1077062400000,\"adjClose\":0.358926},{\"timestamp\":1077148800000,\"adjClose\":0.346736},{\"timestamp\":1077235200000,\"adjClose\":0.345656},{\"timestamp\":1077494400000,\"adjClose\":0.342415},{\"timestamp\":1077580800000,\"adjClose\":0.345038},{\"timestamp\":1077667200000,\"adjClose\":0.351982},{\"timestamp\":1077753600000,\"adjClose\":0.355532},{\"timestamp\":1077840000000,\"adjClose\":0.369111},{\"timestamp\":1078099200000,\"adjClose\":0.370654},{\"timestamp\":1078185600000,\"adjClose\":0.367413},{\"timestamp\":1078272000000,\"adjClose\":0.369111},{\"timestamp\":1078358400000,\"adjClose\":0.388245},{\"timestamp\":1078444800000,\"adjClose\":0.412626},{\"timestamp\":1078704000000,\"adjClose\":0.401208},{\"timestamp\":1078790400000,\"adjClose\":0.418182},{\"timestamp\":1078876800000,\"adjClose\":0.427132},{\"timestamp\":1078963200000,\"adjClose\":0.418953},{\"timestamp\":1079049600000,\"adjClose\":0.42528},{\"timestamp\":1079308800000,\"adjClose\":0.408151},{\"timestamp\":1079395200000,\"adjClose\":0.39843},{\"timestamp\":1079481600000,\"adjClose\":0.404139},{\"timestamp\":1079568000000,\"adjClose\":0.396115},{\"timestamp\":1079654400000,\"adjClose\":0.399047},{\"timestamp\":1079913600000,\"adjClose\":0.399047},{\"timestamp\":1080000000000,\"adjClose\":0.390251},{\"timestamp\":1080086400000,\"adjClose\":0.393492},{\"timestamp\":1080172800000,\"adjClose\":0.414632},{\"timestamp\":1080259200000,\"adjClose\":0.417256},{\"timestamp\":1080518400000,\"adjClose\":0.430681},{\"timestamp\":1080604800000,\"adjClose\":0.430835},{\"timestamp\":1080691200000,\"adjClose\":0.417256},{\"timestamp\":1080777600000,\"adjClose\":0.418336},{\"timestamp\":1080864000000,\"adjClose\":0.424354},{\"timestamp\":1081123200000,\"adjClose\":0.437008},{\"timestamp\":1081209600000,\"adjClose\":0.429446},{\"timestamp\":1081296000000,\"adjClose\":0.421422},{\"timestamp\":1081382400000,\"adjClose\":0.424817},{\"timestamp\":1081728000000,\"adjClose\":0.432687},{\"timestamp\":1081814400000,\"adjClose\":0.415558},{\"timestamp\":1081900800000,\"adjClose\":0.411083},{\"timestamp\":1081987200000,\"adjClose\":0.45213},{\"timestamp\":1082073600000,\"adjClose\":0.450278},{\"timestamp\":1082332800000,\"adjClose\":0.437471},{\"timestamp\":1082419200000,\"adjClose\":0.427903},{\"timestamp\":1082505600000,\"adjClose\":0.427903},{\"timestamp\":1082592000000,\"adjClose\":0.428675},{\"timestamp\":1082678400000,\"adjClose\":0.42744},{\"timestamp\":1082937600000,\"adjClose\":0.418645},{\"timestamp\":1083024000000,\"adjClose\":0.415713},{\"timestamp\":1083110400000,\"adjClose\":0.408151},{\"timestamp\":1083196800000,\"adjClose\":0.413089},{\"timestamp\":1083283200000,\"adjClose\":0.397813},{\"timestamp\":1083542400000,\"adjClose\":0.402288},{\"timestamp\":1083628800000,\"adjClose\":0.403368},{\"timestamp\":1083715200000,\"adjClose\":0.411238},{\"timestamp\":1083801600000,\"adjClose\":0.410157},{\"timestamp\":1083888000000,\"adjClose\":0.411546},{\"timestamp\":1084147200000,\"adjClose\":0.405528},{\"timestamp\":1084233600000,\"adjClose\":0.418799},{\"timestamp\":1084320000000,\"adjClose\":0.421268},{\"timestamp\":1084406400000,\"adjClose\":0.41957},{\"timestamp\":1084492800000,\"adjClose\":0.417564},{\"timestamp\":1084752000000,\"adjClose\":0.411083},{\"timestamp\":1084838400000,\"adjClose\":0.417564},{\"timestamp\":1084924800000,\"adjClose\":0.40846},{\"timestamp\":1085011200000,\"adjClose\":0.412163},{\"timestamp\":1085097600000,\"adjClose\":0.418336},{\"timestamp\":1085356800000,\"adjClose\":0.421885},{\"timestamp\":1085443200000,\"adjClose\":0.438396},{\"timestamp\":1085529600000,\"adjClose\":0.439939},{\"timestamp\":1085616000000,\"adjClose\":0.434693},{\"timestamp\":1085702400000,\"adjClose\":0.432996},{\"timestamp\":1086048000000,\"adjClose\":0.432996},{\"timestamp\":1086134400000,\"adjClose\":0.446266},{\"timestamp\":1086220800000,\"adjClose\":0.438242},{\"timestamp\":1086307200000,\"adjClose\":0.444106},{\"timestamp\":1086566400000,\"adjClose\":0.46},{\"timestamp\":1086652800000,\"adjClose\":0.468333},{\"timestamp\":1086739200000,\"adjClose\":0.466018},{\"timestamp\":1086825600000,\"adjClose\":0.474351},{\"timestamp\":1087171200000,\"adjClose\":0.464784},{\"timestamp\":1087257600000,\"adjClose\":0.473579},{\"timestamp\":1087344000000,\"adjClose\":0.505213},{\"timestamp\":1087430400000,\"adjClose\":0.506293},{\"timestamp\":1087516800000,\"adjClose\":0.507836},{\"timestamp\":1087776000000,\"adjClose\":0.498886},{\"timestamp\":1087862400000,\"adjClose\":0.509225},{\"timestamp\":1087948800000,\"adjClose\":0.520026},{\"timestamp\":1088035200000,\"adjClose\":0.512002},{\"timestamp\":1088121600000,\"adjClose\":0.520026},{\"timestamp\":1088380800000,\"adjClose\":0.501355},{\"timestamp\":1088467200000,\"adjClose\":0.501509},{\"timestamp\":1088553600000,\"adjClose\":0.502127},{\"timestamp\":1088640000000,\"adjClose\":0.498423},{\"timestamp\":1088726400000,\"adjClose\":0.479597},{\"timestamp\":1089072000000,\"adjClose\":0.477591},{\"timestamp\":1089158400000,\"adjClose\":0.46895},{\"timestamp\":1089244800000,\"adjClose\":0.465092},{\"timestamp\":1089331200000,\"adjClose\":0.463395},{\"timestamp\":1089590400000,\"adjClose\":0.449661},{\"timestamp\":1089676800000,\"adjClose\":0.450895},{\"timestamp\":1089763200000,\"adjClose\":0.456451},{\"timestamp\":1089849600000,\"adjClose\":0.508145},{\"timestamp\":1089936000000,\"adjClose\":0.49688},{\"timestamp\":1090195200000,\"adjClose\":0.493331},{\"timestamp\":1090281600000,\"adjClose\":0.49688},{\"timestamp\":1090368000000,\"adjClose\":0.48793},{\"timestamp\":1090454400000,\"adjClose\":0.488856},{\"timestamp\":1090540800000,\"adjClose\":0.473734},{\"timestamp\":1090800000000,\"adjClose\":0.482375},{\"timestamp\":1090886400000,\"adjClose\":0.500429},{\"timestamp\":1090972800000,\"adjClose\":0.49796},{\"timestamp\":1091059200000,\"adjClose\":0.50367},{\"timestamp\":1091145600000,\"adjClose\":0.49904},{\"timestamp\":1091404800000,\"adjClose\":0.487313},{\"timestamp\":1091491200000,\"adjClose\":0.482838},{\"timestamp\":1091577600000,\"adjClose\":0.490553},{\"timestamp\":1091664000000,\"adjClose\":0.484381},{\"timestamp\":1091750400000,\"adjClose\":0.459537},{\"timestamp\":1092009600000,\"adjClose\":0.467561},{\"timestamp\":1092096000000,\"adjClose\":0.486387},{\"timestamp\":1092182400000,\"adjClose\":0.478517},{\"timestamp\":1092268800000,\"adjClose\":0.468641},{\"timestamp\":1092355200000,\"adjClose\":0.475894},{\"timestamp\":1092614400000,\"adjClose\":0.474968},{\"timestamp\":1092700800000,\"adjClose\":0.476357},{\"timestamp\":1092787200000,\"adjClose\":0.489782},{\"timestamp\":1092873600000,\"adjClose\":0.473888},{\"timestamp\":1092960000000,\"adjClose\":0.475277},{\"timestamp\":1093219200000,\"adjClose\":0.479597},{\"timestamp\":1093305600000,\"adjClose\":0.493022},{\"timestamp\":1093392000000,\"adjClose\":0.509996},{\"timestamp\":1093478400000,\"adjClose\":0.53484},{\"timestamp\":1093564800000,\"adjClose\":0.530057},{\"timestamp\":1093824000000,\"adjClose\":0.526508},{\"timestamp\":1093910400000,\"adjClose\":0.532217},{\"timestamp\":1093996800000,\"adjClose\":0.553358},{\"timestamp\":1094083200000,\"adjClose\":0.550271},{\"timestamp\":1094169600000,\"adjClose\":0.543636},{\"timestamp\":1094515200000,\"adjClose\":0.551815},{\"timestamp\":1094601600000,\"adjClose\":0.560919},{\"timestamp\":1094688000000,\"adjClose\":0.550889},{\"timestamp\":1094774400000,\"adjClose\":0.553512},{\"timestamp\":1095033600000,\"adjClose\":0.549191},{\"timestamp\":1095120000000,\"adjClose\":0.547648},{\"timestamp\":1095206400000,\"adjClose\":0.543173},{\"timestamp\":1095292800000,\"adjClose\":0.560919},{\"timestamp\":1095379200000,\"adjClose\":0.573109},{\"timestamp\":1095638400000,\"adjClose\":0.581905},{\"timestamp\":1095724800000,\"adjClose\":0.586534},{\"timestamp\":1095811200000,\"adjClose\":0.569715},{\"timestamp\":1095897600000,\"adjClose\":0.575116},{\"timestamp\":1095984000000,\"adjClose\":0.575424},{\"timestamp\":1096243200000,\"adjClose\":0.579128},{\"timestamp\":1096329600000,\"adjClose\":0.586997},{\"timestamp\":1096416000000,\"adjClose\":0.596873},{\"timestamp\":1096502400000,\"adjClose\":0.597953},{\"timestamp\":1096588800000,\"adjClose\":0.596719},{\"timestamp\":1096848000000,\"adjClose\":0.598571},{\"timestamp\":1096934400000,\"adjClose\":0.607521},{\"timestamp\":1097020800000,\"adjClose\":0.627118},{\"timestamp\":1097107200000,\"adjClose\":0.611378},{\"timestamp\":1097193600000,\"adjClose\":0.602737},{\"timestamp\":1097452800000,\"adjClose\":0.595485},{\"timestamp\":1097539200000,\"adjClose\":0.590855},{\"timestamp\":1097625600000,\"adjClose\":0.613384},{\"timestamp\":1097712000000,\"adjClose\":0.694089},{\"timestamp\":1097798400000,\"adjClose\":0.702113},{\"timestamp\":1098057600000,\"adjClose\":0.736833},{\"timestamp\":1098144000000,\"adjClose\":0.731741},{\"timestamp\":1098230400000,\"adjClose\":0.732512},{\"timestamp\":1098316800000,\"adjClose\":0.739765},{\"timestamp\":1098403200000,\"adjClose\":0.731586},{\"timestamp\":1098662400000,\"adjClose\":0.733747},{\"timestamp\":1098748800000,\"adjClose\":0.740228},{\"timestamp\":1098835200000,\"adjClose\":0.776182},{\"timestamp\":1098921600000,\"adjClose\":0.805347},{\"timestamp\":1099008000000,\"adjClose\":0.808587},{\"timestamp\":1099267200000,\"adjClose\":0.809359},{\"timestamp\":1099353600000,\"adjClose\":0.825561},{\"timestamp\":1099440000000,\"adjClose\":0.853492},{\"timestamp\":1099526400000,\"adjClose\":0.840221},{\"timestamp\":1099612800000,\"adjClose\":0.844387},{\"timestamp\":1099872000000,\"adjClose\":0.839141},{\"timestamp\":1099958400000,\"adjClose\":0.834049},{\"timestamp\":1100044800000,\"adjClose\":0.84485},{\"timestamp\":1100131200000,\"adjClose\":0.853337},{\"timestamp\":1100217600000,\"adjClose\":0.856424},{\"timestamp\":1100476800000,\"adjClose\":0.852412},{\"timestamp\":1100563200000,\"adjClose\":0.847782},{\"timestamp\":1100649600000,\"adjClose\":0.847165},{\"timestamp\":1100736000000,\"adjClose\":0.854726},{\"timestamp\":1100822400000,\"adjClose\":0.851331},{\"timestamp\":1101081600000,\"adjClose\":0.946695},{\"timestamp\":1101168000000,\"adjClose\":0.945461},{\"timestamp\":1101254400000,\"adjClose\":0.988359},{\"timestamp\":1101427200000,\"adjClose\":0.996075},{\"timestamp\":1101686400000,\"adjClose\":1.056101},{\"timestamp\":1101772800000,\"adjClose\":1.034653},{\"timestamp\":1101859200000,\"adjClose\":1.046071},{\"timestamp\":1101945600000,\"adjClose\":1.006259},{\"timestamp\":1102032000000,\"adjClose\":0.967219},{\"timestamp\":1102291200000,\"adjClose\":1.015055},{\"timestamp\":1102377600000,\"adjClose\":0.970459},{\"timestamp\":1102464000000,\"adjClose\":0.976477},{\"timestamp\":1102550400000,\"adjClose\":0.987434},{\"timestamp\":1102636800000,\"adjClose\":1.005333},{\"timestamp\":1102896000000,\"adjClose\":1.00163},{\"timestamp\":1102982400000,\"adjClose\":1.007494},{\"timestamp\":1103068800000,\"adjClose\":1.007031},{\"timestamp\":1103155200000,\"adjClose\":1.027708},{\"timestamp\":1103241600000,\"adjClose\":1.002864},{\"timestamp\":1103500800000,\"adjClose\":0.967836},{\"timestamp\":1103587200000,\"adjClose\":0.982804},{\"timestamp\":1103673600000,\"adjClose\":0.98373},{\"timestamp\":1103760000000,\"adjClose\":0.987742},{\"timestamp\":1104105600000,\"adjClose\":0.974626},{\"timestamp\":1104192000000,\"adjClose\":0.990365},{\"timestamp\":1104278400000,\"adjClose\":0.994377},{\"timestamp\":1104364800000,\"adjClose\":0.999932},{\"timestamp\":1104451200000,\"adjClose\":0.99376},{\"timestamp\":1104710400000,\"adjClose\":0.976632},{\"timestamp\":1104796800000,\"adjClose\":0.986662},{\"timestamp\":1104883200000,\"adjClose\":0.995303},{\"timestamp\":1104969600000,\"adjClose\":0.996075},{\"timestamp\":1105056000000,\"adjClose\":1.0686},{\"timestamp\":1105315200000,\"adjClose\":1.064126},{\"timestamp\":1105401600000,\"adjClose\":0.996229},{\"timestamp\":1105488000000,\"adjClose\":1.010117},{\"timestamp\":1105574400000,\"adjClose\":1.077088},{\"timestamp\":1105660800000,\"adjClose\":1.08326},{\"timestamp\":1106006400000,\"adjClose\":1.090204},{\"timestamp\":1106092800000,\"adjClose\":1.078322},{\"timestamp\":1106179200000,\"adjClose\":1.087272},{\"timestamp\":1106265600000,\"adjClose\":1.087735},{\"timestamp\":1106524800000,\"adjClose\":1.091902},{\"timestamp\":1106611200000,\"adjClose\":1.111808},{\"timestamp\":1106697600000,\"adjClose\":1.114894},{\"timestamp\":1106784000000,\"adjClose\":1.120912},{\"timestamp\":1106870400000,\"adjClose\":1.14159},{\"timestamp\":1107129600000,\"adjClose\":1.186648},{\"timestamp\":1107216000000,\"adjClose\":1.19637},{\"timestamp\":1107302400000,\"adjClose\":1.228775},{\"timestamp\":1107388800000,\"adjClose\":1.200691},{\"timestamp\":1107475200000,\"adjClose\":1.216584},{\"timestamp\":1107734400000,\"adjClose\":1.218127},{\"timestamp\":1107820800000,\"adjClose\":1.248373},{\"timestamp\":1107907200000,\"adjClose\":1.215041},{\"timestamp\":1107993600000,\"adjClose\":1.209177},{\"timestamp\":1108080000000,\"adjClose\":1.253156},{\"timestamp\":1108339200000,\"adjClose\":1.30593},{\"timestamp\":1108425600000,\"adjClose\":1.36426},{\"timestamp\":1108512000000,\"adjClose\":1.390801},{\"timestamp\":1108598400000,\"adjClose\":1.355001},{\"timestamp\":1108684800000,\"adjClose\":1.33957},{\"timestamp\":1109030400000,\"adjClose\":1.316115},{\"timestamp\":1109116800000,\"adjClose\":1.361482},{\"timestamp\":1109203200000,\"adjClose\":1.372284},{\"timestamp\":1109289600000,\"adjClose\":1.37321},{\"timestamp\":1109548800000,\"adjClose\":1.384475},{\"timestamp\":1109635200000,\"adjClose\":1.373364},{\"timestamp\":1109721600000,\"adjClose\":1.361637},{\"timestamp\":1109808000000,\"adjClose\":1.289728},{\"timestamp\":1109894400000,\"adjClose\":1.321207},{\"timestamp\":1110153600000,\"adjClose\":1.319355},{\"timestamp\":1110240000000,\"adjClose\":1.250841},{\"timestamp\":1110326400000,\"adjClose\":1.214424},{\"timestamp\":1110412800000,\"adjClose\":1.229238},{\"timestamp\":1110499200000,\"adjClose\":1.242817},{\"timestamp\":1110758400000,\"adjClose\":1.24436},{\"timestamp\":1110844800000,\"adjClose\":1.264112},{\"timestamp\":1110931200000,\"adjClose\":1.270902},{\"timestamp\":1111017600000,\"adjClose\":1.303924},{\"timestamp\":1111104000000,\"adjClose\":1.325836},{\"timestamp\":1111363200000,\"adjClose\":1.348674},{\"timestamp\":1111449600000,\"adjClose\":1.321825},{\"timestamp\":1111536000000,\"adjClose\":1.313183},{\"timestamp\":1111622400000,\"adjClose\":1.31164},{\"timestamp\":1111968000000,\"adjClose\":1.312566},{\"timestamp\":1112054400000,\"adjClose\":1.288494},{\"timestamp\":1112140800000,\"adjClose\":1.320899},{\"timestamp\":1112227200000,\"adjClose\":1.286024},{\"timestamp\":1112313600000,\"adjClose\":1.261952},{\"timestamp\":1112572800000,\"adjClose\":1.268124},{\"timestamp\":1112659200000,\"adjClose\":1.292814},{\"timestamp\":1112745600000,\"adjClose\":1.306393},{\"timestamp\":1112832000000,\"adjClose\":1.344354},{\"timestamp\":1112918400000,\"adjClose\":1.349909},{\"timestamp\":1113177600000,\"adjClose\":1.29374},{\"timestamp\":1113264000000,\"adjClose\":1.316578},{\"timestamp\":1113350400000,\"adjClose\":1.266582},{\"timestamp\":1113436800000,\"adjClose\":1.149922},{\"timestamp\":1113523200000,\"adjClose\":1.090976},{\"timestamp\":1113782400000,\"adjClose\":1.099308},{\"timestamp\":1113868800000,\"adjClose\":1.144676},{\"timestamp\":1113955200000,\"adjClose\":1.095914},{\"timestamp\":1114041600000,\"adjClose\":1.147453},{\"timestamp\":1114128000000,\"adjClose\":1.095605},{\"timestamp\":1114387200000,\"adjClose\":1.141281},{\"timestamp\":1114473600000,\"adjClose\":1.1169},{\"timestamp\":1114560000000,\"adjClose\":1.109493},{\"timestamp\":1114646400000,\"adjClose\":1.09684},{\"timestamp\":1114732800000,\"adjClose\":1.112888},{\"timestamp\":1114992000000,\"adjClose\":1.124307},{\"timestamp\":1115078400000,\"adjClose\":1.117517},{\"timestamp\":1115164800000,\"adjClose\":1.146528},{\"timestamp\":1115251200000,\"adjClose\":1.132022},{\"timestamp\":1115337600000,\"adjClose\":1.149305},{\"timestamp\":1115596800000,\"adjClose\":1.140972},{\"timestamp\":1115683200000,\"adjClose\":1.123998},{\"timestamp\":1115769600000,\"adjClose\":1.099},{\"timestamp\":1115856000000,\"adjClose\":1.053324},{\"timestamp\":1115942400000,\"adjClose\":1.073076},{\"timestamp\":1116201600000,\"adjClose\":1.097148},{\"timestamp\":1116288000000,\"adjClose\":1.091285},{\"timestamp\":1116374400000,\"adjClose\":1.106099},{\"timestamp\":1116460800000,\"adjClose\":1.158872},{\"timestamp\":1116547200000,\"adjClose\":1.158872},{\"timestamp\":1116806400000,\"adjClose\":1.227078},{\"timestamp\":1116892800000,\"adjClose\":1.225226},{\"timestamp\":1116979200000,\"adjClose\":1.227695},{\"timestamp\":1117065600000,\"adjClose\":1.257323},{\"timestamp\":1117152000000,\"adjClose\":1.251767},{\"timestamp\":1117497600000,\"adjClose\":1.227078},{\"timestamp\":1117584000000,\"adjClose\":1.243743},{\"timestamp\":1117670400000,\"adjClose\":1.235719},{\"timestamp\":1117756800000,\"adjClose\":1.180167},{\"timestamp\":1118016000000,\"adjClose\":1.170292},{\"timestamp\":1118102400000,\"adjClose\":1.127702},{\"timestamp\":1118188800000,\"adjClose\":1.139429},{\"timestamp\":1118275200000,\"adjClose\":1.161958},{\"timestamp\":1118361600000,\"adjClose\":1.105172},{\"timestamp\":1118620800000,\"adjClose\":1.10795},{\"timestamp\":1118707200000,\"adjClose\":1.111036},{\"timestamp\":1118793600000,\"adjClose\":1.14591},{\"timestamp\":1118880000000,\"adjClose\":1.172143},{\"timestamp\":1118966400000,\"adjClose\":1.182328},{\"timestamp\":1119225600000,\"adjClose\":1.160724},{\"timestamp\":1119312000000,\"adjClose\":1.16844},{\"timestamp\":1119398400000,\"adjClose\":1.189735},{\"timestamp\":1119484800000,\"adjClose\":1.200228},{\"timestamp\":1119571200000,\"adjClose\":1.165354},{\"timestamp\":1119830400000,\"adjClose\":1.144984},{\"timestamp\":1119916800000,\"adjClose\":1.151465},{\"timestamp\":1120003200000,\"adjClose\":1.122455},{\"timestamp\":1120089600000,\"adjClose\":1.136034},{\"timestamp\":1120176000000,\"adjClose\":1.126467},{\"timestamp\":1120521600000,\"adjClose\":1.172143},{\"timestamp\":1120608000000,\"adjClose\":1.153934},{\"timestamp\":1120694400000,\"adjClose\":1.161341},{\"timestamp\":1120780800000,\"adjClose\":1.180476},{\"timestamp\":1121040000000,\"adjClose\":1.175846},{\"timestamp\":1121126400000,\"adjClose\":1.180167},{\"timestamp\":1121212800000,\"adjClose\":1.183562},{\"timestamp\":1121299200000,\"adjClose\":1.257631},{\"timestamp\":1121385600000,\"adjClose\":1.282321},{\"timestamp\":1121644800000,\"adjClose\":1.280469},{\"timestamp\":1121731200000,\"adjClose\":1.332935},{\"timestamp\":1121817600000,\"adjClose\":1.346514},{\"timestamp\":1121904000000,\"adjClose\":1.336021},{\"timestamp\":1121990400000,\"adjClose\":1.357933},{\"timestamp\":1122249600000,\"adjClose\":1.35207},{\"timestamp\":1122336000000,\"adjClose\":1.346514},{\"timestamp\":1122422400000,\"adjClose\":1.357624},{\"timestamp\":1122508800000,\"adjClose\":1.351761},{\"timestamp\":1122595200000,\"adjClose\":1.31627},{\"timestamp\":1122854400000,\"adjClose\":1.319355},{\"timestamp\":1122940800000,\"adjClose\":1.332935},{\"timestamp\":1123027200000,\"adjClose\":1.333861},{\"timestamp\":1123113600000,\"adjClose\":1.318121},{\"timestamp\":1123200000000,\"adjClose\":1.326762},{\"timestamp\":1123459200000,\"adjClose\":1.31627},{\"timestamp\":1123545600000,\"adjClose\":1.352378},{\"timestamp\":1123632000000,\"adjClose\":1.338799},{\"timestamp\":1123718400000,\"adjClose\":1.357933},{\"timestamp\":1123804800000,\"adjClose\":1.422743},{\"timestamp\":1124064000000,\"adjClose\":1.471506},{\"timestamp\":1124150400000,\"adjClose\":1.427373},{\"timestamp\":1124236800000,\"adjClose\":1.455149},{\"timestamp\":1124323200000,\"adjClose\":1.428916},{\"timestamp\":1124409600000,\"adjClose\":1.414411},{\"timestamp\":1124668800000,\"adjClose\":1.415645},{\"timestamp\":1124755200000,\"adjClose\":1.411633},{\"timestamp\":1124841600000,\"adjClose\":1.412559},{\"timestamp\":1124928000000,\"adjClose\":1.421509},{\"timestamp\":1125014400000,\"adjClose\":1.411633},{\"timestamp\":1125273600000,\"adjClose\":1.414719},{\"timestamp\":1125360000000,\"adjClose\":1.437249},{\"timestamp\":1125446400000,\"adjClose\":1.447125},{\"timestamp\":1125532800000,\"adjClose\":1.427681},{\"timestamp\":1125619200000,\"adjClose\":1.426447},{\"timestamp\":1125964800000,\"adjClose\":1.506071},{\"timestamp\":1126051200000,\"adjClose\":1.502368},{\"timestamp\":1126137600000,\"adjClose\":1.536316},{\"timestamp\":1126224000000,\"adjClose\":1.583535},{\"timestamp\":1126483200000,\"adjClose\":1.586313},{\"timestamp\":1126569600000,\"adjClose\":1.568413},{\"timestamp\":1126656000000,\"adjClose\":1.53107},{\"timestamp\":1126742400000,\"adjClose\":1.539093},{\"timestamp\":1126828800000,\"adjClose\":1.580449},{\"timestamp\":1127088000000,\"adjClose\":1.624582},{\"timestamp\":1127174400000,\"adjClose\":1.641556},{\"timestamp\":1127260800000,\"adjClose\":1.608225},{\"timestamp\":1127347200000,\"adjClose\":1.601743},{\"timestamp\":1127433600000,\"adjClose\":1.641864},{\"timestamp\":1127692800000,\"adjClose\":1.661616},{\"timestamp\":1127779200000,\"adjClose\":1.649272},{\"timestamp\":1127865600000,\"adjClose\":1.576437},{\"timestamp\":1127952000000,\"adjClose\":1.615323},{\"timestamp\":1128038400000,\"adjClose\":1.654518},{\"timestamp\":1128297600000,\"adjClose\":1.680134},{\"timestamp\":1128384000000,\"adjClose\":1.658839},{\"timestamp\":1128470400000,\"adjClose\":1.628902},{\"timestamp\":1128556800000,\"adjClose\":1.595571},{\"timestamp\":1128643200000,\"adjClose\":1.583226},{\"timestamp\":1128902400000,\"adjClose\":1.554525},{\"timestamp\":1128988800000,\"adjClose\":1.592177},{\"timestamp\":1129075200000,\"adjClose\":1.519959},{\"timestamp\":1129161600000,\"adjClose\":1.65853},{\"timestamp\":1129248000000,\"adjClose\":1.666555},{\"timestamp\":1129507200000,\"adjClose\":1.649272},{\"timestamp\":1129593600000,\"adjClose\":1.611311},{\"timestamp\":1129680000000,\"adjClose\":1.695564},{\"timestamp\":1129766400000,\"adjClose\":1.732599},{\"timestamp\":1129852800000,\"adjClose\":1.717785},{\"timestamp\":1130112000000,\"adjClose\":1.75266},{\"timestamp\":1130198400000,\"adjClose\":1.731365},{\"timestamp\":1130284800000,\"adjClose\":1.760066},{\"timestamp\":1130371200000,\"adjClose\":1.71007},{\"timestamp\":1130457600000,\"adjClose\":1.681059},{\"timestamp\":1130716800000,\"adjClose\":1.777349},{\"timestamp\":1130803200000,\"adjClose\":1.774572},{\"timestamp\":1130889600000,\"adjClose\":1.850184},{\"timestamp\":1130976000000,\"adjClose\":1.908822},{\"timestamp\":1131062400000,\"adjClose\":1.887219},{\"timestamp\":1131321600000,\"adjClose\":1.858825},{\"timestamp\":1131408000000,\"adjClose\":1.848641},{\"timestamp\":1131494400000,\"adjClose\":1.855122},{\"timestamp\":1131580800000,\"adjClose\":1.888144},{\"timestamp\":1131667200000,\"adjClose\":1.899255},{\"timestamp\":1131926400000,\"adjClose\":1.896477},{\"timestamp\":1132012800000,\"adjClose\":1.922092},{\"timestamp\":1132099200000,\"adjClose\":2.004494},{\"timestamp\":1132185600000,\"adjClose\":1.991223},{\"timestamp\":1132272000000,\"adjClose\":1.992458},{\"timestamp\":1132531200000,\"adjClose\":2.004802},{\"timestamp\":1132617600000,\"adjClose\":2.052947},{\"timestamp\":1132704000000,\"adjClose\":2.071157},{\"timestamp\":1132876800000,\"adjClose\":2.13998},{\"timestamp\":1133136000000,\"adjClose\":2.149855},{\"timestamp\":1133222400000,\"adjClose\":2.10171},{\"timestamp\":1133308800000,\"adjClose\":2.093069},{\"timestamp\":1133395200000,\"adjClose\":2.209727},{\"timestamp\":1133481600000,\"adjClose\":2.241515},{\"timestamp\":1133740800000,\"adjClose\":2.216517},{\"timestamp\":1133827200000,\"adjClose\":2.285339},{\"timestamp\":1133913600000,\"adjClose\":2.282253},{\"timestamp\":1134000000000,\"adjClose\":2.286266},{\"timestamp\":1134086400000,\"adjClose\":2.293981},{\"timestamp\":1134345600000,\"adjClose\":2.311881},{\"timestamp\":1134432000000,\"adjClose\":2.31404},{\"timestamp\":1134518400000,\"adjClose\":2.222381},{\"timestamp\":1134604800000,\"adjClose\":2.227627},{\"timestamp\":1134691200000,\"adjClose\":2.194605},{\"timestamp\":1134950400000,\"adjClose\":2.202938},{\"timestamp\":1135036800000,\"adjClose\":2.225467},{\"timestamp\":1135123200000,\"adjClose\":2.268366},{\"timestamp\":1135209600000,\"adjClose\":2.284414},{\"timestamp\":1135296000000,\"adjClose\":2.263736},{\"timestamp\":1135641600000,\"adjClose\":2.290894},{\"timestamp\":1135728000000,\"adjClose\":2.270526},{\"timestamp\":1135814400000,\"adjClose\":2.205098},{\"timestamp\":1135900800000,\"adjClose\":2.218677},{\"timestamp\":1136246400000,\"adjClose\":2.306943},{\"timestamp\":1136332800000,\"adjClose\":2.313733},{\"timestamp\":1136419200000,\"adjClose\":2.295524},{\"timestamp\":1136505600000,\"adjClose\":2.354779},{\"timestamp\":1136764800000,\"adjClose\":2.347064},{\"timestamp\":1136851200000,\"adjClose\":2.49551},{\"timestamp\":1136937600000,\"adjClose\":2.589331},{\"timestamp\":1137024000000,\"adjClose\":2.601367},{\"timestamp\":1137110400000,\"adjClose\":2.641489},{\"timestamp\":1137456000000,\"adjClose\":2.61433},{\"timestamp\":1137542400000,\"adjClose\":2.545816},{\"timestamp\":1137628800000,\"adjClose\":2.439341},{\"timestamp\":1137715200000,\"adjClose\":2.348298},{\"timestamp\":1137974400000,\"adjClose\":2.397061},{\"timestamp\":1138060800000,\"adjClose\":2.346755},{\"timestamp\":1138147200000,\"adjClose\":2.289968},{\"timestamp\":1138233600000,\"adjClose\":2.232256},{\"timestamp\":1138320000000,\"adjClose\":2.222998},{\"timestamp\":1138579200000,\"adjClose\":2.314659},{\"timestamp\":1138665600000,\"adjClose\":2.330398},{\"timestamp\":1138752000000,\"adjClose\":2.327621},{\"timestamp\":1138838400000,\"adjClose\":2.225158},{\"timestamp\":1138924800000,\"adjClose\":2.217443},{\"timestamp\":1139184000000,\"adjClose\":2.077021},{\"timestamp\":1139270400000,\"adjClose\":2.086278},{\"timestamp\":1139356800000,\"adjClose\":2.123622},{\"timestamp\":1139443200000,\"adjClose\":2.004494},{\"timestamp\":1139529600000,\"adjClose\":2.077329},{\"timestamp\":1139788800000,\"adjClose\":1.997087},{\"timestamp\":1139875200000,\"adjClose\":2.087514},{\"timestamp\":1139961600000,\"adjClose\":2.136275},{\"timestamp\":1140048000000,\"adjClose\":2.17794},{\"timestamp\":1140134400000,\"adjClose\":2.169298},{\"timestamp\":1140480000000,\"adjClose\":2.131955},{\"timestamp\":1140566400000,\"adjClose\":2.201085},{\"timestamp\":1140652800000,\"adjClose\":2.214356},{\"timestamp\":1140739200000,\"adjClose\":2.205407},{\"timestamp\":1140998400000,\"adjClose\":2.190902},{\"timestamp\":1141084800000,\"adjClose\":2.113747},{\"timestamp\":1141171200000,\"adjClose\":2.132572},{\"timestamp\":1141257600000,\"adjClose\":2.148312},{\"timestamp\":1141344000000,\"adjClose\":2.089983},{\"timestamp\":1141603200000,\"adjClose\":2.020851},{\"timestamp\":1141689600000,\"adjClose\":2.046466},{\"timestamp\":1141776000000,\"adjClose\":2.026406},{\"timestamp\":1141862400000,\"adjClose\":1.973015},{\"timestamp\":1141948800000,\"adjClose\":1.950176},{\"timestamp\":1142208000000,\"adjClose\":2.027023},{\"timestamp\":1142294400000,\"adjClose\":2.077637},{\"timestamp\":1142380800000,\"adjClose\":2.043997},{\"timestamp\":1142467200000,\"adjClose\":1.984742},{\"timestamp\":1142553600000,\"adjClose\":1.995545},{\"timestamp\":1142812800000,\"adjClose\":1.974867},{\"timestamp\":1142899200000,\"adjClose\":1.907587},{\"timestamp\":1142985600000,\"adjClose\":1.903266},{\"timestamp\":1143072000000,\"adjClose\":1.856665},{\"timestamp\":1143158400000,\"adjClose\":1.850492},{\"timestamp\":1143417600000,\"adjClose\":1.836604},{\"timestamp\":1143504000000,\"adjClose\":1.811915},{\"timestamp\":1143590400000,\"adjClose\":1.923636},{\"timestamp\":1143676800000,\"adjClose\":1.936598},{\"timestamp\":1143763200000,\"adjClose\":1.935672},{\"timestamp\":1144022400000,\"adjClose\":1.933511},{\"timestamp\":1144108800000,\"adjClose\":1.887836},{\"timestamp\":1144195200000,\"adjClose\":2.074244},{\"timestamp\":1144281600000,\"adjClose\":2.198617},{\"timestamp\":1144368000000,\"adjClose\":2.153867},{\"timestamp\":1144627200000,\"adjClose\":2.119302},{\"timestamp\":1144713600000,\"adjClose\":2.098314},{\"timestamp\":1144800000000,\"adjClose\":2.058811},{\"timestamp\":1144886400000,\"adjClose\":2.051404},{\"timestamp\":1145232000000,\"adjClose\":2.000174},{\"timestamp\":1145318400000,\"adjClose\":2.043689},{\"timestamp\":1145404800000,\"adjClose\":2.026097},{\"timestamp\":1145491200000,\"adjClose\":2.087205},{\"timestamp\":1145577600000,\"adjClose\":2.068996},{\"timestamp\":1145836800000,\"adjClose\":2.029184},{\"timestamp\":1145923200000,\"adjClose\":2.042146},{\"timestamp\":1146009600000,\"adjClose\":2.103253},{\"timestamp\":1146096000000,\"adjClose\":2.140596},{\"timestamp\":1146182400000,\"adjClose\":2.172385},{\"timestamp\":1146441600000,\"adjClose\":2.148004},{\"timestamp\":1146528000000,\"adjClose\":2.210345},{\"timestamp\":1146614400000,\"adjClose\":2.195531},{\"timestamp\":1146700800000,\"adjClose\":2.195222},{\"timestamp\":1146787200000,\"adjClose\":2.218677},{\"timestamp\":1147046400000,\"adjClose\":2.218677},{\"timestamp\":1147132800000,\"adjClose\":2.192135},{\"timestamp\":1147219200000,\"adjClose\":2.178865},{\"timestamp\":1147305600000,\"adjClose\":2.103253},{\"timestamp\":1147392000000,\"adjClose\":2.089365},{\"timestamp\":1147651200000,\"adjClose\":2.092142},{\"timestamp\":1147737600000,\"adjClose\":2.00542},{\"timestamp\":1147824000000,\"adjClose\":2.014061},{\"timestamp\":1147910400000,\"adjClose\":1.949868},{\"timestamp\":1147996800000,\"adjClose\":1.990915},{\"timestamp\":1148256000000,\"adjClose\":1.956041},{\"timestamp\":1148342400000,\"adjClose\":1.948942},{\"timestamp\":1148428800000,\"adjClose\":1.954807},{\"timestamp\":1148515200000,\"adjClose\":1.985359},{\"timestamp\":1148601600000,\"adjClose\":1.961287},{\"timestamp\":1148947200000,\"adjClose\":1.889379},{\"timestamp\":1149033600000,\"adjClose\":1.844629},{\"timestamp\":1149120000000,\"adjClose\":1.918698},{\"timestamp\":1149206400000,\"adjClose\":1.902958},{\"timestamp\":1149465600000,\"adjClose\":1.851727},{\"timestamp\":1149552000000,\"adjClose\":1.843086},{\"timestamp\":1149638400000,\"adjClose\":1.807285},{\"timestamp\":1149724800000,\"adjClose\":1.875183},{\"timestamp\":1149811200000,\"adjClose\":1.828272},{\"timestamp\":1150070400000,\"adjClose\":1.759141},{\"timestamp\":1150156800000,\"adjClose\":1.800187},{\"timestamp\":1150243200000,\"adjClose\":1.777967},{\"timestamp\":1150329600000,\"adjClose\":1.832593},{\"timestamp\":1150416000000,\"adjClose\":1.776423},{\"timestamp\":1150675200000,\"adjClose\":1.765313},{\"timestamp\":1150761600000,\"adjClose\":1.773646},{\"timestamp\":1150848000000,\"adjClose\":1.785682},{\"timestamp\":1150934400000,\"adjClose\":1.838765},{\"timestamp\":1151020800000,\"adjClose\":1.815618},{\"timestamp\":1151280000000,\"adjClose\":1.820556},{\"timestamp\":1151366400000,\"adjClose\":1.772411},{\"timestamp\":1151452800000,\"adjClose\":1.728895},{\"timestamp\":1151539200000,\"adjClose\":1.819939},{\"timestamp\":1151625600000,\"adjClose\":1.767473},{\"timestamp\":1151884800000,\"adjClose\":1.78846},{\"timestamp\":1152057600000,\"adjClose\":1.759141},{\"timestamp\":1152144000000,\"adjClose\":1.72118},{\"timestamp\":1152230400000,\"adjClose\":1.709761},{\"timestamp\":1152489600000,\"adjClose\":1.697416},{\"timestamp\":1152576000000,\"adjClose\":1.717477},{\"timestamp\":1152662400000,\"adjClose\":1.634457},{\"timestamp\":1152748800000,\"adjClose\":1.612545},{\"timestamp\":1152835200000,\"adjClose\":1.563783},{\"timestamp\":1153094400000,\"adjClose\":1.616249},{\"timestamp\":1153180800000,\"adjClose\":1.632606},{\"timestamp\":1153267200000,\"adjClose\":1.669641},{\"timestamp\":1153353600000,\"adjClose\":1.867158},{\"timestamp\":1153440000000,\"adjClose\":1.873947},{\"timestamp\":1153699200000,\"adjClose\":1.895551},{\"timestamp\":1153785600000,\"adjClose\":1.911291},{\"timestamp\":1153872000000,\"adjClose\":1.971163},{\"timestamp\":1153958400000,\"adjClose\":1.956657},{\"timestamp\":1154044800000,\"adjClose\":2.024246},{\"timestamp\":1154304000000,\"adjClose\":2.097389},{\"timestamp\":1154390400000,\"adjClose\":2.073318},{\"timestamp\":1154476800000,\"adjClose\":2.103561},{\"timestamp\":1154563200000,\"adjClose\":2.147694},{\"timestamp\":1154649600000,\"adjClose\":2.107882},{\"timestamp\":1154908800000,\"adjClose\":2.074244},{\"timestamp\":1154995200000,\"adjClose\":1.999248},{\"timestamp\":1155081600000,\"adjClose\":1.962522},{\"timestamp\":1155168000000,\"adjClose\":1.977336},{\"timestamp\":1155254400000,\"adjClose\":1.964373},{\"timestamp\":1155513600000,\"adjClose\":1.973323},{\"timestamp\":1155600000000,\"adjClose\":2.050787},{\"timestamp\":1155686400000,\"adjClose\":2.098007},{\"timestamp\":1155772800000,\"adjClose\":2.08597},{\"timestamp\":1155859200000,\"adjClose\":2.095847},{\"timestamp\":1156118400000,\"adjClose\":2.054183},{\"timestamp\":1156204800000,\"adjClose\":2.086896},{\"timestamp\":1156291200000,\"adjClose\":2.077329},{\"timestamp\":1156377600000,\"adjClose\":2.09276},{\"timestamp\":1156464000000,\"adjClose\":2.12177},{\"timestamp\":1156723200000,\"adjClose\":2.067144},{\"timestamp\":1156809600000,\"adjClose\":2.051713},{\"timestamp\":1156896000000,\"adjClose\":2.066527},{\"timestamp\":1156982400000,\"adjClose\":2.093995},{\"timestamp\":1157068800000,\"adjClose\":2.110352},{\"timestamp\":1157414400000,\"adjClose\":2.206024},{\"timestamp\":1157500800000,\"adjClose\":2.161274},{\"timestamp\":1157587200000,\"adjClose\":2.246762},{\"timestamp\":1157673600000,\"adjClose\":2.238121},{\"timestamp\":1157932800000,\"adjClose\":2.237503},{\"timestamp\":1158019200000,\"adjClose\":2.241515},{\"timestamp\":1158105600000,\"adjClose\":2.289968},{\"timestamp\":1158192000000,\"adjClose\":2.289043},{\"timestamp\":1158278400000,\"adjClose\":2.286883},{\"timestamp\":1158537600000,\"adjClose\":2.280402},{\"timestamp\":1158624000000,\"adjClose\":2.276699},{\"timestamp\":1158710400000,\"adjClose\":2.322683},{\"timestamp\":1158796800000,\"adjClose\":2.303857},{\"timestamp\":1158883200000,\"adjClose\":2.252934},{\"timestamp\":1159142400000,\"adjClose\":2.337805},{\"timestamp\":1159228800000,\"adjClose\":2.395208},{\"timestamp\":1159315200000,\"adjClose\":2.358174},{\"timestamp\":1159401600000,\"adjClose\":2.376692},{\"timestamp\":1159488000000,\"adjClose\":2.375765},{\"timestamp\":1159747200000,\"adjClose\":2.310338},{\"timestamp\":1159833600000,\"adjClose\":2.286266},{\"timestamp\":1159920000000,\"adjClose\":2.326385},{\"timestamp\":1160006400000,\"adjClose\":2.309412},{\"timestamp\":1160092800000,\"adjClose\":2.290586},{\"timestamp\":1160352000000,\"adjClose\":2.30324},{\"timestamp\":1160438400000,\"adjClose\":2.277933},{\"timestamp\":1160524800000,\"adjClose\":2.260033},{\"timestamp\":1160611200000,\"adjClose\":2.322683},{\"timestamp\":1160697600000,\"adjClose\":2.315276},{\"timestamp\":1160956800000,\"adjClose\":2.327004},{\"timestamp\":1161043200000,\"adjClose\":2.292746},{\"timestamp\":1161129600000,\"adjClose\":2.300153},{\"timestamp\":1161216000000,\"adjClose\":2.437798},{\"timestamp\":1161302400000,\"adjClose\":2.467426},{\"timestamp\":1161561600000,\"adjClose\":2.514028},{\"timestamp\":1161648000000,\"adjClose\":2.501374},{\"timestamp\":1161734400000,\"adjClose\":2.520818},{\"timestamp\":1161820800000,\"adjClose\":2.536557},{\"timestamp\":1161907200000,\"adjClose\":2.481623},{\"timestamp\":1162166400000,\"adjClose\":2.481931},{\"timestamp\":1162252800000,\"adjClose\":2.502301},{\"timestamp\":1162339200000,\"adjClose\":2.443045},{\"timestamp\":1162425600000,\"adjClose\":2.43749},{\"timestamp\":1162512000000,\"adjClose\":2.416195},{\"timestamp\":1162771200000,\"adjClose\":2.460019},{\"timestamp\":1162857600000,\"adjClose\":2.484709},{\"timestamp\":1162944000000,\"adjClose\":2.544581},{\"timestamp\":1163030400000,\"adjClose\":2.572048},{\"timestamp\":1163116800000,\"adjClose\":2.565259},{\"timestamp\":1163376000000,\"adjClose\":2.603219},{\"timestamp\":1163462400000,\"adjClose\":2.623279},{\"timestamp\":1163548800000,\"adjClose\":2.593961},{\"timestamp\":1163635200000,\"adjClose\":2.642106},{\"timestamp\":1163721600000,\"adjClose\":2.649513},{\"timestamp\":1163980800000,\"adjClose\":2.668647},{\"timestamp\":1164067200000,\"adjClose\":2.734384},{\"timestamp\":1164153600000,\"adjClose\":2.787158},{\"timestamp\":1164326400000,\"adjClose\":2.827896},{\"timestamp\":1164585600000,\"adjClose\":2.763394},{\"timestamp\":1164672000000,\"adjClose\":2.83345},{\"timestamp\":1164758400000,\"adjClose\":2.833142},{\"timestamp\":1164844800000,\"adjClose\":2.828821},{\"timestamp\":1164931200000,\"adjClose\":2.818329},{\"timestamp\":1165190400000,\"adjClose\":2.812156},{\"timestamp\":1165276800000,\"adjClose\":2.816785},{\"timestamp\":1165363200000,\"adjClose\":2.772344},{\"timestamp\":1165449600000,\"adjClose\":2.686238},{\"timestamp\":1165536000000,\"adjClose\":2.723891},{\"timestamp\":1165795200000,\"adjClose\":2.739012},{\"timestamp\":1165881600000,\"adjClose\":2.658463},{\"timestamp\":1165968000000,\"adjClose\":2.748272},{\"timestamp\":1166054400000,\"adjClose\":2.73284},{\"timestamp\":1166140800000,\"adjClose\":2.707226},{\"timestamp\":1166400000000,\"adjClose\":2.637785},{\"timestamp\":1166486400000,\"adjClose\":2.663708},{\"timestamp\":1166572800000,\"adjClose\":2.615873},{\"timestamp\":1166659200000,\"adjClose\":2.55847},{\"timestamp\":1166745600000,\"adjClose\":2.536865},{\"timestamp\":1167091200000,\"adjClose\":2.515571},{\"timestamp\":1167177600000,\"adjClose\":2.515879},{\"timestamp\":1167264000000,\"adjClose\":2.495819},{\"timestamp\":1167350400000,\"adjClose\":2.618342},{\"timestamp\":1167782400000,\"adjClose\":2.586245},{\"timestamp\":1167868800000,\"adjClose\":2.643649},{\"timestamp\":1167955200000,\"adjClose\":2.624823},{\"timestamp\":1168214400000,\"adjClose\":2.637785},{\"timestamp\":1168300800000,\"adjClose\":2.856907},{\"timestamp\":1168387200000,\"adjClose\":2.993625},{\"timestamp\":1168473600000,\"adjClose\":2.95659},{\"timestamp\":1168560000000,\"adjClose\":2.920173},{\"timestamp\":1168905600000,\"adjClose\":2.996711},{\"timestamp\":1168992000000,\"adjClose\":2.930357},{\"timestamp\":1169078400000,\"adjClose\":2.748888},{\"timestamp\":1169164800000,\"adjClose\":2.731297},{\"timestamp\":1169424000000,\"adjClose\":2.678523},{\"timestamp\":1169510400000,\"adjClose\":2.644884},{\"timestamp\":1169596800000,\"adjClose\":2.675745},{\"timestamp\":1169683200000,\"adjClose\":2.661857},{\"timestamp\":1169769600000,\"adjClose\":2.635007},{\"timestamp\":1170028800000,\"adjClose\":2.65229},{\"timestamp\":1170115200000,\"adjClose\":2.640254},{\"timestamp\":1170201600000,\"adjClose\":2.645809},{\"timestamp\":1170288000000,\"adjClose\":2.615255},{\"timestamp\":1170374400000,\"adjClose\":2.615564},{\"timestamp\":1170633600000,\"adjClose\":2.590566},{\"timestamp\":1170720000000,\"adjClose\":2.597047},{\"timestamp\":1170806400000,\"adjClose\":2.658771},{\"timestamp\":1170892800000,\"adjClose\":2.659697},{\"timestamp\":1170979200000,\"adjClose\":2.569888},{\"timestamp\":1171238400000,\"adjClose\":2.619576},{\"timestamp\":1171324800000,\"adjClose\":2.614021},{\"timestamp\":1171411200000,\"adjClose\":2.632539},{\"timestamp\":1171497600000,\"adjClose\":2.62976},{\"timestamp\":1171584000000,\"adjClose\":2.618034},{\"timestamp\":1171929600000,\"adjClose\":2.651056},{\"timestamp\":1172016000000,\"adjClose\":2.7529},{\"timestamp\":1172102400000,\"adjClose\":2.762467},{\"timestamp\":1172188800000,\"adjClose\":2.748888},{\"timestamp\":1172448000000,\"adjClose\":2.731606},{\"timestamp\":1172534400000,\"adjClose\":2.590257},{\"timestamp\":1172620800000,\"adjClose\":2.611244},{\"timestamp\":1172707200000,\"adjClose\":2.686855},{\"timestamp\":1172793600000,\"adjClose\":2.635933},{\"timestamp\":1173052800000,\"adjClose\":2.664017},{\"timestamp\":1173139200000,\"adjClose\":2.72173},{\"timestamp\":1173225600000,\"adjClose\":2.707226},{\"timestamp\":1173312000000,\"adjClose\":2.715866},{\"timestamp\":1173398400000,\"adjClose\":2.71494},{\"timestamp\":1173657600000,\"adjClose\":2.773579},{\"timestamp\":1173744000000,\"adjClose\":2.728211},{\"timestamp\":1173830400000,\"adjClose\":2.77759},{\"timestamp\":1173916800000,\"adjClose\":2.76432},{\"timestamp\":1174003200000,\"adjClose\":2.764936},{\"timestamp\":1174262400000,\"adjClose\":2.812465},{\"timestamp\":1174348800000,\"adjClose\":2.823266},{\"timestamp\":1174435200000,\"adjClose\":2.897027},{\"timestamp\":1174521600000,\"adjClose\":2.899805},{\"timestamp\":1174608000000,\"adjClose\":2.886225},{\"timestamp\":1174867200000,\"adjClose\":2.958134},{\"timestamp\":1174953600000,\"adjClose\":2.946098},{\"timestamp\":1175040000000,\"adjClose\":2.877583},{\"timestamp\":1175126400000,\"adjClose\":2.893323},{\"timestamp\":1175212800000,\"adjClose\":2.867399},{\"timestamp\":1175472000000,\"adjClose\":2.890236},{\"timestamp\":1175558400000,\"adjClose\":2.91647},{\"timestamp\":1175644800000,\"adjClose\":2.909371},{\"timestamp\":1175731200000,\"adjClose\":2.922025},{\"timestamp\":1176076800000,\"adjClose\":2.890236},{\"timestamp\":1176163200000,\"adjClose\":2.908755},{\"timestamp\":1176249600000,\"adjClose\":2.857523},{\"timestamp\":1176336000000,\"adjClose\":2.845178},{\"timestamp\":1176422400000,\"adjClose\":2.784997},{\"timestamp\":1176681600000,\"adjClose\":2.821723},{\"timestamp\":1176768000000,\"adjClose\":2.788392},{\"timestamp\":1176854400000,\"adjClose\":2.789935},{\"timestamp\":1176940800000,\"adjClose\":2.785924},{\"timestamp\":1177027200000,\"adjClose\":2.807527},{\"timestamp\":1177286400000,\"adjClose\":2.885916},{\"timestamp\":1177372800000,\"adjClose\":2.877583},{\"timestamp\":1177459200000,\"adjClose\":2.942703},{\"timestamp\":1177545600000,\"adjClose\":3.050412},{\"timestamp\":1177632000000,\"adjClose\":3.083742},{\"timestamp\":1177891200000,\"adjClose\":3.080039},{\"timestamp\":1177977600000,\"adjClose\":3.069854},{\"timestamp\":1178064000000,\"adjClose\":3.098248},{\"timestamp\":1178150400000,\"adjClose\":3.098556},{\"timestamp\":1178236800000,\"adjClose\":3.11121},{\"timestamp\":1178496000000,\"adjClose\":3.207191},{\"timestamp\":1178582400000,\"adjClose\":3.242373},{\"timestamp\":1178668800000,\"adjClose\":3.298543},{\"timestamp\":1178755200000,\"adjClose\":3.31274},{\"timestamp\":1178841600000,\"adjClose\":3.355947},{\"timestamp\":1179100800000,\"adjClose\":3.375081},{\"timestamp\":1179187200000,\"adjClose\":3.318295},{\"timestamp\":1179273600000,\"adjClose\":3.31274},{\"timestamp\":1179360000000,\"adjClose\":3.37755},{\"timestamp\":1179446400000,\"adjClose\":3.39545},{\"timestamp\":1179705600000,\"adjClose\":3.455939},{\"timestamp\":1179792000000,\"adjClose\":3.504084},{\"timestamp\":1179878400000,\"adjClose\":3.484024},{\"timestamp\":1179964800000,\"adjClose\":3.416127},{\"timestamp\":1180051200000,\"adjClose\":3.506553},{\"timestamp\":1180396800000,\"adjClose\":3.529083},{\"timestamp\":1180483200000,\"adjClose\":3.665493},{\"timestamp\":1180569600000,\"adjClose\":3.74018},{\"timestamp\":1180656000000,\"adjClose\":3.654074},{\"timestamp\":1180915200000,\"adjClose\":3.7445},{\"timestamp\":1181001600000,\"adjClose\":3.785855},{\"timestamp\":1181088000000,\"adjClose\":3.815791},{\"timestamp\":1181174400000,\"adjClose\":3.829062},{\"timestamp\":1181260800000,\"adjClose\":3.842025},{\"timestamp\":1181520000000,\"adjClose\":3.709317},{\"timestamp\":1181606400000,\"adjClose\":3.715182},{\"timestamp\":1181692800000,\"adjClose\":3.626298},{\"timestamp\":1181779200000,\"adjClose\":3.664876},{\"timestamp\":1181865600000,\"adjClose\":3.718884},{\"timestamp\":1182124800000,\"adjClose\":3.860541},{\"timestamp\":1182211200000,\"adjClose\":3.816409},{\"timestamp\":1182297600000,\"adjClose\":3.751291},{\"timestamp\":1182384000000,\"adjClose\":3.823814},{\"timestamp\":1182470400000,\"adjClose\":3.79604},{\"timestamp\":1182729600000,\"adjClose\":3.775672},{\"timestamp\":1182816000000,\"adjClose\":3.692652},{\"timestamp\":1182902400000,\"adjClose\":3.761782},{\"timestamp\":1182988800000,\"adjClose\":3.720736},{\"timestamp\":1183075200000,\"adjClose\":3.766413},{\"timestamp\":1183334400000,\"adjClose\":3.74234},{\"timestamp\":1183420800000,\"adjClose\":3.924735},{\"timestamp\":1183593600000,\"adjClose\":4.096944},{\"timestamp\":1183680000000,\"adjClose\":4.083057},{\"timestamp\":1183939200000,\"adjClose\":4.022259},{\"timestamp\":1184025600000,\"adjClose\":4.084601},{\"timestamp\":1184112000000,\"adjClose\":4.085836},{\"timestamp\":1184198400000,\"adjClose\":4.137683},{\"timestamp\":1184284800000,\"adjClose\":4.250638},{\"timestamp\":1184544000000,\"adjClose\":4.262058},{\"timestamp\":1184630400000,\"adjClose\":4.287056},{\"timestamp\":1184716800000,\"adjClose\":4.262677},{\"timestamp\":1184803200000,\"adjClose\":4.320697},{\"timestamp\":1184889600000,\"adjClose\":4.436429},{\"timestamp\":1185148800000,\"adjClose\":4.434887},{\"timestamp\":1185235200000,\"adjClose\":4.16299},{\"timestamp\":1185321600000,\"adjClose\":4.236134},{\"timestamp\":1185408000000,\"adjClose\":4.505868},{\"timestamp\":1185494400000,\"adjClose\":4.439515},{\"timestamp\":1185753600000,\"adjClose\":4.36483},{\"timestamp\":1185840000000,\"adjClose\":4.066393},{\"timestamp\":1185926400000,\"adjClose\":4.166386},{\"timestamp\":1186012800000,\"adjClose\":4.21237},{\"timestamp\":1186099200000,\"adjClose\":4.06917},{\"timestamp\":1186358400000,\"adjClose\":4.1741},{\"timestamp\":1186444800000,\"adjClose\":4.167312},{\"timestamp\":1186531200000,\"adjClose\":4.135832},{\"timestamp\":1186617600000,\"adjClose\":3.900663},{\"timestamp\":1186704000000,\"adjClose\":3.857764},{\"timestamp\":1186963200000,\"adjClose\":3.943868},{\"timestamp\":1187049600000,\"adjClose\":3.827828},{\"timestamp\":1187136000000,\"adjClose\":3.700367},{\"timestamp\":1187222400000,\"adjClose\":3.612409},{\"timestamp\":1187308800000,\"adjClose\":3.767029},{\"timestamp\":1187568000000,\"adjClose\":3.771968},{\"timestamp\":1187654400000,\"adjClose\":3.937081},{\"timestamp\":1187740800000,\"adjClose\":4.089538},{\"timestamp\":1187827200000,\"adjClose\":4.045098},{\"timestamp\":1187913600000,\"adjClose\":4.175643},{\"timestamp\":1188172800000,\"adjClose\":4.081515},{\"timestamp\":1188259200000,\"adjClose\":3.913934},{\"timestamp\":1188345600000,\"adjClose\":4.137992},{\"timestamp\":1188432000000,\"adjClose\":4.204963},{\"timestamp\":1188518400000,\"adjClose\":4.273786},{\"timestamp\":1188864000000,\"adjClose\":4.449082},{\"timestamp\":1188950400000,\"adjClose\":4.220704},{\"timestamp\":1189036800000,\"adjClose\":4.166693},{\"timestamp\":1189123200000,\"adjClose\":4.066701},{\"timestamp\":1189382400000,\"adjClose\":4.219161},{\"timestamp\":1189468800000,\"adjClose\":4.181509},{\"timestamp\":1189555200000,\"adjClose\":4.22348},{\"timestamp\":1189641600000,\"adjClose\":4.234282},{\"timestamp\":1189728000000,\"adjClose\":4.283969},{\"timestamp\":1189987200000,\"adjClose\":4.271625},{\"timestamp\":1190073600000,\"adjClose\":4.349088},{\"timestamp\":1190160000000,\"adjClose\":4.344459},{\"timestamp\":1190246400000,\"adjClose\":4.330263},{\"timestamp\":1190332800000,\"adjClose\":4.448774},{\"timestamp\":1190592000000,\"adjClose\":4.576236},{\"timestamp\":1190678400000,\"adjClose\":4.727458},{\"timestamp\":1190764800000,\"adjClose\":4.714805},{\"timestamp\":1190851200000,\"adjClose\":4.768198},{\"timestamp\":1190937600000,\"adjClose\":4.736408},{\"timestamp\":1191196800000,\"adjClose\":4.824983},{\"timestamp\":1191283200000,\"adjClose\":4.890101},{\"timestamp\":1191369600000,\"adjClose\":4.873745},{\"timestamp\":1191456000000,\"adjClose\":4.821898},{\"timestamp\":1191542400000,\"adjClose\":4.982689},{\"timestamp\":1191801600000,\"adjClose\":5.182058},{\"timestamp\":1191888000000,\"adjClose\":5.180514},{\"timestamp\":1191974400000,\"adjClose\":5.147491},{\"timestamp\":1192060800000,\"adjClose\":5.006761},{\"timestamp\":1192147200000,\"adjClose\":5.161688},{\"timestamp\":1192406400000,\"adjClose\":5.153356},{\"timestamp\":1192492800000,\"adjClose\":5.233595},{\"timestamp\":1192579200000,\"adjClose\":5.33143},{\"timestamp\":1192665600000,\"adjClose\":5.354576},{\"timestamp\":1192752000000,\"adjClose\":5.25952},{\"timestamp\":1193011200000,\"adjClose\":5.381118},{\"timestamp\":1193097600000,\"adjClose\":5.74529},{\"timestamp\":1193184000000,\"adjClose\":5.738194},{\"timestamp\":1193270400000,\"adjClose\":5.640978},{\"timestamp\":1193356800000,\"adjClose\":5.700232},{\"timestamp\":1193616000000,\"adjClose\":5.712269},{\"timestamp\":1193702400000,\"adjClose\":5.771216},{\"timestamp\":1193788800000,\"adjClose\":5.862258},{\"timestamp\":1193875200000,\"adjClose\":5.784795},{\"timestamp\":1193961600000,\"adjClose\":5.798065},{\"timestamp\":1194220800000,\"adjClose\":5.745909},{\"timestamp\":1194307200000,\"adjClose\":5.919044},{\"timestamp\":1194393600000,\"adjClose\":5.749612},{\"timestamp\":1194480000000,\"adjClose\":5.415375},{\"timestamp\":1194566400000,\"adjClose\":5.103668},{\"timestamp\":1194825600000,\"adjClose\":4.745358},{\"timestamp\":1194912000000,\"adjClose\":5.245325},{\"timestamp\":1194998400000,\"adjClose\":5.126505},{\"timestamp\":1195084800000,\"adjClose\":5.070645},{\"timestamp\":1195171200000,\"adjClose\":5.135148},{\"timestamp\":1195430400000,\"adjClose\":5.059843},{\"timestamp\":1195516800000,\"adjClose\":5.211069},{\"timestamp\":1195603200000,\"adjClose\":5.199031},{\"timestamp\":1195776000000,\"adjClose\":5.294086},{\"timestamp\":1196035200000,\"adjClose\":5.324949},{\"timestamp\":1196121600000,\"adjClose\":5.395005},{\"timestamp\":1196208000000,\"adjClose\":5.561969},{\"timestamp\":1196294400000,\"adjClose\":5.687577},{\"timestamp\":1196380800000,\"adjClose\":5.623694},{\"timestamp\":1196640000000,\"adjClose\":5.519997},{\"timestamp\":1196726400000,\"adjClose\":5.549317},{\"timestamp\":1196812800000,\"adjClose\":5.724923},{\"timestamp\":1196899200000,\"adjClose\":5.862258},{\"timestamp\":1196985600000,\"adjClose\":5.99651},{\"timestamp\":1197244800000,\"adjClose\":5.993732},{\"timestamp\":1197331200000,\"adjClose\":5.818742},{\"timestamp\":1197417600000,\"adjClose\":5.890344},{\"timestamp\":1197504000000,\"adjClose\":5.920279},{\"timestamp\":1197590400000,\"adjClose\":5.875838},{\"timestamp\":1197849600000,\"adjClose\":5.690973},{\"timestamp\":1197936000000,\"adjClose\":5.647151},{\"timestamp\":1198022400000,\"adjClose\":5.65147},{\"timestamp\":1198108800000,\"adjClose\":5.777697},{\"timestamp\":1198195200000,\"adjClose\":5.984472},{\"timestamp\":1198454400000,\"adjClose\":6.135386},{\"timestamp\":1198627200000,\"adjClose\":6.140017},{\"timestamp\":1198713600000,\"adjClose\":6.128291},{\"timestamp\":1198800000000,\"adjClose\":6.167178},{\"timestamp\":1199059200000,\"adjClose\":6.113167},{\"timestamp\":1199232000000,\"adjClose\":6.013175},{\"timestamp\":1199318400000,\"adjClose\":6.015953},{\"timestamp\":1199404800000,\"adjClose\":5.556723},{\"timestamp\":1199664000000,\"adjClose\":5.482346},{\"timestamp\":1199750400000,\"adjClose\":5.285137},{\"timestamp\":1199836800000,\"adjClose\":5.536663},{\"timestamp\":1199923200000,\"adjClose\":5.494074},{\"timestamp\":1200009600000,\"adjClose\":5.329578},{\"timestamp\":1200268800000,\"adjClose\":5.517528},{\"timestamp\":1200355200000,\"adjClose\":5.216932},{\"timestamp\":1200441600000,\"adjClose\":4.926827},{\"timestamp\":1200528000000,\"adjClose\":4.965405},{\"timestamp\":1200614400000,\"adjClose\":4.979911},{\"timestamp\":1200960000000,\"adjClose\":4.803378},{\"timestamp\":1201046400000,\"adjClose\":4.291995},{\"timestamp\":1201132800000,\"adjClose\":4.184903},{\"timestamp\":1201219200000,\"adjClose\":4.012383},{\"timestamp\":1201478400000,\"adjClose\":4.012383},{\"timestamp\":1201564800000,\"adjClose\":4.059604},{\"timestamp\":1201651200000,\"adjClose\":4.079355},{\"timestamp\":1201737600000,\"adjClose\":4.177496},{\"timestamp\":1201824000000,\"adjClose\":4.127809},{\"timestamp\":1202083200000,\"adjClose\":4.062996},{\"timestamp\":1202169600000,\"adjClose\":3.992323},{\"timestamp\":1202256000000,\"adjClose\":3.765178},{\"timestamp\":1202342400000,\"adjClose\":3.741722},{\"timestamp\":1202428800000,\"adjClose\":3.872578},{\"timestamp\":1202688000000,\"adjClose\":3.995101},{\"timestamp\":1202774400000,\"adjClose\":3.853443},{\"timestamp\":1202860800000,\"adjClose\":3.993556},{\"timestamp\":1202947200000,\"adjClose\":3.933685},{\"timestamp\":1203033600000,\"adjClose\":3.846345},{\"timestamp\":1203379200000,\"adjClose\":3.770733},{\"timestamp\":1203465600000,\"adjClose\":3.821348},{\"timestamp\":1203552000000,\"adjClose\":3.750981},{\"timestamp\":1203638400000,\"adjClose\":3.686789},{\"timestamp\":1203897600000,\"adjClose\":3.69543},{\"timestamp\":1203984000000,\"adjClose\":3.677221},{\"timestamp\":1204070400000,\"adjClose\":3.794806},{\"timestamp\":1204156800000,\"adjClose\":4.009298},{\"timestamp\":1204243200000,\"adjClose\":3.858382},{\"timestamp\":1204502400000,\"adjClose\":3.756845},{\"timestamp\":1204588800000,\"adjClose\":3.846035},{\"timestamp\":1204675200000,\"adjClose\":3.842025},{\"timestamp\":1204761600000,\"adjClose\":3.732156},{\"timestamp\":1204848000000,\"adjClose\":3.772892},{\"timestamp\":1205107200000,\"adjClose\":3.693887},{\"timestamp\":1205193600000,\"adjClose\":3.93029},{\"timestamp\":1205280000000,\"adjClose\":3.88955},{\"timestamp\":1205366400000,\"adjClose\":3.948498},{\"timestamp\":1205452800000,\"adjClose\":3.907453},{\"timestamp\":1205712000000,\"adjClose\":3.911157},{\"timestamp\":1205798400000,\"adjClose\":4.099106},{\"timestamp\":1205884800000,\"adjClose\":4.00189},{\"timestamp\":1205971200000,\"adjClose\":4.112994},{\"timestamp\":1206316800000,\"adjClose\":4.306192},{\"timestamp\":1206403200000,\"adjClose\":4.350941},{\"timestamp\":1206489600000,\"adjClose\":4.476858},{\"timestamp\":1206576000000,\"adjClose\":4.328411},{\"timestamp\":1206662400000,\"adjClose\":4.413589},{\"timestamp\":1206921600000,\"adjClose\":4.428713},{\"timestamp\":1207008000000,\"adjClose\":4.614812},{\"timestamp\":1207094400000,\"adjClose\":4.551853},{\"timestamp\":1207180800000,\"adjClose\":4.679005},{\"timestamp\":1207267200000,\"adjClose\":4.724372},{\"timestamp\":1207526400000,\"adjClose\":4.811096},{\"timestamp\":1207612800000,\"adjClose\":4.716967},{\"timestamp\":1207699200000,\"adjClose\":4.673759},{\"timestamp\":1207785600000,\"adjClose\":4.769741},{\"timestamp\":1207872000000,\"adjClose\":4.541052},{\"timestamp\":1208131200000,\"adjClose\":4.560803},{\"timestamp\":1208217600000,\"adjClose\":4.579319},{\"timestamp\":1208304000000,\"adjClose\":4.743506},{\"timestamp\":1208390400000,\"adjClose\":4.767889},{\"timestamp\":1208476800000,\"adjClose\":4.970034},{\"timestamp\":1208736000000,\"adjClose\":5.189775},{\"timestamp\":1208822400000,\"adjClose\":4.944111},{\"timestamp\":1208908800000,\"adjClose\":5.02713},{\"timestamp\":1208995200000,\"adjClose\":5.213845},{\"timestamp\":1209081600000,\"adjClose\":5.238225},{\"timestamp\":1209340800000,\"adjClose\":5.315691},{\"timestamp\":1209427200000,\"adjClose\":5.402412},{\"timestamp\":1209513600000,\"adjClose\":5.368465},{\"timestamp\":1209600000000,\"adjClose\":5.55518},{\"timestamp\":1209686400000,\"adjClose\":5.584192},{\"timestamp\":1209945600000,\"adjClose\":5.701159},{\"timestamp\":1210032000000,\"adjClose\":5.760722},{\"timestamp\":1210118400000,\"adjClose\":5.635114},{\"timestamp\":1210204800000,\"adjClose\":5.711345},{\"timestamp\":1210291200000,\"adjClose\":5.661655},{\"timestamp\":1210550400000,\"adjClose\":5.807016},{\"timestamp\":1210636800000,\"adjClose\":5.862567},{\"timestamp\":1210723200000,\"adjClose\":5.748376},{\"timestamp\":1210809600000,\"adjClose\":5.855469},{\"timestamp\":1210896000000,\"adjClose\":5.79035},{\"timestamp\":1211155200000,\"adjClose\":5.666284},{\"timestamp\":1211241600000,\"adjClose\":5.737267},{\"timestamp\":1211328000000,\"adjClose\":5.49932},{\"timestamp\":1211414400000,\"adjClose\":5.464138},{\"timestamp\":1211500800000,\"adjClose\":5.591289},{\"timestamp\":1211846400000,\"adjClose\":5.753625},{\"timestamp\":1211932800000,\"adjClose\":5.771525},{\"timestamp\":1212019200000,\"adjClose\":5.761648},{\"timestamp\":1212105600000,\"adjClose\":5.825223},{\"timestamp\":1212364800000,\"adjClose\":5.743439},{\"timestamp\":1212451200000,\"adjClose\":5.72091},{\"timestamp\":1212537600000,\"adjClose\":5.715355},{\"timestamp\":1212624000000,\"adjClose\":5.846211},{\"timestamp\":1212710400000,\"adjClose\":5.729243},{\"timestamp\":1212969600000,\"adjClose\":5.604868},{\"timestamp\":1213056000000,\"adjClose\":5.729243},{\"timestamp\":1213142400000,\"adjClose\":5.580179},{\"timestamp\":1213228800000,\"adjClose\":5.34717},{\"timestamp\":1213315200000,\"adjClose\":5.319703},{\"timestamp\":1213574400000,\"adjClose\":5.457656},{\"timestamp\":1213660800000,\"adjClose\":5.599313},{\"timestamp\":1213747200000,\"adjClose\":5.516603},{\"timestamp\":1213833600000,\"adjClose\":5.582957},{\"timestamp\":1213920000000,\"adjClose\":5.409203},{\"timestamp\":1214179200000,\"adjClose\":5.344084},{\"timestamp\":1214265600000,\"adjClose\":5.346861},{\"timestamp\":1214352000000,\"adjClose\":5.474631},{\"timestamp\":1214438400000,\"adjClose\":5.192859},{\"timestamp\":1214524800000,\"adjClose\":5.249337},{\"timestamp\":1214784000000,\"adjClose\":5.167553},{\"timestamp\":1214870400000,\"adjClose\":5.390993},{\"timestamp\":1214956800000,\"adjClose\":5.190389},{\"timestamp\":1215043200000,\"adjClose\":5.250262},{\"timestamp\":1215388800000,\"adjClose\":5.405807},{\"timestamp\":1215475200000,\"adjClose\":5.541293},{\"timestamp\":1215561600000,\"adjClose\":5.377723},{\"timestamp\":1215648000000,\"adjClose\":5.451176},{\"timestamp\":1215734400000,\"adjClose\":5.326183},{\"timestamp\":1215993600000,\"adjClose\":5.366304},{\"timestamp\":1216080000000,\"adjClose\":5.235448},{\"timestamp\":1216166400000,\"adjClose\":5.333283},{\"timestamp\":1216252800000,\"adjClose\":5.302419},{\"timestamp\":1216339200000,\"adjClose\":5.096879},{\"timestamp\":1216598400000,\"adjClose\":5.132062},{\"timestamp\":1216684800000,\"adjClose\":5.000279},{\"timestamp\":1216771200000,\"adjClose\":5.131136},{\"timestamp\":1216857600000,\"adjClose\":4.908002},{\"timestamp\":1216944000000,\"adjClose\":5.003366},{\"timestamp\":1217203200000,\"adjClose\":4.76511},{\"timestamp\":1217289600000,\"adjClose\":4.847821},{\"timestamp\":1217376000000,\"adjClose\":4.934236},{\"timestamp\":1217462400000,\"adjClose\":4.905532},{\"timestamp\":1217548800000,\"adjClose\":4.834858},{\"timestamp\":1217808000000,\"adjClose\":4.729001},{\"timestamp\":1217894400000,\"adjClose\":4.957689},{\"timestamp\":1217980800000,\"adjClose\":5.067252},{\"timestamp\":1218067200000,\"adjClose\":5.048117},{\"timestamp\":1218153600000,\"adjClose\":5.23267},{\"timestamp\":1218412800000,\"adjClose\":5.356427},{\"timestamp\":1218499200000,\"adjClose\":5.454261},{\"timestamp\":1218585600000,\"adjClose\":5.533576},{\"timestamp\":1218672000000,\"adjClose\":5.534195},{\"timestamp\":1218758400000,\"adjClose\":5.423708},{\"timestamp\":1219017600000,\"adjClose\":5.412906},{\"timestamp\":1219104000000,\"adjClose\":5.355503},{\"timestamp\":1219190400000,\"adjClose\":5.426795},{\"timestamp\":1219276800000,\"adjClose\":5.378957},{\"timestamp\":1219363200000,\"adjClose\":5.456113},{\"timestamp\":1219622400000,\"adjClose\":5.325257},{\"timestamp\":1219708800000,\"adjClose\":5.358897},{\"timestamp\":1219795200000,\"adjClose\":5.390686},{\"timestamp\":1219881600000,\"adjClose\":5.361986},{\"timestamp\":1219968000000,\"adjClose\":5.232053},{\"timestamp\":1220313600000,\"adjClose\":5.128974},{\"timestamp\":1220400000000,\"adjClose\":5.152738},{\"timestamp\":1220486400000,\"adjClose\":4.97559},{\"timestamp\":1220572800000,\"adjClose\":4.943493},{\"timestamp\":1220832000000,\"adjClose\":4.873745},{\"timestamp\":1220918400000,\"adjClose\":4.681167},{\"timestamp\":1221004800000,\"adjClose\":4.679005},{\"timestamp\":1221091200000,\"adjClose\":4.711102},{\"timestamp\":1221177600000,\"adjClose\":4.596603},{\"timestamp\":1221436800000,\"adjClose\":4.331807},{\"timestamp\":1221523200000,\"adjClose\":4.316993},{\"timestamp\":1221609600000,\"adjClose\":3.945105},{\"timestamp\":1221696000000,\"adjClose\":4.1383},{\"timestamp\":1221782400000,\"adjClose\":4.348781},{\"timestamp\":1222041600000,\"adjClose\":4.044479},{\"timestamp\":1222128000000,\"adjClose\":3.914551},{\"timestamp\":1222214400000,\"adjClose\":3.972262},{\"timestamp\":1222300800000,\"adjClose\":4.071639},{\"timestamp\":1222387200000,\"adjClose\":3.957757},{\"timestamp\":1222646400000,\"adjClose\":3.248547},{\"timestamp\":1222732800000,\"adjClose\":3.507788},{\"timestamp\":1222819200000,\"adjClose\":3.367674},{\"timestamp\":1222905600000,\"adjClose\":3.089298},{\"timestamp\":1222992000000,\"adjClose\":2.995785},{\"timestamp\":1223251200000,\"adjClose\":3.028808},{\"timestamp\":1223337600000,\"adjClose\":2.751666},{\"timestamp\":1223424000000,\"adjClose\":2.771109},{\"timestamp\":1223510400000,\"adjClose\":2.738704},{\"timestamp\":1223596800000,\"adjClose\":2.987453},{\"timestamp\":1223856000000,\"adjClose\":3.402856},{\"timestamp\":1223942400000,\"adjClose\":3.212129},{\"timestamp\":1224028800000,\"adjClose\":3.022943},{\"timestamp\":1224115200000,\"adjClose\":3.144541},{\"timestamp\":1224201600000,\"adjClose\":3.00597},{\"timestamp\":1224460800000,\"adjClose\":3.038066},{\"timestamp\":1224547200000,\"adjClose\":2.823575},{\"timestamp\":1224633600000,\"adjClose\":2.989614},{\"timestamp\":1224720000000,\"adjClose\":3.031586},{\"timestamp\":1224806400000,\"adjClose\":2.97449},{\"timestamp\":1225065600000,\"adjClose\":2.842092},{\"timestamp\":1225152000000,\"adjClose\":3.083434},{\"timestamp\":1225238400000,\"adjClose\":3.226634},{\"timestamp\":1225324800000,\"adjClose\":3.426929},{\"timestamp\":1225411200000,\"adjClose\":3.320455},{\"timestamp\":1225670400000,\"adjClose\":3.301012},{\"timestamp\":1225756800000,\"adjClose\":3.425386},{\"timestamp\":1225843200000,\"adjClose\":3.188057},{\"timestamp\":1225929600000,\"adjClose\":3.058435},{\"timestamp\":1226016000000,\"adjClose\":3.031893},{\"timestamp\":1226275200000,\"adjClose\":2.95906},{\"timestamp\":1226361600000,\"adjClose\":2.924802},{\"timestamp\":1226448000000,\"adjClose\":2.781294},{\"timestamp\":1226534400000,\"adjClose\":2.976342},{\"timestamp\":1226620800000,\"adjClose\":2.784997},{\"timestamp\":1226880000000,\"adjClose\":2.720187},{\"timestamp\":1226966400000,\"adjClose\":2.774813},{\"timestamp\":1227052800000,\"adjClose\":2.663091},{\"timestamp\":1227139200000,\"adjClose\":2.484092},{\"timestamp\":1227225600000,\"adjClose\":2.548593},{\"timestamp\":1227484800000,\"adjClose\":2.868634},{\"timestamp\":1227571200000,\"adjClose\":2.80228},{\"timestamp\":1227657600000,\"adjClose\":2.931901},{\"timestamp\":1227830400000,\"adjClose\":2.859992},{\"timestamp\":1228089600000,\"adjClose\":2.744568},{\"timestamp\":1228176000000,\"adjClose\":2.85382},{\"timestamp\":1228262400000,\"adjClose\":2.959677},{\"timestamp\":1228348800000,\"adjClose\":2.821106},{\"timestamp\":1228435200000,\"adjClose\":2.901038},{\"timestamp\":1228694400000,\"adjClose\":3.07757},{\"timestamp\":1228780800000,\"adjClose\":3.088063},{\"timestamp\":1228867200000,\"adjClose\":3.030969},{\"timestamp\":1228953600000,\"adjClose\":2.931901},{\"timestamp\":1229040000000,\"adjClose\":3.03282},{\"timestamp\":1229299200000,\"adjClose\":2.924186},{\"timestamp\":1229385600000,\"adjClose\":2.945172},{\"timestamp\":1229472000000,\"adjClose\":2.751666},{\"timestamp\":1229558400000,\"adjClose\":2.759999},{\"timestamp\":1229644800000,\"adjClose\":2.77759},{\"timestamp\":1229904000000,\"adjClose\":2.646118},{\"timestamp\":1229990400000,\"adjClose\":2.66587},{\"timestamp\":1230076800000,\"adjClose\":2.624514},{\"timestamp\":1230249600000,\"adjClose\":2.648278},{\"timestamp\":1230508800000,\"adjClose\":2.672968},{\"timestamp\":1230595200000,\"adjClose\":2.663091},{\"timestamp\":1230681600000,\"adjClose\":2.634081},{\"timestamp\":1230854400000,\"adjClose\":2.800736},{\"timestamp\":1231113600000,\"adjClose\":2.918938},{\"timestamp\":1231200000000,\"adjClose\":2.870794},{\"timestamp\":1231286400000,\"adjClose\":2.808761},{\"timestamp\":1231372800000,\"adjClose\":2.860918},{\"timestamp\":1231459200000,\"adjClose\":2.79549},{\"timestamp\":1231718400000,\"adjClose\":2.736236},{\"timestamp\":1231804800000,\"adjClose\":2.706916},{\"timestamp\":1231891200000,\"adjClose\":2.633465},{\"timestamp\":1231977600000,\"adjClose\":2.573283},{\"timestamp\":1232064000000,\"adjClose\":2.540878},{\"timestamp\":1232409600000,\"adjClose\":2.413417},{\"timestamp\":1232496000000,\"adjClose\":2.556309},{\"timestamp\":1232582400000,\"adjClose\":2.726976},{\"timestamp\":1232668800000,\"adjClose\":2.726976},{\"timestamp\":1232928000000,\"adjClose\":2.76648},{\"timestamp\":1233014400000,\"adjClose\":2.80012},{\"timestamp\":1233100800000,\"adjClose\":2.90721},{\"timestamp\":1233187200000,\"adjClose\":2.870177},{\"timestamp\":1233273600000,\"adjClose\":2.781602},{\"timestamp\":1233532800000,\"adjClose\":2.824192},{\"timestamp\":1233619200000,\"adjClose\":2.869559},{\"timestamp\":1233705600000,\"adjClose\":2.887151},{\"timestamp\":1233792000000,\"adjClose\":2.97696},{\"timestamp\":1233878400000,\"adjClose\":3.07757},{\"timestamp\":1234137600000,\"adjClose\":3.163676},{\"timestamp\":1234224000000,\"adjClose\":3.019241},{\"timestamp\":1234310400000,\"adjClose\":2.98807},{\"timestamp\":1234396800000,\"adjClose\":3.063682},{\"timestamp\":1234483200000,\"adjClose\":3.060287},{\"timestamp\":1234828800000,\"adjClose\":2.917396},{\"timestamp\":1234915200000,\"adjClose\":2.912458},{\"timestamp\":1235001600000,\"adjClose\":2.797343},{\"timestamp\":1235088000000,\"adjClose\":2.814624},{\"timestamp\":1235347200000,\"adjClose\":2.683461},{\"timestamp\":1235433600000,\"adjClose\":2.785305},{\"timestamp\":1235520000000,\"adjClose\":2.81339},{\"timestamp\":1235606400000,\"adjClose\":2.752592},{\"timestamp\":1235692800000,\"adjClose\":2.756295},{\"timestamp\":1235952000000,\"adjClose\":2.714014},{\"timestamp\":1236038400000,\"adjClose\":2.727285},{\"timestamp\":1236124800000,\"adjClose\":2.813699},{\"timestamp\":1236211200000,\"adjClose\":2.74179},{\"timestamp\":1236297600000,\"adjClose\":2.632539},{\"timestamp\":1236556800000,\"adjClose\":2.56495},{\"timestamp\":1236643200000,\"adjClose\":2.735308},{\"timestamp\":1236729600000,\"adjClose\":2.8603},{\"timestamp\":1236816000000,\"adjClose\":2.973565},{\"timestamp\":1236902400000,\"adjClose\":2.960603},{\"timestamp\":1237161600000,\"adjClose\":2.944863},{\"timestamp\":1237248000000,\"adjClose\":3.075718},{\"timestamp\":1237334400000,\"adjClose\":3.133122},{\"timestamp\":1237420800000,\"adjClose\":3.136208},{\"timestamp\":1237507200000,\"adjClose\":3.135282},{\"timestamp\":1237766400000,\"adjClose\":3.322615},{\"timestamp\":1237852800000,\"adjClose\":3.286815},{\"timestamp\":1237939200000,\"adjClose\":3.286506},{\"timestamp\":1238025600000,\"adjClose\":3.390821},{\"timestamp\":1238112000000,\"adjClose\":3.297617},{\"timestamp\":1238371200000,\"adjClose\":3.224782},{\"timestamp\":1238457600000,\"adjClose\":3.244226},{\"timestamp\":1238544000000,\"adjClose\":3.354403},{\"timestamp\":1238630400000,\"adjClose\":3.478469},{\"timestamp\":1238716800000,\"adjClose\":3.579697},{\"timestamp\":1238976000000,\"adjClose\":3.655617},{\"timestamp\":1239062400000,\"adjClose\":3.549143},{\"timestamp\":1239148800000,\"adjClose\":3.589881},{\"timestamp\":1239235200000,\"adjClose\":3.690183},{\"timestamp\":1239580800000,\"adjClose\":3.710243},{\"timestamp\":1239667200000,\"adjClose\":3.651296},{\"timestamp\":1239753600000,\"adjClose\":3.630619},{\"timestamp\":1239840000000,\"adjClose\":3.748204},{\"timestamp\":1239926400000,\"adjClose\":3.809003},{\"timestamp\":1240185600000,\"adjClose\":3.718884},{\"timestamp\":1240272000000,\"adjClose\":3.757772},{\"timestamp\":1240358400000,\"adjClose\":3.750056},{\"timestamp\":1240444800000,\"adjClose\":3.870109},{\"timestamp\":1240531200000,\"adjClose\":3.823814},{\"timestamp\":1240790400000,\"adjClose\":3.849432},{\"timestamp\":1240876800000,\"adjClose\":3.823814},{\"timestamp\":1240963200000,\"adjClose\":3.862085},{\"timestamp\":1241049600000,\"adjClose\":3.883379},{\"timestamp\":1241136000000,\"adjClose\":3.926895},{\"timestamp\":1241395200000,\"adjClose\":4.07596},{\"timestamp\":1241481600000,\"adjClose\":4.09571},{\"timestamp\":1241568000000,\"adjClose\":4.089231},{\"timestamp\":1241654400000,\"adjClose\":3.983065},{\"timestamp\":1241740800000,\"adjClose\":3.987077},{\"timestamp\":1242000000000,\"adjClose\":3.998804},{\"timestamp\":1242086400000,\"adjClose\":3.839864},{\"timestamp\":1242172800000,\"adjClose\":3.687715},{\"timestamp\":1242259200000,\"adjClose\":3.794497},{\"timestamp\":1242345600000,\"adjClose\":3.77814},{\"timestamp\":1242604800000,\"adjClose\":3.908687},{\"timestamp\":1242691200000,\"adjClose\":3.933377},{\"timestamp\":1242777600000,\"adjClose\":3.884614},{\"timestamp\":1242864000000,\"adjClose\":3.832458},{\"timestamp\":1242950400000,\"adjClose\":3.780608},{\"timestamp\":1243296000000,\"adjClose\":4.036147},{\"timestamp\":1243382400000,\"adjClose\":4.106205},{\"timestamp\":1243468800000,\"adjClose\":4.168544},{\"timestamp\":1243555200000,\"adjClose\":4.191382},{\"timestamp\":1243814400000,\"adjClose\":4.300635},{\"timestamp\":1243900800000,\"adjClose\":4.304956},{\"timestamp\":1243987200000,\"adjClose\":4.350016},{\"timestamp\":1244073600000,\"adjClose\":4.43612},{\"timestamp\":1244160000000,\"adjClose\":4.464824},{\"timestamp\":1244419200000,\"adjClose\":4.439515},{\"timestamp\":1244505600000,\"adjClose\":4.404641},{\"timestamp\":1244592000000,\"adjClose\":4.328411},{\"timestamp\":1244678400000,\"adjClose\":4.319153},{\"timestamp\":1244764800000,\"adjClose\":4.227185},{\"timestamp\":1245024000000,\"adjClose\":4.200026},{\"timestamp\":1245110400000,\"adjClose\":4.208049},{\"timestamp\":1245196800000,\"adjClose\":4.184285},{\"timestamp\":1245283200000,\"adjClose\":4.193544},{\"timestamp\":1245369600000,\"adjClose\":4.304648},{\"timestamp\":1245628800000,\"adjClose\":4.239528},{\"timestamp\":1245715200000,\"adjClose\":4.135832},{\"timestamp\":1245801600000,\"adjClose\":4.204039},{\"timestamp\":1245888000000,\"adjClose\":4.316376},{\"timestamp\":1245974400000,\"adjClose\":4.396},{\"timestamp\":1246233600000,\"adjClose\":4.381495},{\"timestamp\":1246320000000,\"adjClose\":4.39569},{\"timestamp\":1246406400000,\"adjClose\":4.408037},{\"timestamp\":1246492800000,\"adjClose\":4.321311},{\"timestamp\":1246838400000,\"adjClose\":4.277796},{\"timestamp\":1246924800000,\"adjClose\":4.17873},{\"timestamp\":1247011200000,\"adjClose\":4.2349},{\"timestamp\":1247097600000,\"adjClose\":4.208357},{\"timestamp\":1247184000000,\"adjClose\":4.275021},{\"timestamp\":1247443200000,\"adjClose\":4.392912},{\"timestamp\":1247529600000,\"adjClose\":4.390754},{\"timestamp\":1247616000000,\"adjClose\":4.533026},{\"timestamp\":1247702400000,\"adjClose\":4.552778},{\"timestamp\":1247788800000,\"adjClose\":4.683326},{\"timestamp\":1248048000000,\"adjClose\":4.719127},{\"timestamp\":1248134400000,\"adjClose\":4.675919},{\"timestamp\":1248220800000,\"adjClose\":4.837328},{\"timestamp\":1248307200000,\"adjClose\":4.870659},{\"timestamp\":1248393600000,\"adjClose\":4.937631},{\"timestamp\":1248652800000,\"adjClose\":4.941023},{\"timestamp\":1248739200000,\"adjClose\":4.937938},{\"timestamp\":1248825600000,\"adjClose\":4.938863},{\"timestamp\":1248912000000,\"adjClose\":5.024044},{\"timestamp\":1248998400000,\"adjClose\":5.04256},{\"timestamp\":1249257600000,\"adjClose\":5.136382},{\"timestamp\":1249344000000,\"adjClose\":5.109222},{\"timestamp\":1249430400000,\"adjClose\":5.095644},{\"timestamp\":1249516800000,\"adjClose\":5.058609},{\"timestamp\":1249603200000,\"adjClose\":5.107988},{\"timestamp\":1249862400000,\"adjClose\":5.083607},{\"timestamp\":1249948800000,\"adjClose\":5.025278},{\"timestamp\":1250035200000,\"adjClose\":5.101815},{\"timestamp\":1250121600000,\"adjClose\":5.197797},{\"timestamp\":1250208000000,\"adjClose\":5.147184},{\"timestamp\":1250467200000,\"adjClose\":4.925285},{\"timestamp\":1250553600000,\"adjClose\":5.061387},{\"timestamp\":1250640000000,\"adjClose\":5.079903},{\"timestamp\":1250726400000,\"adjClose\":5.133297},{\"timestamp\":1250812800000,\"adjClose\":5.222487},{\"timestamp\":1251072000000,\"adjClose\":5.217549},{\"timestamp\":1251158400000,\"adjClose\":5.228042},{\"timestamp\":1251244800000,\"adjClose\":5.166626},{\"timestamp\":1251331200000,\"adjClose\":5.229586},{\"timestamp\":1251417600000,\"adjClose\":5.248102},{\"timestamp\":1251676800000,\"adjClose\":5.191317},{\"timestamp\":1251763200000,\"adjClose\":5.101507},{\"timestamp\":1251849600000,\"adjClose\":5.097804},{\"timestamp\":1251936000000,\"adjClose\":5.140084},{\"timestamp\":1252022400000,\"adjClose\":5.256125},{\"timestamp\":1252368000000,\"adjClose\":5.336986},{\"timestamp\":1252454400000,\"adjClose\":5.281743},{\"timestamp\":1252540800000,\"adjClose\":5.325565},{\"timestamp\":1252627200000,\"adjClose\":5.313221},{\"timestamp\":1252886400000,\"adjClose\":5.361365},{\"timestamp\":1252972800000,\"adjClose\":5.405807},{\"timestamp\":1253059200000,\"adjClose\":5.612893},{\"timestamp\":1253145600000,\"adjClose\":5.695603},{\"timestamp\":1253232000000,\"adjClose\":5.710109},{\"timestamp\":1253491200000,\"adjClose\":5.679245},{\"timestamp\":1253577600000,\"adjClose\":5.693443},{\"timestamp\":1253664000000,\"adjClose\":5.724923},{\"timestamp\":1253750400000,\"adjClose\":5.673074},{\"timestamp\":1253836800000,\"adjClose\":5.628324},{\"timestamp\":1254096000000,\"adjClose\":5.744982},{\"timestamp\":1254182400000,\"adjClose\":5.721219},{\"timestamp\":1254268800000,\"adjClose\":5.720292},{\"timestamp\":1254355200000,\"adjClose\":5.581721},{\"timestamp\":1254441600000,\"adjClose\":5.706404},{\"timestamp\":1254700800000,\"adjClose\":5.74097},{\"timestamp\":1254787200000,\"adjClose\":5.86411},{\"timestamp\":1254873600000,\"adjClose\":5.871518},{\"timestamp\":1254960000000,\"adjClose\":5.841272},{\"timestamp\":1255046400000,\"adjClose\":5.878306},{\"timestamp\":1255305600000,\"adjClose\":5.888799},{\"timestamp\":1255392000000,\"adjClose\":5.864419},{\"timestamp\":1255478400000,\"adjClose\":5.903615},{\"timestamp\":1255564800000,\"adjClose\":5.881084},{\"timestamp\":1255651200000,\"adjClose\":5.803623},{\"timestamp\":1255910400000,\"adjClose\":5.859481},{\"timestamp\":1255996800000,\"adjClose\":6.134152},{\"timestamp\":1256083200000,\"adjClose\":6.324265},{\"timestamp\":1256169600000,\"adjClose\":6.332906},{\"timestamp\":1256256000000,\"adjClose\":6.29402},{\"timestamp\":1256515200000,\"adjClose\":6.24896},{\"timestamp\":1256601600000,\"adjClose\":6.091257},{\"timestamp\":1256688000000,\"adjClose\":5.93787},{\"timestamp\":1256774400000,\"adjClose\":6.059775},{\"timestamp\":1256860800000,\"adjClose\":5.81751},{\"timestamp\":1257120000000,\"adjClose\":5.842506},{\"timestamp\":1257206400000,\"adjClose\":5.825223},{\"timestamp\":1257292800000,\"adjClose\":5.888799},{\"timestamp\":1257379200000,\"adjClose\":5.988176},{\"timestamp\":1257465600000,\"adjClose\":5.997743},{\"timestamp\":1257724800000,\"adjClose\":6.217482},{\"timestamp\":1257811200000,\"adjClose\":6.264391},{\"timestamp\":1257897600000,\"adjClose\":6.272725},{\"timestamp\":1257984000000,\"adjClose\":6.233838},{\"timestamp\":1258070400000,\"adjClose\":6.309759},{\"timestamp\":1258329600000,\"adjClose\":6.377039},{\"timestamp\":1258416000000,\"adjClose\":6.388456},{\"timestamp\":1258502400000,\"adjClose\":6.35636},{\"timestamp\":1258588800000,\"adjClose\":6.188163},{\"timestamp\":1258675200000,\"adjClose\":6.169954},{\"timestamp\":1258934400000,\"adjClose\":6.35389},{\"timestamp\":1259020800000,\"adjClose\":6.30945},{\"timestamp\":1259107200000,\"adjClose\":6.301733},{\"timestamp\":1259280000000,\"adjClose\":6.190631},{\"timestamp\":1259539200000,\"adjClose\":6.169644},{\"timestamp\":1259625600000,\"adjClose\":6.078912},{\"timestamp\":1259712000000,\"adjClose\":6.056073},{\"timestamp\":1259798400000,\"adjClose\":6.063787},{\"timestamp\":1259884800000,\"adjClose\":5.966264},{\"timestamp\":1260144000000,\"adjClose\":5.831396},{\"timestamp\":1260230400000,\"adjClose\":5.85979},{\"timestamp\":1260316800000,\"adjClose\":6.104527},{\"timestamp\":1260403200000,\"adjClose\":6.062245},{\"timestamp\":1260489600000,\"adjClose\":6.007928},{\"timestamp\":1260748800000,\"adjClose\":6.07922},{\"timestamp\":1260835200000,\"adjClose\":5.992496},{\"timestamp\":1260921600000,\"adjClose\":6.019038},{\"timestamp\":1261008000000,\"adjClose\":5.921206},{\"timestamp\":1261094400000,\"adjClose\":6.031383},{\"timestamp\":1261353600000,\"adjClose\":6.117797},{\"timestamp\":1261440000000,\"adjClose\":6.183534},{\"timestamp\":1261526400000,\"adjClose\":6.237234},{\"timestamp\":1261612800000,\"adjClose\":6.451417},{\"timestamp\":1261958400000,\"adjClose\":6.53073},{\"timestamp\":1262044800000,\"adjClose\":6.453269},{\"timestamp\":1262131200000,\"adjClose\":6.531657},{\"timestamp\":1262217600000,\"adjClose\":6.503574},{\"timestamp\":1262563200000,\"adjClose\":6.604801},{\"timestamp\":1262649600000,\"adjClose\":6.616219},{\"timestamp\":1262736000000,\"adjClose\":6.51098},{\"timestamp\":1262822400000,\"adjClose\":6.498945},{\"timestamp\":1262908800000,\"adjClose\":6.54215},{\"timestamp\":1263168000000,\"adjClose\":6.484439},{\"timestamp\":1263254400000,\"adjClose\":6.410679},{\"timestamp\":1263340800000,\"adjClose\":6.501104},{\"timestamp\":1263427200000,\"adjClose\":6.463451},{\"timestamp\":1263513600000,\"adjClose\":6.355436},{\"timestamp\":1263859200000,\"adjClose\":6.63659},{\"timestamp\":1263945600000,\"adjClose\":6.534435},{\"timestamp\":1264032000000,\"adjClose\":6.42148},{\"timestamp\":1264118400000,\"adjClose\":6.102983},{\"timestamp\":1264377600000,\"adjClose\":6.267169},{\"timestamp\":1264464000000,\"adjClose\":6.355743},{\"timestamp\":1264550400000,\"adjClose\":6.415617},{\"timestamp\":1264636800000,\"adjClose\":6.15051},{\"timestamp\":1264723200000,\"adjClose\":5.927377},{\"timestamp\":1264982400000,\"adjClose\":6.009779},{\"timestamp\":1265068800000,\"adjClose\":6.044655},{\"timestamp\":1265155200000,\"adjClose\":6.148659},{\"timestamp\":1265241600000,\"adjClose\":5.927071},{\"timestamp\":1265328000000,\"adjClose\":6.03231},{\"timestamp\":1265587200000,\"adjClose\":5.990953},{\"timestamp\":1265673600000,\"adjClose\":6.054839},{\"timestamp\":1265760000000,\"adjClose\":6.021814},{\"timestamp\":1265846400000,\"adjClose\":6.131377},{\"timestamp\":1265932800000,\"adjClose\":6.184149},{\"timestamp\":1266278400000,\"adjClose\":6.277353},{\"timestamp\":1266364800000,\"adjClose\":6.251121},{\"timestamp\":1266451200000,\"adjClose\":6.262847},{\"timestamp\":1266537600000,\"adjClose\":6.223962},{\"timestamp\":1266796800000,\"adjClose\":6.185386},{\"timestamp\":1266883200000,\"adjClose\":6.081687},{\"timestamp\":1266969600000,\"adjClose\":6.192791},{\"timestamp\":1267056000000,\"adjClose\":6.234147},{\"timestamp\":1267142400000,\"adjClose\":6.315006},{\"timestamp\":1267401600000,\"adjClose\":6.449873},{\"timestamp\":1267488000000,\"adjClose\":6.445552},{\"timestamp\":1267574400000,\"adjClose\":6.460366},{\"timestamp\":1267660800000,\"adjClose\":6.502955},{\"timestamp\":1267747200000,\"adjClose\":6.75726},{\"timestamp\":1268006400000,\"adjClose\":6.761272},{\"timestamp\":1268092800000,\"adjClose\":6.882867},{\"timestamp\":1268179200000,\"adjClose\":6.939038},{\"timestamp\":1268265600000,\"adjClose\":6.959407},{\"timestamp\":1268352000000,\"adjClose\":6.993356},{\"timestamp\":1268611200000,\"adjClose\":6.908176},{\"timestamp\":1268697600000,\"adjClose\":6.927001},{\"timestamp\":1268784000000,\"adjClose\":6.916819},{\"timestamp\":1268870400000,\"adjClose\":6.933173},{\"timestamp\":1268956800000,\"adjClose\":6.859105},{\"timestamp\":1269216000000,\"adjClose\":6.936261},{\"timestamp\":1269302400000,\"adjClose\":7.047673},{\"timestamp\":1269388800000,\"adjClose\":7.078844},{\"timestamp\":1269475200000,\"adjClose\":6.994898},{\"timestamp\":1269561600000,\"adjClose\":7.126063},{\"timestamp\":1269820800000,\"adjClose\":7.172047},{\"timestamp\":1269907200000,\"adjClose\":7.278829},{\"timestamp\":1269993600000,\"adjClose\":7.252596},{\"timestamp\":1270080000000,\"adjClose\":7.282534},{\"timestamp\":1270425600000,\"adjClose\":7.360304},{\"timestamp\":1270512000000,\"adjClose\":7.392711},{\"timestamp\":1270598400000,\"adjClose\":7.425426},{\"timestamp\":1270684800000,\"adjClose\":7.405362},{\"timestamp\":1270771200000,\"adjClose\":7.462149},{\"timestamp\":1271030400000,\"adjClose\":7.477583},{\"timestamp\":1271116800000,\"adjClose\":7.481902},{\"timestamp\":1271203200000,\"adjClose\":7.582513},{\"timestamp\":1271289600000,\"adjClose\":7.682199},{\"timestamp\":1271376000000,\"adjClose\":7.635287},{\"timestamp\":1271635200000,\"adjClose\":7.625102},{\"timestamp\":1271721600000,\"adjClose\":7.548563},{\"timestamp\":1271808000000,\"adjClose\":8.000078},{\"timestamp\":1271894400000,\"adjClose\":8.223827},{\"timestamp\":1271980800000,\"adjClose\":8.358383},{\"timestamp\":1272240000000,\"adjClose\":8.31734},{\"timestamp\":1272326400000,\"adjClose\":8.087106},{\"timestamp\":1272412800000,\"adjClose\":8.073527},{\"timestamp\":1272499200000,\"adjClose\":8.290798},{\"timestamp\":1272585600000,\"adjClose\":8.057792},{\"timestamp\":1272844800000,\"adjClose\":8.220124},{\"timestamp\":1272931200000,\"adjClose\":7.98341},{\"timestamp\":1273017600000,\"adjClose\":7.900392},{\"timestamp\":1273104000000,\"adjClose\":7.599795},{\"timestamp\":1273190400000,\"adjClose\":7.279138},{\"timestamp\":1273449600000,\"adjClose\":7.83867},{\"timestamp\":1273536000000,\"adjClose\":7.916748},{\"timestamp\":1273622400000,\"adjClose\":8.088652},{\"timestamp\":1273708800000,\"adjClose\":7.973536},{\"timestamp\":1273795200000,\"adjClose\":7.833423},{\"timestamp\":1274054400000,\"adjClose\":7.845766},{\"timestamp\":1274140800000,\"adjClose\":7.788363},{\"timestamp\":1274227200000,\"adjClose\":7.664299},{\"timestamp\":1274313600000,\"adjClose\":7.337776},{\"timestamp\":1274400000000,\"adjClose\":7.478506},{\"timestamp\":1274659200000,\"adjClose\":7.615535},{\"timestamp\":1274745600000,\"adjClose\":7.568008},{\"timestamp\":1274832000000,\"adjClose\":7.53375},{\"timestamp\":1274918400000,\"adjClose\":7.818917},{\"timestamp\":1275004800000,\"adjClose\":7.927861},{\"timestamp\":1275350400000,\"adjClose\":8.049766},{\"timestamp\":1275436800000,\"adjClose\":8.146054},{\"timestamp\":1275523200000,\"adjClose\":8.120439},{\"timestamp\":1275609600000,\"adjClose\":7.899468},{\"timestamp\":1275868800000,\"adjClose\":7.744541},{\"timestamp\":1275955200000,\"adjClose\":7.69485},{\"timestamp\":1276041600000,\"adjClose\":7.505666},{\"timestamp\":1276128000000,\"adjClose\":7.731267},{\"timestamp\":1276214400000,\"adjClose\":7.823856},{\"timestamp\":1276473600000,\"adjClose\":7.847616},{\"timestamp\":1276560000000,\"adjClose\":8.014581},{\"timestamp\":1276646400000,\"adjClose\":8.247901},{\"timestamp\":1276732800000,\"adjClose\":8.390481},{\"timestamp\":1276819200000,\"adjClose\":8.45838},{\"timestamp\":1277078400000,\"adjClose\":8.338018},{\"timestamp\":1277164800000,\"adjClose\":8.45159},{\"timestamp\":1277251200000,\"adjClose\":8.362708},{\"timestamp\":1277337600000,\"adjClose\":8.301908},{\"timestamp\":1277424000000,\"adjClose\":8.230925},{\"timestamp\":1277683200000,\"adjClose\":8.280309},{\"timestamp\":1277769600000,\"adjClose\":7.905947},{\"timestamp\":1277856000000,\"adjClose\":7.762749},{\"timestamp\":1277942400000,\"adjClose\":7.668618},{\"timestamp\":1278028800000,\"adjClose\":7.621089},{\"timestamp\":1278374400000,\"adjClose\":7.673245},{\"timestamp\":1278460800000,\"adjClose\":7.983104},{\"timestamp\":1278547200000,\"adjClose\":7.965201},{\"timestamp\":1278633600000,\"adjClose\":8.012422},{\"timestamp\":1278892800000,\"adjClose\":7.940513},{\"timestamp\":1278979200000,\"adjClose\":7.771081},{\"timestamp\":1279065600000,\"adjClose\":7.799782},{\"timestamp\":1279152000000,\"adjClose\":7.760276},{\"timestamp\":1279238400000,\"adjClose\":7.712444},{\"timestamp\":1279497600000,\"adjClose\":7.579117},{\"timestamp\":1279584000000,\"adjClose\":7.773859},{\"timestamp\":1279670400000,\"adjClose\":7.846385},{\"timestamp\":1279756800000,\"adjClose\":7.993906},{\"timestamp\":1279843200000,\"adjClose\":8.022297},{\"timestamp\":1280102400000,\"adjClose\":8.00193},{\"timestamp\":1280188800000,\"adjClose\":8.150067},{\"timestamp\":1280275200000,\"adjClose\":8.053777},{\"timestamp\":1280361600000,\"adjClose\":7.96582},{\"timestamp\":1280448000000,\"adjClose\":7.939281},{\"timestamp\":1280707200000,\"adjClose\":8.081243},{\"timestamp\":1280793600000,\"adjClose\":8.083712},{\"timestamp\":1280880000000,\"adjClose\":8.116117},{\"timestamp\":1280966400000,\"adjClose\":8.076613},{\"timestamp\":1281052800000,\"adjClose\":8.026928},{\"timestamp\":1281312000000,\"adjClose\":8.078158},{\"timestamp\":1281398400000,\"adjClose\":8.005939},{\"timestamp\":1281484800000,\"adjClose\":7.721392},{\"timestamp\":1281571200000,\"adjClose\":7.770772},{\"timestamp\":1281657600000,\"adjClose\":7.687754},{\"timestamp\":1281916800000,\"adjClose\":7.642696},{\"timestamp\":1282003200000,\"adjClose\":7.776328},{\"timestamp\":1282089600000,\"adjClose\":7.810274},{\"timestamp\":1282176000000,\"adjClose\":7.711823},{\"timestamp\":1282262400000,\"adjClose\":7.704421},{\"timestamp\":1282521600000,\"adjClose\":7.585908},{\"timestamp\":1282608000000,\"adjClose\":7.404747},{\"timestamp\":1282694400000,\"adjClose\":7.496099},{\"timestamp\":1282780800000,\"adjClose\":7.415548},{\"timestamp\":1282867200000,\"adjClose\":7.456904},{\"timestamp\":1283126400000,\"adjClose\":7.484062},{\"timestamp\":1283212800000,\"adjClose\":7.502583},{\"timestamp\":1283299200000,\"adjClose\":7.725714},{\"timestamp\":1283385600000,\"adjClose\":7.782502},{\"timestamp\":1283472000000,\"adjClose\":7.986192},{\"timestamp\":1283817600000,\"adjClose\":7.956563},{\"timestamp\":1283904000000,\"adjClose\":8.114268},{\"timestamp\":1283990400000,\"adjClose\":8.118896},{\"timestamp\":1284076800000,\"adjClose\":8.129388},{\"timestamp\":1284336000000,\"adjClose\":8.24142},{\"timestamp\":1284422400000,\"adjClose\":8.272898},{\"timestamp\":1284508800000,\"adjClose\":8.339559},{\"timestamp\":1284595200000,\"adjClose\":8.535535},{\"timestamp\":1284681600000,\"adjClose\":8.498499},{\"timestamp\":1284940800000,\"adjClose\":8.741076},{\"timestamp\":1285027200000,\"adjClose\":8.757742},{\"timestamp\":1285113600000,\"adjClose\":8.880573},{\"timestamp\":1285200000000,\"adjClose\":8.916681},{\"timestamp\":1285286400000,\"adjClose\":9.021612},{\"timestamp\":1285545600000,\"adjClose\":8.985811},{\"timestamp\":1285632000000,\"adjClose\":8.853107},{\"timestamp\":1285718400000,\"adjClose\":8.868847},{\"timestamp\":1285804800000,\"adjClose\":8.757125},{\"timestamp\":1285891200000,\"adjClose\":8.719163},{\"timestamp\":1286150400000,\"adjClose\":8.599421},{\"timestamp\":1286236800000,\"adjClose\":8.917298},{\"timestamp\":1286323200000,\"adjClose\":8.925013},{\"timestamp\":1286409600000,\"adjClose\":8.925941},{\"timestamp\":1286496000000,\"adjClose\":9.075621},{\"timestamp\":1286755200000,\"adjClose\":9.115436},{\"timestamp\":1286841600000,\"adjClose\":9.213575},{\"timestamp\":1286928000000,\"adjClose\":9.262955},{\"timestamp\":1287014400000,\"adjClose\":9.329926},{\"timestamp\":1287100800000,\"adjClose\":9.71354},{\"timestamp\":1287360000000,\"adjClose\":9.814152},{\"timestamp\":1287446400000,\"adjClose\":9.551516},{\"timestamp\":1287532800000,\"adjClose\":9.583611},{\"timestamp\":1287619200000,\"adjClose\":9.552444},{\"timestamp\":1287705600000,\"adjClose\":9.489175},{\"timestamp\":1287964800000,\"adjClose\":9.531454},{\"timestamp\":1288051200000,\"adjClose\":9.507076},{\"timestamp\":1288137600000,\"adjClose\":9.500285},{\"timestamp\":1288224000000,\"adjClose\":9.42035},{\"timestamp\":1288310400000,\"adjClose\":9.288879},{\"timestamp\":1288569600000,\"adjClose\":9.387636},{\"timestamp\":1288656000000,\"adjClose\":9.547504},{\"timestamp\":1288742400000,\"adjClose\":9.653669},{\"timestamp\":1288828800000,\"adjClose\":9.822487},{\"timestamp\":1288915200000,\"adjClose\":9.787304},{\"timestamp\":1289174400000,\"adjClose\":9.833287},{\"timestamp\":1289260800000,\"adjClose\":9.754896},{\"timestamp\":1289347200000,\"adjClose\":9.81508},{\"timestamp\":1289433600000,\"adjClose\":9.772487},{\"timestamp\":1289520000000,\"adjClose\":9.506455},{\"timestamp\":1289779200000,\"adjClose\":9.475905},{\"timestamp\":1289865600000,\"adjClose\":9.307703},{\"timestamp\":1289952000000,\"adjClose\":9.274068},{\"timestamp\":1290038400000,\"adjClose\":9.5188},{\"timestamp\":1290124800000,\"adjClose\":9.466335},{\"timestamp\":1290384000000,\"adjClose\":9.670953},{\"timestamp\":1290470400000,\"adjClose\":9.528057},{\"timestamp\":1290556800000,\"adjClose\":9.715391},{\"timestamp\":1290729600000,\"adjClose\":9.721566},{\"timestamp\":1290988800000,\"adjClose\":9.779278},{\"timestamp\":1291075200000,\"adjClose\":9.602749},{\"timestamp\":1291161600000,\"adjClose\":9.764775},{\"timestamp\":1291248000000,\"adjClose\":9.818781},{\"timestamp\":1291334400000,\"adjClose\":9.796867},{\"timestamp\":1291593600000,\"adjClose\":9.880506},{\"timestamp\":1291680000000,\"adjClose\":9.820631},{\"timestamp\":1291766400000,\"adjClose\":9.907048},{\"timestamp\":1291852800000,\"adjClose\":9.868472},{\"timestamp\":1291939200000,\"adjClose\":9.89316},{\"timestamp\":1292198400000,\"adjClose\":9.92742},{\"timestamp\":1292284800000,\"adjClose\":9.884824},{\"timestamp\":1292371200000,\"adjClose\":9.886986},{\"timestamp\":1292457600000,\"adjClose\":9.914455},{\"timestamp\":1292544000000,\"adjClose\":9.894701},{\"timestamp\":1292803200000,\"adjClose\":9.944082},{\"timestamp\":1292889600000,\"adjClose\":10.005497},{\"timestamp\":1292976000000,\"adjClose\":10.035123},{\"timestamp\":1293062400000,\"adjClose\":9.986981},{\"timestamp\":1293408000000,\"adjClose\":10.020309},{\"timestamp\":1293494400000,\"adjClose\":10.044692},{\"timestamp\":1293580800000,\"adjClose\":10.039138},{\"timestamp\":1293667200000,\"adjClose\":9.98883},{\"timestamp\":1293753600000,\"adjClose\":9.954883},{\"timestamp\":1294012800000,\"adjClose\":10.171227},{\"timestamp\":1294099200000,\"adjClose\":10.224311},{\"timestamp\":1294185600000,\"adjClose\":10.307948},{\"timestamp\":1294272000000,\"adjClose\":10.299613},{\"timestamp\":1294358400000,\"adjClose\":10.373374},{\"timestamp\":1294617600000,\"adjClose\":10.56873},{\"timestamp\":1294704000000,\"adjClose\":10.543734},{\"timestamp\":1294790400000,\"adjClose\":10.629529},{\"timestamp\":1294876800000,\"adjClose\":10.668415},{\"timestamp\":1294963200000,\"adjClose\":10.754829},{\"timestamp\":1295308800000,\"adjClose\":10.513179},{\"timestamp\":1295395200000,\"adjClose\":10.45732},{\"timestamp\":1295481600000,\"adjClose\":10.267206},{\"timestamp\":1295568000000,\"adjClose\":10.08327},{\"timestamp\":1295827200000,\"adjClose\":10.414419},{\"timestamp\":1295913600000,\"adjClose\":10.536324},{\"timestamp\":1296000000000,\"adjClose\":10.611938},{\"timestamp\":1296086400000,\"adjClose\":10.592186},{\"timestamp\":1296172800000,\"adjClose\":10.372755},{\"timestamp\":1296432000000,\"adjClose\":10.472136},{\"timestamp\":1296518400000,\"adjClose\":10.648356},{\"timestamp\":1296604800000,\"adjClose\":10.626443},{\"timestamp\":1296691200000,\"adjClose\":10.599289},{\"timestamp\":1296777600000,\"adjClose\":10.693722},{\"timestamp\":1297036800000,\"adjClose\":10.859759},{\"timestamp\":1297123200000,\"adjClose\":10.962224},{\"timestamp\":1297209600000,\"adjClose\":11.053575},{\"timestamp\":1297296000000,\"adjClose\":10.941851},{\"timestamp\":1297382400000,\"adjClose\":11.013146},{\"timestamp\":1297641600000,\"adjClose\":11.085055},{\"timestamp\":1297728000000,\"adjClose\":11.107273},{\"timestamp\":1297814400000,\"adjClose\":11.20696},{\"timestamp\":1297900800000,\"adjClose\":11.057897},{\"timestamp\":1297987200000,\"adjClose\":10.819026},{\"timestamp\":1298332800000,\"adjClose\":10.450218},{\"timestamp\":1298419200000,\"adjClose\":10.573977},{\"timestamp\":1298505600000,\"adjClose\":10.582002},{\"timestamp\":1298592000000,\"adjClose\":10.744951},{\"timestamp\":1298851200000,\"adjClose\":10.900808},{\"timestamp\":1298937600000,\"adjClose\":10.780445},{\"timestamp\":1299024000000,\"adjClose\":10.867167},{\"timestamp\":1299110400000,\"adjClose\":11.096785},{\"timestamp\":1299196800000,\"adjClose\":11.110359},{\"timestamp\":1299456000000,\"adjClose\":10.967158},{\"timestamp\":1299542400000,\"adjClose\":10.979506},{\"timestamp\":1299628800000,\"adjClose\":10.877969},{\"timestamp\":1299715200000,\"adjClose\":10.698971},{\"timestamp\":1299801600000,\"adjClose\":10.863155},{\"timestamp\":1300060800000,\"adjClose\":10.911613},{\"timestamp\":1300147200000,\"adjClose\":10.6607},{\"timestamp\":1300233600000,\"adjClose\":10.184807},{\"timestamp\":1300320000000,\"adjClose\":10.327694},{\"timestamp\":1300406400000,\"adjClose\":10.205176},{\"timestamp\":1300665600000,\"adjClose\":10.471513},{\"timestamp\":1300752000000,\"adjClose\":10.530156},{\"timestamp\":1300838400000,\"adjClose\":10.46812},{\"timestamp\":1300924800000,\"adjClose\":10.646504},{\"timestamp\":1301011200000,\"adjClose\":10.849267},{\"timestamp\":1301270400000,\"adjClose\":10.81532},{\"timestamp\":1301356800000,\"adjClose\":10.831367},{\"timestamp\":1301443200000,\"adjClose\":10.75946},{\"timestamp\":1301529600000,\"adjClose\":10.755758},{\"timestamp\":1301616000000,\"adjClose\":10.633851},{\"timestamp\":1301875200000,\"adjClose\":10.529843},{\"timestamp\":1301961600000,\"adjClose\":10.458863},{\"timestamp\":1302048000000,\"adjClose\":10.43263},{\"timestamp\":1302134400000,\"adjClose\":10.433864},{\"timestamp\":1302220800000,\"adjClose\":10.340657},{\"timestamp\":1302480000000,\"adjClose\":10.209185},{\"timestamp\":1302566400000,\"adjClose\":10.258571},{\"timestamp\":1302652800000,\"adjClose\":10.373683},{\"timestamp\":1302739200000,\"adjClose\":10.259183},{\"timestamp\":1302825600000,\"adjClose\":10.106107},{\"timestamp\":1303084800000,\"adjClose\":10.241594},{\"timestamp\":1303171200000,\"adjClose\":10.427073},{\"timestamp\":1303257600000,\"adjClose\":10.567495},{\"timestamp\":1303344000000,\"adjClose\":10.82334},{\"timestamp\":1303689600000,\"adjClose\":10.894636},{\"timestamp\":1303776000000,\"adjClose\":10.814702},{\"timestamp\":1303862400000,\"adjClose\":10.806368},{\"timestamp\":1303948800000,\"adjClose\":10.701439},{\"timestamp\":1304035200000,\"adjClose\":10.805753},{\"timestamp\":1304294400000,\"adjClose\":10.686932},{\"timestamp\":1304380800000,\"adjClose\":10.746188},{\"timestamp\":1304467200000,\"adjClose\":10.788472},{\"timestamp\":1304553600000,\"adjClose\":10.701439},{\"timestamp\":1304640000000,\"adjClose\":10.698661},{\"timestamp\":1304899200000,\"adjClose\":10.727673},{\"timestamp\":1304985600000,\"adjClose\":10.784765},{\"timestamp\":1305072000000,\"adjClose\":10.716253},{\"timestamp\":1305158400000,\"adjClose\":10.695885},{\"timestamp\":1305244800000,\"adjClose\":10.508549},{\"timestamp\":1305504000000,\"adjClose\":10.286343},{\"timestamp\":1305590400000,\"adjClose\":10.37399},{\"timestamp\":1305676800000,\"adjClose\":10.489108},{\"timestamp\":1305763200000,\"adjClose\":10.509478},{\"timestamp\":1305849600000,\"adjClose\":10.345598},{\"timestamp\":1306108800000,\"adjClose\":10.320293},{\"timestamp\":1306195200000,\"adjClose\":10.252086},{\"timestamp\":1306281600000,\"adjClose\":10.393743},{\"timestamp\":1306368000000,\"adjClose\":10.338808},{\"timestamp\":1306454400000,\"adjClose\":10.413186},{\"timestamp\":1306800000000,\"adjClose\":10.73477},{\"timestamp\":1306886400000,\"adjClose\":10.66317},{\"timestamp\":1306972800000,\"adjClose\":10.681378},{\"timestamp\":1307059200000,\"adjClose\":10.599289},{\"timestamp\":1307318400000,\"adjClose\":10.43263},{\"timestamp\":1307404800000,\"adjClose\":10.247458},{\"timestamp\":1307491200000,\"adjClose\":10.25363},{\"timestamp\":1307577600000,\"adjClose\":10.230485},{\"timestamp\":1307664000000,\"adjClose\":10.057961},{\"timestamp\":1307923200000,\"adjClose\":10.079567},{\"timestamp\":1308009600000,\"adjClose\":10.259801},{\"timestamp\":1308096000000,\"adjClose\":10.084193},{\"timestamp\":1308182400000,\"adjClose\":10.035123},{\"timestamp\":1308268800000,\"adjClose\":9.883901},{\"timestamp\":1308528000000,\"adjClose\":9.731441},{\"timestamp\":1308614400000,\"adjClose\":10.039449},{\"timestamp\":1308700800000,\"adjClose\":9.956427},{\"timestamp\":1308787200000,\"adjClose\":10.222457},{\"timestamp\":1308873600000,\"adjClose\":10.071851},{\"timestamp\":1309132800000,\"adjClose\":10.247458},{\"timestamp\":1309219200000,\"adjClose\":10.346832},{\"timestamp\":1309305600000,\"adjClose\":10.309181},{\"timestamp\":1309392000000,\"adjClose\":10.359487},{\"timestamp\":1309478400000,\"adjClose\":10.59373},{\"timestamp\":1309824000000,\"adjClose\":10.784149},{\"timestamp\":1309910400000,\"adjClose\":10.856055},{\"timestamp\":1309996800000,\"adjClose\":11.02395},{\"timestamp\":1310083200000,\"adjClose\":11.101412},{\"timestamp\":1310342400000,\"adjClose\":10.925189},{\"timestamp\":1310428800000,\"adjClose\":10.917474},{\"timestamp\":1310515200000,\"adjClose\":11.049256},{\"timestamp\":1310601600000,\"adjClose\":11.04154},{\"timestamp\":1310688000000,\"adjClose\":11.262204},{\"timestamp\":1310947200000,\"adjClose\":11.536259},{\"timestamp\":1311033600000,\"adjClose\":11.630387},{\"timestamp\":1311120000000,\"adjClose\":11.940553},{\"timestamp\":1311206400000,\"adjClose\":11.952591},{\"timestamp\":1311292800000,\"adjClose\":12.138072},{\"timestamp\":1311552000000,\"adjClose\":12.298552},{\"timestamp\":1311638400000,\"adjClose\":12.450087},{\"timestamp\":1311724800000,\"adjClose\":12.116157},{\"timestamp\":1311811200000,\"adjClose\":12.092395},{\"timestamp\":1311897600000,\"adjClose\":12.051039},{\"timestamp\":1312156800000,\"adjClose\":12.244542},{\"timestamp\":1312243200000,\"adjClose\":12.002584},{\"timestamp\":1312329600000,\"adjClose\":12.115541},{\"timestamp\":1312416000000,\"adjClose\":11.646437},{\"timestamp\":1312502400000,\"adjClose\":11.530703},{\"timestamp\":1312761600000,\"adjClose\":10.900808},{\"timestamp\":1312848000000,\"adjClose\":11.54274},{\"timestamp\":1312934400000,\"adjClose\":11.224239},{\"timestamp\":1313020800000,\"adjClose\":11.533173},{\"timestamp\":1313107200000,\"adjClose\":11.634709},{\"timestamp\":1313366400000,\"adjClose\":11.832844},{\"timestamp\":1313452800000,\"adjClose\":11.742421},{\"timestamp\":1313539200000,\"adjClose\":11.74118},{\"timestamp\":1313625600000,\"adjClose\":11.297077},{\"timestamp\":1313712000000,\"adjClose\":10.987839},{\"timestamp\":1313971200000,\"adjClose\":11.00049},{\"timestamp\":1314057600000,\"adjClose\":11.530087},{\"timestamp\":1314144000000,\"adjClose\":11.609709},{\"timestamp\":1314230400000,\"adjClose\":11.533787},{\"timestamp\":1314316800000,\"adjClose\":11.838089},{\"timestamp\":1314576000000,\"adjClose\":12.035297},{\"timestamp\":1314662400000,\"adjClose\":12.035915},{\"timestamp\":1314748800000,\"adjClose\":11.876668},{\"timestamp\":1314835200000,\"adjClose\":11.759392},{\"timestamp\":1314921600000,\"adjClose\":11.543972},{\"timestamp\":1315267200000,\"adjClose\":11.71958},{\"timestamp\":1315353600000,\"adjClose\":11.848891},{\"timestamp\":1315440000000,\"adjClose\":11.855374},{\"timestamp\":1315526400000,\"adjClose\":11.649832},{\"timestamp\":1315785600000,\"adjClose\":11.725752},{\"timestamp\":1315872000000,\"adjClose\":11.870185},{\"timestamp\":1315958400000,\"adjClose\":12.014622},{\"timestamp\":1316044800000,\"adjClose\":12.127574},{\"timestamp\":1316131200000,\"adjClose\":12.360277},{\"timestamp\":1316390400000,\"adjClose\":12.703772},{\"timestamp\":1316476800000,\"adjClose\":12.759943},{\"timestamp\":1316563200000,\"adjClose\":12.71951},{\"timestamp\":1316649600000,\"adjClose\":12.401018},{\"timestamp\":1316736000000,\"adjClose\":12.47755},{\"timestamp\":1316995200000,\"adjClose\":12.442678},{\"timestamp\":1317081600000,\"adjClose\":12.322005},{\"timestamp\":1317168000000,\"adjClose\":12.252568},{\"timestamp\":1317254400000,\"adjClose\":12.053812},{\"timestamp\":1317340800000,\"adjClose\":11.768343},{\"timestamp\":1317600000000,\"adjClose\":11.560946},{\"timestamp\":1317686400000,\"adjClose\":11.496137},{\"timestamp\":1317772800000,\"adjClose\":11.673594},{\"timestamp\":1317859200000,\"adjClose\":11.646437},{\"timestamp\":1317945600000,\"adjClose\":11.412808},{\"timestamp\":1318204800000,\"adjClose\":11.999499},{\"timestamp\":1318291200000,\"adjClose\":12.353795},{\"timestamp\":1318377600000,\"adjClose\":12.412435},{\"timestamp\":1318464000000,\"adjClose\":12.605012},{\"timestamp\":1318550400000,\"adjClose\":13.023811},{\"timestamp\":1318809600000,\"adjClose\":12.961779},{\"timestamp\":1318896000000,\"adjClose\":13.031218},{\"timestamp\":1318982400000,\"adjClose\":12.302258},{\"timestamp\":1319068800000,\"adjClose\":12.2001},{\"timestamp\":1319155200000,\"adjClose\":12.124799},{\"timestamp\":1319414400000,\"adjClose\":12.522918},{\"timestamp\":1319500800000,\"adjClose\":12.276022},{\"timestamp\":1319587200000,\"adjClose\":12.363365},{\"timestamp\":1319673600000,\"adjClose\":12.489591},{\"timestamp\":1319760000000,\"adjClose\":12.497611},{\"timestamp\":1320019200000,\"adjClose\":12.492363},{\"timestamp\":1320105600000,\"adjClose\":12.237134},{\"timestamp\":1320192000000,\"adjClose\":12.264912},{\"timestamp\":1320278400000,\"adjClose\":12.439591},{\"timestamp\":1320364800000,\"adjClose\":12.352251},{\"timestamp\":1320624000000,\"adjClose\":12.336515},{\"timestamp\":1320710400000,\"adjClose\":12.537117},{\"timestamp\":1320796800000,\"adjClose\":12.199175},{\"timestamp\":1320883200000,\"adjClose\":11.888704},{\"timestamp\":1320969600000,\"adjClose\":11.870185},{\"timestamp\":1321228800000,\"adjClose\":11.704766},{\"timestamp\":1321315200000,\"adjClose\":12.000114},{\"timestamp\":1321401600000,\"adjClose\":11.874815},{\"timestamp\":1321488000000,\"adjClose\":11.647668},{\"timestamp\":1321574400000,\"adjClose\":11.571442},{\"timestamp\":1321833600000,\"adjClose\":11.388427},{\"timestamp\":1321920000000,\"adjClose\":11.619895},{\"timestamp\":1322006400000,\"adjClose\":11.326087},{\"timestamp\":1322179200000,\"adjClose\":11.220541},{\"timestamp\":1322438400000,\"adjClose\":11.607858},{\"timestamp\":1322524800000,\"adjClose\":11.517744},{\"timestamp\":1322611200000,\"adjClose\":11.795497},{\"timestamp\":1322697600000,\"adjClose\":11.972338},{\"timestamp\":1322784000000,\"adjClose\":12.026966},{\"timestamp\":1323043200000,\"adjClose\":12.129122},{\"timestamp\":1323129600000,\"adjClose\":12.065542},{\"timestamp\":1323216000000,\"adjClose\":12.008138},{\"timestamp\":1323302400000,\"adjClose\":12.056595},{\"timestamp\":1323388800000,\"adjClose\":12.147944},{\"timestamp\":1323648000000,\"adjClose\":12.093013},{\"timestamp\":1323734400000,\"adjClose\":11.999499},{\"timestamp\":1323820800000,\"adjClose\":11.73347},{\"timestamp\":1323907200000,\"adjClose\":11.69489},{\"timestamp\":1323993600000,\"adjClose\":11.759087},{\"timestamp\":1324252800000,\"adjClose\":11.795809},{\"timestamp\":1324339200000,\"adjClose\":12.219852},{\"timestamp\":1324425600000,\"adjClose\":12.235285},{\"timestamp\":1324512000000,\"adjClose\":12.300096},{\"timestamp\":1324598400000,\"adjClose\":12.447616},{\"timestamp\":1324944000000,\"adjClose\":12.546378},{\"timestamp\":1325030400000,\"adjClose\":12.42632},{\"timestamp\":1325116800000,\"adjClose\":12.502859},{\"timestamp\":1325203200000,\"adjClose\":12.499158},{\"timestamp\":1325548800000,\"adjClose\":12.691425},{\"timestamp\":1325635200000,\"adjClose\":12.759631},{\"timestamp\":1325721600000,\"adjClose\":12.901293},{\"timestamp\":1325808000000,\"adjClose\":13.036158},{\"timestamp\":1326067200000,\"adjClose\":13.01548},{\"timestamp\":1326153600000,\"adjClose\":13.062082},{\"timestamp\":1326240000000,\"adjClose\":13.040783},{\"timestamp\":1326326400000,\"adjClose\":13.004987},{\"timestamp\":1326412800000,\"adjClose\":12.956224},{\"timestamp\":1326758400000,\"adjClose\":13.107141},{\"timestamp\":1326844800000,\"adjClose\":13.243239},{\"timestamp\":1326931200000,\"adjClose\":13.201269},{\"timestamp\":1327017600000,\"adjClose\":12.971346},{\"timestamp\":1327276800000,\"adjClose\":13.190778},{\"timestamp\":1327363200000,\"adjClose\":12.97474},{\"timestamp\":1327449600000,\"adjClose\":13.784873},{\"timestamp\":1327536000000,\"adjClose\":13.72222},{\"timestamp\":1327622400000,\"adjClose\":13.804007},{\"timestamp\":1327881600000,\"adjClose\":13.980846},{\"timestamp\":1327968000000,\"adjClose\":14.087938},{\"timestamp\":1328054400000,\"adjClose\":14.078984},{\"timestamp\":1328140800000,\"adjClose\":14.045964},{\"timestamp\":1328227200000,\"adjClose\":14.186698},{\"timestamp\":1328486400000,\"adjClose\":14.319094},{\"timestamp\":1328572800000,\"adjClose\":14.469086},{\"timestamp\":1328659200000,\"adjClose\":14.71135},{\"timestamp\":1328745600000,\"adjClose\":15.220265},{\"timestamp\":1328832000000,\"adjClose\":15.227983},{\"timestamp\":1329091200000,\"adjClose\":15.511298},{\"timestamp\":1329177600000,\"adjClose\":15.723012},{\"timestamp\":1329264000000,\"adjClose\":15.359146},{\"timestamp\":1329350400000,\"adjClose\":15.499256},{\"timestamp\":1329436800000,\"adjClose\":15.496483},{\"timestamp\":1329782400000,\"adjClose\":15.889358},{\"timestamp\":1329868800000,\"adjClose\":15.833496},{\"timestamp\":1329955200000,\"adjClose\":15.936883},{\"timestamp\":1330041600000,\"adjClose\":16.122677},{\"timestamp\":1330300800000,\"adjClose\":16.226067},{\"timestamp\":1330387200000,\"adjClose\":16.523884},{\"timestamp\":1330473600000,\"adjClose\":16.740845},{\"timestamp\":1330560000000,\"adjClose\":16.803492},{\"timestamp\":1330646400000,\"adjClose\":16.825407},{\"timestamp\":1330905600000,\"adjClose\":16.454441},{\"timestamp\":1330992000000,\"adjClose\":16.364943},{\"timestamp\":1331078400000,\"adjClose\":16.378214},{\"timestamp\":1331164800000,\"adjClose\":16.726961},{\"timestamp\":1331251200000,\"adjClose\":16.825098},{\"timestamp\":1331510400000,\"adjClose\":17.035887},{\"timestamp\":1331596800000,\"adjClose\":17.532761},{\"timestamp\":1331683200000,\"adjClose\":18.195688},{\"timestamp\":1331769600000,\"adjClose\":18.071619},{\"timestamp\":1331856000000,\"adjClose\":18.07193},{\"timestamp\":1332115200000,\"adjClose\":18.551216},{\"timestamp\":1332201600000,\"adjClose\":18.701204},{\"timestamp\":1332288000000,\"adjClose\":18.594423},{\"timestamp\":1332374400000,\"adjClose\":18.496895},{\"timestamp\":1332460800000,\"adjClose\":18.395357},{\"timestamp\":1332720000000,\"adjClose\":18.732683},{\"timestamp\":1332806400000,\"adjClose\":18.964155},{\"timestamp\":1332892800000,\"adjClose\":19.06106},{\"timestamp\":1332979200000,\"adjClose\":18.821571},{\"timestamp\":1333065600000,\"adjClose\":18.503378},{\"timestamp\":1333324800000,\"adjClose\":19.092226},{\"timestamp\":1333411200000,\"adjClose\":19.422142},{\"timestamp\":1333497600000,\"adjClose\":19.267529},{\"timestamp\":1333584000000,\"adjClose\":19.556702},{\"timestamp\":1333929600000,\"adjClose\":19.635401},{\"timestamp\":1334016000000,\"adjClose\":19.394995},{\"timestamp\":1334102400000,\"adjClose\":19.325855},{\"timestamp\":1334188800000,\"adjClose\":19.220001},{\"timestamp\":1334275200000,\"adjClose\":18.678675},{\"timestamp\":1334534400000,\"adjClose\":17.904045},{\"timestamp\":1334620800000,\"adjClose\":18.816633},{\"timestamp\":1334707200000,\"adjClose\":18.774664},{\"timestamp\":1334793600000,\"adjClose\":18.129644},{\"timestamp\":1334880000000,\"adjClose\":17.683372},{\"timestamp\":1335139200000,\"adjClose\":17.643871},{\"timestamp\":1335225600000,\"adjClose\":17.291424},{\"timestamp\":1335312000000,\"adjClose\":18.825882},{\"timestamp\":1335398400000,\"adjClose\":18.754911},{\"timestamp\":1335484800000,\"adjClose\":18.609858},{\"timestamp\":1335744000000,\"adjClose\":18.022854},{\"timestamp\":1335830400000,\"adjClose\":17.965759},{\"timestamp\":1335916800000,\"adjClose\":18.084585},{\"timestamp\":1336003200000,\"adjClose\":17.956192},{\"timestamp\":1336089600000,\"adjClose\":17.444811},{\"timestamp\":1336348800000,\"adjClose\":17.575356},{\"timestamp\":1336435200000,\"adjClose\":17.535246},{\"timestamp\":1336521600000,\"adjClose\":17.566093},{\"timestamp\":1336608000000,\"adjClose\":17.607454},{\"timestamp\":1336694400000,\"adjClose\":17.489868},{\"timestamp\":1336953600000,\"adjClose\":17.227848},{\"timestamp\":1337040000000,\"adjClose\":17.071999},{\"timestamp\":1337126400000,\"adjClose\":16.853184},{\"timestamp\":1337212800000,\"adjClose\":16.360626},{\"timestamp\":1337299200000,\"adjClose\":16.368652},{\"timestamp\":1337558400000,\"adjClose\":17.322281},{\"timestamp\":1337644800000,\"adjClose\":17.189274},{\"timestamp\":1337731200000,\"adjClose\":17.608683},{\"timestamp\":1337817600000,\"adjClose\":17.446974},{\"timestamp\":1337904000000,\"adjClose\":17.353456},{\"timestamp\":1338249600000,\"adjClose\":17.661465},{\"timestamp\":1338336000000,\"adjClose\":17.874405},{\"timestamp\":1338422400000,\"adjClose\":17.829969},{\"timestamp\":1338508800000,\"adjClose\":17.313335},{\"timestamp\":1338768000000,\"adjClose\":17.415182},{\"timestamp\":1338854400000,\"adjClose\":17.370125},{\"timestamp\":1338940800000,\"adjClose\":17.636463},{\"timestamp\":1339027200000,\"adjClose\":17.64448},{\"timestamp\":1339113600000,\"adjClose\":17.909903},{\"timestamp\":1339372800000,\"adjClose\":17.627512},{\"timestamp\":1339459200000,\"adjClose\":17.781509},{\"timestamp\":1339545600000,\"adjClose\":17.658066},{\"timestamp\":1339632000000,\"adjClose\":17.638624},{\"timestamp\":1339718400000,\"adjClose\":17.718866},{\"timestamp\":1339977600000,\"adjClose\":18.078405},{\"timestamp\":1340064000000,\"adjClose\":18.128712},{\"timestamp\":1340150400000,\"adjClose\":18.077179},{\"timestamp\":1340236800000,\"adjClose\":17.828115},{\"timestamp\":1340323200000,\"adjClose\":17.964838},{\"timestamp\":1340582400000,\"adjClose\":17.615171},{\"timestamp\":1340668800000,\"adjClose\":17.654057},{\"timestamp\":1340755200000,\"adjClose\":17.730286},{\"timestamp\":1340841600000,\"adjClose\":17.562092},{\"timestamp\":1340928000000,\"adjClose\":18.023472},{\"timestamp\":1341187200000,\"adjClose\":18.286417},{\"timestamp\":1341273600000,\"adjClose\":18.499058},{\"timestamp\":1341446400000,\"adjClose\":18.824039},{\"timestamp\":1341532800000,\"adjClose\":18.698736},{\"timestamp\":1341792000000,\"adjClose\":18.945944},{\"timestamp\":1341878400000,\"adjClose\":18.770645},{\"timestamp\":1341964800000,\"adjClose\":18.653988},{\"timestamp\":1342051200000,\"adjClose\":18.483318},{\"timestamp\":1342137600000,\"adjClose\":18.670649},{\"timestamp\":1342396800000,\"adjClose\":18.730534},{\"timestamp\":1342483200000,\"adjClose\":18.731453},{\"timestamp\":1342569600000,\"adjClose\":18.710468},{\"timestamp\":1342656000000,\"adjClose\":18.959215},{\"timestamp\":1342742400000,\"adjClose\":18.649982},{\"timestamp\":1343001600000,\"adjClose\":18.635469},{\"timestamp\":1343088000000,\"adjClose\":18.545662},{\"timestamp\":1343174400000,\"adjClose\":17.744787},{\"timestamp\":1343260800000,\"adjClose\":17.742012},{\"timestamp\":1343347200000,\"adjClose\":18.059282},{\"timestamp\":1343606400000,\"adjClose\":18.363895},{\"timestamp\":1343692800000,\"adjClose\":18.849346},{\"timestamp\":1343779200000,\"adjClose\":18.727442},{\"timestamp\":1343865600000,\"adjClose\":18.757681},{\"timestamp\":1343952000000,\"adjClose\":19.001802},{\"timestamp\":1344211200000,\"adjClose\":19.213203},{\"timestamp\":1344297600000,\"adjClose\":19.1626},{\"timestamp\":1344384000000,\"adjClose\":19.13019},{\"timestamp\":1344470400000,\"adjClose\":19.239285},{\"timestamp\":1344556800000,\"adjClose\":19.269352},{\"timestamp\":1344816000000,\"adjClose\":19.526608},{\"timestamp\":1344902400000,\"adjClose\":19.578987},{\"timestamp\":1344988800000,\"adjClose\":19.552332},{\"timestamp\":1345075200000,\"adjClose\":19.723114},{\"timestamp\":1345161600000,\"adjClose\":20.087921},{\"timestamp\":1345420800000,\"adjClose\":20.61607},{\"timestamp\":1345507200000,\"adjClose\":20.334328},{\"timestamp\":1345593600000,\"adjClose\":20.731373},{\"timestamp\":1345680000000,\"adjClose\":20.537962},{\"timestamp\":1345766400000,\"adjClose\":20.55625},{\"timestamp\":1346025600000,\"adjClose\":20.942446},{\"timestamp\":1346112000000,\"adjClose\":20.915165},{\"timestamp\":1346198400000,\"adjClose\":20.873943},{\"timestamp\":1346284800000,\"adjClose\":20.576397},{\"timestamp\":1346371200000,\"adjClose\":20.618853},{\"timestamp\":1346716800000,\"adjClose\":20.920437},{\"timestamp\":1346803200000,\"adjClose\":20.773523},{\"timestamp\":1346889600000,\"adjClose\":20.960732},{\"timestamp\":1346976000000,\"adjClose\":21.089975},{\"timestamp\":1347235200000,\"adjClose\":20.541376},{\"timestamp\":1347321600000,\"adjClose\":20.474737},{\"timestamp\":1347408000000,\"adjClose\":20.75989},{\"timestamp\":1347494400000,\"adjClose\":21.168703},{\"timestamp\":1347580800000,\"adjClose\":21.425959},{\"timestamp\":1347840000000,\"adjClose\":21.689409},{\"timestamp\":1347926400000,\"adjClose\":21.755436},{\"timestamp\":1348012800000,\"adjClose\":21.761318},{\"timestamp\":1348099200000,\"adjClose\":21.655943},{\"timestamp\":1348185600000,\"adjClose\":21.69902},{\"timestamp\":1348444800000,\"adjClose\":21.410767},{\"timestamp\":1348531200000,\"adjClose\":20.876118},{\"timestamp\":1348617600000,\"adjClose\":20.617001},{\"timestamp\":1348704000000,\"adjClose\":21.117252},{\"timestamp\":1348790400000,\"adjClose\":20.67651},{\"timestamp\":1349049600000,\"adjClose\":20.437534},{\"timestamp\":1349136000000,\"adjClose\":20.497047},{\"timestamp\":1349222400000,\"adjClose\":20.811337},{\"timestamp\":1349308800000,\"adjClose\":20.667206},{\"timestamp\":1349395200000,\"adjClose\":20.226774},{\"timestamp\":1349654400000,\"adjClose\":19.779833},{\"timestamp\":1349740800000,\"adjClose\":19.707926},{\"timestamp\":1349827200000,\"adjClose\":19.864758},{\"timestamp\":1349913600000,\"adjClose\":19.467718},{\"timestamp\":1350000000000,\"adjClose\":19.517622},{\"timestamp\":1350259200000,\"adjClose\":19.674141},{\"timestamp\":1350345600000,\"adjClose\":20.139996},{\"timestamp\":1350432000000,\"adjClose\":19.979437},{\"timestamp\":1350518400000,\"adjClose\":19.608433},{\"timestamp\":1350604800000,\"adjClose\":18.90176},{\"timestamp\":1350864000000,\"adjClose\":19.65152},{\"timestamp\":1350950400000,\"adjClose\":19.01086},{\"timestamp\":1351036800000,\"adjClose\":19.11841},{\"timestamp\":1351123200000,\"adjClose\":18.89246},{\"timestamp\":1351209600000,\"adjClose\":18.720743},{\"timestamp\":1351641600000,\"adjClose\":18.451712},{\"timestamp\":1351728000000,\"adjClose\":18.489529},{\"timestamp\":1351814400000,\"adjClose\":17.877693},{\"timestamp\":1352073600000,\"adjClose\":18.120073},{\"timestamp\":1352160000000,\"adjClose\":18.065214},{\"timestamp\":1352246400000,\"adjClose\":17.373989},{\"timestamp\":1352332800000,\"adjClose\":16.743479},{\"timestamp\":1352419200000,\"adjClose\":17.033361},{\"timestamp\":1352678400000,\"adjClose\":16.901649},{\"timestamp\":1352764800000,\"adjClose\":16.903831},{\"timestamp\":1352851200000,\"adjClose\":16.716387},{\"timestamp\":1352937600000,\"adjClose\":16.365795},{\"timestamp\":1353024000000,\"adjClose\":16.429937},{\"timestamp\":1353283200000,\"adjClose\":17.614664},{\"timestamp\":1353369600000,\"adjClose\":17.464596},{\"timestamp\":1353456000000,\"adjClose\":17.489189},{\"timestamp\":1353628800000,\"adjClose\":17.794329},{\"timestamp\":1353888000000,\"adjClose\":18.355711},{\"timestamp\":1353974400000,\"adjClose\":18.207819},{\"timestamp\":1354060800000,\"adjClose\":18.150522},{\"timestamp\":1354147200000,\"adjClose\":18.350416},{\"timestamp\":1354233600000,\"adjClose\":18.223381},{\"timestamp\":1354492800000,\"adjClose\":18.251715},{\"timestamp\":1354579200000,\"adjClose\":17.929768},{\"timestamp\":1354665600000,\"adjClose\":16.775864},{\"timestamp\":1354752000000,\"adjClose\":17.03896},{\"timestamp\":1354838400000,\"adjClose\":16.603369},{\"timestamp\":1355097600000,\"adjClose\":16.496569},{\"timestamp\":1355184000000,\"adjClose\":16.856815},{\"timestamp\":1355270400000,\"adjClose\":16.782398},{\"timestamp\":1355356800000,\"adjClose\":16.492517},{\"timestamp\":1355443200000,\"adjClose\":15.872908},{\"timestamp\":1355702400000,\"adjClose\":16.154379},{\"timestamp\":1355788800000,\"adjClose\":16.623606},{\"timestamp\":1355875200000,\"adjClose\":16.387278},{\"timestamp\":1355961600000,\"adjClose\":16.24468},{\"timestamp\":1356048000000,\"adjClose\":16.169952},{\"timestamp\":1356307200000,\"adjClose\":16.196102},{\"timestamp\":1356480000000,\"adjClose\":15.972859},{\"timestamp\":1356566400000,\"adjClose\":16.037003},{\"timestamp\":1356652800000,\"adjClose\":15.866683},{\"timestamp\":1356912000000,\"adjClose\":16.56974},{\"timestamp\":1357084800000,\"adjClose\":17.094694},{\"timestamp\":1357171200000,\"adjClose\":16.87892},{\"timestamp\":1357257600000,\"adjClose\":16.408764},{\"timestamp\":1357516800000,\"adjClose\":16.312239},{\"timestamp\":1357603200000,\"adjClose\":16.35615},{\"timestamp\":1357689600000,\"adjClose\":16.100521},{\"timestamp\":1357776000000,\"adjClose\":16.3001},{\"timestamp\":1357862400000,\"adjClose\":16.200155},{\"timestamp\":1358121600000,\"adjClose\":15.622575},{\"timestamp\":1358208000000,\"adjClose\":15.129693},{\"timestamp\":1358294400000,\"adjClose\":15.757706},{\"timestamp\":1358380800000,\"adjClose\":15.651527},{\"timestamp\":1358467200000,\"adjClose\":15.568091},{\"timestamp\":1358812800000,\"adjClose\":15.716609},{\"timestamp\":1358899200000,\"adjClose\":16.004307},{\"timestamp\":1358985600000,\"adjClose\":14.02685},{\"timestamp\":1359072000000,\"adjClose\":13.696181},{\"timestamp\":1359331200000,\"adjClose\":14.005986},{\"timestamp\":1359417600000,\"adjClose\":14.268773},{\"timestamp\":1359504000000,\"adjClose\":14.223937},{\"timestamp\":1359590400000,\"adjClose\":14.182214},{\"timestamp\":1359676800000,\"adjClose\":14.12399},{\"timestamp\":1359936000000,\"adjClose\":13.772153},{\"timestamp\":1360022400000,\"adjClose\":14.255387},{\"timestamp\":1360108800000,\"adjClose\":14.240132},{\"timestamp\":1360195200000,\"adjClose\":14.663541},{\"timestamp\":1360281600000,\"adjClose\":14.875249},{\"timestamp\":1360540800000,\"adjClose\":15.03027},{\"timestamp\":1360627200000,\"adjClose\":14.65352},{\"timestamp\":1360713600000,\"adjClose\":14.625648},{\"timestamp\":1360800000000,\"adjClose\":14.612492},{\"timestamp\":1360886400000,\"adjClose\":14.411122},{\"timestamp\":1361232000000,\"adjClose\":14.405799},{\"timestamp\":1361318400000,\"adjClose\":14.05692},{\"timestamp\":1361404800000,\"adjClose\":13.969543},{\"timestamp\":1361491200000,\"adjClose\":14.118299},{\"timestamp\":1361750400000,\"adjClose\":13.867445},{\"timestamp\":1361836800000,\"adjClose\":14.060678},{\"timestamp\":1361923200000,\"adjClose\":13.922881},{\"timestamp\":1362009600000,\"adjClose\":13.823603},{\"timestamp\":1362096000000,\"adjClose\":13.481304},{\"timestamp\":1362355200000,\"adjClose\":13.15497},{\"timestamp\":1362441600000,\"adjClose\":13.502283},{\"timestamp\":1362528000000,\"adjClose\":13.330664},{\"timestamp\":1362614400000,\"adjClose\":13.484744},{\"timestamp\":1362700800000,\"adjClose\":13.520451},{\"timestamp\":1362960000000,\"adjClose\":13.71305},{\"timestamp\":1363046400000,\"adjClose\":13.417412},{\"timestamp\":1363132800000,\"adjClose\":13.41491},{\"timestamp\":1363219200000,\"adjClose\":13.544875},{\"timestamp\":1363305600000,\"adjClose\":13.89438},{\"timestamp\":1363564800000,\"adjClose\":14.272074},{\"timestamp\":1363651200000,\"adjClose\":14.233548},{\"timestamp\":1363737600000,\"adjClose\":14.158073},{\"timestamp\":1363824000000,\"adjClose\":14.178432},{\"timestamp\":1363910400000,\"adjClose\":14.465927},{\"timestamp\":1364169600000,\"adjClose\":14.518229},{\"timestamp\":1364256000000,\"adjClose\":14.441812},{\"timestamp\":1364342400000,\"adjClose\":14.158073},{\"timestamp\":1364428800000,\"adjClose\":13.863063},{\"timestamp\":1364774400000,\"adjClose\":13.432444},{\"timestamp\":1364860800000,\"adjClose\":13.460005},{\"timestamp\":1364947200000,\"adjClose\":13.528904},{\"timestamp\":1365033600000,\"adjClose\":13.395178},{\"timestamp\":1365120000000,\"adjClose\":13.253622},{\"timestamp\":1365379200000,\"adjClose\":13.347888},{\"timestamp\":1365465600000,\"adjClose\":13.372003},{\"timestamp\":1365552000000,\"adjClose\":13.644777},{\"timestamp\":1365638400000,\"adjClose\":13.602186},{\"timestamp\":1365724800000,\"adjClose\":13.460317},{\"timestamp\":1365984000000,\"adjClose\":13.148707},{\"timestamp\":1366070400000,\"adjClose\":13.348827},{\"timestamp\":1366156800000,\"adjClose\":12.614741},{\"timestamp\":1366243200000,\"adjClose\":12.278078},{\"timestamp\":1366329600000,\"adjClose\":12.230474},{\"timestamp\":1366588800000,\"adjClose\":12.485403},{\"timestamp\":1366675200000,\"adjClose\":12.719029},{\"timestamp\":1366761600000,\"adjClose\":12.698048},{\"timestamp\":1366848000000,\"adjClose\":12.789495},{\"timestamp\":1366934400000,\"adjClose\":13.065718},{\"timestamp\":1367193600000,\"adjClose\":13.470339},{\"timestamp\":1367280000000,\"adjClose\":13.866817},{\"timestamp\":1367366400000,\"adjClose\":13.757521},{\"timestamp\":1367452800000,\"adjClose\":13.952632},{\"timestamp\":1367539200000,\"adjClose\":14.092308},{\"timestamp\":1367798400000,\"adjClose\":14.428345},{\"timestamp\":1367884800000,\"adjClose\":14.364148},{\"timestamp\":1367971200000,\"adjClose\":14.526372},{\"timestamp\":1368057600000,\"adjClose\":14.39964},{\"timestamp\":1368144000000,\"adjClose\":14.27985},{\"timestamp\":1368403200000,\"adjClose\":14.335649},{\"timestamp\":1368489600000,\"adjClose\":13.992654},{\"timestamp\":1368576000000,\"adjClose\":13.519465},{\"timestamp\":1368662400000,\"adjClose\":13.700105},{\"timestamp\":1368748800000,\"adjClose\":13.658489},{\"timestamp\":1369008000000,\"adjClose\":13.963337},{\"timestamp\":1369094400000,\"adjClose\":13.860252},{\"timestamp\":1369180800000,\"adjClose\":13.913527},{\"timestamp\":1369267200000,\"adjClose\":13.938435},{\"timestamp\":1369353600000,\"adjClose\":14.033321},{\"timestamp\":1369699200000,\"adjClose\":13.916364},{\"timestamp\":1369785600000,\"adjClose\":14.027015},{\"timestamp\":1369872000000,\"adjClose\":14.236029},{\"timestamp\":1369958400000,\"adjClose\":14.177704},{\"timestamp\":1370217600000,\"adjClose\":14.208916},{\"timestamp\":1370304000000,\"adjClose\":14.164463},{\"timestamp\":1370390400000,\"adjClose\":14.032062},{\"timestamp\":1370476800000,\"adjClose\":13.822417},{\"timestamp\":1370563200000,\"adjClose\":13.928027},{\"timestamp\":1370822400000,\"adjClose\":13.835977},{\"timestamp\":1370908800000,\"adjClose\":13.795308},{\"timestamp\":1370995200000,\"adjClose\":13.624761},{\"timestamp\":1371081600000,\"adjClose\":13.743608},{\"timestamp\":1371168000000,\"adjClose\":13.557298},{\"timestamp\":1371427200000,\"adjClose\":13.618771},{\"timestamp\":1371513600000,\"adjClose\":13.611517},{\"timestamp\":1371600000000,\"adjClose\":13.335047},{\"timestamp\":1371686400000,\"adjClose\":13.140852},{\"timestamp\":1371772800000,\"adjClose\":13.035559},{\"timestamp\":1372032000000,\"adjClose\":12.690046},{\"timestamp\":1372118400000,\"adjClose\":12.692879},{\"timestamp\":1372204800000,\"adjClose\":12.549131},{\"timestamp\":1372291200000,\"adjClose\":12.413886},{\"timestamp\":1372377600000,\"adjClose\":12.500582},{\"timestamp\":1372636800000,\"adjClose\":12.90063},{\"timestamp\":1372723200000,\"adjClose\":13.192867},{\"timestamp\":1372809600000,\"adjClose\":13.265691},{\"timestamp\":1372982400000,\"adjClose\":13.159135},{\"timestamp\":1373241600000,\"adjClose\":13.084421},{\"timestamp\":1373328000000,\"adjClose\":13.314555},{\"timestamp\":1373414400000,\"adjClose\":13.263484},{\"timestamp\":1373500800000,\"adjClose\":13.470284},{\"timestamp\":1373587200000,\"adjClose\":13.445695},{\"timestamp\":1373846400000,\"adjClose\":13.475018},{\"timestamp\":1373932800000,\"adjClose\":13.562024},{\"timestamp\":1374019200000,\"adjClose\":13.565492},{\"timestamp\":1374105600000,\"adjClose\":13.611203},{\"timestamp\":1374192000000,\"adjClose\":13.396521},{\"timestamp\":1374451200000,\"adjClose\":13.439393},{\"timestamp\":1374537600000,\"adjClose\":13.20863},{\"timestamp\":1374624000000,\"adjClose\":13.887047},{\"timestamp\":1374710400000,\"adjClose\":13.823684},{\"timestamp\":1374796800000,\"adjClose\":13.902179},{\"timestamp\":1375056000000,\"adjClose\":14.116549},{\"timestamp\":1375142400000,\"adjClose\":14.290881},{\"timestamp\":1375228800000,\"adjClose\":14.265975},{\"timestamp\":1375315200000,\"adjClose\":14.396805},{\"timestamp\":1375401600000,\"adjClose\":14.58154},{\"timestamp\":1375660800000,\"adjClose\":14.799376},{\"timestamp\":1375747200000,\"adjClose\":14.666975},{\"timestamp\":1375833600000,\"adjClose\":14.658463},{\"timestamp\":1375920000000,\"adjClose\":14.629271},{\"timestamp\":1376006400000,\"adjClose\":14.4211},{\"timestamp\":1376265600000,\"adjClose\":14.830775},{\"timestamp\":1376352000000,\"adjClose\":15.535565},{\"timestamp\":1376438400000,\"adjClose\":15.818938},{\"timestamp\":1376524800000,\"adjClose\":15.80022},{\"timestamp\":1376611200000,\"adjClose\":15.940481},{\"timestamp\":1376870400000,\"adjClose\":16.112154},{\"timestamp\":1376956800000,\"adjClose\":15.900499},{\"timestamp\":1377043200000,\"adjClose\":15.941429},{\"timestamp\":1377129600000,\"adjClose\":15.96047},{\"timestamp\":1377216000000,\"adjClose\":15.898906},{\"timestamp\":1377475200000,\"adjClose\":15.96079},{\"timestamp\":1377561600000,\"adjClose\":15.504465},{\"timestamp\":1377648000000,\"adjClose\":15.57777},{\"timestamp\":1377734400000,\"adjClose\":15.603158},{\"timestamp\":1377820800000,\"adjClose\":15.460996},{\"timestamp\":1378166400000,\"adjClose\":15.504147},{\"timestamp\":1378252800000,\"adjClose\":15.824966},{\"timestamp\":1378339200000,\"adjClose\":15.71644},{\"timestamp\":1378425600000,\"adjClose\":15.810059},{\"timestamp\":1378684800000,\"adjClose\":16.062332},{\"timestamp\":1378771200000,\"adjClose\":15.696457},{\"timestamp\":1378857600000,\"adjClose\":14.841882},{\"timestamp\":1378944000000,\"adjClose\":14.999914},{\"timestamp\":1379030400000,\"adjClose\":14.752709},{\"timestamp\":1379289600000,\"adjClose\":14.283695},{\"timestamp\":1379376000000,\"adjClose\":14.448707},{\"timestamp\":1379462400000,\"adjClose\":14.745728},{\"timestamp\":1379548800000,\"adjClose\":14.987534},{\"timestamp\":1379635200000,\"adjClose\":14.832358},{\"timestamp\":1379894400000,\"adjClose\":15.569523},{\"timestamp\":1379980800000,\"adjClose\":15.520651},{\"timestamp\":1380067200000,\"adjClose\":15.280433},{\"timestamp\":1380153600000,\"adjClose\":15.429256},{\"timestamp\":1380240000000,\"adjClose\":15.319146},{\"timestamp\":1380499200000,\"adjClose\":15.128744},{\"timestamp\":1380585600000,\"adjClose\":15.484472},{\"timestamp\":1380672000000,\"adjClose\":15.535245},{\"timestamp\":1380758400000,\"adjClose\":15.340088},{\"timestamp\":1380844800000,\"adjClose\":15.32803},{\"timestamp\":1381104000000,\"adjClose\":15.477812},{\"timestamp\":1381190400000,\"adjClose\":15.261708},{\"timestamp\":1381276800000,\"adjClose\":15.440999},{\"timestamp\":1381363200000,\"adjClose\":15.537784},{\"timestamp\":1381449600000,\"adjClose\":15.638381},{\"timestamp\":1381708800000,\"adjClose\":15.740878},{\"timestamp\":1381795200000,\"adjClose\":15.824653},{\"timestamp\":1381881600000,\"adjClose\":15.901767},{\"timestamp\":1381968000000,\"adjClose\":16.009344},{\"timestamp\":1382054400000,\"adjClose\":16.148647},{\"timestamp\":1382313600000,\"adjClose\":16.544361},{\"timestamp\":1382400000000,\"adjClose\":16.49708},{\"timestamp\":1382486400000,\"adjClose\":16.658598},{\"timestamp\":1382572800000,\"adjClose\":16.879141},{\"timestamp\":1382659200000,\"adjClose\":16.690334},{\"timestamp\":1382918400000,\"adjClose\":16.814718},{\"timestamp\":1383004800000,\"adjClose\":16.395844},{\"timestamp\":1383091200000,\"adjClose\":16.656694},{\"timestamp\":1383177600000,\"adjClose\":16.586884},{\"timestamp\":1383264000000,\"adjClose\":16.502153},{\"timestamp\":1383523200000,\"adjClose\":16.715401},{\"timestamp\":1383609600000,\"adjClose\":16.674147},{\"timestamp\":1383696000000,\"adjClose\":16.626909},{\"timestamp\":1383782400000,\"adjClose\":16.357843},{\"timestamp\":1383868800000,\"adjClose\":16.615419},{\"timestamp\":1384128000000,\"adjClose\":16.567217},{\"timestamp\":1384214400000,\"adjClose\":16.597862},{\"timestamp\":1384300800000,\"adjClose\":16.617651},{\"timestamp\":1384387200000,\"adjClose\":16.858002},{\"timestamp\":1384473600000,\"adjClose\":16.756813},{\"timestamp\":1384732800000,\"adjClose\":16.553818},{\"timestamp\":1384819200000,\"adjClose\":16.583179},{\"timestamp\":1384905600000,\"adjClose\":16.437952},{\"timestamp\":1384992000000,\"adjClose\":16.633932},{\"timestamp\":1385078400000,\"adjClose\":16.59116},{\"timestamp\":1385337600000,\"adjClose\":16.716921},{\"timestamp\":1385424000000,\"adjClose\":17.025249},{\"timestamp\":1385510400000,\"adjClose\":17.426147},{\"timestamp\":1385683200000,\"adjClose\":17.748837},{\"timestamp\":1385942400000,\"adjClose\":17.594357},{\"timestamp\":1386028800000,\"adjClose\":18.076},{\"timestamp\":1386115200000,\"adjClose\":18.033873},{\"timestamp\":1386201600000,\"adjClose\":18.126438},{\"timestamp\":1386288000000,\"adjClose\":17.874914},{\"timestamp\":1386547200000,\"adjClose\":18.079512},{\"timestamp\":1386633600000,\"adjClose\":18.051422},{\"timestamp\":1386720000000,\"adjClose\":17.917685},{\"timestamp\":1386806400000,\"adjClose\":17.891518},{\"timestamp\":1386892800000,\"adjClose\":17.696489},{\"timestamp\":1387152000000,\"adjClose\":17.794479},{\"timestamp\":1387238400000,\"adjClose\":17.714369},{\"timestamp\":1387324800000,\"adjClose\":17.579676},{\"timestamp\":1387411200000,\"adjClose\":17.378269},{\"timestamp\":1387497600000,\"adjClose\":17.523817},{\"timestamp\":1387756800000,\"adjClose\":18.196335},{\"timestamp\":1387843200000,\"adjClose\":18.119095},{\"timestamp\":1388016000000,\"adjClose\":17.99876},{\"timestamp\":1388102400000,\"adjClose\":17.87715},{\"timestamp\":1388361600000,\"adjClose\":17.699371},{\"timestamp\":1388448000000,\"adjClose\":17.906834},{\"timestamp\":1388620800000,\"adjClose\":17.655001},{\"timestamp\":1388707200000,\"adjClose\":17.267195},{\"timestamp\":1388966400000,\"adjClose\":17.361351},{\"timestamp\":1389052800000,\"adjClose\":17.237186},{\"timestamp\":1389139200000,\"adjClose\":17.346355},{\"timestamp\":1389225600000,\"adjClose\":17.124836},{\"timestamp\":1389312000000,\"adjClose\":17.010567},{\"timestamp\":1389571200000,\"adjClose\":17.099621},{\"timestamp\":1389657600000,\"adjClose\":17.439869},{\"timestamp\":1389744000000,\"adjClose\":17.790016},{\"timestamp\":1389830400000,\"adjClose\":17.69075},{\"timestamp\":1389916800000,\"adjClose\":17.257294},{\"timestamp\":1390262400000,\"adjClose\":17.52541},{\"timestamp\":1390348800000,\"adjClose\":17.603291},{\"timestamp\":1390435200000,\"adjClose\":17.75235},{\"timestamp\":1390521600000,\"adjClose\":17.429659},{\"timestamp\":1390780800000,\"adjClose\":17.571051},{\"timestamp\":1390867200000,\"adjClose\":16.166645},{\"timestamp\":1390953600000,\"adjClose\":15.983117},{\"timestamp\":1391040000000,\"adjClose\":15.952156},{\"timestamp\":1391126400000,\"adjClose\":15.978329},{\"timestamp\":1391385600000,\"adjClose\":16.008011},{\"timestamp\":1391472000000,\"adjClose\":16.239738},{\"timestamp\":1391558400000,\"adjClose\":16.361029},{\"timestamp\":1391644800000,\"adjClose\":16.456394},{\"timestamp\":1391731200000,\"adjClose\":16.686625},{\"timestamp\":1391990400000,\"adjClose\":16.985558},{\"timestamp\":1392076800000,\"adjClose\":17.20936},{\"timestamp\":1392163200000,\"adjClose\":17.208076},{\"timestamp\":1392249600000,\"adjClose\":17.481329},{\"timestamp\":1392336000000,\"adjClose\":17.467201},{\"timestamp\":1392681600000,\"adjClose\":17.53142},{\"timestamp\":1392768000000,\"adjClose\":17.254637},{\"timestamp\":1392854400000,\"adjClose\":17.05492},{\"timestamp\":1392940800000,\"adjClose\":16.865467},{\"timestamp\":1393200000000,\"adjClose\":16.93932},{\"timestamp\":1393286400000,\"adjClose\":16.763042},{\"timestamp\":1393372800000,\"adjClose\":16.611809},{\"timestamp\":1393459200000,\"adjClose\":16.943172},{\"timestamp\":1393545600000,\"adjClose\":16.897257},{\"timestamp\":1393804800000,\"adjClose\":16.946062},{\"timestamp\":1393891200000,\"adjClose\":17.057806},{\"timestamp\":1393977600000,\"adjClose\":17.093767},{\"timestamp\":1394064000000,\"adjClose\":17.042068},{\"timestamp\":1394150400000,\"adjClose\":17.032114},{\"timestamp\":1394409600000,\"adjClose\":17.047529},{\"timestamp\":1394496000000,\"adjClose\":17.213535},{\"timestamp\":1394582400000,\"adjClose\":17.23023},{\"timestamp\":1394668800000,\"adjClose\":17.03886},{\"timestamp\":1394755200000,\"adjClose\":16.847494},{\"timestamp\":1395014400000,\"adjClose\":16.913315},{\"timestamp\":1395100800000,\"adjClose\":17.062943},{\"timestamp\":1395187200000,\"adjClose\":17.058451},{\"timestamp\":1395273600000,\"adjClose\":16.976252},{\"timestamp\":1395360000000,\"adjClose\":17.110138},{\"timestamp\":1395619200000,\"adjClose\":17.313072},{\"timestamp\":1395705600000,\"adjClose\":17.499308},{\"timestamp\":1395792000000,\"adjClose\":17.332014},{\"timestamp\":1395878400000,\"adjClose\":17.257528},{\"timestamp\":1395964800000,\"adjClose\":17.238264},{\"timestamp\":1396224000000,\"adjClose\":17.234411},{\"timestamp\":1396310400000,\"adjClose\":17.392065},{\"timestamp\":1396396800000,\"adjClose\":17.420961},{\"timestamp\":1396483200000,\"adjClose\":17.300228},{\"timestamp\":1396569600000,\"adjClose\":17.076431},{\"timestamp\":1396828800000,\"adjClose\":16.808319},{\"timestamp\":1396915200000,\"adjClose\":16.807354},{\"timestamp\":1397001600000,\"adjClose\":17.028269},{\"timestamp\":1397088000000,\"adjClose\":16.808636},{\"timestamp\":1397174400000,\"adjClose\":16.684374},{\"timestamp\":1397433600000,\"adjClose\":16.750841},{\"timestamp\":1397520000000,\"adjClose\":16.631395},{\"timestamp\":1397606400000,\"adjClose\":16.665108},{\"timestamp\":1397692800000,\"adjClose\":16.855518},{\"timestamp\":1398038400000,\"adjClose\":17.055557},{\"timestamp\":1398124800000,\"adjClose\":17.072578},{\"timestamp\":1398211200000,\"adjClose\":16.849413},{\"timestamp\":1398297600000,\"adjClose\":18.230759},{\"timestamp\":1398384000000,\"adjClose\":18.364656},{\"timestamp\":1398643200000,\"adjClose\":19.075882},{\"timestamp\":1398729600000,\"adjClose\":19.019367},{\"timestamp\":1398816000000,\"adjClose\":18.947445},{\"timestamp\":1398902400000,\"adjClose\":18.992083},{\"timestamp\":1398988800000,\"adjClose\":19.027393},{\"timestamp\":1399248000000,\"adjClose\":19.296471},{\"timestamp\":1399334400000,\"adjClose\":19.086161},{\"timestamp\":1399420800000,\"adjClose\":19.019367},{\"timestamp\":1399507200000,\"adjClose\":18.985466},{\"timestamp\":1399593600000,\"adjClose\":18.906357},{\"timestamp\":1399852800000,\"adjClose\":19.141747},{\"timestamp\":1399939200000,\"adjClose\":19.171772},{\"timestamp\":1400025600000,\"adjClose\":19.175322},{\"timestamp\":1400112000000,\"adjClose\":19.01226},{\"timestamp\":1400198400000,\"adjClose\":19.29286},{\"timestamp\":1400457600000,\"adjClose\":19.521465},{\"timestamp\":1400544000000,\"adjClose\":19.52533},{\"timestamp\":1400630400000,\"adjClose\":19.576996},{\"timestamp\":1400716800000,\"adjClose\":19.60799},{\"timestamp\":1400803200000,\"adjClose\":19.829494},{\"timestamp\":1401148800000,\"adjClose\":20.200815},{\"timestamp\":1401235200000,\"adjClose\":20.148506},{\"timestamp\":1401321600000,\"adjClose\":20.515631},{\"timestamp\":1401408000000,\"adjClose\":20.438786},{\"timestamp\":1401667200000,\"adjClose\":20.29833},{\"timestamp\":1401753600000,\"adjClose\":20.585373},{\"timestamp\":1401840000000,\"adjClose\":20.82044},{\"timestamp\":1401926400000,\"adjClose\":20.902132},{\"timestamp\":1402012800000,\"adjClose\":20.844652},{\"timestamp\":1402272000000,\"adjClose\":21.178194},{\"timestamp\":1402358400000,\"adjClose\":21.302504},{\"timestamp\":1402444800000,\"adjClose\":21.214357},{\"timestamp\":1402531200000,\"adjClose\":20.859509},{\"timestamp\":1402617600000,\"adjClose\":20.631224},{\"timestamp\":1402876800000,\"adjClose\":20.839161},{\"timestamp\":1402963200000,\"adjClose\":20.81204},{\"timestamp\":1403049600000,\"adjClose\":20.834646},{\"timestamp\":1403136000000,\"adjClose\":20.762318},{\"timestamp\":1403222400000,\"adjClose\":20.5476},{\"timestamp\":1403481600000,\"adjClose\":20.529516},{\"timestamp\":1403568000000,\"adjClose\":20.405201},{\"timestamp\":1403654400000,\"adjClose\":20.423283},{\"timestamp\":1403740800000,\"adjClose\":20.54534},{\"timestamp\":1403827200000,\"adjClose\":20.789442},{\"timestamp\":1404086400000,\"adjClose\":21.004162},{\"timestamp\":1404172800000,\"adjClose\":21.137508},{\"timestamp\":1404259200000,\"adjClose\":21.128471},{\"timestamp\":1404345600000,\"adjClose\":21.252779},{\"timestamp\":1404691200000,\"adjClose\":21.691263},{\"timestamp\":1404777600000,\"adjClose\":21.55113},{\"timestamp\":1404864000000,\"adjClose\":21.560169},{\"timestamp\":1404950400000,\"adjClose\":21.481068},{\"timestamp\":1405036800000,\"adjClose\":21.521749},{\"timestamp\":1405296000000,\"adjClose\":21.799751},{\"timestamp\":1405382400000,\"adjClose\":21.544352},{\"timestamp\":1405468800000,\"adjClose\":21.422298},{\"timestamp\":1405555200000,\"adjClose\":21.040323},{\"timestamp\":1405641600000,\"adjClose\":21.343189},{\"timestamp\":1405900800000,\"adjClose\":21.232445},{\"timestamp\":1405987200000,\"adjClose\":21.408739},{\"timestamp\":1406073600000,\"adjClose\":21.967014},{\"timestamp\":1406160000000,\"adjClose\":21.930843},{\"timestamp\":1406246400000,\"adjClose\":22.075497},{\"timestamp\":1406505600000,\"adjClose\":22.380627},{\"timestamp\":1406592000000,\"adjClose\":22.235979},{\"timestamp\":1406678400000,\"adjClose\":22.18399},{\"timestamp\":1406764800000,\"adjClose\":21.607637},{\"timestamp\":1406851200000,\"adjClose\":21.727428},{\"timestamp\":1407110400000,\"adjClose\":21.605373},{\"timestamp\":1407196800000,\"adjClose\":21.499149},{\"timestamp\":1407283200000,\"adjClose\":21.46298},{\"timestamp\":1407369600000,\"adjClose\":21.460707},{\"timestamp\":1407456000000,\"adjClose\":21.51977},{\"timestamp\":1407715200000,\"adjClose\":21.803699},{\"timestamp\":1407801600000,\"adjClose\":21.799154},{\"timestamp\":1407888000000,\"adjClose\":22.087633},{\"timestamp\":1407974400000,\"adjClose\":22.14669},{\"timestamp\":1408060800000,\"adjClose\":22.255726},{\"timestamp\":1408320000000,\"adjClose\":22.523756},{\"timestamp\":1408406400000,\"adjClose\":22.83494},{\"timestamp\":1408492800000,\"adjClose\":22.844028},{\"timestamp\":1408579200000,\"adjClose\":22.846298},{\"timestamp\":1408665600000,\"adjClose\":23.014387},{\"timestamp\":1408924800000,\"adjClose\":23.064362},{\"timestamp\":1409011200000,\"adjClose\":22.91671},{\"timestamp\":1409097600000,\"adjClose\":23.198374},{\"timestamp\":1409184000000,\"adjClose\":23.225632},{\"timestamp\":1409270400000,\"adjClose\":23.282417},{\"timestamp\":1409616000000,\"adjClose\":23.46414},{\"timestamp\":1409702400000,\"adjClose\":22.473783},{\"timestamp\":1409788800000,\"adjClose\":22.287521},{\"timestamp\":1409875200000,\"adjClose\":22.480597},{\"timestamp\":1410134400000,\"adjClose\":22.342033},{\"timestamp\":1410220800000,\"adjClose\":22.257992},{\"timestamp\":1410307200000,\"adjClose\":22.941702},{\"timestamp\":1410393600000,\"adjClose\":23.039368},{\"timestamp\":1410480000000,\"adjClose\":23.091621},{\"timestamp\":1410739200000,\"adjClose\":23.084803},{\"timestamp\":1410825600000,\"adjClose\":22.909901},{\"timestamp\":1410912000000,\"adjClose\":23.073446},{\"timestamp\":1410998400000,\"adjClose\":23.121145},{\"timestamp\":1411084800000,\"adjClose\":22.932617},{\"timestamp\":1411344000000,\"adjClose\":22.955326},{\"timestamp\":1411430400000,\"adjClose\":23.314219},{\"timestamp\":1411516800000,\"adjClose\":23.112061},{\"timestamp\":1411603200000,\"adjClose\":22.23074},{\"timestamp\":1411689600000,\"adjClose\":22.88492},{\"timestamp\":1411948800000,\"adjClose\":22.73954},{\"timestamp\":1412035200000,\"adjClose\":22.88492},{\"timestamp\":1412121600000,\"adjClose\":22.528292},{\"timestamp\":1412208000000,\"adjClose\":22.691843},{\"timestamp\":1412294400000,\"adjClose\":22.628239},{\"timestamp\":1412553600000,\"adjClose\":22.628239},{\"timestamp\":1412640000000,\"adjClose\":22.43062},{\"timestamp\":1412726400000,\"adjClose\":22.896267},{\"timestamp\":1412812800000,\"adjClose\":22.946241},{\"timestamp\":1412899200000,\"adjClose\":22.880367},{\"timestamp\":1413158400000,\"adjClose\":22.671396},{\"timestamp\":1413244800000,\"adjClose\":22.43062},{\"timestamp\":1413331200000,\"adjClose\":22.155775},{\"timestamp\":1413417600000,\"adjClose\":21.865028},{\"timestamp\":1413504000000,\"adjClose\":22.185303},{\"timestamp\":1413763200000,\"adjClose\":22.660042},{\"timestamp\":1413849600000,\"adjClose\":23.275604},{\"timestamp\":1413936000000,\"adjClose\":23.393719},{\"timestamp\":1414022400000,\"adjClose\":23.81167},{\"timestamp\":1414108800000,\"adjClose\":23.900255},{\"timestamp\":1414368000000,\"adjClose\":23.875267},{\"timestamp\":1414454400000,\"adjClose\":24.24551},{\"timestamp\":1414540800000,\"adjClose\":24.381798},{\"timestamp\":1414627200000,\"adjClose\":24.300032},{\"timestamp\":1414713600000,\"adjClose\":24.531713},{\"timestamp\":1414972800000,\"adjClose\":24.849722},{\"timestamp\":1415059200000,\"adjClose\":24.668011},{\"timestamp\":1415145600000,\"adjClose\":24.727062},{\"timestamp\":1415232000000,\"adjClose\":24.797781},{\"timestamp\":1415318400000,\"adjClose\":24.868504},{\"timestamp\":1415577600000,\"adjClose\":24.827442},{\"timestamp\":1415664000000,\"adjClose\":25.025913},{\"timestamp\":1415750400000,\"adjClose\":25.379513},{\"timestamp\":1415836800000,\"adjClose\":25.737679},{\"timestamp\":1415923200000,\"adjClose\":26.047941},{\"timestamp\":1416182400000,\"adjClose\":26.004597},{\"timestamp\":1416268800000,\"adjClose\":26.342228},{\"timestamp\":1416355200000,\"adjClose\":26.159725},{\"timestamp\":1416441600000,\"adjClose\":26.533857},{\"timestamp\":1416528000000,\"adjClose\":26.57036},{\"timestamp\":1416787200000,\"adjClose\":27.06312},{\"timestamp\":1416873600000,\"adjClose\":26.828144},{\"timestamp\":1416960000000,\"adjClose\":27.14753},{\"timestamp\":1417132800000,\"adjClose\":27.131556},{\"timestamp\":1417392000000,\"adjClose\":26.250975},{\"timestamp\":1417478400000,\"adjClose\":26.150595},{\"timestamp\":1417564800000,\"adjClose\":26.447168},{\"timestamp\":1417651200000,\"adjClose\":26.34679},{\"timestamp\":1417737600000,\"adjClose\":26.235003},{\"timestamp\":1417996800000,\"adjClose\":25.64187},{\"timestamp\":1418083200000,\"adjClose\":26.03425},{\"timestamp\":1418169600000,\"adjClose\":25.539207},{\"timestamp\":1418256000000,\"adjClose\":25.463926},{\"timestamp\":1418342400000,\"adjClose\":25.032759},{\"timestamp\":1418601600000,\"adjClose\":24.690565},{\"timestamp\":1418688000000,\"adjClose\":24.352928},{\"timestamp\":1418774400000,\"adjClose\":24.959759},{\"timestamp\":1418860800000,\"adjClose\":25.698898},{\"timestamp\":1418947200000,\"adjClose\":25.500427},{\"timestamp\":1419206400000,\"adjClose\":25.765059},{\"timestamp\":1419292800000,\"adjClose\":25.673811},{\"timestamp\":1419379200000,\"adjClose\":25.552891},{\"timestamp\":1419552000000,\"adjClose\":26.004597},{\"timestamp\":1419811200000,\"adjClose\":25.986343},{\"timestamp\":1419897600000,\"adjClose\":25.669245},{\"timestamp\":1419984000000,\"adjClose\":25.181044},{\"timestamp\":1420156800000,\"adjClose\":24.941502},{\"timestamp\":1420416000000,\"adjClose\":24.238857},{\"timestamp\":1420502400000,\"adjClose\":24.241146},{\"timestamp\":1420588800000,\"adjClose\":24.58106},{\"timestamp\":1420675200000,\"adjClose\":25.525522},{\"timestamp\":1420761600000,\"adjClose\":25.552891},{\"timestamp\":1421020800000,\"adjClose\":24.923252},{\"timestamp\":1421107200000,\"adjClose\":25.144543},{\"timestamp\":1421193600000,\"adjClose\":25.048731},{\"timestamp\":1421280000000,\"adjClose\":24.368891},{\"timestamp\":1421366400000,\"adjClose\":24.179548},{\"timestamp\":1421712000000,\"adjClose\":24.802353},{\"timestamp\":1421798400000,\"adjClose\":24.991693},{\"timestamp\":1421884800000,\"adjClose\":25.64187},{\"timestamp\":1421971200000,\"adjClose\":25.774179},{\"timestamp\":1422230400000,\"adjClose\":25.801556},{\"timestamp\":1422316800000,\"adjClose\":24.898163},{\"timestamp\":1422403200000,\"adjClose\":26.305727},{\"timestamp\":1422489600000,\"adjClose\":27.124716},{\"timestamp\":1422576000000,\"adjClose\":26.72777},{\"timestamp\":1422835200000,\"adjClose\":27.06312},{\"timestamp\":1422921600000,\"adjClose\":27.067682},{\"timestamp\":1423008000000,\"adjClose\":27.275284},{\"timestamp\":1423094400000,\"adjClose\":27.469955},{\"timestamp\":1423180800000,\"adjClose\":27.238634},{\"timestamp\":1423440000000,\"adjClose\":27.419567},{\"timestamp\":1423526400000,\"adjClose\":27.946339},{\"timestamp\":1423612800000,\"adjClose\":28.601372},{\"timestamp\":1423699200000,\"adjClose\":28.963242},{\"timestamp\":1423785600000,\"adjClose\":29.10524},{\"timestamp\":1424131200000,\"adjClose\":29.277012},{\"timestamp\":1424217600000,\"adjClose\":29.48085},{\"timestamp\":1424304000000,\"adjClose\":29.419008},{\"timestamp\":1424390400000,\"adjClose\":29.659492},{\"timestamp\":1424649600000,\"adjClose\":30.4611},{\"timestamp\":1424736000000,\"adjClose\":30.271},{\"timestamp\":1424822400000,\"adjClose\":29.496881},{\"timestamp\":1424908800000,\"adjClose\":29.870203},{\"timestamp\":1424995200000,\"adjClose\":29.421301},{\"timestamp\":1425254400000,\"adjClose\":29.565588},{\"timestamp\":1425340800000,\"adjClose\":29.627426},{\"timestamp\":1425427200000,\"adjClose\":29.439621},{\"timestamp\":1425513600000,\"adjClose\":28.951786},{\"timestamp\":1425600000000,\"adjClose\":28.995304},{\"timestamp\":1425859200000,\"adjClose\":29.11898},{\"timestamp\":1425945600000,\"adjClose\":28.516628},{\"timestamp\":1426032000000,\"adjClose\":27.996731},{\"timestamp\":1426118400000,\"adjClose\":28.502884},{\"timestamp\":1426204800000,\"adjClose\":28.305916},{\"timestamp\":1426464000000,\"adjClose\":28.617401},{\"timestamp\":1426550400000,\"adjClose\":29.096075},{\"timestamp\":1426636800000,\"adjClose\":29.423588},{\"timestamp\":1426723200000,\"adjClose\":29.201433},{\"timestamp\":1426809600000,\"adjClose\":28.834986},{\"timestamp\":1427068800000,\"adjClose\":29.135008},{\"timestamp\":1427155200000,\"adjClose\":29.015915},{\"timestamp\":1427241600000,\"adjClose\":28.257826},{\"timestamp\":1427328000000,\"adjClose\":28.454788},{\"timestamp\":1427414400000,\"adjClose\":28.22805},{\"timestamp\":1427673600000,\"adjClose\":28.942627},{\"timestamp\":1427760000000,\"adjClose\":28.498304},{\"timestamp\":1427846400000,\"adjClose\":28.457081},{\"timestamp\":1427932800000,\"adjClose\":28.702143},{\"timestamp\":1428278400000,\"adjClose\":29.167072},{\"timestamp\":1428364800000,\"adjClose\":28.860178},{\"timestamp\":1428451200000,\"adjClose\":28.766272},{\"timestamp\":1428537600000,\"adjClose\":28.986141},{\"timestamp\":1428624000000,\"adjClose\":29.109816},{\"timestamp\":1428883200000,\"adjClose\":29.052561},{\"timestamp\":1428969600000,\"adjClose\":28.926592},{\"timestamp\":1429056000000,\"adjClose\":29.036528},{\"timestamp\":1429142400000,\"adjClose\":28.89682},{\"timestamp\":1429228800000,\"adjClose\":28.571594},{\"timestamp\":1429488000000,\"adjClose\":29.224333},{\"timestamp\":1429574400000,\"adjClose\":29.066303},{\"timestamp\":1429660800000,\"adjClose\":29.457947},{\"timestamp\":1429747200000,\"adjClose\":29.698433},{\"timestamp\":1429833600000,\"adjClose\":29.838139},{\"timestamp\":1430092800000,\"adjClose\":30.380934},{\"timestamp\":1430179200000,\"adjClose\":29.902262},{\"timestamp\":1430265600000,\"adjClose\":29.462526},{\"timestamp\":1430352000000,\"adjClose\":28.66321},{\"timestamp\":1430438400000,\"adjClose\":29.533524},{\"timestamp\":1430697600000,\"adjClose\":29.476265},{\"timestamp\":1430784000000,\"adjClose\":28.812078},{\"timestamp\":1430870400000,\"adjClose\":28.631145},{\"timestamp\":1430956800000,\"adjClose\":28.808235},{\"timestamp\":1431043200000,\"adjClose\":29.351009},{\"timestamp\":1431302400000,\"adjClose\":29.052025},{\"timestamp\":1431388800000,\"adjClose\":28.948528},{\"timestamp\":1431475200000,\"adjClose\":28.980726},{\"timestamp\":1431561600000,\"adjClose\":29.656889},{\"timestamp\":1431648000000,\"adjClose\":29.615492},{\"timestamp\":1431907200000,\"adjClose\":29.94207},{\"timestamp\":1431993600000,\"adjClose\":29.914474},{\"timestamp\":1432080000000,\"adjClose\":29.912178},{\"timestamp\":1432166400000,\"adjClose\":30.21806},{\"timestamp\":1432252800000,\"adjClose\":30.482548},{\"timestamp\":1432598400000,\"adjClose\":29.810978},{\"timestamp\":1432684800000,\"adjClose\":30.367556},{\"timestamp\":1432771200000,\"adjClose\":30.307751},{\"timestamp\":1432857600000,\"adjClose\":29.962772},{\"timestamp\":1433116800000,\"adjClose\":30.02257},{\"timestamp\":1433203200000,\"adjClose\":29.889174},{\"timestamp\":1433289600000,\"adjClose\":29.925976},{\"timestamp\":1433376000000,\"adjClose\":29.751183},{\"timestamp\":1433462400000,\"adjClose\":29.587891},{\"timestamp\":1433721600000,\"adjClose\":29.392403},{\"timestamp\":1433808000000,\"adjClose\":29.305008},{\"timestamp\":1433894400000,\"adjClose\":29.640785},{\"timestamp\":1433980800000,\"adjClose\":29.574097},{\"timestamp\":1434067200000,\"adjClose\":29.247511},{\"timestamp\":1434326400000,\"adjClose\":29.190016},{\"timestamp\":1434412800000,\"adjClose\":29.346405},{\"timestamp\":1434499200000,\"adjClose\":29.277409},{\"timestamp\":1434585600000,\"adjClose\":29.410799},{\"timestamp\":1434672000000,\"adjClose\":29.116421},{\"timestamp\":1434931200000,\"adjClose\":29.348705},{\"timestamp\":1435017600000,\"adjClose\":29.215311},{\"timestamp\":1435104000000,\"adjClose\":29.463705},{\"timestamp\":1435190400000,\"adjClose\":29.32341},{\"timestamp\":1435276800000,\"adjClose\":29.150913},{\"timestamp\":1435536000000,\"adjClose\":28.640343},{\"timestamp\":1435622400000,\"adjClose\":28.847332},{\"timestamp\":1435708800000,\"adjClose\":29.116421},{\"timestamp\":1435795200000,\"adjClose\":29.079618},{\"timestamp\":1436140800000,\"adjClose\":28.978426},{\"timestamp\":1436227200000,\"adjClose\":28.907131},{\"timestamp\":1436313600000,\"adjClose\":28.189571},{\"timestamp\":1436400000000,\"adjClose\":27.614601},{\"timestamp\":1436486400000,\"adjClose\":28.352858},{\"timestamp\":1436745600000,\"adjClose\":28.90023},{\"timestamp\":1436832000000,\"adjClose\":28.888727},{\"timestamp\":1436918400000,\"adjClose\":29.167015},{\"timestamp\":1437004800000,\"adjClose\":29.555696},{\"timestamp\":1437091200000,\"adjClose\":29.810978},{\"timestamp\":1437350400000,\"adjClose\":30.374456},{\"timestamp\":1437436800000,\"adjClose\":30.070866},{\"timestamp\":1437523200000,\"adjClose\":28.799036},{\"timestamp\":1437609600000,\"adjClose\":28.785233},{\"timestamp\":1437696000000,\"adjClose\":28.633448},{\"timestamp\":1437955200000,\"adjClose\":28.235563},{\"timestamp\":1438041600000,\"adjClose\":28.375858},{\"timestamp\":1438128000000,\"adjClose\":28.28616},{\"timestamp\":1438214400000,\"adjClose\":28.143576},{\"timestamp\":1438300800000,\"adjClose\":27.897482},{\"timestamp\":1438560000000,\"adjClose\":27.239719},{\"timestamp\":1438646400000,\"adjClose\":26.36577},{\"timestamp\":1438732800000,\"adjClose\":26.540558},{\"timestamp\":1438819200000,\"adjClose\":26.598314},{\"timestamp\":1438905600000,\"adjClose\":26.688414},{\"timestamp\":1439164800000,\"adjClose\":27.658735},{\"timestamp\":1439251200000,\"adjClose\":26.219431},{\"timestamp\":1439337600000,\"adjClose\":26.623724},{\"timestamp\":1439424000000,\"adjClose\":26.602936},{\"timestamp\":1439510400000,\"adjClose\":26.790066},{\"timestamp\":1439769600000,\"adjClose\":27.067303},{\"timestamp\":1439856000000,\"adjClose\":26.914825},{\"timestamp\":1439942400000,\"adjClose\":26.570595},{\"timestamp\":1440028800000,\"adjClose\":26.025364},{\"timestamp\":1440115200000,\"adjClose\":24.433575},{\"timestamp\":1440374400000,\"adjClose\":23.823662},{\"timestamp\":1440460800000,\"adjClose\":23.966902},{\"timestamp\":1440547200000,\"adjClose\":25.341518},{\"timestamp\":1440633600000,\"adjClose\":26.087746},{\"timestamp\":1440720000000,\"adjClose\":26.173218},{\"timestamp\":1440979200000,\"adjClose\":26.050777},{\"timestamp\":1441065600000,\"adjClose\":24.886393},{\"timestamp\":1441152000000,\"adjClose\":25.953745},{\"timestamp\":1441238400000,\"adjClose\":25.498621},{\"timestamp\":1441324800000,\"adjClose\":25.244492},{\"timestamp\":1441670400000,\"adjClose\":25.946814},{\"timestamp\":1441756800000,\"adjClose\":25.447792},{\"timestamp\":1441843200000,\"adjClose\":26.006878},{\"timestamp\":1441929600000,\"adjClose\":26.385771},{\"timestamp\":1442188800000,\"adjClose\":26.639898},{\"timestamp\":1442275200000,\"adjClose\":26.863998},{\"timestamp\":1442361600000,\"adjClose\":26.894033},{\"timestamp\":1442448000000,\"adjClose\":26.318771},{\"timestamp\":1442534400000,\"adjClose\":26.210186},{\"timestamp\":1442793600000,\"adjClose\":26.616798},{\"timestamp\":1442880000000,\"adjClose\":26.198639},{\"timestamp\":1442966400000,\"adjClose\":26.41118},{\"timestamp\":1443052800000,\"adjClose\":26.568277},{\"timestamp\":1443139200000,\"adjClose\":26.50128},{\"timestamp\":1443398400000,\"adjClose\":25.976849},{\"timestamp\":1443484800000,\"adjClose\":25.195972},{\"timestamp\":1443571200000,\"adjClose\":25.482449},{\"timestamp\":1443657600000,\"adjClose\":25.316107},{\"timestamp\":1443744000000,\"adjClose\":25.500929},{\"timestamp\":1444003200000,\"adjClose\":25.593342},{\"timestamp\":1444089600000,\"adjClose\":25.715784},{\"timestamp\":1444176000000,\"adjClose\":25.593342},{\"timestamp\":1444262400000,\"adjClose\":25.297623},{\"timestamp\":1444348800000,\"adjClose\":25.902922},{\"timestamp\":1444608000000,\"adjClose\":25.782785},{\"timestamp\":1444694400000,\"adjClose\":25.826679},{\"timestamp\":1444780800000,\"adjClose\":25.461657},{\"timestamp\":1444867200000,\"adjClose\":25.842854},{\"timestamp\":1444953600000,\"adjClose\":25.653408},{\"timestamp\":1445212800000,\"adjClose\":25.81282},{\"timestamp\":1445299200000,\"adjClose\":26.284117},{\"timestamp\":1445385600000,\"adjClose\":26.281809},{\"timestamp\":1445472000000,\"adjClose\":26.683798},{\"timestamp\":1445558400000,\"adjClose\":27.510878},{\"timestamp\":1445817600000,\"adjClose\":26.632969},{\"timestamp\":1445904000000,\"adjClose\":26.464319},{\"timestamp\":1445990400000,\"adjClose\":27.554773},{\"timestamp\":1446076800000,\"adjClose\":27.845867},{\"timestamp\":1446163200000,\"adjClose\":27.607912},{\"timestamp\":1446422400000,\"adjClose\":27.99604},{\"timestamp\":1446508800000,\"adjClose\":28.317165},{\"timestamp\":1446595200000,\"adjClose\":28.18548},{\"timestamp\":1446681600000,\"adjClose\":28.055548},{\"timestamp\":1446768000000,\"adjClose\":28.088028},{\"timestamp\":1447027200000,\"adjClose\":27.974346},{\"timestamp\":1447113600000,\"adjClose\":27.092672},{\"timestamp\":1447200000000,\"adjClose\":26.939545},{\"timestamp\":1447286400000,\"adjClose\":26.849056},{\"timestamp\":1447372800000,\"adjClose\":26.064838},{\"timestamp\":1447632000000,\"adjClose\":26.491756},{\"timestamp\":1447718400000,\"adjClose\":26.378065},{\"timestamp\":1447804800000,\"adjClose\":27.213324},{\"timestamp\":1447891200000,\"adjClose\":27.559031},{\"timestamp\":1447977600000,\"adjClose\":27.67968},{\"timestamp\":1448236800000,\"adjClose\":27.320057},{\"timestamp\":1448323200000,\"adjClose\":27.582235},{\"timestamp\":1448409600000,\"adjClose\":27.385017},{\"timestamp\":1448582400000,\"adjClose\":27.333977},{\"timestamp\":1448841600000,\"adjClose\":27.447666},{\"timestamp\":1448928000000,\"adjClose\":27.224922},{\"timestamp\":1449014400000,\"adjClose\":26.978989},{\"timestamp\":1449100800000,\"adjClose\":26.728411},{\"timestamp\":1449187200000,\"adjClose\":27.617037},{\"timestamp\":1449446400000,\"adjClose\":27.443026},{\"timestamp\":1449532800000,\"adjClose\":27.431423},{\"timestamp\":1449619200000,\"adjClose\":26.825855},{\"timestamp\":1449705600000,\"adjClose\":26.953466},{\"timestamp\":1449792000000,\"adjClose\":26.259735},{\"timestamp\":1450051200000,\"adjClose\":26.097322},{\"timestamp\":1450137600000,\"adjClose\":25.635612},{\"timestamp\":1450224000000,\"adjClose\":25.832823},{\"timestamp\":1450310400000,\"adjClose\":25.285263},{\"timestamp\":1450396800000,\"adjClose\":24.600809},{\"timestamp\":1450656000000,\"adjClose\":24.902431},{\"timestamp\":1450742400000,\"adjClose\":24.879232},{\"timestamp\":1450828800000,\"adjClose\":25.199411},{\"timestamp\":1450915200000,\"adjClose\":25.064844},{\"timestamp\":1451260800000,\"adjClose\":24.784105},{\"timestamp\":1451347200000,\"adjClose\":25.229576},{\"timestamp\":1451433600000,\"adjClose\":24.90011},{\"timestamp\":1451520000000,\"adjClose\":24.422157},{\"timestamp\":1451865600000,\"adjClose\":24.443037},{\"timestamp\":1451952000000,\"adjClose\":23.830513},{\"timestamp\":1452038400000,\"adjClose\":23.364161},{\"timestamp\":1452124800000,\"adjClose\":22.378082},{\"timestamp\":1452211200000,\"adjClose\":22.496408},{\"timestamp\":1452470400000,\"adjClose\":22.860676},{\"timestamp\":1452556800000,\"adjClose\":23.192465},{\"timestamp\":1452643200000,\"adjClose\":22.596178},{\"timestamp\":1452729600000,\"adjClose\":23.09037},{\"timestamp\":1452816000000,\"adjClose\":22.535858},{\"timestamp\":1453161600000,\"adjClose\":22.426809},{\"timestamp\":1453248000000,\"adjClose\":22.45697},{\"timestamp\":1453334400000,\"adjClose\":22.343281},{\"timestamp\":1453420800000,\"adjClose\":23.53121},{\"timestamp\":1453680000000,\"adjClose\":23.071817},{\"timestamp\":1453766400000,\"adjClose\":23.199427},{\"timestamp\":1453852800000,\"adjClose\":21.675074},{\"timestamp\":1453939200000,\"adjClose\":21.830519},{\"timestamp\":1454025600000,\"adjClose\":22.584578},{\"timestamp\":1454284800000,\"adjClose\":22.373442},{\"timestamp\":1454371200000,\"adjClose\":21.921011},{\"timestamp\":1454457600000,\"adjClose\":22.354887},{\"timestamp\":1454544000000,\"adjClose\":22.534504},{\"timestamp\":1454630400000,\"adjClose\":21.93265},{\"timestamp\":1454889600000,\"adjClose\":22.163597},{\"timestamp\":1454976000000,\"adjClose\":22.158932},{\"timestamp\":1455062400000,\"adjClose\":21.990967},{\"timestamp\":1455148800000,\"adjClose\":21.858},{\"timestamp\":1455235200000,\"adjClose\":21.92565},{\"timestamp\":1455580800000,\"adjClose\":22.543837},{\"timestamp\":1455667200000,\"adjClose\":22.889088},{\"timestamp\":1455753600000,\"adjClose\":22.455187},{\"timestamp\":1455840000000,\"adjClose\":22.40387},{\"timestamp\":1456099200000,\"adjClose\":22.599817},{\"timestamp\":1456185600000,\"adjClose\":22.088942},{\"timestamp\":1456272000000,\"adjClose\":22.417862},{\"timestamp\":1456358400000,\"adjClose\":22.571829},{\"timestamp\":1456444800000,\"adjClose\":22.606819},{\"timestamp\":1456704000000,\"adjClose\":22.555504},{\"timestamp\":1456790400000,\"adjClose\":23.451281},{\"timestamp\":1456876800000,\"adjClose\":23.502602},{\"timestamp\":1456963200000,\"adjClose\":23.677561},{\"timestamp\":1457049600000,\"adjClose\":24.029806},{\"timestamp\":1457308800000,\"adjClose\":23.763876},{\"timestamp\":1457395200000,\"adjClose\":23.567921},{\"timestamp\":1457481600000,\"adjClose\":23.588915},{\"timestamp\":1457568000000,\"adjClose\":23.600578},{\"timestamp\":1457654400000,\"adjClose\":23.854849},{\"timestamp\":1457913600000,\"adjClose\":23.915501},{\"timestamp\":1458000000000,\"adjClose\":24.396051},{\"timestamp\":1458086400000,\"adjClose\":24.720304},{\"timestamp\":1458172800000,\"adjClose\":24.680645},{\"timestamp\":1458259200000,\"adjClose\":24.708641},{\"timestamp\":1458518400000,\"adjClose\":24.706308},{\"timestamp\":1458604800000,\"adjClose\":24.895262},{\"timestamp\":1458691200000,\"adjClose\":24.757627},{\"timestamp\":1458777600000,\"adjClose\":24.650322},{\"timestamp\":1459123200000,\"adjClose\":24.538349},{\"timestamp\":1459209600000,\"adjClose\":25.119209},{\"timestamp\":1459296000000,\"adjClose\":25.557766},{\"timestamp\":1459382400000,\"adjClose\":25.424799},{\"timestamp\":1459468800000,\"adjClose\":25.658073},{\"timestamp\":1459728000000,\"adjClose\":25.921675},{\"timestamp\":1459814400000,\"adjClose\":25.616087},{\"timestamp\":1459900800000,\"adjClose\":25.88435},{\"timestamp\":1459987200000,\"adjClose\":25.319826},{\"timestamp\":1460073600000,\"adjClose\":25.347818},{\"timestamp\":1460332800000,\"adjClose\":25.431795},{\"timestamp\":1460419200000,\"adjClose\":25.763046},{\"timestamp\":1460505600000,\"adjClose\":26.136292},{\"timestamp\":1460592000000,\"adjClose\":26.150288},{\"timestamp\":1460678400000,\"adjClose\":25.625418},{\"timestamp\":1460937600000,\"adjClose\":25.072552},{\"timestamp\":1461024000000,\"adjClose\":24.939585},{\"timestamp\":1461110400000,\"adjClose\":24.990908},{\"timestamp\":1461196800000,\"adjClose\":24.720304},{\"timestamp\":1461283200000,\"adjClose\":24.652653},{\"timestamp\":1461542400000,\"adjClose\":24.512693},{\"timestamp\":1461628800000,\"adjClose\":24.342396},{\"timestamp\":1461715200000,\"adjClose\":22.819101},{\"timestamp\":1461801600000,\"adjClose\":22.121607},{\"timestamp\":1461888000000,\"adjClose\":21.867334},{\"timestamp\":1462147200000,\"adjClose\":21.844006},{\"timestamp\":1462233600000,\"adjClose\":22.203251},{\"timestamp\":1462320000000,\"adjClose\":21.972309},{\"timestamp\":1462406400000,\"adjClose\":21.883125},{\"timestamp\":1462492800000,\"adjClose\":21.761086},{\"timestamp\":1462752000000,\"adjClose\":21.777508},{\"timestamp\":1462838400000,\"adjClose\":21.925369},{\"timestamp\":1462924800000,\"adjClose\":21.71179},{\"timestamp\":1463011200000,\"adjClose\":21.202499},{\"timestamp\":1463097600000,\"adjClose\":21.244749},{\"timestamp\":1463356800000,\"adjClose\":22.033329},{\"timestamp\":1463443200000,\"adjClose\":21.941797},{\"timestamp\":1463529600000,\"adjClose\":22.192921},{\"timestamp\":1463616000000,\"adjClose\":22.108427},{\"timestamp\":1463702400000,\"adjClose\":22.34782},{\"timestamp\":1463961600000,\"adjClose\":22.631807},{\"timestamp\":1464048000000,\"adjClose\":22.976812},{\"timestamp\":1464134400000,\"adjClose\":23.380487},{\"timestamp\":1464220800000,\"adjClose\":23.565899},{\"timestamp\":1464307200000,\"adjClose\":23.551815},{\"timestamp\":1464652800000,\"adjClose\":23.436817},{\"timestamp\":1464739200000,\"adjClose\":23.108234},{\"timestamp\":1464825600000,\"adjClose\":22.934566},{\"timestamp\":1464912000000,\"adjClose\":22.981503},{\"timestamp\":1465171200000,\"adjClose\":23.148138},{\"timestamp\":1465257600000,\"adjClose\":23.242016},{\"timestamp\":1465344000000,\"adjClose\":23.220892},{\"timestamp\":1465430400000,\"adjClose\":23.387529},{\"timestamp\":1465516800000,\"adjClose\":23.195082},{\"timestamp\":1465776000000,\"adjClose\":22.845379},{\"timestamp\":1465862400000,\"adjClose\":22.873541},{\"timestamp\":1465948800000,\"adjClose\":22.798441},{\"timestamp\":1466035200000,\"adjClose\":22.89467},{\"timestamp\":1466121600000,\"adjClose\":22.373636},{\"timestamp\":1466380800000,\"adjClose\":22.319662},{\"timestamp\":1466467200000,\"adjClose\":22.509762},{\"timestamp\":1466553600000,\"adjClose\":22.425274},{\"timestamp\":1466640000000,\"adjClose\":22.554356},{\"timestamp\":1466726400000,\"adjClose\":21.920677},{\"timestamp\":1466985600000,\"adjClose\":21.601484},{\"timestamp\":1467072000000,\"adjClose\":21.965269},{\"timestamp\":1467158400000,\"adjClose\":22.155369},{\"timestamp\":1467244800000,\"adjClose\":22.43701},{\"timestamp\":1467331200000,\"adjClose\":22.50507},{\"timestamp\":1467676800000,\"adjClose\":22.293844},{\"timestamp\":1467763200000,\"adjClose\":22.42058},{\"timestamp\":1467849600000,\"adjClose\":22.516806},{\"timestamp\":1467936000000,\"adjClose\":22.690481},{\"timestamp\":1468195200000,\"adjClose\":22.760891},{\"timestamp\":1468281600000,\"adjClose\":22.864161},{\"timestamp\":1468368000000,\"adjClose\":22.735071},{\"timestamp\":1468454400000,\"adjClose\":23.185694},{\"timestamp\":1468540800000,\"adjClose\":23.183344},{\"timestamp\":1468800000000,\"adjClose\":23.429779},{\"timestamp\":1468886400000,\"adjClose\":23.439165},{\"timestamp\":1468972800000,\"adjClose\":23.460289},{\"timestamp\":1469059200000,\"adjClose\":23.335901},{\"timestamp\":1469145600000,\"adjClose\":23.155182},{\"timestamp\":1469404800000,\"adjClose\":22.845379},{\"timestamp\":1469491200000,\"adjClose\":22.688135},{\"timestamp\":1469577600000,\"adjClose\":24.162024},{\"timestamp\":1469664000000,\"adjClose\":24.488249},{\"timestamp\":1469750400000,\"adjClose\":24.457745},{\"timestamp\":1470009600000,\"adjClose\":24.889585},{\"timestamp\":1470096000000,\"adjClose\":24.521116},{\"timestamp\":1470182400000,\"adjClose\":24.828569},{\"timestamp\":1470268800000,\"adjClose\":24.981947},{\"timestamp\":1470355200000,\"adjClose\":25.361853},{\"timestamp\":1470614400000,\"adjClose\":25.571865},{\"timestamp\":1470700800000,\"adjClose\":25.675694},{\"timestamp\":1470787200000,\"adjClose\":25.484562},{\"timestamp\":1470873600000,\"adjClose\":25.468039},{\"timestamp\":1470960000000,\"adjClose\":25.527033},{\"timestamp\":1471219200000,\"adjClose\":25.833796},{\"timestamp\":1471305600000,\"adjClose\":25.810194},{\"timestamp\":1471392000000,\"adjClose\":25.77244},{\"timestamp\":1471478400000,\"adjClose\":25.739405},{\"timestamp\":1471564800000,\"adjClose\":25.805471},{\"timestamp\":1471824000000,\"adjClose\":25.604902},{\"timestamp\":1471910400000,\"adjClose\":25.685131},{\"timestamp\":1471996800000,\"adjClose\":25.491634},{\"timestamp\":1472083200000,\"adjClose\":25.383093},{\"timestamp\":1472169600000,\"adjClose\":25.23443},{\"timestamp\":1472428800000,\"adjClose\":25.206118},{\"timestamp\":1472515200000,\"adjClose\":25.012623},{\"timestamp\":1472601600000,\"adjClose\":25.036221},{\"timestamp\":1472688000000,\"adjClose\":25.184879},{\"timestamp\":1472774400000,\"adjClose\":25.420847},{\"timestamp\":1473120000000,\"adjClose\":25.413767},{\"timestamp\":1473206400000,\"adjClose\":25.569504},{\"timestamp\":1473292800000,\"adjClose\":24.899359},{\"timestamp\":1473379200000,\"adjClose\":24.335394},{\"timestamp\":1473638400000,\"adjClose\":24.880482},{\"timestamp\":1473724800000,\"adjClose\":25.472759},{\"timestamp\":1473811200000,\"adjClose\":26.374159},{\"timestamp\":1473897600000,\"adjClose\":27.270836},{\"timestamp\":1473984000000,\"adjClose\":27.117458},{\"timestamp\":1474243200000,\"adjClose\":26.80126},{\"timestamp\":1474329600000,\"adjClose\":26.798903},{\"timestamp\":1474416000000,\"adjClose\":26.79418},{\"timestamp\":1474502400000,\"adjClose\":27.046667},{\"timestamp\":1474588800000,\"adjClose\":26.595964},{\"timestamp\":1474848000000,\"adjClose\":26.636082},{\"timestamp\":1474934400000,\"adjClose\":26.685635},{\"timestamp\":1475020800000,\"adjClose\":26.888567},{\"timestamp\":1475107200000,\"adjClose\":26.470907},{\"timestamp\":1475193600000,\"adjClose\":26.676199},{\"timestamp\":1475452800000,\"adjClose\":26.551132},{\"timestamp\":1475539200000,\"adjClose\":26.664402},{\"timestamp\":1475625600000,\"adjClose\":26.676199},{\"timestamp\":1475712000000,\"adjClose\":26.874411},{\"timestamp\":1475798400000,\"adjClose\":26.914526},{\"timestamp\":1476057600000,\"adjClose\":27.384102},{\"timestamp\":1476144000000,\"adjClose\":27.443092},{\"timestamp\":1476230400000,\"adjClose\":27.688499},{\"timestamp\":1476316800000,\"adjClose\":27.603554},{\"timestamp\":1476403200000,\"adjClose\":27.756927},{\"timestamp\":1476662400000,\"adjClose\":27.73805},{\"timestamp\":1476748800000,\"adjClose\":27.719177},{\"timestamp\":1476835200000,\"adjClose\":27.636587},{\"timestamp\":1476921600000,\"adjClose\":27.622435},{\"timestamp\":1477008000000,\"adjClose\":27.513885},{\"timestamp\":1477267200000,\"adjClose\":27.76165},{\"timestamp\":1477353600000,\"adjClose\":27.903231},{\"timestamp\":1477440000000,\"adjClose\":27.275555},{\"timestamp\":1477526400000,\"adjClose\":27.01363},{\"timestamp\":1477612800000,\"adjClose\":26.834291},{\"timestamp\":1477872000000,\"adjClose\":26.791819},{\"timestamp\":1477958400000,\"adjClose\":26.308084},{\"timestamp\":1478044800000,\"adjClose\":26.33168},{\"timestamp\":1478131200000,\"adjClose\":26.049444},{\"timestamp\":1478217600000,\"adjClose\":25.814631},{\"timestamp\":1478476800000,\"adjClose\":26.187002},{\"timestamp\":1478563200000,\"adjClose\":26.341171},{\"timestamp\":1478649600000,\"adjClose\":26.298481},{\"timestamp\":1478736000000,\"adjClose\":25.565596},{\"timestamp\":1478822400000,\"adjClose\":25.717388},{\"timestamp\":1479081600000,\"adjClose\":25.07226},{\"timestamp\":1479168000000,\"adjClose\":25.404314},{\"timestamp\":1479254400000,\"adjClose\":26.087387},{\"timestamp\":1479340800000,\"adjClose\":26.077896},{\"timestamp\":1479427200000,\"adjClose\":26.103992},{\"timestamp\":1479686400000,\"adjClose\":26.500082},{\"timestamp\":1479772800000,\"adjClose\":26.516682},{\"timestamp\":1479859200000,\"adjClose\":26.381491},{\"timestamp\":1480032000000,\"adjClose\":26.514313},{\"timestamp\":1480291200000,\"adjClose\":26.462132},{\"timestamp\":1480377600000,\"adjClose\":26.436045},{\"timestamp\":1480464000000,\"adjClose\":26.213095},{\"timestamp\":1480550400000,\"adjClose\":25.9688},{\"timestamp\":1480636800000,\"adjClose\":26.066044},{\"timestamp\":1480896000000,\"adjClose\":25.878672},{\"timestamp\":1480982400000,\"adjClose\":26.077896},{\"timestamp\":1481068800000,\"adjClose\":26.334061},{\"timestamp\":1481155200000,\"adjClose\":26.592581},{\"timestamp\":1481241600000,\"adjClose\":27.026619},{\"timestamp\":1481500800000,\"adjClose\":26.872458},{\"timestamp\":1481587200000,\"adjClose\":27.320726},{\"timestamp\":1481673600000,\"adjClose\":27.320726},{\"timestamp\":1481760000000,\"adjClose\":27.470144},{\"timestamp\":1481846400000,\"adjClose\":27.505724},{\"timestamp\":1482105600000,\"adjClose\":27.664633},{\"timestamp\":1482192000000,\"adjClose\":27.738157},{\"timestamp\":1482278400000,\"adjClose\":27.76425},{\"timestamp\":1482364800000,\"adjClose\":27.581623},{\"timestamp\":1482451200000,\"adjClose\":27.636169},{\"timestamp\":1482796800000,\"adjClose\":27.811686},{\"timestamp\":1482883200000,\"adjClose\":27.6931},{\"timestamp\":1482969600000,\"adjClose\":27.68598},{\"timestamp\":1483056000000,\"adjClose\":27.470144},{\"timestamp\":1483401600000,\"adjClose\":27.548414},{\"timestamp\":1483488000000,\"adjClose\":27.517582},{\"timestamp\":1483574400000,\"adjClose\":27.65752},{\"timestamp\":1483660800000,\"adjClose\":27.965857},{\"timestamp\":1483920000000,\"adjClose\":28.222006},{\"timestamp\":1484006400000,\"adjClose\":28.250471},{\"timestamp\":1484092800000,\"adjClose\":28.402262},{\"timestamp\":1484179200000,\"adjClose\":28.28367},{\"timestamp\":1484265600000,\"adjClose\":28.233862},{\"timestamp\":1484611200000,\"adjClose\":28.461563},{\"timestamp\":1484697600000,\"adjClose\":28.459183},{\"timestamp\":1484784000000,\"adjClose\":28.409378},{\"timestamp\":1484870400000,\"adjClose\":28.461563},{\"timestamp\":1485129600000,\"adjClose\":28.480532},{\"timestamp\":1485216000000,\"adjClose\":28.454441},{\"timestamp\":1485302400000,\"adjClose\":28.907455},{\"timestamp\":1485388800000,\"adjClose\":28.921686},{\"timestamp\":1485475200000,\"adjClose\":28.924057},{\"timestamp\":1485734400000,\"adjClose\":28.848156},{\"timestamp\":1485820800000,\"adjClose\":28.78175},{\"timestamp\":1485907200000,\"adjClose\":30.536879},{\"timestamp\":1485993600000,\"adjClose\":30.484697},{\"timestamp\":1486080000000,\"adjClose\":30.61515},{\"timestamp\":1486339200000,\"adjClose\":30.902138},{\"timestamp\":1486425600000,\"adjClose\":31.196234},{\"timestamp\":1486512000000,\"adjClose\":31.317196},{\"timestamp\":1486598400000,\"adjClose\":31.543493},{\"timestamp\":1486684800000,\"adjClose\":31.472033},{\"timestamp\":1486944000000,\"adjClose\":31.750734},{\"timestamp\":1487030400000,\"adjClose\":32.162846},{\"timestamp\":1487116800000,\"adjClose\":32.279568},{\"timestamp\":1487203200000,\"adjClose\":32.241451},{\"timestamp\":1487289600000,\"adjClose\":32.32959},{\"timestamp\":1487635200000,\"adjClose\":32.563034},{\"timestamp\":1487721600000,\"adjClose\":32.660694},{\"timestamp\":1487808000000,\"adjClose\":32.522533},{\"timestamp\":1487894400000,\"adjClose\":32.553505},{\"timestamp\":1488153600000,\"adjClose\":32.617813},{\"timestamp\":1488240000000,\"adjClose\":32.632114},{\"timestamp\":1488326400000,\"adjClose\":33.299088},{\"timestamp\":1488412800000,\"adjClose\":33.101376},{\"timestamp\":1488499200000,\"adjClose\":33.296707},{\"timestamp\":1488758400000,\"adjClose\":33.191895},{\"timestamp\":1488844800000,\"adjClose\":33.234776},{\"timestamp\":1488931200000,\"adjClose\":33.110909},{\"timestamp\":1489017600000,\"adjClose\":33.034672},{\"timestamp\":1489104000000,\"adjClose\":33.144257},{\"timestamp\":1489363200000,\"adjClose\":33.158543},{\"timestamp\":1489449600000,\"adjClose\":33.108528},{\"timestamp\":1489536000000,\"adjClose\":33.458694},{\"timestamp\":1489622400000,\"adjClose\":33.51347},{\"timestamp\":1489708800000,\"adjClose\":33.346737},{\"timestamp\":1489968000000,\"adjClose\":33.696899},{\"timestamp\":1490054400000,\"adjClose\":33.311001},{\"timestamp\":1490140800000,\"adjClose\":33.68737},{\"timestamp\":1490227200000,\"adjClose\":33.56826},{\"timestamp\":1490313600000,\"adjClose\":33.501568},{\"timestamp\":1490572800000,\"adjClose\":33.558743},{\"timestamp\":1490659200000,\"adjClose\":34.254307},{\"timestamp\":1490745600000,\"adjClose\":34.330524},{\"timestamp\":1490832000000,\"adjClose\":34.285263},{\"timestamp\":1490918400000,\"adjClose\":34.220959},{\"timestamp\":1491177600000,\"adjClose\":34.230484},{\"timestamp\":1491264000000,\"adjClose\":34.485367},{\"timestamp\":1491350400000,\"adjClose\":34.306713},{\"timestamp\":1491436800000,\"adjClose\":34.220959},{\"timestamp\":1491523200000,\"adjClose\":34.144726},{\"timestamp\":1491782400000,\"adjClose\":34.104233},{\"timestamp\":1491868800000,\"adjClose\":33.737396},{\"timestamp\":1491955200000,\"adjClose\":33.777882},{\"timestamp\":1492041600000,\"adjClose\":33.599232},{\"timestamp\":1492387200000,\"adjClose\":33.785034},{\"timestamp\":1492473600000,\"adjClose\":33.634968},{\"timestamp\":1492560000000,\"adjClose\":33.511097},{\"timestamp\":1492646400000,\"adjClose\":33.93034},{\"timestamp\":1492732800000,\"adjClose\":33.889851},{\"timestamp\":1492992000000,\"adjClose\":34.216194},{\"timestamp\":1493078400000,\"adjClose\":34.428196},{\"timestamp\":1493164800000,\"adjClose\":34.225719},{\"timestamp\":1493251200000,\"adjClose\":34.251919},{\"timestamp\":1493337600000,\"adjClose\":34.218575},{\"timestamp\":1493596800000,\"adjClose\":34.916527},{\"timestamp\":1493683200000,\"adjClose\":35.13805},{\"timestamp\":1493769600000,\"adjClose\":35.030865},{\"timestamp\":1493856000000,\"adjClose\":34.904613},{\"timestamp\":1493942400000,\"adjClose\":35.483456},{\"timestamp\":1494201600000,\"adjClose\":36.4482},{\"timestamp\":1494288000000,\"adjClose\":36.681641},{\"timestamp\":1494374400000,\"adjClose\":36.507751},{\"timestamp\":1494460800000,\"adjClose\":36.823475},{\"timestamp\":1494547200000,\"adjClose\":37.337746},{\"timestamp\":1494806400000,\"adjClose\":37.242069},{\"timestamp\":1494892800000,\"adjClose\":37.18705},{\"timestamp\":1494979200000,\"adjClose\":35.938477},{\"timestamp\":1495065600000,\"adjClose\":36.486221},{\"timestamp\":1495152000000,\"adjClose\":36.6106},{\"timestamp\":1495411200000,\"adjClose\":36.833046},{\"timestamp\":1495497600000,\"adjClose\":36.787601},{\"timestamp\":1495584000000,\"adjClose\":36.677582},{\"timestamp\":1495670400000,\"adjClose\":36.80434},{\"timestamp\":1495756800000,\"adjClose\":36.742161},{\"timestamp\":1496102400000,\"adjClose\":36.756512},{\"timestamp\":1496188800000,\"adjClose\":36.538845},{\"timestamp\":1496275200000,\"adjClose\":36.639305},{\"timestamp\":1496361600000,\"adjClose\":37.18227},{\"timestamp\":1496620800000,\"adjClose\":36.818695},{\"timestamp\":1496707200000,\"adjClose\":36.943081},{\"timestamp\":1496793600000,\"adjClose\":37.163132},{\"timestamp\":1496880000000,\"adjClose\":37.072239},{\"timestamp\":1496966400000,\"adjClose\":35.634693},{\"timestamp\":1497225600000,\"adjClose\":34.78318},{\"timestamp\":1497312000000,\"adjClose\":35.063038},{\"timestamp\":1497398400000,\"adjClose\":34.720989},{\"timestamp\":1497484800000,\"adjClose\":34.51289},{\"timestamp\":1497571200000,\"adjClose\":34.029736},{\"timestamp\":1497830400000,\"adjClose\":35.003239},{\"timestamp\":1497916800000,\"adjClose\":34.685108},{\"timestamp\":1498003200000,\"adjClose\":34.890816},{\"timestamp\":1498089600000,\"adjClose\":34.83342},{\"timestamp\":1498176000000,\"adjClose\":34.988884},{\"timestamp\":1498435200000,\"adjClose\":34.87886},{\"timestamp\":1498521600000,\"adjClose\":34.378944},{\"timestamp\":1498608000000,\"adjClose\":34.881248},{\"timestamp\":1498694400000,\"adjClose\":34.366989},{\"timestamp\":1498780800000,\"adjClose\":34.448315},{\"timestamp\":1499040000000,\"adjClose\":34.323929},{\"timestamp\":1499212800000,\"adjClose\":34.465057},{\"timestamp\":1499299200000,\"adjClose\":34.139759},{\"timestamp\":1499385600000,\"adjClose\":34.486584},{\"timestamp\":1499644800000,\"adjClose\":34.697067},{\"timestamp\":1499731200000,\"adjClose\":34.80949},{\"timestamp\":1499817600000,\"adjClose\":34.859726},{\"timestamp\":1499904000000,\"adjClose\":35.345287},{\"timestamp\":1499990400000,\"adjClose\":35.649052},{\"timestamp\":1500249600000,\"adjClose\":35.773434},{\"timestamp\":1500336000000,\"adjClose\":35.897812},{\"timestamp\":1500422400000,\"adjClose\":36.122654},{\"timestamp\":1500508800000,\"adjClose\":35.959999},{\"timestamp\":1500595200000,\"adjClose\":35.943256},{\"timestamp\":1500854400000,\"adjClose\":36.378593},{\"timestamp\":1500940800000,\"adjClose\":36.534061},{\"timestamp\":1501027200000,\"adjClose\":36.706284},{\"timestamp\":1501113600000,\"adjClose\":36.012627},{\"timestamp\":1501200000000,\"adjClose\":35.759083},{\"timestamp\":1501459200000,\"adjClose\":35.574905},{\"timestamp\":1501545600000,\"adjClose\":35.890636},{\"timestamp\":1501632000000,\"adjClose\":37.586502},{\"timestamp\":1501718400000,\"adjClose\":37.210976},{\"timestamp\":1501804800000,\"adjClose\":37.407112},{\"timestamp\":1502064000000,\"adjClose\":37.985954},{\"timestamp\":1502150400000,\"adjClose\":38.289726},{\"timestamp\":1502236800000,\"adjClose\":38.524132},{\"timestamp\":1502323200000,\"adjClose\":37.297066},{\"timestamp\":1502409600000,\"adjClose\":37.81575},{\"timestamp\":1502668800000,\"adjClose\":38.384861},{\"timestamp\":1502755200000,\"adjClose\":38.80508},{\"timestamp\":1502841600000,\"adjClose\":38.649002},{\"timestamp\":1502928000000,\"adjClose\":37.906998},{\"timestamp\":1503014400000,\"adjClose\":37.82056},{\"timestamp\":1503273600000,\"adjClose\":37.750916},{\"timestamp\":1503360000000,\"adjClose\":38.368046},{\"timestamp\":1503446400000,\"adjClose\":38.416069},{\"timestamp\":1503532800000,\"adjClose\":38.245575},{\"timestamp\":1503619200000,\"adjClose\":38.38726},{\"timestamp\":1503878400000,\"adjClose\":38.773869},{\"timestamp\":1503964800000,\"adjClose\":39.119656},{\"timestamp\":1504051200000,\"adjClose\":39.225315},{\"timestamp\":1504137600000,\"adjClose\":39.381397},{\"timestamp\":1504224000000,\"adjClose\":39.39341},{\"timestamp\":1504569600000,\"adjClose\":38.920349},{\"timestamp\":1504656000000,\"adjClose\":38.879524},{\"timestamp\":1504742400000,\"adjClose\":38.723442},{\"timestamp\":1504828800000,\"adjClose\":38.091904},{\"timestamp\":1505088000000,\"adjClose\":38.781078},{\"timestamp\":1505174400000,\"adjClose\":38.627396},{\"timestamp\":1505260800000,\"adjClose\":38.336834},{\"timestamp\":1505347200000,\"adjClose\":38.007851},{\"timestamp\":1505433600000,\"adjClose\":38.392063},{\"timestamp\":1505692800000,\"adjClose\":38.101501},{\"timestamp\":1505779200000,\"adjClose\":38.11591},{\"timestamp\":1505865600000,\"adjClose\":37.477169},{\"timestamp\":1505952000000,\"adjClose\":36.833611},{\"timestamp\":1506038400000,\"adjClose\":36.473415},{\"timestamp\":1506297600000,\"adjClose\":36.151646},{\"timestamp\":1506384000000,\"adjClose\":36.773579},{\"timestamp\":1506470400000,\"adjClose\":37.035324},{\"timestamp\":1506556800000,\"adjClose\":36.807201},{\"timestamp\":1506643200000,\"adjClose\":37.008904},{\"timestamp\":1506902400000,\"adjClose\":36.934471},{\"timestamp\":1506988800000,\"adjClose\":37.09536},{\"timestamp\":1507075200000,\"adjClose\":36.855228},{\"timestamp\":1507161600000,\"adjClose\":37.313873},{\"timestamp\":1507248000000,\"adjClose\":37.292255},{\"timestamp\":1507507200000,\"adjClose\":37.421932},{\"timestamp\":1507593600000,\"adjClose\":37.436337},{\"timestamp\":1507680000000,\"adjClose\":37.592426},{\"timestamp\":1507766400000,\"adjClose\":37.460361},{\"timestamp\":1507852800000,\"adjClose\":37.69809},{\"timestamp\":1508112000000,\"adjClose\":38.392063},{\"timestamp\":1508198400000,\"adjClose\":38.533737},{\"timestamp\":1508284800000,\"adjClose\":38.363247},{\"timestamp\":1508371200000,\"adjClose\":37.455551},{\"timestamp\":1508457600000,\"adjClose\":37.52039},{\"timestamp\":1508716800000,\"adjClose\":37.501179},{\"timestamp\":1508803200000,\"adjClose\":37.724499},{\"timestamp\":1508889600000,\"adjClose\":37.558807},{\"timestamp\":1508976000000,\"adjClose\":37.798935},{\"timestamp\":1509062400000,\"adjClose\":39.153267},{\"timestamp\":1509321600000,\"adjClose\":40.034557},{\"timestamp\":1509408000000,\"adjClose\":40.591652},{\"timestamp\":1509494400000,\"adjClose\":40.075378},{\"timestamp\":1509580800000,\"adjClose\":40.36834},{\"timestamp\":1509667200000,\"adjClose\":41.422508},{\"timestamp\":1509926400000,\"adjClose\":41.842739},{\"timestamp\":1510012800000,\"adjClose\":41.977203},{\"timestamp\":1510099200000,\"adjClose\":42.320599},{\"timestamp\":1510185600000,\"adjClose\":42.23415},{\"timestamp\":1510272000000,\"adjClose\":42.094368},{\"timestamp\":1510531200000,\"adjClose\":41.925674},{\"timestamp\":1510617600000,\"adjClose\":41.291862},{\"timestamp\":1510704000000,\"adjClose\":40.747211},{\"timestamp\":1510790400000,\"adjClose\":41.234024},{\"timestamp\":1510876800000,\"adjClose\":41.005077},{\"timestamp\":1511136000000,\"adjClose\":40.964115},{\"timestamp\":1511222400000,\"adjClose\":41.725651},{\"timestamp\":1511308800000,\"adjClose\":42.164257},{\"timestamp\":1511481600000,\"adjClose\":42.166676},{\"timestamp\":1511740800000,\"adjClose\":41.954594},{\"timestamp\":1511827200000,\"adjClose\":41.708782},{\"timestamp\":1511913600000,\"adjClose\":40.843628},{\"timestamp\":1512000000000,\"adjClose\":41.414772},{\"timestamp\":1512086400000,\"adjClose\":41.221973},{\"timestamp\":1512345600000,\"adjClose\":40.920731},{\"timestamp\":1512432000000,\"adjClose\":40.882164},{\"timestamp\":1512518400000,\"adjClose\":40.73035},{\"timestamp\":1512604800000,\"adjClose\":40.805065},{\"timestamp\":1512691200000,\"adjClose\":40.817101},{\"timestamp\":1512950400000,\"adjClose\":41.612385},{\"timestamp\":1513036800000,\"adjClose\":41.37862},{\"timestamp\":1513123200000,\"adjClose\":41.515987},{\"timestamp\":1513209600000,\"adjClose\":41.503937},{\"timestamp\":1513296000000,\"adjClose\":41.925674},{\"timestamp\":1513555200000,\"adjClose\":42.516113},{\"timestamp\":1513641600000,\"adjClose\":42.063038},{\"timestamp\":1513728000000,\"adjClose\":42.017254},{\"timestamp\":1513814400000,\"adjClose\":42.176311},{\"timestamp\":1513900800000,\"adjClose\":42.176311},{\"timestamp\":1514246400000,\"adjClose\":41.106304},{\"timestamp\":1514332800000,\"adjClose\":41.113533},{\"timestamp\":1514419200000,\"adjClose\":41.229214},{\"timestamp\":1514505600000,\"adjClose\":40.783367},{\"timestamp\":1514851200000,\"adjClose\":41.51358},{\"timestamp\":1514937600000,\"adjClose\":41.506344},{\"timestamp\":1515024000000,\"adjClose\":41.699139},{\"timestamp\":1515110400000,\"adjClose\":42.173893},{\"timestamp\":1515369600000,\"adjClose\":42.017254},{\"timestamp\":1515456000000,\"adjClose\":42.012432},{\"timestamp\":1515542400000,\"adjClose\":42.002796},{\"timestamp\":1515628800000,\"adjClose\":42.241379},{\"timestamp\":1515715200000,\"adjClose\":42.677582},{\"timestamp\":1516060800000,\"adjClose\":42.460686},{\"timestamp\":1516147200000,\"adjClose\":43.16198},{\"timestamp\":1516233600000,\"adjClose\":43.200535},{\"timestamp\":1516320000000,\"adjClose\":43.007744},{\"timestamp\":1516579200000,\"adjClose\":42.655895},{\"timestamp\":1516665600000,\"adjClose\":42.665524},{\"timestamp\":1516752000000,\"adjClose\":41.985931},{\"timestamp\":1516838400000,\"adjClose\":41.236435},{\"timestamp\":1516924800000,\"adjClose\":41.332829},{\"timestamp\":1517184000000,\"adjClose\":40.477306},{\"timestamp\":1517270400000,\"adjClose\":40.238724},{\"timestamp\":1517356800000,\"adjClose\":40.349579},{\"timestamp\":1517443200000,\"adjClose\":40.433929},{\"timestamp\":1517529600000,\"adjClose\":38.679497},{\"timestamp\":1517788800000,\"adjClose\":37.7131},{\"timestamp\":1517875200000,\"adjClose\":39.2892},{\"timestamp\":1517961600000,\"adjClose\":38.448132},{\"timestamp\":1518048000000,\"adjClose\":37.390179},{\"timestamp\":1518134400000,\"adjClose\":37.847511},{\"timestamp\":1518393600000,\"adjClose\":39.37196},{\"timestamp\":1518480000000,\"adjClose\":39.766384},{\"timestamp\":1518566400000,\"adjClose\":40.499569},{\"timestamp\":1518652800000,\"adjClose\":41.859478},{\"timestamp\":1518739200000,\"adjClose\":41.723969},{\"timestamp\":1519084800000,\"adjClose\":41.583626},{\"timestamp\":1519171200000,\"adjClose\":41.394882},{\"timestamp\":1519257600000,\"adjClose\":41.74091},{\"timestamp\":1519344000000,\"adjClose\":42.466835},{\"timestamp\":1519603200000,\"adjClose\":43.306488},{\"timestamp\":1519689600000,\"adjClose\":43.166153},{\"timestamp\":1519776000000,\"adjClose\":43.100819},{\"timestamp\":1519862400000,\"adjClose\":42.34584},{\"timestamp\":1519948800000,\"adjClose\":42.638641},{\"timestamp\":1520208000000,\"adjClose\":42.786251},{\"timestamp\":1520294400000,\"adjClose\":42.74995},{\"timestamp\":1520380800000,\"adjClose\":42.353111},{\"timestamp\":1520467200000,\"adjClose\":42.815285},{\"timestamp\":1520553600000,\"adjClose\":43.550888},{\"timestamp\":1520812800000,\"adjClose\":43.971928},{\"timestamp\":1520899200000,\"adjClose\":43.548473},{\"timestamp\":1520985600000,\"adjClose\":43.178246},{\"timestamp\":1521072000000,\"adjClose\":43.229061},{\"timestamp\":1521158400000,\"adjClose\":43.076622},{\"timestamp\":1521417600000,\"adjClose\":42.418446},{\"timestamp\":1521504000000,\"adjClose\":42.403927},{\"timestamp\":1521590400000,\"adjClose\":41.443279},{\"timestamp\":1521676800000,\"adjClose\":40.857697},{\"timestamp\":1521763200000,\"adjClose\":39.911564},{\"timestamp\":1522022400000,\"adjClose\":41.806248},{\"timestamp\":1522108800000,\"adjClose\":40.734283},{\"timestamp\":1522195200000,\"adjClose\":40.28421},{\"timestamp\":1522281600000,\"adjClose\":40.598782},{\"timestamp\":1522627200000,\"adjClose\":40.332607},{\"timestamp\":1522713600000,\"adjClose\":40.746387},{\"timestamp\":1522800000000,\"adjClose\":41.525551},{\"timestamp\":1522886400000,\"adjClose\":41.813499},{\"timestamp\":1522972800000,\"adjClose\":40.743973},{\"timestamp\":1523232000000,\"adjClose\":41.148064},{\"timestamp\":1523318400000,\"adjClose\":41.922394},{\"timestamp\":1523404800000,\"adjClose\":41.726391},{\"timestamp\":1523491200000,\"adjClose\":42.137756},{\"timestamp\":1523577600000,\"adjClose\":42.28051},{\"timestamp\":1523836800000,\"adjClose\":42.544277},{\"timestamp\":1523923200000,\"adjClose\":43.129852},{\"timestamp\":1524009600000,\"adjClose\":43.033062},{\"timestamp\":1524096000000,\"adjClose\":41.813499},{\"timestamp\":1524182400000,\"adjClose\":40.100307},{\"timestamp\":1524441600000,\"adjClose\":39.984165},{\"timestamp\":1524528000000,\"adjClose\":39.42762},{\"timestamp\":1524614400000,\"adjClose\":39.599415},{\"timestamp\":1524700800000,\"adjClose\":39.737343},{\"timestamp\":1524787200000,\"adjClose\":39.277592},{\"timestamp\":1525046400000,\"adjClose\":39.988998},{\"timestamp\":1525132800000,\"adjClose\":40.918182},{\"timestamp\":1525219200000,\"adjClose\":42.725754},{\"timestamp\":1525305600000,\"adjClose\":42.803181},{\"timestamp\":1525392000000,\"adjClose\":44.482498},{\"timestamp\":1525651200000,\"adjClose\":44.804325},{\"timestamp\":1525737600000,\"adjClose\":45.019688},{\"timestamp\":1525824000000,\"adjClose\":45.336678},{\"timestamp\":1525910400000,\"adjClose\":45.985168},{\"timestamp\":1525996800000,\"adjClose\":45.810276},{\"timestamp\":1526256000000,\"adjClose\":45.703396},{\"timestamp\":1526342400000,\"adjClose\":45.288029},{\"timestamp\":1526428800000,\"adjClose\":45.710678},{\"timestamp\":1526515200000,\"adjClose\":45.421623},{\"timestamp\":1526601600000,\"adjClose\":45.256443},{\"timestamp\":1526860800000,\"adjClose\":45.577084},{\"timestamp\":1526947200000,\"adjClose\":45.462914},{\"timestamp\":1527033600000,\"adjClose\":45.754414},{\"timestamp\":1527120000000,\"adjClose\":45.703396},{\"timestamp\":1527206400000,\"adjClose\":45.80785},{\"timestamp\":1527552000000,\"adjClose\":45.642673},{\"timestamp\":1527638400000,\"adjClose\":45.545509},{\"timestamp\":1527724800000,\"adjClose\":45.392467},{\"timestamp\":1527811200000,\"adjClose\":46.211071},{\"timestamp\":1528070400000,\"adjClose\":46.597305},{\"timestamp\":1528156800000,\"adjClose\":46.956806},{\"timestamp\":1528243200000,\"adjClose\":47.119556},{\"timestamp\":1528329600000,\"adjClose\":46.993248},{\"timestamp\":1528416000000,\"adjClose\":46.565727},{\"timestamp\":1528675200000,\"adjClose\":46.451557},{\"timestamp\":1528761600000,\"adjClose\":46.706612},{\"timestamp\":1528848000000,\"adjClose\":46.322815},{\"timestamp\":1528934400000,\"adjClose\":46.347111},{\"timestamp\":1529020800000,\"adjClose\":45.87101},{\"timestamp\":1529280000000,\"adjClose\":45.84671},{\"timestamp\":1529366400000,\"adjClose\":45.105843},{\"timestamp\":1529452800000,\"adjClose\":45.302597},{\"timestamp\":1529539200000,\"adjClose\":45.049973},{\"timestamp\":1529625600000,\"adjClose\":44.918793},{\"timestamp\":1529884800000,\"adjClose\":44.250797},{\"timestamp\":1529971200000,\"adjClose\":44.79977},{\"timestamp\":1530057600000,\"adjClose\":44.734184},{\"timestamp\":1530144000000,\"adjClose\":45.059692},{\"timestamp\":1530230400000,\"adjClose\":44.964947},{\"timestamp\":1530489600000,\"adjClose\":45.467773},{\"timestamp\":1530576000000,\"adjClose\":44.675892},{\"timestamp\":1530748800000,\"adjClose\":45.035393},{\"timestamp\":1530835200000,\"adjClose\":45.659668},{\"timestamp\":1531094400000,\"adjClose\":46.293667},{\"timestamp\":1531180800000,\"adjClose\":46.237808},{\"timestamp\":1531267200000,\"adjClose\":45.63781},{\"timestamp\":1531353600000,\"adjClose\":46.402977},{\"timestamp\":1531440000000,\"adjClose\":46.475845},{\"timestamp\":1531699200000,\"adjClose\":46.373833},{\"timestamp\":1531785600000,\"adjClose\":46.504997},{\"timestamp\":1531872000000,\"adjClose\":46.249939},{\"timestamp\":1531958400000,\"adjClose\":46.609451},{\"timestamp\":1532044800000,\"adjClose\":46.502579},{\"timestamp\":1532304000000,\"adjClose\":46.543858},{\"timestamp\":1532390400000,\"adjClose\":46.881512},{\"timestamp\":1532476800000,\"adjClose\":47.323605},{\"timestamp\":1532563200000,\"adjClose\":47.17543},{\"timestamp\":1532649600000,\"adjClose\":46.390831},{\"timestamp\":1532908800000,\"adjClose\":46.130917},{\"timestamp\":1532995200000,\"adjClose\":46.223221},{\"timestamp\":1533081600000,\"adjClose\":48.946239},{\"timestamp\":1533168000000,\"adjClose\":50.376972},{\"timestamp\":1533254400000,\"adjClose\":50.522717},{\"timestamp\":1533513600000,\"adjClose\":50.785061},{\"timestamp\":1533600000000,\"adjClose\":50.308956},{\"timestamp\":1533686400000,\"adjClose\":50.342972},{\"timestamp\":1533772800000,\"adjClose\":50.738911},{\"timestamp\":1533859200000,\"adjClose\":50.587772},{\"timestamp\":1534118400000,\"adjClose\":50.91441},{\"timestamp\":1534204800000,\"adjClose\":51.128937},{\"timestamp\":1534291200000,\"adjClose\":51.248371},{\"timestamp\":1534377600000,\"adjClose\":51.999161},{\"timestamp\":1534464000000,\"adjClose\":53.037575},{\"timestamp\":1534723200000,\"adjClose\":52.520805},{\"timestamp\":1534809600000,\"adjClose\":52.418423},{\"timestamp\":1534896000000,\"adjClose\":52.420864},{\"timestamp\":1534982400000,\"adjClose\":52.528122},{\"timestamp\":1535068800000,\"adjClose\":52.691441},{\"timestamp\":1535328000000,\"adjClose\":53.125328},{\"timestamp\":1535414400000,\"adjClose\":53.554352},{\"timestamp\":1535500800000,\"adjClose\":54.353893},{\"timestamp\":1535587200000,\"adjClose\":54.8536},{\"timestamp\":1535673600000,\"adjClose\":55.487377},{\"timestamp\":1536019200000,\"adjClose\":55.665325},{\"timestamp\":1536105600000,\"adjClose\":55.302128},{\"timestamp\":1536192000000,\"adjClose\":54.383144},{\"timestamp\":1536278400000,\"adjClose\":53.944374},{\"timestamp\":1536537600000,\"adjClose\":53.220398},{\"timestamp\":1536624000000,\"adjClose\":54.565971},{\"timestamp\":1536710400000,\"adjClose\":53.888309},{\"timestamp\":1536796800000,\"adjClose\":55.189991},{\"timestamp\":1536883200000,\"adjClose\":54.563526},{\"timestamp\":1537142400000,\"adjClose\":53.11071},{\"timestamp\":1537228800000,\"adjClose\":53.198463},{\"timestamp\":1537315200000,\"adjClose\":53.230145},{\"timestamp\":1537401600000,\"adjClose\":53.6348},{\"timestamp\":1537488000000,\"adjClose\":53.057083},{\"timestamp\":1537747200000,\"adjClose\":53.820053},{\"timestamp\":1537833600000,\"adjClose\":54.16132},{\"timestamp\":1537920000000,\"adjClose\":53.729858},{\"timestamp\":1538006400000,\"adjClose\":54.834099},{\"timestamp\":1538092800000,\"adjClose\":55.026672},{\"timestamp\":1538352000000,\"adjClose\":55.397186},{\"timestamp\":1538438400000,\"adjClose\":55.889587},{\"timestamp\":1538524800000,\"adjClose\":56.569679},{\"timestamp\":1538611200000,\"adjClose\":55.575134},{\"timestamp\":1538697600000,\"adjClose\":54.673214},{\"timestamp\":1538956800000,\"adjClose\":54.546471},{\"timestamp\":1539043200000,\"adjClose\":55.302128},{\"timestamp\":1539129600000,\"adjClose\":52.740185},{\"timestamp\":1539216000000,\"adjClose\":52.274609},{\"timestamp\":1539302400000,\"adjClose\":54.141819},{\"timestamp\":1539561600000,\"adjClose\":52.983948},{\"timestamp\":1539648000000,\"adjClose\":54.151566},{\"timestamp\":1539734400000,\"adjClose\":53.917561},{\"timestamp\":1539820800000,\"adjClose\":52.657307},{\"timestamp\":1539907200000,\"adjClose\":53.459282},{\"timestamp\":1540166400000,\"adjClose\":53.785923},{\"timestamp\":1540252800000,\"adjClose\":54.29295},{\"timestamp\":1540339200000,\"adjClose\":52.430614},{\"timestamp\":1540425600000,\"adjClose\":53.578732},{\"timestamp\":1540512000000,\"adjClose\":52.725567},{\"timestamp\":1540771200000,\"adjClose\":51.735893},{\"timestamp\":1540857600000,\"adjClose\":51.994282},{\"timestamp\":1540944000000,\"adjClose\":53.349594},{\"timestamp\":1541030400000,\"adjClose\":54.168629},{\"timestamp\":1541116800000,\"adjClose\":50.575588},{\"timestamp\":1541376000000,\"adjClose\":49.139832},{\"timestamp\":1541462400000,\"adjClose\":49.671238},{\"timestamp\":1541548800000,\"adjClose\":51.177677},{\"timestamp\":1541635200000,\"adjClose\":50.999111},{\"timestamp\":1541721600000,\"adjClose\":50.01577},{\"timestamp\":1541980800000,\"adjClose\":47.496269},{\"timestamp\":1542067200000,\"adjClose\":47.021725},{\"timestamp\":1542153600000,\"adjClose\":45.693485},{\"timestamp\":1542240000000,\"adjClose\":46.821144},{\"timestamp\":1542326400000,\"adjClose\":47.339722},{\"timestamp\":1542585600000,\"adjClose\":45.463551},{\"timestamp\":1542672000000,\"adjClose\":43.291397},{\"timestamp\":1542758400000,\"adjClose\":43.242474},{\"timestamp\":1542931200000,\"adjClose\":42.144165},{\"timestamp\":1543190400000,\"adjClose\":42.714111},{\"timestamp\":1543276800000,\"adjClose\":42.621162},{\"timestamp\":1543363200000,\"adjClose\":44.260063},{\"timestamp\":1543449600000,\"adjClose\":43.920044},{\"timestamp\":1543536000000,\"adjClose\":43.682777},{\"timestamp\":1543795200000,\"adjClose\":45.209152},{\"timestamp\":1543881600000,\"adjClose\":43.220459},{\"timestamp\":1544054400000,\"adjClose\":42.738575},{\"timestamp\":1544140800000,\"adjClose\":41.214645},{\"timestamp\":1544400000000,\"adjClose\":41.486164},{\"timestamp\":1544486400000,\"adjClose\":41.24889},{\"timestamp\":1544572800000,\"adjClose\":41.363853},{\"timestamp\":1544659200000,\"adjClose\":41.816387},{\"timestamp\":1544745600000,\"adjClose\":40.478359},{\"timestamp\":1545004800000,\"adjClose\":40.101662},{\"timestamp\":1545091200000,\"adjClose\":40.622688},{\"timestamp\":1545177600000,\"adjClose\":39.355591},{\"timestamp\":1545264000000,\"adjClose\":38.362465},{\"timestamp\":1545350400000,\"adjClose\":36.870335},{\"timestamp\":1545609600000,\"adjClose\":35.916355},{\"timestamp\":1545782400000,\"adjClose\":38.445637},{\"timestamp\":1545868800000,\"adjClose\":38.196133},{\"timestamp\":1545955200000,\"adjClose\":38.215702},{\"timestamp\":1546214400000,\"adjClose\":38.585068},{\"timestamp\":1546387200000,\"adjClose\":38.629097},{\"timestamp\":1546473600000,\"adjClose\":34.781353},{\"timestamp\":1546560000000,\"adjClose\":36.266144},{\"timestamp\":1546819200000,\"adjClose\":36.185429},{\"timestamp\":1546905600000,\"adjClose\":36.875229},{\"timestamp\":1546992000000,\"adjClose\":37.501434},{\"timestamp\":1547078400000,\"adjClose\":37.6213},{\"timestamp\":1547164800000,\"adjClose\":37.25193},{\"timestamp\":1547424000000,\"adjClose\":36.691772},{\"timestamp\":1547510400000,\"adjClose\":37.442734},{\"timestamp\":1547596800000,\"adjClose\":37.900158},{\"timestamp\":1547683200000,\"adjClose\":38.125195},{\"timestamp\":1547769600000,\"adjClose\":38.360023},{\"timestamp\":1548115200000,\"adjClose\":37.498989},{\"timestamp\":1548201600000,\"adjClose\":37.65065},{\"timestamp\":1548288000000,\"adjClose\":37.352219},{\"timestamp\":1548374400000,\"adjClose\":38.589962},{\"timestamp\":1548633600000,\"adjClose\":38.232826},{\"timestamp\":1548720000000,\"adjClose\":37.836552},{\"timestamp\":1548806400000,\"adjClose\":40.422104},{\"timestamp\":1548892800000,\"adjClose\":40.713184},{\"timestamp\":1548979200000,\"adjClose\":40.732758},{\"timestamp\":1549238400000,\"adjClose\":41.889771},{\"timestamp\":1549324800000,\"adjClose\":42.606483},{\"timestamp\":1549411200000,\"adjClose\":42.621162},{\"timestamp\":1549497600000,\"adjClose\":41.813942},{\"timestamp\":1549584000000,\"adjClose\":41.863079},{\"timestamp\":1549843200000,\"adjClose\":41.622322},{\"timestamp\":1549929600000,\"adjClose\":41.980991},{\"timestamp\":1550016000000,\"adjClose\":41.806568},{\"timestamp\":1550102400000,\"adjClose\":41.958885},{\"timestamp\":1550188800000,\"adjClose\":41.865532},{\"timestamp\":1550534400000,\"adjClose\":41.990814},{\"timestamp\":1550620800000,\"adjClose\":42.261044},{\"timestamp\":1550707200000,\"adjClose\":42.022755},{\"timestamp\":1550793600000,\"adjClose\":42.491962},{\"timestamp\":1551052800000,\"adjClose\":42.801495},{\"timestamp\":1551139200000,\"adjClose\":42.826061},{\"timestamp\":1551225600000,\"adjClose\":42.958721},{\"timestamp\":1551312000000,\"adjClose\":42.536182},{\"timestamp\":1551398400000,\"adjClose\":42.98328},{\"timestamp\":1551657600000,\"adjClose\":43.199471},{\"timestamp\":1551744000000,\"adjClose\":43.120853},{\"timestamp\":1551830400000,\"adjClose\":42.872742},{\"timestamp\":1551916800000,\"adjClose\":42.376507},{\"timestamp\":1552003200000,\"adjClose\":42.477226},{\"timestamp\":1552262400000,\"adjClose\":43.94873},{\"timestamp\":1552348800000,\"adjClose\":44.442513},{\"timestamp\":1552435200000,\"adjClose\":44.639038},{\"timestamp\":1552521600000,\"adjClose\":45.135273},{\"timestamp\":1552608000000,\"adjClose\":45.722401},{\"timestamp\":1552867200000,\"adjClose\":46.189163},{\"timestamp\":1552953600000,\"adjClose\":45.823128},{\"timestamp\":1553040000000,\"adjClose\":46.223557},{\"timestamp\":1553126400000,\"adjClose\":47.92598},{\"timestamp\":1553212800000,\"adjClose\":46.933514},{\"timestamp\":1553472000000,\"adjClose\":46.366032},{\"timestamp\":1553558400000,\"adjClose\":45.886997},{\"timestamp\":1553644800000,\"adjClose\":46.299709},{\"timestamp\":1553731200000,\"adjClose\":46.361122},{\"timestamp\":1553817600000,\"adjClose\":46.663288},{\"timestamp\":1554076800000,\"adjClose\":46.980194},{\"timestamp\":1554163200000,\"adjClose\":47.663128},{\"timestamp\":1554249600000,\"adjClose\":47.989861},{\"timestamp\":1554336000000,\"adjClose\":48.073376},{\"timestamp\":1554422400000,\"adjClose\":48.395191},{\"timestamp\":1554681600000,\"adjClose\":49.156742},{\"timestamp\":1554768000000,\"adjClose\":49.009346},{\"timestamp\":1554854400000,\"adjClose\":49.284485},{\"timestamp\":1554940800000,\"adjClose\":48.874233},{\"timestamp\":1555027200000,\"adjClose\":48.85458},{\"timestamp\":1555286400000,\"adjClose\":48.943016},{\"timestamp\":1555372800000,\"adjClose\":48.947933},{\"timestamp\":1555459200000,\"adjClose\":49.901096},{\"timestamp\":1555545600000,\"adjClose\":50.080433},{\"timestamp\":1555891200000,\"adjClose\":50.245026},{\"timestamp\":1555977600000,\"adjClose\":50.969719},{\"timestamp\":1556064000000,\"adjClose\":50.891109},{\"timestamp\":1556150400000,\"adjClose\":50.429272},{\"timestamp\":1556236800000,\"adjClose\":50.188522},{\"timestamp\":1556496000000,\"adjClose\":50.264679},{\"timestamp\":1556582400000,\"adjClose\":49.296772},{\"timestamp\":1556668800000,\"adjClose\":51.716534},{\"timestamp\":1556755200000,\"adjClose\":51.379974},{\"timestamp\":1556841600000,\"adjClose\":52.018696},{\"timestamp\":1557100800000,\"adjClose\":51.215385},{\"timestamp\":1557187200000,\"adjClose\":49.834774},{\"timestamp\":1557273600000,\"adjClose\":49.844593},{\"timestamp\":1557360000000,\"adjClose\":49.309052},{\"timestamp\":1557446400000,\"adjClose\":48.625954},{\"timestamp\":1557705600000,\"adjClose\":45.799843},{\"timestamp\":1557792000000,\"adjClose\":46.524864},{\"timestamp\":1557878400000,\"adjClose\":47.082195},{\"timestamp\":1557964800000,\"adjClose\":46.87505},{\"timestamp\":1558051200000,\"adjClose\":46.608715},{\"timestamp\":1558310400000,\"adjClose\":45.151264},{\"timestamp\":1558396800000,\"adjClose\":46.016857},{\"timestamp\":1558483200000,\"adjClose\":45.074814},{\"timestamp\":1558569600000,\"adjClose\":44.305401},{\"timestamp\":1558656000000,\"adjClose\":44.135246},{\"timestamp\":1559001600000,\"adjClose\":43.952755},{\"timestamp\":1559088000000,\"adjClose\":43.743137},{\"timestamp\":1559174400000,\"adjClose\":43.97002},{\"timestamp\":1559260800000,\"adjClose\":43.173477},{\"timestamp\":1559520000000,\"adjClose\":42.736977},{\"timestamp\":1559606400000,\"adjClose\":44.300468},{\"timestamp\":1559692800000,\"adjClose\":45.015621},{\"timestamp\":1559779200000,\"adjClose\":45.676537},{\"timestamp\":1559865600000,\"adjClose\":46.892303},{\"timestamp\":1560124800000,\"adjClose\":47.491562},{\"timestamp\":1560211200000,\"adjClose\":48.041492},{\"timestamp\":1560297600000,\"adjClose\":47.888603},{\"timestamp\":1560384000000,\"adjClose\":47.878731},{\"timestamp\":1560470400000,\"adjClose\":47.531021},{\"timestamp\":1560729600000,\"adjClose\":47.814621},{\"timestamp\":1560816000000,\"adjClose\":48.939144},{\"timestamp\":1560902400000,\"adjClose\":48.796116},{\"timestamp\":1560988800000,\"adjClose\":49.188217},{\"timestamp\":1561075200000,\"adjClose\":49.020523},{\"timestamp\":1561334400000,\"adjClose\":48.971203},{\"timestamp\":1561420800000,\"adjClose\":48.22892},{\"timestamp\":1561507200000,\"adjClose\":49.272068},{\"timestamp\":1561593600000,\"adjClose\":49.257271},{\"timestamp\":1561680000000,\"adjClose\":48.808441},{\"timestamp\":1561939200000,\"adjClose\":49.703632},{\"timestamp\":1562025600000,\"adjClose\":49.994621},{\"timestamp\":1562112000000,\"adjClose\":50.40892},{\"timestamp\":1562284800000,\"adjClose\":50.364529},{\"timestamp\":1562544000000,\"adjClose\":49.326317},{\"timestamp\":1562630400000,\"adjClose\":49.627182},{\"timestamp\":1562716800000,\"adjClose\":50.117928},{\"timestamp\":1562803200000,\"adjClose\":49.752949},{\"timestamp\":1562889600000,\"adjClose\":50.135193},{\"timestamp\":1563148800000,\"adjClose\":50.606209},{\"timestamp\":1563235200000,\"adjClose\":50.431118},{\"timestamp\":1563321600000,\"adjClose\":50.147518},{\"timestamp\":1563408000000,\"adjClose\":50.717182},{\"timestamp\":1563494400000,\"adjClose\":49.960094},{\"timestamp\":1563753600000,\"adjClose\":51.101891},{\"timestamp\":1563840000000,\"adjClose\":51.501389},{\"timestamp\":1563926400000,\"adjClose\":51.459473},{\"timestamp\":1564012800000,\"adjClose\":51.05257},{\"timestamp\":1564099200000,\"adjClose\":51.230125},{\"timestamp\":1564358400000,\"adjClose\":51.708538},{\"timestamp\":1564444800000,\"adjClose\":51.486591},{\"timestamp\":1564531200000,\"adjClose\":52.53714},{\"timestamp\":1564617600000,\"adjClose\":51.40028},{\"timestamp\":1564704000000,\"adjClose\":50.312748},{\"timestamp\":1564963200000,\"adjClose\":47.678982},{\"timestamp\":1565049600000,\"adjClose\":48.581562},{\"timestamp\":1565136000000,\"adjClose\":49.084641},{\"timestamp\":1565222400000,\"adjClose\":50.167248},{\"timestamp\":1565308800000,\"adjClose\":49.753849},{\"timestamp\":1565568000000,\"adjClose\":49.627602},{\"timestamp\":1565654400000,\"adjClose\":51.729252},{\"timestamp\":1565740800000,\"adjClose\":50.189526},{\"timestamp\":1565827200000,\"adjClose\":49.939507},{\"timestamp\":1565913600000,\"adjClose\":51.117813},{\"timestamp\":1566172800000,\"adjClose\":52.070862},{\"timestamp\":1566259200000,\"adjClose\":52.073338},{\"timestamp\":1566345600000,\"adjClose\":52.637737},{\"timestamp\":1566432000000,\"adjClose\":52.593182},{\"timestamp\":1566518400000,\"adjClose\":50.1623},{\"timestamp\":1566777600000,\"adjClose\":51.115337},{\"timestamp\":1566864000000,\"adjClose\":50.538563},{\"timestamp\":1566950400000,\"adjClose\":50.877701},{\"timestamp\":1567036800000,\"adjClose\":51.739151},{\"timestamp\":1567123200000,\"adjClose\":51.672314},{\"timestamp\":1567468800000,\"adjClose\":50.919777},{\"timestamp\":1567555200000,\"adjClose\":51.783714},{\"timestamp\":1567641600000,\"adjClose\":52.796162},{\"timestamp\":1567728000000,\"adjClose\":52.79121},{\"timestamp\":1567987200000,\"adjClose\":53.016479},{\"timestamp\":1568073600000,\"adjClose\":53.642761},{\"timestamp\":1568160000000,\"adjClose\":55.348343},{\"timestamp\":1568246400000,\"adjClose\":55.224567},{\"timestamp\":1568332800000,\"adjClose\":54.15023},{\"timestamp\":1568592000000,\"adjClose\":54.434902},{\"timestamp\":1568678400000,\"adjClose\":54.632942},{\"timestamp\":1568764800000,\"adjClose\":55.145359},{\"timestamp\":1568851200000,\"adjClose\":54.697304},{\"timestamp\":1568937600000,\"adjClose\":53.897728},{\"timestamp\":1569196800000,\"adjClose\":54.142803},{\"timestamp\":1569283200000,\"adjClose\":53.885353},{\"timestamp\":1569369600000,\"adjClose\":54.714626},{\"timestamp\":1569456000000,\"adjClose\":54.43243},{\"timestamp\":1569542400000,\"adjClose\":54.167561},{\"timestamp\":1569801600000,\"adjClose\":55.442406},{\"timestamp\":1569888000000,\"adjClose\":55.595886},{\"timestamp\":1569974400000,\"adjClose\":54.202213},{\"timestamp\":1570060800000,\"adjClose\":54.662643},{\"timestamp\":1570147200000,\"adjClose\":56.194942},{\"timestamp\":1570406400000,\"adjClose\":56.207317},{\"timestamp\":1570492800000,\"adjClose\":55.548851},{\"timestamp\":1570579200000,\"adjClose\":56.199894},{\"timestamp\":1570665600000,\"adjClose\":56.957375},{\"timestamp\":1570752000000,\"adjClose\":58.472343},{\"timestamp\":1571011200000,\"adjClose\":58.38818},{\"timestamp\":1571097600000,\"adjClose\":58.252033},{\"timestamp\":1571184000000,\"adjClose\":58.016861},{\"timestamp\":1571270400000,\"adjClose\":58.24213},{\"timestamp\":1571356800000,\"adjClose\":58.521858},{\"timestamp\":1571616000000,\"adjClose\":59.536781},{\"timestamp\":1571702400000,\"adjClose\":59.400635},{\"timestamp\":1571788800000,\"adjClose\":60.197727},{\"timestamp\":1571875200000,\"adjClose\":60.296741},{\"timestamp\":1571961600000,\"adjClose\":61.039375},{\"timestamp\":1572220800000,\"adjClose\":61.65081},{\"timestamp\":1572307200000,\"adjClose\":60.224953},{\"timestamp\":1572393600000,\"adjClose\":60.217525},{\"timestamp\":1572480000000,\"adjClose\":61.579021},{\"timestamp\":1572566400000,\"adjClose\":63.326683},{\"timestamp\":1572825600000,\"adjClose\":63.742554},{\"timestamp\":1572912000000,\"adjClose\":63.65097},{\"timestamp\":1572998400000,\"adjClose\":63.678192},{\"timestamp\":1573084800000,\"adjClose\":64.413116},{\"timestamp\":1573171200000,\"adjClose\":64.589409},{\"timestamp\":1573430400000,\"adjClose\":65.100876},{\"timestamp\":1573516800000,\"adjClose\":65.041283},{\"timestamp\":1573603200000,\"adjClose\":65.66449},{\"timestamp\":1573689600000,\"adjClose\":65.210121},{\"timestamp\":1573776000000,\"adjClose\":65.984779},{\"timestamp\":1574035200000,\"adjClose\":66.31749},{\"timestamp\":1574121600000,\"adjClose\":66.116371},{\"timestamp\":1574208000000,\"adjClose\":65.346687},{\"timestamp\":1574294400000,\"adjClose\":65.053703},{\"timestamp\":1574380800000,\"adjClose\":64.996597},{\"timestamp\":1574640000000,\"adjClose\":66.13623},{\"timestamp\":1574726400000,\"adjClose\":65.619789},{\"timestamp\":1574812800000,\"adjClose\":66.501213},{\"timestamp\":1574985600000,\"adjClose\":66.354729},{\"timestamp\":1575244800000,\"adjClose\":65.587517},{\"timestamp\":1575331200000,\"adjClose\":64.418091},{\"timestamp\":1575417600000,\"adjClose\":64.986664},{\"timestamp\":1575504000000,\"adjClose\":65.940086},{\"timestamp\":1575590400000,\"adjClose\":67.213799},{\"timestamp\":1575849600000,\"adjClose\":66.272789},{\"timestamp\":1575936000000,\"adjClose\":66.660126},{\"timestamp\":1576022400000,\"adjClose\":67.228699},{\"timestamp\":1576108800000,\"adjClose\":67.400017},{\"timestamp\":1576195200000,\"adjClose\":68.316193},{\"timestamp\":1576454400000,\"adjClose\":69.485619},{\"timestamp\":1576540800000,\"adjClose\":69.622192},{\"timestamp\":1576627200000,\"adjClose\":69.455833},{\"timestamp\":1576713600000,\"adjClose\":69.525352},{\"timestamp\":1576800000000,\"adjClose\":69.381348},{\"timestamp\":1577059200000,\"adjClose\":70.513535},{\"timestamp\":1577145600000,\"adjClose\":70.580566},{\"timestamp\":1577318400000,\"adjClose\":71.980911},{\"timestamp\":1577404800000,\"adjClose\":71.953598},{\"timestamp\":1577664000000,\"adjClose\":72.380653},{\"timestamp\":1577750400000,\"adjClose\":72.9095},{\"timestamp\":1577923200000,\"adjClose\":74.573036},{\"timestamp\":1578009600000,\"adjClose\":73.84803},{\"timestamp\":1578268800000,\"adjClose\":74.43647},{\"timestamp\":1578355200000,\"adjClose\":74.086395},{\"timestamp\":1578441600000,\"adjClose\":75.27816},{\"timestamp\":1578528000000,\"adjClose\":76.877136},{\"timestamp\":1578614400000,\"adjClose\":77.050926},{\"timestamp\":1578873600000,\"adjClose\":78.697075},{\"timestamp\":1578960000000,\"adjClose\":77.634407},{\"timestamp\":1579046400000,\"adjClose\":77.301704},{\"timestamp\":1579132800000,\"adjClose\":78.27002},{\"timestamp\":1579219200000,\"adjClose\":79.136551},{\"timestamp\":1579564800000,\"adjClose\":78.60025},{\"timestamp\":1579651200000,\"adjClose\":78.880821},{\"timestamp\":1579737600000,\"adjClose\":79.260696},{\"timestamp\":1579824000000,\"adjClose\":79.032265},{\"timestamp\":1580083200000,\"adjClose\":76.708298},{\"timestamp\":1580169600000,\"adjClose\":78.878326},{\"timestamp\":1580256000000,\"adjClose\":80.529434},{\"timestamp\":1580342400000,\"adjClose\":80.412743},{\"timestamp\":1580428800000,\"adjClose\":76.847343},{\"timestamp\":1580688000000,\"adjClose\":76.636299},{\"timestamp\":1580774400000,\"adjClose\":79.166336},{\"timestamp\":1580860800000,\"adjClose\":79.811897},{\"timestamp\":1580947200000,\"adjClose\":80.745445},{\"timestamp\":1581033600000,\"adjClose\":79.647896},{\"timestamp\":1581292800000,\"adjClose\":80.026192},{\"timestamp\":1581379200000,\"adjClose\":79.543365},{\"timestamp\":1581465600000,\"adjClose\":81.43235},{\"timestamp\":1581552000000,\"adjClose\":80.852463},{\"timestamp\":1581638400000,\"adjClose\":80.872375},{\"timestamp\":1581984000000,\"adjClose\":79.391556},{\"timestamp\":1582070400000,\"adjClose\":80.541367},{\"timestamp\":1582156800000,\"adjClose\":79.715088},{\"timestamp\":1582243200000,\"adjClose\":77.910744},{\"timestamp\":1582502400000,\"adjClose\":74.209946},{\"timestamp\":1582588800000,\"adjClose\":71.696297},{\"timestamp\":1582675200000,\"adjClose\":72.833664},{\"timestamp\":1582761600000,\"adjClose\":68.072662},{\"timestamp\":1582848000000,\"adjClose\":68.032837},{\"timestamp\":1583107200000,\"adjClose\":74.366737},{\"timestamp\":1583193600000,\"adjClose\":72.004913},{\"timestamp\":1583280000000,\"adjClose\":75.344826},{\"timestamp\":1583366400000,\"adjClose\":72.900864},{\"timestamp\":1583452800000,\"adjClose\":71.932739},{\"timestamp\":1583712000000,\"adjClose\":66.243423},{\"timestamp\":1583798400000,\"adjClose\":71.014381},{\"timestamp\":1583884800000,\"adjClose\":68.548012},{\"timestamp\":1583971200000,\"adjClose\":61.77858},{\"timestamp\":1584057600000,\"adjClose\":69.180161},{\"timestamp\":1584316800000,\"adjClose\":60.280346},{\"timestamp\":1584403200000,\"adjClose\":62.930878},{\"timestamp\":1584489600000,\"adjClose\":61.390331},{\"timestamp\":1584576000000,\"adjClose\":60.919952},{\"timestamp\":1584662400000,\"adjClose\":57.052418},{\"timestamp\":1584921600000,\"adjClose\":55.840385},{\"timestamp\":1585008000000,\"adjClose\":61.442596},{\"timestamp\":1585094400000,\"adjClose\":61.104122},{\"timestamp\":1585180800000,\"adjClose\":64.319611},{\"timestamp\":1585267200000,\"adjClose\":61.656628},{\"timestamp\":1585526400000,\"adjClose\":63.416183},{\"timestamp\":1585612800000,\"adjClose\":63.28677},{\"timestamp\":1585699200000,\"adjClose\":59.956806},{\"timestamp\":1585785600000,\"adjClose\":60.957287},{\"timestamp\":1585872000000,\"adjClose\":60.081242},{\"timestamp\":1586131200000,\"adjClose\":65.322578},{\"timestamp\":1586217600000,\"adjClose\":64.565994},{\"timestamp\":1586304000000,\"adjClose\":66.218536},{\"timestamp\":1586390400000,\"adjClose\":66.696373},{\"timestamp\":1586736000000,\"adjClose\":68.00547},{\"timestamp\":1586822400000,\"adjClose\":71.439957},{\"timestamp\":1586908800000,\"adjClose\":70.787903},{\"timestamp\":1586995200000,\"adjClose\":71.350365},{\"timestamp\":1587081600000,\"adjClose\":70.382233},{\"timestamp\":1587340800000,\"adjClose\":68.921326},{\"timestamp\":1587427200000,\"adjClose\":66.790947},{\"timestamp\":1587513600000,\"adjClose\":68.71476},{\"timestamp\":1587600000000,\"adjClose\":68.448463},{\"timestamp\":1587686400000,\"adjClose\":70.424545},{\"timestamp\":1587945600000,\"adjClose\":70.474319},{\"timestamp\":1588032000000,\"adjClose\":69.33197},{\"timestamp\":1588118400000,\"adjClose\":71.6092},{\"timestamp\":1588204800000,\"adjClose\":73.119873},{\"timestamp\":1588291200000,\"adjClose\":71.942688},{\"timestamp\":1588550400000,\"adjClose\":72.960594},{\"timestamp\":1588636800000,\"adjClose\":74.055649},{\"timestamp\":1588723200000,\"adjClose\":74.819695},{\"timestamp\":1588809600000,\"adjClose\":75.593697},{\"timestamp\":1588896000000,\"adjClose\":77.39296},{\"timestamp\":1589155200000,\"adjClose\":78.610764},{\"timestamp\":1589241600000,\"adjClose\":77.712387},{\"timestamp\":1589328000000,\"adjClose\":76.774071},{\"timestamp\":1589414400000,\"adjClose\":77.245728},{\"timestamp\":1589500800000,\"adjClose\":76.789047},{\"timestamp\":1589760000000,\"adjClose\":78.598282},{\"timestamp\":1589846400000,\"adjClose\":78.144112},{\"timestamp\":1589932800000,\"adjClose\":79.663872},{\"timestamp\":1590019200000,\"adjClose\":79.069939},{\"timestamp\":1590105600000,\"adjClose\":79.579025},{\"timestamp\":1590451200000,\"adjClose\":79.039993},{\"timestamp\":1590537600000,\"adjClose\":79.384369},{\"timestamp\":1590624000000,\"adjClose\":79.419304},{\"timestamp\":1590710400000,\"adjClose\":79.341949},{\"timestamp\":1590969600000,\"adjClose\":80.317688},{\"timestamp\":1591056000000,\"adjClose\":80.689514},{\"timestamp\":1591142400000,\"adjClose\":81.133713},{\"timestamp\":1591228800000,\"adjClose\":80.434975},{\"timestamp\":1591315200000,\"adjClose\":82.725845},{\"timestamp\":1591574400000,\"adjClose\":83.214958},{\"timestamp\":1591660800000,\"adjClose\":85.84272},{\"timestamp\":1591747200000,\"adjClose\":88.051239},{\"timestamp\":1591833600000,\"adjClose\":83.82386},{\"timestamp\":1591920000000,\"adjClose\":84.547554},{\"timestamp\":1592179200000,\"adjClose\":85.59317},{\"timestamp\":1592265600000,\"adjClose\":87.86158},{\"timestamp\":1592352000000,\"adjClose\":87.739304},{\"timestamp\":1592438400000,\"adjClose\":87.774246},{\"timestamp\":1592524800000,\"adjClose\":87.272644},{\"timestamp\":1592784000000,\"adjClose\":89.55603},{\"timestamp\":1592870400000,\"adjClose\":91.467583},{\"timestamp\":1592956800000,\"adjClose\":89.852997},{\"timestamp\":1593043200000,\"adjClose\":91.045845},{\"timestamp\":1593129600000,\"adjClose\":88.24839},{\"timestamp\":1593388800000,\"adjClose\":90.282219},{\"timestamp\":1593475200000,\"adjClose\":91.035858},{\"timestamp\":1593561600000,\"adjClose\":90.86367},{\"timestamp\":1593648000000,\"adjClose\":90.86367},{\"timestamp\":1593993600000,\"adjClose\":93.294289},{\"timestamp\":1594080000000,\"adjClose\":93.004814},{\"timestamp\":1594166400000,\"adjClose\":95.170906},{\"timestamp\":1594252800000,\"adjClose\":95.58017},{\"timestamp\":1594339200000,\"adjClose\":95.747368},{\"timestamp\":1594598400000,\"adjClose\":95.305664},{\"timestamp\":1594684800000,\"adjClose\":96.88282},{\"timestamp\":1594771200000,\"adjClose\":97.549118},{\"timestamp\":1594857600000,\"adjClose\":96.348778},{\"timestamp\":1594944000000,\"adjClose\":96.154129},{\"timestamp\":1595203200000,\"adjClose\":98.180481},{\"timestamp\":1595289600000,\"adjClose\":96.825424},{\"timestamp\":1595376000000,\"adjClose\":97.097435},{\"timestamp\":1595462400000,\"adjClose\":92.677902},{\"timestamp\":1595548800000,\"adjClose\":92.448311},{\"timestamp\":1595808000000,\"adjClose\":94.639359},{\"timestamp\":1595894400000,\"adjClose\":93.084671},{\"timestamp\":1595980800000,\"adjClose\":94.86895},{\"timestamp\":1596067200000,\"adjClose\":96.016884},{\"timestamp\":1596153600000,\"adjClose\":106.068756},{\"timestamp\":1596412800000,\"adjClose\":108.74144},{\"timestamp\":1596499200000,\"adjClose\":109.467628},{\"timestamp\":1596585600000,\"adjClose\":109.86441},{\"timestamp\":1596672000000,\"adjClose\":113.697502},{\"timestamp\":1596758400000,\"adjClose\":111.112503},{\"timestamp\":1597017600000,\"adjClose\":112.727501},{\"timestamp\":1597104000000,\"adjClose\":109.375},{\"timestamp\":1597190400000,\"adjClose\":113.010002},{\"timestamp\":1597276800000,\"adjClose\":115.010002},{\"timestamp\":1597363200000,\"adjClose\":114.907501},{\"timestamp\":1597622400000,\"adjClose\":114.607498},{\"timestamp\":1597708800000,\"adjClose\":115.5625},{\"timestamp\":1597795200000,\"adjClose\":115.707497},{\"timestamp\":1597881600000,\"adjClose\":118.275002},{\"timestamp\":1597968000000,\"adjClose\":124.370003},{\"timestamp\":1598227200000,\"adjClose\":125.857498},{\"timestamp\":1598313600000,\"adjClose\":124.824997},{\"timestamp\":1598400000000,\"adjClose\":126.522499},{\"timestamp\":1598486400000,\"adjClose\":125.010002},{\"timestamp\":1598572800000,\"adjClose\":124.807503},{\"timestamp\":1598832000000,\"adjClose\":129.039993},{\"timestamp\":1598918400000,\"adjClose\":134.179993},{\"timestamp\":1599004800000,\"adjClose\":131.399994},{\"timestamp\":1599091200000,\"adjClose\":120.879997},{\"timestamp\":1599177600000,\"adjClose\":120.959999},{\"timestamp\":1599523200000,\"adjClose\":112.82},{\"timestamp\":1599609600000,\"adjClose\":117.32},{\"timestamp\":1599696000000,\"adjClose\":113.489998},{\"timestamp\":1599782400000,\"adjClose\":112.0},{\"timestamp\":1600041600000,\"adjClose\":115.355003}]'"
      ]
     },
     "execution_count": 373,
     "metadata": {},
     "output_type": "execute_result"
    }
   ],
   "source": [
    "price_json = market_cap_df[['timestamp','adjClose']].to_json(orient=\"records\")"
   ]
  },
  {
   "cell_type": "code",
   "execution_count": 377,
   "metadata": {
    "ExecuteTime": {
     "end_time": "2020-12-25T14:44:41.147518Z",
     "start_time": "2020-12-25T14:44:41.140519Z"
    }
   },
   "outputs": [
    {
     "data": {
      "text/plain": [
       "1019865600"
      ]
     },
     "execution_count": 377,
     "metadata": {},
     "output_type": "execute_result"
    }
   ],
   "source": [
    "first_day // 10 ** 9"
   ]
  },
  {
   "cell_type": "code",
   "execution_count": 378,
   "metadata": {
    "ExecuteTime": {
     "end_time": "2020-12-25T14:44:58.382814Z",
     "start_time": "2020-12-25T14:44:58.364296Z"
    }
   },
   "outputs": [
    {
     "data": {
      "text/plain": [
       "765158400"
      ]
     },
     "execution_count": 378,
     "metadata": {},
     "output_type": "execute_result"
    }
   ],
   "source": [
    "765158400000 // 10 ** 3"
   ]
  },
  {
   "cell_type": "code",
   "execution_count": 376,
   "metadata": {
    "ExecuteTime": {
     "end_time": "2020-12-25T14:44:21.811953Z",
     "start_time": "2020-12-25T14:44:21.791296Z"
    }
   },
   "outputs": [
    {
     "ename": "OSError",
     "evalue": "[Errno 22] Invalid argument",
     "output_type": "error",
     "traceback": [
      "\u001b[1;31m---------------------------------------------------------------------------\u001b[0m",
      "\u001b[1;31mOSError\u001b[0m                                   Traceback (most recent call last)",
      "\u001b[1;32m<ipython-input-376-17d0902a87a0>\u001b[0m in \u001b[0;36m<module>\u001b[1;34m\u001b[0m\n\u001b[1;32m----> 1\u001b[1;33m \u001b[0mdatetime\u001b[0m\u001b[1;33m.\u001b[0m\u001b[0mutcfromtimestamp\u001b[0m\u001b[1;33m(\u001b[0m\u001b[0mint\u001b[0m\u001b[1;33m(\u001b[0m\u001b[1;36m765158400000\u001b[0m\u001b[1;33m)\u001b[0m\u001b[1;33m)\u001b[0m\u001b[1;33m.\u001b[0m\u001b[0mstrftime\u001b[0m\u001b[1;33m(\u001b[0m\u001b[1;34m'%Y-%m-%d'\u001b[0m\u001b[1;33m)\u001b[0m\u001b[1;33m\u001b[0m\u001b[1;33m\u001b[0m\u001b[0m\n\u001b[0m",
      "\u001b[1;31mOSError\u001b[0m: [Errno 22] Invalid argument"
     ]
    }
   ],
   "source": [
    "\n",
    "datetime.utcfromtimestamp(int(first_day // 10 ** 9)).strftime('%Y-%m-%d')"
   ]
  },
  {
   "cell_type": "code",
   "execution_count": 361,
   "metadata": {
    "ExecuteTime": {
     "end_time": "2020-12-25T14:30:18.116528Z",
     "start_time": "2020-12-25T14:30:18.105530Z"
    },
    "run_control": {
     "marked": true
    }
   },
   "outputs": [
    {
     "data": {
      "text/plain": [
       "'https://financialmodelingprep.com/api/v3/historical-price-full/AAPL?from=2002-04-27&to=2020-12-25&apikey=4b5cd112b74ca86811fd1ccddd4ad9c1'"
      ]
     },
     "execution_count": 361,
     "metadata": {},
     "output_type": "execute_result"
    }
   ],
   "source": [
    "\"https://financialmodelingprep.com/api/v3/historical-price-full/AAPL?from={}&to={}&apikey=4b5cd112b74ca86811fd1ccddd4ad9c1\".format(first_date,today)"
   ]
  },
  {
   "cell_type": "code",
   "execution_count": 368,
   "metadata": {
    "ExecuteTime": {
     "end_time": "2020-12-25T14:36:16.424780Z",
     "start_time": "2020-12-25T14:36:16.411780Z"
    }
   },
   "outputs": [
    {
     "data": {
      "text/plain": [
       "'2002-04-27'"
      ]
     },
     "execution_count": 368,
     "metadata": {},
     "output_type": "execute_result"
    }
   ],
   "source": [
    "first_date"
   ]
  },
  {
   "cell_type": "code",
   "execution_count": 366,
   "metadata": {
    "ExecuteTime": {
     "end_time": "2020-12-25T14:33:02.771843Z",
     "start_time": "2020-12-25T14:33:02.758309Z"
    }
   },
   "outputs": [
    {
     "data": {
      "text/plain": [
       "1020038400000000000"
      ]
     },
     "execution_count": 366,
     "metadata": {},
     "output_type": "execute_result"
    }
   ],
   "source": [
    "1601078400000\n",
    "765158400000\n",
    "1020038400000000000"
   ]
  },
  {
   "cell_type": "code",
   "execution_count": 325,
   "metadata": {
    "ExecuteTime": {
     "end_time": "2020-12-25T14:04:00.073104Z",
     "start_time": "2020-12-25T14:04:00.054086Z"
    }
   },
   "outputs": [],
   "source": [
    "market_cap_df_first_day = (pd.to_datetime(market_cap_df.datetime).values.astype(np.int64))[-1]"
   ]
  },
  {
   "cell_type": "code",
   "execution_count": 108,
   "metadata": {
    "ExecuteTime": {
     "end_time": "2020-12-20T20:03:35.323410Z",
     "start_time": "2020-12-20T20:03:35.311898Z"
    }
   },
   "outputs": [],
   "source": [
    "# fin_df_list[1][\"period\"]+\"-\"+fin_df_list[1][\"date\"].apply(lambda x: x[0:4])#[\"QQ-YYYY\"]"
   ]
  },
  {
   "cell_type": "code",
   "execution_count": 520,
   "metadata": {
    "ExecuteTime": {
     "end_time": "2020-12-25T19:55:32.206723Z",
     "start_time": "2020-12-25T19:55:32.073729Z"
    },
    "code_folding": [],
    "run_control": {
     "marked": true
    }
   },
   "outputs": [],
   "source": [
    "fin_dir = [\"Income Statement\",\"Balance Sheet\",\"Cash Flow Statement\"]\n",
    "# url_symbol = \"TSLA\"\n",
    "url_symbol = \"AAPL\"\n",
    "\n",
    "fin_df_list = []\n",
    "for x in fin_dir:\n",
    "    fin_file = glob.glob(\"../Charts_TenDollarData/financial_statements/data/Historical Financial Statements/*/quarter/{}/*~{}~*\".format(x, url_symbol.upper()))[-1]\n",
    "    fin_df = pd.read_csv(fin_file)\n",
    "    fin_df[\"Year\"] = fin_df[\"date\"].apply(lambda x: x[0:4])\n",
    "    fin_df[\"QQ-YYYY\"] = fin_df[\"period\"]+\"-\"+fin_df[\"date\"].apply(lambda x: x[0:4])#[\"QQ-YYYY\"]\n",
    "    fin_df_list.append(fin_df)\n",
    "# df = pd.concat(fin_df_list,ignore_index=True)#,axis = 1)\n",
    "# df = pd.concat(fin_df_list, join='outer', axis=1)#.fillna(nan_value)\n",
    "\n",
    "# df = pd.concat(fin_df_list,ignore_index=True)\n",
    "df_merge_is_bs = pd.merge(fin_df_list[0],fin_df_list[1],how=\"inner\", on=\"QQ-YYYY\")\n",
    "# df\n",
    "# df_merge cols\n",
    "df_merge = pd.merge(df_merge_is_bs,fin_df_list[2],how=\"inner\", on=\"QQ-YYYY\")\n",
    "df_merge = df_merge[fin_statement_raw_names]\n",
    "\n",
    "df_merge.columns = fin_statement_renamed_cols\n",
    "df = df_merge\n",
    "\n",
    "df['ffo_math']=df['net_income'] + df['d_n_a'] + df['sales_maturities_of_investments'] + df['purchase_of_investments'] + df['investments_in_pp_n_e'] + df['acquisitions_net']\n",
    "df['book_value_math']=df['total_assets'].dropna()-df['total_liabilities'].dropna()\n",
    "df['ebit_math']=df['ebitda_non'] - df['d_n_a']\n",
    "df['working_capital_math']= df['total_current_assets'] - df['total_current_liabilities']\n",
    "\n",
    "df['quick_assets_math']=df['cash_non']+df['short_term_investments']+df['accounts_receivable']\n",
    "df['quick_ratio_math']=df['total_current_assets'] - df['inventory']\n",
    "# df['other_current_assets'] * df['total_current_assets']\n",
    "# df['g_n_a']+df['s_n_m']"
   ]
  },
  {
   "cell_type": "code",
   "execution_count": 527,
   "metadata": {
    "ExecuteTime": {
     "end_time": "2020-12-25T19:59:15.656832Z",
     "start_time": "2020-12-25T19:59:15.636833Z"
    }
   },
   "outputs": [
    {
     "data": {
      "text/html": [
       "<div>\n",
       "<style scoped>\n",
       "    .dataframe tbody tr th:only-of-type {\n",
       "        vertical-align: middle;\n",
       "    }\n",
       "\n",
       "    .dataframe tbody tr th {\n",
       "        vertical-align: top;\n",
       "    }\n",
       "\n",
       "    .dataframe thead th {\n",
       "        text-align: right;\n",
       "    }\n",
       "</style>\n",
       "<table border=\"1\" class=\"dataframe\">\n",
       "  <thead>\n",
       "    <tr style=\"text-align: right;\">\n",
       "      <th></th>\n",
       "      <th>quick_ratio_math</th>\n",
       "      <th>date</th>\n",
       "    </tr>\n",
       "  </thead>\n",
       "  <tbody>\n",
       "    <tr>\n",
       "      <th>0</th>\n",
       "      <td>1.396520e+11</td>\n",
       "      <td>2020-09-26</td>\n",
       "    </tr>\n",
       "    <tr>\n",
       "      <th>1</th>\n",
       "      <td>1.360870e+11</td>\n",
       "      <td>2020-06-27</td>\n",
       "    </tr>\n",
       "    <tr>\n",
       "      <th>2</th>\n",
       "      <td>1.404190e+11</td>\n",
       "      <td>2020-03-28</td>\n",
       "    </tr>\n",
       "    <tr>\n",
       "      <th>3</th>\n",
       "      <td>1.591340e+11</td>\n",
       "      <td>2019-12-28</td>\n",
       "    </tr>\n",
       "    <tr>\n",
       "      <th>4</th>\n",
       "      <td>1.587130e+11</td>\n",
       "      <td>2019-09-28</td>\n",
       "    </tr>\n",
       "    <tr>\n",
       "      <th>...</th>\n",
       "      <td>...</td>\n",
       "      <td>...</td>\n",
       "    </tr>\n",
       "    <tr>\n",
       "      <th>108</th>\n",
       "      <td>4.177000e+09</td>\n",
       "      <td>1995-03-31</td>\n",
       "    </tr>\n",
       "    <tr>\n",
       "      <th>109</th>\n",
       "      <td>3.634000e+09</td>\n",
       "      <td>1994-12-30</td>\n",
       "    </tr>\n",
       "    <tr>\n",
       "      <th>110</th>\n",
       "      <td>3.388018e+09</td>\n",
       "      <td>1994-09-30</td>\n",
       "    </tr>\n",
       "    <tr>\n",
       "      <th>111</th>\n",
       "      <td>3.063000e+09</td>\n",
       "      <td>1994-07-01</td>\n",
       "    </tr>\n",
       "    <tr>\n",
       "      <th>112</th>\n",
       "      <td>3.135000e+09</td>\n",
       "      <td>1994-04-01</td>\n",
       "    </tr>\n",
       "  </tbody>\n",
       "</table>\n",
       "<p>107 rows × 2 columns</p>\n",
       "</div>"
      ],
      "text/plain": [
       "     quick_ratio_math        date\n",
       "0        1.396520e+11  2020-09-26\n",
       "1        1.360870e+11  2020-06-27\n",
       "2        1.404190e+11  2020-03-28\n",
       "3        1.591340e+11  2019-12-28\n",
       "4        1.587130e+11  2019-09-28\n",
       "..                ...         ...\n",
       "108      4.177000e+09  1995-03-31\n",
       "109      3.634000e+09  1994-12-30\n",
       "110      3.388018e+09  1994-09-30\n",
       "111      3.063000e+09  1994-07-01\n",
       "112      3.135000e+09  1994-04-01\n",
       "\n",
       "[107 rows x 2 columns]"
      ]
     },
     "execution_count": 527,
     "metadata": {},
     "output_type": "execute_result"
    }
   ],
   "source": [
    "df"
   ]
  },
  {
   "cell_type": "code",
   "execution_count": 526,
   "metadata": {
    "ExecuteTime": {
     "end_time": "2020-12-25T19:59:12.623605Z",
     "start_time": "2020-12-25T19:59:12.616859Z"
    }
   },
   "outputs": [],
   "source": [
    "df = df[['quick_ratio_math','date']].drop_duplicates(subset=['date'])"
   ]
  },
  {
   "cell_type": "code",
   "execution_count": 25,
   "metadata": {
    "ExecuteTime": {
     "end_time": "2020-12-18T09:38:32.755626Z",
     "start_time": "2020-12-18T09:38:32.737632Z"
    },
    "code_folding": [
     0
    ],
    "run_control": {
     "marked": false
    }
   },
   "outputs": [],
   "source": [
    "# wtf red dot\n",
    "# perc​entage_of_debt_to_asset_formula = lambda perc​entage_of_debt_to_asset_formula: ((total_non_current_liabilities)/(total_assets))\n",
    "# rece​ivables_turnover = lambda rece​ivables_turnover: ((net_revenue)/(accounts_receivable))"
   ]
  },
  {
   "cell_type": "code",
   "execution_count": 346,
   "metadata": {
    "ExecuteTime": {
     "end_time": "2020-12-25T14:19:21.023101Z",
     "start_time": "2020-12-25T14:19:21.011102Z"
    }
   },
   "outputs": [
    {
     "data": {
      "text/plain": [
       "'2020-12-25'"
      ]
     },
     "execution_count": 346,
     "metadata": {},
     "output_type": "execute_result"
    }
   ],
   "source": [
    "today = datetime.today().strftime('%Y-%m-%d')"
   ]
  },
  {
   "cell_type": "code",
   "execution_count": 26,
   "metadata": {
    "ExecuteTime": {
     "end_time": "2020-12-18T09:38:33.189713Z",
     "start_time": "2020-12-18T09:38:33.177715Z"
    },
    "code_folding": [
     0
    ],
    "run_control": {
     "marked": false
    }
   },
   "outputs": [],
   "source": [
    "# # hide lambda\n",
    "# net_working_capital_ratio = lambda net_working_capital_ratio: (df['working_capital_math']/df['total_assets'])\n",
    "# book_value_per_share = lambda book_value_per_share: (df['total_se']/df['shares_outstanding_non'])\n",
    "# total_equity_to_total_assets = lambda total_equity_to_total_assets: (df['total_se']/df['total_assets'])\n",
    "# operating_cost_ratio = lambda operating_cost_ratio: (df['total_opex'] - df['d_n_a']/df['net_revenue'])\n",
    "# percentage_of_debt_to_asset_formula = lambda percentage_of_debt_to_asset_formula: (df['total_non_current_liabilities']/df['total_assets'])\n",
    "\n",
    "# total_liabilities_pct_of_total_assets = lambda total_liabilities_pct_of_total_assets: (df['total_liabilities']/df['total_assets'])\n",
    "# debt_to_assets_ratio = lambda debt_to_assets_ratio: (df['total_debt']/df['total_assets'])\n",
    "# debt_to_equity_ratio = lambda debt_to_equity_ratio: (df['total_debt']/df['total_se'])\n",
    "# quick_ratio = lambda quick_ratio: (df['total_current_assets']-df['inventory']/df['total_current_liabilities'])\n",
    "# working_capital = lambda working_capital: (df['total_current_assets'] - df['total_current_liabilities'])\n",
    "# current_ratio = lambda current_ratio: (df['total_current_assets']/df['total_current_liabilities'])\n",
    "# capital_intensity = lambda capital_intensity: (df['total_assets']/df['net_revenue'])\n",
    "# equity_multiplier = lambda equity_multiplier: (df['total_assets']/df['total_se'])\n",
    "# short_term_debt_to_equity_ratio = lambda short_term_debt_to_equity_ratio: (df['short_term_debt']/df['total_se'])\n",
    "# st_debt_as_pct_of_total_debt = lambda st_debt_as_pct_of_total_debt: (df['short_term_debt']/df['total_liabilities'])\n",
    "# acid_test_ratio = lambda acid_test_ratio: (df['quick_assets_math']/df['total_current_liabilities'])\n",
    "# pre_tax_income_to_sales = lambda pre_tax_income_to_sales: (df['pretax_income_non']/df['net_revenue'])\n",
    "# pre_tax_return_on_assets = lambda pre_tax_return_on_assets: (df['pretax_income_non']/df['total_assets'])\n",
    "# pre_tax_return_on_common_equity = lambda pre_tax_return_on_common_equity: (df['pretax_income_non']/df['common_stock'])\n",
    "# operating_roa = lambda operating_roa: (df['operating_income']/df['total_assets'])\n",
    "# operating_profit_margin = lambda operating_profit_margin: (df['operating_income']/df['net_revenue'])\n",
    "# free_operating_cash_flow_to_debt = lambda free_operating_cash_flow_to_debt: (df['operating_cash_flow']-df['capex']/df['total_debt'])\n",
    "# discretionary_cash_flow_to_debt = lambda discretionary_cash_flow_to_debt: (df['operating_cash_flow']-df['accounts_payable']-df['debt_repayment']-df['dividends_paid']-df['interest_expense'])\n",
    "# operating_cash_flow_to_interest = lambda operating_cash_flow_to_interest: (df['operating_cash_flow'] + df['interest_expense'] + df['income_tax_expense']/df['interest_expense'])\n",
    "# operating_cash_flow_to_debt = lambda operating_cash_flow_to_debt: (df['operating_cash_flow'] + df['interest_expense'] + df['income_tax_expense']/df['total_liabilities'])\n",
    "# cash_flow_margin_ratio_formula = lambda cash_flow_margin_ratio_formula: (df['operating_cash_flow']/df['total_liabilities'])\n",
    "# cash_flow_to_debt = lambda cash_flow_to_debt: (df['operating_cash_flow']/df['total_debt'])\n",
    "# net_cash_flow_to_capital_expenditures = lambda net_cash_flow_to_capital_expenditures: (df['operating_cash_flow']/df['capex'])\n",
    "# cash_flow_to_revenue = lambda cash_flow_to_revenue: (df['operating_cash_flow']/df['net_revenue'])\n",
    "# cash_return_on_assets = lambda cash_return_on_assets: (df['operating_cash_flow']/df['total_assets'])\n",
    "# cash_return_on_equity = lambda cash_return_on_equity: (df['operating_cash_flow']/df['total_se'])\n",
    "# cash_to_income_ratio = lambda cash_to_income_ratio: (df['operating_cash_flow']/df['operating_income'])\n",
    "# cash_flow_per_share = lambda cash_flow_per_share: (df['operating_cash_flow']/df['shares_outstanding_non'])\n",
    "# debt_payment = lambda debt_payment: (df['operating_cash_flow']/df['debt_repayment'])\n",
    "# debt_coverage = lambda debt_coverage: (df['operating_cash_flow']/df['long_term_debt'])\n",
    "# cash_flow_from_operations_ratio = lambda cash_flow_from_operations_ratio: (df['operating_cash_flow']/df['total_current_liabilities'])\n",
    "# gross_profit_margin = lambda gross_profit_margin: (df['net_revenue'] - df['cost_of_sales']/df['net_revenue'])\n",
    "# receivables_turnover = lambda receivables_turnover: (df['net_revenue']/df['accounts_receivable'])\n",
    "# capital_turnover_ratio = lambda capital_turnover_ratio: (df['net_revenue']/df['working_capital_math'])\n",
    "# assets_turnover_ratio = lambda assets_turnover_ratio: (df['net_revenue']/df['total_assets'])\n",
    "# accounts_receivableturnover = lambda accounts_receivableturnover: (df['net_revenue']/df['accounts_receivable'])\n",
    "# operating_cash_flow_to_debt = lambda operating_cash_flow_to_debt: (df['net_revenue']/df['total_se'])\n",
    "# inventory_ratio = lambda inventory_ratio: (df['net_revenue']/df['inventory'])\n",
    "# return_on_investment = lambda return_on_investment: (df['net_income']+ df['interest_expense']/df['total_se'])\n",
    "# pretax_margin = lambda pretax_margin: (df['net_income'] - df['income_tax_expense']/df['net_revenue'])\n",
    "# income_to_net_worth_ratio = lambda income_to_net_worth_ratio: (df['net_income'] - df['deferred_income_tax']/df['shares_outstanding_non'])\n",
    "# return_on_assets_roa = lambda return_on_assets_roa: (df['net_income']/df['total_assets'])\n",
    "# roe = lambda roe: (df['net_income']/df['total_se'])\n",
    "# profit_margin = lambda profit_margin: (df['net_income']/df['net_revenue'])\n",
    "# earnings_per_share = lambda earnings_per_share: (df['net_income']/df['shares_outstanding_non'])\n",
    "# current_cash_debt_coverage = lambda current_cash_debt_coverage: (df['net_cash_by_operating_activities']/df['total_current_liabilities'])\n",
    "# cash_debt_coverage = lambda cash_debt_coverage: (df['net_cash_by_operating_activities']/df['total_liabilities'])\n",
    "# long_term_debt_ratio = lambda long_term_debt_ratio: (df['long_term_debt']/df['total_assets'])\n",
    "# long_term_debt_equity_ratio = lambda long_term_debt_equity_ratio: (df['long_term_debt']/df['total_se'])\n",
    "# lt_debt_as_pct_of_total_debt = lambda lt_debt_as_pct_of_total_debt: (df['long_term_debt']/df['total_liabilities'])\n",
    "# inventory_pct_of_revenue = lambda inventory_pct_of_revenue: (df['inventory']/df['net_revenue'])\n",
    "# intangibles_pct_of_book_value = lambda intangibles_pct_of_book_value: (df['goodwill_n_intangible_assets']/df['total_se'])\n",
    "# ffo_funds_from_operations_to_debt = lambda ffo_funds_from_operations_to_debt: (df['ffo_math']/df['total_debt'])\n",
    "# operating_margin = lambda operating_margin: (df['ebitda_non']-df['d_a']/df['net_revenue'])\n",
    "# cash_coverage_ratio = lambda cash_coverage_ratio: (df['ebitda_non']/df['interest_expense'])\n",
    "# ebitda_per_share = lambda ebitda_per_share: (df['ebitda_non']/df['shares_outstanding_non'])\n",
    "# ebitda_interest_coverage = lambda ebitda_interest_coverage: (df['ebitda_non']/df['interest_expense'])\n",
    "# ebitda_margin = lambda ebitda_margin: (df['ebitda_non']/df['net_revenue'])\n",
    "# net_margin_profit_margin = lambda net_margin_profit_margin: (df['ebitda_margin']/df['net_revenue'])\n",
    "# return_on_capital_employed_ratio = lambda return_on_capital_employed_ratio: (df['ebit_math']/df['total_assets'] - df['total_current_liabilities'])\n",
    "# debt_service_ratio = lambda debt_service_ratio: (df['ebit_math']/df['interest_expense'])\n",
    "# return_on_capital = lambda return_on_capital: (df['ebit_math']/df['total_assets'])\n",
    "# dividend_yield = lambda dividend_yield: (df['dividends_paid']/df['shares_outstanding_non'])\n",
    "# dividend_payout_ratio = lambda dividend_payout_ratio: (df['dividends_paid']/df['net_income'])\n",
    "# dividends_per_share = lambda dividends_per_share: (df['dividends_paid']/df['shares_outstanding_non'])\n",
    "# inventory_turnover = lambda inventory_turnover: (df['cost_of_sales']/df['inventory'])\n",
    "# cash_ratio = lambda cash_ratio: (df['cash_non']/df['total_current_liabilities'])\n",
    "# cash_flow_roa = lambda cash_flow_roa: (df['operating_cash_flow']/df['total_assets'])\n",
    "# average_collection_period = lambda average_collection_period: (df['accounts_receivable']/df['net_revenue'])\n",
    "# number_of_days_of_receivables = lambda number_of_days_of_receivables: (df['accounts_receivable']/df['inventory'])\n",
    "# average_days_payables_outstanding = lambda average_days_payables_outstanding: (df['accounts_payable']/df['cost_of_sales'])\n",
    "# days_sales_in_payables = lambda days_sales_in_payables: (df['accounts_payable']/df['total_opex'])"
   ]
  },
  {
   "cell_type": "code",
   "execution_count": 27,
   "metadata": {
    "ExecuteTime": {
     "end_time": "2020-12-18T18:46:49.070888Z",
     "start_time": "2020-12-18T18:46:49.056878Z"
    }
   },
   "outputs": [],
   "source": [
    "# ratios_df = pd.read_csv(\"../reference_data/ratios.csv\")\n",
    "# ratios_df = ratios_df.dropna(subset = [\"Name\"])\n",
    "# fin_statements_matching[fin_statements_matching['URL']==\"{}\".format(url_fin_metric)]\n",
    "# fin_metric_ratio_variable_name = list(matching_row['Python Variable Name'])[0]\n",
    "# # ratios_df = pd.read_csv(\"../reference_data/ratios.csv\")"
   ]
  },
  {
   "cell_type": "code",
   "execution_count": 15,
   "metadata": {
    "ExecuteTime": {
     "end_time": "2020-12-20T02:30:51.923993Z",
     "start_time": "2020-12-20T02:30:51.905993Z"
    }
   },
   "outputs": [],
   "source": [
    "df['year'] = df['filing_date'].apply(lambda x: str(x)[0:4])\n",
    "year_df = df.groupby(\"year\").sum()"
   ]
  },
  {
   "cell_type": "code",
   "execution_count": 16,
   "metadata": {
    "ExecuteTime": {
     "end_time": "2020-12-20T02:30:54.270285Z",
     "start_time": "2020-12-20T02:30:54.250284Z"
    }
   },
   "outputs": [],
   "source": [
    "year_df = df.groupby(\"year\").sum()"
   ]
  },
  {
   "cell_type": "code",
   "execution_count": 329,
   "metadata": {
    "ExecuteTime": {
     "end_time": "2020-12-25T14:05:49.465314Z",
     "start_time": "2020-12-25T14:05:49.437786Z"
    }
   },
   "outputs": [
    {
     "data": {
      "text/html": [
       "<div>\n",
       "<style scoped>\n",
       "    .dataframe tbody tr th:only-of-type {\n",
       "        vertical-align: middle;\n",
       "    }\n",
       "\n",
       "    .dataframe tbody tr th {\n",
       "        vertical-align: top;\n",
       "    }\n",
       "\n",
       "    .dataframe thead th {\n",
       "        text-align: right;\n",
       "    }\n",
       "</style>\n",
       "<table border=\"1\" class=\"dataframe\">\n",
       "  <thead>\n",
       "    <tr style=\"text-align: right;\">\n",
       "      <th></th>\n",
       "      <th>datetime</th>\n",
       "      <th>symbol</th>\n",
       "      <th>name</th>\n",
       "      <th>exchange</th>\n",
       "      <th>begin_date</th>\n",
       "      <th>marketCap</th>\n",
       "      <th>open</th>\n",
       "      <th>high</th>\n",
       "      <th>low</th>\n",
       "      <th>close</th>\n",
       "      <th>adjClose</th>\n",
       "      <th>volume</th>\n",
       "      <th>unadjustedVolume</th>\n",
       "      <th>change</th>\n",
       "      <th>changePercent</th>\n",
       "      <th>vwap</th>\n",
       "      <th>timestamp</th>\n",
       "    </tr>\n",
       "  </thead>\n",
       "  <tbody>\n",
       "    <tr>\n",
       "      <th>0</th>\n",
       "      <td>1970-09-08</td>\n",
       "      <td>AA</td>\n",
       "      <td>Alcoa Corporation</td>\n",
       "      <td>NYSE</td>\n",
       "      <td>1970-09-08</td>\n",
       "      <td>NaN</td>\n",
       "      <td>1.5682</td>\n",
       "      <td>1.5842</td>\n",
       "      <td>1.4841</td>\n",
       "      <td>1.5682</td>\n",
       "      <td>1.5682</td>\n",
       "      <td>192300.0</td>\n",
       "      <td>192300.0</td>\n",
       "      <td>0.000</td>\n",
       "      <td>0.000</td>\n",
       "      <td>1.54550</td>\n",
       "      <td>21600000000000000</td>\n",
       "    </tr>\n",
       "    <tr>\n",
       "      <th>1</th>\n",
       "      <td>1970-09-09</td>\n",
       "      <td>AA</td>\n",
       "      <td>Alcoa Corporation</td>\n",
       "      <td>NYSE</td>\n",
       "      <td>1970-09-08</td>\n",
       "      <td>NaN</td>\n",
       "      <td>1.5682</td>\n",
       "      <td>1.5682</td>\n",
       "      <td>1.4761</td>\n",
       "      <td>1.5682</td>\n",
       "      <td>1.5682</td>\n",
       "      <td>53900.0</td>\n",
       "      <td>53900.0</td>\n",
       "      <td>0.000</td>\n",
       "      <td>0.000</td>\n",
       "      <td>1.53750</td>\n",
       "      <td>21686400000000000</td>\n",
       "    </tr>\n",
       "    <tr>\n",
       "      <th>2</th>\n",
       "      <td>1970-09-10</td>\n",
       "      <td>AA</td>\n",
       "      <td>Alcoa Corporation</td>\n",
       "      <td>NYSE</td>\n",
       "      <td>1970-09-08</td>\n",
       "      <td>NaN</td>\n",
       "      <td>1.5533</td>\n",
       "      <td>1.5773</td>\n",
       "      <td>1.5533</td>\n",
       "      <td>1.5773</td>\n",
       "      <td>1.5773</td>\n",
       "      <td>70500.0</td>\n",
       "      <td>70500.0</td>\n",
       "      <td>0.024</td>\n",
       "      <td>1.545</td>\n",
       "      <td>1.56930</td>\n",
       "      <td>21772800000000000</td>\n",
       "    </tr>\n",
       "    <tr>\n",
       "      <th>3</th>\n",
       "      <td>1970-09-11</td>\n",
       "      <td>AA</td>\n",
       "      <td>Alcoa Corporation</td>\n",
       "      <td>NYSE</td>\n",
       "      <td>1970-09-08</td>\n",
       "      <td>NaN</td>\n",
       "      <td>1.5785</td>\n",
       "      <td>1.5785</td>\n",
       "      <td>1.4944</td>\n",
       "      <td>1.5705</td>\n",
       "      <td>1.5705</td>\n",
       "      <td>60500.0</td>\n",
       "      <td>60500.0</td>\n",
       "      <td>-0.008</td>\n",
       "      <td>-0.507</td>\n",
       "      <td>1.54780</td>\n",
       "      <td>21859200000000000</td>\n",
       "    </tr>\n",
       "    <tr>\n",
       "      <th>4</th>\n",
       "      <td>1970-09-14</td>\n",
       "      <td>AA</td>\n",
       "      <td>Alcoa Corporation</td>\n",
       "      <td>NYSE</td>\n",
       "      <td>1970-09-08</td>\n",
       "      <td>NaN</td>\n",
       "      <td>1.6226</td>\n",
       "      <td>1.6226</td>\n",
       "      <td>1.5466</td>\n",
       "      <td>1.5466</td>\n",
       "      <td>1.5466</td>\n",
       "      <td>37900.0</td>\n",
       "      <td>37900.0</td>\n",
       "      <td>-0.076</td>\n",
       "      <td>-4.684</td>\n",
       "      <td>1.57193</td>\n",
       "      <td>22118400000000000</td>\n",
       "    </tr>\n",
       "    <tr>\n",
       "      <th>...</th>\n",
       "      <td>...</td>\n",
       "      <td>...</td>\n",
       "      <td>...</td>\n",
       "      <td>...</td>\n",
       "      <td>...</td>\n",
       "      <td>...</td>\n",
       "      <td>...</td>\n",
       "      <td>...</td>\n",
       "      <td>...</td>\n",
       "      <td>...</td>\n",
       "      <td>...</td>\n",
       "      <td>...</td>\n",
       "      <td>...</td>\n",
       "      <td>...</td>\n",
       "      <td>...</td>\n",
       "      <td>...</td>\n",
       "      <td>...</td>\n",
       "    </tr>\n",
       "    <tr>\n",
       "      <th>12612</th>\n",
       "      <td>2020-09-08</td>\n",
       "      <td>AA</td>\n",
       "      <td>Alcoa Corporation</td>\n",
       "      <td>NYSE</td>\n",
       "      <td>1970-09-08</td>\n",
       "      <td>2.646780e+09</td>\n",
       "      <td>14.2600</td>\n",
       "      <td>14.5550</td>\n",
       "      <td>13.6900</td>\n",
       "      <td>14.2300</td>\n",
       "      <td>14.2300</td>\n",
       "      <td>4854412.0</td>\n",
       "      <td>4854412.0</td>\n",
       "      <td>-0.030</td>\n",
       "      <td>-0.210</td>\n",
       "      <td>14.15833</td>\n",
       "      <td>1599523200000000000</td>\n",
       "    </tr>\n",
       "    <tr>\n",
       "      <th>12613</th>\n",
       "      <td>2020-09-09</td>\n",
       "      <td>AA</td>\n",
       "      <td>Alcoa Corporation</td>\n",
       "      <td>NYSE</td>\n",
       "      <td>1970-09-08</td>\n",
       "      <td>2.622600e+09</td>\n",
       "      <td>14.3200</td>\n",
       "      <td>14.4000</td>\n",
       "      <td>14.0500</td>\n",
       "      <td>14.1000</td>\n",
       "      <td>14.1000</td>\n",
       "      <td>3081759.0</td>\n",
       "      <td>3081759.0</td>\n",
       "      <td>-0.220</td>\n",
       "      <td>-1.536</td>\n",
       "      <td>14.18333</td>\n",
       "      <td>1599609600000000000</td>\n",
       "    </tr>\n",
       "    <tr>\n",
       "      <th>12614</th>\n",
       "      <td>2020-09-10</td>\n",
       "      <td>AA</td>\n",
       "      <td>Alcoa Corporation</td>\n",
       "      <td>NYSE</td>\n",
       "      <td>1970-09-08</td>\n",
       "      <td>2.563080e+09</td>\n",
       "      <td>14.1500</td>\n",
       "      <td>14.3400</td>\n",
       "      <td>13.7300</td>\n",
       "      <td>13.7800</td>\n",
       "      <td>13.7800</td>\n",
       "      <td>4136327.0</td>\n",
       "      <td>4136327.0</td>\n",
       "      <td>-0.370</td>\n",
       "      <td>-2.615</td>\n",
       "      <td>13.95000</td>\n",
       "      <td>1599696000000000000</td>\n",
       "    </tr>\n",
       "    <tr>\n",
       "      <th>12615</th>\n",
       "      <td>2020-09-11</td>\n",
       "      <td>AA</td>\n",
       "      <td>Alcoa Corporation</td>\n",
       "      <td>NYSE</td>\n",
       "      <td>1970-09-08</td>\n",
       "      <td>2.600280e+09</td>\n",
       "      <td>13.8900</td>\n",
       "      <td>14.2800</td>\n",
       "      <td>13.6750</td>\n",
       "      <td>13.9800</td>\n",
       "      <td>13.9800</td>\n",
       "      <td>4217300.0</td>\n",
       "      <td>4217300.0</td>\n",
       "      <td>0.090</td>\n",
       "      <td>0.648</td>\n",
       "      <td>13.97833</td>\n",
       "      <td>1599782400000000000</td>\n",
       "    </tr>\n",
       "    <tr>\n",
       "      <th>12616</th>\n",
       "      <td>2020-09-14</td>\n",
       "      <td>AA</td>\n",
       "      <td>Alcoa Corporation</td>\n",
       "      <td>NYSE</td>\n",
       "      <td>1970-09-08</td>\n",
       "      <td>2.613300e+09</td>\n",
       "      <td>14.1900</td>\n",
       "      <td>14.2200</td>\n",
       "      <td>13.8700</td>\n",
       "      <td>14.0500</td>\n",
       "      <td>14.0500</td>\n",
       "      <td>2654401.0</td>\n",
       "      <td>2654401.0</td>\n",
       "      <td>-0.140</td>\n",
       "      <td>-0.987</td>\n",
       "      <td>14.04667</td>\n",
       "      <td>1600041600000000000</td>\n",
       "    </tr>\n",
       "  </tbody>\n",
       "</table>\n",
       "<p>12617 rows × 17 columns</p>\n",
       "</div>"
      ],
      "text/plain": [
       "         datetime symbol               name exchange  begin_date  \\\n",
       "0      1970-09-08     AA  Alcoa Corporation     NYSE  1970-09-08   \n",
       "1      1970-09-09     AA  Alcoa Corporation     NYSE  1970-09-08   \n",
       "2      1970-09-10     AA  Alcoa Corporation     NYSE  1970-09-08   \n",
       "3      1970-09-11     AA  Alcoa Corporation     NYSE  1970-09-08   \n",
       "4      1970-09-14     AA  Alcoa Corporation     NYSE  1970-09-08   \n",
       "...           ...    ...                ...      ...         ...   \n",
       "12612  2020-09-08     AA  Alcoa Corporation     NYSE  1970-09-08   \n",
       "12613  2020-09-09     AA  Alcoa Corporation     NYSE  1970-09-08   \n",
       "12614  2020-09-10     AA  Alcoa Corporation     NYSE  1970-09-08   \n",
       "12615  2020-09-11     AA  Alcoa Corporation     NYSE  1970-09-08   \n",
       "12616  2020-09-14     AA  Alcoa Corporation     NYSE  1970-09-08   \n",
       "\n",
       "          marketCap     open     high      low    close  adjClose     volume  \\\n",
       "0               NaN   1.5682   1.5842   1.4841   1.5682    1.5682   192300.0   \n",
       "1               NaN   1.5682   1.5682   1.4761   1.5682    1.5682    53900.0   \n",
       "2               NaN   1.5533   1.5773   1.5533   1.5773    1.5773    70500.0   \n",
       "3               NaN   1.5785   1.5785   1.4944   1.5705    1.5705    60500.0   \n",
       "4               NaN   1.6226   1.6226   1.5466   1.5466    1.5466    37900.0   \n",
       "...             ...      ...      ...      ...      ...       ...        ...   \n",
       "12612  2.646780e+09  14.2600  14.5550  13.6900  14.2300   14.2300  4854412.0   \n",
       "12613  2.622600e+09  14.3200  14.4000  14.0500  14.1000   14.1000  3081759.0   \n",
       "12614  2.563080e+09  14.1500  14.3400  13.7300  13.7800   13.7800  4136327.0   \n",
       "12615  2.600280e+09  13.8900  14.2800  13.6750  13.9800   13.9800  4217300.0   \n",
       "12616  2.613300e+09  14.1900  14.2200  13.8700  14.0500   14.0500  2654401.0   \n",
       "\n",
       "       unadjustedVolume  change  changePercent      vwap            timestamp  \n",
       "0              192300.0   0.000          0.000   1.54550    21600000000000000  \n",
       "1               53900.0   0.000          0.000   1.53750    21686400000000000  \n",
       "2               70500.0   0.024          1.545   1.56930    21772800000000000  \n",
       "3               60500.0  -0.008         -0.507   1.54780    21859200000000000  \n",
       "4               37900.0  -0.076         -4.684   1.57193    22118400000000000  \n",
       "...                 ...     ...            ...       ...                  ...  \n",
       "12612         4854412.0  -0.030         -0.210  14.15833  1599523200000000000  \n",
       "12613         3081759.0  -0.220         -1.536  14.18333  1599609600000000000  \n",
       "12614         4136327.0  -0.370         -2.615  13.95000  1599696000000000000  \n",
       "12615         4217300.0   0.090          0.648  13.97833  1599782400000000000  \n",
       "12616         2654401.0  -0.140         -0.987  14.04667  1600041600000000000  \n",
       "\n",
       "[12617 rows x 17 columns]"
      ]
     },
     "execution_count": 329,
     "metadata": {},
     "output_type": "execute_result"
    }
   ],
   "source": [
    "market_cap_df"
   ]
  },
  {
   "cell_type": "code",
   "execution_count": 107,
   "metadata": {
    "ExecuteTime": {
     "end_time": "2020-12-20T20:02:56.680236Z",
     "start_time": "2020-12-20T20:02:56.663239Z"
    },
    "run_control": {
     "marked": true
    }
   },
   "outputs": [],
   "source": [
    "# metric_name = url_to_metric_map['common-stock-repurchased']#['net-working-capital-ratio']\n",
    "# metric_to_formula_map(df,metric_name)#.items()"
   ]
  },
  {
   "cell_type": "code",
   "execution_count": 32,
   "metadata": {
    "ExecuteTime": {
     "end_time": "2020-12-18T09:38:35.320898Z",
     "start_time": "2020-12-18T09:38:35.306898Z"
    }
   },
   "outputs": [
    {
     "data": {
      "text/plain": [
       "'net_working_capital_ratio'"
      ]
     },
     "execution_count": 32,
     "metadata": {},
     "output_type": "execute_result"
    }
   ],
   "source": [
    "url_to_metric_map['net-working-capital-ratio']"
   ]
  },
  {
   "cell_type": "code",
   "execution_count": 33,
   "metadata": {
    "ExecuteTime": {
     "end_time": "2020-12-18T09:38:35.725897Z",
     "start_time": "2020-12-18T09:38:35.712896Z"
    },
    "code_folding": [],
    "run_control": {
     "marked": true
    }
   },
   "outputs": [],
   "source": [
    "# net_working_capital_ratio[url_to_metric_map['net-working-capital-ratio']]"
   ]
  },
  {
   "cell_type": "code",
   "execution_count": 21,
   "metadata": {
    "ExecuteTime": {
     "end_time": "2020-12-18T18:53:44.752672Z",
     "start_time": "2020-12-18T18:53:44.746669Z"
    }
   },
   "outputs": [],
   "source": [
    "# url_fin_metric = 'cash-and-cash-equivalents'\n",
    "url_fin_metric = 'net-working-capital-ratio'\n",
    "# fin_statements_matching = pd.read_csv(\"../reference_data/Financial_Statements_Reference_Matching.csv\")#, encoding='cp1252')"
   ]
  },
  {
   "cell_type": "code",
   "execution_count": 24,
   "metadata": {
    "ExecuteTime": {
     "end_time": "2020-12-18T18:54:00.737700Z",
     "start_time": "2020-12-18T18:54:00.711700Z"
    }
   },
   "outputs": [],
   "source": [
    "# url_fin_metric = 'net-working-capital-ratio'\n",
    "\n",
    "fin_metric_title = url_to_name_map[url_fin_metric]\n",
    "fin_metric_name = url_fin_metric\n",
    "metric_history = metric_to_formula_map(df,metric_name)\n",
    "sorted_metric = metric_history.sort_values(ascending=True)"
   ]
  },
  {
   "cell_type": "code",
   "execution_count": 25,
   "metadata": {
    "ExecuteTime": {
     "end_time": "2020-12-18T18:54:23.410815Z",
     "start_time": "2020-12-18T18:54:23.400815Z"
    }
   },
   "outputs": [],
   "source": [
    "df['metric history'] = metric_history"
   ]
  },
  {
   "cell_type": "code",
   "execution_count": 29,
   "metadata": {
    "ExecuteTime": {
     "end_time": "2020-12-18T19:03:45.729253Z",
     "start_time": "2020-12-18T19:03:45.712252Z"
    }
   },
   "outputs": [],
   "source": [
    "df['metric history'] = metric_history\n",
    "df['period'] = df['filing_date'].apply(lambda x: str(x)[0:4])\n",
    "year_df = df.groupby(\"year\").sum()"
   ]
  },
  {
   "cell_type": "code",
   "execution_count": 513,
   "metadata": {
    "ExecuteTime": {
     "end_time": "2020-12-25T19:45:47.491131Z",
     "start_time": "2020-12-25T19:45:47.468130Z"
    },
    "scrolled": true
   },
   "outputs": [],
   "source": [
    "# jcp_bs = pd.read_csv(\"D:/Cloud/rclone/OneDrive/Web/TenDollarData/Charts_TenDollarData/financial_statements/data/Historical Financial Statements/Consumer Cyclical/quarter/Balance Sheet/quarter~JCP~balance_sheet.csv\")\n",
    "is_symbol = \"AAPL\"\n",
    "is_path = glob.glob(\"D:/Cloud/rclone/OneDrive/Web/TenDollarData/Charts_TenDollarData/financial_statements/data/Historical Financial Statements/*/quarter/Income Statement/quarter~{}~income_statement.csv\".format(is_symbol))[0]\n",
    "df = pd.read_csv(is_path)\n",
    "year_df = pd.read_csv(\"D:/Cloud/rclone/OneDrive/Web/TenDollarData/Charts_TenDollarData/financial_statements/data/Historical Financial Statements/Consumer Cyclical/year/Income Statement/year~JCP~income_statement.csv\")\n",
    "# jcp_bs = pd.read_csv(\"D:/Cloud/rclone/OneDrive/Web/TenDollarData/Charts_TenDollarData/financial_statements/data/Historical Financial Statements/Consumer Cyclical/quarter/Cash Flow Statement/quarter~JCP~cash_flow_statement.csv\")\n",
    "# jcp_bs = pd.read_csv(\"D:/Cloud/rclone/OneDrive/Web/TenDollarData/Charts_TenDollarData/financial_statements/data/Historical Financial Statements/Technology/quarter/Income Statement/quarter~AAPL~income_statement.csv\")\n",
    "# jcp_bs = pd.read_csv(\"D:/Cloud/rclone/OneDrive/Web/TenDollarData/Charts_TenDollarData/financial_statements/data/Historical Financial Statements/Consumer Cyclical/quarter/Cash Flow Statement/quarter~JAX~cash_flow_statement.csv\")\n",
    "# jcp_bs\n",
    "# df = pd.read_csv(\"D:/Cloud/rclone/OneDrive/Web/TenDollarData/Charts_TenDollarData/financial_statements/data/Historical Financial Statements/Technology/quarter/Cash Flow Statement/quarter~AAPL~cash_flow_statement.csv\")"
   ]
  },
  {
   "cell_type": "code",
   "execution_count": 459,
   "metadata": {
    "ExecuteTime": {
     "end_time": "2020-12-25T18:22:11.901527Z",
     "start_time": "2020-12-25T18:22:11.896528Z"
    }
   },
   "outputs": [],
   "source": [
    "df['date'] = pd.to_datetime(df['date'])\n",
    "df.index = pd.DatetimeIndex(df['date'])"
   ]
  },
  {
   "cell_type": "code",
   "execution_count": 469,
   "metadata": {
    "ExecuteTime": {
     "end_time": "2020-12-25T18:26:05.435968Z",
     "start_time": "2020-12-25T18:26:05.350965Z"
    },
    "code_folding": [
     0
    ]
   },
   "outputs": [],
   "source": [
    "# idx = pd.bdate_range('1994-06-30', '2020-06-30')\n",
    "# df = df.reindex(idx)#, fill_value=0)\n",
    "# df"
   ]
  },
  {
   "cell_type": "code",
   "execution_count": 514,
   "metadata": {
    "ExecuteTime": {
     "end_time": "2020-12-25T19:45:51.026860Z",
     "start_time": "2020-12-25T19:45:50.986859Z"
    }
   },
   "outputs": [],
   "source": [
    "df['ts'] = pd.to_datetime(df['date']).values.astype(np.int64) // 10 ** 6\n",
    "url_symbol = \"AAPL\"\n",
    "market_cap_path = glob.glob(\"D:/Cloud/rclone/OneDrive/Web/TenDollarData/Charts_TenDollarData/financial_statements/data/Historical Market Cap & Price/NASDAQ\\\\[M*/M-*-{}.csv\".format(url_symbol))[0]\n",
    "market_cap_df = pd.read_csv(market_cap_path)\n",
    "market_cap_df['timestamp'] = pd.to_datetime(market_cap_df.datetime).values.astype(np.int64)// 10 ** 6\n",
    "closest_list = []\n",
    "for k in df['ts']:\n",
    "    closest_list.append(min(market_cap_df['timestamp'], key=lambda x:abs(x-k)))\n",
    "df['adjClose'] = list(market_cap_df[market_cap_df['timestamp'].isin(closest_list)][::-1]['adjClose'])"
   ]
  },
  {
   "cell_type": "code",
   "execution_count": 496,
   "metadata": {
    "ExecuteTime": {
     "end_time": "2020-12-25T19:36:29.209370Z",
     "start_time": "2020-12-25T19:36:29.204370Z"
    }
   },
   "outputs": [
    {
     "data": {
      "text/plain": [
       "107"
      ]
     },
     "execution_count": 496,
     "metadata": {},
     "output_type": "execute_result"
    }
   ],
   "source": [
    "len(closest_list)"
   ]
  },
  {
   "cell_type": "code",
   "execution_count": 492,
   "metadata": {
    "ExecuteTime": {
     "end_time": "2020-12-25T18:55:12.299588Z",
     "start_time": "2020-12-25T18:55:12.288066Z"
    }
   },
   "outputs": [
    {
     "data": {
      "text/plain": [
       "array([115.355003, 106.068756,  73.119873,  76.847343,  61.579021,\n",
       "        52.53714 ,  49.296772,  40.713184,  53.349594,  46.223221,\n",
       "        39.988998,  40.349579,  40.591652,  35.574905,  34.218575,\n",
       "        28.78175 ,  26.791819,  24.457745,  21.867334,  22.584578,\n",
       "        27.607912,  27.897482,  28.66321 ,  26.72777 ,  24.531713,\n",
       "        21.607637,  18.947445,  15.978329,  16.586884,  14.265975,\n",
       "        13.866817,  14.182214,  18.451712,  18.849346,  18.022854,\n",
       "        14.087938,  12.492363,  12.051039,  10.805753,  10.472136,\n",
       "         9.288879,   7.939281,   8.057792,   5.927377,   5.81751 ,\n",
       "         5.04256 ,   3.883379,   2.781602,   3.320455,   4.905532,\n",
       "         5.368465,   4.177496,   5.862258,   4.066393,   3.080039,\n",
       "         2.645809,   2.502301,   2.097389,   2.172385,   2.330398,\n",
       "         1.777349,   1.31627 ,   1.112888,   1.186648,   0.808587,\n",
       "         0.49904 ,   0.397813,   0.348125,   0.353217,   0.325287,\n",
       "         0.21943 ,   0.22159 ,   0.247977,   0.235478,   0.374512,\n",
       "         0.381456,   0.270969,   0.28995 ,   0.393338,   0.333697,\n",
       "         0.30187 ,   0.784091,   0.957207,   0.800486,   0.618207,\n",
       "         0.429658,   0.354914,   0.317783,   0.286439,   0.26715 ,\n",
       "         0.211213,   0.141291,   0.131405,   0.135022,   0.131164,\n",
       "         0.128271,   0.177457,   0.169742,   0.188066,   0.213141,\n",
       "         0.279301,   0.34518 ,   0.292592,   0.308002,   0.32847 ,\n",
       "         0.255332,   0.22649 ])"
      ]
     },
     "execution_count": 492,
     "metadata": {},
     "output_type": "execute_result"
    }
   ],
   "source": [
    "df['adjClose'].unique()"
   ]
  },
  {
   "cell_type": "code",
   "execution_count": 494,
   "metadata": {
    "ExecuteTime": {
     "end_time": "2020-12-25T19:35:22.344370Z",
     "start_time": "2020-12-25T19:35:22.311371Z"
    }
   },
   "outputs": [
    {
     "data": {
      "text/html": [
       "<div>\n",
       "<style scoped>\n",
       "    .dataframe tbody tr th:only-of-type {\n",
       "        vertical-align: middle;\n",
       "    }\n",
       "\n",
       "    .dataframe tbody tr th {\n",
       "        vertical-align: top;\n",
       "    }\n",
       "\n",
       "    .dataframe thead th {\n",
       "        text-align: right;\n",
       "    }\n",
       "</style>\n",
       "<table border=\"1\" class=\"dataframe\">\n",
       "  <thead>\n",
       "    <tr style=\"text-align: right;\">\n",
       "      <th></th>\n",
       "      <th>datetime</th>\n",
       "      <th>symbol</th>\n",
       "      <th>name</th>\n",
       "      <th>exchange</th>\n",
       "      <th>begin_date</th>\n",
       "      <th>marketCap</th>\n",
       "      <th>open</th>\n",
       "      <th>high</th>\n",
       "      <th>low</th>\n",
       "      <th>close</th>\n",
       "      <th>adjClose</th>\n",
       "      <th>volume</th>\n",
       "      <th>unadjustedVolume</th>\n",
       "      <th>change</th>\n",
       "      <th>changePercent</th>\n",
       "      <th>vwap</th>\n",
       "      <th>timestamp</th>\n",
       "    </tr>\n",
       "  </thead>\n",
       "  <tbody>\n",
       "    <tr>\n",
       "      <th>477</th>\n",
       "      <td>2020-09-01</td>\n",
       "      <td>AAPL</td>\n",
       "      <td>Apple Inc.</td>\n",
       "      <td>NASDAQ</td>\n",
       "      <td>1980-12-12</td>\n",
       "      <td>2.009386e+12</td>\n",
       "      <td>132.759995</td>\n",
       "      <td>137.979996</td>\n",
       "      <td>110.000000</td>\n",
       "      <td>115.355003</td>\n",
       "      <td>115.355003</td>\n",
       "      <td>1.854015e+09</td>\n",
       "      <td>1.854015e+09</td>\n",
       "      <td>-19.78501</td>\n",
       "      <td>-1.753000</td>\n",
       "      <td>120.210184</td>\n",
       "      <td>1598918400000</td>\n",
       "    </tr>\n",
       "    <tr>\n",
       "      <th>475</th>\n",
       "      <td>2020-07-01</td>\n",
       "      <td>AAPL</td>\n",
       "      <td>Apple Inc.</td>\n",
       "      <td>NASDAQ</td>\n",
       "      <td>1980-12-12</td>\n",
       "      <td>1.850959e+12</td>\n",
       "      <td>91.279999</td>\n",
       "      <td>106.415001</td>\n",
       "      <td>89.144997</td>\n",
       "      <td>106.260002</td>\n",
       "      <td>106.068756</td>\n",
       "      <td>3.020496e+09</td>\n",
       "      <td>3.020496e+09</td>\n",
       "      <td>3.27250</td>\n",
       "      <td>0.161045</td>\n",
       "      <td>95.472916</td>\n",
       "      <td>1593561600000</td>\n",
       "    </tr>\n",
       "    <tr>\n",
       "      <th>472</th>\n",
       "      <td>2020-04-01</td>\n",
       "      <td>AAPL</td>\n",
       "      <td>Apple Inc.</td>\n",
       "      <td>NASDAQ</td>\n",
       "      <td>1980-12-12</td>\n",
       "      <td>1.294098e+12</td>\n",
       "      <td>61.625000</td>\n",
       "      <td>73.632500</td>\n",
       "      <td>59.224998</td>\n",
       "      <td>73.449997</td>\n",
       "      <td>73.119873</td>\n",
       "      <td>3.266123e+09</td>\n",
       "      <td>3.266123e+09</td>\n",
       "      <td>3.01751</td>\n",
       "      <td>0.223857</td>\n",
       "      <td>68.020993</td>\n",
       "      <td>1585699200000</td>\n",
       "    </tr>\n",
       "    <tr>\n",
       "      <th>469</th>\n",
       "      <td>2020-01-01</td>\n",
       "      <td>AAPL</td>\n",
       "      <td>Apple Inc.</td>\n",
       "      <td>NASDAQ</td>\n",
       "      <td>1980-12-12</td>\n",
       "      <td>1.378744e+12</td>\n",
       "      <td>74.059998</td>\n",
       "      <td>81.962502</td>\n",
       "      <td>73.187500</td>\n",
       "      <td>77.377502</td>\n",
       "      <td>76.847343</td>\n",
       "      <td>2.934370e+09</td>\n",
       "      <td>2.934370e+09</td>\n",
       "      <td>3.91251</td>\n",
       "      <td>0.256810</td>\n",
       "      <td>77.922817</td>\n",
       "      <td>1577836800000</td>\n",
       "    </tr>\n",
       "    <tr>\n",
       "      <th>466</th>\n",
       "      <td>2019-10-01</td>\n",
       "      <td>AAPL</td>\n",
       "      <td>Apple Inc.</td>\n",
       "      <td>NASDAQ</td>\n",
       "      <td>1980-12-12</td>\n",
       "      <td>1.124488e+12</td>\n",
       "      <td>56.267502</td>\n",
       "      <td>62.437500</td>\n",
       "      <td>53.782501</td>\n",
       "      <td>62.189999</td>\n",
       "      <td>61.579021</td>\n",
       "      <td>2.433211e+09</td>\n",
       "      <td>2.433211e+09</td>\n",
       "      <td>2.05250</td>\n",
       "      <td>0.155478</td>\n",
       "      <td>58.766740</td>\n",
       "      <td>1569888000000</td>\n",
       "    </tr>\n",
       "    <tr>\n",
       "      <th>...</th>\n",
       "      <td>...</td>\n",
       "      <td>...</td>\n",
       "      <td>...</td>\n",
       "      <td>...</td>\n",
       "      <td>...</td>\n",
       "      <td>...</td>\n",
       "      <td>...</td>\n",
       "      <td>...</td>\n",
       "      <td>...</td>\n",
       "      <td>...</td>\n",
       "      <td>...</td>\n",
       "      <td>...</td>\n",
       "      <td>...</td>\n",
       "      <td>...</td>\n",
       "      <td>...</td>\n",
       "      <td>...</td>\n",
       "      <td>...</td>\n",
       "    </tr>\n",
       "    <tr>\n",
       "      <th>172</th>\n",
       "      <td>1995-04-01</td>\n",
       "      <td>AAPL</td>\n",
       "      <td>Apple Inc.</td>\n",
       "      <td>NASDAQ</td>\n",
       "      <td>1980-12-12</td>\n",
       "      <td>4.704580e+09</td>\n",
       "      <td>0.316964</td>\n",
       "      <td>0.353795</td>\n",
       "      <td>0.300223</td>\n",
       "      <td>0.341518</td>\n",
       "      <td>0.292592</td>\n",
       "      <td>5.674301e+09</td>\n",
       "      <td>5.674301e+09</td>\n",
       "      <td>-0.01897</td>\n",
       "      <td>-0.281737</td>\n",
       "      <td>0.333358</td>\n",
       "      <td>796694400000</td>\n",
       "    </tr>\n",
       "    <tr>\n",
       "      <th>169</th>\n",
       "      <td>1995-01-01</td>\n",
       "      <td>AAPL</td>\n",
       "      <td>Apple Inc.</td>\n",
       "      <td>NASDAQ</td>\n",
       "      <td>1980-12-12</td>\n",
       "      <td>4.904640e+09</td>\n",
       "      <td>0.347098</td>\n",
       "      <td>0.429129</td>\n",
       "      <td>0.338170</td>\n",
       "      <td>0.360491</td>\n",
       "      <td>0.308002</td>\n",
       "      <td>8.162101e+09</td>\n",
       "      <td>8.162101e+09</td>\n",
       "      <td>-0.00224</td>\n",
       "      <td>0.033810</td>\n",
       "      <td>0.377976</td>\n",
       "      <td>788918400000</td>\n",
       "    </tr>\n",
       "    <tr>\n",
       "      <th>166</th>\n",
       "      <td>1994-10-01</td>\n",
       "      <td>AAPL</td>\n",
       "      <td>Apple Inc.</td>\n",
       "      <td>NASDAQ</td>\n",
       "      <td>1980-12-12</td>\n",
       "      <td>5.182100e+09</td>\n",
       "      <td>0.300223</td>\n",
       "      <td>0.390625</td>\n",
       "      <td>0.290179</td>\n",
       "      <td>0.385603</td>\n",
       "      <td>0.328470</td>\n",
       "      <td>7.713485e+09</td>\n",
       "      <td>7.713485e+09</td>\n",
       "      <td>0.06754</td>\n",
       "      <td>1.029333</td>\n",
       "      <td>0.357418</td>\n",
       "      <td>780969600000</td>\n",
       "    </tr>\n",
       "    <tr>\n",
       "      <th>163</th>\n",
       "      <td>1994-07-01</td>\n",
       "      <td>AAPL</td>\n",
       "      <td>Apple Inc.</td>\n",
       "      <td>NASDAQ</td>\n",
       "      <td>1980-12-12</td>\n",
       "      <td>3.993600e+09</td>\n",
       "      <td>0.235491</td>\n",
       "      <td>0.303571</td>\n",
       "      <td>0.226563</td>\n",
       "      <td>0.300781</td>\n",
       "      <td>0.255332</td>\n",
       "      <td>4.848066e+09</td>\n",
       "      <td>4.848066e+09</td>\n",
       "      <td>0.04532</td>\n",
       "      <td>0.919150</td>\n",
       "      <td>0.256153</td>\n",
       "      <td>773020800000</td>\n",
       "    </tr>\n",
       "    <tr>\n",
       "      <th>160</th>\n",
       "      <td>1994-04-01</td>\n",
       "      <td>AAPL</td>\n",
       "      <td>Apple Inc.</td>\n",
       "      <td>NASDAQ</td>\n",
       "      <td>1980-12-12</td>\n",
       "      <td>3.563100e+09</td>\n",
       "      <td>0.287946</td>\n",
       "      <td>0.305804</td>\n",
       "      <td>0.241071</td>\n",
       "      <td>0.267857</td>\n",
       "      <td>0.226490</td>\n",
       "      <td>4.042136e+09</td>\n",
       "      <td>4.042136e+09</td>\n",
       "      <td>-0.04241</td>\n",
       "      <td>-0.762579</td>\n",
       "      <td>0.279567</td>\n",
       "      <td>765158400000</td>\n",
       "    </tr>\n",
       "  </tbody>\n",
       "</table>\n",
       "<p>107 rows × 17 columns</p>\n",
       "</div>"
      ],
      "text/plain": [
       "       datetime symbol        name exchange  begin_date     marketCap  \\\n",
       "477  2020-09-01   AAPL  Apple Inc.   NASDAQ  1980-12-12  2.009386e+12   \n",
       "475  2020-07-01   AAPL  Apple Inc.   NASDAQ  1980-12-12  1.850959e+12   \n",
       "472  2020-04-01   AAPL  Apple Inc.   NASDAQ  1980-12-12  1.294098e+12   \n",
       "469  2020-01-01   AAPL  Apple Inc.   NASDAQ  1980-12-12  1.378744e+12   \n",
       "466  2019-10-01   AAPL  Apple Inc.   NASDAQ  1980-12-12  1.124488e+12   \n",
       "..          ...    ...         ...      ...         ...           ...   \n",
       "172  1995-04-01   AAPL  Apple Inc.   NASDAQ  1980-12-12  4.704580e+09   \n",
       "169  1995-01-01   AAPL  Apple Inc.   NASDAQ  1980-12-12  4.904640e+09   \n",
       "166  1994-10-01   AAPL  Apple Inc.   NASDAQ  1980-12-12  5.182100e+09   \n",
       "163  1994-07-01   AAPL  Apple Inc.   NASDAQ  1980-12-12  3.993600e+09   \n",
       "160  1994-04-01   AAPL  Apple Inc.   NASDAQ  1980-12-12  3.563100e+09   \n",
       "\n",
       "           open        high         low       close    adjClose        volume  \\\n",
       "477  132.759995  137.979996  110.000000  115.355003  115.355003  1.854015e+09   \n",
       "475   91.279999  106.415001   89.144997  106.260002  106.068756  3.020496e+09   \n",
       "472   61.625000   73.632500   59.224998   73.449997   73.119873  3.266123e+09   \n",
       "469   74.059998   81.962502   73.187500   77.377502   76.847343  2.934370e+09   \n",
       "466   56.267502   62.437500   53.782501   62.189999   61.579021  2.433211e+09   \n",
       "..          ...         ...         ...         ...         ...           ...   \n",
       "172    0.316964    0.353795    0.300223    0.341518    0.292592  5.674301e+09   \n",
       "169    0.347098    0.429129    0.338170    0.360491    0.308002  8.162101e+09   \n",
       "166    0.300223    0.390625    0.290179    0.385603    0.328470  7.713485e+09   \n",
       "163    0.235491    0.303571    0.226563    0.300781    0.255332  4.848066e+09   \n",
       "160    0.287946    0.305804    0.241071    0.267857    0.226490  4.042136e+09   \n",
       "\n",
       "     unadjustedVolume    change  changePercent        vwap      timestamp  \n",
       "477      1.854015e+09 -19.78501      -1.753000  120.210184  1598918400000  \n",
       "475      3.020496e+09   3.27250       0.161045   95.472916  1593561600000  \n",
       "472      3.266123e+09   3.01751       0.223857   68.020993  1585699200000  \n",
       "469      2.934370e+09   3.91251       0.256810   77.922817  1577836800000  \n",
       "466      2.433211e+09   2.05250       0.155478   58.766740  1569888000000  \n",
       "..                ...       ...            ...         ...            ...  \n",
       "172      5.674301e+09  -0.01897      -0.281737    0.333358   796694400000  \n",
       "169      8.162101e+09  -0.00224       0.033810    0.377976   788918400000  \n",
       "166      7.713485e+09   0.06754       1.029333    0.357418   780969600000  \n",
       "163      4.848066e+09   0.04532       0.919150    0.256153   773020800000  \n",
       "160      4.042136e+09  -0.04241      -0.762579    0.279567   765158400000  \n",
       "\n",
       "[107 rows x 17 columns]"
      ]
     },
     "execution_count": 494,
     "metadata": {},
     "output_type": "execute_result"
    }
   ],
   "source": [
    "market_cap_df[market_cap_df['timestamp'].isin(closest_list)][::-1]"
   ]
  },
  {
   "cell_type": "code",
   "execution_count": 500,
   "metadata": {
    "ExecuteTime": {
     "end_time": "2020-12-25T19:41:50.373931Z",
     "start_time": "2020-12-25T19:41:50.350932Z"
    },
    "scrolled": true
   },
   "outputs": [
    {
     "ename": "TypeError",
     "evalue": "unsupported operand type(s) for -: 'list' and 'list'",
     "output_type": "error",
     "traceback": [
      "\u001b[1;31m---------------------------------------------------------------------------\u001b[0m",
      "\u001b[1;31mTypeError\u001b[0m                                 Traceback (most recent call last)",
      "\u001b[1;32m<ipython-input-500-4835bccff661>\u001b[0m in \u001b[0;36m<module>\u001b[1;34m\u001b[0m\n\u001b[0;32m      1\u001b[0m \u001b[1;31m# len(list(market_cap_df[market_cap_df['timestamp'].isin(closest_list)][::-1]['adjClose']))\u001b[0m\u001b[1;33m\u001b[0m\u001b[1;33m\u001b[0m\u001b[1;33m\u001b[0m\u001b[0m\n\u001b[1;32m----> 2\u001b[1;33m \u001b[0mclosest_list\u001b[0m \u001b[1;33m-\u001b[0m \u001b[1;33m(\u001b[0m\u001b[0mlist\u001b[0m\u001b[1;33m(\u001b[0m\u001b[0mmarket_cap_df\u001b[0m\u001b[1;33m[\u001b[0m\u001b[0mmarket_cap_df\u001b[0m\u001b[1;33m[\u001b[0m\u001b[1;34m'timestamp'\u001b[0m\u001b[1;33m]\u001b[0m\u001b[1;33m.\u001b[0m\u001b[0misin\u001b[0m\u001b[1;33m(\u001b[0m\u001b[0mclosest_list\u001b[0m\u001b[1;33m)\u001b[0m\u001b[1;33m]\u001b[0m\u001b[1;33m[\u001b[0m\u001b[1;33m:\u001b[0m\u001b[1;33m:\u001b[0m\u001b[1;33m-\u001b[0m\u001b[1;36m1\u001b[0m\u001b[1;33m]\u001b[0m\u001b[1;33m[\u001b[0m\u001b[1;34m'adjClose'\u001b[0m\u001b[1;33m]\u001b[0m\u001b[1;33m)\u001b[0m\u001b[1;33m)\u001b[0m\u001b[1;33m\u001b[0m\u001b[1;33m\u001b[0m\u001b[0m\n\u001b[0m",
      "\u001b[1;31mTypeError\u001b[0m: unsupported operand type(s) for -: 'list' and 'list'"
     ]
    }
   ],
   "source": [
    "# len(list(market_cap_df[market_cap_df['timestamp'].isin(closest_list)][::-1]['adjClose']))\n",
    "closest_list - (list(market_cap_df[market_cap_df['timestamp'].isin(closest_list)][::-1]['adjClose']))"
   ]
  },
  {
   "cell_type": "code",
   "execution_count": 507,
   "metadata": {
    "ExecuteTime": {
     "end_time": "2020-12-25T19:44:24.843348Z",
     "start_time": "2020-12-25T19:44:24.822350Z"
    },
    "collapsed": true
   },
   "outputs": [
    {
     "data": {
      "text/plain": [
       "[1598918400000,\n",
       " 1593561600000,\n",
       " 1585699200000,\n",
       " 1577836800000,\n",
       " 1569888000000,\n",
       " 1561939200000,\n",
       " 1554076800000,\n",
       " 1546300800000,\n",
       " 1538352000000,\n",
       " 1530403200000,\n",
       " 1522540800000,\n",
       " 1514764800000,\n",
       " 1506816000000,\n",
       " 1498867200000,\n",
       " 1491004800000,\n",
       " 1483228800000,\n",
       " 1475280000000,\n",
       " 1467331200000,\n",
       " 1459468800000,\n",
       " 1451606400000,\n",
       " 1443657600000,\n",
       " 1435708800000,\n",
       " 1427846400000,\n",
       " 1420070400000,\n",
       " 1412121600000,\n",
       " 1404172800000,\n",
       " 1396310400000,\n",
       " 1388534400000,\n",
       " 1380585600000,\n",
       " 1372636800000,\n",
       " 1364774400000,\n",
       " 1356998400000,\n",
       " 1349049600000,\n",
       " 1341100800000,\n",
       " 1333238400000,\n",
       " 1325376000000,\n",
       " 1317427200000,\n",
       " 1309478400000,\n",
       " 1301616000000,\n",
       " 1293840000000,\n",
       " 1285891200000,\n",
       " 1277942400000,\n",
       " 1270080000000,\n",
       " 1262304000000,\n",
       " 1254355200000,\n",
       " 1246406400000,\n",
       " 1238544000000,\n",
       " 1230768000000,\n",
       " 1222819200000,\n",
       " 1214870400000,\n",
       " 1207008000000,\n",
       " 1199145600000,\n",
       " 1191196800000,\n",
       " 1183248000000,\n",
       " 1175385600000,\n",
       " 1167609600000,\n",
       " 1159660800000,\n",
       " 1151712000000,\n",
       " 1143849600000,\n",
       " 1136073600000,\n",
       " 1128124800000,\n",
       " 1120176000000,\n",
       " 1112313600000,\n",
       " 1104537600000,\n",
       " 1096588800000,\n",
       " 1088640000000,\n",
       " 1080777600000,\n",
       " 1072915200000,\n",
       " 1064966400000,\n",
       " 1057017600000,\n",
       " 1049155200000,\n",
       " 1041379200000,\n",
       " 1033430400000,\n",
       " 1025481600000,\n",
       " 1017619200000,\n",
       " 1009843200000,\n",
       " 1001894400000,\n",
       " 993945600000,\n",
       " 986083200000,\n",
       " 978307200000,\n",
       " 970358400000,\n",
       " 962409600000,\n",
       " 954547200000,\n",
       " 946684800000,\n",
       " 938736000000,\n",
       " 930787200000,\n",
       " 922924800000,\n",
       " 915148800000,\n",
       " 907200000000,\n",
       " 899251200000,\n",
       " 891388800000,\n",
       " 883612800000,\n",
       " 875664000000,\n",
       " 867715200000,\n",
       " 859852800000,\n",
       " 852076800000,\n",
       " 844128000000,\n",
       " 836179200000,\n",
       " 828316800000,\n",
       " 820454400000,\n",
       " 812505600000,\n",
       " 804556800000,\n",
       " 796694400000,\n",
       " 788918400000,\n",
       " 780969600000,\n",
       " 773020800000,\n",
       " 765158400000]"
      ]
     },
     "execution_count": 507,
     "metadata": {},
     "output_type": "execute_result"
    }
   ],
   "source": [
    "(list(market_cap_df[market_cap_df['timestamp'].isin(closest_list)][::-1]['timestamp']))"
   ]
  },
  {
   "cell_type": "code",
   "execution_count": 516,
   "metadata": {
    "ExecuteTime": {
     "end_time": "2020-12-25T19:46:33.472439Z",
     "start_time": "2020-12-25T19:46:33.458439Z"
    }
   },
   "outputs": [
    {
     "data": {
      "text/plain": [
       "107"
      ]
     },
     "execution_count": 516,
     "metadata": {},
     "output_type": "execute_result"
    }
   ],
   "source": [
    "len(list(set(closest_list)))"
   ]
  },
  {
   "cell_type": "code",
   "execution_count": 508,
   "metadata": {
    "ExecuteTime": {
     "end_time": "2020-12-25T19:44:35.797088Z",
     "start_time": "2020-12-25T19:44:35.785087Z"
    }
   },
   "outputs": [],
   "source": [
    "import numpy as np\n",
    "main_list = np.setdiff1d((list(market_cap_df[market_cap_df['timestamp'].isin(closest_list)][::-1]['timestamp'])),closest_list)"
   ]
  },
  {
   "cell_type": "code",
   "execution_count": 509,
   "metadata": {
    "ExecuteTime": {
     "end_time": "2020-12-25T19:44:38.926492Z",
     "start_time": "2020-12-25T19:44:38.921490Z"
    },
    "scrolled": true
   },
   "outputs": [
    {
     "data": {
      "text/plain": [
       "0"
      ]
     },
     "execution_count": 509,
     "metadata": {},
     "output_type": "execute_result"
    }
   ],
   "source": [
    "len(main_list)"
   ]
  },
  {
   "cell_type": "code",
   "execution_count": 305,
   "metadata": {
    "ExecuteTime": {
     "end_time": "2020-12-22T16:27:54.365612Z",
     "start_time": "2020-12-22T16:27:54.348114Z"
    },
    "code_folding": []
   },
   "outputs": [],
   "source": [
    "df[\"Year\"] = df[\"date\"].apply(lambda x: x[0:4])\n",
    "def groupby_agg(df):\n",
    "    return df.groupby(\"Year\").sum()"
   ]
  },
  {
   "cell_type": "code",
   "execution_count": 303,
   "metadata": {
    "ExecuteTime": {
     "end_time": "2020-12-22T15:47:47.666976Z",
     "start_time": "2020-12-22T15:47:47.625470Z"
    },
    "scrolled": true
   },
   "outputs": [
    {
     "data": {
      "text/html": [
       "<div>\n",
       "<style scoped>\n",
       "    .dataframe tbody tr th:only-of-type {\n",
       "        vertical-align: middle;\n",
       "    }\n",
       "\n",
       "    .dataframe tbody tr th {\n",
       "        vertical-align: top;\n",
       "    }\n",
       "\n",
       "    .dataframe thead th {\n",
       "        text-align: right;\n",
       "    }\n",
       "</style>\n",
       "<table border=\"1\" class=\"dataframe\">\n",
       "  <thead>\n",
       "    <tr style=\"text-align: right;\">\n",
       "      <th></th>\n",
       "      <th>Unnamed: 0</th>\n",
       "      <th>symbol</th>\n",
       "      <th>fillingDate</th>\n",
       "      <th>acceptedDate</th>\n",
       "      <th>period</th>\n",
       "      <th>revenue</th>\n",
       "      <th>costOfRevenue</th>\n",
       "      <th>grossProfit</th>\n",
       "      <th>grossProfitRatio</th>\n",
       "      <th>researchAndDevelopmentExpenses</th>\n",
       "      <th>...</th>\n",
       "      <th>incomeTaxExpense</th>\n",
       "      <th>netIncome</th>\n",
       "      <th>netIncomeRatio</th>\n",
       "      <th>eps</th>\n",
       "      <th>epsdiluted</th>\n",
       "      <th>weightedAverageShsOut</th>\n",
       "      <th>weightedAverageShsOutDil</th>\n",
       "      <th>link</th>\n",
       "      <th>finalLink</th>\n",
       "      <th>date</th>\n",
       "    </tr>\n",
       "    <tr>\n",
       "      <th>date</th>\n",
       "      <th></th>\n",
       "      <th></th>\n",
       "      <th></th>\n",
       "      <th></th>\n",
       "      <th></th>\n",
       "      <th></th>\n",
       "      <th></th>\n",
       "      <th></th>\n",
       "      <th></th>\n",
       "      <th></th>\n",
       "      <th></th>\n",
       "      <th></th>\n",
       "      <th></th>\n",
       "      <th></th>\n",
       "      <th></th>\n",
       "      <th></th>\n",
       "      <th></th>\n",
       "      <th></th>\n",
       "      <th></th>\n",
       "      <th></th>\n",
       "      <th></th>\n",
       "    </tr>\n",
       "  </thead>\n",
       "  <tbody>\n",
       "    <tr>\n",
       "      <th>2002-12-31</th>\n",
       "      <td>0</td>\n",
       "      <td>JCP</td>\n",
       "      <td>2002-06-11 00:00:00</td>\n",
       "      <td>2002-06-11 13:11:33</td>\n",
       "      <td>Q1</td>\n",
       "      <td>7728000000</td>\n",
       "      <td>5360000000</td>\n",
       "      <td>2368000000</td>\n",
       "      <td>0.306418</td>\n",
       "      <td>0.0</td>\n",
       "      <td>...</td>\n",
       "      <td>49000000.0</td>\n",
       "      <td>8.600000e+07</td>\n",
       "      <td>0.011128</td>\n",
       "      <td>0.29452</td>\n",
       "      <td>0.29452</td>\n",
       "      <td>292000000</td>\n",
       "      <td>292000000</td>\n",
       "      <td>https://www.sec.gov/Archives/edgar/data/116612...</td>\n",
       "      <td>https://www.sec.gov/Archives/edgar/data/116612...</td>\n",
       "      <td>2002-06-01 00:00:00.000</td>\n",
       "    </tr>\n",
       "    <tr>\n",
       "      <th>2003-12-31</th>\n",
       "      <td>0</td>\n",
       "      <td>JCP</td>\n",
       "      <td>2003-04-10 00:00:00</td>\n",
       "      <td>2003-04-10 11:16:32</td>\n",
       "      <td>Q4</td>\n",
       "      <td>9549000000</td>\n",
       "      <td>6665000000</td>\n",
       "      <td>2884000000</td>\n",
       "      <td>0.302021</td>\n",
       "      <td>0.0</td>\n",
       "      <td>...</td>\n",
       "      <td>116000000.0</td>\n",
       "      <td>2.020000e+08</td>\n",
       "      <td>0.021154</td>\n",
       "      <td>0.66667</td>\n",
       "      <td>0.66667</td>\n",
       "      <td>303000000</td>\n",
       "      <td>303000000</td>\n",
       "      <td>https://www.sec.gov/Archives/edgar/data/116612...</td>\n",
       "      <td>https://www.sec.gov/Archives/edgar/data/116612...</td>\n",
       "      <td>2003-03-01 00:00:00.000</td>\n",
       "    </tr>\n",
       "    <tr>\n",
       "      <th>2004-12-31</th>\n",
       "      <td>0</td>\n",
       "      <td>JCP</td>\n",
       "      <td>NaN</td>\n",
       "      <td>NaN</td>\n",
       "      <td>Q4</td>\n",
       "      <td>6098000000</td>\n",
       "      <td>3910000000</td>\n",
       "      <td>2188000000</td>\n",
       "      <td>0.358806</td>\n",
       "      <td>0.0</td>\n",
       "      <td>...</td>\n",
       "      <td>130000000.0</td>\n",
       "      <td>-1.069000e+09</td>\n",
       "      <td>-0.175303</td>\n",
       "      <td>-3.43619</td>\n",
       "      <td>-3.43619</td>\n",
       "      <td>311100000</td>\n",
       "      <td>311100000</td>\n",
       "      <td>NaN</td>\n",
       "      <td>NaN</td>\n",
       "      <td>2004-03-01 00:00:00.000</td>\n",
       "    </tr>\n",
       "    <tr>\n",
       "      <th>2005-12-31</th>\n",
       "      <td>0</td>\n",
       "      <td>JCP</td>\n",
       "      <td>2005-04-08</td>\n",
       "      <td>2005-04-08 09:35:45</td>\n",
       "      <td>Q4</td>\n",
       "      <td>5955000000</td>\n",
       "      <td>3794000000</td>\n",
       "      <td>2161000000</td>\n",
       "      <td>0.362888</td>\n",
       "      <td>0.0</td>\n",
       "      <td>...</td>\n",
       "      <td>170000000.0</td>\n",
       "      <td>3.330000e+08</td>\n",
       "      <td>0.055919</td>\n",
       "      <td>1.16883</td>\n",
       "      <td>1.16883</td>\n",
       "      <td>284900000</td>\n",
       "      <td>284900000</td>\n",
       "      <td>https://www.sec.gov/Archives/edgar/data/116612...</td>\n",
       "      <td>https://www.sec.gov/Archives/edgar/data/116612...</td>\n",
       "      <td>2005-03-01 00:00:00.000</td>\n",
       "    </tr>\n",
       "    <tr>\n",
       "      <th>2006-12-31</th>\n",
       "      <td>0</td>\n",
       "      <td>JCP</td>\n",
       "      <td>2006-04-06</td>\n",
       "      <td>2006-04-06 15:47:31</td>\n",
       "      <td>Q4</td>\n",
       "      <td>6203000000</td>\n",
       "      <td>3957000000</td>\n",
       "      <td>2246000000</td>\n",
       "      <td>0.362083</td>\n",
       "      <td>0.0</td>\n",
       "      <td>...</td>\n",
       "      <td>179000000.0</td>\n",
       "      <td>5.510000e+08</td>\n",
       "      <td>0.088828</td>\n",
       "      <td>2.34568</td>\n",
       "      <td>2.34568</td>\n",
       "      <td>234900000</td>\n",
       "      <td>234900000</td>\n",
       "      <td>https://www.sec.gov/Archives/edgar/data/116612...</td>\n",
       "      <td>https://www.sec.gov/Archives/edgar/data/116612...</td>\n",
       "      <td>2006-03-01 00:00:00.000</td>\n",
       "    </tr>\n",
       "    <tr>\n",
       "      <th>2007-12-31</th>\n",
       "      <td>0</td>\n",
       "      <td>JCP</td>\n",
       "      <td>2007-04-04 00:00:00</td>\n",
       "      <td>2007-04-04 15:41:57</td>\n",
       "      <td>Q4</td>\n",
       "      <td>6664000000</td>\n",
       "      <td>4129000000</td>\n",
       "      <td>2535000000</td>\n",
       "      <td>0.380402</td>\n",
       "      <td>0.0</td>\n",
       "      <td>...</td>\n",
       "      <td>271000000.0</td>\n",
       "      <td>4.770000e+08</td>\n",
       "      <td>0.071579</td>\n",
       "      <td>2.08844</td>\n",
       "      <td>2.08844</td>\n",
       "      <td>228400000</td>\n",
       "      <td>228400000</td>\n",
       "      <td>https://www.sec.gov/Archives/edgar/data/116612...</td>\n",
       "      <td>https://www.sec.gov/Archives/edgar/data/116612...</td>\n",
       "      <td>2007-03-01 00:00:00.000</td>\n",
       "    </tr>\n",
       "    <tr>\n",
       "      <th>2008-12-31</th>\n",
       "      <td>0</td>\n",
       "      <td>JCP</td>\n",
       "      <td>2008-04-01 00:00:00</td>\n",
       "      <td>2008-04-01 16:37:42</td>\n",
       "      <td>Q4</td>\n",
       "      <td>6390000000</td>\n",
       "      <td>4079000000</td>\n",
       "      <td>2311000000</td>\n",
       "      <td>0.361659</td>\n",
       "      <td>0.0</td>\n",
       "      <td>...</td>\n",
       "      <td>255000000.0</td>\n",
       "      <td>4.300000e+08</td>\n",
       "      <td>0.067293</td>\n",
       "      <td>1.92912</td>\n",
       "      <td>1.92912</td>\n",
       "      <td>222900000</td>\n",
       "      <td>222900000</td>\n",
       "      <td>https://www.sec.gov/Archives/edgar/data/116612...</td>\n",
       "      <td>https://www.sec.gov/Archives/edgar/data/116612...</td>\n",
       "      <td>2008-03-01 00:00:00.000</td>\n",
       "    </tr>\n",
       "    <tr>\n",
       "      <th>2009-12-31</th>\n",
       "      <td>0</td>\n",
       "      <td>JCP</td>\n",
       "      <td>2009-03-31 00:00:00</td>\n",
       "      <td>2009-03-31 16:40:00</td>\n",
       "      <td>Q4</td>\n",
       "      <td>5759000000</td>\n",
       "      <td>3764000000</td>\n",
       "      <td>1995000000</td>\n",
       "      <td>0.346414</td>\n",
       "      <td>0.0</td>\n",
       "      <td>...</td>\n",
       "      <td>120000000.0</td>\n",
       "      <td>2.110000e+08</td>\n",
       "      <td>0.036638</td>\n",
       "      <td>0.94789</td>\n",
       "      <td>0.94789</td>\n",
       "      <td>222600000</td>\n",
       "      <td>222600000</td>\n",
       "      <td>https://www.sec.gov/Archives/edgar/data/116612...</td>\n",
       "      <td>https://www.sec.gov/Archives/edgar/data/116612...</td>\n",
       "      <td>2009-03-01 00:00:00.000</td>\n",
       "    </tr>\n",
       "    <tr>\n",
       "      <th>2010-12-31</th>\n",
       "      <td>0</td>\n",
       "      <td>JCP</td>\n",
       "      <td>2010-03-30 00:00:00</td>\n",
       "      <td>2010-03-30 16:21:58</td>\n",
       "      <td>Q4</td>\n",
       "      <td>5550000000</td>\n",
       "      <td>3430000000</td>\n",
       "      <td>2120000000</td>\n",
       "      <td>0.381982</td>\n",
       "      <td>0.0</td>\n",
       "      <td>...</td>\n",
       "      <td>120000000.0</td>\n",
       "      <td>2.000000e+08</td>\n",
       "      <td>0.036036</td>\n",
       "      <td>0.84282</td>\n",
       "      <td>0.84282</td>\n",
       "      <td>237300000</td>\n",
       "      <td>237300000</td>\n",
       "      <td>https://www.sec.gov/Archives/edgar/data/116612...</td>\n",
       "      <td>https://www.sec.gov/Archives/edgar/data/116612...</td>\n",
       "      <td>2010-03-01 00:00:00.000</td>\n",
       "    </tr>\n",
       "    <tr>\n",
       "      <th>2011-12-31</th>\n",
       "      <td>0</td>\n",
       "      <td>JCP</td>\n",
       "      <td>2011-03-29</td>\n",
       "      <td>2011-03-29 17:04:09</td>\n",
       "      <td>Q4</td>\n",
       "      <td>5703000000</td>\n",
       "      <td>3560000000</td>\n",
       "      <td>2143000000</td>\n",
       "      <td>0.375767</td>\n",
       "      <td>0.0</td>\n",
       "      <td>...</td>\n",
       "      <td>140000000.0</td>\n",
       "      <td>2.710000e+08</td>\n",
       "      <td>0.047519</td>\n",
       "      <td>1.13389</td>\n",
       "      <td>1.13389</td>\n",
       "      <td>239000000</td>\n",
       "      <td>239000000</td>\n",
       "      <td>https://www.sec.gov/Archives/edgar/data/116612...</td>\n",
       "      <td>https://www.sec.gov/Archives/edgar/data/116612...</td>\n",
       "      <td>2011-03-01 00:00:00.000</td>\n",
       "    </tr>\n",
       "    <tr>\n",
       "      <th>2012-12-31</th>\n",
       "      <td>0</td>\n",
       "      <td>JCP</td>\n",
       "      <td>2012-03-28 00:00:00</td>\n",
       "      <td>2012-03-27 19:58:29</td>\n",
       "      <td>Q4</td>\n",
       "      <td>5425000000</td>\n",
       "      <td>3788000000</td>\n",
       "      <td>1637000000</td>\n",
       "      <td>0.301751</td>\n",
       "      <td>0.0</td>\n",
       "      <td>...</td>\n",
       "      <td>-43000000.0</td>\n",
       "      <td>-8.700000e+07</td>\n",
       "      <td>-0.016037</td>\n",
       "      <td>-0.40578</td>\n",
       "      <td>-0.40578</td>\n",
       "      <td>214400000</td>\n",
       "      <td>214400000</td>\n",
       "      <td>https://www.sec.gov/Archives/edgar/data/116612...</td>\n",
       "      <td>https://www.sec.gov/Archives/edgar/data/116612...</td>\n",
       "      <td>2012-03-01 00:00:00.000</td>\n",
       "    </tr>\n",
       "    <tr>\n",
       "      <th>2013-12-31</th>\n",
       "      <td>0</td>\n",
       "      <td>JCP</td>\n",
       "      <td>2013-03-20 00:00:00</td>\n",
       "      <td>2013-03-20 17:11:32</td>\n",
       "      <td>Q4</td>\n",
       "      <td>3884000000</td>\n",
       "      <td>2960000000</td>\n",
       "      <td>924000000</td>\n",
       "      <td>0.237899</td>\n",
       "      <td>0.0</td>\n",
       "      <td>...</td>\n",
       "      <td>-250000000.0</td>\n",
       "      <td>-5.520000e+08</td>\n",
       "      <td>-0.142122</td>\n",
       "      <td>-2.51481</td>\n",
       "      <td>-2.51481</td>\n",
       "      <td>219500000</td>\n",
       "      <td>219500000</td>\n",
       "      <td>https://www.sec.gov/Archives/edgar/data/116612...</td>\n",
       "      <td>https://www.sec.gov/Archives/edgar/data/116612...</td>\n",
       "      <td>2013-03-01 00:00:00.000</td>\n",
       "    </tr>\n",
       "    <tr>\n",
       "      <th>2014-12-31</th>\n",
       "      <td>0</td>\n",
       "      <td>JCP</td>\n",
       "      <td>2014-03-21</td>\n",
       "      <td>2014-03-21 16:03:55</td>\n",
       "      <td>Q4</td>\n",
       "      <td>3782000000</td>\n",
       "      <td>2708000000</td>\n",
       "      <td>1074000000</td>\n",
       "      <td>0.283977</td>\n",
       "      <td>0.0</td>\n",
       "      <td>...</td>\n",
       "      <td>-270000000.0</td>\n",
       "      <td>3.500000e+07</td>\n",
       "      <td>0.009254</td>\n",
       "      <td>0.11483</td>\n",
       "      <td>0.11483</td>\n",
       "      <td>304800000</td>\n",
       "      <td>304800000</td>\n",
       "      <td>https://www.sec.gov/Archives/edgar/data/116612...</td>\n",
       "      <td>https://www.sec.gov/Archives/edgar/data/116612...</td>\n",
       "      <td>2014-03-01 00:00:00.000</td>\n",
       "    </tr>\n",
       "    <tr>\n",
       "      <th>2015-12-31</th>\n",
       "      <td>0</td>\n",
       "      <td>JCP</td>\n",
       "      <td>2015-03-23</td>\n",
       "      <td>2015-03-23 16:16:27</td>\n",
       "      <td>Q4</td>\n",
       "      <td>3893000000</td>\n",
       "      <td>2579000000</td>\n",
       "      <td>1314000000</td>\n",
       "      <td>0.337529</td>\n",
       "      <td>0.0</td>\n",
       "      <td>...</td>\n",
       "      <td>22000000.0</td>\n",
       "      <td>-5.900000e+07</td>\n",
       "      <td>-0.015155</td>\n",
       "      <td>-0.19313</td>\n",
       "      <td>-0.19313</td>\n",
       "      <td>305500000</td>\n",
       "      <td>305500000</td>\n",
       "      <td>https://www.sec.gov/Archives/edgar/data/116612...</td>\n",
       "      <td>https://www.sec.gov/Archives/edgar/data/116612...</td>\n",
       "      <td>2015-03-01 00:00:00.000</td>\n",
       "    </tr>\n",
       "    <tr>\n",
       "      <th>2016-12-31</th>\n",
       "      <td>0</td>\n",
       "      <td>JCP</td>\n",
       "      <td>2016-03-16 00:00:00</td>\n",
       "      <td>2016-03-16 16:26:45</td>\n",
       "      <td>Q4</td>\n",
       "      <td>3996000000</td>\n",
       "      <td>2633000000</td>\n",
       "      <td>1363000000</td>\n",
       "      <td>0.341091</td>\n",
       "      <td>0.0</td>\n",
       "      <td>...</td>\n",
       "      <td>28000000.0</td>\n",
       "      <td>-7.100000e+07</td>\n",
       "      <td>-0.017768</td>\n",
       "      <td>-0.23187</td>\n",
       "      <td>-0.23187</td>\n",
       "      <td>306200000</td>\n",
       "      <td>306200000</td>\n",
       "      <td>https://www.sec.gov/Archives/edgar/data/116612...</td>\n",
       "      <td>https://www.sec.gov/Archives/edgar/data/116612...</td>\n",
       "      <td>2016-03-01 00:00:00.000</td>\n",
       "    </tr>\n",
       "    <tr>\n",
       "      <th>2017-12-31</th>\n",
       "      <td>0</td>\n",
       "      <td>JCP</td>\n",
       "      <td>2017-03-24 00:00:00</td>\n",
       "      <td>2017-03-24 16:36:52</td>\n",
       "      <td>Q4</td>\n",
       "      <td>3961000000</td>\n",
       "      <td>2649000000</td>\n",
       "      <td>1312000000</td>\n",
       "      <td>0.331229</td>\n",
       "      <td>0.0</td>\n",
       "      <td>...</td>\n",
       "      <td>-6000000.0</td>\n",
       "      <td>1.920000e+08</td>\n",
       "      <td>0.048473</td>\n",
       "      <td>0.58430</td>\n",
       "      <td>0.58430</td>\n",
       "      <td>328600000</td>\n",
       "      <td>328600000</td>\n",
       "      <td>https://www.sec.gov/Archives/edgar/data/116612...</td>\n",
       "      <td>https://www.sec.gov/Archives/edgar/data/116612...</td>\n",
       "      <td>2017-03-01 00:00:00.000</td>\n",
       "    </tr>\n",
       "    <tr>\n",
       "      <th>2018-12-31</th>\n",
       "      <td>0</td>\n",
       "      <td>JCP</td>\n",
       "      <td>2018-03-19 00:00:00</td>\n",
       "      <td>2018-03-19 16:25:34</td>\n",
       "      <td>Q4</td>\n",
       "      <td>4135000000</td>\n",
       "      <td>2692000000</td>\n",
       "      <td>1443000000</td>\n",
       "      <td>0.348972</td>\n",
       "      <td>0.0</td>\n",
       "      <td>...</td>\n",
       "      <td>-11000000.0</td>\n",
       "      <td>2.420000e+08</td>\n",
       "      <td>0.058525</td>\n",
       "      <td>0.77415</td>\n",
       "      <td>0.77415</td>\n",
       "      <td>312600000</td>\n",
       "      <td>312600000</td>\n",
       "      <td>https://www.sec.gov/Archives/edgar/data/116612...</td>\n",
       "      <td>https://www.sec.gov/Archives/edgar/data/116612...</td>\n",
       "      <td>2018-03-01 00:00:00.000</td>\n",
       "    </tr>\n",
       "    <tr>\n",
       "      <th>2019-12-31</th>\n",
       "      <td>0</td>\n",
       "      <td>JCP</td>\n",
       "      <td>2019-03-19 00:00:00</td>\n",
       "      <td>2019-03-19 16:59:02</td>\n",
       "      <td>Q4</td>\n",
       "      <td>3786000000</td>\n",
       "      <td>2519000000</td>\n",
       "      <td>1267000000</td>\n",
       "      <td>0.334654</td>\n",
       "      <td>0.0</td>\n",
       "      <td>...</td>\n",
       "      <td>-12000000.0</td>\n",
       "      <td>7.500000e+07</td>\n",
       "      <td>0.019810</td>\n",
       "      <td>0.23667</td>\n",
       "      <td>0.23667</td>\n",
       "      <td>316900000</td>\n",
       "      <td>316900000</td>\n",
       "      <td>https://www.sec.gov/Archives/edgar/data/116612...</td>\n",
       "      <td>https://www.sec.gov/Archives/edgar/data/116612...</td>\n",
       "      <td>2019-03-01 00:00:00.000</td>\n",
       "    </tr>\n",
       "    <tr>\n",
       "      <th>2020-12-31</th>\n",
       "      <td>0</td>\n",
       "      <td>JCP</td>\n",
       "      <td>2020-03-20 00:00:00</td>\n",
       "      <td>2020-03-20 08:08:49</td>\n",
       "      <td>Q4</td>\n",
       "      <td>3493000000</td>\n",
       "      <td>2257000000</td>\n",
       "      <td>1236000000</td>\n",
       "      <td>0.353851</td>\n",
       "      <td>0.0</td>\n",
       "      <td>...</td>\n",
       "      <td>-2000000.0</td>\n",
       "      <td>2.700000e+07</td>\n",
       "      <td>0.007730</td>\n",
       "      <td>0.08362</td>\n",
       "      <td>0.08362</td>\n",
       "      <td>322900000</td>\n",
       "      <td>322900000</td>\n",
       "      <td>https://www.sec.gov/Archives/edgar/data/116612...</td>\n",
       "      <td>https://www.sec.gov/Archives/edgar/data/116612...</td>\n",
       "      <td>2020-03-01 00:00:00.000</td>\n",
       "    </tr>\n",
       "  </tbody>\n",
       "</table>\n",
       "<p>19 rows × 34 columns</p>\n",
       "</div>"
      ],
      "text/plain": [
       "            Unnamed: 0 symbol          fillingDate         acceptedDate  \\\n",
       "date                                                                      \n",
       "2002-12-31           0    JCP  2002-06-11 00:00:00  2002-06-11 13:11:33   \n",
       "2003-12-31           0    JCP  2003-04-10 00:00:00  2003-04-10 11:16:32   \n",
       "2004-12-31           0    JCP                  NaN                  NaN   \n",
       "2005-12-31           0    JCP           2005-04-08  2005-04-08 09:35:45   \n",
       "2006-12-31           0    JCP           2006-04-06  2006-04-06 15:47:31   \n",
       "2007-12-31           0    JCP  2007-04-04 00:00:00  2007-04-04 15:41:57   \n",
       "2008-12-31           0    JCP  2008-04-01 00:00:00  2008-04-01 16:37:42   \n",
       "2009-12-31           0    JCP  2009-03-31 00:00:00  2009-03-31 16:40:00   \n",
       "2010-12-31           0    JCP  2010-03-30 00:00:00  2010-03-30 16:21:58   \n",
       "2011-12-31           0    JCP           2011-03-29  2011-03-29 17:04:09   \n",
       "2012-12-31           0    JCP  2012-03-28 00:00:00  2012-03-27 19:58:29   \n",
       "2013-12-31           0    JCP  2013-03-20 00:00:00  2013-03-20 17:11:32   \n",
       "2014-12-31           0    JCP           2014-03-21  2014-03-21 16:03:55   \n",
       "2015-12-31           0    JCP           2015-03-23  2015-03-23 16:16:27   \n",
       "2016-12-31           0    JCP  2016-03-16 00:00:00  2016-03-16 16:26:45   \n",
       "2017-12-31           0    JCP  2017-03-24 00:00:00  2017-03-24 16:36:52   \n",
       "2018-12-31           0    JCP  2018-03-19 00:00:00  2018-03-19 16:25:34   \n",
       "2019-12-31           0    JCP  2019-03-19 00:00:00  2019-03-19 16:59:02   \n",
       "2020-12-31           0    JCP  2020-03-20 00:00:00  2020-03-20 08:08:49   \n",
       "\n",
       "           period     revenue  costOfRevenue  grossProfit  grossProfitRatio  \\\n",
       "date                                                                          \n",
       "2002-12-31     Q1  7728000000     5360000000   2368000000          0.306418   \n",
       "2003-12-31     Q4  9549000000     6665000000   2884000000          0.302021   \n",
       "2004-12-31     Q4  6098000000     3910000000   2188000000          0.358806   \n",
       "2005-12-31     Q4  5955000000     3794000000   2161000000          0.362888   \n",
       "2006-12-31     Q4  6203000000     3957000000   2246000000          0.362083   \n",
       "2007-12-31     Q4  6664000000     4129000000   2535000000          0.380402   \n",
       "2008-12-31     Q4  6390000000     4079000000   2311000000          0.361659   \n",
       "2009-12-31     Q4  5759000000     3764000000   1995000000          0.346414   \n",
       "2010-12-31     Q4  5550000000     3430000000   2120000000          0.381982   \n",
       "2011-12-31     Q4  5703000000     3560000000   2143000000          0.375767   \n",
       "2012-12-31     Q4  5425000000     3788000000   1637000000          0.301751   \n",
       "2013-12-31     Q4  3884000000     2960000000    924000000          0.237899   \n",
       "2014-12-31     Q4  3782000000     2708000000   1074000000          0.283977   \n",
       "2015-12-31     Q4  3893000000     2579000000   1314000000          0.337529   \n",
       "2016-12-31     Q4  3996000000     2633000000   1363000000          0.341091   \n",
       "2017-12-31     Q4  3961000000     2649000000   1312000000          0.331229   \n",
       "2018-12-31     Q4  4135000000     2692000000   1443000000          0.348972   \n",
       "2019-12-31     Q4  3786000000     2519000000   1267000000          0.334654   \n",
       "2020-12-31     Q4  3493000000     2257000000   1236000000          0.353851   \n",
       "\n",
       "            researchAndDevelopmentExpenses  ...  incomeTaxExpense  \\\n",
       "date                                        ...                     \n",
       "2002-12-31                             0.0  ...        49000000.0   \n",
       "2003-12-31                             0.0  ...       116000000.0   \n",
       "2004-12-31                             0.0  ...       130000000.0   \n",
       "2005-12-31                             0.0  ...       170000000.0   \n",
       "2006-12-31                             0.0  ...       179000000.0   \n",
       "2007-12-31                             0.0  ...       271000000.0   \n",
       "2008-12-31                             0.0  ...       255000000.0   \n",
       "2009-12-31                             0.0  ...       120000000.0   \n",
       "2010-12-31                             0.0  ...       120000000.0   \n",
       "2011-12-31                             0.0  ...       140000000.0   \n",
       "2012-12-31                             0.0  ...       -43000000.0   \n",
       "2013-12-31                             0.0  ...      -250000000.0   \n",
       "2014-12-31                             0.0  ...      -270000000.0   \n",
       "2015-12-31                             0.0  ...        22000000.0   \n",
       "2016-12-31                             0.0  ...        28000000.0   \n",
       "2017-12-31                             0.0  ...        -6000000.0   \n",
       "2018-12-31                             0.0  ...       -11000000.0   \n",
       "2019-12-31                             0.0  ...       -12000000.0   \n",
       "2020-12-31                             0.0  ...        -2000000.0   \n",
       "\n",
       "               netIncome  netIncomeRatio      eps  epsdiluted  \\\n",
       "date                                                            \n",
       "2002-12-31  8.600000e+07        0.011128  0.29452     0.29452   \n",
       "2003-12-31  2.020000e+08        0.021154  0.66667     0.66667   \n",
       "2004-12-31 -1.069000e+09       -0.175303 -3.43619    -3.43619   \n",
       "2005-12-31  3.330000e+08        0.055919  1.16883     1.16883   \n",
       "2006-12-31  5.510000e+08        0.088828  2.34568     2.34568   \n",
       "2007-12-31  4.770000e+08        0.071579  2.08844     2.08844   \n",
       "2008-12-31  4.300000e+08        0.067293  1.92912     1.92912   \n",
       "2009-12-31  2.110000e+08        0.036638  0.94789     0.94789   \n",
       "2010-12-31  2.000000e+08        0.036036  0.84282     0.84282   \n",
       "2011-12-31  2.710000e+08        0.047519  1.13389     1.13389   \n",
       "2012-12-31 -8.700000e+07       -0.016037 -0.40578    -0.40578   \n",
       "2013-12-31 -5.520000e+08       -0.142122 -2.51481    -2.51481   \n",
       "2014-12-31  3.500000e+07        0.009254  0.11483     0.11483   \n",
       "2015-12-31 -5.900000e+07       -0.015155 -0.19313    -0.19313   \n",
       "2016-12-31 -7.100000e+07       -0.017768 -0.23187    -0.23187   \n",
       "2017-12-31  1.920000e+08        0.048473  0.58430     0.58430   \n",
       "2018-12-31  2.420000e+08        0.058525  0.77415     0.77415   \n",
       "2019-12-31  7.500000e+07        0.019810  0.23667     0.23667   \n",
       "2020-12-31  2.700000e+07        0.007730  0.08362     0.08362   \n",
       "\n",
       "            weightedAverageShsOut  weightedAverageShsOutDil  \\\n",
       "date                                                          \n",
       "2002-12-31              292000000                 292000000   \n",
       "2003-12-31              303000000                 303000000   \n",
       "2004-12-31              311100000                 311100000   \n",
       "2005-12-31              284900000                 284900000   \n",
       "2006-12-31              234900000                 234900000   \n",
       "2007-12-31              228400000                 228400000   \n",
       "2008-12-31              222900000                 222900000   \n",
       "2009-12-31              222600000                 222600000   \n",
       "2010-12-31              237300000                 237300000   \n",
       "2011-12-31              239000000                 239000000   \n",
       "2012-12-31              214400000                 214400000   \n",
       "2013-12-31              219500000                 219500000   \n",
       "2014-12-31              304800000                 304800000   \n",
       "2015-12-31              305500000                 305500000   \n",
       "2016-12-31              306200000                 306200000   \n",
       "2017-12-31              328600000                 328600000   \n",
       "2018-12-31              312600000                 312600000   \n",
       "2019-12-31              316900000                 316900000   \n",
       "2020-12-31              322900000                 322900000   \n",
       "\n",
       "                                                         link  \\\n",
       "date                                                            \n",
       "2002-12-31  https://www.sec.gov/Archives/edgar/data/116612...   \n",
       "2003-12-31  https://www.sec.gov/Archives/edgar/data/116612...   \n",
       "2004-12-31                                                NaN   \n",
       "2005-12-31  https://www.sec.gov/Archives/edgar/data/116612...   \n",
       "2006-12-31  https://www.sec.gov/Archives/edgar/data/116612...   \n",
       "2007-12-31  https://www.sec.gov/Archives/edgar/data/116612...   \n",
       "2008-12-31  https://www.sec.gov/Archives/edgar/data/116612...   \n",
       "2009-12-31  https://www.sec.gov/Archives/edgar/data/116612...   \n",
       "2010-12-31  https://www.sec.gov/Archives/edgar/data/116612...   \n",
       "2011-12-31  https://www.sec.gov/Archives/edgar/data/116612...   \n",
       "2012-12-31  https://www.sec.gov/Archives/edgar/data/116612...   \n",
       "2013-12-31  https://www.sec.gov/Archives/edgar/data/116612...   \n",
       "2014-12-31  https://www.sec.gov/Archives/edgar/data/116612...   \n",
       "2015-12-31  https://www.sec.gov/Archives/edgar/data/116612...   \n",
       "2016-12-31  https://www.sec.gov/Archives/edgar/data/116612...   \n",
       "2017-12-31  https://www.sec.gov/Archives/edgar/data/116612...   \n",
       "2018-12-31  https://www.sec.gov/Archives/edgar/data/116612...   \n",
       "2019-12-31  https://www.sec.gov/Archives/edgar/data/116612...   \n",
       "2020-12-31  https://www.sec.gov/Archives/edgar/data/116612...   \n",
       "\n",
       "                                                    finalLink  \\\n",
       "date                                                            \n",
       "2002-12-31  https://www.sec.gov/Archives/edgar/data/116612...   \n",
       "2003-12-31  https://www.sec.gov/Archives/edgar/data/116612...   \n",
       "2004-12-31                                                NaN   \n",
       "2005-12-31  https://www.sec.gov/Archives/edgar/data/116612...   \n",
       "2006-12-31  https://www.sec.gov/Archives/edgar/data/116612...   \n",
       "2007-12-31  https://www.sec.gov/Archives/edgar/data/116612...   \n",
       "2008-12-31  https://www.sec.gov/Archives/edgar/data/116612...   \n",
       "2009-12-31  https://www.sec.gov/Archives/edgar/data/116612...   \n",
       "2010-12-31  https://www.sec.gov/Archives/edgar/data/116612...   \n",
       "2011-12-31  https://www.sec.gov/Archives/edgar/data/116612...   \n",
       "2012-12-31  https://www.sec.gov/Archives/edgar/data/116612...   \n",
       "2013-12-31  https://www.sec.gov/Archives/edgar/data/116612...   \n",
       "2014-12-31  https://www.sec.gov/Archives/edgar/data/116612...   \n",
       "2015-12-31  https://www.sec.gov/Archives/edgar/data/116612...   \n",
       "2016-12-31  https://www.sec.gov/Archives/edgar/data/116612...   \n",
       "2017-12-31  https://www.sec.gov/Archives/edgar/data/116612...   \n",
       "2018-12-31  https://www.sec.gov/Archives/edgar/data/116612...   \n",
       "2019-12-31  https://www.sec.gov/Archives/edgar/data/116612...   \n",
       "2020-12-31  https://www.sec.gov/Archives/edgar/data/116612...   \n",
       "\n",
       "                               date  \n",
       "date                                 \n",
       "2002-12-31  2002-06-01 00:00:00.000  \n",
       "2003-12-31  2003-03-01 00:00:00.000  \n",
       "2004-12-31  2004-03-01 00:00:00.000  \n",
       "2005-12-31  2005-03-01 00:00:00.000  \n",
       "2006-12-31  2006-03-01 00:00:00.000  \n",
       "2007-12-31  2007-03-01 00:00:00.000  \n",
       "2008-12-31  2008-03-01 00:00:00.000  \n",
       "2009-12-31  2009-03-01 00:00:00.000  \n",
       "2010-12-31  2010-03-01 00:00:00.000  \n",
       "2011-12-31  2011-03-01 00:00:00.000  \n",
       "2012-12-31  2012-03-01 00:00:00.000  \n",
       "2013-12-31  2013-03-01 00:00:00.000  \n",
       "2014-12-31  2014-03-01 00:00:00.000  \n",
       "2015-12-31  2015-03-01 00:00:00.000  \n",
       "2016-12-31  2016-03-01 00:00:00.000  \n",
       "2017-12-31  2017-03-01 00:00:00.000  \n",
       "2018-12-31  2018-03-01 00:00:00.000  \n",
       "2019-12-31  2019-03-01 00:00:00.000  \n",
       "2020-12-31  2020-03-01 00:00:00.000  \n",
       "\n",
       "[19 rows x 34 columns]"
      ]
     },
     "execution_count": 303,
     "metadata": {},
     "output_type": "execute_result"
    }
   ],
   "source": [
    "df['date'] = pd.to_datetime(df['date'])\n",
    "df = df.set_index('date')[::-1]\n",
    "df['date'] = df.to_period(\"Q\").index\n",
    "df['date'] = df['date'].dt.strftime('%Y-%m').add('-01 00:00:00.000')\n",
    "df.groupby(pd.Grouper(freq='Y')).nth(0)"
   ]
  },
  {
   "cell_type": "code",
   "execution_count": null,
   "metadata": {},
   "outputs": [],
   "source": []
  },
  {
   "cell_type": "code",
   "execution_count": 308,
   "metadata": {
    "ExecuteTime": {
     "end_time": "2020-12-22T16:29:46.390952Z",
     "start_time": "2020-12-22T16:29:46.369956Z"
    },
    "scrolled": true
   },
   "outputs": [
    {
     "data": {
      "text/plain": [
       "<bound method DataFrame.sort_values of       Unnamed: 0      revenue  costOfRevenue  grossProfit  grossProfitRatio  \\\n",
       "Year                                                                          \n",
       "2002           0  22798000000    15893000000   6905000000          0.908160   \n",
       "2003           0  21237000000    13921000000   7316000000          1.438344   \n",
       "2004           0  18239000000    11420000000   6819000000          1.500643   \n",
       "2005           0  18533000000    11427000000   7106000000          1.540324   \n",
       "2006           0  19442000000    11906000000   7536000000          1.558850   \n",
       "2007           0  24484000000    14782000000   9702000000          1.989776   \n",
       "2008           0  19117000000    11886000000   7231000000          1.521887   \n",
       "2009           0  17765000000    10980000000   6785000000          1.542998   \n",
       "2010           0  17606000000    10669000000   6937000000          1.581263   \n",
       "2011           0  17538000000    10814000000   6724000000          1.537095   \n",
       "2012           0  14526000000     9747000000   4779000000          1.335498   \n",
       "2013           0  11961000000     8619000000   3342000000          1.136299   \n",
       "2014           0  12146000000     8125000000   4021000000          1.341200   \n",
       "2015           0  12522000000     8020000000   4502000000          1.445822   \n",
       "2016           0  12582000000     8055000000   4527000000          1.446446   \n",
       "2017           0  12699000000     8165000000   4534000000          1.437747   \n",
       "2018           0  12368000000     8043000000   4325000000          1.399245   \n",
       "2019           0  11460000000     7275000000   4185000000          1.475096   \n",
       "2020           0  -4751000000    -3024000000  -1727000000          0.713264   \n",
       "\n",
       "      researchAndDevelopmentExpenses  generalAndAdministrativeExpenses  \\\n",
       "Year                                                                     \n",
       "2002                             0.0                        6290000000   \n",
       "2003                             0.0                        6465000000   \n",
       "2004                             0.0                        5449000000   \n",
       "2005                             0.0                        5257000000   \n",
       "2006                             0.0                        5370000000   \n",
       "2007                             0.0                        6893000000   \n",
       "2008                             0.0                        5348000000   \n",
       "2009                             0.0                        5625000000   \n",
       "2010                             0.0                        5675000000   \n",
       "2011                             0.0                        5383000000   \n",
       "2012                             0.0                        4840000000   \n",
       "2013                             0.0                        4607000000   \n",
       "2014                             0.0                        4004000000   \n",
       "2015                             0.0                        3795000000   \n",
       "2016                             0.0                        3707000000   \n",
       "2017                             0.0                        3732000000   \n",
       "2018                             0.0                        3641000000   \n",
       "2019                             0.0                        3587000000   \n",
       "2020                             0.0                       -1538000000   \n",
       "\n",
       "      sellingAndMarketingExpenses  otherExpenses  operatingExpenses  ...  \\\n",
       "Year                                                                 ...   \n",
       "2002                          0.0   0.000000e+00         6639000000  ...   \n",
       "2003                          0.0   0.000000e+00         6835000000  ...   \n",
       "2004                          0.0   0.000000e+00         5925000000  ...   \n",
       "2005                          0.0   0.000000e+00         5797000000  ...   \n",
       "2006                          0.0   0.000000e+00         5843000000  ...   \n",
       "2007                          0.0   7.010000e+08         7518000000  ...   \n",
       "2008                          0.0   4.400000e+08         5799000000  ...   \n",
       "2009                          0.0   6.890000e+08         6116000000  ...   \n",
       "2010                 -379183000.0   1.422000e+09         6180000000  ...   \n",
       "2011                          0.0   9.650000e+08         6195000000  ...   \n",
       "2012                          0.0   7.770000e+08         5417000000  ...   \n",
       "2013                          0.0   1.050000e+09         5483000000  ...   \n",
       "2014                          0.0   5.650000e+08         4564000000  ...   \n",
       "2015                          0.0   7.520000e+08         4510000000  ...   \n",
       "2016                          0.0   7.620000e+08         4377000000  ...   \n",
       "2017                          0.0   1.110000e+08         4326000000  ...   \n",
       "2018                          0.0   8.743000e+09         4236000000  ...   \n",
       "2019                          0.0   8.437000e+09         4167000000  ...   \n",
       "2020                          0.0   9.700000e+07        -8938000000  ...   \n",
       "\n",
       "      totalOtherIncomeExpensesNet  incomeBeforeTax  incomeBeforeTaxRatio  \\\n",
       "Year                                                                       \n",
       "2002                  -20000000.0     2.660000e+08              0.034004   \n",
       "2003                   -2000000.0     4.810000e+08              0.071793   \n",
       "2004                  -23000000.0     8.940000e+08              0.187375   \n",
       "2005                  -16000000.0     1.309000e+09              0.275243   \n",
       "2006                  -43000000.0     1.693000e+09              0.340272   \n",
       "2007                  -44000000.0     2.152000e+09              0.429184   \n",
       "2008                  -15000000.0     1.268000e+09              0.244596   \n",
       "2009                          0.0     4.130000e+08              0.078061   \n",
       "2010                  -20000000.0     4.990000e+08              0.102296   \n",
       "2011                          0.0     3.010000e+08              0.045707   \n",
       "2012                 -412000000.0    -8.640000e+08             -0.265266   \n",
       "2013                  -94000000.0    -2.453000e+09             -0.820811   \n",
       "2014                 -198000000.0    -9.460000e+08             -0.316932   \n",
       "2015                   48000000.0    -4.110000e+08             -0.139596   \n",
       "2016                    8000000.0    -2.270000e+08             -0.075186   \n",
       "2017                  -91000000.0    -2.140000e+08             -0.093202   \n",
       "2018                   49000000.0    -1.780000e+08             -0.083962   \n",
       "2019                   53000000.0    -2.270000e+08             -0.097261   \n",
       "2020                   -4000000.0    -7.210000e+08              0.097647   \n",
       "\n",
       "      incomeTaxExpense     netIncome  netIncomeRatio      eps  epsdiluted  \\\n",
       "Year                                                                        \n",
       "2002        97000000.0  2.030000e+08        0.025919  0.69336     0.69336   \n",
       "2003       168000000.0  3.430000e+08        0.056059  1.07882     1.07882   \n",
       "2004       308000000.0 -8.780000e+08       -0.130783 -2.81644    -2.81644   \n",
       "2005       458000000.0  8.700000e+08        0.182837  3.23067     3.23067   \n",
       "2006       566000000.0  1.227000e+09        0.240857  5.25356     5.25356   \n",
       "2007       783000000.0  1.396000e+09        0.277644  6.15272     6.15272   \n",
       "2008       478000000.0  7.910000e+08        0.152411  3.54820     3.54820   \n",
       "2009       154000000.0  2.620000e+08        0.049282  1.16936     1.16936   \n",
       "2010       183000000.0  3.180000e+08        0.065366  1.33887     1.33887   \n",
       "2011       106000000.0  2.060000e+08        0.031458  0.80356     0.80356   \n",
       "2012      -344000000.0 -5.200000e+08       -0.158416 -2.38339    -2.38339   \n",
       "2013      -478000000.0 -1.975000e+09       -0.670206 -8.69576    -8.69576   \n",
       "2014      -269000000.0 -6.770000e+08       -0.245883 -2.21862    -2.21862   \n",
       "2015        30000000.0 -4.410000e+08       -0.148050 -1.44243    -1.44243   \n",
       "2016        35000000.0 -2.620000e+08       -0.084601 -0.85236    -0.85236   \n",
       "2017       -46000000.0 -1.680000e+08       -0.077655 -0.57531    -0.57531   \n",
       "2018       -15000000.0 -8.800000e+07       -0.061631 -0.27165    -0.27165   \n",
       "2019        -7000000.0 -2.200000e+08       -0.095992 -0.68815    -0.68815   \n",
       "2020       -72000000.0 -6.490000e+08        0.089729 -2.00151    -2.00151   \n",
       "\n",
       "      weightedAverageShsOut  weightedAverageShsOutDil  \n",
       "Year                                                   \n",
       "2002              852000000                 852000000  \n",
       "2003             1145200000                1145200000  \n",
       "2004             1213300000                1213300000  \n",
       "2005             1072900000                1072900000  \n",
       "2006              934600000                 934600000  \n",
       "2007             1132866666                1132866666  \n",
       "2008              891800000                 891800000  \n",
       "2009              917000000                 917000000  \n",
       "2010              950700000                 950700000  \n",
       "2011              899700000                 899700000  \n",
       "2012              871400000                 871400000  \n",
       "2013              911800000                 911800000  \n",
       "2014             1220300000                1220300000  \n",
       "2015             1222900000                1222900000  \n",
       "2016             1229700000                1229700000  \n",
       "2017             1260600000                1260600000  \n",
       "2018             1258500000                1258500000  \n",
       "2019             1274900000                1274900000  \n",
       "2020              647100000                 647100000  \n",
       "\n",
       "[19 rows x 27 columns]>"
      ]
     },
     "execution_count": 308,
     "metadata": {},
     "output_type": "execute_result"
    }
   ],
   "source": [
    "groupby_agg(df).sort_values"
   ]
  },
  {
   "cell_type": "code",
   "execution_count": 296,
   "metadata": {
    "ExecuteTime": {
     "end_time": "2020-12-22T15:39:07.879111Z",
     "start_time": "2020-12-22T15:39:07.848112Z"
    },
    "scrolled": true
   },
   "outputs": [
    {
     "data": {
      "text/html": [
       "<div>\n",
       "<style scoped>\n",
       "    .dataframe tbody tr th:only-of-type {\n",
       "        vertical-align: middle;\n",
       "    }\n",
       "\n",
       "    .dataframe tbody tr th {\n",
       "        vertical-align: top;\n",
       "    }\n",
       "\n",
       "    .dataframe thead th {\n",
       "        text-align: right;\n",
       "    }\n",
       "</style>\n",
       "<table border=\"1\" class=\"dataframe\">\n",
       "  <thead>\n",
       "    <tr style=\"text-align: right;\">\n",
       "      <th></th>\n",
       "      <th>Unnamed: 0</th>\n",
       "      <th>symbol</th>\n",
       "      <th>fillingDate</th>\n",
       "      <th>acceptedDate</th>\n",
       "      <th>period</th>\n",
       "      <th>revenue</th>\n",
       "      <th>costOfRevenue</th>\n",
       "      <th>grossProfit</th>\n",
       "      <th>grossProfitRatio</th>\n",
       "      <th>researchAndDevelopmentExpenses</th>\n",
       "      <th>...</th>\n",
       "      <th>netIncome</th>\n",
       "      <th>netIncomeRatio</th>\n",
       "      <th>eps</th>\n",
       "      <th>epsdiluted</th>\n",
       "      <th>weightedAverageShsOut</th>\n",
       "      <th>weightedAverageShsOutDil</th>\n",
       "      <th>link</th>\n",
       "      <th>finalLink</th>\n",
       "      <th>Year</th>\n",
       "      <th>date</th>\n",
       "    </tr>\n",
       "    <tr>\n",
       "      <th>date</th>\n",
       "      <th></th>\n",
       "      <th></th>\n",
       "      <th></th>\n",
       "      <th></th>\n",
       "      <th></th>\n",
       "      <th></th>\n",
       "      <th></th>\n",
       "      <th></th>\n",
       "      <th></th>\n",
       "      <th></th>\n",
       "      <th></th>\n",
       "      <th></th>\n",
       "      <th></th>\n",
       "      <th></th>\n",
       "      <th></th>\n",
       "      <th></th>\n",
       "      <th></th>\n",
       "      <th></th>\n",
       "      <th></th>\n",
       "      <th></th>\n",
       "      <th></th>\n",
       "    </tr>\n",
       "  </thead>\n",
       "  <tbody>\n",
       "    <tr>\n",
       "      <th>2002-12-31</th>\n",
       "      <td>0</td>\n",
       "      <td>JCP</td>\n",
       "      <td>2002-06-11 00:00:00</td>\n",
       "      <td>2002-06-11 13:11:33</td>\n",
       "      <td>Q1</td>\n",
       "      <td>7728000000</td>\n",
       "      <td>5360000000</td>\n",
       "      <td>2368000000</td>\n",
       "      <td>0.306418</td>\n",
       "      <td>0.0</td>\n",
       "      <td>...</td>\n",
       "      <td>8.600000e+07</td>\n",
       "      <td>0.011128</td>\n",
       "      <td>0.29452</td>\n",
       "      <td>0.29452</td>\n",
       "      <td>292000000</td>\n",
       "      <td>292000000</td>\n",
       "      <td>https://www.sec.gov/Archives/edgar/data/116612...</td>\n",
       "      <td>https://www.sec.gov/Archives/edgar/data/116612...</td>\n",
       "      <td>2002</td>\n",
       "      <td>2002Q2</td>\n",
       "    </tr>\n",
       "    <tr>\n",
       "      <th>2003-12-31</th>\n",
       "      <td>0</td>\n",
       "      <td>JCP</td>\n",
       "      <td>2003-04-10 00:00:00</td>\n",
       "      <td>2003-04-10 11:16:32</td>\n",
       "      <td>Q4</td>\n",
       "      <td>9549000000</td>\n",
       "      <td>6665000000</td>\n",
       "      <td>2884000000</td>\n",
       "      <td>0.302021</td>\n",
       "      <td>0.0</td>\n",
       "      <td>...</td>\n",
       "      <td>2.020000e+08</td>\n",
       "      <td>0.021154</td>\n",
       "      <td>0.66667</td>\n",
       "      <td>0.66667</td>\n",
       "      <td>303000000</td>\n",
       "      <td>303000000</td>\n",
       "      <td>https://www.sec.gov/Archives/edgar/data/116612...</td>\n",
       "      <td>https://www.sec.gov/Archives/edgar/data/116612...</td>\n",
       "      <td>2003</td>\n",
       "      <td>2003Q1</td>\n",
       "    </tr>\n",
       "    <tr>\n",
       "      <th>2004-12-31</th>\n",
       "      <td>0</td>\n",
       "      <td>JCP</td>\n",
       "      <td>NaN</td>\n",
       "      <td>NaN</td>\n",
       "      <td>Q4</td>\n",
       "      <td>6098000000</td>\n",
       "      <td>3910000000</td>\n",
       "      <td>2188000000</td>\n",
       "      <td>0.358806</td>\n",
       "      <td>0.0</td>\n",
       "      <td>...</td>\n",
       "      <td>-1.069000e+09</td>\n",
       "      <td>-0.175303</td>\n",
       "      <td>-3.43619</td>\n",
       "      <td>-3.43619</td>\n",
       "      <td>311100000</td>\n",
       "      <td>311100000</td>\n",
       "      <td>NaN</td>\n",
       "      <td>NaN</td>\n",
       "      <td>2004</td>\n",
       "      <td>2004Q1</td>\n",
       "    </tr>\n",
       "    <tr>\n",
       "      <th>2005-12-31</th>\n",
       "      <td>0</td>\n",
       "      <td>JCP</td>\n",
       "      <td>2005-04-08</td>\n",
       "      <td>2005-04-08 09:35:45</td>\n",
       "      <td>Q4</td>\n",
       "      <td>5955000000</td>\n",
       "      <td>3794000000</td>\n",
       "      <td>2161000000</td>\n",
       "      <td>0.362888</td>\n",
       "      <td>0.0</td>\n",
       "      <td>...</td>\n",
       "      <td>3.330000e+08</td>\n",
       "      <td>0.055919</td>\n",
       "      <td>1.16883</td>\n",
       "      <td>1.16883</td>\n",
       "      <td>284900000</td>\n",
       "      <td>284900000</td>\n",
       "      <td>https://www.sec.gov/Archives/edgar/data/116612...</td>\n",
       "      <td>https://www.sec.gov/Archives/edgar/data/116612...</td>\n",
       "      <td>2005</td>\n",
       "      <td>2005Q1</td>\n",
       "    </tr>\n",
       "    <tr>\n",
       "      <th>2006-12-31</th>\n",
       "      <td>0</td>\n",
       "      <td>JCP</td>\n",
       "      <td>2006-04-06</td>\n",
       "      <td>2006-04-06 15:47:31</td>\n",
       "      <td>Q4</td>\n",
       "      <td>6203000000</td>\n",
       "      <td>3957000000</td>\n",
       "      <td>2246000000</td>\n",
       "      <td>0.362083</td>\n",
       "      <td>0.0</td>\n",
       "      <td>...</td>\n",
       "      <td>5.510000e+08</td>\n",
       "      <td>0.088828</td>\n",
       "      <td>2.34568</td>\n",
       "      <td>2.34568</td>\n",
       "      <td>234900000</td>\n",
       "      <td>234900000</td>\n",
       "      <td>https://www.sec.gov/Archives/edgar/data/116612...</td>\n",
       "      <td>https://www.sec.gov/Archives/edgar/data/116612...</td>\n",
       "      <td>2006</td>\n",
       "      <td>2006Q1</td>\n",
       "    </tr>\n",
       "    <tr>\n",
       "      <th>2007-12-31</th>\n",
       "      <td>0</td>\n",
       "      <td>JCP</td>\n",
       "      <td>2007-04-04 00:00:00</td>\n",
       "      <td>2007-04-04 15:41:57</td>\n",
       "      <td>Q4</td>\n",
       "      <td>6664000000</td>\n",
       "      <td>4129000000</td>\n",
       "      <td>2535000000</td>\n",
       "      <td>0.380402</td>\n",
       "      <td>0.0</td>\n",
       "      <td>...</td>\n",
       "      <td>4.770000e+08</td>\n",
       "      <td>0.071579</td>\n",
       "      <td>2.08844</td>\n",
       "      <td>2.08844</td>\n",
       "      <td>228400000</td>\n",
       "      <td>228400000</td>\n",
       "      <td>https://www.sec.gov/Archives/edgar/data/116612...</td>\n",
       "      <td>https://www.sec.gov/Archives/edgar/data/116612...</td>\n",
       "      <td>2007</td>\n",
       "      <td>2007Q1</td>\n",
       "    </tr>\n",
       "    <tr>\n",
       "      <th>2008-12-31</th>\n",
       "      <td>0</td>\n",
       "      <td>JCP</td>\n",
       "      <td>2008-04-01 00:00:00</td>\n",
       "      <td>2008-04-01 16:37:42</td>\n",
       "      <td>Q4</td>\n",
       "      <td>6390000000</td>\n",
       "      <td>4079000000</td>\n",
       "      <td>2311000000</td>\n",
       "      <td>0.361659</td>\n",
       "      <td>0.0</td>\n",
       "      <td>...</td>\n",
       "      <td>4.300000e+08</td>\n",
       "      <td>0.067293</td>\n",
       "      <td>1.92912</td>\n",
       "      <td>1.92912</td>\n",
       "      <td>222900000</td>\n",
       "      <td>222900000</td>\n",
       "      <td>https://www.sec.gov/Archives/edgar/data/116612...</td>\n",
       "      <td>https://www.sec.gov/Archives/edgar/data/116612...</td>\n",
       "      <td>2008</td>\n",
       "      <td>2008Q1</td>\n",
       "    </tr>\n",
       "    <tr>\n",
       "      <th>2009-12-31</th>\n",
       "      <td>0</td>\n",
       "      <td>JCP</td>\n",
       "      <td>2009-03-31 00:00:00</td>\n",
       "      <td>2009-03-31 16:40:00</td>\n",
       "      <td>Q4</td>\n",
       "      <td>5759000000</td>\n",
       "      <td>3764000000</td>\n",
       "      <td>1995000000</td>\n",
       "      <td>0.346414</td>\n",
       "      <td>0.0</td>\n",
       "      <td>...</td>\n",
       "      <td>2.110000e+08</td>\n",
       "      <td>0.036638</td>\n",
       "      <td>0.94789</td>\n",
       "      <td>0.94789</td>\n",
       "      <td>222600000</td>\n",
       "      <td>222600000</td>\n",
       "      <td>https://www.sec.gov/Archives/edgar/data/116612...</td>\n",
       "      <td>https://www.sec.gov/Archives/edgar/data/116612...</td>\n",
       "      <td>2009</td>\n",
       "      <td>2009Q1</td>\n",
       "    </tr>\n",
       "    <tr>\n",
       "      <th>2010-12-31</th>\n",
       "      <td>0</td>\n",
       "      <td>JCP</td>\n",
       "      <td>2010-03-30 00:00:00</td>\n",
       "      <td>2010-03-30 16:21:58</td>\n",
       "      <td>Q4</td>\n",
       "      <td>5550000000</td>\n",
       "      <td>3430000000</td>\n",
       "      <td>2120000000</td>\n",
       "      <td>0.381982</td>\n",
       "      <td>0.0</td>\n",
       "      <td>...</td>\n",
       "      <td>2.000000e+08</td>\n",
       "      <td>0.036036</td>\n",
       "      <td>0.84282</td>\n",
       "      <td>0.84282</td>\n",
       "      <td>237300000</td>\n",
       "      <td>237300000</td>\n",
       "      <td>https://www.sec.gov/Archives/edgar/data/116612...</td>\n",
       "      <td>https://www.sec.gov/Archives/edgar/data/116612...</td>\n",
       "      <td>2010</td>\n",
       "      <td>2010Q1</td>\n",
       "    </tr>\n",
       "    <tr>\n",
       "      <th>2011-12-31</th>\n",
       "      <td>0</td>\n",
       "      <td>JCP</td>\n",
       "      <td>2011-03-29</td>\n",
       "      <td>2011-03-29 17:04:09</td>\n",
       "      <td>Q4</td>\n",
       "      <td>5703000000</td>\n",
       "      <td>3560000000</td>\n",
       "      <td>2143000000</td>\n",
       "      <td>0.375767</td>\n",
       "      <td>0.0</td>\n",
       "      <td>...</td>\n",
       "      <td>2.710000e+08</td>\n",
       "      <td>0.047519</td>\n",
       "      <td>1.13389</td>\n",
       "      <td>1.13389</td>\n",
       "      <td>239000000</td>\n",
       "      <td>239000000</td>\n",
       "      <td>https://www.sec.gov/Archives/edgar/data/116612...</td>\n",
       "      <td>https://www.sec.gov/Archives/edgar/data/116612...</td>\n",
       "      <td>2011</td>\n",
       "      <td>2011Q1</td>\n",
       "    </tr>\n",
       "    <tr>\n",
       "      <th>2012-12-31</th>\n",
       "      <td>0</td>\n",
       "      <td>JCP</td>\n",
       "      <td>2012-03-28 00:00:00</td>\n",
       "      <td>2012-03-27 19:58:29</td>\n",
       "      <td>Q4</td>\n",
       "      <td>5425000000</td>\n",
       "      <td>3788000000</td>\n",
       "      <td>1637000000</td>\n",
       "      <td>0.301751</td>\n",
       "      <td>0.0</td>\n",
       "      <td>...</td>\n",
       "      <td>-8.700000e+07</td>\n",
       "      <td>-0.016037</td>\n",
       "      <td>-0.40578</td>\n",
       "      <td>-0.40578</td>\n",
       "      <td>214400000</td>\n",
       "      <td>214400000</td>\n",
       "      <td>https://www.sec.gov/Archives/edgar/data/116612...</td>\n",
       "      <td>https://www.sec.gov/Archives/edgar/data/116612...</td>\n",
       "      <td>2012</td>\n",
       "      <td>2012Q1</td>\n",
       "    </tr>\n",
       "    <tr>\n",
       "      <th>2013-12-31</th>\n",
       "      <td>0</td>\n",
       "      <td>JCP</td>\n",
       "      <td>2013-03-20 00:00:00</td>\n",
       "      <td>2013-03-20 17:11:32</td>\n",
       "      <td>Q4</td>\n",
       "      <td>3884000000</td>\n",
       "      <td>2960000000</td>\n",
       "      <td>924000000</td>\n",
       "      <td>0.237899</td>\n",
       "      <td>0.0</td>\n",
       "      <td>...</td>\n",
       "      <td>-5.520000e+08</td>\n",
       "      <td>-0.142122</td>\n",
       "      <td>-2.51481</td>\n",
       "      <td>-2.51481</td>\n",
       "      <td>219500000</td>\n",
       "      <td>219500000</td>\n",
       "      <td>https://www.sec.gov/Archives/edgar/data/116612...</td>\n",
       "      <td>https://www.sec.gov/Archives/edgar/data/116612...</td>\n",
       "      <td>2013</td>\n",
       "      <td>2013Q1</td>\n",
       "    </tr>\n",
       "    <tr>\n",
       "      <th>2014-12-31</th>\n",
       "      <td>0</td>\n",
       "      <td>JCP</td>\n",
       "      <td>2014-03-21</td>\n",
       "      <td>2014-03-21 16:03:55</td>\n",
       "      <td>Q4</td>\n",
       "      <td>3782000000</td>\n",
       "      <td>2708000000</td>\n",
       "      <td>1074000000</td>\n",
       "      <td>0.283977</td>\n",
       "      <td>0.0</td>\n",
       "      <td>...</td>\n",
       "      <td>3.500000e+07</td>\n",
       "      <td>0.009254</td>\n",
       "      <td>0.11483</td>\n",
       "      <td>0.11483</td>\n",
       "      <td>304800000</td>\n",
       "      <td>304800000</td>\n",
       "      <td>https://www.sec.gov/Archives/edgar/data/116612...</td>\n",
       "      <td>https://www.sec.gov/Archives/edgar/data/116612...</td>\n",
       "      <td>2014</td>\n",
       "      <td>2014Q1</td>\n",
       "    </tr>\n",
       "    <tr>\n",
       "      <th>2015-12-31</th>\n",
       "      <td>0</td>\n",
       "      <td>JCP</td>\n",
       "      <td>2015-03-23</td>\n",
       "      <td>2015-03-23 16:16:27</td>\n",
       "      <td>Q4</td>\n",
       "      <td>3893000000</td>\n",
       "      <td>2579000000</td>\n",
       "      <td>1314000000</td>\n",
       "      <td>0.337529</td>\n",
       "      <td>0.0</td>\n",
       "      <td>...</td>\n",
       "      <td>-5.900000e+07</td>\n",
       "      <td>-0.015155</td>\n",
       "      <td>-0.19313</td>\n",
       "      <td>-0.19313</td>\n",
       "      <td>305500000</td>\n",
       "      <td>305500000</td>\n",
       "      <td>https://www.sec.gov/Archives/edgar/data/116612...</td>\n",
       "      <td>https://www.sec.gov/Archives/edgar/data/116612...</td>\n",
       "      <td>2015</td>\n",
       "      <td>2015Q1</td>\n",
       "    </tr>\n",
       "    <tr>\n",
       "      <th>2016-12-31</th>\n",
       "      <td>0</td>\n",
       "      <td>JCP</td>\n",
       "      <td>2016-03-16 00:00:00</td>\n",
       "      <td>2016-03-16 16:26:45</td>\n",
       "      <td>Q4</td>\n",
       "      <td>3996000000</td>\n",
       "      <td>2633000000</td>\n",
       "      <td>1363000000</td>\n",
       "      <td>0.341091</td>\n",
       "      <td>0.0</td>\n",
       "      <td>...</td>\n",
       "      <td>-7.100000e+07</td>\n",
       "      <td>-0.017768</td>\n",
       "      <td>-0.23187</td>\n",
       "      <td>-0.23187</td>\n",
       "      <td>306200000</td>\n",
       "      <td>306200000</td>\n",
       "      <td>https://www.sec.gov/Archives/edgar/data/116612...</td>\n",
       "      <td>https://www.sec.gov/Archives/edgar/data/116612...</td>\n",
       "      <td>2016</td>\n",
       "      <td>2016Q1</td>\n",
       "    </tr>\n",
       "    <tr>\n",
       "      <th>2017-12-31</th>\n",
       "      <td>0</td>\n",
       "      <td>JCP</td>\n",
       "      <td>2017-03-24 00:00:00</td>\n",
       "      <td>2017-03-24 16:36:52</td>\n",
       "      <td>Q4</td>\n",
       "      <td>3961000000</td>\n",
       "      <td>2649000000</td>\n",
       "      <td>1312000000</td>\n",
       "      <td>0.331229</td>\n",
       "      <td>0.0</td>\n",
       "      <td>...</td>\n",
       "      <td>1.920000e+08</td>\n",
       "      <td>0.048473</td>\n",
       "      <td>0.58430</td>\n",
       "      <td>0.58430</td>\n",
       "      <td>328600000</td>\n",
       "      <td>328600000</td>\n",
       "      <td>https://www.sec.gov/Archives/edgar/data/116612...</td>\n",
       "      <td>https://www.sec.gov/Archives/edgar/data/116612...</td>\n",
       "      <td>2017</td>\n",
       "      <td>2017Q1</td>\n",
       "    </tr>\n",
       "    <tr>\n",
       "      <th>2018-12-31</th>\n",
       "      <td>0</td>\n",
       "      <td>JCP</td>\n",
       "      <td>2018-03-19 00:00:00</td>\n",
       "      <td>2018-03-19 16:25:34</td>\n",
       "      <td>Q4</td>\n",
       "      <td>4135000000</td>\n",
       "      <td>2692000000</td>\n",
       "      <td>1443000000</td>\n",
       "      <td>0.348972</td>\n",
       "      <td>0.0</td>\n",
       "      <td>...</td>\n",
       "      <td>2.420000e+08</td>\n",
       "      <td>0.058525</td>\n",
       "      <td>0.77415</td>\n",
       "      <td>0.77415</td>\n",
       "      <td>312600000</td>\n",
       "      <td>312600000</td>\n",
       "      <td>https://www.sec.gov/Archives/edgar/data/116612...</td>\n",
       "      <td>https://www.sec.gov/Archives/edgar/data/116612...</td>\n",
       "      <td>2018</td>\n",
       "      <td>2018Q1</td>\n",
       "    </tr>\n",
       "    <tr>\n",
       "      <th>2019-12-31</th>\n",
       "      <td>0</td>\n",
       "      <td>JCP</td>\n",
       "      <td>2019-03-19 00:00:00</td>\n",
       "      <td>2019-03-19 16:59:02</td>\n",
       "      <td>Q4</td>\n",
       "      <td>3786000000</td>\n",
       "      <td>2519000000</td>\n",
       "      <td>1267000000</td>\n",
       "      <td>0.334654</td>\n",
       "      <td>0.0</td>\n",
       "      <td>...</td>\n",
       "      <td>7.500000e+07</td>\n",
       "      <td>0.019810</td>\n",
       "      <td>0.23667</td>\n",
       "      <td>0.23667</td>\n",
       "      <td>316900000</td>\n",
       "      <td>316900000</td>\n",
       "      <td>https://www.sec.gov/Archives/edgar/data/116612...</td>\n",
       "      <td>https://www.sec.gov/Archives/edgar/data/116612...</td>\n",
       "      <td>2019</td>\n",
       "      <td>2019Q1</td>\n",
       "    </tr>\n",
       "    <tr>\n",
       "      <th>2020-12-31</th>\n",
       "      <td>0</td>\n",
       "      <td>JCP</td>\n",
       "      <td>2020-03-20 00:00:00</td>\n",
       "      <td>2020-03-20 08:08:49</td>\n",
       "      <td>Q4</td>\n",
       "      <td>3493000000</td>\n",
       "      <td>2257000000</td>\n",
       "      <td>1236000000</td>\n",
       "      <td>0.353851</td>\n",
       "      <td>0.0</td>\n",
       "      <td>...</td>\n",
       "      <td>2.700000e+07</td>\n",
       "      <td>0.007730</td>\n",
       "      <td>0.08362</td>\n",
       "      <td>0.08362</td>\n",
       "      <td>322900000</td>\n",
       "      <td>322900000</td>\n",
       "      <td>https://www.sec.gov/Archives/edgar/data/116612...</td>\n",
       "      <td>https://www.sec.gov/Archives/edgar/data/116612...</td>\n",
       "      <td>2020</td>\n",
       "      <td>2020Q1</td>\n",
       "    </tr>\n",
       "  </tbody>\n",
       "</table>\n",
       "<p>19 rows × 35 columns</p>\n",
       "</div>"
      ],
      "text/plain": [
       "            Unnamed: 0 symbol          fillingDate         acceptedDate  \\\n",
       "date                                                                      \n",
       "2002-12-31           0    JCP  2002-06-11 00:00:00  2002-06-11 13:11:33   \n",
       "2003-12-31           0    JCP  2003-04-10 00:00:00  2003-04-10 11:16:32   \n",
       "2004-12-31           0    JCP                  NaN                  NaN   \n",
       "2005-12-31           0    JCP           2005-04-08  2005-04-08 09:35:45   \n",
       "2006-12-31           0    JCP           2006-04-06  2006-04-06 15:47:31   \n",
       "2007-12-31           0    JCP  2007-04-04 00:00:00  2007-04-04 15:41:57   \n",
       "2008-12-31           0    JCP  2008-04-01 00:00:00  2008-04-01 16:37:42   \n",
       "2009-12-31           0    JCP  2009-03-31 00:00:00  2009-03-31 16:40:00   \n",
       "2010-12-31           0    JCP  2010-03-30 00:00:00  2010-03-30 16:21:58   \n",
       "2011-12-31           0    JCP           2011-03-29  2011-03-29 17:04:09   \n",
       "2012-12-31           0    JCP  2012-03-28 00:00:00  2012-03-27 19:58:29   \n",
       "2013-12-31           0    JCP  2013-03-20 00:00:00  2013-03-20 17:11:32   \n",
       "2014-12-31           0    JCP           2014-03-21  2014-03-21 16:03:55   \n",
       "2015-12-31           0    JCP           2015-03-23  2015-03-23 16:16:27   \n",
       "2016-12-31           0    JCP  2016-03-16 00:00:00  2016-03-16 16:26:45   \n",
       "2017-12-31           0    JCP  2017-03-24 00:00:00  2017-03-24 16:36:52   \n",
       "2018-12-31           0    JCP  2018-03-19 00:00:00  2018-03-19 16:25:34   \n",
       "2019-12-31           0    JCP  2019-03-19 00:00:00  2019-03-19 16:59:02   \n",
       "2020-12-31           0    JCP  2020-03-20 00:00:00  2020-03-20 08:08:49   \n",
       "\n",
       "           period     revenue  costOfRevenue  grossProfit  grossProfitRatio  \\\n",
       "date                                                                          \n",
       "2002-12-31     Q1  7728000000     5360000000   2368000000          0.306418   \n",
       "2003-12-31     Q4  9549000000     6665000000   2884000000          0.302021   \n",
       "2004-12-31     Q4  6098000000     3910000000   2188000000          0.358806   \n",
       "2005-12-31     Q4  5955000000     3794000000   2161000000          0.362888   \n",
       "2006-12-31     Q4  6203000000     3957000000   2246000000          0.362083   \n",
       "2007-12-31     Q4  6664000000     4129000000   2535000000          0.380402   \n",
       "2008-12-31     Q4  6390000000     4079000000   2311000000          0.361659   \n",
       "2009-12-31     Q4  5759000000     3764000000   1995000000          0.346414   \n",
       "2010-12-31     Q4  5550000000     3430000000   2120000000          0.381982   \n",
       "2011-12-31     Q4  5703000000     3560000000   2143000000          0.375767   \n",
       "2012-12-31     Q4  5425000000     3788000000   1637000000          0.301751   \n",
       "2013-12-31     Q4  3884000000     2960000000    924000000          0.237899   \n",
       "2014-12-31     Q4  3782000000     2708000000   1074000000          0.283977   \n",
       "2015-12-31     Q4  3893000000     2579000000   1314000000          0.337529   \n",
       "2016-12-31     Q4  3996000000     2633000000   1363000000          0.341091   \n",
       "2017-12-31     Q4  3961000000     2649000000   1312000000          0.331229   \n",
       "2018-12-31     Q4  4135000000     2692000000   1443000000          0.348972   \n",
       "2019-12-31     Q4  3786000000     2519000000   1267000000          0.334654   \n",
       "2020-12-31     Q4  3493000000     2257000000   1236000000          0.353851   \n",
       "\n",
       "            researchAndDevelopmentExpenses  ...     netIncome  netIncomeRatio  \\\n",
       "date                                        ...                                 \n",
       "2002-12-31                             0.0  ...  8.600000e+07        0.011128   \n",
       "2003-12-31                             0.0  ...  2.020000e+08        0.021154   \n",
       "2004-12-31                             0.0  ... -1.069000e+09       -0.175303   \n",
       "2005-12-31                             0.0  ...  3.330000e+08        0.055919   \n",
       "2006-12-31                             0.0  ...  5.510000e+08        0.088828   \n",
       "2007-12-31                             0.0  ...  4.770000e+08        0.071579   \n",
       "2008-12-31                             0.0  ...  4.300000e+08        0.067293   \n",
       "2009-12-31                             0.0  ...  2.110000e+08        0.036638   \n",
       "2010-12-31                             0.0  ...  2.000000e+08        0.036036   \n",
       "2011-12-31                             0.0  ...  2.710000e+08        0.047519   \n",
       "2012-12-31                             0.0  ... -8.700000e+07       -0.016037   \n",
       "2013-12-31                             0.0  ... -5.520000e+08       -0.142122   \n",
       "2014-12-31                             0.0  ...  3.500000e+07        0.009254   \n",
       "2015-12-31                             0.0  ... -5.900000e+07       -0.015155   \n",
       "2016-12-31                             0.0  ... -7.100000e+07       -0.017768   \n",
       "2017-12-31                             0.0  ...  1.920000e+08        0.048473   \n",
       "2018-12-31                             0.0  ...  2.420000e+08        0.058525   \n",
       "2019-12-31                             0.0  ...  7.500000e+07        0.019810   \n",
       "2020-12-31                             0.0  ...  2.700000e+07        0.007730   \n",
       "\n",
       "                eps  epsdiluted  weightedAverageShsOut  \\\n",
       "date                                                     \n",
       "2002-12-31  0.29452     0.29452              292000000   \n",
       "2003-12-31  0.66667     0.66667              303000000   \n",
       "2004-12-31 -3.43619    -3.43619              311100000   \n",
       "2005-12-31  1.16883     1.16883              284900000   \n",
       "2006-12-31  2.34568     2.34568              234900000   \n",
       "2007-12-31  2.08844     2.08844              228400000   \n",
       "2008-12-31  1.92912     1.92912              222900000   \n",
       "2009-12-31  0.94789     0.94789              222600000   \n",
       "2010-12-31  0.84282     0.84282              237300000   \n",
       "2011-12-31  1.13389     1.13389              239000000   \n",
       "2012-12-31 -0.40578    -0.40578              214400000   \n",
       "2013-12-31 -2.51481    -2.51481              219500000   \n",
       "2014-12-31  0.11483     0.11483              304800000   \n",
       "2015-12-31 -0.19313    -0.19313              305500000   \n",
       "2016-12-31 -0.23187    -0.23187              306200000   \n",
       "2017-12-31  0.58430     0.58430              328600000   \n",
       "2018-12-31  0.77415     0.77415              312600000   \n",
       "2019-12-31  0.23667     0.23667              316900000   \n",
       "2020-12-31  0.08362     0.08362              322900000   \n",
       "\n",
       "            weightedAverageShsOutDil  \\\n",
       "date                                   \n",
       "2002-12-31                 292000000   \n",
       "2003-12-31                 303000000   \n",
       "2004-12-31                 311100000   \n",
       "2005-12-31                 284900000   \n",
       "2006-12-31                 234900000   \n",
       "2007-12-31                 228400000   \n",
       "2008-12-31                 222900000   \n",
       "2009-12-31                 222600000   \n",
       "2010-12-31                 237300000   \n",
       "2011-12-31                 239000000   \n",
       "2012-12-31                 214400000   \n",
       "2013-12-31                 219500000   \n",
       "2014-12-31                 304800000   \n",
       "2015-12-31                 305500000   \n",
       "2016-12-31                 306200000   \n",
       "2017-12-31                 328600000   \n",
       "2018-12-31                 312600000   \n",
       "2019-12-31                 316900000   \n",
       "2020-12-31                 322900000   \n",
       "\n",
       "                                                         link  \\\n",
       "date                                                            \n",
       "2002-12-31  https://www.sec.gov/Archives/edgar/data/116612...   \n",
       "2003-12-31  https://www.sec.gov/Archives/edgar/data/116612...   \n",
       "2004-12-31                                                NaN   \n",
       "2005-12-31  https://www.sec.gov/Archives/edgar/data/116612...   \n",
       "2006-12-31  https://www.sec.gov/Archives/edgar/data/116612...   \n",
       "2007-12-31  https://www.sec.gov/Archives/edgar/data/116612...   \n",
       "2008-12-31  https://www.sec.gov/Archives/edgar/data/116612...   \n",
       "2009-12-31  https://www.sec.gov/Archives/edgar/data/116612...   \n",
       "2010-12-31  https://www.sec.gov/Archives/edgar/data/116612...   \n",
       "2011-12-31  https://www.sec.gov/Archives/edgar/data/116612...   \n",
       "2012-12-31  https://www.sec.gov/Archives/edgar/data/116612...   \n",
       "2013-12-31  https://www.sec.gov/Archives/edgar/data/116612...   \n",
       "2014-12-31  https://www.sec.gov/Archives/edgar/data/116612...   \n",
       "2015-12-31  https://www.sec.gov/Archives/edgar/data/116612...   \n",
       "2016-12-31  https://www.sec.gov/Archives/edgar/data/116612...   \n",
       "2017-12-31  https://www.sec.gov/Archives/edgar/data/116612...   \n",
       "2018-12-31  https://www.sec.gov/Archives/edgar/data/116612...   \n",
       "2019-12-31  https://www.sec.gov/Archives/edgar/data/116612...   \n",
       "2020-12-31  https://www.sec.gov/Archives/edgar/data/116612...   \n",
       "\n",
       "                                                    finalLink  Year    date  \n",
       "date                                                                         \n",
       "2002-12-31  https://www.sec.gov/Archives/edgar/data/116612...  2002  2002Q2  \n",
       "2003-12-31  https://www.sec.gov/Archives/edgar/data/116612...  2003  2003Q1  \n",
       "2004-12-31                                                NaN  2004  2004Q1  \n",
       "2005-12-31  https://www.sec.gov/Archives/edgar/data/116612...  2005  2005Q1  \n",
       "2006-12-31  https://www.sec.gov/Archives/edgar/data/116612...  2006  2006Q1  \n",
       "2007-12-31  https://www.sec.gov/Archives/edgar/data/116612...  2007  2007Q1  \n",
       "2008-12-31  https://www.sec.gov/Archives/edgar/data/116612...  2008  2008Q1  \n",
       "2009-12-31  https://www.sec.gov/Archives/edgar/data/116612...  2009  2009Q1  \n",
       "2010-12-31  https://www.sec.gov/Archives/edgar/data/116612...  2010  2010Q1  \n",
       "2011-12-31  https://www.sec.gov/Archives/edgar/data/116612...  2011  2011Q1  \n",
       "2012-12-31  https://www.sec.gov/Archives/edgar/data/116612...  2012  2012Q1  \n",
       "2013-12-31  https://www.sec.gov/Archives/edgar/data/116612...  2013  2013Q1  \n",
       "2014-12-31  https://www.sec.gov/Archives/edgar/data/116612...  2014  2014Q1  \n",
       "2015-12-31  https://www.sec.gov/Archives/edgar/data/116612...  2015  2015Q1  \n",
       "2016-12-31  https://www.sec.gov/Archives/edgar/data/116612...  2016  2016Q1  \n",
       "2017-12-31  https://www.sec.gov/Archives/edgar/data/116612...  2017  2017Q1  \n",
       "2018-12-31  https://www.sec.gov/Archives/edgar/data/116612...  2018  2018Q1  \n",
       "2019-12-31  https://www.sec.gov/Archives/edgar/data/116612...  2019  2019Q1  \n",
       "2020-12-31  https://www.sec.gov/Archives/edgar/data/116612...  2020  2020Q1  \n",
       "\n",
       "[19 rows x 35 columns]"
      ]
     },
     "execution_count": 296,
     "metadata": {},
     "output_type": "execute_result"
    }
   ],
   "source": [
    "year_df.groupby(pd.Grouper(freq='Y')).nth(0)"
   ]
  },
  {
   "cell_type": "code",
   "execution_count": 242,
   "metadata": {
    "ExecuteTime": {
     "end_time": "2020-12-22T15:17:02.713197Z",
     "start_time": "2020-12-22T15:17:02.700199Z"
    }
   },
   "outputs": [
    {
     "data": {
      "text/plain": [
       "array([1596240000000, 1556928000000, 1525478400000, 1493424000000,\n",
       "       1461974400000, 1430524800000, 1399075200000, 1367625600000,\n",
       "       1335571200000, 1304121600000, 1272672000000, 1241222400000,\n",
       "       1209772800000, 1181692800000, 1154131200000, 1122681600000,\n",
       "       1091232000000, 1059177600000, 1027728000000], dtype=int64)"
      ]
     },
     "execution_count": 242,
     "metadata": {},
     "output_type": "execute_result"
    }
   ],
   "source": [
    "pd.to_datetime(df.iloc[::4, :]['date']).values.astype(np.int64) // 10 ** 6"
   ]
  },
  {
   "cell_type": "code",
   "execution_count": 250,
   "metadata": {
    "ExecuteTime": {
     "end_time": "2020-12-22T15:22:01.710868Z",
     "start_time": "2020-12-22T15:22:01.691869Z"
    }
   },
   "outputs": [
    {
     "data": {
      "text/plain": [
       "array([1027728000000, 1059177600000, 1091232000000, 1122681600000,\n",
       "       1154131200000, 1181692800000, 1209772800000, 1241222400000,\n",
       "       1272672000000, 1304121600000, 1335571200000, 1367625600000,\n",
       "       1399075200000, 1430524800000, 1461974400000, 1493424000000,\n",
       "       1525478400000, 1556928000000, 1596240000000], dtype=int64)"
      ]
     },
     "execution_count": 250,
     "metadata": {},
     "output_type": "execute_result"
    }
   ],
   "source": [
    "(pd.to_datetime(df.iloc[::4, :]['date']).values.astype(np.int64) // 10 ** 6)[::-1]"
   ]
  },
  {
   "cell_type": "code",
   "execution_count": null,
   "metadata": {},
   "outputs": [],
   "source": []
  },
  {
   "cell_type": "code",
   "execution_count": 235,
   "metadata": {
    "ExecuteTime": {
     "end_time": "2020-12-22T15:13:31.277173Z",
     "start_time": "2020-12-22T15:13:31.269602Z"
    }
   },
   "outputs": [
    {
     "data": {
      "text/plain": [
       "array([1596240000000, 1580515200000, 1572652800000, 1564790400000,\n",
       "       1556928000000, 1549065600000, 1541203200000, 1533340800000,\n",
       "       1525478400000, 1517616000000, 1509148800000, 1501286400000,\n",
       "       1493424000000, 1485561600000, 1477699200000, 1469836800000,\n",
       "       1461974400000, 1454112000000, 1446249600000, 1438387200000,\n",
       "       1430524800000, 1422662400000, 1414800000000, 1406937600000,\n",
       "       1399075200000, 1391212800000, 1383350400000, 1375488000000,\n",
       "       1367625600000, 1359763200000, 1351296000000, 1343433600000,\n",
       "       1335571200000, 1327708800000, 1319846400000, 1311984000000,\n",
       "       1304121600000, 1296259200000, 1288396800000, 1280534400000,\n",
       "       1272672000000, 1264809600000, 1256947200000, 1249084800000,\n",
       "       1241222400000, 1233360000000, 1225497600000, 1217635200000,\n",
       "       1209772800000, 1201910400000, 1194048000000, 1186185600000,\n",
       "       1181692800000, 1178323200000, 1170460800000, 1161993600000,\n",
       "       1154131200000, 1146268800000, 1138406400000, 1130544000000,\n",
       "       1122681600000, 1114819200000, 1106956800000, 1099094400000,\n",
       "       1091232000000, 1083369600000, 1075507200000, 1067040000000,\n",
       "       1059177600000, 1051315200000, 1043452800000, 1035590400000,\n",
       "       1027728000000, 1019865600000], dtype=int64)"
      ]
     },
     "execution_count": 235,
     "metadata": {},
     "output_type": "execute_result"
    }
   ],
   "source": [
    "yyyy_mm = df['date'].apply(lambda x: x[0:7])\n",
    "pd.to_datetime(df['date']).values.astype(np.int64) // 10 ** 6"
   ]
  },
  {
   "cell_type": "code",
   "execution_count": 234,
   "metadata": {
    "ExecuteTime": {
     "end_time": "2020-12-22T15:12:57.207348Z",
     "start_time": "2020-12-22T15:12:57.183347Z"
    }
   },
   "outputs": [
    {
     "data": {
      "text/plain": [
       "0     3\n",
       "1     1\n",
       "2     4\n",
       "3     3\n",
       "4     2\n",
       "     ..\n",
       "69    2\n",
       "70    1\n",
       "71    4\n",
       "72    3\n",
       "73    2\n",
       "Name: date, Length: 74, dtype: int64"
      ]
     },
     "execution_count": 234,
     "metadata": {},
     "output_type": "execute_result"
    }
   ],
   "source": [
    "pd.to_datetime(df['date']).dt.quarter#.to_period(\"Q\").values.astype(np.int64) // 10 ** 6"
   ]
  },
  {
   "cell_type": "code",
   "execution_count": 216,
   "metadata": {
    "ExecuteTime": {
     "end_time": "2020-12-21T06:14:58.705154Z",
     "start_time": "2020-12-21T06:14:58.693153Z"
    }
   },
   "outputs": [
    {
     "data": {
      "text/plain": [
       "array([1577836800000, 1577836800000, 1546300800000, 1546300800000,\n",
       "       1546300800000, 1546300800000, 1514764800000, 1514764800000,\n",
       "       1514764800000, 1514764800000, 1483228800000, 1483228800000,\n",
       "       1483228800000, 1483228800000, 1451606400000, 1451606400000,\n",
       "       1451606400000, 1451606400000, 1420070400000, 1420070400000,\n",
       "       1420070400000, 1420070400000, 1388534400000, 1388534400000,\n",
       "       1388534400000, 1388534400000, 1356998400000, 1356998400000,\n",
       "       1356998400000, 1356998400000, 1325376000000, 1325376000000,\n",
       "       1325376000000, 1325376000000, 1293840000000, 1293840000000,\n",
       "       1293840000000, 1293840000000, 1262304000000, 1262304000000,\n",
       "       1262304000000, 1262304000000, 1230768000000, 1230768000000,\n",
       "       1230768000000, 1230768000000, 1199145600000, 1199145600000,\n",
       "       1199145600000, 1199145600000, 1167609600000, 1167609600000,\n",
       "       1167609600000, 1167609600000, 1167609600000, 1136073600000,\n",
       "       1136073600000, 1136073600000, 1136073600000, 1104537600000,\n",
       "       1104537600000, 1104537600000, 1104537600000, 1072915200000,\n",
       "       1072915200000, 1072915200000, 1072915200000, 1041379200000,\n",
       "       1041379200000, 1041379200000, 1041379200000, 1009843200000,\n",
       "       1009843200000, 1009843200000], dtype=int64)"
      ]
     },
     "execution_count": 216,
     "metadata": {},
     "output_type": "execute_result"
    }
   ],
   "source": [
    "pd.to_datetime(year_df.index.apply(lambda x: x[0:4])).values.astype(np.int64) // 10 ** 6"
   ]
  },
  {
   "cell_type": "code",
   "execution_count": 171,
   "metadata": {
    "ExecuteTime": {
     "end_time": "2020-12-20T23:00:13.174748Z",
     "start_time": "2020-12-20T23:00:13.156746Z"
    },
    "code_folding": [
     0
    ],
    "run_control": {
     "marked": true
    }
   },
   "outputs": [],
   "source": [
    "metric_to_list_variables_map = {\n",
    "        'net_working_capital_ratio':['working_capital_math','total_assets',],\n",
    "        'book_value_per_share':['total_se','shares_outstanding_non',],\n",
    "        'total_equity_to_total_assets':['total_se','total_assets',],\n",
    "        'operating_cost_ratio':['total_opex','d_n_a','net_revenue',],\n",
    "        'percentage_of_debt_to_asset_formula':['total_non_current_liabilities','total_assets',],\n",
    "\n",
    "        'total_liabilities_pct_of_total_assets':['total_liabilities','total_assets',],\n",
    "        'debt_to_assets_ratio':['total_debt','total_assets',],\n",
    "        'debt_to_equity_ratio':['total_debt','total_se',],\n",
    "        'quick_ratio':['total_current_liabilities','total_assets'],\n",
    "        'working_capital':['total_current_assets','total_current_liabilities',],\n",
    "        'current_ratio':['total_current_liabilities','total_assets','inventory'],\n",
    "        'capital_intensity':['total_assets','net_revenue',],\n",
    "        'equity_multiplier':['total_assets','total_se',],\n",
    "        'short_term_debt_to_equity_ratio':['short_term_debt','total_se',],\n",
    "        'st_debt_as_pct_of_total_debt':['short_term_debt','total_liabilities',],\n",
    "        'acid_test_ratio':['quick_assets_math','total_current_liabilities',],\n",
    "        'pre_tax_income_to_sales':['pretax_income_non','net_revenue',],\n",
    "        'pre_tax_return_on_assets':['pretax_income_non','total_assets',],\n",
    "        'pre_tax_return_on_common_equity':['pretax_income_non','common_equity',],\n",
    "        'operating_roa':['operating_income','total_assets',],\n",
    "        'operating_profit_margin':['operating_income','net_revenue',],\n",
    "        'free_operating_cash_flow_to_debt':['operating_cash_flow','capex','total_debt',],\n",
    "        'discretionary_cash_flow_to_debt':['operating_cash_flow','accounts_payable','debt_repayment','dividends_paid','interest_expense',],\n",
    "        'operating_cash_flow_to_interest':['operating_cash_flow','interest_expense','income_tax_expense','interest_expense',],\n",
    "        'operating_cash_flow_to_debt':['operating_cash_flow','interest_expense','income_tax_expense','total_liabilities',],\n",
    "        'cash_flow_margin_ratio_formula':['operating_cash_flow','total_liabilities',],\n",
    "        'cash_flow_to_debt':['operating_cash_flow','total_debt',],\n",
    "        'net_cash_flow_to_capital_expenditures':['operating_cash_flow','capex',],\n",
    "        'cash_flow_to_revenue':['operating_cash_flow','net_revenue',],\n",
    "        'cash_return_on_assets':['operating_cash_flow','total_assets',],\n",
    "        'cash_return_on_equity':['operating_cash_flow','total_se',],\n",
    "        'cash_to_income_ratio':['operating_cash_flow','operating_income',],\n",
    "        'cash_flow_per_share':['operating_cash_flow','shares_outstanding_non',],\n",
    "        'debt_payment':['operating_cash_flow','debt_repayment',],\n",
    "        'debt_coverage':['operating_cash_flow','long_term_debt',],\n",
    "        'cash_flow_from_operations_ratio':['operating_cash_flow','total_current_liabilities',],\n",
    "        'gross_profit_margin':['net_revenue','cost_of_sales','net_revenue',],\n",
    "        'rece​ivables_turnover':['net_revenue','accounts_receivable',],\n",
    "        'capital_turnover_ratio':['net_revenue','working_capital_math',],\n",
    "        'assets_turnover_ratio':['net_revenue','total_assets',],\n",
    "        'accounts_receivableturnover':['net_revenue','accounts_receivable',],\n",
    "        'operating_cash_flow_to_debt':['net_revenue','total_se',],\n",
    "        'inventory_ratio':['net_revenue','inventory',],\n",
    "        'return_on_investment':['net_income','interest_expense','total_se','long_term_debt',],\n",
    "\n",
    "        'pretax_margin':['net_income','income_tax_expense','net_revenue',],\n",
    "        'income_to_net_worth_ratio':['net_income','deferred_income_tax','shares_outstanding_non',],\n",
    "        'return_on_assets_roa':['net_income','total_assets',],\n",
    "        'roe':['net_income','total_se',],\n",
    "        'profit_margin':['net_income','net_revenue',],\n",
    "        'earnings_per_share':['net_income','shares_outstanding_non',],\n",
    "        'current_cash_debt_coverage':['net_cash_by_operating_activities','total_current_liabilities',],\n",
    "        'cash_debt_coverage':['net_cash_by_operating_activities','total_liabilities',],\n",
    "        'long_term_debt_ratio':['long_term_debt','total_assets',],\n",
    "        'long_term_debt_equity_ratio':['long_term_debt','total_se',],\n",
    "        'lt_debt_as_pct_of_total_debt':['long_term_debt','total_liabilities',],\n",
    "        'inventory_pct_of_revenue':['inventory','net_revenue',],\n",
    "        'intangibles_pct_of_book_value':['goodwill_n_intangible_assets','total_se',],\n",
    "        'ffo_funds_from_operations_to_debt':['ffo_math','total_debt',],\n",
    "        'operating_margin':['ebitda_non','d_a','net_revenue',],\n",
    "        'cash_coverage_ratio':['ebitda_non','interest_expense',],\n",
    "        'ebitda_per_share':['ebitda_non','shares_outstanding_non',],\n",
    "        'ebitda_interest_coverage':['ebitda_non','interest_expense',],\n",
    "        'ebitda_margin':['ebitda_non','net_revenue',],\n",
    "        'net_margin_profit_margin':['ebitda_margin','net_revenue',],\n",
    "        'return_on_capital_employed_ratio':['ebit_math','total_assets','total_current_liabilities',],\n",
    "        'debt_service_ratio':['ebit_math','interest_expense',],\n",
    "        'return_on_capital':['ebit_math','total_assets',],\n",
    "        'dividend_yield':['dividends_paid','price_market','shares_outstanding_non',],\n",
    "        'dividend_payout_ratio':['dividends_paid','net_income',],\n",
    "        'dividends_per_share':['dividends_paid','shares_outstanding_non',],\n",
    "        'inventory_turnover':['cost_of_sales','inventory',],\n",
    "        'cash_ratio':['cash_non','total_current_liabilities',],\n",
    "        'cash_flow_roa':['operating_cash_flow','total_assets',],\n",
    "        'average_collection_period':['accounts_receivable','net_revenue',],\n",
    "        'number_of_days_of_receivables':['accounts_receivable','inventory',],\n",
    "        'average_days_payables_outstanding':['accounts_payable','cost_of_sales',],\n",
    "        'days_sales_in_payables':['accounts_payable','total_opex',],\n",
    "    }"
   ]
  },
  {
   "cell_type": "code",
   "execution_count": 172,
   "metadata": {
    "ExecuteTime": {
     "end_time": "2020-12-20T23:00:23.201583Z",
     "start_time": "2020-12-20T23:00:23.044585Z"
    }
   },
   "outputs": [],
   "source": [
    "fin_dir = [\"Income Statement\",\"Balance Sheet\",\"Cash Flow Statement\"]\n",
    "# url_symbol = \"TSLA\"\n",
    "url_symbol = \"JCP\" # \"AAPL\"\n",
    "\n",
    "# url_fin_metric = 'current-ratio'\n",
    "url_fin_metric = \"operating-cost-ratio\" # 'discretionary-cash-flow-to-debt'\n",
    "fin_df_list = []\n",
    "for x in fin_dir:\n",
    "    fin_file = glob.glob(\"../Charts_TenDollarData/financial_statements/data/Historical Financial Statements/*/quarter/{}/*~{}~*\".format(x, url_symbol.upper()))[-1]\n",
    "    fin_df = pd.read_csv(fin_file)\n",
    "    fin_df[\"Year\"] = fin_df[\"date\"].apply(lambda x: x[0:4])\n",
    "    fin_df[\"QQ-YYYY\"] = fin_df[\"period\"]+\"-\"+fin_df[\"date\"].apply(lambda x: x[0:4])#[\"QQ-YYYY\"]\n",
    "    fin_df_list.append(fin_df)\n",
    "# df = pd.concat(fin_df_list,ignore_index=True)#,axis = 1)\n",
    "# df = pd.concat(fin_df_list, join='outer', axis=1)#.fillna(nan_value)\n",
    "\n",
    "# df = pd.concat(fin_df_list,ignore_index=True)\n",
    "df_merge_is_bs = pd.merge(fin_df_list[0],fin_df_list[1],how=\"inner\", on=\"QQ-YYYY\")\n",
    "df_merge = pd.merge(df_merge_is_bs,fin_df_list[2],how=\"inner\", on=\"QQ-YYYY\")\n",
    "df_merge = df_merge[fin_statement_raw_names]\n",
    "\n",
    "df_merge.columns = fin_statement_renamed_cols\n",
    "df = df_merge\n",
    "metric_name = url_to_metric_map[\"{}\".format(url_fin_metric)]\n",
    "fin_metric_title = url_to_name_map[url_fin_metric] \n",
    "fin_metric_name = url_to_var_name_map[url_fin_metric]\n",
    "fin_metric_vars = metric_to_list_variables_map[fin_metric_name]\n",
    "\n",
    "df['ffo_math']=df['net_income'] + df['d_n_a'] + df['sales_maturities_of_investments'] + df['purchase_of_investments'] + df['investments_in_pp_n_e'] + df['acquisitions_net']\n",
    "df['book_value_math']=df['total_assets'].dropna()-df['total_liabilities'].dropna()\n",
    "df['ebit_math']=df['ebitda_non'] - df['d_n_a']\n",
    "df['working_capital_math']= df['total_current_assets'] - df['total_current_liabilities']\n",
    "\n",
    "df['quick_assets_math']=df['cash_non']+df['short_term_investments']+df['accounts_receivable']\n",
    "df['quick_ratio_math']=df['total_current_assets'] - df['inventory']\n",
    "# df['other_current_assets'] * df['total_current_assets']\n",
    "# df['g_n_a']+df['s_n_m']"
   ]
  },
  {
   "cell_type": "code",
   "execution_count": 92,
   "metadata": {
    "ExecuteTime": {
     "end_time": "2020-12-20T18:43:01.800076Z",
     "start_time": "2020-12-20T18:43:01.792079Z"
    },
    "run_control": {
     "marked": false
    }
   },
   "outputs": [
    {
     "data": {
      "text/plain": [
       "18"
      ]
     },
     "execution_count": 92,
     "metadata": {},
     "output_type": "execute_result"
    }
   ],
   "source": [
    "if len(df) == len(df[df['revenue'] == 0]):\n",
    "    return 404"
   ]
  },
  {
   "cell_type": "code",
   "execution_count": 96,
   "metadata": {
    "ExecuteTime": {
     "end_time": "2020-12-20T19:53:05.307015Z",
     "start_time": "2020-12-20T19:53:05.282015Z"
    },
    "code_folding": [
     0
    ]
   },
   "outputs": [],
   "source": [
    "# # hide\n",
    "# filter_pos_neg = list(fin_statements_matching[fin_statements_matching['Name']==\"revenue\"]['positive_negative'])[0]\n",
    "# filter_pos_neg_list = ['positive','all', 'both', 'negative', 'zero_or_neg']\n",
    "\n",
    "\n",
    "# if \"{}\".format(filter_pos_neg) == \"positive\": #in filter_pos_neg_list:\n",
    "#     nan_rows = df[(df['revenue']<0)]\n",
    "#     nan_rows['revenue'] = np.nan\n",
    "#     df[(df['revenue']<0)] = nan_rows\n",
    "# #     df.loc[df['revenue'] < 0, 0:] = np.nan\n",
    "# #     df.loc[df['revenue'] < 0, 0:] = np.nan\n",
    "# #     df = df[~(df['revenue']<0)]\n",
    "# elif \"{}\".format(filter_pos_neg) == \"neg\": #in filter_pos_neg_list:\n",
    "#     nan_rows = df[(df['revenue']>=0)]\n",
    "#     nan_rows['revenue'] = np.nan\n",
    "#     df[(df['revenue']>=0)] = nan_rows\n",
    "# #     df.loc[df['revenue'] > 0, 0:] = np.nan\n",
    "# #     df = df[~(df['revenue']>=0)]\n",
    "# elif \"{}\".format(filter_pos_neg) == \"zero_or_neg\":\n",
    "#     nan_rows = df[(df['revenue']>0)]\n",
    "#     nan_rows['revenue'] = np.nan\n",
    "#     df[(df['revenue']>0)] = nan_rows\n",
    "# #     df.loc[df['revenue'] > 0, 0:] = np.nan\n",
    "# #     df = df[~(df['revenue']>0)]\n",
    "# elif \"{}\".format(filter_pos_neg) == \"both\":\n",
    "#     nan_rows = df[(df['revenue']==0)]\n",
    "#     nan_rows['revenue'] = np.nan\n",
    "#     df[(df['revenue']==0)] = nan_rows\n",
    "# #     df.loc[df['revenue'] == 0, 0:] = np.nan\n",
    "# #     df = df[~(df['revenue']==0)]\n",
    "# elif \"{}\".format(filter_pos_neg) == \"all\":\n",
    "#     pass\n",
    "# else:\n",
    "#     pass\n",
    "# df['revenue'] = df['revenue'].fillna(df['revenue'].rolling(4,center=True,min_periods=1).mean())\n",
    "# # df"
   ]
  },
  {
   "cell_type": "code",
   "execution_count": 165,
   "metadata": {
    "ExecuteTime": {
     "end_time": "2020-12-20T20:39:45.652877Z",
     "start_time": "2020-12-20T20:39:45.644880Z"
    }
   },
   "outputs": [
    {
     "data": {
      "text/plain": [
       "['total_current_liabilities', 'total_assets', 'inventory']"
      ]
     },
     "execution_count": 165,
     "metadata": {},
     "output_type": "execute_result"
    }
   ],
   "source": [
    "fin_metric_varsz"
   ]
  },
  {
   "cell_type": "code",
   "execution_count": 173,
   "metadata": {
    "ExecuteTime": {
     "end_time": "2020-12-20T23:00:30.538078Z",
     "start_time": "2020-12-20T23:00:30.442555Z"
    }
   },
   "outputs": [
    {
     "name": "stderr",
     "output_type": "stream",
     "text": [
      "<ipython-input-173-44e185a7fd55>:6: SettingWithCopyWarning: \n",
      "A value is trying to be set on a copy of a slice from a DataFrame.\n",
      "Try using .loc[row_indexer,col_indexer] = value instead\n",
      "\n",
      "See the caveats in the documentation: https://pandas.pydata.org/pandas-docs/stable/user_guide/indexing.html#returning-a-view-versus-a-copy\n",
      "  nan_rows['{}'.format(x)] = np.nan\n",
      "<ipython-input-173-44e185a7fd55>:6: SettingWithCopyWarning: \n",
      "A value is trying to be set on a copy of a slice from a DataFrame.\n",
      "Try using .loc[row_indexer,col_indexer] = value instead\n",
      "\n",
      "See the caveats in the documentation: https://pandas.pydata.org/pandas-docs/stable/user_guide/indexing.html#returning-a-view-versus-a-copy\n",
      "  nan_rows['{}'.format(x)] = np.nan\n",
      "<ipython-input-173-44e185a7fd55>:6: SettingWithCopyWarning: \n",
      "A value is trying to be set on a copy of a slice from a DataFrame.\n",
      "Try using .loc[row_indexer,col_indexer] = value instead\n",
      "\n",
      "See the caveats in the documentation: https://pandas.pydata.org/pandas-docs/stable/user_guide/indexing.html#returning-a-view-versus-a-copy\n",
      "  nan_rows['{}'.format(x)] = np.nan\n"
     ]
    }
   ],
   "source": [
    "filter_pos_neg_list = ['positive','all', 'both', 'negative', 'zero_or_neg']\n",
    "for n,x in enumerate(fin_metric_vars):\n",
    "    filter_pos_neg = list(fin_statements_matching[fin_statements_matching['Python Variable Name']==\"{}\".format(x)]['positive_negative'])[0]\n",
    "    if \"{}\".format(filter_pos_neg) == \"positive\": #in filter_pos_neg_list:\n",
    "        nan_rows = df[(df[\"{}\".format(x)]<0)]\n",
    "        nan_rows['{}'.format(x)] = np.nan\n",
    "        df[(df['{}'.format(x)]<0)] = nan_rows\n",
    "    elif \"{}\".format(filter_pos_neg) == \"neg\": #in filter_pos_neg_list:\n",
    "        nan_rows = df[(df['{}'.format(x)]>=0)]\n",
    "        nan_rows['{}'.format(x)] = np.nan\n",
    "        df[(df['{}'.format(x)]>=0)] = nan_rows\n",
    "    elif \"{}\".format(filter_pos_neg) == \"zero_or_neg\":\n",
    "        nan_rows = df[(df['{}'.format(x)]>0)]\n",
    "        nan_rows['{}'.format(x)] = np.nan\n",
    "        df[(df['{}'.format(x)]>0)] = nan_rows\n",
    "    elif \"{}\".format(filter_pos_neg) == \"both\":\n",
    "        nan_rows = df[(df['{}'.format(x)]==0)]\n",
    "        nan_rows['{}'.format(x)] = np.nan\n",
    "        df[(df['{}'.format(x)]==0)] = nan_rows\n",
    "    elif \"{}\".format(filter_pos_neg) == \"all\":\n",
    "        pass\n",
    "    else:\n",
    "        pass\n",
    "#     df['revenue'] = df['revenue'].fillna(df['revenue'].rolling(4,center=True,min_periods=1).mean())\n",
    "    # df"
   ]
  },
  {
   "cell_type": "code",
   "execution_count": 181,
   "metadata": {
    "ExecuteTime": {
     "end_time": "2020-12-20T23:22:47.205288Z",
     "start_time": "2020-12-20T23:22:47.185288Z"
    }
   },
   "outputs": [],
   "source": [
    "df['{}'.format(x)] = df['{}'.format(x)].fillna(df['{}'.format(x)].rolling(1000,center=True,min_periods=1).mean())"
   ]
  },
  {
   "cell_type": "code",
   "execution_count": 198,
   "metadata": {
    "ExecuteTime": {
     "end_time": "2020-12-21T00:01:05.288992Z",
     "start_time": "2020-12-21T00:01:05.277996Z"
    }
   },
   "outputs": [],
   "source": [
    "pct_chg = df['net_revenue']/df['net_revenue'].shift(-4)\n",
    "pct_chg = pct_change.apply(lambda x: \"{}%\".format(round((x-1)*100,1)))"
   ]
  },
  {
   "cell_type": "code",
   "execution_count": 187,
   "metadata": {
    "ExecuteTime": {
     "end_time": "2020-12-20T23:56:22.839041Z",
     "start_time": "2020-12-20T23:56:22.817042Z"
    }
   },
   "outputs": [
    {
     "data": {
      "text/plain": [
       "79         NaN\n",
       "78         NaN\n",
       "77         NaN\n",
       "76         NaN\n",
       "75   -0.519798\n",
       "        ...   \n",
       "4    -0.043429\n",
       "3    -0.074231\n",
       "2    -0.085254\n",
       "1    -0.077390\n",
       "0     0.618153\n",
       "Name: net_revenue, Length: 80, dtype: float64"
      ]
     },
     "execution_count": 187,
     "metadata": {},
     "output_type": "execute_result"
    }
   ],
   "source": [
    "df['net_revenue'][::-1].pct_change(periods=4)"
   ]
  },
  {
   "cell_type": "code",
   "execution_count": null,
   "metadata": {},
   "outputs": [],
   "source": [
    "df['revenue'] = df['revenue'].fillna(df['revenue'].rolling(4,center=True,min_periods=1).mean())\n",
    "\n",
    "if df['revenue'][0]>=0 and (len(df['revenue'])) - df['revenue'].lt(0).sum() == 1:\n",
    "    df.loc[df['revenue'] > 0, 0:] = np.nan\n",
    "#     jcp_bs.replace()\n",
    "elif df['revenue'][0]<=0 and (len(df['revenue'])) - df['revenue'].gt(0).sum()==1:\n",
    "    df.loc[df['revenue']<0, 'revenue'] = np.nan\n",
    "else:\n",
    "    print(\"passed\")"
   ]
  },
  {
   "cell_type": "code",
   "execution_count": 49,
   "metadata": {
    "ExecuteTime": {
     "end_time": "2020-12-20T03:27:41.660565Z",
     "start_time": "2020-12-20T03:27:41.653557Z"
    }
   },
   "outputs": [
    {
     "name": "stdout",
     "output_type": "stream",
     "text": [
      "dict_keys(['-', 'positive', 'all', 'both', 'negative', 'zero_or_neg', 'zero_or_pos', nan])\n",
      "dict_values([17, 46, 15, 27, 2, 6, 1, 2])\n"
     ]
    }
   ],
   "source": [
    "fin_statements_matching['positive_negative'].unique()\n",
    "\n",
    "from collections import Counter\n",
    "\n",
    "words = list(fin_statements_matching['positive_negative'])#[0]\n",
    "\n",
    "print(Counter(words).keys())\n",
    "print(Counter(words).values()) # counts the elements' frequency"
   ]
  },
  {
   "cell_type": "code",
   "execution_count": 18,
   "metadata": {
    "ExecuteTime": {
     "end_time": "2020-12-20T03:15:35.213117Z",
     "start_time": "2020-12-20T03:15:35.198119Z"
    }
   },
   "outputs": [],
   "source": [
    "# important\n",
    "# jcp_bs['otherFinancingActivities'][::-1].values.searchsorted(0, side='right')\n",
    "# list(jcp_bs['costAndExpenses'].pct_change())\n",
    "# list(jcp_bs['costAndExpenses'])"
   ]
  },
  {
   "cell_type": "code",
   "execution_count": 50,
   "metadata": {
    "ExecuteTime": {
     "end_time": "2020-12-20T04:30:23.666568Z",
     "start_time": "2020-12-20T04:30:23.654525Z"
    }
   },
   "outputs": [],
   "source": [
    "early_missing_periods = jcp_bs[::-1]['commonStockRepurchased'].ne(0).idxmax()\n",
    "jcp_bs = jcp_bs[0:early_missing_periods+1]"
   ]
  },
  {
   "cell_type": "code",
   "execution_count": 53,
   "metadata": {
    "ExecuteTime": {
     "end_time": "2020-12-20T04:38:27.202633Z",
     "start_time": "2020-12-20T04:38:27.199624Z"
    }
   },
   "outputs": [],
   "source": [
    "# jcp_bs.loc[jcp_bs.commonStockRepurchased>0].iloc[[0,]].index[0]"
   ]
  },
  {
   "cell_type": "code",
   "execution_count": 52,
   "metadata": {
    "ExecuteTime": {
     "end_time": "2020-12-20T04:38:23.829767Z",
     "start_time": "2020-12-20T04:38:23.815242Z"
    }
   },
   "outputs": [],
   "source": [
    "# jcp_bs.loc[(jcp_bs.commonStockRepurchased>3).groupby(jcp_bs.symbol).idxmax]"
   ]
  },
  {
   "cell_type": "code",
   "execution_count": 48,
   "metadata": {
    "ExecuteTime": {
     "end_time": "2020-12-20T02:54:33.067386Z",
     "start_time": "2020-12-20T02:54:33.049387Z"
    }
   },
   "outputs": [],
   "source": [
    "\n",
    "ignore_periods = jcp_bs['commonStockRepurchased'][::-1].values.searchsorted(0, side='right')\n",
    "df = jcp_bs[0:ignore_periods]"
   ]
  },
  {
   "cell_type": "code",
   "execution_count": 150,
   "metadata": {
    "ExecuteTime": {
     "end_time": "2020-12-18T21:25:34.363494Z",
     "start_time": "2020-12-18T21:25:34.350493Z"
    }
   },
   "outputs": [],
   "source": [
    "# jcp_bs['revenue']= \n",
    "# jcp_bs['revenue'].fillna(pd.rolling_mean(input_data_frame[var_list], 6, min_periods=1))\n",
    "# jcp_bs['revenue'].fillna(pd.rolling(4,center=True,min_periods=1).mean((input_data_frame[var_list], 6, min_periods=1)))\n",
    "# jcp_bs['revenue'].fillna(jcp_bs['revenue'].rolling(4, min_periods=1, center=True))\n",
    "jcp_bs['revenue'] = jcp_bs['revenue'].fillna(jcp_bs['revenue'].rolling(4,center=True,min_periods=1).mean())\n",
    "jcp_bs['revenue'] = jcp_bs['revenue'].replace(np.NaN, 0)"
   ]
  },
  {
   "cell_type": "code",
   "execution_count": 68,
   "metadata": {
    "ExecuteTime": {
     "end_time": "2020-12-18T19:56:48.623259Z",
     "start_time": "2020-12-18T19:56:48.605259Z"
    }
   },
   "outputs": [],
   "source": [
    "no_null_jcp = jcp_bs[~jcp_bs['retainedEarnings'].isnull()]\n",
    "no_neg_jcp = no_null_jcp[~(no_null_jcp['retainedEarnings']<0)]\n",
    "no_pos_jcp = no_neg_jcp[~(no_neg_jcp['retainedEarnings']>=0)]"
   ]
  },
  {
   "cell_type": "code",
   "execution_count": 116,
   "metadata": {
    "ExecuteTime": {
     "end_time": "2020-12-19T20:06:59.363398Z",
     "start_time": "2020-12-19T20:06:59.336879Z"
    }
   },
   "outputs": [
    {
     "data": {
      "text/html": [
       "<div>\n",
       "<style scoped>\n",
       "    .dataframe tbody tr th:only-of-type {\n",
       "        vertical-align: middle;\n",
       "    }\n",
       "\n",
       "    .dataframe tbody tr th {\n",
       "        vertical-align: top;\n",
       "    }\n",
       "\n",
       "    .dataframe thead th {\n",
       "        text-align: right;\n",
       "    }\n",
       "</style>\n",
       "<table border=\"1\" class=\"dataframe\">\n",
       "  <thead>\n",
       "    <tr style=\"text-align: right;\">\n",
       "      <th></th>\n",
       "      <th>Unnamed: 0</th>\n",
       "      <th>date</th>\n",
       "      <th>symbol</th>\n",
       "      <th>fillingDate</th>\n",
       "      <th>acceptedDate</th>\n",
       "      <th>period</th>\n",
       "      <th>netIncome</th>\n",
       "      <th>depreciationAndAmortization</th>\n",
       "      <th>deferredIncomeTax</th>\n",
       "      <th>stockBasedCompensation</th>\n",
       "      <th>...</th>\n",
       "      <th>netCashUsedProvidedByFinancingActivities</th>\n",
       "      <th>effectOfForexChangesOnCash</th>\n",
       "      <th>netChangeInCash</th>\n",
       "      <th>cashAtEndOfPeriod</th>\n",
       "      <th>cashAtBeginningOfPeriod</th>\n",
       "      <th>operatingCashFlow</th>\n",
       "      <th>capitalExpenditure</th>\n",
       "      <th>freeCashFlow</th>\n",
       "      <th>link</th>\n",
       "      <th>finalLink</th>\n",
       "    </tr>\n",
       "  </thead>\n",
       "  <tbody>\n",
       "  </tbody>\n",
       "</table>\n",
       "<p>0 rows × 38 columns</p>\n",
       "</div>"
      ],
      "text/plain": [
       "Empty DataFrame\n",
       "Columns: [Unnamed: 0, date, symbol, fillingDate, acceptedDate, period, netIncome, depreciationAndAmortization, deferredIncomeTax, stockBasedCompensation, changeInWorkingCapital, accountsReceivables, inventory, accountsPayables, otherWorkingCapital, otherNonCashItems, netCashProvidedByOperatingActivities, investmentsInPropertyPlantAndEquipment, acquisitionsNet, purchasesOfInvestments, salesMaturitiesOfInvestments, otherInvestingActivites, netCashUsedForInvestingActivites, debtRepayment, commonStockIssued, commonStockRepurchased, dividendsPaid, otherFinancingActivites, netCashUsedProvidedByFinancingActivities, effectOfForexChangesOnCash, netChangeInCash, cashAtEndOfPeriod, cashAtBeginningOfPeriod, operatingCashFlow, capitalExpenditure, freeCashFlow, link, finalLink]\n",
       "Index: []\n",
       "\n",
       "[0 rows x 38 columns]"
      ]
     },
     "execution_count": 116,
     "metadata": {},
     "output_type": "execute_result"
    }
   ],
   "source": [
    "# important\n",
    "jcp_bs[(jcp_bs['otherFinancingActivites'].isnull())&(jcp_bs['otherFinancingActivites']<0)]\n",
    "# jcp_bs[~(jcp_bs['retainedEarnings']<0)]"
   ]
  },
  {
   "cell_type": "code",
   "execution_count": 79,
   "metadata": {
    "ExecuteTime": {
     "end_time": "2020-12-19T19:43:47.462373Z",
     "start_time": "2020-12-19T19:43:47.439856Z"
    }
   },
   "outputs": [],
   "source": [
    "if jcp_bs['revenue'][0]>=0 and (len(jcp_bs['revenue'])) - jcp_bs['revenue'].lt(0).sum() == 1:\n",
    "    jcp_bs.loc[jcp_bs['revenue'] > 0, 0:] = np.nan\n",
    "#     jcp_bs.replace()\n",
    "elif jcp_bs['revenue'][0]<=0 and (len(jcp_bs['revenue'])) - jcp_bs['revenue'].gt(0).sum()==1:\n",
    "    jcp_bs.loc[jcp_bs['revenue']<0, 'revenue'] = np.nan\n",
    "else:\n",
    "    print(\"passed\")"
   ]
  },
  {
   "cell_type": "code",
   "execution_count": 155,
   "metadata": {
    "ExecuteTime": {
     "end_time": "2020-12-18T23:31:43.900597Z",
     "start_time": "2020-12-18T23:31:43.884600Z"
    }
   },
   "outputs": [
    {
     "data": {
      "text/plain": [
       "'<table border=\"1\" class=\"dataframe\">\\n  <thead>\\n    <tr style=\"text-align: right;\">\\n      <th></th>\\n      <th>totalOtherIncomeExpensesNet</th>\\n    </tr>\\n  </thead>\\n  <tbody>\\n    <tr>\\n      <th>0</th>\\n      <td></td>\\n    </tr>\\n    <tr>\\n      <th>1</th>\\n      <td>-4000000.0</td>\\n    </tr>\\n    <tr>\\n      <th>2</th>\\n      <td>13000000.0</td>\\n    </tr>\\n    <tr>\\n      <th>3</th>\\n      <td>13000000.0</td>\\n    </tr>\\n    <tr>\\n      <th>4</th>\\n      <td>13000000.0</td>\\n    </tr>\\n    <tr>\\n      <th>5</th>\\n      <td>14000000.0</td>\\n    </tr>\\n    <tr>\\n      <th>6</th>\\n      <td>19000000.0</td>\\n    </tr>\\n    <tr>\\n      <th>7</th>\\n      <td>19000000.0</td>\\n    </tr>\\n    <tr>\\n      <th>8</th>\\n      <td>19000000.0</td>\\n    </tr>\\n    <tr>\\n      <th>9</th>\\n      <td>-8000000.0</td>\\n    </tr>\\n    <tr>\\n      <th>10</th>\\n      <td>2000000.0</td>\\n    </tr>\\n    <tr>\\n      <th>11</th>\\n      <td>14000000.0</td>\\n    </tr>\\n    <tr>\\n      <th>12</th>\\n      <td>-106000000.0</td>\\n    </tr>\\n    <tr>\\n      <th>13</th>\\n      <td>-1000000.0</td>\\n    </tr>\\n    <tr>\\n      <th>14</th>\\n      <td>-1000000.0</td>\\n    </tr>\\n    <tr>\\n      <th>15</th>\\n      <td>-2000000.0</td>\\n    </tr>\\n    <tr>\\n      <th>16</th>\\n      <td>-6000000.0</td>\\n    </tr>\\n    <tr>\\n      <th>17</th>\\n      <td>17000000.0</td>\\n    </tr>\\n    <tr>\\n      <th>18</th>\\n      <td>22000000.0</td>\\n    </tr>\\n    <tr>\\n      <th>19</th>\\n      <td>19000000.0</td>\\n    </tr>\\n    <tr>\\n      <th>20</th>\\n      <td>-5000000.0</td>\\n    </tr>\\n    <tr>\\n      <th>21</th>\\n      <td>12000000.0</td>\\n    </tr>\\n    <tr>\\n      <th>22</th>\\n      <td>-90000000.0</td>\\n    </tr>\\n    <tr>\\n      <th>23</th>\\n      <td>-53000000.0</td>\\n    </tr>\\n    <tr>\\n      <th>24</th>\\n      <td>-17000000.0</td>\\n    </tr>\\n    <tr>\\n      <th>25</th>\\n      <td>-38000000.0</td>\\n    </tr>\\n    <tr>\\n      <th>26</th>\\n      <td>-26000000.0</td>\\n    </tr>\\n    <tr>\\n      <th>27</th>\\n      <td>-64000000.0</td>\\n    </tr>\\n    <tr>\\n      <th>28</th>\\n      <td>-4000000.0</td>\\n    </tr>\\n    <tr>\\n      <th>29</th>\\n      <td>0.0</td>\\n    </tr>\\n    <tr>\\n      <th>30</th>\\n      <td>-197000000.0</td>\\n    </tr>\\n    <tr>\\n      <th>31</th>\\n      <td>-208000000.0</td>\\n    </tr>\\n    <tr>\\n      <th>32</th>\\n      <td>-7000000.0</td>\\n    </tr>\\n    <tr>\\n      <th>33</th>\\n      <td>0.0</td>\\n    </tr>\\n    <tr>\\n      <th>34</th>\\n      <td>0.0</td>\\n    </tr>\\n    <tr>\\n      <th>35</th>\\n      <td>0.0</td>\\n    </tr>\\n    <tr>\\n      <th>36</th>\\n      <td>0.0</td>\\n    </tr>\\n    <tr>\\n      <th>37</th>\\n      <td>0.0</td>\\n    </tr>\\n    <tr>\\n      <th>38</th>\\n      <td>0.0</td>\\n    </tr>\\n    <tr>\\n      <th>39</th>\\n      <td>-20000000.0</td>\\n    </tr>\\n    <tr>\\n      <th>40</th>\\n      <td>0.0</td>\\n    </tr>\\n    <tr>\\n      <th>41</th>\\n      <td>0.0</td>\\n    </tr>\\n    <tr>\\n      <th>42</th>\\n      <td>0.0</td>\\n    </tr>\\n    <tr>\\n      <th>43</th>\\n      <td>0.0</td>\\n    </tr>\\n    <tr>\\n      <th>44</th>\\n      <td>0.0</td>\\n    </tr>\\n    <tr>\\n      <th>45</th>\\n      <td>0.0</td>\\n    </tr>\\n    <tr>\\n      <th>46</th>\\n      <td>0.0</td>\\n    </tr>\\n    <tr>\\n      <th>47</th>\\n      <td>0.0</td>\\n    </tr>\\n    <tr>\\n      <th>48</th>\\n      <td>0.0</td>\\n    </tr>\\n    <tr>\\n      <th>49</th>\\n      <td>-15000000.0</td>\\n    </tr>\\n    <tr>\\n      <th>50</th>\\n      <td>-9000000.0</td>\\n    </tr>\\n    <tr>\\n      <th>51</th>\\n      <td>-13000000.0</td>\\n    </tr>\\n    <tr>\\n      <th>52</th>\\n      <td>-9000000.0</td>\\n    </tr>\\n    <tr>\\n      <th>53</th>\\n      <td>-9000000.0</td>\\n    </tr>\\n    <tr>\\n      <th>54</th>\\n      <td>-4000000.0</td>\\n    </tr>\\n    <tr>\\n      <th>55</th>\\n      <td>-8000000.0</td>\\n    </tr>\\n    <tr>\\n      <th>56</th>\\n      <td>-9000000.0</td>\\n    </tr>\\n    <tr>\\n      <th>57</th>\\n      <td>-13000000.0</td>\\n    </tr>\\n    <tr>\\n      <th>58</th>\\n      <td>-13000000.0</td>\\n    </tr>\\n    <tr>\\n      <th>59</th>\\n      <td>-5000000.0</td>\\n    </tr>\\n    <tr>\\n      <th>60</th>\\n      <td>-14000000.0</td>\\n    </tr>\\n    <tr>\\n      <th>61</th>\\n      <td>-22000000.0</td>\\n    </tr>\\n    <tr>\\n      <th>62</th>\\n      <td>25000000.0</td>\\n    </tr>\\n    <tr>\\n      <th>63</th>\\n      <td>0.0</td>\\n    </tr>\\n    <tr>\\n      <th>64</th>\\n      <td>-5000000.0</td>\\n    </tr>\\n    <tr>\\n      <th>65</th>\\n      <td>-8000000.0</td>\\n    </tr>\\n    <tr>\\n      <th>66</th>\\n      <td>-10000000.0</td>\\n    </tr>\\n    <tr>\\n      <th>67</th>\\n      <td>-8000000.0</td>\\n    </tr>\\n    <tr>\\n      <th>68</th>\\n      <td>9000000.0</td>\\n    </tr>\\n    <tr>\\n      <th>69</th>\\n      <td>-3000000.0</td>\\n    </tr>\\n    <tr>\\n      <th>70</th>\\n      <td>0.0</td>\\n    </tr>\\n    <tr>\\n      <th>71</th>\\n      <td>-5000000.0</td>\\n    </tr>\\n    <tr>\\n      <th>72</th>\\n      <td>-9000000.0</td>\\n    </tr>\\n    <tr>\\n      <th>73</th>\\n      <td>-6000000.0</td>\\n    </tr>\\n  </tbody>\\n</table>'"
      ]
     },
     "execution_count": 155,
     "metadata": {},
     "output_type": "execute_result"
    }
   ],
   "source": [
    "jcp_bs[['totalOtherIncomeExpensesNet']].to_html().replace(\"<td>NaN</td>\",\"<td></td>\")"
   ]
  },
  {
   "cell_type": "code",
   "execution_count": 8,
   "metadata": {
    "ExecuteTime": {
     "end_time": "2020-12-18T09:39:55.743539Z",
     "start_time": "2020-12-18T09:39:55.725541Z"
    }
   },
   "outputs": [],
   "source": [
    "# sorted_metric = np.sort(metric_history)[::-1]\n",
    "fin_metric_name = 'cashAndCashEquivalents'\n",
    "sorted_metric = df[\"{}\".format(fin_metric_name)].sort_values()\n",
    "quarters = round(len(sorted_metric)/4)\n",
    "bottom_25 = sorted_metric[len(sorted_metric)-1-quarters]\n",
    "top_25 = sorted_metric[quarters-1]\n",
    "max_num = max(sorted_metric)\n",
    "min_num = min(sorted_metric)\n",
    "mean = sorted_metric.mean()\n",
    "std_dev = sorted_metric.std()\n",
    "std_dev_str = \"+/-{}{}%\".format(currency_symbol,round(abs((std_dev-mean)/mean)*100,1))\n",
    "mean_str = magnitude_num(mean, currency_symbol)\n",
    "max_str = magnitude_num(max_num, currency_symbol)\n",
    "min_str = magnitude_num(min_num, currency_symbol)\n",
    "bottom_25_str = magnitude_num(bottom_25, currency_symbol)\n",
    "top_25_str = magnitude_num(top_25, currency_symbol)"
   ]
  },
  {
   "cell_type": "code",
   "execution_count": 9,
   "metadata": {
    "ExecuteTime": {
     "end_time": "2020-12-18T09:39:59.848524Z",
     "start_time": "2020-12-18T09:39:59.834527Z"
    },
    "code_folding": [],
    "run_control": {
     "marked": true
    }
   },
   "outputs": [],
   "source": [
    "latest_num = df[\"{}\".format(fin_metric_name)][0]\n",
    "first_num = list(df[\"{}\".format(fin_metric_name)])[-1]\n",
    "pct_chg = (latest_num - first_num)/first_num\n",
    "historical_pct_chg = str(round(pct_chg*100, 1))\n",
    "# lifetime_sum_all_metric = df[\"{}\".format(fin_metric_name)].sum()\n",
    "# lifetime_sum_all_metric = magnitude_num(lifetime_sum_all_metric,currency_symbol)"
   ]
  },
  {
   "cell_type": "code",
   "execution_count": 11,
   "metadata": {
    "ExecuteTime": {
     "end_time": "2020-12-18T09:40:01.266025Z",
     "start_time": "2020-12-18T09:40:01.245028Z"
    },
    "code_folding": [],
    "run_control": {
     "marked": true
    }
   },
   "outputs": [],
   "source": [
    "# hide - cash equiv\n",
    "if pct_chg>=0:\n",
    "    pct_chg_str = \"+{}%\".format(pct_chg)\n",
    "elif pct_chg<0:\n",
    "    pct_chg_str = \"-{}%\".format(pct_chg)\n",
    "else:\n",
    "    pct_chg_str = \"\"\n",
    "# historical_pct_chg = str(round(pct_chg*100, 1))\n",
    "max_min_pct_diff = ((max_num-min_num)/min_num)\n",
    "if max_min_pct_diff>=0:\n",
    "    max_min_pct_diff_str = \"+{}%\".format(round(max_min_pct_diff)*100,1)\n",
    "elif max_min_pct_diff<0:\n",
    "    max_min_pct_diff_str = \"-{}%\".format(round(max_min_pct_diff)*100,1)\n",
    "else:\n",
    "    max_min_pct_diff_str = \"\"\n",
    "    \n",
    "df_fin_statement['Quarter & Year'] =(df_fin_statement['date'].astype(str).str[0:4]).astype(int)\n",
    "latest_year = list((df_fin_statement['date'].astype(str).str[0:4]))[0]\n",
    "earliest_year = list((df_fin_statement['date'].astype(str).str[0:4]))[-1]\n",
    "earliest_metric = (list(df[\"{}\".format(\"{}\".format(fin_metric_name))])[-1])\n",
    "latest_metric = (list(df[\"{}\".format(\"{}\".format(fin_metric_name))])[0])"
   ]
  },
  {
   "cell_type": "code",
   "execution_count": 13,
   "metadata": {
    "ExecuteTime": {
     "end_time": "2020-12-17T23:56:57.029200Z",
     "start_time": "2020-12-17T23:56:57.020199Z"
    }
   },
   "outputs": [
    {
     "data": {
      "text/plain": [
       "'Cash and Cash Equivalents'"
      ]
     },
     "execution_count": 13,
     "metadata": {},
     "output_type": "execute_result"
    }
   ],
   "source": [
    "fin_metric_title"
   ]
  },
  {
   "cell_type": "code",
   "execution_count": 12,
   "metadata": {
    "ExecuteTime": {
     "end_time": "2020-12-18T09:40:05.491105Z",
     "start_time": "2020-12-18T09:40:05.478106Z"
    },
    "code_folding": [
     0
    ],
    "run_control": {
     "marked": false
    }
   },
   "outputs": [],
   "source": [
    "titles_bs =['Cash and Cash Equivalents',\n",
    " 'Short Term Investments',\n",
    " 'Cash And Short-Term Investments',\n",
    " 'Accounts Receivables',\n",
    " 'Inventory',\n",
    " 'Other Current Assets',\n",
    " 'Total Current Assets',\n",
    " 'PP&E',\n",
    " 'Goodwill',\n",
    " 'Intangible Assets',\n",
    " 'Goodwill and Intangible Assets',\n",
    " 'Long-term Investments',\n",
    " 'Tax Assets',\n",
    " 'Other Non-Current Assets',\n",
    " 'Total Non-Current Assets',\n",
    " 'Other Assets',\n",
    " 'Total Assets',\n",
    " 'Accounts Payables',\n",
    " 'Short-term Debt',\n",
    " 'Income Tax Payables',\n",
    " 'Deferred Revenue',\n",
    " 'Other Current Liabilities',\n",
    " 'Total Current Liabilities',\n",
    " 'Long-term Debt',\n",
    " 'Deferred Revenue Non-Current',\n",
    " 'Deferred Tax Liabilities Non-Current',\n",
    " 'Other Non-Current Liabilities',\n",
    " 'Total Non-Current Liabilities',\n",
    " 'Other Liabilities',\n",
    " 'Total Liabilities',\n",
    " 'Common Stock',\n",
    " 'Retained Earnings',\n",
    " 'Accumulated Other Comprehensive Income Loss',\n",
    " 'Other Shareholders Equity',\n",
    " 'Total Shareholders Equity',\n",
    " 'Total Liabilities & Stockholders Equity',\n",
    " 'Total Investments',\n",
    " 'Total Debt',\n",
    " 'Net Debt',\n",
    " 'SEC Statement Link']\n",
    "# col = titles_bs\n",
    "# df_fin_statement = df_fin_statement[col]\n",
    "# df_fin_statement = df_fin_statement.iloc[:, [0,1,2,3,4,5,6,7,8,9,10,11,12,13,14,15,16,17,18,19,20,21,22,23,24,25,26,27,28,29,30,31,32,33,34,35,36,37,38,39]]\n",
    "# cols"
   ]
  },
  {
   "cell_type": "code",
   "execution_count": 13,
   "metadata": {
    "ExecuteTime": {
     "end_time": "2020-12-18T09:40:06.411468Z",
     "start_time": "2020-12-18T09:40:06.384467Z"
    },
    "code_folding": [],
    "run_control": {
     "marked": true
    }
   },
   "outputs": [],
   "source": [
    "# hide - cash equiv\n",
    "titles_list = ['Date','Symbol','Filing Date','Accepted Date','Period','SEC Filing Link'][:]\n",
    "\n",
    "for x in reversed(titles_bs):\n",
    "    if x in titles_list:\n",
    "        titles_bs.remove(x)\n",
    "        print(x, \"is in\")\n",
    "    else:\n",
    "        pass\n",
    "#         print(x, \"is not in\")  \n",
    "titles_bs.append('Quarter & Year') \n",
    "df_fin_statement = df_fin_statement.drop([ 'Unnamed: 0','date','symbol','fillingDate','acceptedDate','period','link'],axis=1, errors='ignore')\n",
    "df_fin_statement.columns = titles_bs\n",
    "\n",
    "# df_fin_statement = df_fin_statement[cols]\n",
    "\n",
    "df_fin_statement.index = df_fin_statement['Quarter & Year']\n",
    "\n",
    "million = 1000000\n",
    "billion = 1000000000\n",
    "fin_metric_title = \"Cash and Cash Equivalents\"\n",
    "fin_metric_history = df_fin_statement['{}'.format(fin_metric_title)]\n",
    "if list(fin_metric_history)[0]  > billion:\n",
    "    df_fin_statement['{}'.format(fin_metric_title)] = (fin_metric_history/billion).round(decimals=2)\n",
    "\n",
    "elif list(fin_metric_history)[0]  > million:\n",
    "    df_fin_statement['{}'.format(fin_metric_title)] = (fin_metric_history/million).round(decimals=2)\n",
    "\n",
    "    pass\n",
    "else:\n",
    "    pass"
   ]
  },
  {
   "cell_type": "code",
   "execution_count": null,
   "metadata": {},
   "outputs": [],
   "source": []
  },
  {
   "cell_type": "code",
   "execution_count": 15,
   "metadata": {
    "ExecuteTime": {
     "end_time": "2020-12-16T19:22:10.285150Z",
     "start_time": "2020-12-16T19:22:10.275157Z"
    },
    "code_folding": [
     0
    ],
    "run_control": {
     "marked": false
    }
   },
   "outputs": [],
   "source": [
    "# hide - variables\n",
    "# vars_names_list = []\n",
    "# vars_values_list = []\n",
    "# # for name in vars().keys():\n",
    "# #   vars_names_list.append(name)\n",
    "# for name, value in globals().items():\n",
    "#     vars_names_list.append(name)\n",
    "#     vars_values_list.append(value)\n",
    "# vars_names_list    \n",
    "# vars_values_list_100 = [str(x)[0:50] for x in vars_values_list]\n",
    "# vars_df = pd.DataFrame({'vars_names_list':vars_names_list,'vars_values_list_100':vars_values_list_100})\n",
    "# # vars_values_list_100\n",
    "# vars_df.to_csv(\"../reference_data/flask_variables.csv\")"
   ]
  },
  {
   "cell_type": "code",
   "execution_count": 14,
   "metadata": {
    "ExecuteTime": {
     "end_time": "2020-12-18T09:40:10.377354Z",
     "start_time": "2020-12-18T09:40:10.347355Z"
    }
   },
   "outputs": [],
   "source": [
    "df_pct_chg = df_fin_statement\n",
    "pct_chg_cols = (df_fin_statement.select_dtypes(include=['number']).pct_change(-1))\n",
    "df_pct_chg_str = df_pct_chg.drop(list(pct_chg_cols), axis=1)\n",
    "df_pct_chg = df_pct_chg_str.join(pct_chg_cols)[list(df_fin_statement)]\n",
    "# pd.set_option('display.float_format', '{:.2f}'.format)\n",
    "df_pct_chg_t = df_pct_chg.transpose()\n",
    "# df_pct_chg_t.columns = list(df_pct_chg['Quarter & Year'])\n",
    "# df_pct_chg_t = df_pct_chg_t.iloc[1:]\n",
    "# # list(df_pct_chg_str.join(pct_chg_cols)[list(df_fin_statement)])\n",
    "# # len(df_pct_chg.transpose())\n",
    "# # list(df_pct_chg['Quarter & Year'])\n",
    "# df_pct_chg_str.join(pct_chg_cols)[list(df_fin_statement)]"
   ]
  },
  {
   "cell_type": "code",
   "execution_count": 100,
   "metadata": {
    "ExecuteTime": {
     "end_time": "2020-12-20T19:56:34.584272Z",
     "start_time": "2020-12-20T19:56:34.570760Z"
    }
   },
   "outputs": [],
   "source": [
    "# hide\n",
    "df_pct_chg = df_fin_statement\n",
    "pct_chg_cols = (df_fin_statement.select_dtypes(include=['number']).pct_change(-1))\n",
    "df_pct_chg_str = df_pct_chg.drop(list(pct_chg_cols), axis=1)\n",
    "# df_pct_chg = df_pct_chg_str.join(pct_chg_cols)[list(df_fin_statement)]\n",
    "df_pct_chg = df_fin_statement\n",
    "\n",
    "pd.set_option('display.float_format', '{:.2f}'.format)\n",
    "df_pct_chg_t = df_pct_chg.transpose()\n",
    "# df_pct_chg_t.columns = list(df_pct_chg['Quarter & Year'])\n",
    "# df_pct_chg_t = df_pct_chg_t.iloc[1:]\n",
    "df_pct_chg_t.columns = list(df_pct_chg['Quarter & Year'])\n",
    "# df_pct_chg_t = df_pct_chg_t.iloc[1:]\n",
    "# df_pct_chg_t\n",
    "df_pct_chg_t = df_pct_chg_t.iloc[1:]\n",
    "df_pct_chg_t['']=df_pct_chg_t.index\n",
    "df_pct_chg_t.index = range(len(df_pct_chg_t))\n",
    "\n",
    "# print(\"ww\",len(col))\n",
    "cols = list(df_pct_chg_t.columns)\n",
    "print(\"ww\",len(df))\n",
    "cols = [cols[-1]] + cols[:-1]\n",
    "\n",
    "df_pct_chg_t = df_pct_chg_t[cols]\n",
    "\n",
    "df_t = df_fin_statement.transpose()\n",
    "df_t.columns = list(df_fin_statement['Quarter & Year'])\n",
    "df_t = df_t.iloc[1:]\n",
    "df_t['']=df_t.index\n",
    "\n",
    "df_t.index = range(len(df_t))\n",
    "cols = list(df_t.columns)\n",
    "cols = [cols[-1]] + cols[:-1]\n",
    "df_t = df_t[cols]\n",
    "df_pct = df_pct_chg_t.to_html()#.replace('<table','<table class=\"df_tableBoot\" id=\"df_myTable1\"')# dt-responsive\" id=\"df_myTable\"')\n",
    "def isnumber(x):\n",
    "    try:\n",
    "        float(x)\n",
    "        return True\n",
    "    except:\n",
    "        return False"
   ]
  },
  {
   "cell_type": "code",
   "execution_count": 39,
   "metadata": {
    "ExecuteTime": {
     "end_time": "2020-12-18T00:34:49.850327Z",
     "start_time": "2020-12-18T00:34:49.841330Z"
    }
   },
   "outputs": [
    {
     "data": {
      "text/plain": [
       "Index([1085.22,      '',    1994,    1994,    1994,    1994,    1994,    1994,\n",
       "          1994,    1994,\n",
       "       ...\n",
       "          2019,    2020,    2020,    2020,    2020,    2020,    2020,    2020,\n",
       "          2020,    2020],\n",
       "      dtype='object', length=429)"
      ]
     },
     "execution_count": 39,
     "metadata": {},
     "output_type": "execute_result"
    }
   ],
   "source": [
    "\n",
    "df_n = df_fin_statement[df_fin_statement.applymap(isnumber)]\n",
    "\n",
    "df_n[df_n < 2] = np.nan\n",
    "df_n_sum = pd.DataFrame(df_n.sum())\n",
    "\n",
    "new_header = df_n_sum.iloc[0] #grab the first row for the header\n",
    "df_n_sum = df_n_sum#[1:] #take the data less the header row\n",
    "\n",
    "df_n_sum.columns = new_header #set the header row as the df header\n",
    "df_n_sum.index = range(len(df_n_sum))\n",
    "# df_t = pd.merge(df_n_sum, df_t, left_index=True, right_index=True,suffixes=('Total: {} - {}'.format(latest_year,earliest_year), 'Line Items'))\n",
    "# df_t = df_t[0:25]\n",
    "\n",
    "df_t = pd.merge(df_n_sum, df_t, left_index=True, right_index=True,suffixes=('Total: {} - {}'.format(latest_year,earliest_year), 'Line Items'))\n",
    "len(list(df_t))\n",
    "df_t.columns\n",
    "df_t[df_t.columns]"
   ]
  },
  {
   "cell_type": "code",
   "execution_count": 19,
   "metadata": {
    "ExecuteTime": {
     "end_time": "2020-12-16T19:22:15.622019Z",
     "start_time": "2020-12-16T19:22:15.488017Z"
    },
    "code_folding": [],
    "run_control": {
     "marked": false
    }
   },
   "outputs": [
    {
     "name": "stdout",
     "output_type": "stream",
     "text": [
      "Nothing took 19.73895835876465 seconds\n"
     ]
    }
   ],
   "source": [
    "\n",
    "# df_t = df_t[0:25]\n",
    "\n",
    "\n",
    "\n",
    "col_list = []\n",
    "n=0\n",
    "while n<len(list(df_t))-0:\n",
    "    if n<6:\n",
    "            col_item = '<col id=\"col_item_{}\" class=\"col_item_class first_7_col\">'.format(n)\n",
    "    else:\n",
    "        col_item = '<col id=\"col_item_{}\" class=\"col_item_class\">'.format(n)\n",
    "    col_list.append(col_item)\n",
    "    n+=1\n",
    "col_list_str = ''.join(map(str, col_list))\n",
    "df_html = df_t.to_html().replace('border=\"1\" class=\"dataframe\">','class=\"df_tableBoot\" id=\"df_myTable\" border=\"1\" class=\"dataframe\"><colgroup>{}</colgroup>'.format(col_list_str))\n",
    "# df_table_html = df_fin_statement[['{}'.format(fin_metric_title)]].iloc[::-1].transpose().to_html()#.replace(\"\\n\",\"\")\n",
    "df_tall = df.iloc[::-1]\n",
    "# df_tall.index = df['Quarter & Year']\n",
    "# df_tall = df.index.shift(-1)\n",
    "# df_tall = df_tall.reset_index()\n",
    "df_html_tall = df_tall[['{}'.format('Quarter & Year'),'{}'.format(fin_metric_name)]].to_html(index=False)\n",
    "df_html_tall = df_html_tall.replace('border=\"1\" class=\"dataframe\">','class=\"abc\" id=\"df_myTable\" border=\"1\" class=\"dataframe\">')#.replace(\"'\",\"\")\n",
    "# df_html_tall = df_html_tall.replace(\"\\n\",\"\")\n",
    "df_html_tall = df_html_tall.replace(\"\\n\",\"\")\n",
    "df_html_tall = df_html_tall.replace(\"{}\".format(\"[\"),\"\")\n",
    "df_html_tall = df_html_tall #render_template_string(df_html_tall)\n",
    "df_html = df_html.replace('<td>','<td class=\"td_fin_statement_class fin_statement_class\">')\n",
    "df_html = df_html.replace('<th>','<th class=\"th_fin_statement_class fin_statement_class\">')\n",
    "df_html = df_html.replace('<tr>','<tr class=\"tr_fin_statement_class fin_statement_class\">')\n",
    "#  df_html_tall = df_html_tall.replace(\"\\n\",\"\")\n",
    "# df_html_tall.replace(\"\\n\",'\">')\n",
    "df_html_tall = df_html_tall.replace('<td>','<td class=\"td_fin_statement_class fin_statement_class\">')\n",
    "df_html_tall = df_html_tall.replace('<th>','<th class=\"th_fin_statement_class fin_statement_class\">')\n",
    "df_html_tall = df_html_tall.replace('<tr>','<tr class=\"tr_fin_statement_class fin_statement_class\">')\n",
    "df_html_tall = df_html_tall[0:]\n",
    "\n",
    "df = df[['date',\"{}\".format(fin_metric_name)]].dropna() #.fillna(0)#.fillna(method='bfill')\n",
    "df['date'] = pd.to_datetime(df['date']).values.astype(np.int64) // 10 ** 6\n",
    "full_path = csv_file.split(' ~ ')\n",
    "path = pathlib.PurePath(full_path[0])\n",
    "print(\"Nothing took {} seconds\".format(time.time() - start_time))\n",
    "total_seconds = ((time.time() - start_time))\n",
    "\n",
    "labels = [\n",
    "    'JAN', 'FEB', 'MAR', 'APR',\n",
    "    'MAY', 'JUN', 'JUL', 'AUG',\n",
    "    'SEP', 'OCT', 'NOV', 'DEC'\n",
    "]\n",
    "labels = list(df['date'])#[0:19]\n",
    "\n",
    "values = [\n",
    "    967.67, 1190.89, 1079.75, 1349.19,\n",
    "    2328.91, 2504.28, 2873.83, 4764.87,\n",
    "    4349.29, 6458.30, 9907, 16297\n",
    "]\n",
    "\n",
    "values = list(df[\"{}\".format(fin_metric_name)])#[0:19]\n",
    "\n",
    "colors = [\n",
    "    \"#F7464A\", \"#46BFBD\", \"#FDB45C\", \"#FEDCBA\",\n",
    "    \"#ABCDEF\", \"#DDDDDD\", \"#ABCABC\", \"#4169E1\",\n",
    "    \"#C71585\", \"#FF4500\", \"#FEDCBA\", \"#46BFBD\"]\n",
    "df_table_html = df_tall[['{}'.format(fin_metric_name)]].iloc[::-1].transpose().to_html()#.replace(\"\\n\",\"\")\n",
    "present_num = magnitude_num(int(latest_metric),currency_symbol)\n",
    "latest_num = \"${}\".format(df[\"{}\".format(fin_metric_name)][0])\n"
   ]
  },
  {
   "cell_type": "markdown",
   "metadata": {},
   "source": [
    "#### trying to read flask server with requests  "
   ]
  },
  {
   "cell_type": "code",
   "execution_count": 13,
   "metadata": {
    "ExecuteTime": {
     "end_time": "2020-12-14T19:06:46.857681Z",
     "start_time": "2020-12-14T19:06:46.401227Z"
    }
   },
   "outputs": [
    {
     "name": "stdout",
     "output_type": "stream",
     "text": [
      "b'<!DOCTYPE HTML PUBLIC \"-//W3C//DTD HTML 4.01 Transitional//EN\"\\n  \"http://www.w3.org/TR/html4/loose.dtd\">\\n<html>\\n  <head>\\n    <title>NameError: name \\'start_time\\' is not defined // Werkzeug Debugger</title>\\n    <link rel=\"stylesheet\" href=\"?__debugger__=yes&amp;cmd=resource&amp;f=style.css\"\\n        type=\"text/css\">\\n    <!-- We need to make sure this has a favicon so that the debugger does\\n         not by accident trigger a request to /favicon.ico which might\\n         change the application state. -->\\n    <link rel=\"shortcut icon\"\\n        href=\"?__debugger__=yes&amp;cmd=resource&amp;f=console.png\">\\n    <script src=\"?__debugger__=yes&amp;cmd=resource&amp;f=jquery.js\"></script>\\n    <script src=\"?__debugger__=yes&amp;cmd=resource&amp;f=debugger.js\"></script>\\n    <script type=\"text/javascript\">\\n      var TRACEBACK = 1834011132928,\\n          CONSOLE_MODE = false,\\n          EVALEX = true,\\n          EVALEX_TRUSTED = false,\\n          SECRET = \"t3wb8w77FxDSu3AUMLC3\";\\n    </script>\\n  </head>\\n  <body style=\"background-color: #fff\">\\n    <div class=\"debugger\">\\n<h1>NameError</h1>\\n<div class=\"detail\">\\n  <p class=\"errormsg\">NameError: name \\'start_time\\' is not defined</p>\\n</div>\\n<h2 class=\"traceback\">Traceback <em>(most recent call last)</em></h2>\\n<div class=\"traceback\">\\n  \\n  <ul><li><div class=\"frame\" id=\"frame-1834011046432\">\\n  <h4>File <cite class=\"filename\">\"C:\\\\Users\\\\Tom\\\\AppData\\\\Local\\\\Programs\\\\Python\\\\Python39\\\\Lib\\\\site-packages\\\\flask\\\\app.py\"</cite>,\\n      line <em class=\"line\">2464</em>,\\n      in <code class=\"function\">__call__</code></h4>\\n  <div class=\"source \"><pre class=\"line before\"><span class=\"ws\"></span> </pre>\\n<pre class=\"line before\"><span class=\"ws\">    </span>def __call__(self, environ, start_response):</pre>\\n<pre class=\"line before\"><span class=\"ws\">        </span>&quot;&quot;&quot;The WSGI server calls the Flask application object as the</pre>\\n<pre class=\"line before\"><span class=\"ws\">        </span>WSGI application. This calls :meth:`wsgi_app` which can be</pre>\\n<pre class=\"line before\"><span class=\"ws\">        </span>wrapped to applying middleware.&quot;&quot;&quot;</pre>\\n<pre class=\"line current\"><span class=\"ws\">        </span>return self.wsgi_app(environ, start_response)</pre>\\n<pre class=\"line after\"><span class=\"ws\"></span> </pre>\\n<pre class=\"line after\"><span class=\"ws\">    </span>def __repr__(self):</pre>\\n<pre class=\"line after\"><span class=\"ws\">        </span>return &quot;&lt;%s %r&gt;&quot; % (self.__class__.__name__, self.name)</pre></div>\\n</div>\\n\\n<li><div class=\"frame\" id=\"frame-1834011046192\">\\n  <h4>File <cite class=\"filename\">\"C:\\\\Users\\\\Tom\\\\AppData\\\\Local\\\\Programs\\\\Python\\\\Python39\\\\Lib\\\\site-packages\\\\flask\\\\app.py\"</cite>,\\n      line <em class=\"line\">2450</em>,\\n      in <code class=\"function\">wsgi_app</code></h4>\\n  <div class=\"source \"><pre class=\"line before\"><span class=\"ws\">            </span>try:</pre>\\n<pre class=\"line before\"><span class=\"ws\">                </span>ctx.push()</pre>\\n<pre class=\"line before\"><span class=\"ws\">                </span>response = self.full_dispatch_request()</pre>\\n<pre class=\"line before\"><span class=\"ws\">            </span>except Exception as e:</pre>\\n<pre class=\"line before\"><span class=\"ws\">                </span>error = e</pre>\\n<pre class=\"line current\"><span class=\"ws\">                </span>response = self.handle_exception(e)</pre>\\n<pre class=\"line after\"><span class=\"ws\">            </span>except:  # noqa: B001</pre>\\n<pre class=\"line after\"><span class=\"ws\">                </span>error = sys.exc_info()[1]</pre>\\n<pre class=\"line after\"><span class=\"ws\">                </span>raise</pre>\\n<pre class=\"line after\"><span class=\"ws\">            </span>return response(environ, start_response)</pre>\\n<pre class=\"line after\"><span class=\"ws\">        </span>finally:</pre></div>\\n</div>\\n\\n<li><div class=\"frame\" id=\"frame-1834011046048\">\\n  <h4>File <cite class=\"filename\">\"C:\\\\Users\\\\Tom\\\\AppData\\\\Local\\\\Programs\\\\Python\\\\Python39\\\\Lib\\\\site-packages\\\\flask\\\\app.py\"</cite>,\\n      line <em class=\"line\">1867</em>,\\n      in <code class=\"function\">handle_exception</code></h4>\\n  <div class=\"source \"><pre class=\"line before\"><span class=\"ws\">            </span># if we want to repropagate the exception, we can attempt to</pre>\\n<pre class=\"line before\"><span class=\"ws\">            </span># raise it with the whole traceback in case we can do that</pre>\\n<pre class=\"line before\"><span class=\"ws\">            </span># (the function was actually called from the except part)</pre>\\n<pre class=\"line before\"><span class=\"ws\">            </span># otherwise, we just raise the error again</pre>\\n<pre class=\"line before\"><span class=\"ws\">            </span>if exc_value is e:</pre>\\n<pre class=\"line current\"><span class=\"ws\">                </span>reraise(exc_type, exc_value, tb)</pre>\\n<pre class=\"line after\"><span class=\"ws\">            </span>else:</pre>\\n<pre class=\"line after\"><span class=\"ws\">                </span>raise e</pre>\\n<pre class=\"line after\"><span class=\"ws\"></span> </pre>\\n<pre class=\"line after\"><span class=\"ws\">        </span>self.log_exception((exc_type, exc_value, tb))</pre>\\n<pre class=\"line after\"><span class=\"ws\">        </span>server_error = InternalServerError()</pre></div>\\n</div>\\n\\n<li><div class=\"frame\" id=\"frame-1834011047488\">\\n  <h4>File <cite class=\"filename\">\"C:\\\\Users\\\\Tom\\\\AppData\\\\Local\\\\Programs\\\\Python\\\\Python39\\\\Lib\\\\site-packages\\\\flask\\\\_compat.py\"</cite>,\\n      line <em class=\"line\">39</em>,\\n      in <code class=\"function\">reraise</code></h4>\\n  <div class=\"source \"><pre class=\"line before\"><span class=\"ws\">    </span>import collections.abc as collections_abc</pre>\\n<pre class=\"line before\"><span class=\"ws\"></span> </pre>\\n<pre class=\"line before\"><span class=\"ws\">    </span>def reraise(tp, value, tb=None):</pre>\\n<pre class=\"line before\"><span class=\"ws\">        </span>if value.__traceback__ is not tb:</pre>\\n<pre class=\"line before\"><span class=\"ws\">            </span>raise value.with_traceback(tb)</pre>\\n<pre class=\"line current\"><span class=\"ws\">        </span>raise value</pre>\\n<pre class=\"line after\"><span class=\"ws\"></span> </pre>\\n<pre class=\"line after\"><span class=\"ws\">    </span>implements_to_string = _identity</pre>\\n<pre class=\"line after\"><span class=\"ws\"></span> </pre>\\n<pre class=\"line after\"><span class=\"ws\"></span>else:</pre>\\n<pre class=\"line after\"><span class=\"ws\">    </span>iterkeys = lambda d: d.iterkeys()</pre></div>\\n</div>\\n\\n<li><div class=\"frame\" id=\"frame-1834011049744\">\\n  <h4>File <cite class=\"filename\">\"C:\\\\Users\\\\Tom\\\\AppData\\\\Local\\\\Programs\\\\Python\\\\Python39\\\\Lib\\\\site-packages\\\\flask\\\\app.py\"</cite>,\\n      line <em class=\"line\">2447</em>,\\n      in <code class=\"function\">wsgi_app</code></h4>\\n  <div class=\"source \"><pre class=\"line before\"><span class=\"ws\">        </span>ctx = self.request_context(environ)</pre>\\n<pre class=\"line before\"><span class=\"ws\">        </span>error = None</pre>\\n<pre class=\"line before\"><span class=\"ws\">        </span>try:</pre>\\n<pre class=\"line before\"><span class=\"ws\">            </span>try:</pre>\\n<pre class=\"line before\"><span class=\"ws\">                </span>ctx.push()</pre>\\n<pre class=\"line current\"><span class=\"ws\">                </span>response = self.full_dispatch_request()</pre>\\n<pre class=\"line after\"><span class=\"ws\">            </span>except Exception as e:</pre>\\n<pre class=\"line after\"><span class=\"ws\">                </span>error = e</pre>\\n<pre class=\"line after\"><span class=\"ws\">                </span>response = self.handle_exception(e)</pre>\\n<pre class=\"line after\"><span class=\"ws\">            </span>except:  # noqa: B001</pre>\\n<pre class=\"line after\"><span class=\"ws\">                </span>error = sys.exc_info()[1]</pre></div>\\n</div>\\n\\n<li><div class=\"frame\" id=\"frame-1834011047152\">\\n  <h4>File <cite class=\"filename\">\"C:\\\\Users\\\\Tom\\\\AppData\\\\Local\\\\Programs\\\\Python\\\\Python39\\\\Lib\\\\site-packages\\\\flask\\\\app.py\"</cite>,\\n      line <em class=\"line\">1952</em>,\\n      in <code class=\"function\">full_dispatch_request</code></h4>\\n  <div class=\"source \"><pre class=\"line before\"><span class=\"ws\">            </span>request_started.send(self)</pre>\\n<pre class=\"line before\"><span class=\"ws\">            </span>rv = self.preprocess_request()</pre>\\n<pre class=\"line before\"><span class=\"ws\">            </span>if rv is None:</pre>\\n<pre class=\"line before\"><span class=\"ws\">                </span>rv = self.dispatch_request()</pre>\\n<pre class=\"line before\"><span class=\"ws\">        </span>except Exception as e:</pre>\\n<pre class=\"line current\"><span class=\"ws\">            </span>rv = self.handle_user_exception(e)</pre>\\n<pre class=\"line after\"><span class=\"ws\">        </span>return self.finalize_request(rv)</pre>\\n<pre class=\"line after\"><span class=\"ws\"></span> </pre>\\n<pre class=\"line after\"><span class=\"ws\">    </span>def finalize_request(self, rv, from_error_handler=False):</pre>\\n<pre class=\"line after\"><span class=\"ws\">        </span>&quot;&quot;&quot;Given the return value from a view function this finalizes</pre>\\n<pre class=\"line after\"><span class=\"ws\">        </span>the request by converting it into a response and invoking the</pre></div>\\n</div>\\n\\n<li><div class=\"frame\" id=\"frame-1834011047344\">\\n  <h4>File <cite class=\"filename\">\"C:\\\\Users\\\\Tom\\\\AppData\\\\Local\\\\Programs\\\\Python\\\\Python39\\\\Lib\\\\site-packages\\\\flask\\\\app.py\"</cite>,\\n      line <em class=\"line\">1821</em>,\\n      in <code class=\"function\">handle_user_exception</code></h4>\\n  <div class=\"source \"><pre class=\"line before\"><span class=\"ws\">            </span>return self.handle_http_exception(e)</pre>\\n<pre class=\"line before\"><span class=\"ws\"></span> </pre>\\n<pre class=\"line before\"><span class=\"ws\">        </span>handler = self._find_error_handler(e)</pre>\\n<pre class=\"line before\"><span class=\"ws\"></span> </pre>\\n<pre class=\"line before\"><span class=\"ws\">        </span>if handler is None:</pre>\\n<pre class=\"line current\"><span class=\"ws\">            </span>reraise(exc_type, exc_value, tb)</pre>\\n<pre class=\"line after\"><span class=\"ws\">        </span>return handler(e)</pre>\\n<pre class=\"line after\"><span class=\"ws\"></span> </pre>\\n<pre class=\"line after\"><span class=\"ws\">    </span>def handle_exception(self, e):</pre>\\n<pre class=\"line after\"><span class=\"ws\">        </span>&quot;&quot;&quot;Handle an exception that did not have an error handler</pre>\\n<pre class=\"line after\"><span class=\"ws\">        </span>associated with it, or that was raised from an error handler.</pre></div>\\n</div>\\n\\n<li><div class=\"frame\" id=\"frame-1834011047440\">\\n  <h4>File <cite class=\"filename\">\"C:\\\\Users\\\\Tom\\\\AppData\\\\Local\\\\Programs\\\\Python\\\\Python39\\\\Lib\\\\site-packages\\\\flask\\\\_compat.py\"</cite>,\\n      line <em class=\"line\">39</em>,\\n      in <code class=\"function\">reraise</code></h4>\\n  <div class=\"source \"><pre class=\"line before\"><span class=\"ws\">    </span>import collections.abc as collections_abc</pre>\\n<pre class=\"line before\"><span class=\"ws\"></span> </pre>\\n<pre class=\"line before\"><span class=\"ws\">    </span>def reraise(tp, value, tb=None):</pre>\\n<pre class=\"line before\"><span class=\"ws\">        </span>if value.__traceback__ is not tb:</pre>\\n<pre class=\"line before\"><span class=\"ws\">            </span>raise value.with_traceback(tb)</pre>\\n<pre class=\"line current\"><span class=\"ws\">        </span>raise value</pre>\\n<pre class=\"line after\"><span class=\"ws\"></span> </pre>\\n<pre class=\"line after\"><span class=\"ws\">    </span>implements_to_string = _identity</pre>\\n<pre class=\"line after\"><span class=\"ws\"></span> </pre>\\n<pre class=\"line after\"><span class=\"ws\"></span>else:</pre>\\n<pre class=\"line after\"><span class=\"ws\">    </span>iterkeys = lambda d: d.iterkeys()</pre></div>\\n</div>\\n\\n<li><div class=\"frame\" id=\"frame-1834011047008\">\\n  <h4>File <cite class=\"filename\">\"C:\\\\Users\\\\Tom\\\\AppData\\\\Local\\\\Programs\\\\Python\\\\Python39\\\\Lib\\\\site-packages\\\\flask\\\\app.py\"</cite>,\\n      line <em class=\"line\">1950</em>,\\n      in <code class=\"function\">full_dispatch_request</code></h4>\\n  <div class=\"source \"><pre class=\"line before\"><span class=\"ws\">        </span>self.try_trigger_before_first_request_functions()</pre>\\n<pre class=\"line before\"><span class=\"ws\">        </span>try:</pre>\\n<pre class=\"line before\"><span class=\"ws\">            </span>request_started.send(self)</pre>\\n<pre class=\"line before\"><span class=\"ws\">            </span>rv = self.preprocess_request()</pre>\\n<pre class=\"line before\"><span class=\"ws\">            </span>if rv is None:</pre>\\n<pre class=\"line current\"><span class=\"ws\">                </span>rv = self.dispatch_request()</pre>\\n<pre class=\"line after\"><span class=\"ws\">        </span>except Exception as e:</pre>\\n<pre class=\"line after\"><span class=\"ws\">            </span>rv = self.handle_user_exception(e)</pre>\\n<pre class=\"line after\"><span class=\"ws\">        </span>return self.finalize_request(rv)</pre>\\n<pre class=\"line after\"><span class=\"ws\"></span> </pre>\\n<pre class=\"line after\"><span class=\"ws\">    </span>def finalize_request(self, rv, from_error_handler=False):</pre></div>\\n</div>\\n\\n<li><div class=\"frame\" id=\"frame-1834011047200\">\\n  <h4>File <cite class=\"filename\">\"C:\\\\Users\\\\Tom\\\\AppData\\\\Local\\\\Programs\\\\Python\\\\Python39\\\\Lib\\\\site-packages\\\\flask\\\\app.py\"</cite>,\\n      line <em class=\"line\">1936</em>,\\n      in <code class=\"function\">dispatch_request</code></h4>\\n  <div class=\"source \"><pre class=\"line before\"><span class=\"ws\">            </span>getattr(rule, &quot;provide_automatic_options&quot;, False)</pre>\\n<pre class=\"line before\"><span class=\"ws\">            </span>and req.method == &quot;OPTIONS&quot;</pre>\\n<pre class=\"line before\"><span class=\"ws\">        </span>):</pre>\\n<pre class=\"line before\"><span class=\"ws\">            </span>return self.make_default_options_response()</pre>\\n<pre class=\"line before\"><span class=\"ws\">        </span># otherwise dispatch to the handler for that endpoint</pre>\\n<pre class=\"line current\"><span class=\"ws\">        </span>return self.view_functions[rule.endpoint](**req.view_args)</pre>\\n<pre class=\"line after\"><span class=\"ws\"></span> </pre>\\n<pre class=\"line after\"><span class=\"ws\">    </span>def full_dispatch_request(self):</pre>\\n<pre class=\"line after\"><span class=\"ws\">        </span>&quot;&quot;&quot;Dispatches the request and on top of that performs request</pre>\\n<pre class=\"line after\"><span class=\"ws\">        </span>pre and postprocessing as well as HTTP exception catching and</pre>\\n<pre class=\"line after\"><span class=\"ws\">        </span>error handling.</pre></div>\\n</div>\\n\\n<li><div class=\"frame\" id=\"frame-1834011046480\">\\n  <h4>File <cite class=\"filename\">\"D:\\\\Cloud\\\\rclone\\\\OneDrive\\\\Web\\\\TenDollarData\\\\Charts_TenDollarData\\\\financial_statements\\\\routes.py\"</cite>,\\n      line <em class=\"line\">319</em>,\\n      in <code class=\"function\">current_ratio</code></h4>\\n  <div class=\"source \"><pre class=\"line before\"><span class=\"ws\"></span> </pre>\\n<pre class=\"line before\"><span class=\"ws\">    </span>df = df[[\\'date\\',&quot;{}&quot;.format(fin_metric_name)]].dropna() #.fillna(0)#.fillna(method=\\'bfill\\')</pre>\\n<pre class=\"line before\"><span class=\"ws\">    </span>df[\\'date\\'] = pd.to_datetime(df[\\'date\\']).values.astype(np.int64) // 10 ** 6</pre>\\n<pre class=\"line before\"><span class=\"ws\">    </span>full_path = csv_file.split(\\' ~ \\')</pre>\\n<pre class=\"line before\"><span class=\"ws\">    </span>path = pathlib.PurePath(full_path[0])</pre>\\n<pre class=\"line current\"><span class=\"ws\">    </span>print(&quot;Nothing took {} seconds&quot;.format(time.time() - start_time))</pre>\\n<pre class=\"line after\"><span class=\"ws\">    </span>total_seconds = ((time.time() - start_time))</pre>\\n<pre class=\"line after\"><span class=\"ws\"></span> </pre>\\n<pre class=\"line after\"><span class=\"ws\">    </span>labels = [</pre>\\n<pre class=\"line after\"><span class=\"ws\">        </span>\\'JAN\\', \\'FEB\\', \\'MAR\\', \\'APR\\',</pre>\\n<pre class=\"line after\"><span class=\"ws\">        </span>\\'MAY\\', \\'JUN\\', \\'JUL\\', \\'AUG\\',</pre></div>\\n</div>\\n</ul>\\n  <blockquote>NameError: name \\'start_time\\' is not defined</blockquote>\\n</div>\\n\\n<div class=\"plain\">\\n  <form action=\"/?__debugger__=yes&amp;cmd=paste\" method=\"post\">\\n    <p>\\n      <input type=\"hidden\" name=\"language\" value=\"pytb\">\\n      This is the Copy/Paste friendly version of the traceback.  <span\\n      class=\"pastemessage\">You can also paste this traceback into\\n      a <a href=\"https://gist.github.com/\">gist</a>:\\n      <input type=\"submit\" value=\"create paste\"></span>\\n    </p>\\n    <textarea cols=\"50\" rows=\"10\" name=\"code\" readonly>Traceback (most recent call last):\\n  File &quot;C:\\\\Users\\\\Tom\\\\AppData\\\\Local\\\\Programs\\\\Python\\\\Python39\\\\Lib\\\\site-packages\\\\flask\\\\app.py&quot;, line 2464, in __call__\\n    return self.wsgi_app(environ, start_response)\\n  File &quot;C:\\\\Users\\\\Tom\\\\AppData\\\\Local\\\\Programs\\\\Python\\\\Python39\\\\Lib\\\\site-packages\\\\flask\\\\app.py&quot;, line 2450, in wsgi_app\\n    response = self.handle_exception(e)\\n  File &quot;C:\\\\Users\\\\Tom\\\\AppData\\\\Local\\\\Programs\\\\Python\\\\Python39\\\\Lib\\\\site-packages\\\\flask\\\\app.py&quot;, line 1867, in handle_exception\\n    reraise(exc_type, exc_value, tb)\\n  File &quot;C:\\\\Users\\\\Tom\\\\AppData\\\\Local\\\\Programs\\\\Python\\\\Python39\\\\Lib\\\\site-packages\\\\flask\\\\_compat.py&quot;, line 39, in reraise\\n    raise value\\n  File &quot;C:\\\\Users\\\\Tom\\\\AppData\\\\Local\\\\Programs\\\\Python\\\\Python39\\\\Lib\\\\site-packages\\\\flask\\\\app.py&quot;, line 2447, in wsgi_app\\n    response = self.full_dispatch_request()\\n  File &quot;C:\\\\Users\\\\Tom\\\\AppData\\\\Local\\\\Programs\\\\Python\\\\Python39\\\\Lib\\\\site-packages\\\\flask\\\\app.py&quot;, line 1952, in full_dispatch_request\\n    rv = self.handle_user_exception(e)\\n  File &quot;C:\\\\Users\\\\Tom\\\\AppData\\\\Local\\\\Programs\\\\Python\\\\Python39\\\\Lib\\\\site-packages\\\\flask\\\\app.py&quot;, line 1821, in handle_user_exception\\n    reraise(exc_type, exc_value, tb)\\n  File &quot;C:\\\\Users\\\\Tom\\\\AppData\\\\Local\\\\Programs\\\\Python\\\\Python39\\\\Lib\\\\site-packages\\\\flask\\\\_compat.py&quot;, line 39, in reraise\\n    raise value\\n  File &quot;C:\\\\Users\\\\Tom\\\\AppData\\\\Local\\\\Programs\\\\Python\\\\Python39\\\\Lib\\\\site-packages\\\\flask\\\\app.py&quot;, line 1950, in full_dispatch_request\\n    rv = self.dispatch_request()\\n  File &quot;C:\\\\Users\\\\Tom\\\\AppData\\\\Local\\\\Programs\\\\Python\\\\Python39\\\\Lib\\\\site-packages\\\\flask\\\\app.py&quot;, line 1936, in dispatch_request\\n    return self.view_functions[rule.endpoint](**req.view_args)\\n  File &quot;D:\\\\Cloud\\\\rclone\\\\OneDrive\\\\Web\\\\TenDollarData\\\\Charts_TenDollarData\\\\financial_statements\\\\routes.py&quot;, line 319, in current_ratio\\n    print(&quot;Nothing took {} seconds&quot;.format(time.time() - start_time))\\nNameError: name \\'start_time\\' is not defined</textarea>\\n  </form>\\n</div>\\n<div class=\"explanation\">\\n  The debugger caught an exception in your WSGI application.  You can now\\n  look at the traceback which led to the error.  <span class=\"nojavascript\">\\n  If you enable JavaScript you can also use additional features such as code\\n  execution (if the evalex feature is enabled), automatic pasting of the\\n  exceptions and much more.</span>\\n</div>\\n      <div class=\"footer\">\\n        Brought to you by <strong class=\"arthur\">DON\\'T PANIC</strong>, your\\n        friendly Werkzeug powered traceback interpreter.\\n      </div>\\n    </div>\\n\\n    <div class=\"pin-prompt\">\\n      <div class=\"inner\">\\n        <h3>Console Locked</h3>\\n        <p>\\n          The console is locked and needs to be unlocked by entering the PIN.\\n          You can find the PIN printed out on the standard output of your\\n          shell that runs the server.\\n        <form>\\n          <p>PIN:\\n            <input type=text name=pin size=14>\\n            <input type=submit name=btn value=\"Confirm Pin\">\\n        </form>\\n      </div>\\n    </div>\\n  </body>\\n</html>\\n\\n<!--\\n\\nTraceback (most recent call last):\\n  File \"C:\\\\Users\\\\Tom\\\\AppData\\\\Local\\\\Programs\\\\Python\\\\Python39\\\\Lib\\\\site-packages\\\\flask\\\\app.py\", line 2464, in __call__\\n    return self.wsgi_app(environ, start_response)\\n  File \"C:\\\\Users\\\\Tom\\\\AppData\\\\Local\\\\Programs\\\\Python\\\\Python39\\\\Lib\\\\site-packages\\\\flask\\\\app.py\", line 2450, in wsgi_app\\n    response = self.handle_exception(e)\\n  File \"C:\\\\Users\\\\Tom\\\\AppData\\\\Local\\\\Programs\\\\Python\\\\Python39\\\\Lib\\\\site-packages\\\\flask\\\\app.py\", line 1867, in handle_exception\\n    reraise(exc_type, exc_value, tb)\\n  File \"C:\\\\Users\\\\Tom\\\\AppData\\\\Local\\\\Programs\\\\Python\\\\Python39\\\\Lib\\\\site-packages\\\\flask\\\\_compat.py\", line 39, in reraise\\n    raise value\\n  File \"C:\\\\Users\\\\Tom\\\\AppData\\\\Local\\\\Programs\\\\Python\\\\Python39\\\\Lib\\\\site-packages\\\\flask\\\\app.py\", line 2447, in wsgi_app\\n    response = self.full_dispatch_request()\\n  File \"C:\\\\Users\\\\Tom\\\\AppData\\\\Local\\\\Programs\\\\Python\\\\Python39\\\\Lib\\\\site-packages\\\\flask\\\\app.py\", line 1952, in full_dispatch_request\\n    rv = self.handle_user_exception(e)\\n  File \"C:\\\\Users\\\\Tom\\\\AppData\\\\Local\\\\Programs\\\\Python\\\\Python39\\\\Lib\\\\site-packages\\\\flask\\\\app.py\", line 1821, in handle_user_exception\\n    reraise(exc_type, exc_value, tb)\\n  File \"C:\\\\Users\\\\Tom\\\\AppData\\\\Local\\\\Programs\\\\Python\\\\Python39\\\\Lib\\\\site-packages\\\\flask\\\\_compat.py\", line 39, in reraise\\n    raise value\\n  File \"C:\\\\Users\\\\Tom\\\\AppData\\\\Local\\\\Programs\\\\Python\\\\Python39\\\\Lib\\\\site-packages\\\\flask\\\\app.py\", line 1950, in full_dispatch_request\\n    rv = self.dispatch_request()\\n  File \"C:\\\\Users\\\\Tom\\\\AppData\\\\Local\\\\Programs\\\\Python\\\\Python39\\\\Lib\\\\site-packages\\\\flask\\\\app.py\", line 1936, in dispatch_request\\n    return self.view_functions[rule.endpoint](**req.view_args)\\n  File \"D:\\\\Cloud\\\\rclone\\\\OneDrive\\\\Web\\\\TenDollarData\\\\Charts_TenDollarData\\\\financial_statements\\\\routes.py\", line 319, in current_ratio\\n    print(\"Nothing took {} seconds\".format(time.time() - start_time))\\nNameError: name \\'start_time\\' is not defined\\n\\n-->\\n'\n"
     ]
    }
   ],
   "source": [
    "import requests\n",
    "response = requests.get(\"http://www.google.com\")\n",
    "response = requests.get(\"http://127.0.0.1:5000/aapl-stock/apple/cash-and-cash-equivalents\")\n",
    "print(response.content)"
   ]
  },
  {
   "cell_type": "code",
   "execution_count": 14,
   "metadata": {
    "ExecuteTime": {
     "end_time": "2020-12-14T19:06:50.451450Z",
     "start_time": "2020-12-14T19:06:49.937726Z"
    },
    "collapsed": true
   },
   "outputs": [
    {
     "ename": "HTTPError",
     "evalue": "HTTP Error 500: INTERNAL SERVER ERROR",
     "output_type": "error",
     "traceback": [
      "\u001b[1;31m---------------------------------------------------------------------------\u001b[0m",
      "\u001b[1;31mHTTPError\u001b[0m                                 Traceback (most recent call last)",
      "\u001b[1;32m<ipython-input-14-d91acbefa098>\u001b[0m in \u001b[0;36m<module>\u001b[1;34m\u001b[0m\n\u001b[0;32m      9\u001b[0m \u001b[1;31m# data = response.read()\u001b[0m\u001b[1;33m\u001b[0m\u001b[1;33m\u001b[0m\u001b[1;33m\u001b[0m\u001b[0m\n\u001b[0;32m     10\u001b[0m \u001b[1;33m\u001b[0m\u001b[0m\n\u001b[1;32m---> 11\u001b[1;33m \u001b[1;32mwith\u001b[0m \u001b[0murllib\u001b[0m\u001b[1;33m.\u001b[0m\u001b[0mrequest\u001b[0m\u001b[1;33m.\u001b[0m\u001b[0murlopen\u001b[0m\u001b[1;33m(\u001b[0m\u001b[1;34m\"http://127.0.0.1:5000/aapl-stock/apple/cash-and-cash-equivalents\"\u001b[0m\u001b[1;33m)\u001b[0m \u001b[1;32mas\u001b[0m \u001b[0murl\u001b[0m\u001b[1;33m:\u001b[0m\u001b[1;33m\u001b[0m\u001b[1;33m\u001b[0m\u001b[0m\n\u001b[0m\u001b[0;32m     12\u001b[0m     \u001b[0ms\u001b[0m \u001b[1;33m=\u001b[0m \u001b[0murl\u001b[0m\u001b[1;33m.\u001b[0m\u001b[0mread\u001b[0m\u001b[1;33m(\u001b[0m\u001b[1;33m)\u001b[0m\u001b[1;33m\u001b[0m\u001b[1;33m\u001b[0m\u001b[0m\n\u001b[0;32m     13\u001b[0m     \u001b[1;31m# I'm guessing this would output the html source code ?\u001b[0m\u001b[1;33m\u001b[0m\u001b[1;33m\u001b[0m\u001b[1;33m\u001b[0m\u001b[0m\n",
      "\u001b[1;32m~\\AppData\\Local\\Programs\\Python\\Python39\\lib\\urllib\\request.py\u001b[0m in \u001b[0;36murlopen\u001b[1;34m(url, data, timeout, cafile, capath, cadefault, context)\u001b[0m\n\u001b[0;32m    212\u001b[0m     \u001b[1;32melse\u001b[0m\u001b[1;33m:\u001b[0m\u001b[1;33m\u001b[0m\u001b[1;33m\u001b[0m\u001b[0m\n\u001b[0;32m    213\u001b[0m         \u001b[0mopener\u001b[0m \u001b[1;33m=\u001b[0m \u001b[0m_opener\u001b[0m\u001b[1;33m\u001b[0m\u001b[1;33m\u001b[0m\u001b[0m\n\u001b[1;32m--> 214\u001b[1;33m     \u001b[1;32mreturn\u001b[0m \u001b[0mopener\u001b[0m\u001b[1;33m.\u001b[0m\u001b[0mopen\u001b[0m\u001b[1;33m(\u001b[0m\u001b[0murl\u001b[0m\u001b[1;33m,\u001b[0m \u001b[0mdata\u001b[0m\u001b[1;33m,\u001b[0m \u001b[0mtimeout\u001b[0m\u001b[1;33m)\u001b[0m\u001b[1;33m\u001b[0m\u001b[1;33m\u001b[0m\u001b[0m\n\u001b[0m\u001b[0;32m    215\u001b[0m \u001b[1;33m\u001b[0m\u001b[0m\n\u001b[0;32m    216\u001b[0m \u001b[1;32mdef\u001b[0m \u001b[0minstall_opener\u001b[0m\u001b[1;33m(\u001b[0m\u001b[0mopener\u001b[0m\u001b[1;33m)\u001b[0m\u001b[1;33m:\u001b[0m\u001b[1;33m\u001b[0m\u001b[1;33m\u001b[0m\u001b[0m\n",
      "\u001b[1;32m~\\AppData\\Local\\Programs\\Python\\Python39\\lib\\urllib\\request.py\u001b[0m in \u001b[0;36mopen\u001b[1;34m(self, fullurl, data, timeout)\u001b[0m\n\u001b[0;32m    521\u001b[0m         \u001b[1;32mfor\u001b[0m \u001b[0mprocessor\u001b[0m \u001b[1;32min\u001b[0m \u001b[0mself\u001b[0m\u001b[1;33m.\u001b[0m\u001b[0mprocess_response\u001b[0m\u001b[1;33m.\u001b[0m\u001b[0mget\u001b[0m\u001b[1;33m(\u001b[0m\u001b[0mprotocol\u001b[0m\u001b[1;33m,\u001b[0m \u001b[1;33m[\u001b[0m\u001b[1;33m]\u001b[0m\u001b[1;33m)\u001b[0m\u001b[1;33m:\u001b[0m\u001b[1;33m\u001b[0m\u001b[1;33m\u001b[0m\u001b[0m\n\u001b[0;32m    522\u001b[0m             \u001b[0mmeth\u001b[0m \u001b[1;33m=\u001b[0m \u001b[0mgetattr\u001b[0m\u001b[1;33m(\u001b[0m\u001b[0mprocessor\u001b[0m\u001b[1;33m,\u001b[0m \u001b[0mmeth_name\u001b[0m\u001b[1;33m)\u001b[0m\u001b[1;33m\u001b[0m\u001b[1;33m\u001b[0m\u001b[0m\n\u001b[1;32m--> 523\u001b[1;33m             \u001b[0mresponse\u001b[0m \u001b[1;33m=\u001b[0m \u001b[0mmeth\u001b[0m\u001b[1;33m(\u001b[0m\u001b[0mreq\u001b[0m\u001b[1;33m,\u001b[0m \u001b[0mresponse\u001b[0m\u001b[1;33m)\u001b[0m\u001b[1;33m\u001b[0m\u001b[1;33m\u001b[0m\u001b[0m\n\u001b[0m\u001b[0;32m    524\u001b[0m \u001b[1;33m\u001b[0m\u001b[0m\n\u001b[0;32m    525\u001b[0m         \u001b[1;32mreturn\u001b[0m \u001b[0mresponse\u001b[0m\u001b[1;33m\u001b[0m\u001b[1;33m\u001b[0m\u001b[0m\n",
      "\u001b[1;32m~\\AppData\\Local\\Programs\\Python\\Python39\\lib\\urllib\\request.py\u001b[0m in \u001b[0;36mhttp_response\u001b[1;34m(self, request, response)\u001b[0m\n\u001b[0;32m    630\u001b[0m         \u001b[1;31m# request was successfully received, understood, and accepted.\u001b[0m\u001b[1;33m\u001b[0m\u001b[1;33m\u001b[0m\u001b[1;33m\u001b[0m\u001b[0m\n\u001b[0;32m    631\u001b[0m         \u001b[1;32mif\u001b[0m \u001b[1;32mnot\u001b[0m \u001b[1;33m(\u001b[0m\u001b[1;36m200\u001b[0m \u001b[1;33m<=\u001b[0m \u001b[0mcode\u001b[0m \u001b[1;33m<\u001b[0m \u001b[1;36m300\u001b[0m\u001b[1;33m)\u001b[0m\u001b[1;33m:\u001b[0m\u001b[1;33m\u001b[0m\u001b[1;33m\u001b[0m\u001b[0m\n\u001b[1;32m--> 632\u001b[1;33m             response = self.parent.error(\n\u001b[0m\u001b[0;32m    633\u001b[0m                 'http', request, response, code, msg, hdrs)\n\u001b[0;32m    634\u001b[0m \u001b[1;33m\u001b[0m\u001b[0m\n",
      "\u001b[1;32m~\\AppData\\Local\\Programs\\Python\\Python39\\lib\\urllib\\request.py\u001b[0m in \u001b[0;36merror\u001b[1;34m(self, proto, *args)\u001b[0m\n\u001b[0;32m    559\u001b[0m         \u001b[1;32mif\u001b[0m \u001b[0mhttp_err\u001b[0m\u001b[1;33m:\u001b[0m\u001b[1;33m\u001b[0m\u001b[1;33m\u001b[0m\u001b[0m\n\u001b[0;32m    560\u001b[0m             \u001b[0margs\u001b[0m \u001b[1;33m=\u001b[0m \u001b[1;33m(\u001b[0m\u001b[0mdict\u001b[0m\u001b[1;33m,\u001b[0m \u001b[1;34m'default'\u001b[0m\u001b[1;33m,\u001b[0m \u001b[1;34m'http_error_default'\u001b[0m\u001b[1;33m)\u001b[0m \u001b[1;33m+\u001b[0m \u001b[0morig_args\u001b[0m\u001b[1;33m\u001b[0m\u001b[1;33m\u001b[0m\u001b[0m\n\u001b[1;32m--> 561\u001b[1;33m             \u001b[1;32mreturn\u001b[0m \u001b[0mself\u001b[0m\u001b[1;33m.\u001b[0m\u001b[0m_call_chain\u001b[0m\u001b[1;33m(\u001b[0m\u001b[1;33m*\u001b[0m\u001b[0margs\u001b[0m\u001b[1;33m)\u001b[0m\u001b[1;33m\u001b[0m\u001b[1;33m\u001b[0m\u001b[0m\n\u001b[0m\u001b[0;32m    562\u001b[0m \u001b[1;33m\u001b[0m\u001b[0m\n\u001b[0;32m    563\u001b[0m \u001b[1;31m# XXX probably also want an abstract factory that knows when it makes\u001b[0m\u001b[1;33m\u001b[0m\u001b[1;33m\u001b[0m\u001b[1;33m\u001b[0m\u001b[0m\n",
      "\u001b[1;32m~\\AppData\\Local\\Programs\\Python\\Python39\\lib\\urllib\\request.py\u001b[0m in \u001b[0;36m_call_chain\u001b[1;34m(self, chain, kind, meth_name, *args)\u001b[0m\n\u001b[0;32m    492\u001b[0m         \u001b[1;32mfor\u001b[0m \u001b[0mhandler\u001b[0m \u001b[1;32min\u001b[0m \u001b[0mhandlers\u001b[0m\u001b[1;33m:\u001b[0m\u001b[1;33m\u001b[0m\u001b[1;33m\u001b[0m\u001b[0m\n\u001b[0;32m    493\u001b[0m             \u001b[0mfunc\u001b[0m \u001b[1;33m=\u001b[0m \u001b[0mgetattr\u001b[0m\u001b[1;33m(\u001b[0m\u001b[0mhandler\u001b[0m\u001b[1;33m,\u001b[0m \u001b[0mmeth_name\u001b[0m\u001b[1;33m)\u001b[0m\u001b[1;33m\u001b[0m\u001b[1;33m\u001b[0m\u001b[0m\n\u001b[1;32m--> 494\u001b[1;33m             \u001b[0mresult\u001b[0m \u001b[1;33m=\u001b[0m \u001b[0mfunc\u001b[0m\u001b[1;33m(\u001b[0m\u001b[1;33m*\u001b[0m\u001b[0margs\u001b[0m\u001b[1;33m)\u001b[0m\u001b[1;33m\u001b[0m\u001b[1;33m\u001b[0m\u001b[0m\n\u001b[0m\u001b[0;32m    495\u001b[0m             \u001b[1;32mif\u001b[0m \u001b[0mresult\u001b[0m \u001b[1;32mis\u001b[0m \u001b[1;32mnot\u001b[0m \u001b[1;32mNone\u001b[0m\u001b[1;33m:\u001b[0m\u001b[1;33m\u001b[0m\u001b[1;33m\u001b[0m\u001b[0m\n\u001b[0;32m    496\u001b[0m                 \u001b[1;32mreturn\u001b[0m \u001b[0mresult\u001b[0m\u001b[1;33m\u001b[0m\u001b[1;33m\u001b[0m\u001b[0m\n",
      "\u001b[1;32m~\\AppData\\Local\\Programs\\Python\\Python39\\lib\\urllib\\request.py\u001b[0m in \u001b[0;36mhttp_error_default\u001b[1;34m(self, req, fp, code, msg, hdrs)\u001b[0m\n\u001b[0;32m    639\u001b[0m \u001b[1;32mclass\u001b[0m \u001b[0mHTTPDefaultErrorHandler\u001b[0m\u001b[1;33m(\u001b[0m\u001b[0mBaseHandler\u001b[0m\u001b[1;33m)\u001b[0m\u001b[1;33m:\u001b[0m\u001b[1;33m\u001b[0m\u001b[1;33m\u001b[0m\u001b[0m\n\u001b[0;32m    640\u001b[0m     \u001b[1;32mdef\u001b[0m \u001b[0mhttp_error_default\u001b[0m\u001b[1;33m(\u001b[0m\u001b[0mself\u001b[0m\u001b[1;33m,\u001b[0m \u001b[0mreq\u001b[0m\u001b[1;33m,\u001b[0m \u001b[0mfp\u001b[0m\u001b[1;33m,\u001b[0m \u001b[0mcode\u001b[0m\u001b[1;33m,\u001b[0m \u001b[0mmsg\u001b[0m\u001b[1;33m,\u001b[0m \u001b[0mhdrs\u001b[0m\u001b[1;33m)\u001b[0m\u001b[1;33m:\u001b[0m\u001b[1;33m\u001b[0m\u001b[1;33m\u001b[0m\u001b[0m\n\u001b[1;32m--> 641\u001b[1;33m         \u001b[1;32mraise\u001b[0m \u001b[0mHTTPError\u001b[0m\u001b[1;33m(\u001b[0m\u001b[0mreq\u001b[0m\u001b[1;33m.\u001b[0m\u001b[0mfull_url\u001b[0m\u001b[1;33m,\u001b[0m \u001b[0mcode\u001b[0m\u001b[1;33m,\u001b[0m \u001b[0mmsg\u001b[0m\u001b[1;33m,\u001b[0m \u001b[0mhdrs\u001b[0m\u001b[1;33m,\u001b[0m \u001b[0mfp\u001b[0m\u001b[1;33m)\u001b[0m\u001b[1;33m\u001b[0m\u001b[1;33m\u001b[0m\u001b[0m\n\u001b[0m\u001b[0;32m    642\u001b[0m \u001b[1;33m\u001b[0m\u001b[0m\n\u001b[0;32m    643\u001b[0m \u001b[1;32mclass\u001b[0m \u001b[0mHTTPRedirectHandler\u001b[0m\u001b[1;33m(\u001b[0m\u001b[0mBaseHandler\u001b[0m\u001b[1;33m)\u001b[0m\u001b[1;33m:\u001b[0m\u001b[1;33m\u001b[0m\u001b[1;33m\u001b[0m\u001b[0m\n",
      "\u001b[1;31mHTTPError\u001b[0m: HTTP Error 500: INTERNAL SERVER ERROR"
     ]
    }
   ],
   "source": [
    "import urllib.request\n",
    "\n",
    "myurl = \"http://127.0.0.1:5000/aapl-stock/apple/cash-and-cash-equivalents\"\n",
    "\n",
    "# # GET is the default action\n",
    "# response = urllib.request.urlopen(myurl)  \n",
    "\n",
    "# # Output from the GET assuming response code was 200\n",
    "# data = response.read()  \n",
    "\n",
    "with urllib.request.urlopen(\"http://127.0.0.1:5000/aapl-stock/apple/cash-and-cash-equivalents\") as url:\n",
    "    s = url.read()\n",
    "    # I'm guessing this would output the html source code ?\n",
    "    print(s)"
   ]
  },
  {
   "cell_type": "code",
   "execution_count": null,
   "metadata": {},
   "outputs": [],
   "source": [
    "from requests_testadapter import Resp\n",
    "\n",
    "class LocalFileAdapter(requests.adapters.HTTPAdapter):\n",
    "    def build_response_from_file(self, request):\n",
    "        file_path = request.url[7:]\n",
    "        with open(file_path, 'rb') as file:\n",
    "            buff = bytearray(os.path.getsize(file_path))\n",
    "            file.readinto(buff)\n",
    "            resp = Resp(buff)\n",
    "            r = self.build_response(request, resp)\n",
    "\n",
    "            return r\n",
    "\n",
    "    def send(self, request, stream=False, timeout=None,\n",
    "             verify=True, cert=None, proxies=None):\n",
    "\n",
    "        return self.build_response_from_file(request)\n",
    "\n",
    "requests_session = requests.session()\n",
    "requests_session.mount('file://', LocalFileAdapter())\n",
    "requests_session.get('file://<some_local_path>')"
   ]
  },
  {
   "cell_type": "code",
   "execution_count": 15,
   "metadata": {
    "ExecuteTime": {
     "end_time": "2020-12-14T19:07:25.849385Z",
     "start_time": "2020-12-14T19:07:25.833380Z"
    }
   },
   "outputs": [
    {
     "name": "stdout",
     "output_type": "stream",
     "text": [
      "b'<!DOCTYPE HTML PUBLIC \"-//W3C//DTD HTML 3.2 Final//EN\">\\n<title>404 Not Found</title>\\n<h1>Not Found</h1>\\n<p>The requested URL was not found on the server. If you entered the URL manually please check your spelling and try again.</p>\\n'\n"
     ]
    }
   ],
   "source": [
    "import requests\n",
    "\n",
    "os.environ['NO_PROXY'] = '127.0.0.1'\n",
    "r = requests.get('http://127.0.0.1:5000/aapl=stock/apple/cash-and-cash-equivalents')\n",
    "print(r.content)"
   ]
  },
  {
   "cell_type": "code",
   "execution_count": 99,
   "metadata": {
    "ExecuteTime": {
     "end_time": "2020-12-20T19:55:30.060717Z",
     "start_time": "2020-12-20T19:55:30.043197Z"
    },
    "scrolled": true
   },
   "outputs": [],
   "source": [
    "import requests\n",
    "os.environ['NO_PROXY'] = '127.0.1'\n",
    "\n",
    "# r=requests.get(\"http://127.0.01:5000/aapl=stock/apple/cash-and-cash-equivalents\")"
   ]
  },
  {
   "cell_type": "code",
   "execution_count": 16,
   "metadata": {
    "ExecuteTime": {
     "end_time": "2020-12-14T19:07:44.294450Z",
     "start_time": "2020-12-14T19:07:44.280453Z"
    }
   },
   "outputs": [],
   "source": [
    "# BASE_URL='http://127.0.0.1:8000'\n",
    "BASE_URL = \"http://127.0.0.1:5000/aapl=stock/apple/cash-and-cash-equivalents/\"\n",
    "BASE_URL = \"http://127.0.0.1:5000/aapl=stock/apple/cash-and-cash-equivalents\"\n",
    "resp=requests.get(BASE_URL)\n",
    "# print(resp.status_code)\n",
    "# print(resp.json())"
   ]
  },
  {
   "cell_type": "code",
   "execution_count": 17,
   "metadata": {
    "ExecuteTime": {
     "end_time": "2020-12-14T19:07:46.127999Z",
     "start_time": "2020-12-14T19:07:46.104480Z"
    }
   },
   "outputs": [
    {
     "data": {
      "text/plain": [
       "'<!DOCTYPE HTML PUBLIC \"-//W3C//DTD HTML 3.2 Final//EN\">\\n<title>404 Not Found</title>\\n<h1>Not Found</h1>\\n<p>The requested URL was not found on the server. If you entered the URL manually please check your spelling and try again.</p>\\n'"
      ]
     },
     "execution_count": 17,
     "metadata": {},
     "output_type": "execute_result"
    }
   ],
   "source": [
    "resp.text"
   ]
  },
  {
   "cell_type": "code",
   "execution_count": 19,
   "metadata": {
    "ExecuteTime": {
     "end_time": "2020-12-14T19:09:30.633884Z",
     "start_time": "2020-12-14T19:09:30.619519Z"
    }
   },
   "outputs": [
    {
     "data": {
      "text/plain": [
       "<Response [404]>"
      ]
     },
     "execution_count": 19,
     "metadata": {},
     "output_type": "execute_result"
    }
   ],
   "source": [
    "req = requests.post(\"http://127.0.0.1:5000/aapl=stock/apple/cash-and-cash-equivalents\", 'html.parser')\n",
    "req"
   ]
  },
  {
   "cell_type": "code",
   "execution_count": 98,
   "metadata": {
    "ExecuteTime": {
     "end_time": "2020-12-20T19:55:23.558118Z",
     "start_time": "2020-12-20T19:55:23.396118Z"
    },
    "scrolled": true
   },
   "outputs": [],
   "source": [
    "from pypac import PACSession\n",
    "session = PACSession()\n",
    "# session.get('https://127.0.0.1/aapl=stock/apple/cash-and-cash-equival\n",
    "# session.get(\"http://127.0.01:5000/aapl=stock/apple/cash-and-cash-equivalents\")\n",
    "# <Response [200]>"
   ]
  },
  {
   "cell_type": "code",
   "execution_count": null,
   "metadata": {},
   "outputs": [],
   "source": [
    "from pypac import PACSession\n",
    "session = PACSession()\n",
    "session.get('https://127.0.0/aapl=stock/apple/cash-and-cash-equivalents')\n",
    "# <Response [200]>"
   ]
  },
  {
   "cell_type": "code",
   "execution_count": null,
   "metadata": {},
   "outputs": [],
   "source": [
    "from requests_testadapter import Resp\n",
    "\n",
    "class LocalFileAdapter(requests.adapters.HTTPAdapter):\n",
    "    def build_response_from_file(self, request):\n",
    "        file_path = request.url[7:]\n",
    "        with open(file_path, 'rb') as file:\n",
    "            buff = bytearray(os.path.getsize(file_path))\n",
    "            file.readinto(buff)\n",
    "            resp = Resp(buff)\n",
    "            r = self.build_response(request, resp)\n",
    "\n",
    "            return r\n",
    "\n",
    "    def send(self, request, stream=False, timeout=None,\n",
    "             verify=True, cert=None, proxies=None):\n",
    "\n",
    "        return self.build_response_from_file(request)\n",
    "\n",
    "requests_session = requests.session()\n",
    "requests_session.mount('file://', LocalFileAdapter())\n",
    "requests_session.get('file://<some_local_path>')"
   ]
  },
  {
   "cell_type": "code",
   "execution_count": 17,
   "metadata": {
    "ExecuteTime": {
     "end_time": "2020-12-17T23:02:00.850435Z",
     "start_time": "2020-12-17T23:02:00.766437Z"
    }
   },
   "outputs": [
    {
     "ename": "KeyError",
     "evalue": "\"None of [Index(['Cash and Cash Equivalents', 'Short Term Investments',\\n       'Cash And Short-Term Investments', 'Accounts Receivables', 'Inventory',\\n       'Other Current Assets', 'Total Current Assets', 'PP&E', 'Goodwill',\\n       'Intangible Assets', 'Goodwill and Intangible Assets',\\n       'Long-term Investments', 'Tax Assets', 'Other Non-Current Assets',\\n       'Total Non-Current Assets', 'Other Assets', 'Total Assets',\\n       'Accounts Payables', 'Short-term Debt', 'Income Tax Payables',\\n       'Deferred Revenue', 'Other Current Liabilities',\\n       'Total Current Liabilities', 'Long-term Debt',\\n       'Deferred Revenue Non-Current', 'Deferred Tax Liabilities Non-Current',\\n       'Other Non-Current Liabilities', 'Total Non-Current Liabilities',\\n       'Other Liabilities', 'Total Liabilities', 'Common Stock',\\n       'Retained Earnings', 'Accumulated Other Comprehensive Income Loss',\\n       'Other Shareholders Equity', 'Total Shareholders Equity',\\n       'Total Liabilities & Stockholders Equity', 'Total Investments',\\n       'Total Debt', 'Net Debt', 'SEC Statement Link', 'Quarter & Year'],\\n      dtype='object')] are in the [columns]\"",
     "output_type": "error",
     "traceback": [
      "\u001b[1;31m---------------------------------------------------------------------------\u001b[0m",
      "\u001b[1;31mKeyError\u001b[0m                                  Traceback (most recent call last)",
      "\u001b[1;32m<ipython-input-17-e6eaa19c381e>\u001b[0m in \u001b[0;36m<module>\u001b[1;34m\u001b[0m\n\u001b[0;32m     35\u001b[0m \u001b[0mcols\u001b[0m \u001b[1;33m=\u001b[0m \u001b[0mlist\u001b[0m\u001b[1;33m(\u001b[0m\u001b[0mdf_pct_chg_t\u001b[0m\u001b[1;33m.\u001b[0m\u001b[0mcolumns\u001b[0m\u001b[1;33m)\u001b[0m\u001b[1;33m\u001b[0m\u001b[1;33m\u001b[0m\u001b[0m\n\u001b[0;32m     36\u001b[0m \u001b[0mcols\u001b[0m \u001b[1;33m=\u001b[0m \u001b[1;33m[\u001b[0m\u001b[0mcols\u001b[0m\u001b[1;33m[\u001b[0m\u001b[1;33m-\u001b[0m\u001b[1;36m1\u001b[0m\u001b[1;33m]\u001b[0m\u001b[1;33m]\u001b[0m \u001b[1;33m+\u001b[0m \u001b[0mcols\u001b[0m\u001b[1;33m[\u001b[0m\u001b[1;33m:\u001b[0m\u001b[1;33m-\u001b[0m\u001b[1;36m1\u001b[0m\u001b[1;33m]\u001b[0m\u001b[1;33m\u001b[0m\u001b[1;33m\u001b[0m\u001b[0m\n\u001b[1;32m---> 37\u001b[1;33m \u001b[0mdf_pct_chg_t\u001b[0m \u001b[1;33m=\u001b[0m \u001b[0mdf_pct_chg_t\u001b[0m\u001b[1;33m[\u001b[0m\u001b[0mtitles_bs\u001b[0m\u001b[1;33m]\u001b[0m\u001b[1;33m\u001b[0m\u001b[1;33m\u001b[0m\u001b[0m\n\u001b[0m\u001b[0;32m     38\u001b[0m \u001b[1;33m\u001b[0m\u001b[0m\n\u001b[0;32m     39\u001b[0m \u001b[1;33m\u001b[0m\u001b[0m\n",
      "\u001b[1;32m~\\quantconnect\\lib\\site-packages\\pandas\\core\\frame.py\u001b[0m in \u001b[0;36m__getitem__\u001b[1;34m(self, key)\u001b[0m\n\u001b[0;32m   2910\u001b[0m             \u001b[1;32mif\u001b[0m \u001b[0mis_iterator\u001b[0m\u001b[1;33m(\u001b[0m\u001b[0mkey\u001b[0m\u001b[1;33m)\u001b[0m\u001b[1;33m:\u001b[0m\u001b[1;33m\u001b[0m\u001b[1;33m\u001b[0m\u001b[0m\n\u001b[0;32m   2911\u001b[0m                 \u001b[0mkey\u001b[0m \u001b[1;33m=\u001b[0m \u001b[0mlist\u001b[0m\u001b[1;33m(\u001b[0m\u001b[0mkey\u001b[0m\u001b[1;33m)\u001b[0m\u001b[1;33m\u001b[0m\u001b[1;33m\u001b[0m\u001b[0m\n\u001b[1;32m-> 2912\u001b[1;33m             \u001b[0mindexer\u001b[0m \u001b[1;33m=\u001b[0m \u001b[0mself\u001b[0m\u001b[1;33m.\u001b[0m\u001b[0mloc\u001b[0m\u001b[1;33m.\u001b[0m\u001b[0m_get_listlike_indexer\u001b[0m\u001b[1;33m(\u001b[0m\u001b[0mkey\u001b[0m\u001b[1;33m,\u001b[0m \u001b[0maxis\u001b[0m\u001b[1;33m=\u001b[0m\u001b[1;36m1\u001b[0m\u001b[1;33m,\u001b[0m \u001b[0mraise_missing\u001b[0m\u001b[1;33m=\u001b[0m\u001b[1;32mTrue\u001b[0m\u001b[1;33m)\u001b[0m\u001b[1;33m[\u001b[0m\u001b[1;36m1\u001b[0m\u001b[1;33m]\u001b[0m\u001b[1;33m\u001b[0m\u001b[1;33m\u001b[0m\u001b[0m\n\u001b[0m\u001b[0;32m   2913\u001b[0m \u001b[1;33m\u001b[0m\u001b[0m\n\u001b[0;32m   2914\u001b[0m         \u001b[1;31m# take() does not accept boolean indexers\u001b[0m\u001b[1;33m\u001b[0m\u001b[1;33m\u001b[0m\u001b[1;33m\u001b[0m\u001b[0m\n",
      "\u001b[1;32m~\\quantconnect\\lib\\site-packages\\pandas\\core\\indexing.py\u001b[0m in \u001b[0;36m_get_listlike_indexer\u001b[1;34m(self, key, axis, raise_missing)\u001b[0m\n\u001b[0;32m   1252\u001b[0m             \u001b[0mkeyarr\u001b[0m\u001b[1;33m,\u001b[0m \u001b[0mindexer\u001b[0m\u001b[1;33m,\u001b[0m \u001b[0mnew_indexer\u001b[0m \u001b[1;33m=\u001b[0m \u001b[0max\u001b[0m\u001b[1;33m.\u001b[0m\u001b[0m_reindex_non_unique\u001b[0m\u001b[1;33m(\u001b[0m\u001b[0mkeyarr\u001b[0m\u001b[1;33m)\u001b[0m\u001b[1;33m\u001b[0m\u001b[1;33m\u001b[0m\u001b[0m\n\u001b[0;32m   1253\u001b[0m \u001b[1;33m\u001b[0m\u001b[0m\n\u001b[1;32m-> 1254\u001b[1;33m         \u001b[0mself\u001b[0m\u001b[1;33m.\u001b[0m\u001b[0m_validate_read_indexer\u001b[0m\u001b[1;33m(\u001b[0m\u001b[0mkeyarr\u001b[0m\u001b[1;33m,\u001b[0m \u001b[0mindexer\u001b[0m\u001b[1;33m,\u001b[0m \u001b[0maxis\u001b[0m\u001b[1;33m,\u001b[0m \u001b[0mraise_missing\u001b[0m\u001b[1;33m=\u001b[0m\u001b[0mraise_missing\u001b[0m\u001b[1;33m)\u001b[0m\u001b[1;33m\u001b[0m\u001b[1;33m\u001b[0m\u001b[0m\n\u001b[0m\u001b[0;32m   1255\u001b[0m         \u001b[1;32mreturn\u001b[0m \u001b[0mkeyarr\u001b[0m\u001b[1;33m,\u001b[0m \u001b[0mindexer\u001b[0m\u001b[1;33m\u001b[0m\u001b[1;33m\u001b[0m\u001b[0m\n\u001b[0;32m   1256\u001b[0m \u001b[1;33m\u001b[0m\u001b[0m\n",
      "\u001b[1;32m~\\quantconnect\\lib\\site-packages\\pandas\\core\\indexing.py\u001b[0m in \u001b[0;36m_validate_read_indexer\u001b[1;34m(self, key, indexer, axis, raise_missing)\u001b[0m\n\u001b[0;32m   1296\u001b[0m             \u001b[1;32mif\u001b[0m \u001b[0mmissing\u001b[0m \u001b[1;33m==\u001b[0m \u001b[0mlen\u001b[0m\u001b[1;33m(\u001b[0m\u001b[0mindexer\u001b[0m\u001b[1;33m)\u001b[0m\u001b[1;33m:\u001b[0m\u001b[1;33m\u001b[0m\u001b[1;33m\u001b[0m\u001b[0m\n\u001b[0;32m   1297\u001b[0m                 \u001b[0maxis_name\u001b[0m \u001b[1;33m=\u001b[0m \u001b[0mself\u001b[0m\u001b[1;33m.\u001b[0m\u001b[0mobj\u001b[0m\u001b[1;33m.\u001b[0m\u001b[0m_get_axis_name\u001b[0m\u001b[1;33m(\u001b[0m\u001b[0maxis\u001b[0m\u001b[1;33m)\u001b[0m\u001b[1;33m\u001b[0m\u001b[1;33m\u001b[0m\u001b[0m\n\u001b[1;32m-> 1298\u001b[1;33m                 \u001b[1;32mraise\u001b[0m \u001b[0mKeyError\u001b[0m\u001b[1;33m(\u001b[0m\u001b[1;34mf\"None of [{key}] are in the [{axis_name}]\"\u001b[0m\u001b[1;33m)\u001b[0m\u001b[1;33m\u001b[0m\u001b[1;33m\u001b[0m\u001b[0m\n\u001b[0m\u001b[0;32m   1299\u001b[0m \u001b[1;33m\u001b[0m\u001b[0m\n\u001b[0;32m   1300\u001b[0m             \u001b[1;31m# We (temporarily) allow for some missing keys with .loc, except in\u001b[0m\u001b[1;33m\u001b[0m\u001b[1;33m\u001b[0m\u001b[1;33m\u001b[0m\u001b[0m\n",
      "\u001b[1;31mKeyError\u001b[0m: \"None of [Index(['Cash and Cash Equivalents', 'Short Term Investments',\\n       'Cash And Short-Term Investments', 'Accounts Receivables', 'Inventory',\\n       'Other Current Assets', 'Total Current Assets', 'PP&E', 'Goodwill',\\n       'Intangible Assets', 'Goodwill and Intangible Assets',\\n       'Long-term Investments', 'Tax Assets', 'Other Non-Current Assets',\\n       'Total Non-Current Assets', 'Other Assets', 'Total Assets',\\n       'Accounts Payables', 'Short-term Debt', 'Income Tax Payables',\\n       'Deferred Revenue', 'Other Current Liabilities',\\n       'Total Current Liabilities', 'Long-term Debt',\\n       'Deferred Revenue Non-Current', 'Deferred Tax Liabilities Non-Current',\\n       'Other Non-Current Liabilities', 'Total Non-Current Liabilities',\\n       'Other Liabilities', 'Total Liabilities', 'Common Stock',\\n       'Retained Earnings', 'Accumulated Other Comprehensive Income Loss',\\n       'Other Shareholders Equity', 'Total Shareholders Equity',\\n       'Total Liabilities & Stockholders Equity', 'Total Investments',\\n       'Total Debt', 'Net Debt', 'SEC Statement Link', 'Quarter & Year'],\\n      dtype='object')] are in the [columns]\""
     ]
    }
   ],
   "source": [
    "\n",
    "\n",
    "\n",
    "\n",
    "\n",
    "\n",
    "\n",
    "\n",
    "# df_fin_statement = df_fin_statement[cols]\n",
    "\n",
    "df_fin_statement.index = df_fin_statement['Quarter & Year']\n",
    "\n",
    "million = 1000000\n",
    "billion = 1000000000\n",
    "fin_metric_history = df_fin_statement['{}'.format(fin_metric_title)]\n",
    "if list(fin_metric_history)[0]  > billion:\n",
    "    df_fin_statement['{}'.format(fin_metric_title)] = (fin_metric_history/billion).round(decimals=2)\n",
    "\n",
    "\n",
    "elif list(fin_metric_history)[0]  > million:\n",
    "    df_fin_statement['{}'.format(fin_metric_title)] = (fin_metric_history/million).round(decimals=2)\n",
    "\n",
    "    pass\n",
    "else:\n",
    "    pass\n",
    "\n",
    "df_pct_chg = df_fin_statement\n",
    "pct_chg_cols = (df_fin_statement.select_dtypes(include=['number']).pct_change(-1))\n",
    "df_pct_chg_str = df_pct_chg.drop(list(pct_chg_cols), axis=1)\n",
    "df_pct_chg = df_pct_chg_str.join(pct_chg_cols)[list(df_fin_statement)]\n",
    "\n",
    "pd.set_option('display.float_format', '{:.2f}'.format)\n",
    "df_pct_chg_t = df_pct_chg.transpose()\n",
    "df_pct_chg_t.columns = list(df_pct_chg['Quarter & Year'])\n",
    "df_pct_chg_t = df_pct_chg_t.iloc[1:]\n",
    "\n",
    "df_pct_chg_t = df_pct_chg.transpose()\n",
    "df_pct_chg_t.columns = list(df_pct_chg['Quarter & Year'])\n",
    "df_pct_chg_t = df_pct_chg_t.iloc[1:]\n",
    "df_pct_chg_t['']=df_pct_chg_t.index\n",
    "df_pct_chg_t.index = range(len(df_pct_chg_t))\n",
    "\n",
    "cols = list(df_pct_chg_t.columns)\n",
    "cols = [cols[-1]] + cols[:-1]\n",
    "df_pct_chg_t = df_pct_chg_t[titles_bs]\n",
    "\n",
    "\n",
    "df_t = df_fin_statement.transpose()\n",
    "df_t.columns = list(df_fin_statement['Quarter & Year'])\n",
    "df_t = df_t.iloc[1:]\n",
    "df_t['']=df_t.index\n",
    "df_t.index = range(len(df_t))\n",
    "\n",
    "cols = list(df_t.columns)\n",
    "cols = [cols[-1]] + cols[:-1]\n",
    "df_t = df_t[cols]\n",
    "#endregion\n",
    "\n",
    "df_pct = df_pct_chg_t.to_html().replace('<table','<table class=\"df_tableBoot\" id=\"df_myTable1\"')# dt-responsive\" id=\"df_myTable\"')\n",
    "\n",
    "df_t = df_t[df_t.columns[::-1]]\n",
    "cols = list(df_t.columns)\n",
    "cols = [cols[-1]] + cols[:-1]\n",
    "df_t = df_t[cols]\n",
    "\n",
    "\n",
    "def isnumber(x):\n",
    "    try:\n",
    "        float(x)\n",
    "        return True\n",
    "    except:\n",
    "        return False\n",
    "df_n = df_fin_statement[df_fin_statement.applymap(isnumber)]\n",
    "df_n[df_n < 2] = np.nan\n",
    "df_n_sum = pd.DataFrame(df_n.sum())\n",
    "df_n_sum[df_n_sum == 0] = \"\"\n",
    "new_header = df_n_sum.iloc[0] #grab the first row for the header\n",
    "df_n_sum = df_n_sum[1:] #take the data less the header row\n",
    "df_n_sum.columns = new_header #set the header row as the df header\n",
    "df_n_sum.index = range(len(df_n_sum))\n",
    "df_t = pd.merge(df_n_sum, df_t, left_index=True, right_index=True,suffixes=('Total: {} - {}'.format(latest_year,earliest_year), 'Line Items'))\n",
    "df_t = df_t[0:25]\n",
    "\n",
    "\n",
    "\n",
    "col_list = []\n",
    "n=0\n",
    "while n<len(list(df_t))-0:\n",
    "    if n<6:\n",
    "            col_item = '<col id=\"col_item_{}\" class=\"col_item_class first_7_col\">'.format(n)\n",
    "    else:\n",
    "        col_item = '<col id=\"col_item_{}\" class=\"col_item_class\">'.format(n)\n",
    "    col_list.append(col_item)\n",
    "    n+=1\n",
    "col_list_str = ''.join(map(str, col_list))\n",
    "df_html = df_t.to_html().replace('border=\"1\" class=\"dataframe\">','class=\"df_tableBoot\" id=\"df_myTable\" border=\"1\" class=\"dataframe\"><colgroup>{}</colgroup>'.format(col_list_str))\n",
    "# df_table_html = df_fin_statement[['{}'.format(fin_metric_title)]].iloc[::-1].transpose().to_html()#.replace(\"\\n\",\"\")\n",
    "df_tall = df.iloc[::-1]\n",
    "# df_tall.index = df['Quarter & Year']\n",
    "# df_tall = df.index.shift(-1)\n",
    "# df_tall = df_tall.reset_index()\n",
    "df_html_tall = df_tall[['{}'.format('Quarter & Year'),'{}'.format(fin_metric_name)]].to_html(index=False)\n",
    "df_html_tall = df_html_tall.replace('border=\"1\" class=\"dataframe\">','class=\"abc\" id=\"df_myTable\" border=\"1\" class=\"dataframe\">')#.replace(\"'\",\"\")\n",
    "# df_html_tall = df_html_tall.replace(\"\\n\",\"\")\n",
    "df_html_tall = df_html_tall.replace(\"\\n\",\"\")\n",
    "df_html_tall = df_html_tall.replace(\"{}\".format(\"[\"),\"\")\n",
    "df_html_tall = df_html_tall #render_template_string(df_html_tall)\n",
    "df_html = df_html.replace('<td>','<td class=\"td_fin_statement_class fin_statement_class\">')\n",
    "df_html = df_html.replace('<th>','<th class=\"th_fin_statement_class fin_statement_class\">')\n",
    "df_html = df_html.replace('<tr>','<tr class=\"tr_fin_statement_class fin_statement_class\">')\n",
    "#  df_html_tall = df_html_tall.replace(\"\\n\",\"\")\n",
    "# df_html_tall.replace(\"\\n\",'\">')\n",
    "df_html_tall = df_html_tall.replace('<td>','<td class=\"td_fin_statement_class fin_statement_class\">')\n",
    "df_html_tall = df_html_tall.replace('<th>','<th class=\"th_fin_statement_class fin_statement_class\">')\n",
    "df_html_tall = df_html_tall.replace('<tr>','<tr class=\"tr_fin_statement_class fin_statement_class\">')\n",
    "df_html_tall = df_html_tall[0:]\n",
    "\n",
    "df = df[['date',\"{}\".format(fin_metric_name)]].dropna() #.fillna(0)#.fillna(method='bfill')\n",
    "df['date'] = pd.to_datetime(df['date']).values.astype(np.int64) // 10 ** 6\n",
    "full_path = csv_file.split(' ~ ')\n",
    "path = pathlib.PurePath(full_path[0])\n",
    "print(\"Nothing took {} seconds\".format(time.time() - start_time))\n",
    "total_seconds = ((time.time() - start_time))\n",
    "\n",
    "labels = [\n",
    "    'JAN', 'FEB', 'MAR', 'APR',\n",
    "    'MAY', 'JUN', 'JUL', 'AUG',\n",
    "    'SEP', 'OCT', 'NOV', 'DEC'\n",
    "]\n",
    "labels = list(df['date'])#[0:19]\n",
    "\n",
    "values = [\n",
    "    967.67, 1190.89, 1079.75, 1349.19,\n",
    "    2328.91, 2504.28, 2873.83, 4764.87,\n",
    "    4349.29, 6458.30, 9907, 16297\n",
    "]\n",
    "\n",
    "values = list(df[\"{}\".format(fin_metric_name)])#[0:19]\n",
    "\n",
    "colors = [\n",
    "    \"#F7464A\", \"#46BFBD\", \"#FDB45C\", \"#FEDCBA\",\n",
    "    \"#ABCDEF\", \"#DDDDDD\", \"#ABCABC\", \"#4169E1\",\n",
    "    \"#C71585\", \"#FF4500\", \"#FEDCBA\", \"#46BFBD\"]\n",
    "df_table_html = df_tall[['{}'.format(fin_metric_name)]].iloc[::-1].transpose().to_html()#.replace(\"\\n\",\"\")\n",
    "present_num = magnitude_num(int(latest_metric),currency_symbol)\n",
    "latest_num = \"${}\".format(df[\"{}\".format(fin_metric_name)][0])\n",
    "\n",
    "# return render_template('current_ratio.html', company_symbol = profiles_dict['symbol'],\\\n",
    "#                         company_long_name = profiles_dict['long name'],\\\n",
    "#                         company_currency = profiles_dict['currency'],\\\n",
    "#                         company_exchange = profiles_dict['exchange'],\\\n",
    "#                         company_industry = profiles_dict['industry'],\\\n",
    "#                         company_description = profiles_dict['description'],\\\n",
    "#                         company_sector = profiles_dict['sector'],\\\n",
    "#                         company_country = profiles_dict['country'],\\\n",
    "#                         company_ipo_date = profiles_dict['ipo date'],\\\n",
    "#                         company_short_name = profiles_dict['short name'],\\\n",
    "#                         first_num = first_num,\\\n",
    "#                         latest_num = latest_num,\\\n",
    "#                         historical_pct_chg = historical_pct_chg,\\\n",
    "#                         lifetime_sum_all_metric = lifetime_sum_all_metric,\\\n",
    "#                         mean_str = mean_str,\\\n",
    "#                         max_str = max_str,\\\n",
    "#                         min_str = min_str,\\\n",
    "#                         std_dev_str = std_dev_str,\\\n",
    "#                         bottom_25_str = bottom_25_str,\\\n",
    "#                         top_25_str = top_25_str,\\\n",
    "#                         earliest_year = earliest_year,\\\n",
    "#                         latest_year = latest_year,\\\n",
    "#                         earliest_metric = earliest_metric,\\\n",
    "#                         latest_metric = latest_metric,\\\n",
    "#                         max_min_pct_diff_str = max_min_pct_diff_str, df_bs_table_html = [df_table_html],df_html_tall = [df_html_tall],fin_metric_name = fin_metric_title,\\\n",
    "#                         df_date = df['date'].to_list(), df_rev = df[\"{}\".format(fin_metric_name)].to_list(),\\\n",
    "#                         df_json  =df.to_numpy().tolist(),\\\n",
    "#                         table_pct = [df_pct],\\\n",
    "#                         tables=[df_html],\\\n",
    "#                         titles=df.columns.values,\\\n",
    "#                         total_time=total_seconds,\\\n",
    "#                         place_name=url_symbol,\\\n",
    "#                         max=17000,\\\n",
    "#                         labels=labels,\\\n",
    "#                         values=values)\n"
   ]
  },
  {
   "cell_type": "code",
   "execution_count": 1,
   "metadata": {
    "ExecuteTime": {
     "end_time": "2020-12-17T23:04:43.897128Z",
     "start_time": "2020-12-17T23:04:43.686131Z"
    },
    "code_folding": [
     147
    ]
   },
   "outputs": [
    {
     "ename": "NameError",
     "evalue": "name 'df_fin_statement' is not defined",
     "output_type": "error",
     "traceback": [
      "\u001b[1;31m---------------------------------------------------------------------------\u001b[0m",
      "\u001b[1;31mNameError\u001b[0m                                 Traceback (most recent call last)",
      "\u001b[1;32m<ipython-input-1-e6eaa19c381e>\u001b[0m in \u001b[0;36m<module>\u001b[1;34m\u001b[0m\n\u001b[0;32m      1\u001b[0m \u001b[1;31m# df_fin_statement = df_fin_statement[cols]\u001b[0m\u001b[1;33m\u001b[0m\u001b[1;33m\u001b[0m\u001b[1;33m\u001b[0m\u001b[0m\n\u001b[0;32m      2\u001b[0m \u001b[1;33m\u001b[0m\u001b[0m\n\u001b[1;32m----> 3\u001b[1;33m \u001b[0mdf_fin_statement\u001b[0m\u001b[1;33m.\u001b[0m\u001b[0mindex\u001b[0m \u001b[1;33m=\u001b[0m \u001b[0mdf_fin_statement\u001b[0m\u001b[1;33m[\u001b[0m\u001b[1;34m'Quarter & Year'\u001b[0m\u001b[1;33m]\u001b[0m\u001b[1;33m\u001b[0m\u001b[1;33m\u001b[0m\u001b[0m\n\u001b[0m\u001b[0;32m      4\u001b[0m \u001b[1;33m\u001b[0m\u001b[0m\n\u001b[0;32m      5\u001b[0m \u001b[0mmillion\u001b[0m \u001b[1;33m=\u001b[0m \u001b[1;36m1000000\u001b[0m\u001b[1;33m\u001b[0m\u001b[1;33m\u001b[0m\u001b[0m\n",
      "\u001b[1;31mNameError\u001b[0m: name 'df_fin_statement' is not defined"
     ]
    }
   ],
   "source": [
    "\n",
    "\n",
    "\n",
    "\n",
    "\n",
    "\n",
    "\n",
    "\n",
    "# df_fin_statement = df_fin_statement[cols]\n",
    "\n",
    "df_fin_statement.index = df_fin_statement['Quarter & Year']\n",
    "\n",
    "million = 1000000\n",
    "billion = 1000000000\n",
    "fin_metric_history = df_fin_statement['{}'.format(fin_metric_title)]\n",
    "if list(fin_metric_history)[0]  > billion:\n",
    "    df_fin_statement['{}'.format(fin_metric_title)] = (fin_metric_history/billion).round(decimals=2)\n",
    "\n",
    "\n",
    "elif list(fin_metric_history)[0]  > million:\n",
    "    df_fin_statement['{}'.format(fin_metric_title)] = (fin_metric_history/million).round(decimals=2)\n",
    "\n",
    "    pass\n",
    "else:\n",
    "    pass\n",
    "\n",
    "df_pct_chg = df_fin_statement\n",
    "pct_chg_cols = (df_fin_statement.select_dtypes(include=['number']).pct_change(-1))\n",
    "df_pct_chg_str = df_pct_chg.drop(list(pct_chg_cols), axis=1)\n",
    "df_pct_chg = df_pct_chg_str.join(pct_chg_cols)[list(df_fin_statement)]\n",
    "\n",
    "pd.set_option('display.float_format', '{:.2f}'.format)\n",
    "df_pct_chg_t = df_pct_chg.transpose()\n",
    "df_pct_chg_t.columns = list(df_pct_chg['Quarter & Year'])\n",
    "df_pct_chg_t = df_pct_chg_t.iloc[1:]\n",
    "\n",
    "df_pct_chg_t = df_pct_chg.transpose()\n",
    "df_pct_chg_t.columns = list(df_pct_chg['Quarter & Year'])\n",
    "df_pct_chg_t = df_pct_chg_t.iloc[1:]\n",
    "df_pct_chg_t['']=df_pct_chg_t.index\n",
    "df_pct_chg_t.index = range(len(df_pct_chg_t))\n",
    "\n",
    "cols = list(df_pct_chg_t.columns)\n",
    "cols = [cols[-1]] + cols[:-1]\n",
    "df_pct_chg_t = df_pct_chg_t[titles_bs]\n",
    "\n",
    "\n",
    "df_t = df_fin_statement.transpose()\n",
    "df_t.columns = list(df_fin_statement['Quarter & Year'])\n",
    "df_t = df_t.iloc[1:]\n",
    "df_t['']=df_t.index\n",
    "df_t.index = range(len(df_t))\n",
    "\n",
    "cols = list(df_t.columns)\n",
    "cols = [cols[-1]] + cols[:-1]\n",
    "df_t = df_t[cols]\n",
    "#endregion\n",
    "\n",
    "df_pct = df_pct_chg_t.to_html().replace('<table','<table class=\"df_tableBoot\" id=\"df_myTable1\"')# dt-responsive\" id=\"df_myTable\"')\n",
    "\n",
    "df_t = df_t[df_t.columns[::-1]]\n",
    "cols = list(df_t.columns)\n",
    "cols = [cols[-1]] + cols[:-1]\n",
    "df_t = df_t[cols]\n",
    "\n",
    "\n",
    "def isnumber(x):\n",
    "    try:\n",
    "        float(x)\n",
    "        return True\n",
    "    except:\n",
    "        return False\n",
    "df_n = df_fin_statement[df_fin_statement.applymap(isnumber)]\n",
    "df_n[df_n < 2] = np.nan\n",
    "df_n_sum = pd.DataFrame(df_n.sum())\n",
    "df_n_sum[df_n_sum == 0] = \"\"\n",
    "new_header = df_n_sum.iloc[0] #grab the first row for the header\n",
    "df_n_sum = df_n_sum[1:] #take the data less the header row\n",
    "df_n_sum.columns = new_header #set the header row as the df header\n",
    "df_n_sum.index = range(len(df_n_sum))\n",
    "df_t = pd.merge(df_n_sum, df_t, left_index=True, right_index=True,suffixes=('Total: {} - {}'.format(latest_year,earliest_year), 'Line Items'))\n",
    "df_t = df_t[0:25]\n",
    "\n",
    "\n",
    "\n",
    "col_list = []\n",
    "n=0\n",
    "while n<len(list(df_t))-0:\n",
    "    if n<6:\n",
    "            col_item = '<col id=\"col_item_{}\" class=\"col_item_class first_7_col\">'.format(n)\n",
    "    else:\n",
    "        col_item = '<col id=\"col_item_{}\" class=\"col_item_class\">'.format(n)\n",
    "    col_list.append(col_item)\n",
    "    n+=1\n",
    "col_list_str = ''.join(map(str, col_list))\n",
    "df_html = df_t.to_html().replace('border=\"1\" class=\"dataframe\">','class=\"df_tableBoot\" id=\"df_myTable\" border=\"1\" class=\"dataframe\"><colgroup>{}</colgroup>'.format(col_list_str))\n",
    "# df_table_html = df_fin_statement[['{}'.format(fin_metric_title)]].iloc[::-1].transpose().to_html()#.replace(\"\\n\",\"\")\n",
    "df_tall = df.iloc[::-1]\n",
    "# df_tall.index = df['Quarter & Year']\n",
    "# df_tall = df.index.shift(-1)\n",
    "# df_tall = df_tall.reset_index()\n",
    "df_html_tall = df_tall[['{}'.format('Quarter & Year'),'{}'.format(fin_metric_name)]].to_html(index=False)\n",
    "df_html_tall = df_html_tall.replace('border=\"1\" class=\"dataframe\">','class=\"abc\" id=\"df_myTable\" border=\"1\" class=\"dataframe\">')#.replace(\"'\",\"\")\n",
    "# df_html_tall = df_html_tall.replace(\"\\n\",\"\")\n",
    "df_html_tall = df_html_tall.replace(\"\\n\",\"\")\n",
    "df_html_tall = df_html_tall.replace(\"{}\".format(\"[\"),\"\")\n",
    "df_html_tall = df_html_tall #render_template_string(df_html_tall)\n",
    "df_html = df_html.replace('<td>','<td class=\"td_fin_statement_class fin_statement_class\">')\n",
    "df_html = df_html.replace('<th>','<th class=\"th_fin_statement_class fin_statement_class\">')\n",
    "df_html = df_html.replace('<tr>','<tr class=\"tr_fin_statement_class fin_statement_class\">')\n",
    "#  df_html_tall = df_html_tall.replace(\"\\n\",\"\")\n",
    "# df_html_tall.replace(\"\\n\",'\">')\n",
    "df_html_tall = df_html_tall.replace('<td>','<td class=\"td_fin_statement_class fin_statement_class\">')\n",
    "df_html_tall = df_html_tall.replace('<th>','<th class=\"th_fin_statement_class fin_statement_class\">')\n",
    "df_html_tall = df_html_tall.replace('<tr>','<tr class=\"tr_fin_statement_class fin_statement_class\">')\n",
    "df_html_tall = df_html_tall[0:]\n",
    "\n",
    "df = df[['date',\"{}\".format(fin_metric_name)]].dropna() #.fillna(0)#.fillna(method='bfill')\n",
    "df['date'] = pd.to_datetime(df['date']).values.astype(np.int64) // 10 ** 6\n",
    "full_path = csv_file.split(' ~ ')\n",
    "path = pathlib.PurePath(full_path[0])\n",
    "print(\"Nothing took {} seconds\".format(time.time() - start_time))\n",
    "total_seconds = ((time.time() - start_time))\n",
    "\n",
    "labels = [\n",
    "    'JAN', 'FEB', 'MAR', 'APR',\n",
    "    'MAY', 'JUN', 'JUL', 'AUG',\n",
    "    'SEP', 'OCT', 'NOV', 'DEC'\n",
    "]\n",
    "labels = list(df['date'])#[0:19]\n",
    "\n",
    "values = [\n",
    "    967.67, 1190.89, 1079.75, 1349.19,\n",
    "    2328.91, 2504.28, 2873.83, 4764.87,\n",
    "    4349.29, 6458.30, 9907, 16297\n",
    "]\n",
    "\n",
    "values = list(df[\"{}\".format(fin_metric_name)])#[0:19]\n",
    "\n",
    "colors = [\n",
    "    \"#F7464A\", \"#46BFBD\", \"#FDB45C\", \"#FEDCBA\",\n",
    "    \"#ABCDEF\", \"#DDDDDD\", \"#ABCABC\", \"#4169E1\",\n",
    "    \"#C71585\", \"#FF4500\", \"#FEDCBA\", \"#46BFBD\"]\n",
    "df_table_html = df_tall[['{}'.format(fin_metric_name)]].iloc[::-1].transpose().to_html()#.replace(\"\\n\",\"\")\n",
    "present_num = magnitude_num(int(latest_metric),currency_symbol)\n",
    "latest_num = \"${}\".format(df[\"{}\".format(fin_metric_name)][0])\n",
    "\n",
    "# return render_template('current_ratio.html', company_symbol = profiles_dict['symbol'],\\\n",
    "#                         company_long_name = profiles_dict['long name'],\\\n",
    "#                         company_currency = profiles_dict['currency'],\\\n",
    "#                         company_exchange = profiles_dict['exchange'],\\\n",
    "#                         company_industry = profiles_dict['industry'],\\\n",
    "#                         company_description = profiles_dict['description'],\\\n",
    "#                         company_sector = profiles_dict['sector'],\\\n",
    "#                         company_country = profiles_dict['country'],\\\n",
    "#                         company_ipo_date = profiles_dict['ipo date'],\\\n",
    "#                         company_short_name = profiles_dict['short name'],\\\n",
    "#                         first_num = first_num,\\\n",
    "#                         latest_num = latest_num,\\\n",
    "#                         historical_pct_chg = historical_pct_chg,\\\n",
    "#                         lifetime_sum_all_metric = lifetime_sum_all_metric,\\\n",
    "#                         mean_str = mean_str,\\\n",
    "#                         max_str = max_str,\\\n",
    "#                         min_str = min_str,\\\n",
    "#                         std_dev_str = std_dev_str,\\\n",
    "#                         bottom_25_str = bottom_25_str,\\\n",
    "#                         top_25_str = top_25_str,\\\n",
    "#                         earliest_year = earliest_year,\\\n",
    "#                         latest_year = latest_year,\\\n",
    "#                         earliest_metric = earliest_metric,\\\n",
    "#                         latest_metric = latest_metric,\\\n",
    "#                         max_min_pct_diff_str = max_min_pct_diff_str, df_bs_table_html = [df_table_html],df_html_tall = [df_html_tall],fin_metric_name = fin_metric_title,\\\n",
    "#                         df_date = df['date'].to_list(), df_rev = df[\"{}\".format(fin_metric_name)].to_list(),\\\n",
    "#                         df_json  =df.to_numpy().tolist(),\\\n",
    "#                         table_pct = [df_pct],\\\n",
    "#                         tables=[df_html],\\\n",
    "#                         titles=df.columns.values,\\\n",
    "#                         total_time=total_seconds,\\\n",
    "#                         place_name=url_symbol,\\\n",
    "#                         max=17000,\\\n",
    "#                         labels=labels,\\\n",
    "#                         values=values)\n"
   ]
  },
  {
   "cell_type": "code",
   "execution_count": 19,
   "metadata": {
    "ExecuteTime": {
     "end_time": "2020-12-17T23:02:35.448645Z",
     "start_time": "2020-12-17T23:02:35.436631Z"
    }
   },
   "outputs": [
    {
     "data": {
      "text/plain": [
       "28"
      ]
     },
     "execution_count": 19,
     "metadata": {},
     "output_type": "execute_result"
    }
   ],
   "source": [
    "len(cols)"
   ]
  },
  {
   "cell_type": "code",
   "execution_count": null,
   "metadata": {},
   "outputs": [],
   "source": []
  }
 ],
 "metadata": {
  "kernelspec": {
   "display_name": "quantconnect",
   "language": "python",
   "name": "quantconnect"
  },
  "language_info": {
   "codemirror_mode": {
    "name": "ipython",
    "version": 3
   },
   "file_extension": ".py",
   "mimetype": "text/x-python",
   "name": "python",
   "nbconvert_exporter": "python",
   "pygments_lexer": "ipython3",
   "version": "3.9.0"
  },
  "toc": {
   "base_numbering": 1,
   "nav_menu": {},
   "number_sections": true,
   "sideBar": true,
   "skip_h1_title": false,
   "title_cell": "Table of Contents",
   "title_sidebar": "Contents",
   "toc_cell": false,
   "toc_position": {},
   "toc_section_display": true,
   "toc_window_display": false
  },
  "varInspector": {
   "cols": {
    "lenName": 16,
    "lenType": 16,
    "lenVar": 40
   },
   "kernels_config": {
    "python": {
     "delete_cmd_postfix": "",
     "delete_cmd_prefix": "del ",
     "library": "var_list.py",
     "varRefreshCmd": "print(var_dic_list())"
    },
    "r": {
     "delete_cmd_postfix": ") ",
     "delete_cmd_prefix": "rm(",
     "library": "var_list.r",
     "varRefreshCmd": "cat(var_dic_list()) "
    }
   },
   "position": {
    "height": "975px",
    "left": "932px",
    "right": "20px",
    "top": "48px",
    "width": "572px"
   },
   "types_to_exclude": [
    "module",
    "function",
    "builtin_function_or_method",
    "instance",
    "_Feature"
   ],
   "window_display": false
  }
 },
 "nbformat": 4,
 "nbformat_minor": 4
}
