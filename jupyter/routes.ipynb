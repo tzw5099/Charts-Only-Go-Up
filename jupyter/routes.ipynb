{
 "cells": [
  {
   "cell_type": "code",
   "execution_count": null,
   "metadata": {},
   "outputs": [],
   "source": []
  },
  {
   "cell_type": "code",
   "execution_count": 1,
   "metadata": {
    "ExecuteTime": {
     "end_time": "2020-12-17T00:44:55.457930Z",
     "start_time": "2020-12-17T00:44:55.147931Z"
    },
    "code_folding": [
     13
    ]
   },
   "outputs": [],
   "source": [
    "import pandas as pd\n",
    "import numpy as np\n",
    "import glob as glob\n",
    "import os\n",
    "import time\n",
    "import pathlib\n",
    "\n",
    "start_time = time.time()\n",
    "uri_list = \"cash-and-cash-equivalents\"\n",
    "url_symbol_name = \"apple\"\n",
    "url_symbol = \"aapl\"\n",
    "url_fin_metric = \"cash-and-cash-equivalents\"\n",
    "\n",
    "def magnitude_num(number, currency_symbol):\n",
    "    if len(str(number)) > 9:\n",
    "        magnitude = number/1000000000\n",
    "        magnitude_str = \"{}{}{}\".format(currency_symbol,round(magnitude,1),\"B\")\n",
    "    elif len(str(number)) > 6:\n",
    "        magnitude = number/1000000\n",
    "        magnitude_str = \"{}{}{}\".format(currency_symbol,round(magnitude,1),\"M\")\n",
    "    elif len(str(number)) > 3:\n",
    "        magnitude = number/1000\n",
    "        magnitude_str = \"{}{}{}\".format(currency_symbol,round(magnitude,1),\"K\")\n",
    "    else:\n",
    "        magnitude = number\n",
    "        magnitude_str = \"{}{}{}\".format(currency_symbol,round(magnitude,1),\"K\")\n",
    "    return magnitude_str"
   ]
  },
  {
   "cell_type": "code",
   "execution_count": 2,
   "metadata": {
    "ExecuteTime": {
     "end_time": "2020-12-17T00:44:56.017929Z",
     "start_time": "2020-12-17T00:44:55.894932Z"
    },
    "code_folding": [
     3
    ],
    "run_control": {
     "marked": true
    }
   },
   "outputs": [],
   "source": [
    "company_profiles = pd.read_csv(\"../reference_data/Company_Profiles.csv\")#, encoding='cp1252')\n",
    "fin_statements_matching = pd.read_csv(\"../reference_data/Financial_Statements_Reference_Matching.csv\")#, encoding='cp1252')\n",
    "currency_symbol = list(company_profiles[company_profiles['symbol']==\"{}\".format(url_symbol.upper())]['currency symbol'])[0]\n",
    "company_profiles_col = ['symbol',\n",
    "                        'long name',\n",
    "                        'currency',\n",
    "                        'exchange',\n",
    "                        'industry',\n",
    "                        'description',\n",
    "                        'sector',\n",
    "                        'country',\n",
    "                        'ipo date',\n",
    "                        'short name']\n",
    "company_profiles = company_profiles[company_profiles_col]  "
   ]
  },
  {
   "cell_type": "code",
   "execution_count": 3,
   "metadata": {
    "ExecuteTime": {
     "end_time": "2020-12-17T00:44:56.343933Z",
     "start_time": "2020-12-17T00:44:56.334930Z"
    },
    "code_folding": [],
    "run_control": {
     "marked": true
    }
   },
   "outputs": [],
   "source": [
    "# hide - cash equiv\n",
    "profiles_dict = {}\n",
    "profiles_value = company_profiles[company_profiles['symbol']==\"{}\".format(url_symbol.upper())].values.tolist()[0]\n",
    "\n",
    "titles_bs = list(fin_statements_matching[fin_statements_matching['Financial Statement']==\"Balance Sheet\"]['Title'])\n",
    "titles_cf = list(fin_statements_matching[fin_statements_matching['Financial Statement']==\"Cash Flow Statement\"]['Title'])\n",
    "titles_is = list(fin_statements_matching[fin_statements_matching['Financial Statement']==\"Income Statement\"]['Title'])\n",
    "\n",
    "urls_bs = list(fin_statements_matching[fin_statements_matching['Financial Statement']==\"Balance Sheet\"]['URL'])\n",
    "urls_cf = list(fin_statements_matching[fin_statements_matching['Financial Statement']==\"Cash Flow Statement\"]['URL'])\n",
    "urls_is = list(fin_statements_matching[fin_statements_matching['Financial Statement']==\"Income Statement\"]['URL'])"
   ]
  },
  {
   "cell_type": "code",
   "execution_count": 4,
   "metadata": {
    "ExecuteTime": {
     "end_time": "2020-12-17T00:44:56.905929Z",
     "start_time": "2020-12-17T00:44:56.897930Z"
    },
    "code_folding": [
     8
    ],
    "run_control": {
     "marked": true
    }
   },
   "outputs": [],
   "source": [
    "# hide - cash equiv\n",
    "for n, profiles_col in enumerate(company_profiles_col):\n",
    "    key = profiles_col\n",
    "    value = profiles_value[n]\n",
    "    profiles_dict[key] = value \n",
    "\n",
    "if \"{}\".format(url_fin_metric) in urls_is:\n",
    "    fin_statement_dir = \"Income Statement\"\n",
    "elif \"{}\".format(url_fin_metric) in urls_bs:\n",
    "    fin_metric_pos = urls_bs.index(\"{}\".format(url_fin_metric))\n",
    "    fin_statement_dir = \"Balance Sheet\"\n",
    "    fin_statement_cols = titles_bs\n",
    "    cols = titles_bs\n",
    "    fin_metric_title = fin_statement_cols[fin_metric_pos]\n",
    "\n",
    "elif \"{}\".format(url_fin_metric) in urls_cf:\n",
    "    fin_statement_dir = \"Cash Flow Statement\"\n",
    "\n",
    "else:\n",
    "    pass\n"
   ]
  },
  {
   "cell_type": "code",
   "execution_count": 5,
   "metadata": {
    "ExecuteTime": {
     "end_time": "2020-12-17T00:44:58.011729Z",
     "start_time": "2020-12-17T00:44:57.964729Z"
    },
    "code_folding": [],
    "run_control": {
     "marked": true
    }
   },
   "outputs": [
    {
     "name": "stdout",
     "output_type": "stream",
     "text": [
      "fin metric name cashAndCashEquivalents\n"
     ]
    }
   ],
   "source": [
    "# hide - cash equiv\n",
    "# start_time = time.time()\n",
    "bs_dir = \"Balance Sheet\"\n",
    "bs_file = glob.glob(\"../Charts_TenDollarData/financial_statements/data/Historical Financial Statements/*/year/{}/*~{}~*\".format(bs_dir, url_symbol.upper()))[-1]\n",
    "\n",
    "df = pd.read_csv(bs_file,index_col = False) #.format(\"NLOK\"))[-1]\n",
    "# df = df[df['date'].notna()]#fillna(method='ffill')\n",
    "df = df[0:].iloc[::-1]#.dropna()\n",
    "df_fin_statement = df\n",
    "#region Pandas data manipulation\n",
    "matching_row = fin_statements_matching[fin_statements_matching['URL']==\"{}\".format(url_fin_metric)]\n",
    "fin_metric_title = list(matching_row['Title'])[0]\n",
    "fin_metric_name = list(matching_row['Name'])[0]\n",
    "print(\"fin metric name\", fin_metric_name)\n",
    "sorted_metric = df[\"{}\".format(fin_metric_name)].sort_values()"
   ]
  },
  {
   "cell_type": "code",
   "execution_count": 6,
   "metadata": {
    "ExecuteTime": {
     "end_time": "2020-12-17T00:44:58.645729Z",
     "start_time": "2020-12-17T00:44:58.555728Z"
    }
   },
   "outputs": [],
   "source": [
    "fin_dir = [\"Income Statement\",\"Balance Sheet\",\"Cash Flow Statement\"]\n",
    "fin_df_list = []\n",
    "for x in fin_dir:\n",
    "    fin_file = glob.glob(\"../Charts_TenDollarData/financial_statements/data/Historical Financial Statements/*/year/{}/*~{}~*\".format(x, url_symbol.upper()))[-1]\n",
    "    fin_df = pd.read_csv(fin_file)\n",
    "    fin_df_list.append(fin_df)"
   ]
  },
  {
   "cell_type": "code",
   "execution_count": 7,
   "metadata": {
    "ExecuteTime": {
     "end_time": "2020-12-17T00:44:59.501727Z",
     "start_time": "2020-12-17T00:44:59.458730Z"
    },
    "code_folding": [
     1,
     106
    ],
    "run_control": {
     "marked": false
    }
   },
   "outputs": [],
   "source": [
    "# df = pd.concat(fin_df_list,ignore_index=True)#,axis = 1)\n",
    "# df = pd.concat(fin_df_list, join='outer', axis=1)#.fillna(nan_value)\n",
    "\n",
    "# df = pd.concat(fin_df_list,ignore_index=True)\n",
    "df_merge_is_bs = pd.merge(fin_df_list[0],fin_df_list[1],how=\"inner\", on=\"date\")\n",
    "# df\n",
    "# df_merge cols\n",
    "df_merge = pd.merge(df_merge_is_bs,fin_df_list[2],how=\"inner\", on=\"date\")\n",
    "df_merge = df_merge[['Unnamed: 0',\n",
    "        'date',\n",
    "        'symbol',\n",
    "        'fillingDate',\n",
    "        'acceptedDate',\n",
    "        'period',\n",
    "        'revenue',\n",
    "        'costOfRevenue',\n",
    "        'grossProfit',\n",
    "        'grossProfitRatio',\n",
    "        'researchAndDevelopmentExpenses',\n",
    "        'generalAndAdministrativeExpenses',\n",
    "\n",
    "        'sellingAndMarketingExpenses',\n",
    "        'otherExpenses',\n",
    "        'operatingExpenses',\n",
    "        'costAndExpenses',\n",
    "        'interestExpense',\n",
    "        'depreciationAndAmortization_x',\n",
    "        'ebitda',\n",
    "        'ebitdaratio',\n",
    "        'operatingIncome',\n",
    "        'operatingIncomeRatio',\n",
    "        'totalOtherIncomeExpensesNet',\n",
    "        'incomeBeforeTax',\n",
    "        'incomeBeforeTaxRatio',\n",
    "        'incomeTaxExpense',\n",
    "        'netIncome_x',\n",
    "        'netIncomeRatio',\n",
    "        'eps',\n",
    "        'epsdiluted',\n",
    "        'weightedAverageShsOut',\n",
    "        'weightedAverageShsOutDil',\n",
    "        'link',\n",
    "        'finalLink',\n",
    "        'cashAndCashEquivalents',\n",
    "        'shortTermInvestments',\n",
    "        'cashAndShortTermInvestments',\n",
    "\n",
    "        'inventory_x',\n",
    "        'otherCurrentAssets',\n",
    "        'totalCurrentAssets',\n",
    "        'propertyPlantEquipmentNet',\n",
    "        'goodwill',\n",
    "        'intangibleAssets',\n",
    "        'goodwillAndIntangibleAssets',\n",
    "        'longTermInvestments',\n",
    "        'taxAssets',\n",
    "\n",
    "\n",
    "        'otherAssets',\n",
    "        'totalAssets',\n",
    "        'accountPayables',\n",
    "        'shortTermDebt',\n",
    "        'taxPayables',\n",
    "        'deferredRevenue',\n",
    "        'otherCurrentLiabilities',\n",
    "        'totalCurrentLiabilities',\n",
    "        'longTermDebt',\n",
    "        'deferredRevenueNonCurrent',\n",
    "        'deferredTaxLiabilitiesNonCurrent',\n",
    "        'otherNonCurrentLiabilities',\n",
    "        'totalNonCurrentLiabilities',\n",
    "        'otherLiabilities',\n",
    "        'totalLiabilities',\n",
    "        'commonStock',\n",
    "        'retainedEarnings',\n",
    "        'accumulatedOtherComprehensiveIncomeLoss',\n",
    "        'othertotalStockholdersEquity',\n",
    "        'totalStockholdersEquity',\n",
    "        'totalLiabilitiesAndStockholdersEquity',\n",
    "        'totalInvestments',\n",
    "        'totalDebt',\n",
    "        'netDebt',\n",
    "\n",
    "\n",
    "        'deferredIncomeTax',\n",
    "        'stockBasedCompensation',\n",
    "        'changeInWorkingCapital',\n",
    "        'accountsReceivables',\n",
    "\n",
    "\n",
    "        'otherWorkingCapital',\n",
    "        'otherNonCashItems',\n",
    "        'netCashProvidedByOperatingActivities',\n",
    "        'investmentsInPropertyPlantAndEquipment',\n",
    "        'acquisitionsNet',\n",
    "        'purchasesOfInvestments',\n",
    "        'salesMaturitiesOfInvestments',\n",
    "        'otherInvestingActivites',\n",
    "        'netCashUsedForInvestingActivites',\n",
    "        'debtRepayment',\n",
    "        'commonStockIssued',\n",
    "        'commonStockRepurchased',\n",
    "        'dividendsPaid',\n",
    "        'otherFinancingActivites',\n",
    "        'netCashUsedProvidedByFinancingActivities',\n",
    "        'effectOfForexChangesOnCash',\n",
    "        'netChangeInCash',\n",
    "        'cashAtEndOfPeriod',\n",
    "        'cashAtBeginningOfPeriod',\n",
    "        'operatingCashFlow',\n",
    "        'capitalExpenditure',\n",
    "        'freeCashFlow']]\n",
    "\n",
    "df_merge.columns = ['index',\n",
    "                'date',\n",
    "                'symbol',\n",
    "                'filing_date',\n",
    "                'accepted_date',\n",
    "                'quarter_n_year',\n",
    "                'net_revenue',\n",
    "                'cost_of_sales',\n",
    "                'gross_profit_margin_non',\n",
    "                'gross_profit_margin_ratio',\n",
    "                'r_n_d',\n",
    "                'g_n_a',\n",
    "\n",
    "                's_n_m',\n",
    "                'other_income',\n",
    "                'total_opex',\n",
    "                'cost_expenses',\n",
    "                'interest_expense',\n",
    "                'd_n_a',\n",
    "                'ebitda_non',\n",
    "                'ebitda_margin',\n",
    "                'operating_income',\n",
    "                'operating_margin',\n",
    "                'total_other_income',\n",
    "                'pretax_income_non',\n",
    "                'pretax_income_margin',\n",
    "                'income_tax_expense',\n",
    "                'net_income',\n",
    "                'profit_margin',\n",
    "                'eps_non',\n",
    "                'eps_diluted',\n",
    "                'shares_outstanding_non',\n",
    "                'shares_outstanding_diluted',\n",
    "                'sec_filing_link',\n",
    "                'sec_statement_link',\n",
    "                'cash_non',\n",
    "                'short_term_investments',\n",
    "                'cash_n_short_term_investments',\n",
    "\n",
    "                'inventory',\n",
    "                'other_current_assets',\n",
    "                'total_current_assets',\n",
    "                'pp_n_e',\n",
    "                'goodwill',\n",
    "                'intangible_assets',\n",
    "                'goodwill_n_intangible_assets',\n",
    "                'long_term_investments',\n",
    "                'tax_assets',\n",
    "\n",
    "\n",
    "                'other_assets',\n",
    "                'total_assets',\n",
    "                'accounts_payable',\n",
    "                'short_term_debt',\n",
    "                'income_tax_payables',\n",
    "                'deferred_revenue',\n",
    "                'other_current_liabilities',\n",
    "                'total_current_liabilities',\n",
    "                'long_term_debt',\n",
    "                'deferred_revenue_non_current',\n",
    "                'deferred_tax_liabilities_non_current',\n",
    "                'other_non_current_liabilities',\n",
    "                'total_non_current_liabilities',\n",
    "                'other_liabilities',\n",
    "                'total_liabilities',\n",
    "                'common_stock',\n",
    "                'retained_earnings',\n",
    "                'accumulated_other_comprehensive_income',\n",
    "                'other_se',\n",
    "                'total_se',\n",
    "                'total_l_se',\n",
    "                'total_investments',\n",
    "                'total_debt',\n",
    "                'net_debt',\n",
    "\n",
    "\n",
    "                'deferred_income_tax',\n",
    "                'sbc',\n",
    "                'change_in_working_capital',\n",
    "                'accounts_receivable',\n",
    "\n",
    "\n",
    "                'other_working_capital',\n",
    "                'other_non_cash_items',\n",
    "                'net_cash_by_operating_activities',\n",
    "                'investments_in_pp_n_e',\n",
    "                'acquisitions_net',\n",
    "                'purchase_of_investments',\n",
    "                'sales_maturities_of_investments',\n",
    "                'other_investing_activities',\n",
    "                'net_cash_used_for_investing_activities',\n",
    "                'debt_repayment',\n",
    "                'common_stock_issued',\n",
    "                'common_stock_repurchased',\n",
    "                'dividends_paid',\n",
    "                'other_financing_activities',\n",
    "                'net_cash_used_provided_by_financing_activities',\n",
    "                'effect_of_fx_rate_changes_on_cash',\n",
    "                'net_change_in_cash',\n",
    "                'cash_at_end_of_period',\n",
    "                'cash_at_beginning_of_period',\n",
    "                'operating_cash_flow',\n",
    "                'capex',\n",
    "                'free_cash_flow']\n",
    "df = df_merge"
   ]
  },
  {
   "cell_type": "code",
   "execution_count": 8,
   "metadata": {
    "ExecuteTime": {
     "end_time": "2020-12-17T00:45:00.528773Z",
     "start_time": "2020-12-17T00:45:00.485775Z"
    },
    "run_control": {
     "marked": true
    }
   },
   "outputs": [],
   "source": [
    "df['ffo_math']=df['net_income'] + df['d_n_a'] + df['sales_maturities_of_investments'] + df['purchase_of_investments'] + df['investments_in_pp_n_e'] + df['acquisitions_net']\n",
    "df['book_value_math']=df['total_assets'].dropna()-df['total_liabilities'].dropna()\n",
    "df['ebit_math']=df['ebitda_non'] - df['d_n_a']\n",
    "df['working_capital_math']= df['total_current_assets'] - df['total_current_liabilities']\n",
    "\n",
    "df['quick_assets_math']=df['cash_non']+df['short_term_investments']+df['accounts_receivable']\n",
    "df['quick_ratio_math']=df['total_current_assets'] - df['inventory']\n",
    "# df['other_current_assets'] * df['total_current_assets']\n",
    "# df['g_n_a']+df['s_n_m']"
   ]
  },
  {
   "cell_type": "code",
   "execution_count": 9,
   "metadata": {
    "ExecuteTime": {
     "end_time": "2020-12-17T00:45:01.525773Z",
     "start_time": "2020-12-17T00:45:01.513777Z"
    },
    "code_folding": [
     0
    ]
   },
   "outputs": [],
   "source": [
    "# wtf red dot\n",
    "# perc​entage_of_debt_to_asset_formula = lambda perc​entage_of_debt_to_asset_formula: ((total_non_current_liabilities)/(total_assets))\n",
    "# rece​ivables_turnover = lambda rece​ivables_turnover: ((net_revenue)/(accounts_receivable))"
   ]
  },
  {
   "cell_type": "code",
   "execution_count": 10,
   "metadata": {
    "ExecuteTime": {
     "end_time": "2020-12-17T00:45:02.537775Z",
     "start_time": "2020-12-17T00:45:02.509776Z"
    },
    "code_folding": [
     0
    ],
    "run_control": {
     "marked": true
    }
   },
   "outputs": [],
   "source": [
    "# hide lambda\n",
    "net_working_capital_ratio = lambda net_working_capital_ratio: (df['working_capital_math']/df['total_assets'])\n",
    "book_value_per_share = lambda book_value_per_share: (df['total_se']/df['shares_outstanding_non'])\n",
    "total_equity_to_total_assets = lambda total_equity_to_total_assets: (df['total_se']/df['total_assets'])\n",
    "operating_cost_ratio = lambda operating_cost_ratio: (df['total_opex'] - df['d_n_a']/df['net_revenue'])\n",
    "percentage_of_debt_to_asset_formula = lambda percentage_of_debt_to_asset_formula: (df['total_non_current_liabilities']/df['total_assets'])\n",
    "\n",
    "total_liabilities_pct_of_total_assets = lambda total_liabilities_pct_of_total_assets: (df['total_liabilities']/df['total_assets'])\n",
    "debt_to_assets_ratio = lambda debt_to_assets_ratio: (df['total_debt']/df['total_assets'])\n",
    "debt_to_equity_ratio = lambda debt_to_equity_ratio: (df['total_debt']/df['total_se'])\n",
    "quick_ratio = lambda quick_ratio: (df['total_current_assets']-df['inventory']/df['total_current_liabilities'])\n",
    "working_capital = lambda working_capital: (df['total_current_assets'] - df['total_current_liabilities'])\n",
    "current_ratio = lambda current_ratio: (df['total_current_assets']/df['total_current_liabilities'])\n",
    "capital_intensity = lambda capital_intensity: (df['total_assets']/df['net_revenue'])\n",
    "equity_multiplier = lambda equity_multiplier: (df['total_assets']/df['total_se'])\n",
    "short_term_debt_to_equity_ratio = lambda short_term_debt_to_equity_ratio: (df['short_term_debt']/df['total_se'])\n",
    "st_debt_as_pct_of_total_debt = lambda st_debt_as_pct_of_total_debt: (df['short_term_debt']/df['total_liabilities'])\n",
    "acid_test_ratio = lambda acid_test_ratio: (df['quick_assets_math']/df['total_current_liabilities'])\n",
    "pre_tax_income_to_sales = lambda pre_tax_income_to_sales: (df['pretax_income_non']/df['net_revenue'])\n",
    "pre_tax_return_on_assets = lambda pre_tax_return_on_assets: (df['pretax_income_non']/df['total_assets'])\n",
    "pre_tax_return_on_common_equity = lambda pre_tax_return_on_common_equity: (df['pretax_income_non']/df['common_stock'])\n",
    "operating_roa = lambda operating_roa: (df['operating_income']/df['total_assets'])\n",
    "operating_profit_margin = lambda operating_profit_margin: (df['operating_income']/df['net_revenue'])\n",
    "free_operating_cash_flow_to_debt = lambda free_operating_cash_flow_to_debt: (df['operating_cash_flow']-df['capex']/df['total_debt'])\n",
    "discretionary_cash_flow_to_debt = lambda discretionary_cash_flow_to_debt: (df['operating_cash_flow']-df['accounts_payable']-df['debt_repayment']-df['dividends_paid']-df['interest_expense'])\n",
    "operating_cash_flow_to_interest = lambda operating_cash_flow_to_interest: (df['operating_cash_flow'] + df['interest_expense'] + df['income_tax_expense']/df['interest_expense'])\n",
    "operating_cash_flow_to_debt = lambda operating_cash_flow_to_debt: (df['operating_cash_flow'] + df['interest_expense'] + df['income_tax_expense']/df['total_liabilities'])\n",
    "cash_flow_margin_ratio_formula = lambda cash_flow_margin_ratio_formula: (df['operating_cash_flow']/df['total_liabilities'])\n",
    "cash_flow_to_debt = lambda cash_flow_to_debt: (df['operating_cash_flow']/df['total_debt'])\n",
    "net_cash_flow_to_capital_expenditures = lambda net_cash_flow_to_capital_expenditures: (df['operating_cash_flow']/df['capex'])\n",
    "cash_flow_to_revenue = lambda cash_flow_to_revenue: (df['operating_cash_flow']/df['net_revenue'])\n",
    "cash_return_on_assets = lambda cash_return_on_assets: (df['operating_cash_flow']/df['total_assets'])\n",
    "cash_return_on_equity = lambda cash_return_on_equity: (df['operating_cash_flow']/df['total_se'])\n",
    "cash_to_income_ratio = lambda cash_to_income_ratio: (df['operating_cash_flow']/df['operating_income'])\n",
    "cash_flow_per_share = lambda cash_flow_per_share: (df['operating_cash_flow']/df['shares_outstanding_non'])\n",
    "debt_payment = lambda debt_payment: (df['operating_cash_flow']/df['debt_repayment'])\n",
    "debt_coverage = lambda debt_coverage: (df['operating_cash_flow']/df['long_term_debt'])\n",
    "cash_flow_from_operations_ratio = lambda cash_flow_from_operations_ratio: (df['operating_cash_flow']/df['total_current_liabilities'])\n",
    "gross_profit_margin = lambda gross_profit_margin: (df['net_revenue'] - df['cost_of_sales']/df['net_revenue'])\n",
    "receivables_turnover = lambda receivables_turnover: (df['net_revenue']/df['accounts_receivable'])\n",
    "capital_turnover_ratio = lambda capital_turnover_ratio: (df['net_revenue']/df['working_capital_math'])\n",
    "assets_turnover_ratio = lambda assets_turnover_ratio: (df['net_revenue']/df['total_assets'])\n",
    "accounts_receivableturnover = lambda accounts_receivableturnover: (df['net_revenue']/df['accounts_receivable'])\n",
    "operating_cash_flow_to_debt = lambda operating_cash_flow_to_debt: (df['net_revenue']/df['total_se'])\n",
    "inventory_ratio = lambda inventory_ratio: (df['net_revenue']/df['inventory'])\n",
    "return_on_investment = lambda return_on_investment: (df['net_income']+ df['interest_expense']/df['total_se'])\n",
    "pretax_margin = lambda pretax_margin: (df['net_income'] - df['income_tax_expense']/df['net_revenue'])\n",
    "income_to_net_worth_ratio = lambda income_to_net_worth_ratio: (df['net_income'] - df['deferred_income_tax']/df['shares_outstanding_non'])\n",
    "return_on_assets_roa = lambda return_on_assets_roa: (df['net_income']/df['total_assets'])\n",
    "roe = lambda roe: (df['net_income']/df['total_se'])\n",
    "profit_margin = lambda profit_margin: (df['net_income']/df['net_revenue'])\n",
    "earnings_per_share = lambda earnings_per_share: (df['net_income']/df['shares_outstanding_non'])\n",
    "current_cash_debt_coverage = lambda current_cash_debt_coverage: (df['net_cash_by_operating_activities']/df['total_current_liabilities'])\n",
    "cash_debt_coverage = lambda cash_debt_coverage: (df['net_cash_by_operating_activities']/df['total_liabilities'])\n",
    "long_term_debt_ratio = lambda long_term_debt_ratio: (df['long_term_debt']/df['total_assets'])\n",
    "long_term_debt_equity_ratio = lambda long_term_debt_equity_ratio: (df['long_term_debt']/df['total_se'])\n",
    "lt_debt_as_pct_of_total_debt = lambda lt_debt_as_pct_of_total_debt: (df['long_term_debt']/df['total_liabilities'])\n",
    "inventory_pct_of_revenue = lambda inventory_pct_of_revenue: (df['inventory']/df['net_revenue'])\n",
    "intangibles_pct_of_book_value = lambda intangibles_pct_of_book_value: (df['goodwill_n_intangible_assets']/df['total_se'])\n",
    "ffo_funds_from_operations_to_debt = lambda ffo_funds_from_operations_to_debt: (df['ffo_math']/df['total_debt'])\n",
    "operating_margin = lambda operating_margin: (df['ebitda_non']-df['d_a']/df['net_revenue'])\n",
    "cash_coverage_ratio = lambda cash_coverage_ratio: (df['ebitda_non']/df['interest_expense'])\n",
    "ebitda_per_share = lambda ebitda_per_share: (df['ebitda_non']/df['shares_outstanding_non'])\n",
    "ebitda_interest_coverage = lambda ebitda_interest_coverage: (df['ebitda_non']/df['interest_expense'])\n",
    "ebitda_margin = lambda ebitda_margin: (df['ebitda_non']/df['net_revenue'])\n",
    "net_margin_profit_margin = lambda net_margin_profit_margin: (df['ebitda_margin']/df['net_revenue'])\n",
    "return_on_capital_employed_ratio = lambda return_on_capital_employed_ratio: (df['ebit_math']/df['total_assets'] - df['total_current_liabilities'])\n",
    "debt_service_ratio = lambda debt_service_ratio: (df['ebit_math']/df['interest_expense'])\n",
    "return_on_capital = lambda return_on_capital: (df['ebit_math']/df['total_assets'])\n",
    "dividend_yield = lambda dividend_yield: (df['dividends_paid']/df['shares_outstanding_non'])\n",
    "dividend_payout_ratio = lambda dividend_payout_ratio: (df['dividends_paid']/df['net_income'])\n",
    "dividends_per_share = lambda dividends_per_share: (df['dividends_paid']/df['shares_outstanding_non'])\n",
    "inventory_turnover = lambda inventory_turnover: (df['cost_of_sales']/df['inventory'])\n",
    "cash_ratio = lambda cash_ratio: (df['cash_non']/df['total_current_liabilities'])\n",
    "cash_flow_roa = lambda cash_flow_roa: (df['operating_cash_flow']/df['total_assets'])\n",
    "average_collection_period = lambda average_collection_period: (df['accounts_receivable']/df['net_revenue'])\n",
    "number_of_days_of_receivables = lambda number_of_days_of_receivables: (df['accounts_receivable']/df['inventory'])\n",
    "average_days_payables_outstanding = lambda average_days_payables_outstanding: (df['accounts_payable']/df['cost_of_sales'])\n",
    "days_sales_in_payables = lambda days_sales_in_payables: (df['accounts_payable']/df['total_opex'])"
   ]
  },
  {
   "cell_type": "code",
   "execution_count": 11,
   "metadata": {
    "ExecuteTime": {
     "end_time": "2020-12-17T00:45:03.532774Z",
     "start_time": "2020-12-17T00:45:03.520773Z"
    }
   },
   "outputs": [],
   "source": [
    "ratios_df = pd.read_csv(\"../reference_data/ratios.csv\")\n",
    "ratios_df = ratios_df.dropna(subset = [\"Name\"])\n",
    "fin_statements_matching[fin_statements_matching['URL']==\"{}\".format(url_fin_metric)]\n",
    "fin_metric_ratio_variable_name = list(matching_row['Python Variable Name'])[0]\n",
    "# ratios_df = pd.read_csv(\"../reference_data/ratios.csv\")\n",
    "\n"
   ]
  },
  {
   "cell_type": "code",
   "execution_count": 12,
   "metadata": {
    "ExecuteTime": {
     "end_time": "2020-12-17T00:45:04.560774Z",
     "start_time": "2020-12-17T00:45:04.550774Z"
    },
    "code_folding": [
     2
    ],
    "run_control": {
     "marked": false
    }
   },
   "outputs": [],
   "source": [
    "# metric to url mapping\n",
    "metric_to_url_map = {\n",
    "    'net_working_capital_ratio': \"net-working-capital-ratio\",\n",
    "    'book_value_per_share': \"book-value-per-share\",\n",
    "    'total_equity_to_total_assets': \"total-equity-to-total-assets\",\n",
    "    'operating_cost_ratio': \"operating-cost-ratio\",\n",
    "    'percentage_of_debt_to_asset_formula': \"perc​entage-of-debt-to-asset-formula\",\n",
    "\n",
    "    'total_liabilities_pct_of_total_assets': \"total-liabilities-pct-of-total-assets\",\n",
    "    'debt_to_assets_ratio': \"debt-to-assets-ratio\",\n",
    "    'debt_to_equity_ratio': \"debt-to-equity-ratio\",\n",
    "    'quick_ratio': \"quick-ratio\",\n",
    "    'working_capital': \"working-capital\",\n",
    "    'current_ratio': \"current-ratio\",\n",
    "    'capital_intensity': \"capital-intensity\",\n",
    "    'equity_multiplier': \"equity-multiplier\",\n",
    "    'short_term_debt_to_equity_ratio': \"short-term-debt-to-equity-ratio\",\n",
    "    'st_debt_as_pct_of_total_debt': \"st-debt-as-pct-of-total-debt\",\n",
    "    'acid_test_ratio': \"acid-test-ratio\",\n",
    "    'pre_tax_income_to_sales': \"pre-tax-income-to-sales\",\n",
    "    'pre_tax_return_on_assets': \"pre-tax-return-on-assets\",\n",
    "    'pre_tax_return_on_common_equity': \"pre-tax-return-on-common-equity\",\n",
    "    'operating_roa': \"operating-roa\",\n",
    "    'operating_profit_margin': \"operating-profit-margin\",\n",
    "    'free_operating_cash_flow_to_debt': \"free-operating-cash-flow-to-debt\",\n",
    "    'discretionary_cash_flow_to_debt': \"discretionary-cash-flow-to-debt\",\n",
    "    'operating_cash_flow_to_interest': \"operating-cash-flow-to-interest\",\n",
    "    'operating_cash_flow_to_debt': \"operating-cash-flow-to-debt\",\n",
    "    'cash_flow_margin_ratio_formula': \"cash-flow-margin-ratio-formula\",\n",
    "    'cash_flow_to_debt': \"cash-flow-to-debt\",\n",
    "    'net_cash_flow_to_capital_expenditures': \"net-cash-flow-to-capital-expenditures\",\n",
    "    'cash_flow_to_revenue': \"cash-flow-to-revenue\",\n",
    "    'cash_return_on_assets': \"cash-return-on-assets\",\n",
    "    'cash_return_on_equity': \"cash-return-on-equity\",\n",
    "    'cash_to_income_ratio': \"cash-to-income-ratio\",\n",
    "    'cash_flow_per_share': \"cash-flow-per-share\",\n",
    "    'debt_payment': \"debt-payment\",\n",
    "    'debt_coverage': \"debt-coverage\",\n",
    "    'cash_flow_from_operations_ratio': \"cash-flow-from-operations-ratio\",\n",
    "    'gross_profit_margin': \"gross-profit-margin\",\n",
    "    'receivables_turnover': \"rece​ivables-turnover\",\n",
    "    'capital_turnover_ratio': \"capital-turnover-ratio\",\n",
    "    'assets_turnover_ratio': \"assets-turnover-ratio\",\n",
    "    'accounts_receivableturnover': \"accounts-receivableturnover\",\n",
    "    'operating_cash_flow_to_debt': \"operating-cash-flow-to-debt\",\n",
    "    'inventory_ratio': \"inventory-ratio\",\n",
    "    'return_on_investment': \"return-on-investment\",\n",
    "    'pretax_margin': \"pretax-margin\",\n",
    "    'income_to_net_worth_ratio': \"income-to-net-worth-ratio\",\n",
    "    'return_on_assets_roa': \"return-on-assets-roa\",\n",
    "    'roe': \"roe\",\n",
    "    'profit_margin': \"profit-margin\",\n",
    "    'earnings_per_share': \"earnings-per-share\",\n",
    "    'current_cash_debt_coverage': \"current-cash-debt-coverage\",\n",
    "    'cash_debt_coverage': \"cash-debt-coverage\",\n",
    "    'long_term_debt_ratio': \"long-term-debt-ratio\",\n",
    "    'long_term_debt_equity_ratio': \"long-term-debt-equity-ratio\",\n",
    "    'lt_debt_as_pct_of_total_debt': \"lt-debt-as-pct-of-total-debt\",\n",
    "    'inventory_pct_of_revenue': \"inventory-pct-of-revenue\",\n",
    "    'intangibles_pct_of_book_value': \"intangibles-pct-of-book-value\",\n",
    "    'ffo_funds_from_operations_to_debt': \"ffo-funds-from-operations-to-debt\",\n",
    "    'operating_margin': \"operating-margin\",\n",
    "    'cash_coverage_ratio': \"cash-coverage-ratio\",\n",
    "    'ebitda_per_share': \"ebitda-per-share\",\n",
    "    'ebitda_interest_coverage': \"ebitda-interest-coverage\",\n",
    "    'ebitda_margin': \"ebitda-margin\",\n",
    "    'net_margin_profit_margin': \"net-margin-profit-margin\",\n",
    "    'return_on_capital_employed_ratio': \"return-on-capital-employed-ratio\",\n",
    "    'debt_service_ratio': \"debt-service-ratio\",\n",
    "    'return_on_capital': \"return-on-capital\",\n",
    "    'dividend_yield': \"dividend-yield\",\n",
    "    'dividend_payout_ratio': \"dividend-payout-ratio\",\n",
    "    'dividends_per_share': \"dividends-per-share\",\n",
    "    'inventory_turnover': \"inventory-turnover\",\n",
    "    'cash_ratio': \"cash-ratio\",\n",
    "    'cash_flow_roa': \"cash-flow-roa\",\n",
    "    'average_collection_period': \"average-collection-period\",\n",
    "    'number_of_days_of_receivables': \"number-of-days-of-receivables\",\n",
    "    'average_days_payables_outstanding': \"average-days-payables-outstanding\",\n",
    "    'days_sales_in_payables': \"days-sales-in-payables\",\n",
    "    }"
   ]
  },
  {
   "cell_type": "code",
   "execution_count": 13,
   "metadata": {
    "ExecuteTime": {
     "end_time": "2020-12-17T00:45:06.083793Z",
     "start_time": "2020-12-17T00:45:06.061789Z"
    },
    "code_folding": [
     0
    ],
    "run_control": {
     "marked": true
    }
   },
   "outputs": [],
   "source": [
    "url_to_metric_map = {\n",
    "    'net-working-capital-ratio': \"net_working_capital_ratio\",\n",
    "    'book-value-per-share': \"book_value_per_share\",\n",
    "    'total-equity-to-total-assets': \"total_equity_to_total_assets\",\n",
    "    'operating-cost-ratio': \"operating_cost_ratio\",\n",
    "    'perc​entage-of-debt-to-asset-formula': \"perc​entage_of_debt_to_asset_formula\",\n",
    "\n",
    "    'total-liabilities-pct-of-total-assets': \"total_liabilities_pct_of_total_assets\",\n",
    "    'debt-to-assets-ratio': \"debt_to_assets_ratio\",\n",
    "    'debt-to-equity-ratio': \"debt_to_equity_ratio\",\n",
    "    'quick-ratio': \"quick_ratio\",\n",
    "    'working-capital': \"working_capital\",\n",
    "    'current-ratio': \"current_ratio\",\n",
    "    'capital-intensity': \"capital_intensity\",\n",
    "    'equity-multiplier': \"equity_multiplier\",\n",
    "    'short-term-debt-to-equity-ratio': \"short_term_debt_to_equity_ratio\",\n",
    "    'st-debt-as-pct-of-total-debt': \"st_debt_as_pct_of_total_debt\",\n",
    "    'acid-test-ratio': \"acid_test_ratio\",\n",
    "    'pre-tax-income-to-sales': \"pre_tax_income_to_sales\",\n",
    "    'pre-tax-return-on-assets': \"pre_tax_return_on_assets\",\n",
    "    'pre-tax-return-on-common-equity': \"pre_tax_return_on_common_equity\",\n",
    "    'operating-roa': \"operating_roa\",\n",
    "    'operating-profit-margin': \"operating_profit_margin\",\n",
    "    'free-operating-cash-flow-to-debt': \"free_operating_cash_flow_to_debt\",\n",
    "    'discretionary-cash-flow-to-debt': \"discretionary_cash_flow_to_debt\",\n",
    "    'operating-cash-flow-to-interest': \"operating_cash_flow_to_interest\",\n",
    "    'operating-cash-flow-to-debt': \"operating_cash_flow_to_debt\",\n",
    "    'cash-flow-margin-ratio-formula': \"cash_flow_margin_ratio_formula\",\n",
    "    'cash-flow-to-debt': \"cash_flow_to_debt\",\n",
    "    'net-cash-flow-to-capital-expenditures': \"net_cash_flow_to_capital_expenditures\",\n",
    "    'cash-flow-to-revenue': \"cash_flow_to_revenue\",\n",
    "    'cash-return-on-assets': \"cash_return_on_assets\",\n",
    "    'cash-return-on-equity': \"cash_return_on_equity\",\n",
    "    'cash-to-income-ratio': \"cash_to_income_ratio\",\n",
    "    'cash-flow-per-share': \"cash_flow_per_share\",\n",
    "    'debt-payment': \"debt_payment\",\n",
    "    'debt-coverage': \"debt_coverage\",\n",
    "    'cash-flow-from-operations-ratio': \"cash_flow_from_operations_ratio\",\n",
    "    'gross-profit-margin': \"gross_profit_margin\",\n",
    "    'rece​ivables-turnover': \"rece​ivables_turnover\",\n",
    "    'capital-turnover-ratio': \"capital_turnover_ratio\",\n",
    "    'assets-turnover-ratio': \"assets_turnover_ratio\",\n",
    "    'accounts-receivableturnover': \"accounts_receivableturnover\",\n",
    "    'operating-cash-flow-to-debt': \"operating_cash_flow_to_debt\",\n",
    "    'inventory-ratio': \"inventory_ratio\",\n",
    "    'return-on-investment': \"return_on_investment\",\n",
    "\n",
    "    'pretax-margin': \"pretax_margin\",\n",
    "    'income-to-net-worth-ratio': \"income_to_net_worth_ratio\",\n",
    "    'return-on-assets-roa': \"return_on_assets_roa\",\n",
    "    'roe': \"roe\",\n",
    "    'profit-margin': \"profit_margin\",\n",
    "    'earnings-per-share': \"earnings_per_share\",\n",
    "    'current-cash-debt-coverage': \"current_cash_debt_coverage\",\n",
    "    'cash-debt-coverage': \"cash_debt_coverage\",\n",
    "    'long-term-debt-ratio': \"long_term_debt_ratio\",\n",
    "    'long-term-debt-equity-ratio': \"long_term_debt_equity_ratio\",\n",
    "    'lt-debt-as-pct-of-total-debt': \"lt_debt_as_pct_of_total_debt\",\n",
    "    'inventory-pct-of-revenue': \"inventory_pct_of_revenue\",\n",
    "    'intangibles-pct-of-book-value': \"intangibles_pct_of_book_value\",\n",
    "    'ffo-funds-from-operations-to-debt': \"ffo_funds_from_operations_to_debt\",\n",
    "    'operating-margin': \"operating_margin\",\n",
    "    'cash-coverage-ratio': \"cash_coverage_ratio\",\n",
    "    'ebitda-per-share': \"ebitda_per_share\",\n",
    "    'ebitda-interest-coverage': \"ebitda_interest_coverage\",\n",
    "    'ebitda-margin': \"ebitda_margin\",\n",
    "    'net-margin-profit-margin': \"net_margin_profit_margin\",\n",
    "    'return-on-capital-employed-ratio': \"return_on_capital_employed_ratio\",\n",
    "    'debt-service-ratio': \"debt_service_ratio\",\n",
    "    'return-on-capital': \"return_on_capital\",\n",
    "    'dividend-yield': \"dividend_yield\",\n",
    "    'dividend-payout-ratio': \"dividend_payout_ratio\",\n",
    "    'dividends-per-share': \"dividends_per_share\",\n",
    "    'inventory-turnover': \"inventory_turnover\",\n",
    "    'cash-ratio': \"cash_ratio\",\n",
    "    'cash-flow-roa': \"cash_flow_roa\",\n",
    "    'average-collection-period': \"average_collection_period\",\n",
    "    'number-of-days-of-receivables': \"number_of_days_of_receivables\",\n",
    "    'average-days-payables-outstanding': \"average_days_payables_outstanding\",\n",
    "    'days-sales-in-payables': \"days_sales_in_payables\",\n",
    "    }"
   ]
  },
  {
   "cell_type": "code",
   "execution_count": 14,
   "metadata": {
    "ExecuteTime": {
     "end_time": "2020-12-17T00:45:07.445786Z",
     "start_time": "2020-12-17T00:45:07.400787Z"
    },
    "code_folding": [
     5
    ],
    "run_control": {
     "marked": false
    }
   },
   "outputs": [],
   "source": [
    "# metric to formula mapping\n",
    "# fin_statements_matching\n",
    "# company_profiles\n",
    "\n",
    "# https://stackoverflow.com/questions/16756174/python-one-line-function-definition\n",
    "metric_to_formula_map = {\n",
    "    'net_working_capital_ratio':df['working_capital_math']/df['total_assets'],\n",
    "    'book_value_per_share':df['total_se']/df['shares_outstanding_non'],\n",
    "    'total_equity_to_total_assets':df['total_se']/df['total_assets'],\n",
    "    'operating_cost_ratio':df['total_opex'] - df['d_n_a']/df['net_revenue'],\n",
    "    'perc​entage_of_debt_to_asset_formula':df['total_non_current_liabilities']/df['total_assets'],\n",
    "\n",
    "    'total_liabilities_pct_of_total_assets':df['total_liabilities']/df['total_assets'],\n",
    "    'debt_to_assets_ratio':df['total_debt']/df['total_assets'],\n",
    "    'debt_to_equity_ratio':df['total_debt']/df['total_se'],\n",
    "    'quick_ratio':df['total_current_assets']-df['inventory']/df['total_current_liabilities'],\n",
    "    'working_capital':df['total_current_assets'] - df['total_current_liabilities'],\n",
    "    'current_ratio':df['total_current_assets']/df['total_current_liabilities'],\n",
    "    'capital_intensity':df['total_assets']/df['net_revenue'],\n",
    "    'equity_multiplier':df['total_assets']/df['total_se'],\n",
    "    'short_term_debt_to_equity_ratio':df['short_term_debt']/df['total_se'],\n",
    "    'st_debt_as_pct_of_total_debt':df['short_term_debt']/df['total_liabilities'],\n",
    "    'acid_test_ratio':df['quick_assets_math']/df['total_current_liabilities'],\n",
    "    'pre_tax_income_to_sales':df['pretax_income_non']/df['net_revenue'],\n",
    "    'pre_tax_return_on_assets':df['pretax_income_non']/df['total_assets'],\n",
    "    'pre_tax_return_on_common_equity':df['pretax_income_non']/df['common_stock'],\n",
    "    'operating_roa':df['operating_income']/df['total_assets'],\n",
    "    'operating_profit_margin':df['operating_income']/df['net_revenue'],\n",
    "    'free_operating_cash_flow_to_debt':df['operating_cash_flow']-df['capex']/df['total_debt'],\n",
    "    'discretionary_cash_flow_to_debt':df['operating_cash_flow']-df['accounts_payable']-df['debt_repayment']-df['dividends_paid']-df['interest_expense'],\n",
    "    'operating_cash_flow_to_interest':df['operating_cash_flow'] + df['interest_expense'] + df['income_tax_expense']/df['interest_expense'],\n",
    "    'operating_cash_flow_to_debt':df['operating_cash_flow'] + df['interest_expense'] + df['income_tax_expense']/df['total_liabilities'],\n",
    "    'cash_flow_margin_ratio_formula':df['operating_cash_flow']/df['total_liabilities'],\n",
    "    'cash_flow_to_debt':df['operating_cash_flow']/df['total_debt'],\n",
    "    'net_cash_flow_to_capital_expenditures':df['operating_cash_flow']/df['capex'],\n",
    "    'cash_flow_to_revenue':df['operating_cash_flow']/df['net_revenue'],\n",
    "    'cash_return_on_assets':df['operating_cash_flow']/df['total_assets'],\n",
    "    'cash_return_on_equity':df['operating_cash_flow']/df['total_se'],\n",
    "    'cash_to_income_ratio':df['operating_cash_flow']/df['operating_income'],\n",
    "    'cash_flow_per_share':df['operating_cash_flow']/df['shares_outstanding_non'],\n",
    "    'debt_payment':df['operating_cash_flow']/df['debt_repayment'],\n",
    "    'debt_coverage':df['operating_cash_flow']/df['long_term_debt'],\n",
    "    'cash_flow_from_operations_ratio':df['operating_cash_flow']/df['total_current_liabilities'],\n",
    "    'gross_profit_margin':df['net_revenue'] - df['cost_of_sales']/df['net_revenue'],\n",
    "    'receivables_turnover':df['net_revenue']/df['accounts_receivable'],\n",
    "    'capital_turnover_ratio':df['net_revenue']/df['working_capital_math'],\n",
    "    'assets_turnover_ratio':df['net_revenue']/df['total_assets'],\n",
    "    'accounts_receivableturnover':df['net_revenue']/df['accounts_receivable'],\n",
    "    'operating_cash_flow_to_debt':df['net_revenue']/df['total_se'],\n",
    "    'inventory_ratio':df['net_revenue']/df['inventory'],\n",
    "    'return_on_investment':df['net_income']+ df['interest_expense']/df['total_se'] + df['long_term_debt'],\n",
    "\n",
    "    'pretax_margin':df['net_income'] - df['income_tax_expense']/df['net_revenue'],\n",
    "    'income_to_net_worth_ratio':df['net_income'] - df['deferred_income_tax']/df['shares_outstanding_non'],\n",
    "    'return_on_assets_roa':df['net_income']/df['total_assets'],\n",
    "    'roe':df['net_income']/df['total_se'],\n",
    "    'profit_margin':df['net_income']/df['net_revenue'],\n",
    "    'earnings_per_share':df['net_income']/df['shares_outstanding_non'],\n",
    "    'current_cash_debt_coverage':df['net_cash_by_operating_activities']/df['total_current_liabilities'],\n",
    "    'cash_debt_coverage':df['net_cash_by_operating_activities']/df['total_liabilities'],\n",
    "    'long_term_debt_ratio':df['long_term_debt']/df['total_assets'],\n",
    "    'long_term_debt_equity_ratio':df['long_term_debt']/df['total_se'],\n",
    "    'lt_debt_as_pct_of_total_debt':df['long_term_debt']/df['total_liabilities'],\n",
    "    'inventory_pct_of_revenue':df['inventory']/df['net_revenue'],\n",
    "    'intangibles_pct_of_book_value':df['goodwill_n_intangible_assets']/df['total_se'],\n",
    "    'ffo_funds_from_operations_to_debt':df['ffo_math']/df['total_debt'],\n",
    "    'operating_margin':df['ebitda_non']-df['d_n_a']/df['net_revenue'],\n",
    "    'cash_coverage_ratio':df['ebitda_non']/df['interest_expense'],\n",
    "    'ebitda_per_share':df['ebitda_non']/df['shares_outstanding_non'],\n",
    "    'ebitda_interest_coverage':df['ebitda_non']/df['interest_expense'],\n",
    "    'ebitda_margin':df['ebitda_non']/df['net_revenue'],\n",
    "    'net_margin_profit_margin':df['ebitda_margin']/df['net_revenue'],\n",
    "    'return_on_capital_employed_ratio':df['ebit_math']/df['total_assets'] - df['total_current_liabilities'],\n",
    "    'debt_service_ratio':df['ebit_math']/df['interest_expense'],\n",
    "    'return_on_capital':df['ebit_math']/df['total_assets'],\n",
    "    'dividend_yield':df['dividends_paid']/df['shares_outstanding_non'],\n",
    "    'dividend_payout_ratio':df['dividends_paid']/df['net_income'],\n",
    "    'dividends_per_share':df['dividends_paid']/df['shares_outstanding_non'],\n",
    "    'inventory_turnover':df['cost_of_sales']/df['inventory'],\n",
    "    'cash_ratio':df['cash_non']/df['total_current_liabilities'],\n",
    "    'cash_flow_roa':df['operating_cash_flow']/df['total_assets'],\n",
    "    'average_collection_period':df['accounts_receivable']/df['net_revenue'],\n",
    "    'number_of_days_of_receivables':df['accounts_receivable']/df['inventory'],\n",
    "    'average_days_payables_outstanding':df['accounts_payable']/df['cost_of_sales'],\n",
    "    'days_sales_in_payables':df['accounts_payable']/df['total_opex'],    \n",
    "}\n",
    "\n",
    "url_to_name_map = {\n",
    "                    'net-working-capital-ratio': \"Net Working Capital Ratio\",\n",
    "                    'book-value-per-share': \"Book value per share\",\n",
    "                    'total-equity-to-total-assets': \"Total equity to total_assets\",\n",
    "                    'operating-cost-ratio': \"Operating Cost Ratio\",\n",
    "                    'perc​entage-of-debt-to-asset-formula': \"Perc​entage of Debt to Asset Formula\",\n",
    "\n",
    "                    'total-liabilities-pct-of-total-assets': \"Total Liabilities % of total_assets\",\n",
    "                    'debt-to-assets-ratio': \"Debt-to-assets ratio\",\n",
    "                    'debt-to-equity-ratio': \"Debt-to-Equity Ratio\",\n",
    "                    'quick-ratio': \"Quick Ratio\",\n",
    "                    'working-capital': \"Working capital\",\n",
    "                    'current-ratio': \"Current Ratio\",\n",
    "                    'capital-intensity': \"Capital intensity\",\n",
    "                    'equity-multiplier': \"Equity Multiplier\",\n",
    "                    'short-term-debt-to-equity-ratio': \"Short Term Debt to Equity Ratio\",\n",
    "                    'st-debt-as-pct-of-total-debt': \"ST-Debt as % of Total Debt\",\n",
    "                    'acid-test-ratio': \"Acid Test Ratio\",\n",
    "                    'pre-tax-income-to-sales': \"Pre-tax Income to Sales\",\n",
    "                    'pre-tax-return-on-assets': \"Pre-tax return on assets\",\n",
    "                    'pre-tax-return-on-common-equity': \"Pre-tax return on common equity\",\n",
    "                    'operating-roa': \"Operating ROA\",\n",
    "                    'operating-profit-margin': \"Operating Profit margin\",\n",
    "                    'free-operating-cash-flow-to-debt': \"Free operating cash flow-to-debt\",\n",
    "                    'discretionary-cash-flow-to-debt': \"Discretionary cash flow-to-debt\",\n",
    "                    'operating-cash-flow-to-interest': \"operating_cash_flow to interest\",\n",
    "                    'operating-cash-flow-to-debt': \"operating_cash_flow to debt\",\n",
    "                    'cash-flow-margin-ratio-formula': \"Cash Flow Margin Ratio Formula\",\n",
    "                    'cash-flow-to-debt': \"Cash flow-to-debt\",\n",
    "                    'net-cash-flow-to-capital-expenditures': \"Net cash flow-to-capital expenditures\",\n",
    "                    'cash-flow-to-revenue': \"Cash flow to revenue\",\n",
    "                    'cash-return-on-assets': \"Cash return on assets\",\n",
    "                    'cash-return-on-equity': \"cash return on equity\",\n",
    "                    'cash-to-income-ratio': \"Cash to income ratio\",\n",
    "                    'cash-flow-per-share': \"Cash flow per share\",\n",
    "                    'debt-payment': \"Debt payment\",\n",
    "                    'debt-coverage': \"Debt Coverage\",\n",
    "                    'cash-flow-from-operations-ratio': \"Cash flow from operations ratio\",\n",
    "                    'gross-profit-margin': \"Gross profit margin\",\n",
    "                    'rece​ivables-turnover': \"Rece​ivables Turnover\",\n",
    "                    'capital-turnover-ratio': \"Capital Turnover Ratio\",\n",
    "                    'assets-turnover-ratio': \"Assets Turnover Ratio\",\n",
    "                    'accounts-receivableturnover': \"accounts_receivableturnover\",\n",
    "                    'operating-cash-flow-to-debt': \"operating_cash_flow to debt\",\n",
    "                    'inventory-ratio': \"Inventory Ratio\",\n",
    "                    'return-on-investment': \"Return on investment\",\n",
    "\n",
    "                    'pretax-margin': \"Pretax Margin\",\n",
    "                    'income-to-net-worth-ratio': \"Income to Net Worth Ratio\",\n",
    "                    'return-on-assets-roa': \"Return on Assets (ROA)\",\n",
    "                    'roe': \"ROE\",\n",
    "                    'profit-margin': \"Profit Margin\",\n",
    "                    'earnings-per-share': \"Earnings Per Share \",\n",
    "                    'current-cash-debt-coverage': \"Current cash debt coverage\",\n",
    "                    'cash-debt-coverage': \"Cash debt coverage\",\n",
    "                    'long-term-debt-ratio': \"Long-Term Debt Ratio \",\n",
    "                    'long-term-debt-equity-ratio': \"Long Term Debt/Equity Ratio\",\n",
    "                    'lt-debt-as-pct-of-total-debt': \"LT-Debt as % of Total Debt\",\n",
    "                    'inventory-pct-of-revenue': \"Inventory % of Revenue\",\n",
    "                    'intangibles-pct-of-book-value': \"Intangibles % of Book Value\",\n",
    "                    'ffo-funds-from-operations-to-debt': \"FFO (Funds from operations) to debt\",\n",
    "                    'operating-margin': \"Operating Margin\",\n",
    "                    'cash-coverage-ratio': \"Cash coverage ratio\",\n",
    "                    'ebitda-per-share': \"EBITDA per share\",\n",
    "                    'ebitda-interest-coverage': \"ebitda interest coverage\",\n",
    "                    'ebitda-margin': \"EBITDA Margin\",\n",
    "                    'net-margin-profit-margin': \"Net Margin (Profit Margin)\",\n",
    "                    'return-on-capital-employed-ratio': \"Return on Capital Employed Ratio\",\n",
    "                    'debt-service-ratio': \"Debt Service Ratio\",\n",
    "                    'return-on-capital': \"Return on capital\",\n",
    "                    'dividend-yield': \"Dividend Yield\",\n",
    "                    'dividend-payout-ratio': \"Dividend Payout Ratio\",\n",
    "                    'dividends-per-share': \"Dividends per share\",\n",
    "                    'inventory-turnover': \"inventory turnover\",\n",
    "                    'cash-ratio': \"Cash Ratio\",\n",
    "                    'cash-flow-roa': \"Cash Flow ROA\",\n",
    "                    'average-collection-period': \"Average Collection Period\",\n",
    "                    'number-of-days-of-receivables': \"Number of days of receivables\",\n",
    "                    'average-days-payables-outstanding': \"Average days payables outstanding\",\n",
    "                    'days-sales-in-payables': \"Days sales in payables\",\n",
    "}"
   ]
  },
  {
   "cell_type": "code",
   "execution_count": 15,
   "metadata": {
    "ExecuteTime": {
     "end_time": "2020-12-17T00:45:11.939556Z",
     "start_time": "2020-12-17T00:45:11.927555Z"
    }
   },
   "outputs": [
    {
     "data": {
      "text/plain": [
       "0     0.118316\n",
       "1     0.168680\n",
       "2     0.042135\n",
       "3     0.074153\n",
       "4     0.086616\n",
       "5     0.030199\n",
       "6     0.021925\n",
       "7     0.143130\n",
       "8     0.108546\n",
       "9     0.146239\n",
       "10    0.278733\n",
       "11    0.422075\n",
       "12    0.520520\n",
       "13    0.499349\n",
       "14    0.467190\n",
       "15    0.590079\n",
       "16    0.543478\n",
       "17    0.517975\n",
       "18    0.592252\n",
       "19    0.602059\n",
       "20    0.513597\n",
       "21    0.530130\n",
       "22    0.507811\n",
       "23    0.379400\n",
       "24    0.468307\n",
       "25    0.465254\n",
       "26    0.477516\n",
       "dtype: float64"
      ]
     },
     "execution_count": 15,
     "metadata": {},
     "output_type": "execute_result"
    }
   ],
   "source": [
    "# net_working_capital_ratio[url_to_metric_map['net-working-capital-ratio']]\n",
    "metric_to_formula_map[url_to_metric_map['net-working-capital-ratio']]"
   ]
  },
  {
   "cell_type": "code",
   "execution_count": 16,
   "metadata": {
    "ExecuteTime": {
     "end_time": "2020-12-17T00:45:19.625661Z",
     "start_time": "2020-12-17T00:45:19.616659Z"
    }
   },
   "outputs": [
    {
     "data": {
      "text/html": [
       "<div>\n",
       "<style scoped>\n",
       "    .dataframe tbody tr th:only-of-type {\n",
       "        vertical-align: middle;\n",
       "    }\n",
       "\n",
       "    .dataframe tbody tr th {\n",
       "        vertical-align: top;\n",
       "    }\n",
       "\n",
       "    .dataframe thead th {\n",
       "        text-align: right;\n",
       "    }\n",
       "</style>\n",
       "<table border=\"1\" class=\"dataframe\">\n",
       "  <thead>\n",
       "    <tr style=\"text-align: right;\">\n",
       "      <th></th>\n",
       "      <th>index</th>\n",
       "      <th>subindex</th>\n",
       "      <th>Name</th>\n",
       "      <th>Financial Statement</th>\n",
       "      <th>URL</th>\n",
       "      <th>Variable Name</th>\n",
       "      <th>Title</th>\n",
       "      <th>Definition</th>\n",
       "      <th>Python Variable Name</th>\n",
       "      <th>Definitions Link</th>\n",
       "      <th>Also known as</th>\n",
       "    </tr>\n",
       "  </thead>\n",
       "  <tbody>\n",
       "    <tr>\n",
       "      <th>39</th>\n",
       "      <td>39</td>\n",
       "      <td>6</td>\n",
       "      <td>cashAndCashEquivalents</td>\n",
       "      <td>Balance Sheet</td>\n",
       "      <td>cash-and-cash-equivalents</td>\n",
       "      <td>cash_and_cash_equivalents</td>\n",
       "      <td>Cash and Cash Equivalents</td>\n",
       "      <td>Cash equivalents are investments securities th...</td>\n",
       "      <td>cash_non</td>\n",
       "      <td>https://www.investopedia.com/terms/c/cashequiv...</td>\n",
       "      <td>NaN</td>\n",
       "    </tr>\n",
       "  </tbody>\n",
       "</table>\n",
       "</div>"
      ],
      "text/plain": [
       "    index  subindex                    Name Financial Statement  \\\n",
       "39     39         6  cashAndCashEquivalents       Balance Sheet   \n",
       "\n",
       "                          URL              Variable Name  \\\n",
       "39  cash-and-cash-equivalents  cash_and_cash_equivalents   \n",
       "\n",
       "                        Title  \\\n",
       "39  Cash and Cash Equivalents   \n",
       "\n",
       "                                           Definition Python Variable Name  \\\n",
       "39  Cash equivalents are investments securities th...             cash_non   \n",
       "\n",
       "                                     Definitions Link Also known as  \n",
       "39  https://www.investopedia.com/terms/c/cashequiv...           NaN  "
      ]
     },
     "execution_count": 16,
     "metadata": {},
     "output_type": "execute_result"
    }
   ],
   "source": [
    "matching_row"
   ]
  },
  {
   "cell_type": "code",
   "execution_count": 19,
   "metadata": {
    "ExecuteTime": {
     "end_time": "2020-12-17T00:45:47.147017Z",
     "start_time": "2020-12-17T00:45:47.144016Z"
    }
   },
   "outputs": [],
   "source": [
    "# url_fin_metric = 'cash-and-cash-equivalents'\n",
    "url_fin_metric = 'net-working-capital-ratio'\n",
    "# fin_statements_matching = pd.read_csv(\"../reference_data/Financial_Statements_Reference_Matching.csv\")#, encoding='cp1252')"
   ]
  },
  {
   "cell_type": "code",
   "execution_count": 55,
   "metadata": {
    "ExecuteTime": {
     "end_time": "2020-12-17T00:55:04.410348Z",
     "start_time": "2020-12-17T00:55:04.402348Z"
    }
   },
   "outputs": [],
   "source": [
    "fin_metric_title = url_to_name_map[url_fin_metric]\n",
    "fin_metric_name = url_fin_metric\n",
    "metric_history = metric_to_formula_map[url_to_metric_map[url_fin_metric]]\n",
    "sorted_metric = metric_history.sort_values(ascending=True)"
   ]
  },
  {
   "cell_type": "code",
   "execution_count": 61,
   "metadata": {
    "ExecuteTime": {
     "end_time": "2020-12-17T01:00:22.228898Z",
     "start_time": "2020-12-17T01:00:22.222891Z"
    }
   },
   "outputs": [
    {
     "data": {
      "text/plain": [
       "19    0.602059\n",
       "18    0.592252\n",
       "15    0.590079\n",
       "16    0.543478\n",
       "21    0.530130\n",
       "12    0.520520\n",
       "17    0.517975\n",
       "20    0.513597\n",
       "22    0.507811\n",
       "13    0.499349\n",
       "26    0.477516\n",
       "24    0.468307\n",
       "14    0.467190\n",
       "25    0.465254\n",
       "11    0.422075\n",
       "23    0.379400\n",
       "10    0.278733\n",
       "1     0.168680\n",
       "9     0.146239\n",
       "7     0.143130\n",
       "0     0.118316\n",
       "8     0.108546\n",
       "4     0.086616\n",
       "3     0.074153\n",
       "2     0.042135\n",
       "5     0.030199\n",
       "6     0.021925\n",
       "dtype: float64"
      ]
     },
     "execution_count": 61,
     "metadata": {},
     "output_type": "execute_result"
    }
   ],
   "source": [
    "# list(metric_history)[-1]\n",
    "sorted_metric.sort_values(ascending=False)"
   ]
  },
  {
   "cell_type": "code",
   "execution_count": 92,
   "metadata": {
    "ExecuteTime": {
     "end_time": "2020-12-17T01:20:37.040038Z",
     "start_time": "2020-12-17T01:20:37.028051Z"
    }
   },
   "outputs": [],
   "source": [
    "import numpy as np"
   ]
  },
  {
   "cell_type": "code",
   "execution_count": 96,
   "metadata": {
    "ExecuteTime": {
     "end_time": "2020-12-17T01:21:16.747728Z",
     "start_time": "2020-12-17T01:21:16.729729Z"
    }
   },
   "outputs": [],
   "source": [
    "sorted_metric = np.sort(metric_history)[::-1]\n",
    "quarters = round(len(sorted_metric)/4)\n",
    "bottom_25 = sorted_metric[len(sorted_metric)-1-quarters]\n",
    "top_25 = sorted_metric[quarters-1]\n",
    "max_num = max(sorted_metric)\n",
    "min_num = min(sorted_metric)\n",
    "mean = sorted_metric.mean()\n",
    "std_dev = sorted_metric.std()\n",
    "std_dev_str = \"+/-{}{}%\".format(currency_symbol,round(abs((std_dev-mean)/mean)*100,1))\n",
    "mean_str = magnitude_num(mean, currency_symbol)\n",
    "max_str = magnitude_num(max_num, currency_symbol)\n",
    "min_str = magnitude_num(min_num, currency_symbol)\n",
    "bottom_25_str = magnitude_num(bottom_25, currency_symbol)\n",
    "top_25_str = magnitude_num(top_25, currency_symbol)"
   ]
  },
  {
   "cell_type": "code",
   "execution_count": null,
   "metadata": {
    "ExecuteTime": {
     "end_time": "2020-12-17T01:24:06.304041Z",
     "start_time": "2020-12-17T01:24:06.296041Z"
    }
   },
   "outputs": [],
   "source": []
  },
  {
   "cell_type": "code",
   "execution_count": 8,
   "metadata": {
    "ExecuteTime": {
     "end_time": "2020-12-16T19:21:57.147052Z",
     "start_time": "2020-12-16T19:21:57.129056Z"
    },
    "code_folding": [],
    "run_control": {
     "marked": true
    }
   },
   "outputs": [],
   "source": [
    "\n",
    "\n",
    "latest_num = df[\"{}\".format(fin_metric_name)][0]\n",
    "first_num = list(df[\"{}\".format(fin_metric_name)])[-1]\n",
    "pct_chg = (latest_num - first_num)/first_num\n",
    "historical_pct_chg = str(round(pct_chg*100, 1))"
   ]
  },
  {
   "cell_type": "code",
   "execution_count": null,
   "metadata": {},
   "outputs": [],
   "source": [
    "# latest_num = df[\"{}\".format(fin_metric_name)][0]\n",
    "# first_num = list(df[\"{}\".format(fin_metric_name)])[-1]\n",
    "# lifetime_sum_all_metric = df[\"{}\".format(fin_metric_name)].sum()\n",
    "# lifetime_sum_all_metric = magnitude_num(lifetime_sum_all_metric,currency_symbol)"
   ]
  },
  {
   "cell_type": "code",
   "execution_count": 9,
   "metadata": {
    "ExecuteTime": {
     "end_time": "2020-12-16T19:21:57.411056Z",
     "start_time": "2020-12-16T19:21:57.400056Z"
    },
    "code_folding": [
     0
    ]
   },
   "outputs": [],
   "source": [
    "# hide - cash equiv\n",
    "if pct_chg>=0:\n",
    "    pct_chg_str = \"+{}%\".format(pct_chg)\n",
    "elif pct_chg<0:\n",
    "    pct_chg_str = \"-{}%\".format(pct_chg)\n",
    "else:\n",
    "    pct_chg_str = \"\"\n",
    "# historical_pct_chg = str(round(pct_chg*100, 1))\n",
    "max_min_pct_diff = ((max_num-min_num)/min_num)\n",
    "if max_min_pct_diff>=0:\n",
    "    max_min_pct_diff_str = \"+{}%\".format(round(max_min_pct_diff)*100,1)\n",
    "elif max_min_pct_diff<0:\n",
    "    max_min_pct_diff_str = \"-{}%\".format(round(max_min_pct_diff)*100,1)\n",
    "else:\n",
    "    max_min_pct_diff_str = \"\"\n",
    "    \n",
    "df_fin_statement['Quarter & Year'] =(df_fin_statement['date'].astype(str).str[0:4]).astype(int)\n",
    "latest_year = list((df_fin_statement['date'].astype(str).str[0:4]))[0]\n",
    "earliest_year = list((df_fin_statement['date'].astype(str).str[0:4]))[-1]\n",
    "earliest_metric = (list(df[\"{}\".format(\"{}\".format(fin_metric_name))])[-1])\n",
    "latest_metric = (list(df[\"{}\".format(\"{}\".format(fin_metric_name))])[0])\n"
   ]
  },
  {
   "cell_type": "code",
   "execution_count": 11,
   "metadata": {
    "ExecuteTime": {
     "end_time": "2020-12-16T19:22:00.661577Z",
     "start_time": "2020-12-16T19:22:00.648577Z"
    },
    "code_folding": [
     0
    ],
    "run_control": {
     "marked": true
    }
   },
   "outputs": [
    {
     "name": "stdout",
     "output_type": "stream",
     "text": [
      "SEC Filing Link is in\n",
      "Period is in\n",
      "Accepted Date is in\n",
      "Filing Date is in\n",
      "Symbol is in\n",
      "Date is in\n"
     ]
    }
   ],
   "source": [
    "# hide - cash equiv\n",
    "titles_list = ['Date','Symbol','Filing Date','Accepted Date','Period','SEC Filing Link'][:]\n",
    "\n",
    "for x in reversed(titles_bs):\n",
    "    if x in titles_list:\n",
    "        titles_bs.remove(x)\n",
    "        print(x, \"is in\")\n",
    "    else:\n",
    "        pass\n",
    "#         print(x, \"is not in\")  \n",
    "titles_bs.append('Quarter & Year') \n",
    "df_fin_statement = df_fin_statement.drop([ 'Unnamed: 0','date','symbol','fillingDate','acceptedDate','period','link'],axis=1)\n",
    "df_fin_statement.columns = titles_bs\n",
    "\n",
    "df_fin_statement = df_fin_statement[cols]\n",
    "\n",
    "df_fin_statement.index = df_fin_statement['Quarter & Year']\n",
    "\n",
    "million = 1000000\n",
    "billion = 1000000000\n",
    "fin_metric_history = df_fin_statement['{}'.format(fin_metric_title)]\n",
    "if list(fin_metric_history)[0]  > billion:\n",
    "    df_fin_statement['{}'.format(fin_metric_title)] = (fin_metric_history/billion).round(decimals=2)\n",
    "\n",
    "elif list(fin_metric_history)[0]  > million:\n",
    "    df_fin_statement['{}'.format(fin_metric_title)] = (fin_metric_history/million).round(decimals=2)\n",
    "\n",
    "    pass\n",
    "else:\n",
    "    pass"
   ]
  },
  {
   "cell_type": "code",
   "execution_count": null,
   "metadata": {},
   "outputs": [],
   "source": []
  },
  {
   "cell_type": "code",
   "execution_count": 15,
   "metadata": {
    "ExecuteTime": {
     "end_time": "2020-12-16T19:22:10.285150Z",
     "start_time": "2020-12-16T19:22:10.275157Z"
    },
    "code_folding": [
     0
    ]
   },
   "outputs": [],
   "source": [
    "# hide - variables\n",
    "# vars_names_list = []\n",
    "# vars_values_list = []\n",
    "# # for name in vars().keys():\n",
    "# #   vars_names_list.append(name)\n",
    "# for name, value in globals().items():\n",
    "#     vars_names_list.append(name)\n",
    "#     vars_values_list.append(value)\n",
    "# vars_names_list    \n",
    "# vars_values_list_100 = [str(x)[0:50] for x in vars_values_list]\n",
    "# vars_df = pd.DataFrame({'vars_names_list':vars_names_list,'vars_values_list_100':vars_values_list_100})\n",
    "# # vars_values_list_100\n",
    "# vars_df.to_csv(\"../reference_data/flask_variables.csv\")"
   ]
  },
  {
   "cell_type": "code",
   "execution_count": 19,
   "metadata": {
    "ExecuteTime": {
     "end_time": "2020-12-16T19:22:15.622019Z",
     "start_time": "2020-12-16T19:22:15.488017Z"
    },
    "code_folding": [
     0
    ],
    "run_control": {
     "marked": false
    }
   },
   "outputs": [
    {
     "name": "stdout",
     "output_type": "stream",
     "text": [
      "Nothing took 19.73895835876465 seconds\n"
     ]
    }
   ],
   "source": [
    "# hide\n",
    "df_pct_chg = df_fin_statement\n",
    "pct_chg_cols = (df_fin_statement.select_dtypes(include=['number']).pct_change(-1))\n",
    "df_pct_chg_str = df_pct_chg.drop(list(pct_chg_cols), axis=1)\n",
    "df_pct_chg = df_pct_chg_str.join(pct_chg_cols)[list(df_fin_statement)]\n",
    "\n",
    "pd.set_option('display.float_format', '{:.2f}'.format)\n",
    "df_pct_chg_t = df_pct_chg.transpose()\n",
    "df_pct_chg_t.columns = list(df_pct_chg['Quarter & Year'])\n",
    "df_pct_chg_t = df_pct_chg_t.iloc[1:]\n",
    "\n",
    "df_pct_chg_t = df_pct_chg.transpose()\n",
    "df_pct_chg_t.columns = list(df_pct_chg['Quarter & Year'])\n",
    "df_pct_chg_t = df_pct_chg_t.iloc[1:]\n",
    "df_pct_chg_t['']=df_pct_chg_t.index\n",
    "df_pct_chg_t.index = range(len(df_pct_chg_t))\n",
    "\n",
    "cols = list(df_pct_chg_t.columns)\n",
    "cols = [cols[-1]] + cols[:-1]\n",
    "df_pct_chg_t = df_pct_chg_t[cols]\n",
    "\n",
    "\n",
    "df_t = df_fin_statement.transpose()\n",
    "df_t.columns = list(df_fin_statement['Quarter & Year'])\n",
    "df_t = df_t.iloc[1:]\n",
    "df_t['']=df_t.index\n",
    "df_t.index = range(len(df_t))\n",
    "\n",
    "cols = list(df_t.columns)\n",
    "cols = [cols[-1]] + cols[:-1]\n",
    "df_t = df_t[cols]\n",
    "#endregion\n",
    "\n",
    "df_pct = df_pct_chg_t.to_html().replace('<table','<table class=\"df_tableBoot\" id=\"df_myTable1\"')# dt-responsive\" id=\"df_myTable\"')\n",
    "\n",
    "df_t = df_t[df_t.columns[::-1]]\n",
    "cols = list(df_t.columns)\n",
    "cols = [cols[-1]] + cols[:-1]\n",
    "df_t = df_t[cols]\n",
    "\n",
    "\n",
    "def isnumber(x):\n",
    "    try:\n",
    "        float(x)\n",
    "        return True\n",
    "    except:\n",
    "        return False\n",
    "df_n = df_fin_statement[df_fin_statement.applymap(isnumber)]\n",
    "df_n[df_n < 2] = np.nan\n",
    "df_n_sum = pd.DataFrame(df_n.sum())\n",
    "df_n_sum[df_n_sum == 0] = \"\"\n",
    "new_header = df_n_sum.iloc[0] #grab the first row for the header\n",
    "df_n_sum = df_n_sum[1:] #take the data less the header row\n",
    "df_n_sum.columns = new_header #set the header row as the df header\n",
    "df_n_sum.index = range(len(df_n_sum))\n",
    "df_t = pd.merge(df_n_sum, df_t, left_index=True, right_index=True,suffixes=('Total: {} - {}'.format(latest_year,earliest_year), 'Line Items'))\n",
    "df_t = df_t[0:25]\n",
    "\n",
    "\n",
    "\n",
    "col_list = []\n",
    "n=0\n",
    "while n<len(list(df_t))-0:\n",
    "    if n<6:\n",
    "            col_item = '<col id=\"col_item_{}\" class=\"col_item_class first_7_col\">'.format(n)\n",
    "    else:\n",
    "        col_item = '<col id=\"col_item_{}\" class=\"col_item_class\">'.format(n)\n",
    "    col_list.append(col_item)\n",
    "    n+=1\n",
    "col_list_str = ''.join(map(str, col_list))\n",
    "df_html = df_t.to_html().replace('border=\"1\" class=\"dataframe\">','class=\"df_tableBoot\" id=\"df_myTable\" border=\"1\" class=\"dataframe\"><colgroup>{}</colgroup>'.format(col_list_str))\n",
    "# df_table_html = df_fin_statement[['{}'.format(fin_metric_title)]].iloc[::-1].transpose().to_html()#.replace(\"\\n\",\"\")\n",
    "df_tall = df.iloc[::-1]\n",
    "# df_tall.index = df['Quarter & Year']\n",
    "# df_tall = df.index.shift(-1)\n",
    "# df_tall = df_tall.reset_index()\n",
    "df_html_tall = df_tall[['{}'.format('Quarter & Year'),'{}'.format(fin_metric_name)]].to_html(index=False)\n",
    "df_html_tall = df_html_tall.replace('border=\"1\" class=\"dataframe\">','class=\"abc\" id=\"df_myTable\" border=\"1\" class=\"dataframe\">')#.replace(\"'\",\"\")\n",
    "# df_html_tall = df_html_tall.replace(\"\\n\",\"\")\n",
    "df_html_tall = df_html_tall.replace(\"\\n\",\"\")\n",
    "df_html_tall = df_html_tall.replace(\"{}\".format(\"[\"),\"\")\n",
    "df_html_tall = df_html_tall #render_template_string(df_html_tall)\n",
    "df_html = df_html.replace('<td>','<td class=\"td_fin_statement_class fin_statement_class\">')\n",
    "df_html = df_html.replace('<th>','<th class=\"th_fin_statement_class fin_statement_class\">')\n",
    "df_html = df_html.replace('<tr>','<tr class=\"tr_fin_statement_class fin_statement_class\">')\n",
    "#  df_html_tall = df_html_tall.replace(\"\\n\",\"\")\n",
    "# df_html_tall.replace(\"\\n\",'\">')\n",
    "df_html_tall = df_html_tall.replace('<td>','<td class=\"td_fin_statement_class fin_statement_class\">')\n",
    "df_html_tall = df_html_tall.replace('<th>','<th class=\"th_fin_statement_class fin_statement_class\">')\n",
    "df_html_tall = df_html_tall.replace('<tr>','<tr class=\"tr_fin_statement_class fin_statement_class\">')\n",
    "df_html_tall = df_html_tall[0:]\n",
    "\n",
    "df = df[['date',\"{}\".format(fin_metric_name)]].dropna() #.fillna(0)#.fillna(method='bfill')\n",
    "df['date'] = pd.to_datetime(df['date']).values.astype(np.int64) // 10 ** 6\n",
    "full_path = csv_file.split(' ~ ')\n",
    "path = pathlib.PurePath(full_path[0])\n",
    "print(\"Nothing took {} seconds\".format(time.time() - start_time))\n",
    "total_seconds = ((time.time() - start_time))\n",
    "\n",
    "labels = [\n",
    "    'JAN', 'FEB', 'MAR', 'APR',\n",
    "    'MAY', 'JUN', 'JUL', 'AUG',\n",
    "    'SEP', 'OCT', 'NOV', 'DEC'\n",
    "]\n",
    "labels = list(df['date'])#[0:19]\n",
    "\n",
    "values = [\n",
    "    967.67, 1190.89, 1079.75, 1349.19,\n",
    "    2328.91, 2504.28, 2873.83, 4764.87,\n",
    "    4349.29, 6458.30, 9907, 16297\n",
    "]\n",
    "\n",
    "values = list(df[\"{}\".format(fin_metric_name)])#[0:19]\n",
    "\n",
    "colors = [\n",
    "    \"#F7464A\", \"#46BFBD\", \"#FDB45C\", \"#FEDCBA\",\n",
    "    \"#ABCDEF\", \"#DDDDDD\", \"#ABCABC\", \"#4169E1\",\n",
    "    \"#C71585\", \"#FF4500\", \"#FEDCBA\", \"#46BFBD\"]\n",
    "df_table_html = df_tall[['{}'.format(fin_metric_name)]].iloc[::-1].transpose().to_html()#.replace(\"\\n\",\"\")\n",
    "present_num = magnitude_num(int(latest_metric),currency_symbol)\n",
    "latest_num = \"${}\".format(df[\"{}\".format(fin_metric_name)][0])\n"
   ]
  },
  {
   "cell_type": "code",
   "execution_count": null,
   "metadata": {},
   "outputs": [],
   "source": []
  },
  {
   "cell_type": "code",
   "execution_count": null,
   "metadata": {},
   "outputs": [],
   "source": []
  },
  {
   "cell_type": "code",
   "execution_count": null,
   "metadata": {},
   "outputs": [],
   "source": []
  },
  {
   "cell_type": "code",
   "execution_count": null,
   "metadata": {},
   "outputs": [],
   "source": []
  },
  {
   "cell_type": "markdown",
   "metadata": {},
   "source": [
    "#### trying to read flask server with requests  "
   ]
  },
  {
   "cell_type": "code",
   "execution_count": 13,
   "metadata": {
    "ExecuteTime": {
     "end_time": "2020-12-14T19:06:46.857681Z",
     "start_time": "2020-12-14T19:06:46.401227Z"
    }
   },
   "outputs": [
    {
     "name": "stdout",
     "output_type": "stream",
     "text": [
      "b'<!DOCTYPE HTML PUBLIC \"-//W3C//DTD HTML 4.01 Transitional//EN\"\\n  \"http://www.w3.org/TR/html4/loose.dtd\">\\n<html>\\n  <head>\\n    <title>NameError: name \\'start_time\\' is not defined // Werkzeug Debugger</title>\\n    <link rel=\"stylesheet\" href=\"?__debugger__=yes&amp;cmd=resource&amp;f=style.css\"\\n        type=\"text/css\">\\n    <!-- We need to make sure this has a favicon so that the debugger does\\n         not by accident trigger a request to /favicon.ico which might\\n         change the application state. -->\\n    <link rel=\"shortcut icon\"\\n        href=\"?__debugger__=yes&amp;cmd=resource&amp;f=console.png\">\\n    <script src=\"?__debugger__=yes&amp;cmd=resource&amp;f=jquery.js\"></script>\\n    <script src=\"?__debugger__=yes&amp;cmd=resource&amp;f=debugger.js\"></script>\\n    <script type=\"text/javascript\">\\n      var TRACEBACK = 1834011132928,\\n          CONSOLE_MODE = false,\\n          EVALEX = true,\\n          EVALEX_TRUSTED = false,\\n          SECRET = \"t3wb8w77FxDSu3AUMLC3\";\\n    </script>\\n  </head>\\n  <body style=\"background-color: #fff\">\\n    <div class=\"debugger\">\\n<h1>NameError</h1>\\n<div class=\"detail\">\\n  <p class=\"errormsg\">NameError: name \\'start_time\\' is not defined</p>\\n</div>\\n<h2 class=\"traceback\">Traceback <em>(most recent call last)</em></h2>\\n<div class=\"traceback\">\\n  \\n  <ul><li><div class=\"frame\" id=\"frame-1834011046432\">\\n  <h4>File <cite class=\"filename\">\"C:\\\\Users\\\\Tom\\\\AppData\\\\Local\\\\Programs\\\\Python\\\\Python39\\\\Lib\\\\site-packages\\\\flask\\\\app.py\"</cite>,\\n      line <em class=\"line\">2464</em>,\\n      in <code class=\"function\">__call__</code></h4>\\n  <div class=\"source \"><pre class=\"line before\"><span class=\"ws\"></span> </pre>\\n<pre class=\"line before\"><span class=\"ws\">    </span>def __call__(self, environ, start_response):</pre>\\n<pre class=\"line before\"><span class=\"ws\">        </span>&quot;&quot;&quot;The WSGI server calls the Flask application object as the</pre>\\n<pre class=\"line before\"><span class=\"ws\">        </span>WSGI application. This calls :meth:`wsgi_app` which can be</pre>\\n<pre class=\"line before\"><span class=\"ws\">        </span>wrapped to applying middleware.&quot;&quot;&quot;</pre>\\n<pre class=\"line current\"><span class=\"ws\">        </span>return self.wsgi_app(environ, start_response)</pre>\\n<pre class=\"line after\"><span class=\"ws\"></span> </pre>\\n<pre class=\"line after\"><span class=\"ws\">    </span>def __repr__(self):</pre>\\n<pre class=\"line after\"><span class=\"ws\">        </span>return &quot;&lt;%s %r&gt;&quot; % (self.__class__.__name__, self.name)</pre></div>\\n</div>\\n\\n<li><div class=\"frame\" id=\"frame-1834011046192\">\\n  <h4>File <cite class=\"filename\">\"C:\\\\Users\\\\Tom\\\\AppData\\\\Local\\\\Programs\\\\Python\\\\Python39\\\\Lib\\\\site-packages\\\\flask\\\\app.py\"</cite>,\\n      line <em class=\"line\">2450</em>,\\n      in <code class=\"function\">wsgi_app</code></h4>\\n  <div class=\"source \"><pre class=\"line before\"><span class=\"ws\">            </span>try:</pre>\\n<pre class=\"line before\"><span class=\"ws\">                </span>ctx.push()</pre>\\n<pre class=\"line before\"><span class=\"ws\">                </span>response = self.full_dispatch_request()</pre>\\n<pre class=\"line before\"><span class=\"ws\">            </span>except Exception as e:</pre>\\n<pre class=\"line before\"><span class=\"ws\">                </span>error = e</pre>\\n<pre class=\"line current\"><span class=\"ws\">                </span>response = self.handle_exception(e)</pre>\\n<pre class=\"line after\"><span class=\"ws\">            </span>except:  # noqa: B001</pre>\\n<pre class=\"line after\"><span class=\"ws\">                </span>error = sys.exc_info()[1]</pre>\\n<pre class=\"line after\"><span class=\"ws\">                </span>raise</pre>\\n<pre class=\"line after\"><span class=\"ws\">            </span>return response(environ, start_response)</pre>\\n<pre class=\"line after\"><span class=\"ws\">        </span>finally:</pre></div>\\n</div>\\n\\n<li><div class=\"frame\" id=\"frame-1834011046048\">\\n  <h4>File <cite class=\"filename\">\"C:\\\\Users\\\\Tom\\\\AppData\\\\Local\\\\Programs\\\\Python\\\\Python39\\\\Lib\\\\site-packages\\\\flask\\\\app.py\"</cite>,\\n      line <em class=\"line\">1867</em>,\\n      in <code class=\"function\">handle_exception</code></h4>\\n  <div class=\"source \"><pre class=\"line before\"><span class=\"ws\">            </span># if we want to repropagate the exception, we can attempt to</pre>\\n<pre class=\"line before\"><span class=\"ws\">            </span># raise it with the whole traceback in case we can do that</pre>\\n<pre class=\"line before\"><span class=\"ws\">            </span># (the function was actually called from the except part)</pre>\\n<pre class=\"line before\"><span class=\"ws\">            </span># otherwise, we just raise the error again</pre>\\n<pre class=\"line before\"><span class=\"ws\">            </span>if exc_value is e:</pre>\\n<pre class=\"line current\"><span class=\"ws\">                </span>reraise(exc_type, exc_value, tb)</pre>\\n<pre class=\"line after\"><span class=\"ws\">            </span>else:</pre>\\n<pre class=\"line after\"><span class=\"ws\">                </span>raise e</pre>\\n<pre class=\"line after\"><span class=\"ws\"></span> </pre>\\n<pre class=\"line after\"><span class=\"ws\">        </span>self.log_exception((exc_type, exc_value, tb))</pre>\\n<pre class=\"line after\"><span class=\"ws\">        </span>server_error = InternalServerError()</pre></div>\\n</div>\\n\\n<li><div class=\"frame\" id=\"frame-1834011047488\">\\n  <h4>File <cite class=\"filename\">\"C:\\\\Users\\\\Tom\\\\AppData\\\\Local\\\\Programs\\\\Python\\\\Python39\\\\Lib\\\\site-packages\\\\flask\\\\_compat.py\"</cite>,\\n      line <em class=\"line\">39</em>,\\n      in <code class=\"function\">reraise</code></h4>\\n  <div class=\"source \"><pre class=\"line before\"><span class=\"ws\">    </span>import collections.abc as collections_abc</pre>\\n<pre class=\"line before\"><span class=\"ws\"></span> </pre>\\n<pre class=\"line before\"><span class=\"ws\">    </span>def reraise(tp, value, tb=None):</pre>\\n<pre class=\"line before\"><span class=\"ws\">        </span>if value.__traceback__ is not tb:</pre>\\n<pre class=\"line before\"><span class=\"ws\">            </span>raise value.with_traceback(tb)</pre>\\n<pre class=\"line current\"><span class=\"ws\">        </span>raise value</pre>\\n<pre class=\"line after\"><span class=\"ws\"></span> </pre>\\n<pre class=\"line after\"><span class=\"ws\">    </span>implements_to_string = _identity</pre>\\n<pre class=\"line after\"><span class=\"ws\"></span> </pre>\\n<pre class=\"line after\"><span class=\"ws\"></span>else:</pre>\\n<pre class=\"line after\"><span class=\"ws\">    </span>iterkeys = lambda d: d.iterkeys()</pre></div>\\n</div>\\n\\n<li><div class=\"frame\" id=\"frame-1834011049744\">\\n  <h4>File <cite class=\"filename\">\"C:\\\\Users\\\\Tom\\\\AppData\\\\Local\\\\Programs\\\\Python\\\\Python39\\\\Lib\\\\site-packages\\\\flask\\\\app.py\"</cite>,\\n      line <em class=\"line\">2447</em>,\\n      in <code class=\"function\">wsgi_app</code></h4>\\n  <div class=\"source \"><pre class=\"line before\"><span class=\"ws\">        </span>ctx = self.request_context(environ)</pre>\\n<pre class=\"line before\"><span class=\"ws\">        </span>error = None</pre>\\n<pre class=\"line before\"><span class=\"ws\">        </span>try:</pre>\\n<pre class=\"line before\"><span class=\"ws\">            </span>try:</pre>\\n<pre class=\"line before\"><span class=\"ws\">                </span>ctx.push()</pre>\\n<pre class=\"line current\"><span class=\"ws\">                </span>response = self.full_dispatch_request()</pre>\\n<pre class=\"line after\"><span class=\"ws\">            </span>except Exception as e:</pre>\\n<pre class=\"line after\"><span class=\"ws\">                </span>error = e</pre>\\n<pre class=\"line after\"><span class=\"ws\">                </span>response = self.handle_exception(e)</pre>\\n<pre class=\"line after\"><span class=\"ws\">            </span>except:  # noqa: B001</pre>\\n<pre class=\"line after\"><span class=\"ws\">                </span>error = sys.exc_info()[1]</pre></div>\\n</div>\\n\\n<li><div class=\"frame\" id=\"frame-1834011047152\">\\n  <h4>File <cite class=\"filename\">\"C:\\\\Users\\\\Tom\\\\AppData\\\\Local\\\\Programs\\\\Python\\\\Python39\\\\Lib\\\\site-packages\\\\flask\\\\app.py\"</cite>,\\n      line <em class=\"line\">1952</em>,\\n      in <code class=\"function\">full_dispatch_request</code></h4>\\n  <div class=\"source \"><pre class=\"line before\"><span class=\"ws\">            </span>request_started.send(self)</pre>\\n<pre class=\"line before\"><span class=\"ws\">            </span>rv = self.preprocess_request()</pre>\\n<pre class=\"line before\"><span class=\"ws\">            </span>if rv is None:</pre>\\n<pre class=\"line before\"><span class=\"ws\">                </span>rv = self.dispatch_request()</pre>\\n<pre class=\"line before\"><span class=\"ws\">        </span>except Exception as e:</pre>\\n<pre class=\"line current\"><span class=\"ws\">            </span>rv = self.handle_user_exception(e)</pre>\\n<pre class=\"line after\"><span class=\"ws\">        </span>return self.finalize_request(rv)</pre>\\n<pre class=\"line after\"><span class=\"ws\"></span> </pre>\\n<pre class=\"line after\"><span class=\"ws\">    </span>def finalize_request(self, rv, from_error_handler=False):</pre>\\n<pre class=\"line after\"><span class=\"ws\">        </span>&quot;&quot;&quot;Given the return value from a view function this finalizes</pre>\\n<pre class=\"line after\"><span class=\"ws\">        </span>the request by converting it into a response and invoking the</pre></div>\\n</div>\\n\\n<li><div class=\"frame\" id=\"frame-1834011047344\">\\n  <h4>File <cite class=\"filename\">\"C:\\\\Users\\\\Tom\\\\AppData\\\\Local\\\\Programs\\\\Python\\\\Python39\\\\Lib\\\\site-packages\\\\flask\\\\app.py\"</cite>,\\n      line <em class=\"line\">1821</em>,\\n      in <code class=\"function\">handle_user_exception</code></h4>\\n  <div class=\"source \"><pre class=\"line before\"><span class=\"ws\">            </span>return self.handle_http_exception(e)</pre>\\n<pre class=\"line before\"><span class=\"ws\"></span> </pre>\\n<pre class=\"line before\"><span class=\"ws\">        </span>handler = self._find_error_handler(e)</pre>\\n<pre class=\"line before\"><span class=\"ws\"></span> </pre>\\n<pre class=\"line before\"><span class=\"ws\">        </span>if handler is None:</pre>\\n<pre class=\"line current\"><span class=\"ws\">            </span>reraise(exc_type, exc_value, tb)</pre>\\n<pre class=\"line after\"><span class=\"ws\">        </span>return handler(e)</pre>\\n<pre class=\"line after\"><span class=\"ws\"></span> </pre>\\n<pre class=\"line after\"><span class=\"ws\">    </span>def handle_exception(self, e):</pre>\\n<pre class=\"line after\"><span class=\"ws\">        </span>&quot;&quot;&quot;Handle an exception that did not have an error handler</pre>\\n<pre class=\"line after\"><span class=\"ws\">        </span>associated with it, or that was raised from an error handler.</pre></div>\\n</div>\\n\\n<li><div class=\"frame\" id=\"frame-1834011047440\">\\n  <h4>File <cite class=\"filename\">\"C:\\\\Users\\\\Tom\\\\AppData\\\\Local\\\\Programs\\\\Python\\\\Python39\\\\Lib\\\\site-packages\\\\flask\\\\_compat.py\"</cite>,\\n      line <em class=\"line\">39</em>,\\n      in <code class=\"function\">reraise</code></h4>\\n  <div class=\"source \"><pre class=\"line before\"><span class=\"ws\">    </span>import collections.abc as collections_abc</pre>\\n<pre class=\"line before\"><span class=\"ws\"></span> </pre>\\n<pre class=\"line before\"><span class=\"ws\">    </span>def reraise(tp, value, tb=None):</pre>\\n<pre class=\"line before\"><span class=\"ws\">        </span>if value.__traceback__ is not tb:</pre>\\n<pre class=\"line before\"><span class=\"ws\">            </span>raise value.with_traceback(tb)</pre>\\n<pre class=\"line current\"><span class=\"ws\">        </span>raise value</pre>\\n<pre class=\"line after\"><span class=\"ws\"></span> </pre>\\n<pre class=\"line after\"><span class=\"ws\">    </span>implements_to_string = _identity</pre>\\n<pre class=\"line after\"><span class=\"ws\"></span> </pre>\\n<pre class=\"line after\"><span class=\"ws\"></span>else:</pre>\\n<pre class=\"line after\"><span class=\"ws\">    </span>iterkeys = lambda d: d.iterkeys()</pre></div>\\n</div>\\n\\n<li><div class=\"frame\" id=\"frame-1834011047008\">\\n  <h4>File <cite class=\"filename\">\"C:\\\\Users\\\\Tom\\\\AppData\\\\Local\\\\Programs\\\\Python\\\\Python39\\\\Lib\\\\site-packages\\\\flask\\\\app.py\"</cite>,\\n      line <em class=\"line\">1950</em>,\\n      in <code class=\"function\">full_dispatch_request</code></h4>\\n  <div class=\"source \"><pre class=\"line before\"><span class=\"ws\">        </span>self.try_trigger_before_first_request_functions()</pre>\\n<pre class=\"line before\"><span class=\"ws\">        </span>try:</pre>\\n<pre class=\"line before\"><span class=\"ws\">            </span>request_started.send(self)</pre>\\n<pre class=\"line before\"><span class=\"ws\">            </span>rv = self.preprocess_request()</pre>\\n<pre class=\"line before\"><span class=\"ws\">            </span>if rv is None:</pre>\\n<pre class=\"line current\"><span class=\"ws\">                </span>rv = self.dispatch_request()</pre>\\n<pre class=\"line after\"><span class=\"ws\">        </span>except Exception as e:</pre>\\n<pre class=\"line after\"><span class=\"ws\">            </span>rv = self.handle_user_exception(e)</pre>\\n<pre class=\"line after\"><span class=\"ws\">        </span>return self.finalize_request(rv)</pre>\\n<pre class=\"line after\"><span class=\"ws\"></span> </pre>\\n<pre class=\"line after\"><span class=\"ws\">    </span>def finalize_request(self, rv, from_error_handler=False):</pre></div>\\n</div>\\n\\n<li><div class=\"frame\" id=\"frame-1834011047200\">\\n  <h4>File <cite class=\"filename\">\"C:\\\\Users\\\\Tom\\\\AppData\\\\Local\\\\Programs\\\\Python\\\\Python39\\\\Lib\\\\site-packages\\\\flask\\\\app.py\"</cite>,\\n      line <em class=\"line\">1936</em>,\\n      in <code class=\"function\">dispatch_request</code></h4>\\n  <div class=\"source \"><pre class=\"line before\"><span class=\"ws\">            </span>getattr(rule, &quot;provide_automatic_options&quot;, False)</pre>\\n<pre class=\"line before\"><span class=\"ws\">            </span>and req.method == &quot;OPTIONS&quot;</pre>\\n<pre class=\"line before\"><span class=\"ws\">        </span>):</pre>\\n<pre class=\"line before\"><span class=\"ws\">            </span>return self.make_default_options_response()</pre>\\n<pre class=\"line before\"><span class=\"ws\">        </span># otherwise dispatch to the handler for that endpoint</pre>\\n<pre class=\"line current\"><span class=\"ws\">        </span>return self.view_functions[rule.endpoint](**req.view_args)</pre>\\n<pre class=\"line after\"><span class=\"ws\"></span> </pre>\\n<pre class=\"line after\"><span class=\"ws\">    </span>def full_dispatch_request(self):</pre>\\n<pre class=\"line after\"><span class=\"ws\">        </span>&quot;&quot;&quot;Dispatches the request and on top of that performs request</pre>\\n<pre class=\"line after\"><span class=\"ws\">        </span>pre and postprocessing as well as HTTP exception catching and</pre>\\n<pre class=\"line after\"><span class=\"ws\">        </span>error handling.</pre></div>\\n</div>\\n\\n<li><div class=\"frame\" id=\"frame-1834011046480\">\\n  <h4>File <cite class=\"filename\">\"D:\\\\Cloud\\\\rclone\\\\OneDrive\\\\Web\\\\TenDollarData\\\\Charts_TenDollarData\\\\financial_statements\\\\routes.py\"</cite>,\\n      line <em class=\"line\">319</em>,\\n      in <code class=\"function\">current_ratio</code></h4>\\n  <div class=\"source \"><pre class=\"line before\"><span class=\"ws\"></span> </pre>\\n<pre class=\"line before\"><span class=\"ws\">    </span>df = df[[\\'date\\',&quot;{}&quot;.format(fin_metric_name)]].dropna() #.fillna(0)#.fillna(method=\\'bfill\\')</pre>\\n<pre class=\"line before\"><span class=\"ws\">    </span>df[\\'date\\'] = pd.to_datetime(df[\\'date\\']).values.astype(np.int64) // 10 ** 6</pre>\\n<pre class=\"line before\"><span class=\"ws\">    </span>full_path = csv_file.split(\\' ~ \\')</pre>\\n<pre class=\"line before\"><span class=\"ws\">    </span>path = pathlib.PurePath(full_path[0])</pre>\\n<pre class=\"line current\"><span class=\"ws\">    </span>print(&quot;Nothing took {} seconds&quot;.format(time.time() - start_time))</pre>\\n<pre class=\"line after\"><span class=\"ws\">    </span>total_seconds = ((time.time() - start_time))</pre>\\n<pre class=\"line after\"><span class=\"ws\"></span> </pre>\\n<pre class=\"line after\"><span class=\"ws\">    </span>labels = [</pre>\\n<pre class=\"line after\"><span class=\"ws\">        </span>\\'JAN\\', \\'FEB\\', \\'MAR\\', \\'APR\\',</pre>\\n<pre class=\"line after\"><span class=\"ws\">        </span>\\'MAY\\', \\'JUN\\', \\'JUL\\', \\'AUG\\',</pre></div>\\n</div>\\n</ul>\\n  <blockquote>NameError: name \\'start_time\\' is not defined</blockquote>\\n</div>\\n\\n<div class=\"plain\">\\n  <form action=\"/?__debugger__=yes&amp;cmd=paste\" method=\"post\">\\n    <p>\\n      <input type=\"hidden\" name=\"language\" value=\"pytb\">\\n      This is the Copy/Paste friendly version of the traceback.  <span\\n      class=\"pastemessage\">You can also paste this traceback into\\n      a <a href=\"https://gist.github.com/\">gist</a>:\\n      <input type=\"submit\" value=\"create paste\"></span>\\n    </p>\\n    <textarea cols=\"50\" rows=\"10\" name=\"code\" readonly>Traceback (most recent call last):\\n  File &quot;C:\\\\Users\\\\Tom\\\\AppData\\\\Local\\\\Programs\\\\Python\\\\Python39\\\\Lib\\\\site-packages\\\\flask\\\\app.py&quot;, line 2464, in __call__\\n    return self.wsgi_app(environ, start_response)\\n  File &quot;C:\\\\Users\\\\Tom\\\\AppData\\\\Local\\\\Programs\\\\Python\\\\Python39\\\\Lib\\\\site-packages\\\\flask\\\\app.py&quot;, line 2450, in wsgi_app\\n    response = self.handle_exception(e)\\n  File &quot;C:\\\\Users\\\\Tom\\\\AppData\\\\Local\\\\Programs\\\\Python\\\\Python39\\\\Lib\\\\site-packages\\\\flask\\\\app.py&quot;, line 1867, in handle_exception\\n    reraise(exc_type, exc_value, tb)\\n  File &quot;C:\\\\Users\\\\Tom\\\\AppData\\\\Local\\\\Programs\\\\Python\\\\Python39\\\\Lib\\\\site-packages\\\\flask\\\\_compat.py&quot;, line 39, in reraise\\n    raise value\\n  File &quot;C:\\\\Users\\\\Tom\\\\AppData\\\\Local\\\\Programs\\\\Python\\\\Python39\\\\Lib\\\\site-packages\\\\flask\\\\app.py&quot;, line 2447, in wsgi_app\\n    response = self.full_dispatch_request()\\n  File &quot;C:\\\\Users\\\\Tom\\\\AppData\\\\Local\\\\Programs\\\\Python\\\\Python39\\\\Lib\\\\site-packages\\\\flask\\\\app.py&quot;, line 1952, in full_dispatch_request\\n    rv = self.handle_user_exception(e)\\n  File &quot;C:\\\\Users\\\\Tom\\\\AppData\\\\Local\\\\Programs\\\\Python\\\\Python39\\\\Lib\\\\site-packages\\\\flask\\\\app.py&quot;, line 1821, in handle_user_exception\\n    reraise(exc_type, exc_value, tb)\\n  File &quot;C:\\\\Users\\\\Tom\\\\AppData\\\\Local\\\\Programs\\\\Python\\\\Python39\\\\Lib\\\\site-packages\\\\flask\\\\_compat.py&quot;, line 39, in reraise\\n    raise value\\n  File &quot;C:\\\\Users\\\\Tom\\\\AppData\\\\Local\\\\Programs\\\\Python\\\\Python39\\\\Lib\\\\site-packages\\\\flask\\\\app.py&quot;, line 1950, in full_dispatch_request\\n    rv = self.dispatch_request()\\n  File &quot;C:\\\\Users\\\\Tom\\\\AppData\\\\Local\\\\Programs\\\\Python\\\\Python39\\\\Lib\\\\site-packages\\\\flask\\\\app.py&quot;, line 1936, in dispatch_request\\n    return self.view_functions[rule.endpoint](**req.view_args)\\n  File &quot;D:\\\\Cloud\\\\rclone\\\\OneDrive\\\\Web\\\\TenDollarData\\\\Charts_TenDollarData\\\\financial_statements\\\\routes.py&quot;, line 319, in current_ratio\\n    print(&quot;Nothing took {} seconds&quot;.format(time.time() - start_time))\\nNameError: name \\'start_time\\' is not defined</textarea>\\n  </form>\\n</div>\\n<div class=\"explanation\">\\n  The debugger caught an exception in your WSGI application.  You can now\\n  look at the traceback which led to the error.  <span class=\"nojavascript\">\\n  If you enable JavaScript you can also use additional features such as code\\n  execution (if the evalex feature is enabled), automatic pasting of the\\n  exceptions and much more.</span>\\n</div>\\n      <div class=\"footer\">\\n        Brought to you by <strong class=\"arthur\">DON\\'T PANIC</strong>, your\\n        friendly Werkzeug powered traceback interpreter.\\n      </div>\\n    </div>\\n\\n    <div class=\"pin-prompt\">\\n      <div class=\"inner\">\\n        <h3>Console Locked</h3>\\n        <p>\\n          The console is locked and needs to be unlocked by entering the PIN.\\n          You can find the PIN printed out on the standard output of your\\n          shell that runs the server.\\n        <form>\\n          <p>PIN:\\n            <input type=text name=pin size=14>\\n            <input type=submit name=btn value=\"Confirm Pin\">\\n        </form>\\n      </div>\\n    </div>\\n  </body>\\n</html>\\n\\n<!--\\n\\nTraceback (most recent call last):\\n  File \"C:\\\\Users\\\\Tom\\\\AppData\\\\Local\\\\Programs\\\\Python\\\\Python39\\\\Lib\\\\site-packages\\\\flask\\\\app.py\", line 2464, in __call__\\n    return self.wsgi_app(environ, start_response)\\n  File \"C:\\\\Users\\\\Tom\\\\AppData\\\\Local\\\\Programs\\\\Python\\\\Python39\\\\Lib\\\\site-packages\\\\flask\\\\app.py\", line 2450, in wsgi_app\\n    response = self.handle_exception(e)\\n  File \"C:\\\\Users\\\\Tom\\\\AppData\\\\Local\\\\Programs\\\\Python\\\\Python39\\\\Lib\\\\site-packages\\\\flask\\\\app.py\", line 1867, in handle_exception\\n    reraise(exc_type, exc_value, tb)\\n  File \"C:\\\\Users\\\\Tom\\\\AppData\\\\Local\\\\Programs\\\\Python\\\\Python39\\\\Lib\\\\site-packages\\\\flask\\\\_compat.py\", line 39, in reraise\\n    raise value\\n  File \"C:\\\\Users\\\\Tom\\\\AppData\\\\Local\\\\Programs\\\\Python\\\\Python39\\\\Lib\\\\site-packages\\\\flask\\\\app.py\", line 2447, in wsgi_app\\n    response = self.full_dispatch_request()\\n  File \"C:\\\\Users\\\\Tom\\\\AppData\\\\Local\\\\Programs\\\\Python\\\\Python39\\\\Lib\\\\site-packages\\\\flask\\\\app.py\", line 1952, in full_dispatch_request\\n    rv = self.handle_user_exception(e)\\n  File \"C:\\\\Users\\\\Tom\\\\AppData\\\\Local\\\\Programs\\\\Python\\\\Python39\\\\Lib\\\\site-packages\\\\flask\\\\app.py\", line 1821, in handle_user_exception\\n    reraise(exc_type, exc_value, tb)\\n  File \"C:\\\\Users\\\\Tom\\\\AppData\\\\Local\\\\Programs\\\\Python\\\\Python39\\\\Lib\\\\site-packages\\\\flask\\\\_compat.py\", line 39, in reraise\\n    raise value\\n  File \"C:\\\\Users\\\\Tom\\\\AppData\\\\Local\\\\Programs\\\\Python\\\\Python39\\\\Lib\\\\site-packages\\\\flask\\\\app.py\", line 1950, in full_dispatch_request\\n    rv = self.dispatch_request()\\n  File \"C:\\\\Users\\\\Tom\\\\AppData\\\\Local\\\\Programs\\\\Python\\\\Python39\\\\Lib\\\\site-packages\\\\flask\\\\app.py\", line 1936, in dispatch_request\\n    return self.view_functions[rule.endpoint](**req.view_args)\\n  File \"D:\\\\Cloud\\\\rclone\\\\OneDrive\\\\Web\\\\TenDollarData\\\\Charts_TenDollarData\\\\financial_statements\\\\routes.py\", line 319, in current_ratio\\n    print(\"Nothing took {} seconds\".format(time.time() - start_time))\\nNameError: name \\'start_time\\' is not defined\\n\\n-->\\n'\n"
     ]
    }
   ],
   "source": [
    "import requests\n",
    "response = requests.get(\"http://www.google.com\")\n",
    "response = requests.get(\"http://127.0.0.1:5000/aapl-stock/apple/cash-and-cash-equivalents\")\n",
    "print(response.content)"
   ]
  },
  {
   "cell_type": "code",
   "execution_count": 14,
   "metadata": {
    "ExecuteTime": {
     "end_time": "2020-12-14T19:06:50.451450Z",
     "start_time": "2020-12-14T19:06:49.937726Z"
    },
    "collapsed": true
   },
   "outputs": [
    {
     "ename": "HTTPError",
     "evalue": "HTTP Error 500: INTERNAL SERVER ERROR",
     "output_type": "error",
     "traceback": [
      "\u001b[1;31m---------------------------------------------------------------------------\u001b[0m",
      "\u001b[1;31mHTTPError\u001b[0m                                 Traceback (most recent call last)",
      "\u001b[1;32m<ipython-input-14-d91acbefa098>\u001b[0m in \u001b[0;36m<module>\u001b[1;34m\u001b[0m\n\u001b[0;32m      9\u001b[0m \u001b[1;31m# data = response.read()\u001b[0m\u001b[1;33m\u001b[0m\u001b[1;33m\u001b[0m\u001b[1;33m\u001b[0m\u001b[0m\n\u001b[0;32m     10\u001b[0m \u001b[1;33m\u001b[0m\u001b[0m\n\u001b[1;32m---> 11\u001b[1;33m \u001b[1;32mwith\u001b[0m \u001b[0murllib\u001b[0m\u001b[1;33m.\u001b[0m\u001b[0mrequest\u001b[0m\u001b[1;33m.\u001b[0m\u001b[0murlopen\u001b[0m\u001b[1;33m(\u001b[0m\u001b[1;34m\"http://127.0.0.1:5000/aapl-stock/apple/cash-and-cash-equivalents\"\u001b[0m\u001b[1;33m)\u001b[0m \u001b[1;32mas\u001b[0m \u001b[0murl\u001b[0m\u001b[1;33m:\u001b[0m\u001b[1;33m\u001b[0m\u001b[1;33m\u001b[0m\u001b[0m\n\u001b[0m\u001b[0;32m     12\u001b[0m     \u001b[0ms\u001b[0m \u001b[1;33m=\u001b[0m \u001b[0murl\u001b[0m\u001b[1;33m.\u001b[0m\u001b[0mread\u001b[0m\u001b[1;33m(\u001b[0m\u001b[1;33m)\u001b[0m\u001b[1;33m\u001b[0m\u001b[1;33m\u001b[0m\u001b[0m\n\u001b[0;32m     13\u001b[0m     \u001b[1;31m# I'm guessing this would output the html source code ?\u001b[0m\u001b[1;33m\u001b[0m\u001b[1;33m\u001b[0m\u001b[1;33m\u001b[0m\u001b[0m\n",
      "\u001b[1;32m~\\AppData\\Local\\Programs\\Python\\Python39\\lib\\urllib\\request.py\u001b[0m in \u001b[0;36murlopen\u001b[1;34m(url, data, timeout, cafile, capath, cadefault, context)\u001b[0m\n\u001b[0;32m    212\u001b[0m     \u001b[1;32melse\u001b[0m\u001b[1;33m:\u001b[0m\u001b[1;33m\u001b[0m\u001b[1;33m\u001b[0m\u001b[0m\n\u001b[0;32m    213\u001b[0m         \u001b[0mopener\u001b[0m \u001b[1;33m=\u001b[0m \u001b[0m_opener\u001b[0m\u001b[1;33m\u001b[0m\u001b[1;33m\u001b[0m\u001b[0m\n\u001b[1;32m--> 214\u001b[1;33m     \u001b[1;32mreturn\u001b[0m \u001b[0mopener\u001b[0m\u001b[1;33m.\u001b[0m\u001b[0mopen\u001b[0m\u001b[1;33m(\u001b[0m\u001b[0murl\u001b[0m\u001b[1;33m,\u001b[0m \u001b[0mdata\u001b[0m\u001b[1;33m,\u001b[0m \u001b[0mtimeout\u001b[0m\u001b[1;33m)\u001b[0m\u001b[1;33m\u001b[0m\u001b[1;33m\u001b[0m\u001b[0m\n\u001b[0m\u001b[0;32m    215\u001b[0m \u001b[1;33m\u001b[0m\u001b[0m\n\u001b[0;32m    216\u001b[0m \u001b[1;32mdef\u001b[0m \u001b[0minstall_opener\u001b[0m\u001b[1;33m(\u001b[0m\u001b[0mopener\u001b[0m\u001b[1;33m)\u001b[0m\u001b[1;33m:\u001b[0m\u001b[1;33m\u001b[0m\u001b[1;33m\u001b[0m\u001b[0m\n",
      "\u001b[1;32m~\\AppData\\Local\\Programs\\Python\\Python39\\lib\\urllib\\request.py\u001b[0m in \u001b[0;36mopen\u001b[1;34m(self, fullurl, data, timeout)\u001b[0m\n\u001b[0;32m    521\u001b[0m         \u001b[1;32mfor\u001b[0m \u001b[0mprocessor\u001b[0m \u001b[1;32min\u001b[0m \u001b[0mself\u001b[0m\u001b[1;33m.\u001b[0m\u001b[0mprocess_response\u001b[0m\u001b[1;33m.\u001b[0m\u001b[0mget\u001b[0m\u001b[1;33m(\u001b[0m\u001b[0mprotocol\u001b[0m\u001b[1;33m,\u001b[0m \u001b[1;33m[\u001b[0m\u001b[1;33m]\u001b[0m\u001b[1;33m)\u001b[0m\u001b[1;33m:\u001b[0m\u001b[1;33m\u001b[0m\u001b[1;33m\u001b[0m\u001b[0m\n\u001b[0;32m    522\u001b[0m             \u001b[0mmeth\u001b[0m \u001b[1;33m=\u001b[0m \u001b[0mgetattr\u001b[0m\u001b[1;33m(\u001b[0m\u001b[0mprocessor\u001b[0m\u001b[1;33m,\u001b[0m \u001b[0mmeth_name\u001b[0m\u001b[1;33m)\u001b[0m\u001b[1;33m\u001b[0m\u001b[1;33m\u001b[0m\u001b[0m\n\u001b[1;32m--> 523\u001b[1;33m             \u001b[0mresponse\u001b[0m \u001b[1;33m=\u001b[0m \u001b[0mmeth\u001b[0m\u001b[1;33m(\u001b[0m\u001b[0mreq\u001b[0m\u001b[1;33m,\u001b[0m \u001b[0mresponse\u001b[0m\u001b[1;33m)\u001b[0m\u001b[1;33m\u001b[0m\u001b[1;33m\u001b[0m\u001b[0m\n\u001b[0m\u001b[0;32m    524\u001b[0m \u001b[1;33m\u001b[0m\u001b[0m\n\u001b[0;32m    525\u001b[0m         \u001b[1;32mreturn\u001b[0m \u001b[0mresponse\u001b[0m\u001b[1;33m\u001b[0m\u001b[1;33m\u001b[0m\u001b[0m\n",
      "\u001b[1;32m~\\AppData\\Local\\Programs\\Python\\Python39\\lib\\urllib\\request.py\u001b[0m in \u001b[0;36mhttp_response\u001b[1;34m(self, request, response)\u001b[0m\n\u001b[0;32m    630\u001b[0m         \u001b[1;31m# request was successfully received, understood, and accepted.\u001b[0m\u001b[1;33m\u001b[0m\u001b[1;33m\u001b[0m\u001b[1;33m\u001b[0m\u001b[0m\n\u001b[0;32m    631\u001b[0m         \u001b[1;32mif\u001b[0m \u001b[1;32mnot\u001b[0m \u001b[1;33m(\u001b[0m\u001b[1;36m200\u001b[0m \u001b[1;33m<=\u001b[0m \u001b[0mcode\u001b[0m \u001b[1;33m<\u001b[0m \u001b[1;36m300\u001b[0m\u001b[1;33m)\u001b[0m\u001b[1;33m:\u001b[0m\u001b[1;33m\u001b[0m\u001b[1;33m\u001b[0m\u001b[0m\n\u001b[1;32m--> 632\u001b[1;33m             response = self.parent.error(\n\u001b[0m\u001b[0;32m    633\u001b[0m                 'http', request, response, code, msg, hdrs)\n\u001b[0;32m    634\u001b[0m \u001b[1;33m\u001b[0m\u001b[0m\n",
      "\u001b[1;32m~\\AppData\\Local\\Programs\\Python\\Python39\\lib\\urllib\\request.py\u001b[0m in \u001b[0;36merror\u001b[1;34m(self, proto, *args)\u001b[0m\n\u001b[0;32m    559\u001b[0m         \u001b[1;32mif\u001b[0m \u001b[0mhttp_err\u001b[0m\u001b[1;33m:\u001b[0m\u001b[1;33m\u001b[0m\u001b[1;33m\u001b[0m\u001b[0m\n\u001b[0;32m    560\u001b[0m             \u001b[0margs\u001b[0m \u001b[1;33m=\u001b[0m \u001b[1;33m(\u001b[0m\u001b[0mdict\u001b[0m\u001b[1;33m,\u001b[0m \u001b[1;34m'default'\u001b[0m\u001b[1;33m,\u001b[0m \u001b[1;34m'http_error_default'\u001b[0m\u001b[1;33m)\u001b[0m \u001b[1;33m+\u001b[0m \u001b[0morig_args\u001b[0m\u001b[1;33m\u001b[0m\u001b[1;33m\u001b[0m\u001b[0m\n\u001b[1;32m--> 561\u001b[1;33m             \u001b[1;32mreturn\u001b[0m \u001b[0mself\u001b[0m\u001b[1;33m.\u001b[0m\u001b[0m_call_chain\u001b[0m\u001b[1;33m(\u001b[0m\u001b[1;33m*\u001b[0m\u001b[0margs\u001b[0m\u001b[1;33m)\u001b[0m\u001b[1;33m\u001b[0m\u001b[1;33m\u001b[0m\u001b[0m\n\u001b[0m\u001b[0;32m    562\u001b[0m \u001b[1;33m\u001b[0m\u001b[0m\n\u001b[0;32m    563\u001b[0m \u001b[1;31m# XXX probably also want an abstract factory that knows when it makes\u001b[0m\u001b[1;33m\u001b[0m\u001b[1;33m\u001b[0m\u001b[1;33m\u001b[0m\u001b[0m\n",
      "\u001b[1;32m~\\AppData\\Local\\Programs\\Python\\Python39\\lib\\urllib\\request.py\u001b[0m in \u001b[0;36m_call_chain\u001b[1;34m(self, chain, kind, meth_name, *args)\u001b[0m\n\u001b[0;32m    492\u001b[0m         \u001b[1;32mfor\u001b[0m \u001b[0mhandler\u001b[0m \u001b[1;32min\u001b[0m \u001b[0mhandlers\u001b[0m\u001b[1;33m:\u001b[0m\u001b[1;33m\u001b[0m\u001b[1;33m\u001b[0m\u001b[0m\n\u001b[0;32m    493\u001b[0m             \u001b[0mfunc\u001b[0m \u001b[1;33m=\u001b[0m \u001b[0mgetattr\u001b[0m\u001b[1;33m(\u001b[0m\u001b[0mhandler\u001b[0m\u001b[1;33m,\u001b[0m \u001b[0mmeth_name\u001b[0m\u001b[1;33m)\u001b[0m\u001b[1;33m\u001b[0m\u001b[1;33m\u001b[0m\u001b[0m\n\u001b[1;32m--> 494\u001b[1;33m             \u001b[0mresult\u001b[0m \u001b[1;33m=\u001b[0m \u001b[0mfunc\u001b[0m\u001b[1;33m(\u001b[0m\u001b[1;33m*\u001b[0m\u001b[0margs\u001b[0m\u001b[1;33m)\u001b[0m\u001b[1;33m\u001b[0m\u001b[1;33m\u001b[0m\u001b[0m\n\u001b[0m\u001b[0;32m    495\u001b[0m             \u001b[1;32mif\u001b[0m \u001b[0mresult\u001b[0m \u001b[1;32mis\u001b[0m \u001b[1;32mnot\u001b[0m \u001b[1;32mNone\u001b[0m\u001b[1;33m:\u001b[0m\u001b[1;33m\u001b[0m\u001b[1;33m\u001b[0m\u001b[0m\n\u001b[0;32m    496\u001b[0m                 \u001b[1;32mreturn\u001b[0m \u001b[0mresult\u001b[0m\u001b[1;33m\u001b[0m\u001b[1;33m\u001b[0m\u001b[0m\n",
      "\u001b[1;32m~\\AppData\\Local\\Programs\\Python\\Python39\\lib\\urllib\\request.py\u001b[0m in \u001b[0;36mhttp_error_default\u001b[1;34m(self, req, fp, code, msg, hdrs)\u001b[0m\n\u001b[0;32m    639\u001b[0m \u001b[1;32mclass\u001b[0m \u001b[0mHTTPDefaultErrorHandler\u001b[0m\u001b[1;33m(\u001b[0m\u001b[0mBaseHandler\u001b[0m\u001b[1;33m)\u001b[0m\u001b[1;33m:\u001b[0m\u001b[1;33m\u001b[0m\u001b[1;33m\u001b[0m\u001b[0m\n\u001b[0;32m    640\u001b[0m     \u001b[1;32mdef\u001b[0m \u001b[0mhttp_error_default\u001b[0m\u001b[1;33m(\u001b[0m\u001b[0mself\u001b[0m\u001b[1;33m,\u001b[0m \u001b[0mreq\u001b[0m\u001b[1;33m,\u001b[0m \u001b[0mfp\u001b[0m\u001b[1;33m,\u001b[0m \u001b[0mcode\u001b[0m\u001b[1;33m,\u001b[0m \u001b[0mmsg\u001b[0m\u001b[1;33m,\u001b[0m \u001b[0mhdrs\u001b[0m\u001b[1;33m)\u001b[0m\u001b[1;33m:\u001b[0m\u001b[1;33m\u001b[0m\u001b[1;33m\u001b[0m\u001b[0m\n\u001b[1;32m--> 641\u001b[1;33m         \u001b[1;32mraise\u001b[0m \u001b[0mHTTPError\u001b[0m\u001b[1;33m(\u001b[0m\u001b[0mreq\u001b[0m\u001b[1;33m.\u001b[0m\u001b[0mfull_url\u001b[0m\u001b[1;33m,\u001b[0m \u001b[0mcode\u001b[0m\u001b[1;33m,\u001b[0m \u001b[0mmsg\u001b[0m\u001b[1;33m,\u001b[0m \u001b[0mhdrs\u001b[0m\u001b[1;33m,\u001b[0m \u001b[0mfp\u001b[0m\u001b[1;33m)\u001b[0m\u001b[1;33m\u001b[0m\u001b[1;33m\u001b[0m\u001b[0m\n\u001b[0m\u001b[0;32m    642\u001b[0m \u001b[1;33m\u001b[0m\u001b[0m\n\u001b[0;32m    643\u001b[0m \u001b[1;32mclass\u001b[0m \u001b[0mHTTPRedirectHandler\u001b[0m\u001b[1;33m(\u001b[0m\u001b[0mBaseHandler\u001b[0m\u001b[1;33m)\u001b[0m\u001b[1;33m:\u001b[0m\u001b[1;33m\u001b[0m\u001b[1;33m\u001b[0m\u001b[0m\n",
      "\u001b[1;31mHTTPError\u001b[0m: HTTP Error 500: INTERNAL SERVER ERROR"
     ]
    }
   ],
   "source": [
    "import urllib.request\n",
    "\n",
    "myurl = \"http://127.0.0.1:5000/aapl-stock/apple/cash-and-cash-equivalents\"\n",
    "\n",
    "# # GET is the default action\n",
    "# response = urllib.request.urlopen(myurl)  \n",
    "\n",
    "# # Output from the GET assuming response code was 200\n",
    "# data = response.read()  \n",
    "\n",
    "with urllib.request.urlopen(\"http://127.0.0.1:5000/aapl-stock/apple/cash-and-cash-equivalents\") as url:\n",
    "    s = url.read()\n",
    "    # I'm guessing this would output the html source code ?\n",
    "    print(s)"
   ]
  },
  {
   "cell_type": "code",
   "execution_count": 36,
   "metadata": {
    "ExecuteTime": {
     "end_time": "2020-12-14T18:47:24.844904Z",
     "start_time": "2020-12-14T18:47:18.543865Z"
    }
   },
   "outputs": [
    {
     "name": "stdout",
     "output_type": "stream",
     "text": [
      "C:\\Users\\Tom\\quantconnect\\Scripts\\python.exe\n",
      "Collecting requests_testadapter\n",
      "  Downloading requests-testadapter-0.3.0.tar.gz (5.4 kB)\n",
      "Requirement already satisfied: requests>=1.2.0 in c:\\users\\tom\\quantconnect\\lib\\site-packages (from requests_testadapter) (2.24.0)\n",
      "Requirement already satisfied: six in c:\\users\\tom\\quantconnect\\lib\\site-packages (from requests_testadapter) (1.15.0)\n",
      "Requirement already satisfied: idna<3,>=2.5 in c:\\users\\tom\\quantconnect\\lib\\site-packages (from requests>=1.2.0->requests_testadapter) (2.10)\n",
      "Requirement already satisfied: urllib3!=1.25.0,!=1.25.1,<1.26,>=1.21.1 in c:\\users\\tom\\quantconnect\\lib\\site-packages (from requests>=1.2.0->requests_testadapter) (1.25.11)\n",
      "Requirement already satisfied: chardet<4,>=3.0.2 in c:\\users\\tom\\quantconnect\\lib\\site-packages (from requests>=1.2.0->requests_testadapter) (3.0.4)\n",
      "Requirement already satisfied: certifi>=2017.4.17 in c:\\users\\tom\\quantconnect\\lib\\site-packages (from requests>=1.2.0->requests_testadapter) (2020.6.20)\n",
      "Building wheels for collected packages: requests-testadapter\n",
      "  Building wheel for requests-testadapter (setup.py): started\n",
      "  Building wheel for requests-testadapter (setup.py): finished with status 'done'\n",
      "  Created wheel for requests-testadapter: filename=requests_testadapter-0.3.0-py3-none-any.whl size=4692 sha256=3b4e290717e164afb25bf11ba2539e3bd60e289e56538b60df70bcbe0399a55e\n",
      "  Stored in directory: c:\\users\\tom\\appdata\\local\\pip\\cache\\wheels\\f6\\85\\0d\\6b2d456f81dd6168b161711ebaca57d61fbe0744c52bcdb96b\n",
      "Successfully built requests-testadapter\n",
      "Installing collected packages: requests-testadapter\n",
      "Successfully installed requests-testadapter-0.3.0\n"
     ]
    }
   ],
   "source": [
    "import sys\n",
    "print (sys.executable)\n",
    "!{sys.executable} -m pip install requests_testadapter --upgrade"
   ]
  },
  {
   "cell_type": "code",
   "execution_count": null,
   "metadata": {},
   "outputs": [],
   "source": [
    "from requests_testadapter import Resp\n",
    "\n",
    "class LocalFileAdapter(requests.adapters.HTTPAdapter):\n",
    "    def build_response_from_file(self, request):\n",
    "        file_path = request.url[7:]\n",
    "        with open(file_path, 'rb') as file:\n",
    "            buff = bytearray(os.path.getsize(file_path))\n",
    "            file.readinto(buff)\n",
    "            resp = Resp(buff)\n",
    "            r = self.build_response(request, resp)\n",
    "\n",
    "            return r\n",
    "\n",
    "    def send(self, request, stream=False, timeout=None,\n",
    "             verify=True, cert=None, proxies=None):\n",
    "\n",
    "        return self.build_response_from_file(request)\n",
    "\n",
    "requests_session = requests.session()\n",
    "requests_session.mount('file://', LocalFileAdapter())\n",
    "requests_session.get('file://<some_local_path>')"
   ]
  },
  {
   "cell_type": "code",
   "execution_count": 15,
   "metadata": {
    "ExecuteTime": {
     "end_time": "2020-12-14T19:07:25.849385Z",
     "start_time": "2020-12-14T19:07:25.833380Z"
    }
   },
   "outputs": [
    {
     "name": "stdout",
     "output_type": "stream",
     "text": [
      "b'<!DOCTYPE HTML PUBLIC \"-//W3C//DTD HTML 3.2 Final//EN\">\\n<title>404 Not Found</title>\\n<h1>Not Found</h1>\\n<p>The requested URL was not found on the server. If you entered the URL manually please check your spelling and try again.</p>\\n'\n"
     ]
    }
   ],
   "source": [
    "import requests\n",
    "\n",
    "os.environ['NO_PROXY'] = '127.0.0.1'\n",
    "r = requests.get('http://127.0.0.1:5000/aapl=stock/apple/cash-and-cash-equivalents')\n",
    "print(r.content)"
   ]
  },
  {
   "cell_type": "code",
   "execution_count": null,
   "metadata": {},
   "outputs": [],
   "source": []
  },
  {
   "cell_type": "code",
   "execution_count": 40,
   "metadata": {
    "ExecuteTime": {
     "end_time": "2020-12-14T18:59:13.599538Z",
     "start_time": "2020-12-14T18:59:13.565020Z"
    },
    "scrolled": true
   },
   "outputs": [
    {
     "ename": "ConnectionError",
     "evalue": "HTTPConnectionPool(host='127.0.01', port=5000): Max retries exceeded with url: /aapl=stock/apple/cash-and-cash-equivalents (Caused by NewConnectionError('<urllib3.connection.HTTPConnection object at 0x0000020480EA1580>: Failed to establish a new connection: [Errno 11001] getaddrinfo failed'))",
     "output_type": "error",
     "traceback": [
      "\u001b[1;31m---------------------------------------------------------------------------\u001b[0m",
      "\u001b[1;31mgaierror\u001b[0m                                  Traceback (most recent call last)",
      "\u001b[1;32m~\\quantconnect\\lib\\site-packages\\urllib3\\connection.py\u001b[0m in \u001b[0;36m_new_conn\u001b[1;34m(self)\u001b[0m\n\u001b[0;32m    158\u001b[0m         \u001b[1;32mtry\u001b[0m\u001b[1;33m:\u001b[0m\u001b[1;33m\u001b[0m\u001b[1;33m\u001b[0m\u001b[0m\n\u001b[1;32m--> 159\u001b[1;33m             conn = connection.create_connection(\n\u001b[0m\u001b[0;32m    160\u001b[0m                 \u001b[1;33m(\u001b[0m\u001b[0mself\u001b[0m\u001b[1;33m.\u001b[0m\u001b[0m_dns_host\u001b[0m\u001b[1;33m,\u001b[0m \u001b[0mself\u001b[0m\u001b[1;33m.\u001b[0m\u001b[0mport\u001b[0m\u001b[1;33m)\u001b[0m\u001b[1;33m,\u001b[0m \u001b[0mself\u001b[0m\u001b[1;33m.\u001b[0m\u001b[0mtimeout\u001b[0m\u001b[1;33m,\u001b[0m \u001b[1;33m**\u001b[0m\u001b[0mextra_kw\u001b[0m\u001b[1;33m\u001b[0m\u001b[1;33m\u001b[0m\u001b[0m\n",
      "\u001b[1;32m~\\quantconnect\\lib\\site-packages\\urllib3\\util\\connection.py\u001b[0m in \u001b[0;36mcreate_connection\u001b[1;34m(address, timeout, source_address, socket_options)\u001b[0m\n\u001b[0;32m     60\u001b[0m \u001b[1;33m\u001b[0m\u001b[0m\n\u001b[1;32m---> 61\u001b[1;33m     \u001b[1;32mfor\u001b[0m \u001b[0mres\u001b[0m \u001b[1;32min\u001b[0m \u001b[0msocket\u001b[0m\u001b[1;33m.\u001b[0m\u001b[0mgetaddrinfo\u001b[0m\u001b[1;33m(\u001b[0m\u001b[0mhost\u001b[0m\u001b[1;33m,\u001b[0m \u001b[0mport\u001b[0m\u001b[1;33m,\u001b[0m \u001b[0mfamily\u001b[0m\u001b[1;33m,\u001b[0m \u001b[0msocket\u001b[0m\u001b[1;33m.\u001b[0m\u001b[0mSOCK_STREAM\u001b[0m\u001b[1;33m)\u001b[0m\u001b[1;33m:\u001b[0m\u001b[1;33m\u001b[0m\u001b[1;33m\u001b[0m\u001b[0m\n\u001b[0m\u001b[0;32m     62\u001b[0m         \u001b[0maf\u001b[0m\u001b[1;33m,\u001b[0m \u001b[0msocktype\u001b[0m\u001b[1;33m,\u001b[0m \u001b[0mproto\u001b[0m\u001b[1;33m,\u001b[0m \u001b[0mcanonname\u001b[0m\u001b[1;33m,\u001b[0m \u001b[0msa\u001b[0m \u001b[1;33m=\u001b[0m \u001b[0mres\u001b[0m\u001b[1;33m\u001b[0m\u001b[1;33m\u001b[0m\u001b[0m\n",
      "\u001b[1;32m~\\AppData\\Local\\Programs\\Python\\Python39\\lib\\socket.py\u001b[0m in \u001b[0;36mgetaddrinfo\u001b[1;34m(host, port, family, type, proto, flags)\u001b[0m\n\u001b[0;32m    952\u001b[0m     \u001b[0maddrlist\u001b[0m \u001b[1;33m=\u001b[0m \u001b[1;33m[\u001b[0m\u001b[1;33m]\u001b[0m\u001b[1;33m\u001b[0m\u001b[1;33m\u001b[0m\u001b[0m\n\u001b[1;32m--> 953\u001b[1;33m     \u001b[1;32mfor\u001b[0m \u001b[0mres\u001b[0m \u001b[1;32min\u001b[0m \u001b[0m_socket\u001b[0m\u001b[1;33m.\u001b[0m\u001b[0mgetaddrinfo\u001b[0m\u001b[1;33m(\u001b[0m\u001b[0mhost\u001b[0m\u001b[1;33m,\u001b[0m \u001b[0mport\u001b[0m\u001b[1;33m,\u001b[0m \u001b[0mfamily\u001b[0m\u001b[1;33m,\u001b[0m \u001b[0mtype\u001b[0m\u001b[1;33m,\u001b[0m \u001b[0mproto\u001b[0m\u001b[1;33m,\u001b[0m \u001b[0mflags\u001b[0m\u001b[1;33m)\u001b[0m\u001b[1;33m:\u001b[0m\u001b[1;33m\u001b[0m\u001b[1;33m\u001b[0m\u001b[0m\n\u001b[0m\u001b[0;32m    954\u001b[0m         \u001b[0maf\u001b[0m\u001b[1;33m,\u001b[0m \u001b[0msocktype\u001b[0m\u001b[1;33m,\u001b[0m \u001b[0mproto\u001b[0m\u001b[1;33m,\u001b[0m \u001b[0mcanonname\u001b[0m\u001b[1;33m,\u001b[0m \u001b[0msa\u001b[0m \u001b[1;33m=\u001b[0m \u001b[0mres\u001b[0m\u001b[1;33m\u001b[0m\u001b[1;33m\u001b[0m\u001b[0m\n",
      "\u001b[1;31mgaierror\u001b[0m: [Errno 11001] getaddrinfo failed",
      "\nDuring handling of the above exception, another exception occurred:\n",
      "\u001b[1;31mNewConnectionError\u001b[0m                        Traceback (most recent call last)",
      "\u001b[1;32m~\\quantconnect\\lib\\site-packages\\urllib3\\connectionpool.py\u001b[0m in \u001b[0;36murlopen\u001b[1;34m(self, method, url, body, headers, retries, redirect, assert_same_host, timeout, pool_timeout, release_conn, chunked, body_pos, **response_kw)\u001b[0m\n\u001b[0;32m    669\u001b[0m             \u001b[1;31m# Make the request on the httplib connection object.\u001b[0m\u001b[1;33m\u001b[0m\u001b[1;33m\u001b[0m\u001b[1;33m\u001b[0m\u001b[0m\n\u001b[1;32m--> 670\u001b[1;33m             httplib_response = self._make_request(\n\u001b[0m\u001b[0;32m    671\u001b[0m                 \u001b[0mconn\u001b[0m\u001b[1;33m,\u001b[0m\u001b[1;33m\u001b[0m\u001b[1;33m\u001b[0m\u001b[0m\n",
      "\u001b[1;32m~\\quantconnect\\lib\\site-packages\\urllib3\\connectionpool.py\u001b[0m in \u001b[0;36m_make_request\u001b[1;34m(self, conn, method, url, timeout, chunked, **httplib_request_kw)\u001b[0m\n\u001b[0;32m    391\u001b[0m         \u001b[1;32melse\u001b[0m\u001b[1;33m:\u001b[0m\u001b[1;33m\u001b[0m\u001b[1;33m\u001b[0m\u001b[0m\n\u001b[1;32m--> 392\u001b[1;33m             \u001b[0mconn\u001b[0m\u001b[1;33m.\u001b[0m\u001b[0mrequest\u001b[0m\u001b[1;33m(\u001b[0m\u001b[0mmethod\u001b[0m\u001b[1;33m,\u001b[0m \u001b[0murl\u001b[0m\u001b[1;33m,\u001b[0m \u001b[1;33m**\u001b[0m\u001b[0mhttplib_request_kw\u001b[0m\u001b[1;33m)\u001b[0m\u001b[1;33m\u001b[0m\u001b[1;33m\u001b[0m\u001b[0m\n\u001b[0m\u001b[0;32m    393\u001b[0m \u001b[1;33m\u001b[0m\u001b[0m\n",
      "\u001b[1;32m~\\AppData\\Local\\Programs\\Python\\Python39\\lib\\http\\client.py\u001b[0m in \u001b[0;36mrequest\u001b[1;34m(self, method, url, body, headers, encode_chunked)\u001b[0m\n\u001b[0;32m   1254\u001b[0m         \u001b[1;34m\"\"\"Send a complete request to the server.\"\"\"\u001b[0m\u001b[1;33m\u001b[0m\u001b[1;33m\u001b[0m\u001b[0m\n\u001b[1;32m-> 1255\u001b[1;33m         \u001b[0mself\u001b[0m\u001b[1;33m.\u001b[0m\u001b[0m_send_request\u001b[0m\u001b[1;33m(\u001b[0m\u001b[0mmethod\u001b[0m\u001b[1;33m,\u001b[0m \u001b[0murl\u001b[0m\u001b[1;33m,\u001b[0m \u001b[0mbody\u001b[0m\u001b[1;33m,\u001b[0m \u001b[0mheaders\u001b[0m\u001b[1;33m,\u001b[0m \u001b[0mencode_chunked\u001b[0m\u001b[1;33m)\u001b[0m\u001b[1;33m\u001b[0m\u001b[1;33m\u001b[0m\u001b[0m\n\u001b[0m\u001b[0;32m   1256\u001b[0m \u001b[1;33m\u001b[0m\u001b[0m\n",
      "\u001b[1;32m~\\AppData\\Local\\Programs\\Python\\Python39\\lib\\http\\client.py\u001b[0m in \u001b[0;36m_send_request\u001b[1;34m(self, method, url, body, headers, encode_chunked)\u001b[0m\n\u001b[0;32m   1300\u001b[0m             \u001b[0mbody\u001b[0m \u001b[1;33m=\u001b[0m \u001b[0m_encode\u001b[0m\u001b[1;33m(\u001b[0m\u001b[0mbody\u001b[0m\u001b[1;33m,\u001b[0m \u001b[1;34m'body'\u001b[0m\u001b[1;33m)\u001b[0m\u001b[1;33m\u001b[0m\u001b[1;33m\u001b[0m\u001b[0m\n\u001b[1;32m-> 1301\u001b[1;33m         \u001b[0mself\u001b[0m\u001b[1;33m.\u001b[0m\u001b[0mendheaders\u001b[0m\u001b[1;33m(\u001b[0m\u001b[0mbody\u001b[0m\u001b[1;33m,\u001b[0m \u001b[0mencode_chunked\u001b[0m\u001b[1;33m=\u001b[0m\u001b[0mencode_chunked\u001b[0m\u001b[1;33m)\u001b[0m\u001b[1;33m\u001b[0m\u001b[1;33m\u001b[0m\u001b[0m\n\u001b[0m\u001b[0;32m   1302\u001b[0m \u001b[1;33m\u001b[0m\u001b[0m\n",
      "\u001b[1;32m~\\AppData\\Local\\Programs\\Python\\Python39\\lib\\http\\client.py\u001b[0m in \u001b[0;36mendheaders\u001b[1;34m(self, message_body, encode_chunked)\u001b[0m\n\u001b[0;32m   1249\u001b[0m             \u001b[1;32mraise\u001b[0m \u001b[0mCannotSendHeader\u001b[0m\u001b[1;33m(\u001b[0m\u001b[1;33m)\u001b[0m\u001b[1;33m\u001b[0m\u001b[1;33m\u001b[0m\u001b[0m\n\u001b[1;32m-> 1250\u001b[1;33m         \u001b[0mself\u001b[0m\u001b[1;33m.\u001b[0m\u001b[0m_send_output\u001b[0m\u001b[1;33m(\u001b[0m\u001b[0mmessage_body\u001b[0m\u001b[1;33m,\u001b[0m \u001b[0mencode_chunked\u001b[0m\u001b[1;33m=\u001b[0m\u001b[0mencode_chunked\u001b[0m\u001b[1;33m)\u001b[0m\u001b[1;33m\u001b[0m\u001b[1;33m\u001b[0m\u001b[0m\n\u001b[0m\u001b[0;32m   1251\u001b[0m \u001b[1;33m\u001b[0m\u001b[0m\n",
      "\u001b[1;32m~\\AppData\\Local\\Programs\\Python\\Python39\\lib\\http\\client.py\u001b[0m in \u001b[0;36m_send_output\u001b[1;34m(self, message_body, encode_chunked)\u001b[0m\n\u001b[0;32m   1009\u001b[0m         \u001b[1;32mdel\u001b[0m \u001b[0mself\u001b[0m\u001b[1;33m.\u001b[0m\u001b[0m_buffer\u001b[0m\u001b[1;33m[\u001b[0m\u001b[1;33m:\u001b[0m\u001b[1;33m]\u001b[0m\u001b[1;33m\u001b[0m\u001b[1;33m\u001b[0m\u001b[0m\n\u001b[1;32m-> 1010\u001b[1;33m         \u001b[0mself\u001b[0m\u001b[1;33m.\u001b[0m\u001b[0msend\u001b[0m\u001b[1;33m(\u001b[0m\u001b[0mmsg\u001b[0m\u001b[1;33m)\u001b[0m\u001b[1;33m\u001b[0m\u001b[1;33m\u001b[0m\u001b[0m\n\u001b[0m\u001b[0;32m   1011\u001b[0m \u001b[1;33m\u001b[0m\u001b[0m\n",
      "\u001b[1;32m~\\AppData\\Local\\Programs\\Python\\Python39\\lib\\http\\client.py\u001b[0m in \u001b[0;36msend\u001b[1;34m(self, data)\u001b[0m\n\u001b[0;32m    949\u001b[0m             \u001b[1;32mif\u001b[0m \u001b[0mself\u001b[0m\u001b[1;33m.\u001b[0m\u001b[0mauto_open\u001b[0m\u001b[1;33m:\u001b[0m\u001b[1;33m\u001b[0m\u001b[1;33m\u001b[0m\u001b[0m\n\u001b[1;32m--> 950\u001b[1;33m                 \u001b[0mself\u001b[0m\u001b[1;33m.\u001b[0m\u001b[0mconnect\u001b[0m\u001b[1;33m(\u001b[0m\u001b[1;33m)\u001b[0m\u001b[1;33m\u001b[0m\u001b[1;33m\u001b[0m\u001b[0m\n\u001b[0m\u001b[0;32m    951\u001b[0m             \u001b[1;32melse\u001b[0m\u001b[1;33m:\u001b[0m\u001b[1;33m\u001b[0m\u001b[1;33m\u001b[0m\u001b[0m\n",
      "\u001b[1;32m~\\quantconnect\\lib\\site-packages\\urllib3\\connection.py\u001b[0m in \u001b[0;36mconnect\u001b[1;34m(self)\u001b[0m\n\u001b[0;32m    186\u001b[0m     \u001b[1;32mdef\u001b[0m \u001b[0mconnect\u001b[0m\u001b[1;33m(\u001b[0m\u001b[0mself\u001b[0m\u001b[1;33m)\u001b[0m\u001b[1;33m:\u001b[0m\u001b[1;33m\u001b[0m\u001b[1;33m\u001b[0m\u001b[0m\n\u001b[1;32m--> 187\u001b[1;33m         \u001b[0mconn\u001b[0m \u001b[1;33m=\u001b[0m \u001b[0mself\u001b[0m\u001b[1;33m.\u001b[0m\u001b[0m_new_conn\u001b[0m\u001b[1;33m(\u001b[0m\u001b[1;33m)\u001b[0m\u001b[1;33m\u001b[0m\u001b[1;33m\u001b[0m\u001b[0m\n\u001b[0m\u001b[0;32m    188\u001b[0m         \u001b[0mself\u001b[0m\u001b[1;33m.\u001b[0m\u001b[0m_prepare_conn\u001b[0m\u001b[1;33m(\u001b[0m\u001b[0mconn\u001b[0m\u001b[1;33m)\u001b[0m\u001b[1;33m\u001b[0m\u001b[1;33m\u001b[0m\u001b[0m\n",
      "\u001b[1;32m~\\quantconnect\\lib\\site-packages\\urllib3\\connection.py\u001b[0m in \u001b[0;36m_new_conn\u001b[1;34m(self)\u001b[0m\n\u001b[0;32m    170\u001b[0m         \u001b[1;32mexcept\u001b[0m \u001b[0mSocketError\u001b[0m \u001b[1;32mas\u001b[0m \u001b[0me\u001b[0m\u001b[1;33m:\u001b[0m\u001b[1;33m\u001b[0m\u001b[1;33m\u001b[0m\u001b[0m\n\u001b[1;32m--> 171\u001b[1;33m             raise NewConnectionError(\n\u001b[0m\u001b[0;32m    172\u001b[0m                 \u001b[0mself\u001b[0m\u001b[1;33m,\u001b[0m \u001b[1;34m\"Failed to establish a new connection: %s\"\u001b[0m \u001b[1;33m%\u001b[0m \u001b[0me\u001b[0m\u001b[1;33m\u001b[0m\u001b[1;33m\u001b[0m\u001b[0m\n",
      "\u001b[1;31mNewConnectionError\u001b[0m: <urllib3.connection.HTTPConnection object at 0x0000020480EA1580>: Failed to establish a new connection: [Errno 11001] getaddrinfo failed",
      "\nDuring handling of the above exception, another exception occurred:\n",
      "\u001b[1;31mMaxRetryError\u001b[0m                             Traceback (most recent call last)",
      "\u001b[1;32m~\\quantconnect\\lib\\site-packages\\requests\\adapters.py\u001b[0m in \u001b[0;36msend\u001b[1;34m(self, request, stream, timeout, verify, cert, proxies)\u001b[0m\n\u001b[0;32m    438\u001b[0m             \u001b[1;32mif\u001b[0m \u001b[1;32mnot\u001b[0m \u001b[0mchunked\u001b[0m\u001b[1;33m:\u001b[0m\u001b[1;33m\u001b[0m\u001b[1;33m\u001b[0m\u001b[0m\n\u001b[1;32m--> 439\u001b[1;33m                 resp = conn.urlopen(\n\u001b[0m\u001b[0;32m    440\u001b[0m                     \u001b[0mmethod\u001b[0m\u001b[1;33m=\u001b[0m\u001b[0mrequest\u001b[0m\u001b[1;33m.\u001b[0m\u001b[0mmethod\u001b[0m\u001b[1;33m,\u001b[0m\u001b[1;33m\u001b[0m\u001b[1;33m\u001b[0m\u001b[0m\n",
      "\u001b[1;32m~\\quantconnect\\lib\\site-packages\\urllib3\\connectionpool.py\u001b[0m in \u001b[0;36murlopen\u001b[1;34m(self, method, url, body, headers, retries, redirect, assert_same_host, timeout, pool_timeout, release_conn, chunked, body_pos, **response_kw)\u001b[0m\n\u001b[0;32m    725\u001b[0m \u001b[1;33m\u001b[0m\u001b[0m\n\u001b[1;32m--> 726\u001b[1;33m             retries = retries.increment(\n\u001b[0m\u001b[0;32m    727\u001b[0m                 \u001b[0mmethod\u001b[0m\u001b[1;33m,\u001b[0m \u001b[0murl\u001b[0m\u001b[1;33m,\u001b[0m \u001b[0merror\u001b[0m\u001b[1;33m=\u001b[0m\u001b[0me\u001b[0m\u001b[1;33m,\u001b[0m \u001b[0m_pool\u001b[0m\u001b[1;33m=\u001b[0m\u001b[0mself\u001b[0m\u001b[1;33m,\u001b[0m \u001b[0m_stacktrace\u001b[0m\u001b[1;33m=\u001b[0m\u001b[0msys\u001b[0m\u001b[1;33m.\u001b[0m\u001b[0mexc_info\u001b[0m\u001b[1;33m(\u001b[0m\u001b[1;33m)\u001b[0m\u001b[1;33m[\u001b[0m\u001b[1;36m2\u001b[0m\u001b[1;33m]\u001b[0m\u001b[1;33m\u001b[0m\u001b[1;33m\u001b[0m\u001b[0m\n",
      "\u001b[1;32m~\\quantconnect\\lib\\site-packages\\urllib3\\util\\retry.py\u001b[0m in \u001b[0;36mincrement\u001b[1;34m(self, method, url, response, error, _pool, _stacktrace)\u001b[0m\n\u001b[0;32m    445\u001b[0m         \u001b[1;32mif\u001b[0m \u001b[0mnew_retry\u001b[0m\u001b[1;33m.\u001b[0m\u001b[0mis_exhausted\u001b[0m\u001b[1;33m(\u001b[0m\u001b[1;33m)\u001b[0m\u001b[1;33m:\u001b[0m\u001b[1;33m\u001b[0m\u001b[1;33m\u001b[0m\u001b[0m\n\u001b[1;32m--> 446\u001b[1;33m             \u001b[1;32mraise\u001b[0m \u001b[0mMaxRetryError\u001b[0m\u001b[1;33m(\u001b[0m\u001b[0m_pool\u001b[0m\u001b[1;33m,\u001b[0m \u001b[0murl\u001b[0m\u001b[1;33m,\u001b[0m \u001b[0merror\u001b[0m \u001b[1;32mor\u001b[0m \u001b[0mResponseError\u001b[0m\u001b[1;33m(\u001b[0m\u001b[0mcause\u001b[0m\u001b[1;33m)\u001b[0m\u001b[1;33m)\u001b[0m\u001b[1;33m\u001b[0m\u001b[1;33m\u001b[0m\u001b[0m\n\u001b[0m\u001b[0;32m    447\u001b[0m \u001b[1;33m\u001b[0m\u001b[0m\n",
      "\u001b[1;31mMaxRetryError\u001b[0m: HTTPConnectionPool(host='127.0.01', port=5000): Max retries exceeded with url: /aapl=stock/apple/cash-and-cash-equivalents (Caused by NewConnectionError('<urllib3.connection.HTTPConnection object at 0x0000020480EA1580>: Failed to establish a new connection: [Errno 11001] getaddrinfo failed'))",
      "\nDuring handling of the above exception, another exception occurred:\n",
      "\u001b[1;31mConnectionError\u001b[0m                           Traceback (most recent call last)",
      "\u001b[1;32m<ipython-input-40-98870fd3d046>\u001b[0m in \u001b[0;36m<module>\u001b[1;34m\u001b[0m\n\u001b[0;32m      1\u001b[0m \u001b[1;32mimport\u001b[0m \u001b[0mrequests\u001b[0m\u001b[1;33m\u001b[0m\u001b[1;33m\u001b[0m\u001b[0m\n\u001b[0;32m      2\u001b[0m \u001b[0mos\u001b[0m\u001b[1;33m.\u001b[0m\u001b[0menviron\u001b[0m\u001b[1;33m[\u001b[0m\u001b[1;34m'NO_PROXY'\u001b[0m\u001b[1;33m]\u001b[0m \u001b[1;33m=\u001b[0m \u001b[1;34m'127.0.1'\u001b[0m\u001b[1;33m\u001b[0m\u001b[1;33m\u001b[0m\u001b[0m\n\u001b[1;32m----> 3\u001b[1;33m \u001b[0mr\u001b[0m\u001b[1;33m=\u001b[0m\u001b[0mrequests\u001b[0m\u001b[1;33m.\u001b[0m\u001b[0mget\u001b[0m\u001b[1;33m(\u001b[0m\u001b[1;34m\"http://127.0.01:5000/aapl=stock/apple/cash-and-cash-equivalents\"\u001b[0m\u001b[1;33m)\u001b[0m\u001b[1;33m\u001b[0m\u001b[1;33m\u001b[0m\u001b[0m\n\u001b[0m",
      "\u001b[1;32m~\\quantconnect\\lib\\site-packages\\requests\\api.py\u001b[0m in \u001b[0;36mget\u001b[1;34m(url, params, **kwargs)\u001b[0m\n\u001b[0;32m     74\u001b[0m \u001b[1;33m\u001b[0m\u001b[0m\n\u001b[0;32m     75\u001b[0m     \u001b[0mkwargs\u001b[0m\u001b[1;33m.\u001b[0m\u001b[0msetdefault\u001b[0m\u001b[1;33m(\u001b[0m\u001b[1;34m'allow_redirects'\u001b[0m\u001b[1;33m,\u001b[0m \u001b[1;32mTrue\u001b[0m\u001b[1;33m)\u001b[0m\u001b[1;33m\u001b[0m\u001b[1;33m\u001b[0m\u001b[0m\n\u001b[1;32m---> 76\u001b[1;33m     \u001b[1;32mreturn\u001b[0m \u001b[0mrequest\u001b[0m\u001b[1;33m(\u001b[0m\u001b[1;34m'get'\u001b[0m\u001b[1;33m,\u001b[0m \u001b[0murl\u001b[0m\u001b[1;33m,\u001b[0m \u001b[0mparams\u001b[0m\u001b[1;33m=\u001b[0m\u001b[0mparams\u001b[0m\u001b[1;33m,\u001b[0m \u001b[1;33m**\u001b[0m\u001b[0mkwargs\u001b[0m\u001b[1;33m)\u001b[0m\u001b[1;33m\u001b[0m\u001b[1;33m\u001b[0m\u001b[0m\n\u001b[0m\u001b[0;32m     77\u001b[0m \u001b[1;33m\u001b[0m\u001b[0m\n\u001b[0;32m     78\u001b[0m \u001b[1;33m\u001b[0m\u001b[0m\n",
      "\u001b[1;32m~\\quantconnect\\lib\\site-packages\\requests\\api.py\u001b[0m in \u001b[0;36mrequest\u001b[1;34m(method, url, **kwargs)\u001b[0m\n\u001b[0;32m     59\u001b[0m     \u001b[1;31m# cases, and look like a memory leak in others.\u001b[0m\u001b[1;33m\u001b[0m\u001b[1;33m\u001b[0m\u001b[1;33m\u001b[0m\u001b[0m\n\u001b[0;32m     60\u001b[0m     \u001b[1;32mwith\u001b[0m \u001b[0msessions\u001b[0m\u001b[1;33m.\u001b[0m\u001b[0mSession\u001b[0m\u001b[1;33m(\u001b[0m\u001b[1;33m)\u001b[0m \u001b[1;32mas\u001b[0m \u001b[0msession\u001b[0m\u001b[1;33m:\u001b[0m\u001b[1;33m\u001b[0m\u001b[1;33m\u001b[0m\u001b[0m\n\u001b[1;32m---> 61\u001b[1;33m         \u001b[1;32mreturn\u001b[0m \u001b[0msession\u001b[0m\u001b[1;33m.\u001b[0m\u001b[0mrequest\u001b[0m\u001b[1;33m(\u001b[0m\u001b[0mmethod\u001b[0m\u001b[1;33m=\u001b[0m\u001b[0mmethod\u001b[0m\u001b[1;33m,\u001b[0m \u001b[0murl\u001b[0m\u001b[1;33m=\u001b[0m\u001b[0murl\u001b[0m\u001b[1;33m,\u001b[0m \u001b[1;33m**\u001b[0m\u001b[0mkwargs\u001b[0m\u001b[1;33m)\u001b[0m\u001b[1;33m\u001b[0m\u001b[1;33m\u001b[0m\u001b[0m\n\u001b[0m\u001b[0;32m     62\u001b[0m \u001b[1;33m\u001b[0m\u001b[0m\n\u001b[0;32m     63\u001b[0m \u001b[1;33m\u001b[0m\u001b[0m\n",
      "\u001b[1;32m~\\quantconnect\\lib\\site-packages\\requests\\sessions.py\u001b[0m in \u001b[0;36mrequest\u001b[1;34m(self, method, url, params, data, headers, cookies, files, auth, timeout, allow_redirects, proxies, hooks, stream, verify, cert, json)\u001b[0m\n\u001b[0;32m    528\u001b[0m         }\n\u001b[0;32m    529\u001b[0m         \u001b[0msend_kwargs\u001b[0m\u001b[1;33m.\u001b[0m\u001b[0mupdate\u001b[0m\u001b[1;33m(\u001b[0m\u001b[0msettings\u001b[0m\u001b[1;33m)\u001b[0m\u001b[1;33m\u001b[0m\u001b[1;33m\u001b[0m\u001b[0m\n\u001b[1;32m--> 530\u001b[1;33m         \u001b[0mresp\u001b[0m \u001b[1;33m=\u001b[0m \u001b[0mself\u001b[0m\u001b[1;33m.\u001b[0m\u001b[0msend\u001b[0m\u001b[1;33m(\u001b[0m\u001b[0mprep\u001b[0m\u001b[1;33m,\u001b[0m \u001b[1;33m**\u001b[0m\u001b[0msend_kwargs\u001b[0m\u001b[1;33m)\u001b[0m\u001b[1;33m\u001b[0m\u001b[1;33m\u001b[0m\u001b[0m\n\u001b[0m\u001b[0;32m    531\u001b[0m \u001b[1;33m\u001b[0m\u001b[0m\n\u001b[0;32m    532\u001b[0m         \u001b[1;32mreturn\u001b[0m \u001b[0mresp\u001b[0m\u001b[1;33m\u001b[0m\u001b[1;33m\u001b[0m\u001b[0m\n",
      "\u001b[1;32m~\\quantconnect\\lib\\site-packages\\requests\\sessions.py\u001b[0m in \u001b[0;36msend\u001b[1;34m(self, request, **kwargs)\u001b[0m\n\u001b[0;32m    641\u001b[0m \u001b[1;33m\u001b[0m\u001b[0m\n\u001b[0;32m    642\u001b[0m         \u001b[1;31m# Send the request\u001b[0m\u001b[1;33m\u001b[0m\u001b[1;33m\u001b[0m\u001b[1;33m\u001b[0m\u001b[0m\n\u001b[1;32m--> 643\u001b[1;33m         \u001b[0mr\u001b[0m \u001b[1;33m=\u001b[0m \u001b[0madapter\u001b[0m\u001b[1;33m.\u001b[0m\u001b[0msend\u001b[0m\u001b[1;33m(\u001b[0m\u001b[0mrequest\u001b[0m\u001b[1;33m,\u001b[0m \u001b[1;33m**\u001b[0m\u001b[0mkwargs\u001b[0m\u001b[1;33m)\u001b[0m\u001b[1;33m\u001b[0m\u001b[1;33m\u001b[0m\u001b[0m\n\u001b[0m\u001b[0;32m    644\u001b[0m \u001b[1;33m\u001b[0m\u001b[0m\n\u001b[0;32m    645\u001b[0m         \u001b[1;31m# Total elapsed time of the request (approximately)\u001b[0m\u001b[1;33m\u001b[0m\u001b[1;33m\u001b[0m\u001b[1;33m\u001b[0m\u001b[0m\n",
      "\u001b[1;32m~\\quantconnect\\lib\\site-packages\\requests\\adapters.py\u001b[0m in \u001b[0;36msend\u001b[1;34m(self, request, stream, timeout, verify, cert, proxies)\u001b[0m\n\u001b[0;32m    514\u001b[0m                 \u001b[1;32mraise\u001b[0m \u001b[0mSSLError\u001b[0m\u001b[1;33m(\u001b[0m\u001b[0me\u001b[0m\u001b[1;33m,\u001b[0m \u001b[0mrequest\u001b[0m\u001b[1;33m=\u001b[0m\u001b[0mrequest\u001b[0m\u001b[1;33m)\u001b[0m\u001b[1;33m\u001b[0m\u001b[1;33m\u001b[0m\u001b[0m\n\u001b[0;32m    515\u001b[0m \u001b[1;33m\u001b[0m\u001b[0m\n\u001b[1;32m--> 516\u001b[1;33m             \u001b[1;32mraise\u001b[0m \u001b[0mConnectionError\u001b[0m\u001b[1;33m(\u001b[0m\u001b[0me\u001b[0m\u001b[1;33m,\u001b[0m \u001b[0mrequest\u001b[0m\u001b[1;33m=\u001b[0m\u001b[0mrequest\u001b[0m\u001b[1;33m)\u001b[0m\u001b[1;33m\u001b[0m\u001b[1;33m\u001b[0m\u001b[0m\n\u001b[0m\u001b[0;32m    517\u001b[0m \u001b[1;33m\u001b[0m\u001b[0m\n\u001b[0;32m    518\u001b[0m         \u001b[1;32mexcept\u001b[0m \u001b[0mClosedPoolError\u001b[0m \u001b[1;32mas\u001b[0m \u001b[0me\u001b[0m\u001b[1;33m:\u001b[0m\u001b[1;33m\u001b[0m\u001b[1;33m\u001b[0m\u001b[0m\n",
      "\u001b[1;31mConnectionError\u001b[0m: HTTPConnectionPool(host='127.0.01', port=5000): Max retries exceeded with url: /aapl=stock/apple/cash-and-cash-equivalents (Caused by NewConnectionError('<urllib3.connection.HTTPConnection object at 0x0000020480EA1580>: Failed to establish a new connection: [Errno 11001] getaddrinfo failed'))"
     ]
    }
   ],
   "source": [
    "import requests\n",
    "os.environ['NO_PROXY'] = '127.0.1'\n",
    "\n",
    "r=requests.get(\"http://127.0.01:5000/aapl=stock/apple/cash-and-cash-equivalents\")"
   ]
  },
  {
   "cell_type": "code",
   "execution_count": 16,
   "metadata": {
    "ExecuteTime": {
     "end_time": "2020-12-14T19:07:44.294450Z",
     "start_time": "2020-12-14T19:07:44.280453Z"
    }
   },
   "outputs": [],
   "source": [
    "# BASE_URL='http://127.0.0.1:8000'\n",
    "BASE_URL = \"http://127.0.0.1:5000/aapl=stock/apple/cash-and-cash-equivalents/\"\n",
    "BASE_URL = \"http://127.0.0.1:5000/aapl=stock/apple/cash-and-cash-equivalents\"\n",
    "resp=requests.get(BASE_URL)\n",
    "# print(resp.status_code)\n",
    "# print(resp.json())"
   ]
  },
  {
   "cell_type": "code",
   "execution_count": 17,
   "metadata": {
    "ExecuteTime": {
     "end_time": "2020-12-14T19:07:46.127999Z",
     "start_time": "2020-12-14T19:07:46.104480Z"
    }
   },
   "outputs": [
    {
     "data": {
      "text/plain": [
       "'<!DOCTYPE HTML PUBLIC \"-//W3C//DTD HTML 3.2 Final//EN\">\\n<title>404 Not Found</title>\\n<h1>Not Found</h1>\\n<p>The requested URL was not found on the server. If you entered the URL manually please check your spelling and try again.</p>\\n'"
      ]
     },
     "execution_count": 17,
     "metadata": {},
     "output_type": "execute_result"
    }
   ],
   "source": [
    "resp.text"
   ]
  },
  {
   "cell_type": "code",
   "execution_count": 19,
   "metadata": {
    "ExecuteTime": {
     "end_time": "2020-12-14T19:09:30.633884Z",
     "start_time": "2020-12-14T19:09:30.619519Z"
    }
   },
   "outputs": [
    {
     "data": {
      "text/plain": [
       "<Response [404]>"
      ]
     },
     "execution_count": 19,
     "metadata": {},
     "output_type": "execute_result"
    }
   ],
   "source": [
    "req = requests.post(\"http://127.0.0.1:5000/aapl=stock/apple/cash-and-cash-equivalents\", 'html.parser')\n",
    "req"
   ]
  },
  {
   "cell_type": "code",
   "execution_count": 48,
   "metadata": {
    "ExecuteTime": {
     "end_time": "2020-12-14T19:03:00.458027Z",
     "start_time": "2020-12-14T19:02:59.576800Z"
    },
    "scrolled": true
   },
   "outputs": [
    {
     "ename": "ConnectionError",
     "evalue": "HTTPConnectionPool(host='127.0.01', port=5000): Max retries exceeded with url: /aapl=stock/apple/cash-and-cash-equivalents (Caused by NewConnectionError('<urllib3.connection.HTTPConnection object at 0x0000020480EFD550>: Failed to establish a new connection: [Errno 11001] getaddrinfo failed'))",
     "output_type": "error",
     "traceback": [
      "\u001b[1;31m---------------------------------------------------------------------------\u001b[0m",
      "\u001b[1;31mgaierror\u001b[0m                                  Traceback (most recent call last)",
      "\u001b[1;32m~\\quantconnect\\lib\\site-packages\\urllib3\\connection.py\u001b[0m in \u001b[0;36m_new_conn\u001b[1;34m(self)\u001b[0m\n\u001b[0;32m    158\u001b[0m         \u001b[1;32mtry\u001b[0m\u001b[1;33m:\u001b[0m\u001b[1;33m\u001b[0m\u001b[1;33m\u001b[0m\u001b[0m\n\u001b[1;32m--> 159\u001b[1;33m             conn = connection.create_connection(\n\u001b[0m\u001b[0;32m    160\u001b[0m                 \u001b[1;33m(\u001b[0m\u001b[0mself\u001b[0m\u001b[1;33m.\u001b[0m\u001b[0m_dns_host\u001b[0m\u001b[1;33m,\u001b[0m \u001b[0mself\u001b[0m\u001b[1;33m.\u001b[0m\u001b[0mport\u001b[0m\u001b[1;33m)\u001b[0m\u001b[1;33m,\u001b[0m \u001b[0mself\u001b[0m\u001b[1;33m.\u001b[0m\u001b[0mtimeout\u001b[0m\u001b[1;33m,\u001b[0m \u001b[1;33m**\u001b[0m\u001b[0mextra_kw\u001b[0m\u001b[1;33m\u001b[0m\u001b[1;33m\u001b[0m\u001b[0m\n",
      "\u001b[1;32m~\\quantconnect\\lib\\site-packages\\urllib3\\util\\connection.py\u001b[0m in \u001b[0;36mcreate_connection\u001b[1;34m(address, timeout, source_address, socket_options)\u001b[0m\n\u001b[0;32m     60\u001b[0m \u001b[1;33m\u001b[0m\u001b[0m\n\u001b[1;32m---> 61\u001b[1;33m     \u001b[1;32mfor\u001b[0m \u001b[0mres\u001b[0m \u001b[1;32min\u001b[0m \u001b[0msocket\u001b[0m\u001b[1;33m.\u001b[0m\u001b[0mgetaddrinfo\u001b[0m\u001b[1;33m(\u001b[0m\u001b[0mhost\u001b[0m\u001b[1;33m,\u001b[0m \u001b[0mport\u001b[0m\u001b[1;33m,\u001b[0m \u001b[0mfamily\u001b[0m\u001b[1;33m,\u001b[0m \u001b[0msocket\u001b[0m\u001b[1;33m.\u001b[0m\u001b[0mSOCK_STREAM\u001b[0m\u001b[1;33m)\u001b[0m\u001b[1;33m:\u001b[0m\u001b[1;33m\u001b[0m\u001b[1;33m\u001b[0m\u001b[0m\n\u001b[0m\u001b[0;32m     62\u001b[0m         \u001b[0maf\u001b[0m\u001b[1;33m,\u001b[0m \u001b[0msocktype\u001b[0m\u001b[1;33m,\u001b[0m \u001b[0mproto\u001b[0m\u001b[1;33m,\u001b[0m \u001b[0mcanonname\u001b[0m\u001b[1;33m,\u001b[0m \u001b[0msa\u001b[0m \u001b[1;33m=\u001b[0m \u001b[0mres\u001b[0m\u001b[1;33m\u001b[0m\u001b[1;33m\u001b[0m\u001b[0m\n",
      "\u001b[1;32m~\\AppData\\Local\\Programs\\Python\\Python39\\lib\\socket.py\u001b[0m in \u001b[0;36mgetaddrinfo\u001b[1;34m(host, port, family, type, proto, flags)\u001b[0m\n\u001b[0;32m    952\u001b[0m     \u001b[0maddrlist\u001b[0m \u001b[1;33m=\u001b[0m \u001b[1;33m[\u001b[0m\u001b[1;33m]\u001b[0m\u001b[1;33m\u001b[0m\u001b[1;33m\u001b[0m\u001b[0m\n\u001b[1;32m--> 953\u001b[1;33m     \u001b[1;32mfor\u001b[0m \u001b[0mres\u001b[0m \u001b[1;32min\u001b[0m \u001b[0m_socket\u001b[0m\u001b[1;33m.\u001b[0m\u001b[0mgetaddrinfo\u001b[0m\u001b[1;33m(\u001b[0m\u001b[0mhost\u001b[0m\u001b[1;33m,\u001b[0m \u001b[0mport\u001b[0m\u001b[1;33m,\u001b[0m \u001b[0mfamily\u001b[0m\u001b[1;33m,\u001b[0m \u001b[0mtype\u001b[0m\u001b[1;33m,\u001b[0m \u001b[0mproto\u001b[0m\u001b[1;33m,\u001b[0m \u001b[0mflags\u001b[0m\u001b[1;33m)\u001b[0m\u001b[1;33m:\u001b[0m\u001b[1;33m\u001b[0m\u001b[1;33m\u001b[0m\u001b[0m\n\u001b[0m\u001b[0;32m    954\u001b[0m         \u001b[0maf\u001b[0m\u001b[1;33m,\u001b[0m \u001b[0msocktype\u001b[0m\u001b[1;33m,\u001b[0m \u001b[0mproto\u001b[0m\u001b[1;33m,\u001b[0m \u001b[0mcanonname\u001b[0m\u001b[1;33m,\u001b[0m \u001b[0msa\u001b[0m \u001b[1;33m=\u001b[0m \u001b[0mres\u001b[0m\u001b[1;33m\u001b[0m\u001b[1;33m\u001b[0m\u001b[0m\n",
      "\u001b[1;31mgaierror\u001b[0m: [Errno 11001] getaddrinfo failed",
      "\nDuring handling of the above exception, another exception occurred:\n",
      "\u001b[1;31mNewConnectionError\u001b[0m                        Traceback (most recent call last)",
      "\u001b[1;32m~\\quantconnect\\lib\\site-packages\\urllib3\\connectionpool.py\u001b[0m in \u001b[0;36murlopen\u001b[1;34m(self, method, url, body, headers, retries, redirect, assert_same_host, timeout, pool_timeout, release_conn, chunked, body_pos, **response_kw)\u001b[0m\n\u001b[0;32m    669\u001b[0m             \u001b[1;31m# Make the request on the httplib connection object.\u001b[0m\u001b[1;33m\u001b[0m\u001b[1;33m\u001b[0m\u001b[1;33m\u001b[0m\u001b[0m\n\u001b[1;32m--> 670\u001b[1;33m             httplib_response = self._make_request(\n\u001b[0m\u001b[0;32m    671\u001b[0m                 \u001b[0mconn\u001b[0m\u001b[1;33m,\u001b[0m\u001b[1;33m\u001b[0m\u001b[1;33m\u001b[0m\u001b[0m\n",
      "\u001b[1;32m~\\quantconnect\\lib\\site-packages\\urllib3\\connectionpool.py\u001b[0m in \u001b[0;36m_make_request\u001b[1;34m(self, conn, method, url, timeout, chunked, **httplib_request_kw)\u001b[0m\n\u001b[0;32m    391\u001b[0m         \u001b[1;32melse\u001b[0m\u001b[1;33m:\u001b[0m\u001b[1;33m\u001b[0m\u001b[1;33m\u001b[0m\u001b[0m\n\u001b[1;32m--> 392\u001b[1;33m             \u001b[0mconn\u001b[0m\u001b[1;33m.\u001b[0m\u001b[0mrequest\u001b[0m\u001b[1;33m(\u001b[0m\u001b[0mmethod\u001b[0m\u001b[1;33m,\u001b[0m \u001b[0murl\u001b[0m\u001b[1;33m,\u001b[0m \u001b[1;33m**\u001b[0m\u001b[0mhttplib_request_kw\u001b[0m\u001b[1;33m)\u001b[0m\u001b[1;33m\u001b[0m\u001b[1;33m\u001b[0m\u001b[0m\n\u001b[0m\u001b[0;32m    393\u001b[0m \u001b[1;33m\u001b[0m\u001b[0m\n",
      "\u001b[1;32m~\\AppData\\Local\\Programs\\Python\\Python39\\lib\\http\\client.py\u001b[0m in \u001b[0;36mrequest\u001b[1;34m(self, method, url, body, headers, encode_chunked)\u001b[0m\n\u001b[0;32m   1254\u001b[0m         \u001b[1;34m\"\"\"Send a complete request to the server.\"\"\"\u001b[0m\u001b[1;33m\u001b[0m\u001b[1;33m\u001b[0m\u001b[0m\n\u001b[1;32m-> 1255\u001b[1;33m         \u001b[0mself\u001b[0m\u001b[1;33m.\u001b[0m\u001b[0m_send_request\u001b[0m\u001b[1;33m(\u001b[0m\u001b[0mmethod\u001b[0m\u001b[1;33m,\u001b[0m \u001b[0murl\u001b[0m\u001b[1;33m,\u001b[0m \u001b[0mbody\u001b[0m\u001b[1;33m,\u001b[0m \u001b[0mheaders\u001b[0m\u001b[1;33m,\u001b[0m \u001b[0mencode_chunked\u001b[0m\u001b[1;33m)\u001b[0m\u001b[1;33m\u001b[0m\u001b[1;33m\u001b[0m\u001b[0m\n\u001b[0m\u001b[0;32m   1256\u001b[0m \u001b[1;33m\u001b[0m\u001b[0m\n",
      "\u001b[1;32m~\\AppData\\Local\\Programs\\Python\\Python39\\lib\\http\\client.py\u001b[0m in \u001b[0;36m_send_request\u001b[1;34m(self, method, url, body, headers, encode_chunked)\u001b[0m\n\u001b[0;32m   1300\u001b[0m             \u001b[0mbody\u001b[0m \u001b[1;33m=\u001b[0m \u001b[0m_encode\u001b[0m\u001b[1;33m(\u001b[0m\u001b[0mbody\u001b[0m\u001b[1;33m,\u001b[0m \u001b[1;34m'body'\u001b[0m\u001b[1;33m)\u001b[0m\u001b[1;33m\u001b[0m\u001b[1;33m\u001b[0m\u001b[0m\n\u001b[1;32m-> 1301\u001b[1;33m         \u001b[0mself\u001b[0m\u001b[1;33m.\u001b[0m\u001b[0mendheaders\u001b[0m\u001b[1;33m(\u001b[0m\u001b[0mbody\u001b[0m\u001b[1;33m,\u001b[0m \u001b[0mencode_chunked\u001b[0m\u001b[1;33m=\u001b[0m\u001b[0mencode_chunked\u001b[0m\u001b[1;33m)\u001b[0m\u001b[1;33m\u001b[0m\u001b[1;33m\u001b[0m\u001b[0m\n\u001b[0m\u001b[0;32m   1302\u001b[0m \u001b[1;33m\u001b[0m\u001b[0m\n",
      "\u001b[1;32m~\\AppData\\Local\\Programs\\Python\\Python39\\lib\\http\\client.py\u001b[0m in \u001b[0;36mendheaders\u001b[1;34m(self, message_body, encode_chunked)\u001b[0m\n\u001b[0;32m   1249\u001b[0m             \u001b[1;32mraise\u001b[0m \u001b[0mCannotSendHeader\u001b[0m\u001b[1;33m(\u001b[0m\u001b[1;33m)\u001b[0m\u001b[1;33m\u001b[0m\u001b[1;33m\u001b[0m\u001b[0m\n\u001b[1;32m-> 1250\u001b[1;33m         \u001b[0mself\u001b[0m\u001b[1;33m.\u001b[0m\u001b[0m_send_output\u001b[0m\u001b[1;33m(\u001b[0m\u001b[0mmessage_body\u001b[0m\u001b[1;33m,\u001b[0m \u001b[0mencode_chunked\u001b[0m\u001b[1;33m=\u001b[0m\u001b[0mencode_chunked\u001b[0m\u001b[1;33m)\u001b[0m\u001b[1;33m\u001b[0m\u001b[1;33m\u001b[0m\u001b[0m\n\u001b[0m\u001b[0;32m   1251\u001b[0m \u001b[1;33m\u001b[0m\u001b[0m\n",
      "\u001b[1;32m~\\AppData\\Local\\Programs\\Python\\Python39\\lib\\http\\client.py\u001b[0m in \u001b[0;36m_send_output\u001b[1;34m(self, message_body, encode_chunked)\u001b[0m\n\u001b[0;32m   1009\u001b[0m         \u001b[1;32mdel\u001b[0m \u001b[0mself\u001b[0m\u001b[1;33m.\u001b[0m\u001b[0m_buffer\u001b[0m\u001b[1;33m[\u001b[0m\u001b[1;33m:\u001b[0m\u001b[1;33m]\u001b[0m\u001b[1;33m\u001b[0m\u001b[1;33m\u001b[0m\u001b[0m\n\u001b[1;32m-> 1010\u001b[1;33m         \u001b[0mself\u001b[0m\u001b[1;33m.\u001b[0m\u001b[0msend\u001b[0m\u001b[1;33m(\u001b[0m\u001b[0mmsg\u001b[0m\u001b[1;33m)\u001b[0m\u001b[1;33m\u001b[0m\u001b[1;33m\u001b[0m\u001b[0m\n\u001b[0m\u001b[0;32m   1011\u001b[0m \u001b[1;33m\u001b[0m\u001b[0m\n",
      "\u001b[1;32m~\\AppData\\Local\\Programs\\Python\\Python39\\lib\\http\\client.py\u001b[0m in \u001b[0;36msend\u001b[1;34m(self, data)\u001b[0m\n\u001b[0;32m    949\u001b[0m             \u001b[1;32mif\u001b[0m \u001b[0mself\u001b[0m\u001b[1;33m.\u001b[0m\u001b[0mauto_open\u001b[0m\u001b[1;33m:\u001b[0m\u001b[1;33m\u001b[0m\u001b[1;33m\u001b[0m\u001b[0m\n\u001b[1;32m--> 950\u001b[1;33m                 \u001b[0mself\u001b[0m\u001b[1;33m.\u001b[0m\u001b[0mconnect\u001b[0m\u001b[1;33m(\u001b[0m\u001b[1;33m)\u001b[0m\u001b[1;33m\u001b[0m\u001b[1;33m\u001b[0m\u001b[0m\n\u001b[0m\u001b[0;32m    951\u001b[0m             \u001b[1;32melse\u001b[0m\u001b[1;33m:\u001b[0m\u001b[1;33m\u001b[0m\u001b[1;33m\u001b[0m\u001b[0m\n",
      "\u001b[1;32m~\\quantconnect\\lib\\site-packages\\urllib3\\connection.py\u001b[0m in \u001b[0;36mconnect\u001b[1;34m(self)\u001b[0m\n\u001b[0;32m    186\u001b[0m     \u001b[1;32mdef\u001b[0m \u001b[0mconnect\u001b[0m\u001b[1;33m(\u001b[0m\u001b[0mself\u001b[0m\u001b[1;33m)\u001b[0m\u001b[1;33m:\u001b[0m\u001b[1;33m\u001b[0m\u001b[1;33m\u001b[0m\u001b[0m\n\u001b[1;32m--> 187\u001b[1;33m         \u001b[0mconn\u001b[0m \u001b[1;33m=\u001b[0m \u001b[0mself\u001b[0m\u001b[1;33m.\u001b[0m\u001b[0m_new_conn\u001b[0m\u001b[1;33m(\u001b[0m\u001b[1;33m)\u001b[0m\u001b[1;33m\u001b[0m\u001b[1;33m\u001b[0m\u001b[0m\n\u001b[0m\u001b[0;32m    188\u001b[0m         \u001b[0mself\u001b[0m\u001b[1;33m.\u001b[0m\u001b[0m_prepare_conn\u001b[0m\u001b[1;33m(\u001b[0m\u001b[0mconn\u001b[0m\u001b[1;33m)\u001b[0m\u001b[1;33m\u001b[0m\u001b[1;33m\u001b[0m\u001b[0m\n",
      "\u001b[1;32m~\\quantconnect\\lib\\site-packages\\urllib3\\connection.py\u001b[0m in \u001b[0;36m_new_conn\u001b[1;34m(self)\u001b[0m\n\u001b[0;32m    170\u001b[0m         \u001b[1;32mexcept\u001b[0m \u001b[0mSocketError\u001b[0m \u001b[1;32mas\u001b[0m \u001b[0me\u001b[0m\u001b[1;33m:\u001b[0m\u001b[1;33m\u001b[0m\u001b[1;33m\u001b[0m\u001b[0m\n\u001b[1;32m--> 171\u001b[1;33m             raise NewConnectionError(\n\u001b[0m\u001b[0;32m    172\u001b[0m                 \u001b[0mself\u001b[0m\u001b[1;33m,\u001b[0m \u001b[1;34m\"Failed to establish a new connection: %s\"\u001b[0m \u001b[1;33m%\u001b[0m \u001b[0me\u001b[0m\u001b[1;33m\u001b[0m\u001b[1;33m\u001b[0m\u001b[0m\n",
      "\u001b[1;31mNewConnectionError\u001b[0m: <urllib3.connection.HTTPConnection object at 0x0000020480EFD550>: Failed to establish a new connection: [Errno 11001] getaddrinfo failed",
      "\nDuring handling of the above exception, another exception occurred:\n",
      "\u001b[1;31mMaxRetryError\u001b[0m                             Traceback (most recent call last)",
      "\u001b[1;32m~\\quantconnect\\lib\\site-packages\\requests\\adapters.py\u001b[0m in \u001b[0;36msend\u001b[1;34m(self, request, stream, timeout, verify, cert, proxies)\u001b[0m\n\u001b[0;32m    438\u001b[0m             \u001b[1;32mif\u001b[0m \u001b[1;32mnot\u001b[0m \u001b[0mchunked\u001b[0m\u001b[1;33m:\u001b[0m\u001b[1;33m\u001b[0m\u001b[1;33m\u001b[0m\u001b[0m\n\u001b[1;32m--> 439\u001b[1;33m                 resp = conn.urlopen(\n\u001b[0m\u001b[0;32m    440\u001b[0m                     \u001b[0mmethod\u001b[0m\u001b[1;33m=\u001b[0m\u001b[0mrequest\u001b[0m\u001b[1;33m.\u001b[0m\u001b[0mmethod\u001b[0m\u001b[1;33m,\u001b[0m\u001b[1;33m\u001b[0m\u001b[1;33m\u001b[0m\u001b[0m\n",
      "\u001b[1;32m~\\quantconnect\\lib\\site-packages\\urllib3\\connectionpool.py\u001b[0m in \u001b[0;36murlopen\u001b[1;34m(self, method, url, body, headers, retries, redirect, assert_same_host, timeout, pool_timeout, release_conn, chunked, body_pos, **response_kw)\u001b[0m\n\u001b[0;32m    725\u001b[0m \u001b[1;33m\u001b[0m\u001b[0m\n\u001b[1;32m--> 726\u001b[1;33m             retries = retries.increment(\n\u001b[0m\u001b[0;32m    727\u001b[0m                 \u001b[0mmethod\u001b[0m\u001b[1;33m,\u001b[0m \u001b[0murl\u001b[0m\u001b[1;33m,\u001b[0m \u001b[0merror\u001b[0m\u001b[1;33m=\u001b[0m\u001b[0me\u001b[0m\u001b[1;33m,\u001b[0m \u001b[0m_pool\u001b[0m\u001b[1;33m=\u001b[0m\u001b[0mself\u001b[0m\u001b[1;33m,\u001b[0m \u001b[0m_stacktrace\u001b[0m\u001b[1;33m=\u001b[0m\u001b[0msys\u001b[0m\u001b[1;33m.\u001b[0m\u001b[0mexc_info\u001b[0m\u001b[1;33m(\u001b[0m\u001b[1;33m)\u001b[0m\u001b[1;33m[\u001b[0m\u001b[1;36m2\u001b[0m\u001b[1;33m]\u001b[0m\u001b[1;33m\u001b[0m\u001b[1;33m\u001b[0m\u001b[0m\n",
      "\u001b[1;32m~\\quantconnect\\lib\\site-packages\\urllib3\\util\\retry.py\u001b[0m in \u001b[0;36mincrement\u001b[1;34m(self, method, url, response, error, _pool, _stacktrace)\u001b[0m\n\u001b[0;32m    445\u001b[0m         \u001b[1;32mif\u001b[0m \u001b[0mnew_retry\u001b[0m\u001b[1;33m.\u001b[0m\u001b[0mis_exhausted\u001b[0m\u001b[1;33m(\u001b[0m\u001b[1;33m)\u001b[0m\u001b[1;33m:\u001b[0m\u001b[1;33m\u001b[0m\u001b[1;33m\u001b[0m\u001b[0m\n\u001b[1;32m--> 446\u001b[1;33m             \u001b[1;32mraise\u001b[0m \u001b[0mMaxRetryError\u001b[0m\u001b[1;33m(\u001b[0m\u001b[0m_pool\u001b[0m\u001b[1;33m,\u001b[0m \u001b[0murl\u001b[0m\u001b[1;33m,\u001b[0m \u001b[0merror\u001b[0m \u001b[1;32mor\u001b[0m \u001b[0mResponseError\u001b[0m\u001b[1;33m(\u001b[0m\u001b[0mcause\u001b[0m\u001b[1;33m)\u001b[0m\u001b[1;33m)\u001b[0m\u001b[1;33m\u001b[0m\u001b[1;33m\u001b[0m\u001b[0m\n\u001b[0m\u001b[0;32m    447\u001b[0m \u001b[1;33m\u001b[0m\u001b[0m\n",
      "\u001b[1;31mMaxRetryError\u001b[0m: HTTPConnectionPool(host='127.0.01', port=5000): Max retries exceeded with url: /aapl=stock/apple/cash-and-cash-equivalents (Caused by NewConnectionError('<urllib3.connection.HTTPConnection object at 0x0000020480EFD550>: Failed to establish a new connection: [Errno 11001] getaddrinfo failed'))",
      "\nDuring handling of the above exception, another exception occurred:\n",
      "\u001b[1;31mConnectionError\u001b[0m                           Traceback (most recent call last)",
      "\u001b[1;32m<ipython-input-48-9c3a5b024fe1>\u001b[0m in \u001b[0;36m<module>\u001b[1;34m\u001b[0m\n\u001b[0;32m      2\u001b[0m \u001b[0msession\u001b[0m \u001b[1;33m=\u001b[0m \u001b[0mPACSession\u001b[0m\u001b[1;33m(\u001b[0m\u001b[1;33m)\u001b[0m\u001b[1;33m\u001b[0m\u001b[1;33m\u001b[0m\u001b[0m\n\u001b[0;32m      3\u001b[0m \u001b[1;31m# session.get('https://127.0.0.1/aapl=stock/apple/cash-and-cash-equival\u001b[0m\u001b[1;33m\u001b[0m\u001b[1;33m\u001b[0m\u001b[1;33m\u001b[0m\u001b[0m\n\u001b[1;32m----> 4\u001b[1;33m \u001b[0msession\u001b[0m\u001b[1;33m.\u001b[0m\u001b[0mget\u001b[0m\u001b[1;33m(\u001b[0m\u001b[1;34m\"http://127.0.01:5000/aapl=stock/apple/cash-and-cash-equivalents\"\u001b[0m\u001b[1;33m)\u001b[0m\u001b[1;33m\u001b[0m\u001b[1;33m\u001b[0m\u001b[0m\n\u001b[0m\u001b[0;32m      5\u001b[0m \u001b[1;31m# <Response [200]>\u001b[0m\u001b[1;33m\u001b[0m\u001b[1;33m\u001b[0m\u001b[1;33m\u001b[0m\u001b[0m\n",
      "\u001b[1;32m~\\quantconnect\\lib\\site-packages\\requests\\sessions.py\u001b[0m in \u001b[0;36mget\u001b[1;34m(self, url, **kwargs)\u001b[0m\n\u001b[0;32m    541\u001b[0m \u001b[1;33m\u001b[0m\u001b[0m\n\u001b[0;32m    542\u001b[0m         \u001b[0mkwargs\u001b[0m\u001b[1;33m.\u001b[0m\u001b[0msetdefault\u001b[0m\u001b[1;33m(\u001b[0m\u001b[1;34m'allow_redirects'\u001b[0m\u001b[1;33m,\u001b[0m \u001b[1;32mTrue\u001b[0m\u001b[1;33m)\u001b[0m\u001b[1;33m\u001b[0m\u001b[1;33m\u001b[0m\u001b[0m\n\u001b[1;32m--> 543\u001b[1;33m         \u001b[1;32mreturn\u001b[0m \u001b[0mself\u001b[0m\u001b[1;33m.\u001b[0m\u001b[0mrequest\u001b[0m\u001b[1;33m(\u001b[0m\u001b[1;34m'GET'\u001b[0m\u001b[1;33m,\u001b[0m \u001b[0murl\u001b[0m\u001b[1;33m,\u001b[0m \u001b[1;33m**\u001b[0m\u001b[0mkwargs\u001b[0m\u001b[1;33m)\u001b[0m\u001b[1;33m\u001b[0m\u001b[1;33m\u001b[0m\u001b[0m\n\u001b[0m\u001b[0;32m    544\u001b[0m \u001b[1;33m\u001b[0m\u001b[0m\n\u001b[0;32m    545\u001b[0m     \u001b[1;32mdef\u001b[0m \u001b[0moptions\u001b[0m\u001b[1;33m(\u001b[0m\u001b[0mself\u001b[0m\u001b[1;33m,\u001b[0m \u001b[0murl\u001b[0m\u001b[1;33m,\u001b[0m \u001b[1;33m**\u001b[0m\u001b[0mkwargs\u001b[0m\u001b[1;33m)\u001b[0m\u001b[1;33m:\u001b[0m\u001b[1;33m\u001b[0m\u001b[1;33m\u001b[0m\u001b[0m\n",
      "\u001b[1;32m~\\quantconnect\\lib\\site-packages\\pypac\\api.py\u001b[0m in \u001b[0;36mrequest\u001b[1;34m(self, method, url, proxies, **kwargs)\u001b[0m\n\u001b[0;32m    239\u001b[0m                         \u001b[1;31m# No failover option, not even DIRECT. Bubble up original exception.\u001b[0m\u001b[1;33m\u001b[0m\u001b[1;33m\u001b[0m\u001b[1;33m\u001b[0m\u001b[0m\n\u001b[0;32m    240\u001b[0m                         \u001b[0mself\u001b[0m\u001b[1;33m.\u001b[0m\u001b[0m_proxy_resolver\u001b[0m\u001b[1;33m.\u001b[0m\u001b[0munban_all\u001b[0m\u001b[1;33m(\u001b[0m\u001b[1;33m)\u001b[0m\u001b[1;33m\u001b[0m\u001b[1;33m\u001b[0m\u001b[0m\n\u001b[1;32m--> 241\u001b[1;33m                 \u001b[1;32mraise\u001b[0m \u001b[0mrequest_exc\u001b[0m  \u001b[1;31m# In PY2, just saying 'raise' may re-raise ProxyConfigExhaustedError.\u001b[0m\u001b[1;33m\u001b[0m\u001b[1;33m\u001b[0m\u001b[0m\n\u001b[0m\u001b[0;32m    242\u001b[0m \u001b[1;33m\u001b[0m\u001b[0m\n\u001b[0;32m    243\u001b[0m             \u001b[1;31m# Use PAC's proxy failover rules if the proxy used for the request is from the PAC,\u001b[0m\u001b[1;33m\u001b[0m\u001b[1;33m\u001b[0m\u001b[1;33m\u001b[0m\u001b[0m\n",
      "\u001b[1;32m~\\quantconnect\\lib\\site-packages\\pypac\\api.py\u001b[0m in \u001b[0;36mrequest\u001b[1;34m(self, method, url, proxies, **kwargs)\u001b[0m\n\u001b[0;32m    228\u001b[0m             \u001b[0mproxy_url\u001b[0m \u001b[1;33m=\u001b[0m \u001b[0mlist\u001b[0m\u001b[1;33m(\u001b[0m\u001b[0mproxies\u001b[0m\u001b[1;33m.\u001b[0m\u001b[0mvalues\u001b[0m\u001b[1;33m(\u001b[0m\u001b[1;33m)\u001b[0m\u001b[1;33m)\u001b[0m\u001b[1;33m[\u001b[0m\u001b[1;36m0\u001b[0m\u001b[1;33m]\u001b[0m \u001b[1;32mif\u001b[0m \u001b[0mproxies\u001b[0m \u001b[1;32melse\u001b[0m \u001b[1;32mNone\u001b[0m\u001b[1;33m\u001b[0m\u001b[1;33m\u001b[0m\u001b[0m\n\u001b[0;32m    229\u001b[0m             \u001b[1;32mtry\u001b[0m\u001b[1;33m:\u001b[0m\u001b[1;33m\u001b[0m\u001b[1;33m\u001b[0m\u001b[0m\n\u001b[1;32m--> 230\u001b[1;33m                 \u001b[0mresponse\u001b[0m \u001b[1;33m=\u001b[0m \u001b[0msuper\u001b[0m\u001b[1;33m(\u001b[0m\u001b[0mPACSession\u001b[0m\u001b[1;33m,\u001b[0m \u001b[0mself\u001b[0m\u001b[1;33m)\u001b[0m\u001b[1;33m.\u001b[0m\u001b[0mrequest\u001b[0m\u001b[1;33m(\u001b[0m\u001b[0mmethod\u001b[0m\u001b[1;33m,\u001b[0m \u001b[0murl\u001b[0m\u001b[1;33m,\u001b[0m \u001b[0mproxies\u001b[0m\u001b[1;33m=\u001b[0m\u001b[0mproxies\u001b[0m\u001b[1;33m,\u001b[0m \u001b[1;33m**\u001b[0m\u001b[0mkwargs\u001b[0m\u001b[1;33m)\u001b[0m\u001b[1;33m\u001b[0m\u001b[1;33m\u001b[0m\u001b[0m\n\u001b[0m\u001b[0;32m    231\u001b[0m             \u001b[1;32mexcept\u001b[0m \u001b[0mException\u001b[0m \u001b[1;32mas\u001b[0m \u001b[0mrequest_exc\u001b[0m\u001b[1;33m:\u001b[0m\u001b[1;33m\u001b[0m\u001b[1;33m\u001b[0m\u001b[0m\n\u001b[0;32m    232\u001b[0m                 \u001b[1;31m# Use PAC's proxy failover rules if the proxy used for the request is from the PAC,\u001b[0m\u001b[1;33m\u001b[0m\u001b[1;33m\u001b[0m\u001b[1;33m\u001b[0m\u001b[0m\n",
      "\u001b[1;32m~\\quantconnect\\lib\\site-packages\\requests\\sessions.py\u001b[0m in \u001b[0;36mrequest\u001b[1;34m(self, method, url, params, data, headers, cookies, files, auth, timeout, allow_redirects, proxies, hooks, stream, verify, cert, json)\u001b[0m\n\u001b[0;32m    528\u001b[0m         }\n\u001b[0;32m    529\u001b[0m         \u001b[0msend_kwargs\u001b[0m\u001b[1;33m.\u001b[0m\u001b[0mupdate\u001b[0m\u001b[1;33m(\u001b[0m\u001b[0msettings\u001b[0m\u001b[1;33m)\u001b[0m\u001b[1;33m\u001b[0m\u001b[1;33m\u001b[0m\u001b[0m\n\u001b[1;32m--> 530\u001b[1;33m         \u001b[0mresp\u001b[0m \u001b[1;33m=\u001b[0m \u001b[0mself\u001b[0m\u001b[1;33m.\u001b[0m\u001b[0msend\u001b[0m\u001b[1;33m(\u001b[0m\u001b[0mprep\u001b[0m\u001b[1;33m,\u001b[0m \u001b[1;33m**\u001b[0m\u001b[0msend_kwargs\u001b[0m\u001b[1;33m)\u001b[0m\u001b[1;33m\u001b[0m\u001b[1;33m\u001b[0m\u001b[0m\n\u001b[0m\u001b[0;32m    531\u001b[0m \u001b[1;33m\u001b[0m\u001b[0m\n\u001b[0;32m    532\u001b[0m         \u001b[1;32mreturn\u001b[0m \u001b[0mresp\u001b[0m\u001b[1;33m\u001b[0m\u001b[1;33m\u001b[0m\u001b[0m\n",
      "\u001b[1;32m~\\quantconnect\\lib\\site-packages\\requests\\sessions.py\u001b[0m in \u001b[0;36msend\u001b[1;34m(self, request, **kwargs)\u001b[0m\n\u001b[0;32m    641\u001b[0m \u001b[1;33m\u001b[0m\u001b[0m\n\u001b[0;32m    642\u001b[0m         \u001b[1;31m# Send the request\u001b[0m\u001b[1;33m\u001b[0m\u001b[1;33m\u001b[0m\u001b[1;33m\u001b[0m\u001b[0m\n\u001b[1;32m--> 643\u001b[1;33m         \u001b[0mr\u001b[0m \u001b[1;33m=\u001b[0m \u001b[0madapter\u001b[0m\u001b[1;33m.\u001b[0m\u001b[0msend\u001b[0m\u001b[1;33m(\u001b[0m\u001b[0mrequest\u001b[0m\u001b[1;33m,\u001b[0m \u001b[1;33m**\u001b[0m\u001b[0mkwargs\u001b[0m\u001b[1;33m)\u001b[0m\u001b[1;33m\u001b[0m\u001b[1;33m\u001b[0m\u001b[0m\n\u001b[0m\u001b[0;32m    644\u001b[0m \u001b[1;33m\u001b[0m\u001b[0m\n\u001b[0;32m    645\u001b[0m         \u001b[1;31m# Total elapsed time of the request (approximately)\u001b[0m\u001b[1;33m\u001b[0m\u001b[1;33m\u001b[0m\u001b[1;33m\u001b[0m\u001b[0m\n",
      "\u001b[1;32m~\\quantconnect\\lib\\site-packages\\requests\\adapters.py\u001b[0m in \u001b[0;36msend\u001b[1;34m(self, request, stream, timeout, verify, cert, proxies)\u001b[0m\n\u001b[0;32m    514\u001b[0m                 \u001b[1;32mraise\u001b[0m \u001b[0mSSLError\u001b[0m\u001b[1;33m(\u001b[0m\u001b[0me\u001b[0m\u001b[1;33m,\u001b[0m \u001b[0mrequest\u001b[0m\u001b[1;33m=\u001b[0m\u001b[0mrequest\u001b[0m\u001b[1;33m)\u001b[0m\u001b[1;33m\u001b[0m\u001b[1;33m\u001b[0m\u001b[0m\n\u001b[0;32m    515\u001b[0m \u001b[1;33m\u001b[0m\u001b[0m\n\u001b[1;32m--> 516\u001b[1;33m             \u001b[1;32mraise\u001b[0m \u001b[0mConnectionError\u001b[0m\u001b[1;33m(\u001b[0m\u001b[0me\u001b[0m\u001b[1;33m,\u001b[0m \u001b[0mrequest\u001b[0m\u001b[1;33m=\u001b[0m\u001b[0mrequest\u001b[0m\u001b[1;33m)\u001b[0m\u001b[1;33m\u001b[0m\u001b[1;33m\u001b[0m\u001b[0m\n\u001b[0m\u001b[0;32m    517\u001b[0m \u001b[1;33m\u001b[0m\u001b[0m\n\u001b[0;32m    518\u001b[0m         \u001b[1;32mexcept\u001b[0m \u001b[0mClosedPoolError\u001b[0m \u001b[1;32mas\u001b[0m \u001b[0me\u001b[0m\u001b[1;33m:\u001b[0m\u001b[1;33m\u001b[0m\u001b[1;33m\u001b[0m\u001b[0m\n",
      "\u001b[1;31mConnectionError\u001b[0m: HTTPConnectionPool(host='127.0.01', port=5000): Max retries exceeded with url: /aapl=stock/apple/cash-and-cash-equivalents (Caused by NewConnectionError('<urllib3.connection.HTTPConnection object at 0x0000020480EFD550>: Failed to establish a new connection: [Errno 11001] getaddrinfo failed'))"
     ]
    }
   ],
   "source": [
    "from pypac import PACSession\n",
    "session = PACSession()\n",
    "# session.get('https://127.0.0.1/aapl=stock/apple/cash-and-cash-equival\n",
    "session.get(\"http://127.0.01:5000/aapl=stock/apple/cash-and-cash-equivalents\")\n",
    "# <Response [200]>"
   ]
  },
  {
   "cell_type": "code",
   "execution_count": null,
   "metadata": {},
   "outputs": [],
   "source": [
    "from pypac import PACSession\n",
    "session = PACSession()\n",
    "session.get('https://127.0.0/aapl=stock/apple/cash-and-cash-equivalents')\n",
    "# <Response [200]>"
   ]
  },
  {
   "cell_type": "code",
   "execution_count": null,
   "metadata": {},
   "outputs": [],
   "source": [
    "from requests_testadapter import Resp\n",
    "\n",
    "class LocalFileAdapter(requests.adapters.HTTPAdapter):\n",
    "    def build_response_from_file(self, request):\n",
    "        file_path = request.url[7:]\n",
    "        with open(file_path, 'rb') as file:\n",
    "            buff = bytearray(os.path.getsize(file_path))\n",
    "            file.readinto(buff)\n",
    "            resp = Resp(buff)\n",
    "            r = self.build_response(request, resp)\n",
    "\n",
    "            return r\n",
    "\n",
    "    def send(self, request, stream=False, timeout=None,\n",
    "             verify=True, cert=None, proxies=None):\n",
    "\n",
    "        return self.build_response_from_file(request)\n",
    "\n",
    "requests_session = requests.session()\n",
    "requests_session.mount('file://', LocalFileAdapter())\n",
    "requests_session.get('file://<some_local_path>')"
   ]
  },
  {
   "cell_type": "code",
   "execution_count": 12,
   "metadata": {
    "ExecuteTime": {
     "end_time": "2020-12-14T17:52:00.712838Z",
     "start_time": "2020-12-14T17:52:00.350830Z"
    }
   },
   "outputs": [
    {
     "ename": "ValueError",
     "evalue": "Length mismatch: Expected axis has 41 elements, new values have 42 elements",
     "output_type": "error",
     "traceback": [
      "\u001b[1;31m---------------------------------------------------------------------------\u001b[0m",
      "\u001b[1;31mValueError\u001b[0m                                Traceback (most recent call last)",
      "\u001b[1;32m<ipython-input-12-2fd90cd1ba6f>\u001b[0m in \u001b[0;36m<module>\u001b[1;34m\u001b[0m\n\u001b[0;32m     11\u001b[0m \u001b[1;31m# bug (?) - Symbol & Accepted Date not removed\u001b[0m\u001b[1;33m\u001b[0m\u001b[1;33m\u001b[0m\u001b[1;33m\u001b[0m\u001b[0m\n\u001b[0;32m     12\u001b[0m \u001b[0mtitles_bs\u001b[0m\u001b[1;33m.\u001b[0m\u001b[0mappend\u001b[0m\u001b[1;33m(\u001b[0m\u001b[1;34m'Quarter & Year'\u001b[0m\u001b[1;33m)\u001b[0m\u001b[1;33m\u001b[0m\u001b[1;33m\u001b[0m\u001b[0m\n\u001b[1;32m---> 13\u001b[1;33m \u001b[0mdf_fin_statement\u001b[0m\u001b[1;33m.\u001b[0m\u001b[0mcolumns\u001b[0m \u001b[1;33m=\u001b[0m \u001b[0mtitles_bs\u001b[0m\u001b[1;33m\u001b[0m\u001b[1;33m\u001b[0m\u001b[0m\n\u001b[0m\u001b[0;32m     14\u001b[0m \u001b[1;33m\u001b[0m\u001b[0m\n\u001b[0;32m     15\u001b[0m \u001b[1;33m\u001b[0m\u001b[0m\n",
      "\u001b[1;32m~\\quantconnect\\lib\\site-packages\\pandas\\core\\generic.py\u001b[0m in \u001b[0;36m__setattr__\u001b[1;34m(self, name, value)\u001b[0m\n\u001b[0;32m   5150\u001b[0m         \u001b[1;32mtry\u001b[0m\u001b[1;33m:\u001b[0m\u001b[1;33m\u001b[0m\u001b[1;33m\u001b[0m\u001b[0m\n\u001b[0;32m   5151\u001b[0m             \u001b[0mobject\u001b[0m\u001b[1;33m.\u001b[0m\u001b[0m__getattribute__\u001b[0m\u001b[1;33m(\u001b[0m\u001b[0mself\u001b[0m\u001b[1;33m,\u001b[0m \u001b[0mname\u001b[0m\u001b[1;33m)\u001b[0m\u001b[1;33m\u001b[0m\u001b[1;33m\u001b[0m\u001b[0m\n\u001b[1;32m-> 5152\u001b[1;33m             \u001b[1;32mreturn\u001b[0m \u001b[0mobject\u001b[0m\u001b[1;33m.\u001b[0m\u001b[0m__setattr__\u001b[0m\u001b[1;33m(\u001b[0m\u001b[0mself\u001b[0m\u001b[1;33m,\u001b[0m \u001b[0mname\u001b[0m\u001b[1;33m,\u001b[0m \u001b[0mvalue\u001b[0m\u001b[1;33m)\u001b[0m\u001b[1;33m\u001b[0m\u001b[1;33m\u001b[0m\u001b[0m\n\u001b[0m\u001b[0;32m   5153\u001b[0m         \u001b[1;32mexcept\u001b[0m \u001b[0mAttributeError\u001b[0m\u001b[1;33m:\u001b[0m\u001b[1;33m\u001b[0m\u001b[1;33m\u001b[0m\u001b[0m\n\u001b[0;32m   5154\u001b[0m             \u001b[1;32mpass\u001b[0m\u001b[1;33m\u001b[0m\u001b[1;33m\u001b[0m\u001b[0m\n",
      "\u001b[1;32mpandas\\_libs\\properties.pyx\u001b[0m in \u001b[0;36mpandas._libs.properties.AxisProperty.__set__\u001b[1;34m()\u001b[0m\n",
      "\u001b[1;32m~\\quantconnect\\lib\\site-packages\\pandas\\core\\generic.py\u001b[0m in \u001b[0;36m_set_axis\u001b[1;34m(self, axis, labels)\u001b[0m\n\u001b[0;32m    562\u001b[0m     \u001b[1;32mdef\u001b[0m \u001b[0m_set_axis\u001b[0m\u001b[1;33m(\u001b[0m\u001b[0mself\u001b[0m\u001b[1;33m,\u001b[0m \u001b[0maxis\u001b[0m\u001b[1;33m:\u001b[0m \u001b[0mint\u001b[0m\u001b[1;33m,\u001b[0m \u001b[0mlabels\u001b[0m\u001b[1;33m:\u001b[0m \u001b[0mIndex\u001b[0m\u001b[1;33m)\u001b[0m \u001b[1;33m->\u001b[0m \u001b[1;32mNone\u001b[0m\u001b[1;33m:\u001b[0m\u001b[1;33m\u001b[0m\u001b[1;33m\u001b[0m\u001b[0m\n\u001b[0;32m    563\u001b[0m         \u001b[0mlabels\u001b[0m \u001b[1;33m=\u001b[0m \u001b[0mensure_index\u001b[0m\u001b[1;33m(\u001b[0m\u001b[0mlabels\u001b[0m\u001b[1;33m)\u001b[0m\u001b[1;33m\u001b[0m\u001b[1;33m\u001b[0m\u001b[0m\n\u001b[1;32m--> 564\u001b[1;33m         \u001b[0mself\u001b[0m\u001b[1;33m.\u001b[0m\u001b[0m_mgr\u001b[0m\u001b[1;33m.\u001b[0m\u001b[0mset_axis\u001b[0m\u001b[1;33m(\u001b[0m\u001b[0maxis\u001b[0m\u001b[1;33m,\u001b[0m \u001b[0mlabels\u001b[0m\u001b[1;33m)\u001b[0m\u001b[1;33m\u001b[0m\u001b[1;33m\u001b[0m\u001b[0m\n\u001b[0m\u001b[0;32m    565\u001b[0m         \u001b[0mself\u001b[0m\u001b[1;33m.\u001b[0m\u001b[0m_clear_item_cache\u001b[0m\u001b[1;33m(\u001b[0m\u001b[1;33m)\u001b[0m\u001b[1;33m\u001b[0m\u001b[1;33m\u001b[0m\u001b[0m\n\u001b[0;32m    566\u001b[0m \u001b[1;33m\u001b[0m\u001b[0m\n",
      "\u001b[1;32m~\\quantconnect\\lib\\site-packages\\pandas\\core\\internals\\managers.py\u001b[0m in \u001b[0;36mset_axis\u001b[1;34m(self, axis, new_labels)\u001b[0m\n\u001b[0;32m    224\u001b[0m \u001b[1;33m\u001b[0m\u001b[0m\n\u001b[0;32m    225\u001b[0m         \u001b[1;32mif\u001b[0m \u001b[0mnew_len\u001b[0m \u001b[1;33m!=\u001b[0m \u001b[0mold_len\u001b[0m\u001b[1;33m:\u001b[0m\u001b[1;33m\u001b[0m\u001b[1;33m\u001b[0m\u001b[0m\n\u001b[1;32m--> 226\u001b[1;33m             raise ValueError(\n\u001b[0m\u001b[0;32m    227\u001b[0m                 \u001b[1;34mf\"Length mismatch: Expected axis has {old_len} elements, new \"\u001b[0m\u001b[1;33m\u001b[0m\u001b[1;33m\u001b[0m\u001b[0m\n\u001b[0;32m    228\u001b[0m                 \u001b[1;34mf\"values have {new_len} elements\"\u001b[0m\u001b[1;33m\u001b[0m\u001b[1;33m\u001b[0m\u001b[0m\n",
      "\u001b[1;31mValueError\u001b[0m: Length mismatch: Expected axis has 41 elements, new values have 42 elements"
     ]
    }
   ],
   "source": [
    "\n",
    "\n",
    "\n",
    "\n",
    "\n",
    "\n",
    "\n",
    "\n",
    "df_fin_statement = df_fin_statement[cols]\n",
    "\n",
    "df_fin_statement.index = df_fin_statement['Quarter & Year']\n",
    "\n",
    "million = 1000000\n",
    "billion = 1000000000\n",
    "fin_metric_history = df_fin_statement['{}'.format(fin_metric_title)]\n",
    "if list(fin_metric_history)[0]  > billion:\n",
    "    df_fin_statement['{}'.format(fin_metric_title)] = (fin_metric_history/billion).round(decimals=2)\n",
    "\n",
    "\n",
    "elif list(fin_metric_history)[0]  > million:\n",
    "    df_fin_statement['{}'.format(fin_metric_title)] = (fin_metric_history/million).round(decimals=2)\n",
    "\n",
    "    pass\n",
    "else:\n",
    "    pass\n",
    "\n",
    "df_pct_chg = df_fin_statement\n",
    "pct_chg_cols = (df_fin_statement.select_dtypes(include=['number']).pct_change(-1))\n",
    "df_pct_chg_str = df_pct_chg.drop(list(pct_chg_cols), axis=1)\n",
    "df_pct_chg = df_pct_chg_str.join(pct_chg_cols)[list(df_fin_statement)]\n",
    "\n",
    "pd.set_option('display.float_format', '{:.2f}'.format)\n",
    "df_pct_chg_t = df_pct_chg.transpose()\n",
    "df_pct_chg_t.columns = list(df_pct_chg['Quarter & Year'])\n",
    "df_pct_chg_t = df_pct_chg_t.iloc[1:]\n",
    "\n",
    "df_pct_chg_t = df_pct_chg.transpose()\n",
    "df_pct_chg_t.columns = list(df_pct_chg['Quarter & Year'])\n",
    "df_pct_chg_t = df_pct_chg_t.iloc[1:]\n",
    "df_pct_chg_t['']=df_pct_chg_t.index\n",
    "df_pct_chg_t.index = range(len(df_pct_chg_t))\n",
    "\n",
    "cols = list(df_pct_chg_t.columns)\n",
    "cols = [cols[-1]] + cols[:-1]\n",
    "df_pct_chg_t = df_pct_chg_t[cols]\n",
    "\n",
    "\n",
    "df_t = df_fin_statement.transpose()\n",
    "df_t.columns = list(df_fin_statement['Quarter & Year'])\n",
    "df_t = df_t.iloc[1:]\n",
    "df_t['']=df_t.index\n",
    "df_t.index = range(len(df_t))\n",
    "\n",
    "cols = list(df_t.columns)\n",
    "cols = [cols[-1]] + cols[:-1]\n",
    "df_t = df_t[cols]\n",
    "#endregion\n",
    "\n",
    "df_pct = df_pct_chg_t.to_html().replace('<table','<table class=\"df_tableBoot\" id=\"df_myTable1\"')# dt-responsive\" id=\"df_myTable\"')\n",
    "\n",
    "df_t = df_t[df_t.columns[::-1]]\n",
    "cols = list(df_t.columns)\n",
    "cols = [cols[-1]] + cols[:-1]\n",
    "df_t = df_t[cols]\n",
    "\n",
    "\n",
    "def isnumber(x):\n",
    "    try:\n",
    "        float(x)\n",
    "        return True\n",
    "    except:\n",
    "        return False\n",
    "df_n = df_fin_statement[df_fin_statement.applymap(isnumber)]\n",
    "df_n[df_n < 2] = np.nan\n",
    "df_n_sum = pd.DataFrame(df_n.sum())\n",
    "df_n_sum[df_n_sum == 0] = \"\"\n",
    "new_header = df_n_sum.iloc[0] #grab the first row for the header\n",
    "df_n_sum = df_n_sum[1:] #take the data less the header row\n",
    "df_n_sum.columns = new_header #set the header row as the df header\n",
    "df_n_sum.index = range(len(df_n_sum))\n",
    "df_t = pd.merge(df_n_sum, df_t, left_index=True, right_index=True,suffixes=('Total: {} - {}'.format(latest_year,earliest_year), 'Line Items'))\n",
    "df_t = df_t[0:25]\n",
    "\n",
    "\n",
    "\n",
    "col_list = []\n",
    "n=0\n",
    "while n<len(list(df_t))-0:\n",
    "    if n<6:\n",
    "            col_item = '<col id=\"col_item_{}\" class=\"col_item_class first_7_col\">'.format(n)\n",
    "    else:\n",
    "        col_item = '<col id=\"col_item_{}\" class=\"col_item_class\">'.format(n)\n",
    "    col_list.append(col_item)\n",
    "    n+=1\n",
    "col_list_str = ''.join(map(str, col_list))\n",
    "df_html = df_t.to_html().replace('border=\"1\" class=\"dataframe\">','class=\"df_tableBoot\" id=\"df_myTable\" border=\"1\" class=\"dataframe\"><colgroup>{}</colgroup>'.format(col_list_str))\n",
    "# df_table_html = df_fin_statement[['{}'.format(fin_metric_title)]].iloc[::-1].transpose().to_html()#.replace(\"\\n\",\"\")\n",
    "df_tall = df.iloc[::-1]\n",
    "# df_tall.index = df['Quarter & Year']\n",
    "# df_tall = df.index.shift(-1)\n",
    "# df_tall = df_tall.reset_index()\n",
    "df_html_tall = df_tall[['{}'.format('Quarter & Year'),'{}'.format(fin_metric_name)]].to_html(index=False)\n",
    "df_html_tall = df_html_tall.replace('border=\"1\" class=\"dataframe\">','class=\"abc\" id=\"df_myTable\" border=\"1\" class=\"dataframe\">')#.replace(\"'\",\"\")\n",
    "# df_html_tall = df_html_tall.replace(\"\\n\",\"\")\n",
    "df_html_tall = df_html_tall.replace(\"\\n\",\"\")\n",
    "df_html_tall = df_html_tall.replace(\"{}\".format(\"[\"),\"\")\n",
    "df_html_tall = df_html_tall #render_template_string(df_html_tall)\n",
    "df_html = df_html.replace('<td>','<td class=\"td_fin_statement_class fin_statement_class\">')\n",
    "df_html = df_html.replace('<th>','<th class=\"th_fin_statement_class fin_statement_class\">')\n",
    "df_html = df_html.replace('<tr>','<tr class=\"tr_fin_statement_class fin_statement_class\">')\n",
    "#  df_html_tall = df_html_tall.replace(\"\\n\",\"\")\n",
    "# df_html_tall.replace(\"\\n\",'\">')\n",
    "df_html_tall = df_html_tall.replace('<td>','<td class=\"td_fin_statement_class fin_statement_class\">')\n",
    "df_html_tall = df_html_tall.replace('<th>','<th class=\"th_fin_statement_class fin_statement_class\">')\n",
    "df_html_tall = df_html_tall.replace('<tr>','<tr class=\"tr_fin_statement_class fin_statement_class\">')\n",
    "df_html_tall = df_html_tall[0:]\n",
    "\n",
    "df = df[['date',\"{}\".format(fin_metric_name)]].dropna() #.fillna(0)#.fillna(method='bfill')\n",
    "df['date'] = pd.to_datetime(df['date']).values.astype(np.int64) // 10 ** 6\n",
    "full_path = csv_file.split(' ~ ')\n",
    "path = pathlib.PurePath(full_path[0])\n",
    "print(\"Nothing took {} seconds\".format(time.time() - start_time))\n",
    "total_seconds = ((time.time() - start_time))\n",
    "\n",
    "labels = [\n",
    "    'JAN', 'FEB', 'MAR', 'APR',\n",
    "    'MAY', 'JUN', 'JUL', 'AUG',\n",
    "    'SEP', 'OCT', 'NOV', 'DEC'\n",
    "]\n",
    "labels = list(df['date'])#[0:19]\n",
    "\n",
    "values = [\n",
    "    967.67, 1190.89, 1079.75, 1349.19,\n",
    "    2328.91, 2504.28, 2873.83, 4764.87,\n",
    "    4349.29, 6458.30, 9907, 16297\n",
    "]\n",
    "\n",
    "values = list(df[\"{}\".format(fin_metric_name)])#[0:19]\n",
    "\n",
    "colors = [\n",
    "    \"#F7464A\", \"#46BFBD\", \"#FDB45C\", \"#FEDCBA\",\n",
    "    \"#ABCDEF\", \"#DDDDDD\", \"#ABCABC\", \"#4169E1\",\n",
    "    \"#C71585\", \"#FF4500\", \"#FEDCBA\", \"#46BFBD\"]\n",
    "df_table_html = df_tall[['{}'.format(fin_metric_name)]].iloc[::-1].transpose().to_html()#.replace(\"\\n\",\"\")\n",
    "present_num = magnitude_num(int(latest_metric),currency_symbol)\n",
    "latest_num = \"${}\".format(df[\"{}\".format(fin_metric_name)][0])\n",
    "\n",
    "return render_template('current_ratio.html', company_symbol = profiles_dict['symbol'],\\\n",
    "                        company_long_name = profiles_dict['long name'],\\\n",
    "                        company_currency = profiles_dict['currency'],\\\n",
    "                        company_exchange = profiles_dict['exchange'],\\\n",
    "                        company_industry = profiles_dict['industry'],\\\n",
    "                        company_description = profiles_dict['description'],\\\n",
    "                        company_sector = profiles_dict['sector'],\\\n",
    "                        company_country = profiles_dict['country'],\\\n",
    "                        company_ipo_date = profiles_dict['ipo date'],\\\n",
    "                        company_short_name = profiles_dict['short name'],\\\n",
    "                        first_num = first_num,\\\n",
    "                        latest_num = latest_num,\\\n",
    "                        historical_pct_chg = historical_pct_chg,\\\n",
    "                        lifetime_sum_all_metric = lifetime_sum_all_metric,\\\n",
    "                        mean_str = mean_str,\\\n",
    "                        max_str = max_str,\\\n",
    "                        min_str = min_str,\\\n",
    "                        std_dev_str = std_dev_str,\\\n",
    "                        bottom_25_str = bottom_25_str,\\\n",
    "                        top_25_str = top_25_str,\\\n",
    "                        earliest_year = earliest_year,\\\n",
    "                        latest_year = latest_year,\\\n",
    "                        earliest_metric = earliest_metric,\\\n",
    "                        latest_metric = latest_metric,\\\n",
    "                        max_min_pct_diff_str = max_min_pct_diff_str, df_bs_table_html = [df_table_html],df_html_tall = [df_html_tall],fin_metric_name = fin_metric_title,\\\n",
    "                        df_date = df['date'].to_list(), df_rev = df[\"{}\".format(fin_metric_name)].to_list(),\\\n",
    "                        df_json  =df.to_numpy().tolist(),\\\n",
    "                        table_pct = [df_pct],\\\n",
    "                        tables=[df_html],\\\n",
    "                        titles=df.columns.values,\\\n",
    "                        total_time=total_seconds,\\\n",
    "                        place_name=url_symbol,\\\n",
    "                        max=17000,\\\n",
    "                        labels=labels,\\\n",
    "                        values=values)\n"
   ]
  },
  {
   "cell_type": "code",
   "execution_count": null,
   "metadata": {},
   "outputs": [],
   "source": []
  }
 ],
 "metadata": {
  "kernelspec": {
   "display_name": "quantconnect",
   "language": "python",
   "name": "quantconnect"
  },
  "language_info": {
   "codemirror_mode": {
    "name": "ipython",
    "version": 3
   },
   "file_extension": ".py",
   "mimetype": "text/x-python",
   "name": "python",
   "nbconvert_exporter": "python",
   "pygments_lexer": "ipython3",
   "version": "3.9.0"
  },
  "toc": {
   "base_numbering": 1,
   "nav_menu": {},
   "number_sections": true,
   "sideBar": true,
   "skip_h1_title": false,
   "title_cell": "Table of Contents",
   "title_sidebar": "Contents",
   "toc_cell": false,
   "toc_position": {},
   "toc_section_display": true,
   "toc_window_display": false
  },
  "varInspector": {
   "cols": {
    "lenName": 16,
    "lenType": 16,
    "lenVar": 40
   },
   "kernels_config": {
    "python": {
     "delete_cmd_postfix": "",
     "delete_cmd_prefix": "del ",
     "library": "var_list.py",
     "varRefreshCmd": "print(var_dic_list())"
    },
    "r": {
     "delete_cmd_postfix": ") ",
     "delete_cmd_prefix": "rm(",
     "library": "var_list.r",
     "varRefreshCmd": "cat(var_dic_list()) "
    }
   },
   "position": {
    "height": "975px",
    "left": "932px",
    "right": "20px",
    "top": "48px",
    "width": "572px"
   },
   "types_to_exclude": [
    "module",
    "function",
    "builtin_function_or_method",
    "instance",
    "_Feature"
   ],
   "window_display": false
  }
 },
 "nbformat": 4,
 "nbformat_minor": 4
}
