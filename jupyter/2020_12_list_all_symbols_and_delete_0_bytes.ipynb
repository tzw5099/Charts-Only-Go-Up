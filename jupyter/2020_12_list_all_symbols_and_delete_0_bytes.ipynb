{
 "cells": [
  {
   "cell_type": "code",
   "execution_count": 1,
   "metadata": {
    "ExecuteTime": {
     "end_time": "2020-12-13T16:45:57.462081Z",
     "start_time": "2020-12-13T16:45:56.521561Z"
    },
    "run_control": {
     "marked": false
    }
   },
   "outputs": [],
   "source": [
    "import glob\n",
    "import pandas as pd\n",
    "import os\n",
    "\n",
    "# files = glob.glob(\"../US-East/Wall Street Consensus/*/*/grade*.csv\")\n",
    "# df = pd.concat([pd.read_csv(f) for f in files])\n",
    "\n",
    "company_profiles = pd.read_csv(\"../reference_Data/Company_Profiles.csv\")#, encoding='cp1252')\n",
    "# company_profiles = company_profiles[['symbol','sector']]#,'exchangeShortName']]\n",
    "# company_profiles = company_profiles[['symbol','companyName','sector','industry','exchangeShortName']]"
   ]
  },
  {
   "cell_type": "code",
   "execution_count": null,
   "metadata": {},
   "outputs": [],
   "source": []
  },
  {
   "cell_type": "code",
   "execution_count": 2,
   "metadata": {
    "ExecuteTime": {
     "end_time": "2020-12-13T16:45:59.305624Z",
     "start_time": "2020-12-13T16:45:59.264625Z"
    }
   },
   "outputs": [],
   "source": [
    "symbol=\"AAPL\"\n",
    "csv_file = glob.glob(\"../Charts_TenDollarData/financial_statements/data/Historical Financial Statements/*/year/Balance Sheet/*~{}~*\".format(symbol))[-1] #.format(\"NLOK\"))[-1]\n",
    "        # csv_file = glob.glob(\"data\\Historical Financial Statements\\*\\year\\{}\\*_{}_*\".format(self.subject,self.symbol))[-1] #.format(\"NLOK\"))[-1]\n",
    "df = pd.read_csv(csv_file)"
   ]
  },
  {
   "cell_type": "code",
   "execution_count": 3,
   "metadata": {
    "ExecuteTime": {
     "end_time": "2020-12-13T16:45:59.726629Z",
     "start_time": "2020-12-13T16:45:59.629625Z"
    }
   },
   "outputs": [
    {
     "data": {
      "text/plain": [
       "['AAU',\n",
       " 'AA',\n",
       " 'ABX.TO',\n",
       " 'ACET',\n",
       " 'ACH',\n",
       " 'ADN.TO',\n",
       " 'AEM.TO',\n",
       " 'AEM',\n",
       " 'AGI.TO',\n",
       " 'AGI',\n",
       " 'AG',\n",
       " 'AHGP',\n",
       " 'AI.PA',\n",
       " 'AKE.PA',\n",
       " 'AKS',\n",
       " 'AKZA.AS',\n",
       " 'ALAMG.PA',\n",
       " 'ALBKK.PA',\n",
       " 'ALB',\n",
       " 'ALCOG.PA',\n",
       " 'ALCOI.PA',\n",
       " 'ALCRB.PA',\n",
       " 'ALDUB.PA',\n",
       " 'ALEO2.PA',\n",
       " 'ALGLD.PA',\n",
       " 'ALHRG.PA',\n",
       " 'ALMOU.PA',\n",
       " 'ALO',\n",
       " 'ALS.TO',\n",
       " 'ALTR.LS',\n",
       " 'AMEBA.PA',\n",
       " 'AMG.AS',\n",
       " 'AMM.TO',\n",
       " 'AMRS',\n",
       " 'ANX.TO',\n",
       " 'APAM.AS',\n",
       " 'APA',\n",
       " 'APD',\n",
       " 'APY.TO',\n",
       " 'AQA.TO',\n",
       " 'AR.TO',\n",
       " 'ARG.TO',\n",
       " 'ASH',\n",
       " 'ASIX',\n",
       " 'ASM',\n",
       " 'ASR.TO',\n",
       " 'AUG.TO',\n",
       " 'AUG',\n",
       " 'AUMN',\n",
       " 'AUY',\n",
       " 'AU',\n",
       " 'AVD',\n",
       " 'AVL.TO',\n",
       " 'AVTR',\n",
       " 'AVTX.AS',\n",
       " 'AXS.AS',\n",
       " 'AXTA',\n",
       " 'AXU',\n",
       " 'AYM.TO',\n",
       " 'BAK',\n",
       " 'BBL',\n",
       " 'BCC',\n",
       " 'BCPC',\n",
       " 'BHP',\n",
       " 'BIOX',\n",
       " 'BKI.TO',\n",
       " 'BOS.TO',\n",
       " 'BSX.TO',\n",
       " 'BTG',\n",
       " 'BTO.TO',\n",
       " 'BVN',\n",
       " 'CADC',\n",
       " 'CAL.TO',\n",
       " 'CAS.TO',\n",
       " 'CBPX',\n",
       " 'CBT',\n",
       " 'CCF',\n",
       " 'CCM.TO',\n",
       " 'CC',\n",
       " 'CDE',\n",
       " 'CEE.TO',\n",
       " 'CENX',\n",
       " 'CE',\n",
       " 'CFF.TO',\n",
       " 'CFP.TO',\n",
       " 'CFX.TO',\n",
       " 'CF',\n",
       " 'CG.TO',\n",
       " 'CGA',\n",
       " 'CGG.TO',\n",
       " 'CHNR',\n",
       " 'CIA.TO',\n",
       " 'CINR',\n",
       " 'CLF',\n",
       " 'CLW',\n",
       " 'CMC',\n",
       " 'CMP',\n",
       " 'CMT',\n",
       " 'CNT.TO',\n",
       " 'COR.LS',\n",
       " 'CPAC',\n",
       " 'CRBN.AS',\n",
       " 'CRH',\n",
       " 'CS.TO',\n",
       " 'CSTE',\n",
       " 'CSTM',\n",
       " 'CTVA',\n",
       " 'CWX.TO',\n",
       " 'CX',\n",
       " 'DD',\n",
       " 'DNG.TO',\n",
       " 'DNT.TO',\n",
       " 'DOW',\n",
       " 'DPM.TO',\n",
       " 'DRD',\n",
       " 'DSM.AS',\n",
       " 'ECL',\n",
       " 'ECO.TO',\n",
       " 'EDR.TO',\n",
       " 'EDV.TO',\n",
       " 'EGO',\n",
       " 'ELD.TO',\n",
       " 'ELR.TO',\n",
       " 'EMN',\n",
       " 'EMX',\n",
       " 'ENGB.BR',\n",
       " 'EOX.TO',\n",
       " 'EQX',\n",
       " 'ER.TO',\n",
       " 'ERA.PA',\n",
       " 'ERD.TO',\n",
       " 'ESI',\n",
       " 'ESM.TO',\n",
       " 'ETG.TO',\n",
       " 'EUR.PA',\n",
       " 'EVA',\n",
       " 'EXAC.PA',\n",
       " 'EXK',\n",
       " 'EXN.TO',\n",
       " 'EXPL.PA',\n",
       " 'EXP',\n",
       " 'FAR.TO',\n",
       " 'FCX',\n",
       " 'FELP',\n",
       " 'FF',\n",
       " 'FM.TO',\n",
       " 'FMC',\n",
       " 'FNV.TO',\n",
       " 'FNV',\n",
       " 'FOE',\n",
       " 'FR.TO',\n",
       " 'FRD',\n",
       " 'FSI',\n",
       " 'FSM',\n",
       " 'FSY.TO',\n",
       " 'FT.TO',\n",
       " 'FUL',\n",
       " 'FVI.TO',\n",
       " 'FVL.TO',\n",
       " 'GAU',\n",
       " 'GCM.TO',\n",
       " 'GCP',\n",
       " 'GDL.TO',\n",
       " 'GEO.TO',\n",
       " 'GEVO',\n",
       " 'GFI',\n",
       " 'GGA.TO',\n",
       " 'GGB',\n",
       " 'GGD.TO',\n",
       " 'GLT',\n",
       " 'GMO.TO',\n",
       " 'GMO',\n",
       " 'GMX.TO',\n",
       " 'GOLD',\n",
       " 'GORO',\n",
       " 'GPL',\n",
       " 'GPR.TO',\n",
       " 'GPRE',\n",
       " 'GRA',\n",
       " 'GRVO.PA',\n",
       " 'GSC.TO',\n",
       " 'GSM',\n",
       " 'GSS',\n",
       " 'GSV',\n",
       " 'GURE',\n",
       " 'GUY.TO',\n",
       " 'HBM.TO',\n",
       " 'HBM',\n",
       " 'HCC',\n",
       " 'HDSN',\n",
       " 'HHT',\n",
       " 'HL',\n",
       " 'HMY',\n",
       " 'HOLCO.AS',\n",
       " 'HRT.TO',\n",
       " 'HUN',\n",
       " 'HWKN',\n",
       " 'HYMC',\n",
       " 'HZM.TO',\n",
       " 'IAG',\n",
       " 'ICL',\n",
       " 'IFF.PA',\n",
       " 'IFF',\n",
       " 'IFP.TO',\n",
       " 'III.TO',\n",
       " 'IKNX',\n",
       " 'IMCD.AS',\n",
       " 'IMG.TO',\n",
       " 'INA.LS',\n",
       " 'INV.TO',\n",
       " 'IOSP',\n",
       " 'IPHS',\n",
       " 'IPI',\n",
       " 'ITH.TO',\n",
       " 'ITP',\n",
       " 'IVN.TO',\n",
       " 'JAG.TO',\n",
       " 'JCQ.PA',\n",
       " 'JCTCF',\n",
       " 'JHX',\n",
       " 'K.TO',\n",
       " 'KALU',\n",
       " 'KER.TO',\n",
       " 'KGC',\n",
       " 'KLDX',\n",
       " 'KL',\n",
       " 'KMG',\n",
       " 'KOP',\n",
       " 'KOR.TO',\n",
       " 'KRA',\n",
       " 'KRN.TO',\n",
       " 'KRO',\n",
       " 'KS',\n",
       " 'KWR',\n",
       " 'LAC.TO',\n",
       " 'LAC',\n",
       " 'LAM.TO',\n",
       " 'LGO.TO',\n",
       " 'LHN.PA',\n",
       " 'LIF.TO',\n",
       " 'LIN',\n",
       " 'LN.TO',\n",
       " 'LOMA',\n",
       " 'LOOP',\n",
       " 'LTHM',\n",
       " 'LUC.TO',\n",
       " 'LUG.TO',\n",
       " 'LUN.TO',\n",
       " 'LXU',\n",
       " 'LYB',\n",
       " 'MAG.TO',\n",
       " 'MAG',\n",
       " 'MAW.TO',\n",
       " 'MAX.TO',\n",
       " 'MBII',\n",
       " 'MDI.TO',\n",
       " 'MDU',\n",
       " 'ME.TO',\n",
       " 'MEOH',\n",
       " 'MERC',\n",
       " 'METC',\n",
       " 'METEX.PA',\n",
       " 'MKD',\n",
       " 'MLBAT.PA',\n",
       " 'MLDYN.PA',\n",
       " 'MLM',\n",
       " 'MLOLM.PA',\n",
       " 'MLPFX.PA',\n",
       " 'MLZAM.PA',\n",
       " 'MMX',\n",
       " 'MND.TO',\n",
       " 'MON',\n",
       " 'MOS',\n",
       " 'MOZ.TO',\n",
       " 'MPVDF',\n",
       " 'MSV.TO',\n",
       " 'MT.AS',\n",
       " 'MTA',\n",
       " 'MTL',\n",
       " 'MTRN',\n",
       " 'MTX',\n",
       " 'MT',\n",
       " 'MUX.TO',\n",
       " 'MUX',\n",
       " 'MX.TO',\n",
       " 'NAK',\n",
       " 'NB.TO',\n",
       " 'NCF.TO',\n",
       " 'NCU.TO',\n",
       " 'NDM.TO',\n",
       " 'NEM',\n",
       " 'NEU',\n",
       " 'NEXA',\n",
       " 'NG.TO',\n",
       " 'NGD.TO',\n",
       " 'NGD',\n",
       " 'NGVT',\n",
       " 'NG',\n",
       " 'NK.PA',\n",
       " 'NML.TO',\n",
       " 'NPK.TO',\n",
       " 'NP',\n",
       " 'NTIC',\n",
       " 'NTR.TO',\n",
       " 'NTR',\n",
       " 'NUE',\n",
       " 'NVG.LS',\n",
       " 'NYR.BR',\n",
       " 'OCI.AS',\n",
       " 'OCIP',\n",
       " 'ODC',\n",
       " 'OEC',\n",
       " 'OGC.TO',\n",
       " 'OGD.TO',\n",
       " 'OLN',\n",
       " 'OMI.TO',\n",
       " 'OMN',\n",
       " 'OR.TO',\n",
       " 'ORA.TO',\n",
       " 'ORAP.PA',\n",
       " 'ORL.TO',\n",
       " 'ORV.TO',\n",
       " 'OR',\n",
       " 'OSB.TO',\n",
       " 'OSB',\n",
       " 'OSK.TO',\n",
       " 'OSN',\n",
       " 'PAAS',\n",
       " 'PCA.PA',\n",
       " 'PG.TO',\n",
       " 'PGEM',\n",
       " 'PGLC',\n",
       " 'PKX',\n",
       " 'PLG',\n",
       " 'PLL',\n",
       " 'PLM',\n",
       " 'POL',\n",
       " 'POM.TO',\n",
       " 'POPE',\n",
       " 'PPG',\n",
       " 'PQG',\n",
       " 'PRU.TO',\n",
       " 'PTM.TO',\n",
       " 'PVG.TO',\n",
       " 'PVG',\n",
       " 'PX',\n",
       " 'PZG',\n",
       " 'RAM.LS',\n",
       " 'RBT.PA',\n",
       " 'REC.BR',\n",
       " 'RETO',\n",
       " 'RFP.TO',\n",
       " 'RFP',\n",
       " 'RGLD',\n",
       " 'RIO',\n",
       " 'RKDA',\n",
       " 'RPM',\n",
       " 'RS',\n",
       " 'RTG.TO',\n",
       " 'RX.PA',\n",
       " 'RYAM',\n",
       " 'S.TO',\n",
       " 'SAM.TO',\n",
       " 'SAND',\n",
       " 'SAU.TO',\n",
       " 'SA',\n",
       " 'SBB.TO',\n",
       " 'SBI.TO',\n",
       " 'SBR.TO',\n",
       " 'SBSW',\n",
       " 'SCCO',\n",
       " 'SCHD.BR',\n",
       " 'SCHN',\n",
       " 'SCL',\n",
       " 'SCY.TO',\n",
       " 'SEA.TO',\n",
       " 'SEED',\n",
       " 'SEM.LS',\n",
       " 'SES',\n",
       " 'SHLM',\n",
       " 'SHW',\n",
       " 'SID',\n",
       " 'SILV',\n",
       " 'SJ.TO',\n",
       " 'SLR.TO',\n",
       " 'SMC.TO',\n",
       " 'SMG',\n",
       " 'SMT.TO',\n",
       " 'SMTS',\n",
       " 'SNES',\n",
       " 'SNMX',\n",
       " 'SOLB.BR',\n",
       " 'SOLV.BR',\n",
       " 'SONI.LS',\n",
       " 'SQM',\n",
       " 'SSL.TO',\n",
       " 'SSRM',\n",
       " 'STAL.PA',\n",
       " 'STLD',\n",
       " 'SUM',\n",
       " 'SUZ',\n",
       " 'SVM.TO',\n",
       " 'SVM',\n",
       " 'SWM',\n",
       " 'SXCP',\n",
       " 'SXC',\n",
       " 'SXT',\n",
       " 'SYNL',\n",
       " 'TANH',\n",
       " 'TECK',\n",
       " 'TESB.BR',\n",
       " 'TGB',\n",
       " 'TGZ.TO',\n",
       " 'TG',\n",
       " 'THM',\n",
       " 'TITC.BR',\n",
       " 'TKO.TO',\n",
       " 'TLO.TO',\n",
       " 'TML.TO',\n",
       " 'TMQ.TO',\n",
       " 'TMQ',\n",
       " 'TMR.TO',\n",
       " 'TMST',\n",
       " 'TNH',\n",
       " 'TNX.TO',\n",
       " 'TREC',\n",
       " 'TROX',\n",
       " 'TRQ.TO',\n",
       " 'TRQ',\n",
       " 'TRX',\n",
       " 'TSE',\n",
       " 'TSL.TO',\n",
       " 'TV.TO',\n",
       " 'TXG.TO',\n",
       " 'TX',\n",
       " 'UAMY',\n",
       " 'UAN',\n",
       " 'UEX.TO',\n",
       " 'UFPI',\n",
       " 'UFS.TO',\n",
       " 'UFS',\n",
       " 'UNVR',\n",
       " 'USA.TO',\n",
       " 'USAP',\n",
       " 'USAS',\n",
       " 'USAU',\n",
       " 'USCR',\n",
       " 'USG',\n",
       " 'USLM',\n",
       " 'VALE',\n",
       " 'VCT.PA',\n",
       " 'VEDL',\n",
       " 'VGZ.TO',\n",
       " 'VGZ',\n",
       " 'VHI',\n",
       " 'VIO.BR',\n",
       " 'VK.PA',\n",
       " 'VMC',\n",
       " 'VNP.TO',\n",
       " 'VNTR',\n",
       " 'VRS',\n",
       " 'VSM',\n",
       " 'WDFC',\n",
       " 'WDO.TO',\n",
       " 'WEF.TO',\n",
       " 'WFT.TO',\n",
       " 'WLKP',\n",
       " 'WLK',\n",
       " 'WM.TO',\n",
       " 'WMLP',\n",
       " 'WOR',\n",
       " 'WPM',\n",
       " 'WRN.TO',\n",
       " 'WRN',\n",
       " 'WWR',\n",
       " 'XPL',\n",
       " 'XTG.TO',\n",
       " 'X',\n",
       " 'YECO',\n",
       " 'YRI.TO',\n",
       " 'YTEN',\n",
       " 'ZEUS',\n",
       " 'ZKIN',\n",
       " 'ADUX.PA',\n",
       " 'AESE',\n",
       " 'AHC',\n",
       " 'ALACT.PA',\n",
       " 'ALADM.PA',\n",
       " 'ALALO.PA',\n",
       " 'ALANT.PA',\n",
       " 'ALATF.PA',\n",
       " 'ALBDM.PA',\n",
       " 'ALBLD.PA',\n",
       " 'ALBUD.PA',\n",
       " 'ALDNE.PA',\n",
       " 'ALEMK.BR',\n",
       " 'ALENT.PA',\n",
       " 'ALFIL.PA',\n",
       " 'ALFOC.PA',\n",
       " 'ALINV.PA',\n",
       " 'ALKER.PA',\n",
       " 'ALLLN.PA',\n",
       " 'ALMAK.PA',\n",
       " 'ALMIL.PA',\n",
       " 'ALMNG.PA',\n",
       " 'ALNXT.PA',\n",
       " 'ALOSM.PA',\n",
       " 'ALP.PA',\n",
       " 'ALPBS.BR',\n",
       " 'ALPLA.PA',\n",
       " 'ALPRI.PA',\n",
       " 'ALREW.PA',\n",
       " 'ALSEI.PA',\n",
       " 'ALSK',\n",
       " 'ALTBG.PA',\n",
       " 'ALWIT.PA',\n",
       " 'AMCX',\n",
       " 'AMC',\n",
       " 'AMOV',\n",
       " 'AND.AS',\n",
       " 'ANGI',\n",
       " 'ANTE',\n",
       " 'ATA.PA',\n",
       " 'ATC.AS',\n",
       " 'ATEX',\n",
       " 'ATHM',\n",
       " 'ATNI',\n",
       " 'ATUS',\n",
       " 'ATVI',\n",
       " 'AUTO',\n",
       " 'AVID',\n",
       " 'BATRA',\n",
       " 'BBGI',\n",
       " 'BCE.TO',\n",
       " 'BCE',\n",
       " 'BCOM',\n",
       " 'BHAT',\n",
       " 'BIDU',\n",
       " 'BILI',\n",
       " 'BITA',\n",
       " 'BOL.PA',\n",
       " 'BOMN',\n",
       " 'BRILL.AS',\n",
       " 'CABO',\n",
       " 'CALL',\n",
       " 'CANG',\n",
       " 'CARG',\n",
       " 'CBB',\n",
       " 'CCA.TO',\n",
       " 'CCOI',\n",
       " 'CCO',\n",
       " 'CDLX',\n",
       " 'CEL',\n",
       " 'CFN.LS',\n",
       " 'CGO.TO',\n",
       " 'CGX.TO',\n",
       " 'CHA',\n",
       " 'CHTR',\n",
       " 'CHT',\n",
       " 'CHU',\n",
       " 'CIDM',\n",
       " 'CJR-B.TO',\n",
       " 'CMCSA',\n",
       " 'CMLS',\n",
       " 'CMPR',\n",
       " 'CNET',\n",
       " 'CNK',\n",
       " 'CNSL',\n",
       " 'CSSEP',\n",
       " 'CSSE',\n",
       " 'CTL',\n",
       " 'DAO',\n",
       " 'DEC.PA',\n",
       " 'DISCA',\n",
       " 'DISCB',\n",
       " 'DISCK',\n",
       " 'DISH',\n",
       " 'DJCO',\n",
       " 'DLB',\n",
       " 'DLPN',\n",
       " 'DLX',\n",
       " 'DOYU',\n",
       " 'EA',\n",
       " 'ECP.PA',\n",
       " 'EDUC',\n",
       " 'EEX',\n",
       " 'EMMS',\n",
       " 'ENT',\n",
       " 'EROS',\n",
       " 'ETM',\n",
       " 'EVC',\n",
       " 'EVER',\n",
       " 'FB',\n",
       " 'FENG',\n",
       " 'FLNT',\n",
       " 'FOXA',\n",
       " 'FOX',\n",
       " 'FSNN',\n",
       " 'FTRPR',\n",
       " 'FTR',\n",
       " 'FVRR',\n",
       " 'GAIA',\n",
       " 'GAM.PA',\n",
       " 'GCI',\n",
       " 'GCT.TO',\n",
       " 'GIGM',\n",
       " 'GLIBA',\n",
       " 'GLIBP',\n",
       " 'GLOW',\n",
       " 'GLUU',\n",
       " 'GNUS',\n",
       " 'GOGO',\n",
       " 'GOOGL',\n",
       " 'GOOG',\n",
       " 'GREV.PA',\n",
       " 'GRUB',\n",
       " 'GRVY',\n",
       " 'GSAT',\n",
       " 'GTN-A',\n",
       " 'GTN',\n",
       " 'GTT',\n",
       " 'GVC.TO',\n",
       " 'HCHC',\n",
       " 'HCO.PA',\n",
       " 'HCOM',\n",
       " 'HHS',\n",
       " 'HMTV',\n",
       " 'HOP.PA',\n",
       " 'HUYA',\n",
       " 'IAC',\n",
       " 'IAM.PA',\n",
       " 'ICLK',\n",
       " 'IDCC',\n",
       " 'IDT',\n",
       " 'IHRT',\n",
       " 'ILD.PA',\n",
       " 'IMAX',\n",
       " 'IMTE',\n",
       " 'INUV',\n",
       " 'INWK',\n",
       " 'IPAS',\n",
       " 'IPG',\n",
       " 'IPR.LS',\n",
       " 'IPS.PA',\n",
       " 'IQ',\n",
       " 'IRDMB',\n",
       " 'IRDM',\n",
       " 'ISIG',\n",
       " 'IZEA',\n",
       " 'JFIN',\n",
       " 'JW-A',\n",
       " 'JW-B',\n",
       " 'KIN.BR',\n",
       " 'KLR',\n",
       " 'KPN.AS',\n",
       " 'KRKR',\n",
       " 'KT',\n",
       " 'LBRDA',\n",
       " 'LBRDK',\n",
       " 'LBTYA',\n",
       " 'LBTYB',\n",
       " 'LBTYK',\n",
       " 'LEAF',\n",
       " 'LEE',\n",
       " 'LGF-A',\n",
       " 'LGF-B',\n",
       " 'LILAK',\n",
       " 'LILA',\n",
       " 'LIVX',\n",
       " 'LIZI',\n",
       " 'LKCO',\n",
       " 'LN',\n",
       " 'LOCAL.PA',\n",
       " 'LOV',\n",
       " 'LSXMA',\n",
       " 'LSXMB',\n",
       " 'LSXMK',\n",
       " 'LTRPA',\n",
       " 'LTRPB',\n",
       " 'LYV',\n",
       " 'MAGIS.PA',\n",
       " 'MARK',\n",
       " 'MBT',\n",
       " 'MCHX',\n",
       " 'MCP.LS',\n",
       " 'MCS',\n",
       " 'MDCA',\n",
       " 'MDF.TO',\n",
       " 'MDIA',\n",
       " 'MDP',\n",
       " 'MDW.PA',\n",
       " 'MEET',\n",
       " 'MLEDS.PA',\n",
       " 'MLHPE.PA',\n",
       " 'MLIML.PA',\n",
       " 'MLIMP.PA',\n",
       " 'MLNEO.PA',\n",
       " 'MLVST.PA',\n",
       " 'MLWEA.PA',\n",
       " 'MMT.PA',\n",
       " 'MOMO',\n",
       " 'MOXC',\n",
       " 'MSGE',\n",
       " 'MSGN',\n",
       " 'MSGS',\n",
       " 'MTCH',\n",
       " 'MTSL',\n",
       " 'NCMI',\n",
       " 'NCTY',\n",
       " 'NFLX',\n",
       " 'NIHD',\n",
       " 'NOS.LS',\n",
       " 'NRG.PA',\n",
       " 'NTES',\n",
       " 'NTN',\n",
       " 'NWSA',\n",
       " 'NWS',\n",
       " 'NXST',\n",
       " 'NYT',\n",
       " 'OBEL.BR',\n",
       " 'OMC',\n",
       " 'OOMA',\n",
       " 'ORA.PA',\n",
       " 'ORAN',\n",
       " 'ORBC',\n",
       " 'OTEL',\n",
       " 'PCOM',\n",
       " 'PERI',\n",
       " 'PHI',\n",
       " 'PHR.LS',\n",
       " 'PINS',\n",
       " 'PRC.PA',\n",
       " 'PROX.BR',\n",
       " 'PSO',\n",
       " 'PTNR',\n",
       " 'PTS.TO',\n",
       " 'PUB.PA',\n",
       " 'QNST',\n",
       " 'QTT',\n",
       " 'QUOT',\n",
       " 'RBBN',\n",
       " 'RCI',\n",
       " 'RDIB',\n",
       " 'RDI',\n",
       " 'RELX',\n",
       " 'REN.AS',\n",
       " 'RNWK',\n",
       " 'ROKU',\n",
       " 'ROU.BR',\n",
       " 'SALM',\n",
       " 'SBGI',\n",
       " 'SCHL',\n",
       " 'SCOR',\n",
       " 'SCPL',\n",
       " 'SESG.PA',\n",
       " 'SE',\n",
       " 'SGA',\n",
       " 'SHEN',\n",
       " 'SIFY',\n",
       " 'SINA',\n",
       " 'SIRI',\n",
       " 'SITO',\n",
       " 'SJR',\n",
       " 'SKM',\n",
       " 'SLGG',\n",
       " 'SNAP',\n",
       " 'SOGO',\n",
       " 'SOHU',\n",
       " 'SPI.PA',\n",
       " 'SPOK',\n",
       " 'SPOT',\n",
       " 'SRAX',\n",
       " 'SSP',\n",
       " 'SSTK',\n",
       " 'S',\n",
       " 'T.TO',\n",
       " 'TCH.PA',\n",
       " 'TC',\n",
       " 'TDA',\n",
       " 'TDS',\n",
       " 'TEF',\n",
       " 'TEO',\n",
       " 'TEUM',\n",
       " 'TFI.PA',\n",
       " 'TGNA',\n",
       " 'TGO.TO',\n",
       " 'TIGO',\n",
       " 'TKC',\n",
       " 'TKWY.AS',\n",
       " 'TLK',\n",
       " 'TME',\n",
       " 'TMUS',\n",
       " 'TNET.BR',\n",
       " 'TPCO',\n",
       " 'TRVG',\n",
       " 'TSQ',\n",
       " 'TSU',\n",
       " 'TTGT',\n",
       " 'TTWO',\n",
       " 'TU',\n",
       " 'TV',\n",
       " 'TWLO',\n",
       " 'TWTR',\n",
       " 'T',\n",
       " 'UBI.PA',\n",
       " 'UCL',\n",
       " 'UONEK',\n",
       " 'UONE',\n",
       " 'USM',\n",
       " 'UXIN',\n",
       " 'UZA',\n",
       " 'VEON.AS',\n",
       " 'VEON',\n",
       " 'VG',\n",
       " 'VIACA',\n",
       " 'VIAC',\n",
       " 'VIV.PA',\n",
       " 'VIV',\n",
       " 'VOD',\n",
       " 'VZA',\n",
       " 'VZ',\n",
       " 'WIFI',\n",
       " 'WIMI',\n",
       " 'WKL.AS',\n",
       " 'WMG',\n",
       " 'WOW',\n",
       " 'WPP',\n",
       " 'WSG',\n",
       " 'WUBA',\n",
       " 'WWE',\n",
       " 'XIL.PA',\n",
       " 'XNET',\n",
       " 'Y.TO',\n",
       " 'YELP',\n",
       " 'YNDX',\n",
       " 'YVR',\n",
       " 'YY',\n",
       " 'ZG',\n",
       " 'ZM',\n",
       " 'ZNGA',\n",
       " 'Z',\n",
       " 'AAP',\n",
       " 'ABEO.PA',\n",
       " 'ABG',\n",
       " 'AC.PA',\n",
       " 'ACCEL.AS',\n",
       " 'ACEL',\n",
       " 'ACQ.TO',\n",
       " 'ADNT',\n",
       " 'ADOM',\n",
       " 'AEO',\n",
       " 'AGS',\n",
       " 'AIN',\n",
       " 'AJAX.AS',\n",
       " 'AKW.PA',\n",
       " 'ALBI.PA',\n",
       " 'ALBOU.PA',\n",
       " 'ALCES.PA',\n",
       " 'ALCYB.PA',\n",
       " 'ALDAR.PA',\n",
       " 'ALDBL.PA',\n",
       " 'ALDEL.PA',\n",
       " 'ALDEV.PA',\n",
       " 'ALEMV.PA',\n",
       " 'ALFBA.PA',\n",
       " 'ALFPC.PA',\n",
       " 'ALGAU.PA',\n",
       " 'ALGEV.PA',\n",
       " 'ALGIL.PA',\n",
       " 'ALLDL.PA',\n",
       " 'ALLEX.PA',\n",
       " 'ALLHB.PA',\n",
       " 'ALMLB.PA',\n",
       " 'ALMND.PA',\n",
       " 'ALNLF.PA',\n",
       " 'ALPAR.PA',\n",
       " 'ALPDX.PA',\n",
       " 'ALPHS.PA',\n",
       " 'ALSN',\n",
       " 'ALTAN.PA',\n",
       " 'ALU10.PA',\n",
       " 'ALUNT.PA',\n",
       " 'ALUPG.PA',\n",
       " 'ALVDM.PA',\n",
       " 'ALVIA.PA',\n",
       " 'ALVU.PA',\n",
       " 'ALV',\n",
       " 'ALX.AS',\n",
       " 'AMCR',\n",
       " 'AMWD',\n",
       " 'AMZN',\n",
       " 'ANF',\n",
       " 'ANTA.PA',\n",
       " 'AN',\n",
       " 'APEX',\n",
       " 'APRN',\n",
       " 'APTV',\n",
       " 'ARCO',\n",
       " 'ARD',\n",
       " 'ARKR',\n",
       " 'ARMK',\n",
       " 'ASNA',\n",
       " 'ASP.PA',\n",
       " 'ATI.PA',\n",
       " 'ATR',\n",
       " 'ATV',\n",
       " 'ATZ.TO',\n",
       " 'AUGR.PA',\n",
       " 'AVHI',\n",
       " 'AXL',\n",
       " 'AYRO',\n",
       " 'AZO',\n",
       " 'BABA',\n",
       " 'BAIN.PA',\n",
       " 'BALTA.BR',\n",
       " 'BBBY',\n",
       " 'BBED.AS',\n",
       " 'BBQ',\n",
       " 'BBRG',\n",
       " 'BBW',\n",
       " 'BBX',\n",
       " 'BBY',\n",
       " 'BCI.TO',\n",
       " 'BC',\n",
       " 'BDL',\n",
       " 'BELI.PA',\n",
       " 'BEL',\n",
       " 'BEN.PA',\n",
       " 'BERY',\n",
       " 'BFAM',\n",
       " 'BFIT.AS',\n",
       " 'BGFV',\n",
       " 'BGI',\n",
       " 'BH-A',\n",
       " 'BH',\n",
       " 'BID',\n",
       " 'BJRI',\n",
       " 'BKE',\n",
       " 'BKNG',\n",
       " 'BKS',\n",
       " 'BLBD',\n",
       " 'BLL',\n",
       " 'BLMN',\n",
       " 'BLNK',\n",
       " 'BMS',\n",
       " 'BNED',\n",
       " 'BOJA',\n",
       " 'BOOT',\n",
       " 'BOY.TO',\n",
       " 'BSET',\n",
       " 'BTN',\n",
       " 'BUI.PA',\n",
       " 'BUR.PA',\n",
       " 'BURG',\n",
       " 'BURL',\n",
       " 'BWA',\n",
       " 'BXG',\n",
       " 'BYD',\n",
       " 'BZH',\n",
       " 'BZUN',\n",
       " 'CAAS',\n",
       " 'CAFO.PA',\n",
       " 'CAKE',\n",
       " 'CALI',\n",
       " 'CAL',\n",
       " 'CARS',\n",
       " 'CATG.PA',\n",
       " 'CATO',\n",
       " 'CBD',\n",
       " 'CBK',\n",
       " 'CBRL',\n",
       " 'CBS',\n",
       " 'CCK',\n",
       " 'CCL',\n",
       " 'CCS',\n",
       " 'CCZ',\n",
       " 'CDA.PA',\n",
       " 'CDI.PA',\n",
       " 'CDTI',\n",
       " 'CETV',\n",
       " 'CHDN',\n",
       " 'CHH',\n",
       " 'CHSR.PA',\n",
       " 'CHS',\n",
       " 'CHUY',\n",
       " 'CHWY',\n",
       " 'CLAR',\n",
       " 'CLUB',\n",
       " 'CMG',\n",
       " 'CNNE',\n",
       " 'CNTY',\n",
       " 'CNV.PA',\n",
       " 'COLM',\n",
       " 'CONN',\n",
       " 'CPHC',\n",
       " 'CPRI',\n",
       " 'CPS',\n",
       " 'CRI.PA',\n",
       " 'CRI',\n",
       " 'CRMT',\n",
       " ...]"
      ]
     },
     "execution_count": 3,
     "metadata": {},
     "output_type": "execute_result"
    }
   ],
   "source": [
    "all_files = glob.glob(\"../Charts_TenDollarData/financial_statements/data/Historical Financial Statements/*/year/Balance Sheet/*~*\")\n",
    "all_basenames = [os.path.basename(x) for x in all_files]\n",
    "all_splits = [(x).split(\"~\") for x in all_basenames]\n",
    "all_splits\n",
    "all_symbols = [x[1] for x in all_splits]\n",
    "all_symbols\n",
    "# [x for x in all_basenames]\n"
   ]
  },
  {
   "cell_type": "code",
   "execution_count": null,
   "metadata": {},
   "outputs": [],
   "source": []
  },
  {
   "cell_type": "code",
   "execution_count": 4,
   "metadata": {
    "ExecuteTime": {
     "end_time": "2020-12-13T16:46:01.733153Z",
     "start_time": "2020-12-13T16:46:01.720155Z"
    },
    "scrolled": true
   },
   "outputs": [
    {
     "data": {
      "text/plain": [
       "0        ESBA\n",
       "1         NEN\n",
       "2         IAE\n",
       "3         EFC\n",
       "4        PSXP\n",
       "         ... \n",
       "12563    VLRS\n",
       "12564    ITCB\n",
       "12565    BSMX\n",
       "12566    IDHQ\n",
       "12567     EDN\n",
       "Name: symbol, Length: 12568, dtype: object"
      ]
     },
     "execution_count": 4,
     "metadata": {},
     "output_type": "execute_result"
    }
   ],
   "source": [
    "company_profiles['symbol']"
   ]
  },
  {
   "cell_type": "code",
   "execution_count": 5,
   "metadata": {
    "ExecuteTime": {
     "end_time": "2020-12-13T16:46:02.478155Z",
     "start_time": "2020-12-13T16:46:02.468164Z"
    }
   },
   "outputs": [
    {
     "data": {
      "text/plain": [
       "array(['$', nan, '€', '¥', 'دج', '₹', 'C$', '₽', 'R$', 'HK$', '£', 'CFA',\n",
       "       'S/.', 'DH', 'CHF', 'ZK', '₪', 'NZ$', '₩'], dtype=object)"
      ]
     },
     "execution_count": 5,
     "metadata": {},
     "output_type": "execute_result"
    }
   ],
   "source": [
    "company_profiles['currency symbol'].unique()"
   ]
  },
  {
   "cell_type": "code",
   "execution_count": 6,
   "metadata": {
    "ExecuteTime": {
     "end_time": "2020-12-13T16:46:05.318260Z",
     "start_time": "2020-12-13T16:46:05.278257Z"
    }
   },
   "outputs": [
    {
     "data": {
      "text/plain": [
       "array(['USD', 'EUR', 'CNY', 'INR', 'CAD', 'RUB', 'BRL', 'HKD', 'GBP',\n",
       "       'AUD', nan, 'XOF', 'PEN', 'MAD', 'CHF', 'ZMW', 'ILS', 'NZD', 'KRW'],\n",
       "      dtype=object)"
      ]
     },
     "execution_count": 6,
     "metadata": {},
     "output_type": "execute_result"
    }
   ],
   "source": [
    "company_profiles[company_profiles['symbol'].isin(all_symbols)]['currency'].unique()"
   ]
  },
  {
   "cell_type": "code",
   "execution_count": 7,
   "metadata": {
    "ExecuteTime": {
     "end_time": "2020-12-13T16:46:05.686256Z",
     "start_time": "2020-12-13T16:46:05.675256Z"
    }
   },
   "outputs": [],
   "source": [
    "def magnitude_num(number, currency_symbol):\n",
    "    if len(str(number)) > 9:\n",
    "        magnitude = number/1000000000\n",
    "        magnitude_str = \"{}{}{}\".format(currency_symbol,round(magnitude,1),\"B\")\n",
    "    elif len(str(number)) > 6:\n",
    "        magnitude = number/1000000\n",
    "        magnitude_str = \"{}{}{}\".format(currency_symbol,round(magnitude,1),\"M\")\n",
    "    elif len(str(number)) > 3:\n",
    "        magnitude = number/1000\n",
    "        magnitude_str = \"{}{}{}\".format(currency_symbol,round(magnitude,1),\"K\")\n",
    "    else:\n",
    "        magnitude = number\n",
    "        magnitude_str = \"{}{}{}\".format(currency_symbol,round(magnitude,1),\"K\")\n",
    "    return magnitude_str"
   ]
  },
  {
   "cell_type": "code",
   "execution_count": 8,
   "metadata": {
    "ExecuteTime": {
     "end_time": "2020-12-13T16:46:06.397256Z",
     "start_time": "2020-12-13T16:46:06.320260Z"
    }
   },
   "outputs": [],
   "source": [
    "# company_profiles[company_profiles['symbol']==\"{}\".format(symbol)]\n",
    "currency_symbol = list(company_profiles[company_profiles['symbol']==\"{}\".format(symbol)]['currency symbol'])[0]"
   ]
  },
  {
   "cell_type": "code",
   "execution_count": 9,
   "metadata": {
    "ExecuteTime": {
     "end_time": "2020-12-13T16:46:07.848322Z",
     "start_time": "2020-12-13T16:46:07.836322Z"
    },
    "run_control": {
     "marked": true
    }
   },
   "outputs": [],
   "source": [
    "# sectors_df = pd.merge(symbols_df,  \n",
    "#                       company_profiles,  \n",
    "#                       on ='symbol',  \n",
    "#                       how ='inner')\n",
    "# sectors_df.groupby([\"sector\"]).count()['symbol']"
   ]
  },
  {
   "cell_type": "code",
   "execution_count": 10,
   "metadata": {
    "ExecuteTime": {
     "end_time": "2020-12-13T16:46:08.462328Z",
     "start_time": "2020-12-13T16:46:08.430327Z"
    }
   },
   "outputs": [],
   "source": [
    "df['cashAndCashEquivalents']\n",
    "# df['cashAndCashEquivalents'].mean()\n",
    "# df['cashAndCashEquivalents'].std()\n",
    "# 10764092148.148148\n",
    "# 11987554008.016428\n",
    "\n",
    "sorted_metric = df['cashAndCashEquivalents'].sort_values()\n",
    "# sorted_metric(int(len(sorted_metric)*(n/100)))\n",
    "quarters = round(len(sorted_metric)/4)\n",
    "bottom_25 = sorted_metric[len(sorted_metric)-1-quarters]\n",
    "top_25 = sorted_metric[quarters-1]\n",
    "max_num = sorted_metric.max()\n",
    "min_num = sorted_metric.min()\n",
    "mean = sorted_metric.mean()\n",
    "std_dev = sorted_metric.std()\n",
    "std_dev_str = \"+/-{}{}%\".format(currency_symbol,round(abs((std_dev-mean)/mean)*100,1))"
   ]
  },
  {
   "cell_type": "code",
   "execution_count": null,
   "metadata": {
    "ExecuteTime": {
     "end_time": "2020-12-13T17:11:55.257107Z",
     "start_time": "2020-12-13T17:11:55.254115Z"
    }
   },
   "outputs": [],
   "source": []
  },
  {
   "cell_type": "code",
   "execution_count": 36,
   "metadata": {
    "ExecuteTime": {
     "end_time": "2020-12-13T17:14:40.042260Z",
     "start_time": "2020-12-13T17:14:40.033257Z"
    },
    "run_control": {
     "marked": true
    }
   },
   "outputs": [],
   "source": [
    "max_min_pct_diff = ((max_num-min_num)/min_num)\n",
    "if max_min_pct_diff>=0:\n",
    "    max_min_pct_diff_str = \"+{}%\".format(round(max_min_pct_diff)*100,1)\n",
    "elif max_min_pct_diff<0:\n",
    "    max_min_pct_diff_str = \"-{}%\".format(round(max_min_pct_diff)*100,1)\n",
    "else:\n",
    "    max_min_pct_diff_str = \"\""
   ]
  },
  {
   "cell_type": "code",
   "execution_count": 12,
   "metadata": {
    "ExecuteTime": {
     "end_time": "2020-12-13T16:46:09.440836Z",
     "start_time": "2020-12-13T16:46:09.425837Z"
    }
   },
   "outputs": [],
   "source": [
    "mean_str = magnitude_num(mean, currency_symbol)\n",
    "max_str = magnitude_num(max_num, currency_symbol)\n",
    "min_str = magnitude_num(min_num, currency_symbol)\n",
    "bottom_25_str = magnitude_num(bottom_25, currency_symbol)\n",
    "top_25_str = magnitude_num(top_25, currency_symbol)"
   ]
  },
  {
   "cell_type": "code",
   "execution_count": 13,
   "metadata": {
    "ExecuteTime": {
     "end_time": "2020-12-13T16:46:10.656553Z",
     "start_time": "2020-12-13T16:46:10.654555Z"
    }
   },
   "outputs": [],
   "source": [
    "# first_num = first_num,\\\n",
    "# latest_num = latest_num,\\\n",
    "# historical_pct_chg = historical_pct_chg,\\\n",
    "# lifetime_sum_all_metric = lifetime_sum_all_metric,\\\n",
    "# mean_str = mean_str,\\\n",
    "# max_str = max_str,\\\n",
    "# min_str = min_str,\\\n",
    "# std_dev_str = std_dev_str,\\\n",
    "# bottom_25_str = bottom_25_str,\\\n",
    "# top_25_str = top_25_str,\\"
   ]
  },
  {
   "cell_type": "code",
   "execution_count": null,
   "metadata": {
    "ExecuteTime": {
     "end_time": "2020-12-13T02:39:40.514768Z",
     "start_time": "2020-12-13T02:39:40.496252Z"
    }
   },
   "outputs": [],
   "source": []
  },
  {
   "cell_type": "code",
   "execution_count": 14,
   "metadata": {
    "ExecuteTime": {
     "end_time": "2020-12-13T16:46:11.887117Z",
     "start_time": "2020-12-13T16:46:11.876119Z"
    }
   },
   "outputs": [],
   "source": [
    "lifetime_sum_all_metric = df['cashAndCashEquivalents'].sum()\n",
    "lifetime_sum_all_metric = magnitude_num(lifetime_sum_all_metric,currency_symbol)"
   ]
  },
  {
   "cell_type": "code",
   "execution_count": 15,
   "metadata": {
    "ExecuteTime": {
     "end_time": "2020-12-13T16:46:14.302808Z",
     "start_time": "2020-12-13T16:46:14.287809Z"
    }
   },
   "outputs": [],
   "source": [
    "latest_num = df['cashAndCashEquivalents'][0]\n",
    "first_num = list(df['cashAndCashEquivalents'])[-1]\n",
    "pct_chg = (latest_num - first_num)/first_num\n",
    "historical_pct_chg = str(round(pct_chg*100, 1))\n",
    "\n",
    "if pct_chg>=0:\n",
    "    pct_chg_str = \"+{}%\".format(pct_chg)\n",
    "elif pct_chg<0:\n",
    "    pct_chg_str = \"-{}%\".format(pct_chg)\n",
    "else:\n",
    "    pct_chg_str = \"\"\n",
    "# historical_pct_chg = str(round(pct_chg*100, 1))\n"
   ]
  },
  {
   "cell_type": "code",
   "execution_count": 16,
   "metadata": {
    "ExecuteTime": {
     "end_time": "2020-12-13T16:46:15.021210Z",
     "start_time": "2020-12-13T16:46:15.012212Z"
    }
   },
   "outputs": [
    {
     "data": {
      "text/plain": [
       "0     38016000000\n",
       "1     48844000000\n",
       "2     25913000000\n",
       "3     20289000000\n",
       "4     20484000000\n",
       "5     21120000000\n",
       "6     13844000000\n",
       "7     14259000000\n",
       "8     10746000000\n",
       "9      9815000000\n",
       "10    11261000000\n",
       "11     5263000000\n",
       "12    11875000000\n",
       "13     9352000000\n",
       "14     6392000000\n",
       "15     3491000000\n",
       "16     2969000000\n",
       "17     3396000000\n",
       "18     2252000000\n",
       "19     2310000000\n",
       "20     1191000000\n",
       "21     1326000000\n",
       "22     1481000000\n",
       "23     1230000000\n",
       "24     1552000000\n",
       "25      756000000\n",
       "26     1203488000\n",
       "Name: cashAndCashEquivalents, dtype: int64"
      ]
     },
     "execution_count": 16,
     "metadata": {},
     "output_type": "execute_result"
    }
   ],
   "source": [
    "df[\"{}\".format(\"cashAndCashEquivalents\")]"
   ]
  },
  {
   "cell_type": "code",
   "execution_count": 17,
   "metadata": {
    "ExecuteTime": {
     "end_time": "2020-12-13T16:46:15.332214Z",
     "start_time": "2020-12-13T16:46:15.322213Z"
    }
   },
   "outputs": [
    {
     "data": {
      "text/plain": [
       "38016000000"
      ]
     },
     "execution_count": 17,
     "metadata": {},
     "output_type": "execute_result"
    }
   ],
   "source": [
    "list(df['cashAndCashEquivalents'])[0]"
   ]
  },
  {
   "cell_type": "code",
   "execution_count": 18,
   "metadata": {
    "ExecuteTime": {
     "end_time": "2020-12-13T16:46:16.874211Z",
     "start_time": "2020-12-13T16:46:16.861210Z"
    }
   },
   "outputs": [
    {
     "ename": "IndentationError",
     "evalue": "unexpected indent (<ipython-input-18-a5be189ce9ce>, line 5)",
     "output_type": "error",
     "traceback": [
      "\u001b[1;36m  File \u001b[1;32m\"<ipython-input-18-a5be189ce9ce>\"\u001b[1;36m, line \u001b[1;32m5\u001b[0m\n\u001b[1;33m    elif \"{}\".format(urilist) in url_cf_list:\u001b[0m\n\u001b[1;37m    ^\u001b[0m\n\u001b[1;31mIndentationError\u001b[0m\u001b[1;31m:\u001b[0m unexpected indent\n"
     ]
    }
   ],
   "source": [
    "list(df['cashAndCashEquivalents'])[-1]\n",
    "earliest_metric = (list(df[urilist])[-1])\n",
    "latest_metric = (list(df[urilist])[0])\n",
    "\n",
    "    elif \"{}\".format(urilist) in url_cf_list:\n"
   ]
  },
  {
   "cell_type": "code",
   "execution_count": 16,
   "metadata": {
    "ExecuteTime": {
     "end_time": "2020-12-13T03:08:46.428381Z",
     "start_time": "2020-12-13T03:08:46.415381Z"
    }
   },
   "outputs": [
    {
     "data": {
      "text/plain": [
       "'3058.8'"
      ]
     },
     "execution_count": 16,
     "metadata": {},
     "output_type": "execute_result"
    }
   ],
   "source": [
    "historical_pct_chg"
   ]
  },
  {
   "cell_type": "code",
   "execution_count": 39,
   "metadata": {
    "ExecuteTime": {
     "end_time": "2020-12-13T01:04:40.594725Z",
     "start_time": "2020-12-13T01:04:40.577725Z"
    }
   },
   "outputs": [
    {
     "data": {
      "text/html": [
       "<div>\n",
       "<style scoped>\n",
       "    .dataframe tbody tr th:only-of-type {\n",
       "        vertical-align: middle;\n",
       "    }\n",
       "\n",
       "    .dataframe tbody tr th {\n",
       "        vertical-align: top;\n",
       "    }\n",
       "\n",
       "    .dataframe thead th {\n",
       "        text-align: right;\n",
       "    }\n",
       "</style>\n",
       "<table border=\"1\" class=\"dataframe\">\n",
       "  <thead>\n",
       "    <tr style=\"text-align: right;\">\n",
       "      <th></th>\n",
       "      <th>symbol</th>\n",
       "      <th>long name</th>\n",
       "      <th>currency</th>\n",
       "      <th>exchange</th>\n",
       "      <th>industry</th>\n",
       "      <th>description</th>\n",
       "      <th>sector</th>\n",
       "      <th>country</th>\n",
       "      <th>ipo date</th>\n",
       "      <th>short name</th>\n",
       "      <th>Type</th>\n",
       "      <th>Industries</th>\n",
       "      <th>Similar Companies</th>\n",
       "      <th>price</th>\n",
       "      <th>mktCap</th>\n",
       "      <th>name raw</th>\n",
       "      <th>Unnamed: 16</th>\n",
       "    </tr>\n",
       "  </thead>\n",
       "  <tbody>\n",
       "    <tr>\n",
       "      <th>10028</th>\n",
       "      <td>AAPL</td>\n",
       "      <td>Apple Inc</td>\n",
       "      <td>USD</td>\n",
       "      <td>NASDAQ</td>\n",
       "      <td>Consumer Electronics</td>\n",
       "      <td>Apple, Inc. engages in the design, manufacture...</td>\n",
       "      <td>Technology</td>\n",
       "      <td>US</td>\n",
       "      <td>12/12/1980</td>\n",
       "      <td>Apple</td>\n",
       "      <td>Stock</td>\n",
       "      <td>['Technology', 'Consumer Electronics', 'Comput...</td>\n",
       "      <td>['MSFT', 'NOK', 'IBM', 'HPQ', 'GOOGL', 'BB', '...</td>\n",
       "      <td>119.49</td>\n",
       "      <td>2.030000e+12</td>\n",
       "      <td>Apple Inc</td>\n",
       "      <td>NaN</td>\n",
       "    </tr>\n",
       "  </tbody>\n",
       "</table>\n",
       "</div>"
      ],
      "text/plain": [
       "      symbol  long name currency exchange              industry  \\\n",
       "10028   AAPL  Apple Inc      USD   NASDAQ  Consumer Electronics   \n",
       "\n",
       "                                             description      sector country  \\\n",
       "10028  Apple, Inc. engages in the design, manufacture...  Technology      US   \n",
       "\n",
       "         ipo date short name   Type  \\\n",
       "10028  12/12/1980      Apple  Stock   \n",
       "\n",
       "                                              Industries  \\\n",
       "10028  ['Technology', 'Consumer Electronics', 'Comput...   \n",
       "\n",
       "                                       Similar Companies   price  \\\n",
       "10028  ['MSFT', 'NOK', 'IBM', 'HPQ', 'GOOGL', 'BB', '...  119.49   \n",
       "\n",
       "             mktCap   name raw  Unnamed: 16  \n",
       "10028  2.030000e+12  Apple Inc          NaN  "
      ]
     },
     "execution_count": 39,
     "metadata": {},
     "output_type": "execute_result"
    }
   ],
   "source": [
    "company_profiles[company_profiles['symbol']==\"{}\".format(symbol)]"
   ]
  },
  {
   "cell_type": "code",
   "execution_count": 44,
   "metadata": {
    "ExecuteTime": {
     "end_time": "2020-12-13T01:07:16.719089Z",
     "start_time": "2020-12-13T01:07:16.703090Z"
    },
    "run_control": {
     "marked": true
    }
   },
   "outputs": [],
   "source": [
    "company_profiles['lower short name'] = company_profiles['short name'].apply(lambda x: str(x).lower())\n",
    "company_profiles['url_symbol_name'] = company_profiles['symbol']+\"/\"+company_profiles['lower short name']\n",
    "url_symbol_name = company_profiles['symbol']+\"/\"+company_profiles['lower short name']"
   ]
  },
  {
   "cell_type": "code",
   "execution_count": 46,
   "metadata": {
    "ExecuteTime": {
     "end_time": "2020-12-13T01:07:44.445226Z",
     "start_time": "2020-12-13T01:07:44.439222Z"
    }
   },
   "outputs": [],
   "source": [
    "company_profiles_col = ['symbol',\n",
    "                         'long name',\n",
    "                         'currency',\n",
    "                         'exchange',\n",
    "                         'industry',\n",
    "                         'description',\n",
    "                         'sector',\n",
    "                         'country',\n",
    "                         'ipo date',\n",
    "                         'short name']"
   ]
  },
  {
   "cell_type": "code",
   "execution_count": 48,
   "metadata": {
    "ExecuteTime": {
     "end_time": "2020-12-13T01:07:45.803681Z",
     "start_time": "2020-12-13T01:07:45.787166Z"
    }
   },
   "outputs": [],
   "source": [
    "company_profiles = company_profiles[company_profiles_col]"
   ]
  },
  {
   "cell_type": "code",
   "execution_count": 49,
   "metadata": {
    "ExecuteTime": {
     "end_time": "2020-12-13T01:07:47.011376Z",
     "start_time": "2020-12-13T01:07:47.002860Z"
    }
   },
   "outputs": [],
   "source": [
    "profiles_dict = {}\n",
    "profiles_value = company_profiles[company_profiles['symbol']==\"{}\".format(symbol)].values.tolist()[0]\n",
    "for n, profiles_col in enumerate(company_profiles_col):\n",
    "    key = profiles_col\n",
    "    value = profiles_value[n]\n",
    "    profiles_dict[key] = value "
   ]
  },
  {
   "cell_type": "code",
   "execution_count": 55,
   "metadata": {
    "ExecuteTime": {
     "end_time": "2020-12-13T01:08:11.005984Z",
     "start_time": "2020-12-13T01:08:10.998986Z"
    }
   },
   "outputs": [],
   "source": [
    "# company_symbol = profiles_dict['symbol'],\\\n",
    "# company_long_name = profiles_dict['long name'],\\\n",
    "# company_currency = profiles_dict['currency'],\\\n",
    "# company_exchange = profiles_dict['exchange'],\\\n",
    "# company_industry = profiles_dict['industry'],\\\n",
    "# company_description = profiles_dict['description'],\\\n",
    "# company_sector = profiles_dict['sector'],\\\n",
    "# company_country = profiles_dict['country'],\\\n",
    "# company_ipo_date = profiles_dict['ipo date']\n",
    "# company_short_name = profiles_dict['short name'],\\\n",
    "\n",
    "# company_symbol\n",
    "# company_name\n",
    "# company_currency\n",
    "# company_exchange\n",
    "# company_industry\n",
    "# company_description\n",
    "# company_sector\n",
    "# company_country\n",
    "# company_ipo_date"
   ]
  },
  {
   "cell_type": "markdown",
   "metadata": {
    "heading_collapsed": true
   },
   "source": [
    "### speed test\n",
    "no speed test needed, clear winner - csv\\\n",
    "https://stackoverflow.com/questions/44677606/how-to-measure-the-speed-of-a-python-function"
   ]
  },
  {
   "cell_type": "code",
   "execution_count": 5,
   "metadata": {
    "ExecuteTime": {
     "end_time": "2020-12-11T20:15:16.016276Z",
     "start_time": "2020-12-11T20:15:15.999772Z"
    },
    "hidden": true
   },
   "outputs": [],
   "source": [
    "import timeit"
   ]
  },
  {
   "cell_type": "code",
   "execution_count": 12,
   "metadata": {
    "ExecuteTime": {
     "end_time": "2020-12-11T20:17:18.855883Z",
     "start_time": "2020-12-11T20:17:16.369884Z"
    },
    "hidden": true,
    "run_control": {
     "marked": true
    }
   },
   "outputs": [],
   "source": [
    "xl_cp = pd.read_excel(\"../reference_Data/speed_test.xlsx\", engine=\"openpyxl\")"
   ]
  },
  {
   "cell_type": "markdown",
   "metadata": {},
   "source": [
    "### vlookup matching"
   ]
  },
  {
   "cell_type": "code",
   "execution_count": 8,
   "metadata": {
    "ExecuteTime": {
     "end_time": "2020-12-09T07:43:06.284676Z",
     "start_time": "2020-12-09T07:43:05.167622Z"
    }
   },
   "outputs": [
    {
     "name": "stdout",
     "output_type": "stream",
     "text": [
      "209103\n",
      "85384\n",
      "210453\n",
      "210454\n",
      "79879\n",
      "84271\n",
      "79879\n",
      "204529\n",
      "85383\n",
      "85384\n",
      "1784\n",
      "208456\n",
      "2368\n"
     ]
    }
   ],
   "source": [
    "for x in files:\n",
    "    print(len(pd.read_csv(x)))"
   ]
  },
  {
   "cell_type": "code",
   "execution_count": 37,
   "metadata": {
    "ExecuteTime": {
     "end_time": "2020-12-08T02:05:07.636007Z",
     "start_time": "2020-12-08T02:05:07.597482Z"
    }
   },
   "outputs": [],
   "source": [
    "# files = (glob.glob(\"../US-West/13F_Filings/*\"))\n",
    "names = [os.path.basename(x) for x in files]\n"
   ]
  },
  {
   "cell_type": "code",
   "execution_count": 13,
   "metadata": {
    "ExecuteTime": {
     "end_time": "2020-12-07T01:37:19.082288Z",
     "start_time": "2020-12-07T01:37:19.048288Z"
    }
   },
   "outputs": [],
   "source": [
    "pd.DataFrame({\"funds_ciks\":names}).to_csv(\"funds_ciks_list.csv\")"
   ]
  },
  {
   "cell_type": "code",
   "execution_count": 175,
   "metadata": {
    "ExecuteTime": {
     "end_time": "2020-12-06T22:36:12.444002Z",
     "start_time": "2020-12-06T22:36:12.432479Z"
    }
   },
   "outputs": [],
   "source": [
    "try:\n",
    "    del names\n",
    "    del names_list\n",
    "    del symbols_df\n",
    "    del sectors_df\n",
    "#     del df\n",
    "except Exception as e:\n",
    "    pass"
   ]
  },
  {
   "cell_type": "code",
   "execution_count": 176,
   "metadata": {
    "ExecuteTime": {
     "end_time": "2020-12-06T22:36:18.366630Z",
     "start_time": "2020-12-06T22:36:18.344630Z"
    }
   },
   "outputs": [
    {
     "data": {
      "text/html": [
       "<div>\n",
       "<style scoped>\n",
       "    .dataframe tbody tr th:only-of-type {\n",
       "        vertical-align: middle;\n",
       "    }\n",
       "\n",
       "    .dataframe tbody tr th {\n",
       "        vertical-align: top;\n",
       "    }\n",
       "\n",
       "    .dataframe thead th {\n",
       "        text-align: right;\n",
       "    }\n",
       "</style>\n",
       "<table border=\"1\" class=\"dataframe\">\n",
       "  <thead>\n",
       "    <tr style=\"text-align: right;\">\n",
       "      <th></th>\n",
       "      <th>Unnamed: 0</th>\n",
       "      <th>quantity</th>\n",
       "      <th>underlying</th>\n",
       "      <th>symbol</th>\n",
       "      <th>actype</th>\n",
       "      <th>porc</th>\n",
       "      <th>exchange</th>\n",
       "      <th>actdate</th>\n",
       "    </tr>\n",
       "  </thead>\n",
       "  <tbody>\n",
       "    <tr>\n",
       "      <th>0</th>\n",
       "      <td>0</td>\n",
       "      <td>2000</td>\n",
       "      <td>CMD</td>\n",
       "      <td>1CMD</td>\n",
       "      <td>C</td>\n",
       "      <td>C</td>\n",
       "      <td>AMEX</td>\n",
       "      <td>09/17/2018</td>\n",
       "    </tr>\n",
       "    <tr>\n",
       "      <th>1</th>\n",
       "      <td>1</td>\n",
       "      <td>2000</td>\n",
       "      <td>CMD</td>\n",
       "      <td>1CMD</td>\n",
       "      <td>M</td>\n",
       "      <td>C</td>\n",
       "      <td>AMEX</td>\n",
       "      <td>09/17/2018</td>\n",
       "    </tr>\n",
       "    <tr>\n",
       "      <th>2</th>\n",
       "      <td>2</td>\n",
       "      <td>866</td>\n",
       "      <td>COG</td>\n",
       "      <td>1COG</td>\n",
       "      <td>C</td>\n",
       "      <td>C</td>\n",
       "      <td>AMEX</td>\n",
       "      <td>09/17/2018</td>\n",
       "    </tr>\n",
       "    <tr>\n",
       "      <th>3</th>\n",
       "      <td>3</td>\n",
       "      <td>866</td>\n",
       "      <td>COG</td>\n",
       "      <td>1COG</td>\n",
       "      <td>F</td>\n",
       "      <td>C</td>\n",
       "      <td>AMEX</td>\n",
       "      <td>09/17/2018</td>\n",
       "    </tr>\n",
       "    <tr>\n",
       "      <th>4</th>\n",
       "      <td>4</td>\n",
       "      <td>6000</td>\n",
       "      <td>CWH</td>\n",
       "      <td>1CWH</td>\n",
       "      <td>C</td>\n",
       "      <td>C</td>\n",
       "      <td>ARCA</td>\n",
       "      <td>09/17/2018</td>\n",
       "    </tr>\n",
       "    <tr>\n",
       "      <th>...</th>\n",
       "      <td>...</td>\n",
       "      <td>...</td>\n",
       "      <td>...</td>\n",
       "      <td>...</td>\n",
       "      <td>...</td>\n",
       "      <td>...</td>\n",
       "      <td>...</td>\n",
       "      <td>...</td>\n",
       "    </tr>\n",
       "    <tr>\n",
       "      <th>99688</th>\n",
       "      <td>99688</td>\n",
       "      <td>8</td>\n",
       "      <td>ZYXI</td>\n",
       "      <td>ZYXI</td>\n",
       "      <td>M</td>\n",
       "      <td>P</td>\n",
       "      <td>BATS</td>\n",
       "      <td>08/31/2020</td>\n",
       "    </tr>\n",
       "    <tr>\n",
       "      <th>99689</th>\n",
       "      <td>99689</td>\n",
       "      <td>24</td>\n",
       "      <td>ZYXI</td>\n",
       "      <td>ZYXI</td>\n",
       "      <td>C</td>\n",
       "      <td>C</td>\n",
       "      <td>EDGX</td>\n",
       "      <td>08/31/2020</td>\n",
       "    </tr>\n",
       "    <tr>\n",
       "      <th>99690</th>\n",
       "      <td>99690</td>\n",
       "      <td>24</td>\n",
       "      <td>ZYXI</td>\n",
       "      <td>ZYXI</td>\n",
       "      <td>M</td>\n",
       "      <td>C</td>\n",
       "      <td>EDGX</td>\n",
       "      <td>08/31/2020</td>\n",
       "    </tr>\n",
       "    <tr>\n",
       "      <th>99691</th>\n",
       "      <td>99691</td>\n",
       "      <td>6</td>\n",
       "      <td>ZYXI</td>\n",
       "      <td>ZYXI</td>\n",
       "      <td>C</td>\n",
       "      <td>P</td>\n",
       "      <td>EDGX</td>\n",
       "      <td>08/31/2020</td>\n",
       "    </tr>\n",
       "    <tr>\n",
       "      <th>99692</th>\n",
       "      <td>99692</td>\n",
       "      <td>6</td>\n",
       "      <td>ZYXI</td>\n",
       "      <td>ZYXI</td>\n",
       "      <td>M</td>\n",
       "      <td>P</td>\n",
       "      <td>EDGX</td>\n",
       "      <td>08/31/2020</td>\n",
       "    </tr>\n",
       "  </tbody>\n",
       "</table>\n",
       "<p>42246335 rows × 8 columns</p>\n",
       "</div>"
      ],
      "text/plain": [
       "       Unnamed: 0  quantity underlying symbol actype porc exchange     actdate\n",
       "0               0      2000        CMD   1CMD      C    C     AMEX  09/17/2018\n",
       "1               1      2000        CMD   1CMD      M    C     AMEX  09/17/2018\n",
       "2               2       866        COG   1COG      C    C     AMEX  09/17/2018\n",
       "3               3       866        COG   1COG      F    C     AMEX  09/17/2018\n",
       "4               4      6000        CWH   1CWH      C    C     ARCA  09/17/2018\n",
       "...           ...       ...        ...    ...    ...  ...      ...         ...\n",
       "99688       99688         8       ZYXI   ZYXI      M    P     BATS  08/31/2020\n",
       "99689       99689        24       ZYXI   ZYXI      C    C     EDGX  08/31/2020\n",
       "99690       99690        24       ZYXI   ZYXI      M    C     EDGX  08/31/2020\n",
       "99691       99691         6       ZYXI   ZYXI      C    P     EDGX  08/31/2020\n",
       "99692       99692         6       ZYXI   ZYXI      M    P     EDGX  08/31/2020\n",
       "\n",
       "[42246335 rows x 8 columns]"
      ]
     },
     "execution_count": 176,
     "metadata": {},
     "output_type": "execute_result"
    }
   ],
   "source": [
    "df"
   ]
  },
  {
   "cell_type": "code",
   "execution_count": 167,
   "metadata": {
    "ExecuteTime": {
     "end_time": "2020-12-06T19:37:33.662248Z",
     "start_time": "2020-12-06T19:37:32.090735Z"
    }
   },
   "outputs": [],
   "source": [
    "# THIS\n",
    "symbols_df = pd.DataFrame({'symbol':(df['symbol']).unique()}) #historical dividends"
   ]
  },
  {
   "cell_type": "code",
   "execution_count": 143,
   "metadata": {
    "ExecuteTime": {
     "end_time": "2020-12-06T18:34:56.442909Z",
     "start_time": "2020-12-06T18:34:56.427910Z"
    }
   },
   "outputs": [],
   "source": [
    "# df - dividends - 4.6 million rows\n",
    "# df - earnings - 187314 rows\n",
    "# df - ipo - 6656 rows\n",
    "# df - stock splits - 10063 rows"
   ]
  },
  {
   "cell_type": "code",
   "execution_count": 20,
   "metadata": {
    "ExecuteTime": {
     "end_time": "2020-12-08T00:00:59.584555Z",
     "start_time": "2020-12-08T00:00:59.579554Z"
    }
   },
   "outputs": [
    {
     "data": {
      "text/plain": [
       "'AA'"
      ]
     },
     "execution_count": 20,
     "metadata": {},
     "output_type": "execute_result"
    }
   ],
   "source": [
    "names[1].split(\"~\")[1]"
   ]
  },
  {
   "cell_type": "code",
   "execution_count": 21,
   "metadata": {
    "ExecuteTime": {
     "end_time": "2020-12-08T00:01:40.190787Z",
     "start_time": "2020-12-08T00:01:40.178272Z"
    }
   },
   "outputs": [
    {
     "data": {
      "text/plain": [
       "'quarter~AA~balance_sheet.csv'"
      ]
     },
     "execution_count": 21,
     "metadata": {},
     "output_type": "execute_result"
    }
   ],
   "source": [
    "names[1]"
   ]
  },
  {
   "cell_type": "code",
   "execution_count": 38,
   "metadata": {
    "ExecuteTime": {
     "end_time": "2020-12-08T02:05:20.462615Z",
     "start_time": "2020-12-08T02:05:20.420094Z"
    }
   },
   "outputs": [],
   "source": [
    "# OR THIS\n",
    "names = [os.path.basename(x) for x in files]\n",
    "names_list=[]\n",
    "for x in names:\n",
    "#     names_list.append(x.split(\"-\")[4].split(\".csv\")[0]) # market cap n price        \n",
    "#         names_list.append(x.split(\"_\")[1])\n",
    "    names_list.append(x.split(\"~\")[1]) # financial statements eg Balance Sheet\n",
    "symbols_df = pd.DataFrame({'symbol':names_list})"
   ]
  },
  {
   "cell_type": "code",
   "execution_count": 172,
   "metadata": {
    "ExecuteTime": {
     "end_time": "2020-12-06T22:35:33.736821Z",
     "start_time": "2020-12-06T22:35:33.716303Z"
    },
    "run_control": {
     "marked": true
    }
   },
   "outputs": [],
   "source": [
    "# for minute data - large, small, tiny cap, etf+\n",
    "# minute data - Large Cap+, Small Cap+, Tiny Cap+ AND Ticks\n",
    "names = [os.path.basename(x).replace(\".\",\"-\") for x in files]\n",
    "names = [os.path.basename(x) for x in names]\n",
    "symbols_df = pd.DataFrame({'symbol':names})"
   ]
  },
  {
   "cell_type": "code",
   "execution_count": 39,
   "metadata": {
    "ExecuteTime": {
     "end_time": "2020-12-08T02:05:22.486357Z",
     "start_time": "2020-12-08T02:05:22.465835Z"
    },
    "run_control": {
     "marked": true
    }
   },
   "outputs": [
    {
     "data": {
      "text/plain": [
       "sector\n",
       "Basic Materials            480\n",
       "Communication Services     349\n",
       "Consumer Cyclical          703\n",
       "Consumer Defensive         303\n",
       "Energy                     482\n",
       "Financial Services        1336\n",
       "Healthcare                1184\n",
       "Industrials               1050\n",
       "Real Estate                393\n",
       "Technology                 860\n",
       "Utilities                  156\n",
       "Name: symbol, dtype: int64"
      ]
     },
     "execution_count": 39,
     "metadata": {},
     "output_type": "execute_result"
    }
   ],
   "source": [
    "sectors_df = pd.merge(symbols_df,  \n",
    "                      company_profiles,  \n",
    "                      on ='symbol',  \n",
    "                      how ='inner')\n",
    "sectors_df.groupby([\"sector\"]).count()['symbol']"
   ]
  },
  {
   "cell_type": "code",
   "execution_count": 5,
   "metadata": {
    "ExecuteTime": {
     "end_time": "2020-12-06T22:47:42.674943Z",
     "start_time": "2020-12-06T22:47:16.833189Z"
    }
   },
   "outputs": [],
   "source": [
    "df[\"YYYY-MM\"]=df['actdate'].apply(lambda x:\"{}-{}\".format(str(x)[-4:],str(x)[0:2]))"
   ]
  },
  {
   "cell_type": "code",
   "execution_count": 7,
   "metadata": {
    "ExecuteTime": {
     "end_time": "2020-12-06T22:48:16.726751Z",
     "start_time": "2020-12-06T22:48:04.346065Z"
    }
   },
   "outputs": [],
   "source": [
    "df_groupby_options_vol = df.groupby([\"YYYY-MM\"]).count()['symbol']"
   ]
  },
  {
   "cell_type": "code",
   "execution_count": 8,
   "metadata": {
    "ExecuteTime": {
     "end_time": "2020-12-06T22:48:16.866750Z",
     "start_time": "2020-12-06T22:48:16.852753Z"
    }
   },
   "outputs": [
    {
     "data": {
      "text/plain": [
       "MM-YYYY\n",
       "2018-09     825998\n",
       "2018-10    1904893\n",
       "2018-11    1636831\n",
       "2018-12    1449477\n",
       "2019-01    1611575\n",
       "2019-02    1540195\n",
       "2019-03    1628063\n",
       "2019-04    1670404\n",
       "2019-05    1777071\n",
       "2019-06    1557724\n",
       "2019-07    1787688\n",
       "2019-08    1815907\n",
       "2019-09    1654600\n",
       "2019-10    1893030\n",
       "2019-11    1698369\n",
       "2019-12    1750331\n",
       "2020-01    1894464\n",
       "2020-02    1805536\n",
       "2020-03    2033965\n",
       "2020-04    1861056\n",
       "2020-05    1938252\n",
       "2020-06    2217632\n",
       "2020-07    2155267\n",
       "2020-08    2138007\n",
       "Name: symbol, dtype: int64"
      ]
     },
     "execution_count": 8,
     "metadata": {},
     "output_type": "execute_result"
    }
   ],
   "source": [
    "df_groupby_options_vol"
   ]
  },
  {
   "cell_type": "code",
   "execution_count": 34,
   "metadata": {
    "ExecuteTime": {
     "end_time": "2020-12-08T02:02:11.649454Z",
     "start_time": "2020-12-08T02:02:11.612456Z"
    }
   },
   "outputs": [],
   "source": [
    "# sectors_df.to_csv(\"../Sample_Data/sector_n_exchange_count/market_cap_n_price_by_sectors_n_exchange.csv\")\n",
    "# sectors_df.to_csv(\"../Sample_Data/sector_n_exchange_count/financial_statements_by_sectors_n_exchange.csv\")\n",
    "# sectors_df.to_csv(\"../Sample_Data/sector_n_exchange_count/analyst_ratings_by_sectors_n_exchange.csv\")\n",
    "# sectors_df.to_csv(\"../Sample_Data/sector_n_exchange_count/analyst_grades_by_sectors_n_exchange.csv\")\n",
    "# sectors_df.to_csv(\"../Sample_Data/sector_n_exchange_count/dividends_by_sectors_n_exchange.csv\")\n",
    "# sectors_df.to_csv(\"../Sample_Data/sector_n_exchange_count/earnings_by_sectors_n_exchange.csv\")\n",
    "# sectors_df.to_csv(\"../Sample_Data/sector_n_exchange_count/stock_splits_by_sectors_n_exchange.csv\")\n",
    "# sectors_df.to_csv(\"../Sample_Data/sector_n_exchange_count/ipos_by_sectors_n_exchange.csv\")\n",
    "# sectors_df.to_csv(\"../Sample_Data/sector_n_exchange_count/minute_data_large_by_sectors_n_exchange.csv\")\n",
    "# sectors_df.to_csv(\"../Sample_Data/sector_n_exchange_count/minute_data_large_by_sectors_n_exchange.csv\")\n",
    "# sectors_df.to_csv(\"../Sample_Data/sector_n_exchange_count/minute_data_small_by_sectors_n_exchange.csv\")\n",
    "# sectors_df.to_csv(\"../Sample_Data/sector_n_exchange_count/minute_data_tiny_by_sectors_n_exchange.csv\")\n",
    "# sectors_df.to_csv(\"../Sample_Data/sector_n_exchange_count/minute_data_etf_by_sectors_n_exchange.csv\")\n",
    "\n",
    "# sectors_df.to_csv(\"../Sample_Data/sector_n_exchange_count/minute_data_etf_by_sectors_n_exchange.csv\")\n",
    "\n",
    "sectors_df.to_csv(\"../Sample_Data/sector_n_exchange_count/options_volume_by_sectors_n_exchange.csv\")\n"
   ]
  },
  {
   "cell_type": "code",
   "execution_count": 40,
   "metadata": {
    "ExecuteTime": {
     "end_time": "2020-12-08T02:05:31.222183Z",
     "start_time": "2020-12-08T02:05:31.198184Z"
    }
   },
   "outputs": [
    {
     "data": {
      "text/html": [
       "<div>\n",
       "<style scoped>\n",
       "    .dataframe tbody tr th:only-of-type {\n",
       "        vertical-align: middle;\n",
       "    }\n",
       "\n",
       "    .dataframe tbody tr th {\n",
       "        vertical-align: top;\n",
       "    }\n",
       "\n",
       "    .dataframe thead th {\n",
       "        text-align: right;\n",
       "    }\n",
       "</style>\n",
       "<table border=\"1\" class=\"dataframe\">\n",
       "  <thead>\n",
       "    <tr style=\"text-align: right;\">\n",
       "      <th></th>\n",
       "      <th>symbol</th>\n",
       "      <th>companyName</th>\n",
       "      <th>sector</th>\n",
       "      <th>industry</th>\n",
       "      <th>exchangeShortName</th>\n",
       "    </tr>\n",
       "  </thead>\n",
       "  <tbody>\n",
       "    <tr>\n",
       "      <th>0</th>\n",
       "      <td>AAU</td>\n",
       "      <td>Almaden Minerals Ltd</td>\n",
       "      <td>Basic Materials</td>\n",
       "      <td>Gold</td>\n",
       "      <td>AMEX</td>\n",
       "    </tr>\n",
       "    <tr>\n",
       "      <th>1</th>\n",
       "      <td>AA</td>\n",
       "      <td>Alcoa Corp</td>\n",
       "      <td>Basic Materials</td>\n",
       "      <td>Aluminum</td>\n",
       "      <td>NYSE</td>\n",
       "    </tr>\n",
       "    <tr>\n",
       "      <th>2</th>\n",
       "      <td>ABX.TO</td>\n",
       "      <td>Barrick Gold Corp</td>\n",
       "      <td>Basic Materials</td>\n",
       "      <td>Gold</td>\n",
       "      <td>TSX</td>\n",
       "    </tr>\n",
       "    <tr>\n",
       "      <th>3</th>\n",
       "      <td>ACET</td>\n",
       "      <td>Aceto Corporation</td>\n",
       "      <td>Basic Materials</td>\n",
       "      <td>Chemicals</td>\n",
       "      <td>NASDAQ</td>\n",
       "    </tr>\n",
       "    <tr>\n",
       "      <th>4</th>\n",
       "      <td>ACH</td>\n",
       "      <td>Aluminum Corporation of China Limited American...</td>\n",
       "      <td>Basic Materials</td>\n",
       "      <td>Metals &amp; Mining</td>\n",
       "      <td>NYSE</td>\n",
       "    </tr>\n",
       "    <tr>\n",
       "      <th>...</th>\n",
       "      <td>...</td>\n",
       "      <td>...</td>\n",
       "      <td>...</td>\n",
       "      <td>...</td>\n",
       "      <td>...</td>\n",
       "    </tr>\n",
       "    <tr>\n",
       "      <th>7291</th>\n",
       "      <td>WR</td>\n",
       "      <td>Westar Energy Inc.</td>\n",
       "      <td>Utilities</td>\n",
       "      <td>Utilities Regulated</td>\n",
       "      <td>NYSE</td>\n",
       "    </tr>\n",
       "    <tr>\n",
       "      <th>7292</th>\n",
       "      <td>WTRG</td>\n",
       "      <td>Essential Utilities Inc</td>\n",
       "      <td>Utilities</td>\n",
       "      <td>Utilities Regulated Water</td>\n",
       "      <td>NYSE</td>\n",
       "    </tr>\n",
       "    <tr>\n",
       "      <th>7293</th>\n",
       "      <td>WTR</td>\n",
       "      <td>Aqua America Inc.</td>\n",
       "      <td>Utilities</td>\n",
       "      <td>Utilities Regulated</td>\n",
       "      <td>NYSE</td>\n",
       "    </tr>\n",
       "    <tr>\n",
       "      <th>7294</th>\n",
       "      <td>XEL</td>\n",
       "      <td>Xcel Energy Inc</td>\n",
       "      <td>Utilities</td>\n",
       "      <td>Utilities Regulated Electric</td>\n",
       "      <td>NASDAQ</td>\n",
       "    </tr>\n",
       "    <tr>\n",
       "      <th>7295</th>\n",
       "      <td>YORW</td>\n",
       "      <td>York Water Co</td>\n",
       "      <td>Utilities</td>\n",
       "      <td>Utilities Regulated Water</td>\n",
       "      <td>NASDAQ</td>\n",
       "    </tr>\n",
       "  </tbody>\n",
       "</table>\n",
       "<p>7296 rows × 5 columns</p>\n",
       "</div>"
      ],
      "text/plain": [
       "      symbol                                        companyName  \\\n",
       "0        AAU                               Almaden Minerals Ltd   \n",
       "1         AA                                         Alcoa Corp   \n",
       "2     ABX.TO                                  Barrick Gold Corp   \n",
       "3       ACET                                  Aceto Corporation   \n",
       "4        ACH  Aluminum Corporation of China Limited American...   \n",
       "...      ...                                                ...   \n",
       "7291      WR                                 Westar Energy Inc.   \n",
       "7292    WTRG                            Essential Utilities Inc   \n",
       "7293     WTR                                  Aqua America Inc.   \n",
       "7294     XEL                                    Xcel Energy Inc   \n",
       "7295    YORW                                      York Water Co   \n",
       "\n",
       "               sector                      industry exchangeShortName  \n",
       "0     Basic Materials                          Gold              AMEX  \n",
       "1     Basic Materials                      Aluminum              NYSE  \n",
       "2     Basic Materials                          Gold               TSX  \n",
       "3     Basic Materials                     Chemicals            NASDAQ  \n",
       "4     Basic Materials               Metals & Mining              NYSE  \n",
       "...               ...                           ...               ...  \n",
       "7291        Utilities           Utilities Regulated              NYSE  \n",
       "7292        Utilities     Utilities Regulated Water              NYSE  \n",
       "7293        Utilities           Utilities Regulated              NYSE  \n",
       "7294        Utilities  Utilities Regulated Electric            NASDAQ  \n",
       "7295        Utilities     Utilities Regulated Water            NASDAQ  \n",
       "\n",
       "[7296 rows x 5 columns]"
      ]
     },
     "execution_count": 40,
     "metadata": {},
     "output_type": "execute_result"
    }
   ],
   "source": [
    "sectors_df"
   ]
  },
  {
   "cell_type": "code",
   "execution_count": 41,
   "metadata": {
    "ExecuteTime": {
     "end_time": "2020-12-08T02:05:32.915558Z",
     "start_time": "2020-12-08T02:05:32.873028Z"
    },
    "run_control": {
     "marked": true
    }
   },
   "outputs": [],
   "source": [
    "sectors_df.to_csv(\"../Sample_Data/sector_n_exchange_count/fin_statements_balance_sheet_by_sectors_n_exchange.csv\")\n"
   ]
  },
  {
   "cell_type": "code",
   "execution_count": 196,
   "metadata": {
    "ExecuteTime": {
     "end_time": "2020-12-01T21:33:13.279396Z",
     "start_time": "2020-12-01T21:33:13.265864Z"
    }
   },
   "outputs": [],
   "source": [
    "# delete 0 byte files\n",
    "# import os, os.path\n",
    "\n",
    "# for root, _, files in os.walk(\"../MVLLC/options/volbyclass/\"):\n",
    "#     for f in files:\n",
    "#         fullpath = os.path.join(root, f)\n",
    "#         try:\n",
    "#             if os.path.getsize(fullpath) < 1 * 1024:   #set file size in kb\n",
    "#                 print (fullpath)\n",
    "#                 os.remove(fullpath)\n",
    "#         except WindowsError:\n",
    "#             print (\"Error\" + fullpath)"
   ]
  },
  {
   "cell_type": "code",
   "execution_count": 206,
   "metadata": {
    "ExecuteTime": {
     "end_time": "2020-12-01T21:44:48.964185Z",
     "start_time": "2020-12-01T21:44:48.960186Z"
    },
    "run_control": {
     "marked": true
    }
   },
   "outputs": [],
   "source": [
    "# df['Underlying Security'].to_csv(\"../Sample_Data/volbyclass_symbols.csv\")"
   ]
  },
  {
   "cell_type": "code",
   "execution_count": 13,
   "metadata": {
    "ExecuteTime": {
     "end_time": "2020-12-05T21:54:10.329735Z",
     "start_time": "2020-12-05T21:54:10.310220Z"
    }
   },
   "outputs": [],
   "source": [
    "df = df.sort_values(\"date\")"
   ]
  },
  {
   "cell_type": "code",
   "execution_count": 14,
   "metadata": {
    "ExecuteTime": {
     "end_time": "2020-12-05T21:54:10.611737Z",
     "start_time": "2020-12-05T21:54:10.604739Z"
    }
   },
   "outputs": [],
   "source": [
    "df['year'] = df['date'].apply(lambda x: str(x)[:4])"
   ]
  },
  {
   "cell_type": "code",
   "execution_count": 15,
   "metadata": {
    "ExecuteTime": {
     "end_time": "2020-12-05T21:54:15.143287Z",
     "start_time": "2020-12-05T21:54:15.120274Z"
    }
   },
   "outputs": [
    {
     "data": {
      "text/html": [
       "<div>\n",
       "<style scoped>\n",
       "    .dataframe tbody tr th:only-of-type {\n",
       "        vertical-align: middle;\n",
       "    }\n",
       "\n",
       "    .dataframe tbody tr th {\n",
       "        vertical-align: top;\n",
       "    }\n",
       "\n",
       "    .dataframe thead th {\n",
       "        text-align: right;\n",
       "    }\n",
       "</style>\n",
       "<table border=\"1\" class=\"dataframe\">\n",
       "  <thead>\n",
       "    <tr style=\"text-align: right;\">\n",
       "      <th></th>\n",
       "      <th>Unnamed: 0</th>\n",
       "      <th>date</th>\n",
       "      <th>label</th>\n",
       "      <th>symbol</th>\n",
       "      <th>numerator</th>\n",
       "      <th>denominator</th>\n",
       "      <th>year</th>\n",
       "    </tr>\n",
       "  </thead>\n",
       "  <tbody>\n",
       "    <tr>\n",
       "      <th>0</th>\n",
       "      <td>0</td>\n",
       "      <td>1974-04-01</td>\n",
       "      <td>April 01, 74</td>\n",
       "      <td>AIG</td>\n",
       "      <td>5.0</td>\n",
       "      <td>4.0</td>\n",
       "      <td>1974</td>\n",
       "    </tr>\n",
       "    <tr>\n",
       "      <th>1</th>\n",
       "      <td>0</td>\n",
       "      <td>1974-04-30</td>\n",
       "      <td>April 30, 74</td>\n",
       "      <td>UIS</td>\n",
       "      <td>2.0</td>\n",
       "      <td>1.0</td>\n",
       "      <td>1974</td>\n",
       "    </tr>\n",
       "    <tr>\n",
       "      <th>2</th>\n",
       "      <td>0</td>\n",
       "      <td>1974-06-03</td>\n",
       "      <td>June 03, 74</td>\n",
       "      <td>MO</td>\n",
       "      <td>2.0</td>\n",
       "      <td>1.0</td>\n",
       "      <td>1974</td>\n",
       "    </tr>\n",
       "    <tr>\n",
       "      <th>3</th>\n",
       "      <td>0</td>\n",
       "      <td>1974-11-29</td>\n",
       "      <td>November 29, 74</td>\n",
       "      <td>DIS</td>\n",
       "      <td>102.0</td>\n",
       "      <td>100.0</td>\n",
       "      <td>1974</td>\n",
       "    </tr>\n",
       "    <tr>\n",
       "      <th>4</th>\n",
       "      <td>0</td>\n",
       "      <td>1974-12-17</td>\n",
       "      <td>December 17, 74</td>\n",
       "      <td>IFF</td>\n",
       "      <td>102.0</td>\n",
       "      <td>100.0</td>\n",
       "      <td>1974</td>\n",
       "    </tr>\n",
       "    <tr>\n",
       "      <th>...</th>\n",
       "      <td>...</td>\n",
       "      <td>...</td>\n",
       "      <td>...</td>\n",
       "      <td>...</td>\n",
       "      <td>...</td>\n",
       "      <td>...</td>\n",
       "      <td>...</td>\n",
       "    </tr>\n",
       "    <tr>\n",
       "      <th>268</th>\n",
       "      <td>0</td>\n",
       "      <td>2020-09-30</td>\n",
       "      <td>September 30, 20</td>\n",
       "      <td>AVT.PA</td>\n",
       "      <td>1.0</td>\n",
       "      <td>80.0</td>\n",
       "      <td>2020</td>\n",
       "    </tr>\n",
       "    <tr>\n",
       "      <th>299</th>\n",
       "      <td>0</td>\n",
       "      <td>2020-10-02</td>\n",
       "      <td>October 02, 20</td>\n",
       "      <td>ADRO</td>\n",
       "      <td>1.0</td>\n",
       "      <td>5.0</td>\n",
       "      <td>2020</td>\n",
       "    </tr>\n",
       "    <tr>\n",
       "      <th>300</th>\n",
       "      <td>0</td>\n",
       "      <td>2020-10-02</td>\n",
       "      <td>October 02, 20</td>\n",
       "      <td>NTES</td>\n",
       "      <td>5.0</td>\n",
       "      <td>1.0</td>\n",
       "      <td>2020</td>\n",
       "    </tr>\n",
       "    <tr>\n",
       "      <th>298</th>\n",
       "      <td>0</td>\n",
       "      <td>2020-10-05</td>\n",
       "      <td>October 05, 20</td>\n",
       "      <td>NVUS</td>\n",
       "      <td>1.0</td>\n",
       "      <td>18.0</td>\n",
       "      <td>2020</td>\n",
       "    </tr>\n",
       "    <tr>\n",
       "      <th>297</th>\n",
       "      <td>0</td>\n",
       "      <td>2020-10-09</td>\n",
       "      <td>October 09, 20</td>\n",
       "      <td>FTV</td>\n",
       "      <td>1195.0</td>\n",
       "      <td>1000.0</td>\n",
       "      <td>2020</td>\n",
       "    </tr>\n",
       "  </tbody>\n",
       "</table>\n",
       "<p>10063 rows × 7 columns</p>\n",
       "</div>"
      ],
      "text/plain": [
       "     Unnamed: 0        date             label  symbol  numerator  denominator  \\\n",
       "0             0  1974-04-01      April 01, 74     AIG        5.0          4.0   \n",
       "1             0  1974-04-30      April 30, 74     UIS        2.0          1.0   \n",
       "2             0  1974-06-03       June 03, 74      MO        2.0          1.0   \n",
       "3             0  1974-11-29   November 29, 74     DIS      102.0        100.0   \n",
       "4             0  1974-12-17   December 17, 74     IFF      102.0        100.0   \n",
       "..          ...         ...               ...     ...        ...          ...   \n",
       "268           0  2020-09-30  September 30, 20  AVT.PA        1.0         80.0   \n",
       "299           0  2020-10-02    October 02, 20    ADRO        1.0          5.0   \n",
       "300           0  2020-10-02    October 02, 20    NTES        5.0          1.0   \n",
       "298           0  2020-10-05    October 05, 20    NVUS        1.0         18.0   \n",
       "297           0  2020-10-09    October 09, 20     FTV     1195.0       1000.0   \n",
       "\n",
       "     year  \n",
       "0    1974  \n",
       "1    1974  \n",
       "2    1974  \n",
       "3    1974  \n",
       "4    1974  \n",
       "..    ...  \n",
       "268  2020  \n",
       "299  2020  \n",
       "300  2020  \n",
       "298  2020  \n",
       "297  2020  \n",
       "\n",
       "[10063 rows x 7 columns]"
      ]
     },
     "execution_count": 15,
     "metadata": {},
     "output_type": "execute_result"
    }
   ],
   "source": [
    "df"
   ]
  },
  {
   "cell_type": "code",
   "execution_count": 150,
   "metadata": {
    "ExecuteTime": {
     "end_time": "2020-12-01T21:03:44.302754Z",
     "start_time": "2020-12-01T21:03:44.296759Z"
    },
    "run_control": {
     "marked": true
    }
   },
   "outputs": [],
   "source": [
    "# df = df[df.date.notna()]\n",
    "# # df.event.unique()"
   ]
  },
  {
   "cell_type": "code",
   "execution_count": 207,
   "metadata": {
    "ExecuteTime": {
     "end_time": "2020-12-01T21:44:56.569842Z",
     "start_time": "2020-12-01T21:44:56.560324Z"
    },
    "run_control": {
     "marked": true
    }
   },
   "outputs": [],
   "source": [
    "# df.sort_values(\"date\").year.value_counts()"
   ]
  },
  {
   "cell_type": "code",
   "execution_count": 208,
   "metadata": {
    "ExecuteTime": {
     "end_time": "2020-12-01T21:44:59.829753Z",
     "start_time": "2020-12-01T21:44:59.815256Z"
    }
   },
   "outputs": [],
   "source": [
    "# df.sort_values(\"country\").country.value_counts()"
   ]
  },
  {
   "cell_type": "code",
   "execution_count": 209,
   "metadata": {
    "ExecuteTime": {
     "end_time": "2020-12-01T21:45:02.892964Z",
     "start_time": "2020-12-01T21:45:02.878965Z"
    }
   },
   "outputs": [],
   "source": [
    "# df.groupby([\"country\",\"event\"]).mean().to_csv(\"../Sample_Data/historical_economic_events.csv\")"
   ]
  },
  {
   "cell_type": "code",
   "execution_count": 210,
   "metadata": {
    "ExecuteTime": {
     "end_time": "2020-12-01T21:45:06.868024Z",
     "start_time": "2020-12-01T21:45:06.855023Z"
    }
   },
   "outputs": [],
   "source": [
    "# pd.DataFrame({'symbols':df['symbol'].unique()}).to_csv(\"../Sample_Data/historical_earnings_calendar_symbols.csv\")\n",
    "\n",
    "# pd.DataFrame({'symbols':df['symbol'].unique()}).to_csv(\"../Sample_Data/historical_dividends_symbols.csv\")\n"
   ]
  },
  {
   "cell_type": "code",
   "execution_count": 22,
   "metadata": {
    "ExecuteTime": {
     "end_time": "2020-12-01T19:47:40.886047Z",
     "start_time": "2020-12-01T19:47:40.824050Z"
    }
   },
   "outputs": [],
   "source": [
    "# pd.DataFrame({'symbols':df['symbol'].unique()}).to_csv(\"../US-East/Wall Street Consensus/ratings_symbol.csv\")\n",
    "# pd.DataFrame({'symbols':df['gradingCompany'].unique()}).to_csv((\"../US-East/Wall Street Consensus/grade_companies.csv\"))\n",
    "# pd.DataFrame({'symbols':df['symbol'].unique()}).to_csv(\"../US-East/Wall Street Consensus/grade_symbols.csv\")"
   ]
  },
  {
   "cell_type": "code",
   "execution_count": null,
   "metadata": {},
   "outputs": [],
   "source": []
  }
 ],
 "metadata": {
  "kernelspec": {
   "display_name": "quantconnect",
   "language": "python",
   "name": "quantconnect"
  },
  "language_info": {
   "codemirror_mode": {
    "name": "ipython",
    "version": 3
   },
   "file_extension": ".py",
   "mimetype": "text/x-python",
   "name": "python",
   "nbconvert_exporter": "python",
   "pygments_lexer": "ipython3",
   "version": "3.9.0"
  },
  "toc": {
   "base_numbering": 1,
   "nav_menu": {},
   "number_sections": true,
   "sideBar": true,
   "skip_h1_title": false,
   "title_cell": "Table of Contents",
   "title_sidebar": "Contents",
   "toc_cell": false,
   "toc_position": {},
   "toc_section_display": true,
   "toc_window_display": false
  },
  "varInspector": {
   "cols": {
    "lenName": 16,
    "lenType": 16,
    "lenVar": 40
   },
   "kernels_config": {
    "python": {
     "delete_cmd_postfix": "",
     "delete_cmd_prefix": "del ",
     "library": "var_list.py",
     "varRefreshCmd": "print(var_dic_list())"
    },
    "r": {
     "delete_cmd_postfix": ") ",
     "delete_cmd_prefix": "rm(",
     "library": "var_list.r",
     "varRefreshCmd": "cat(var_dic_list()) "
    }
   },
   "types_to_exclude": [
    "module",
    "function",
    "builtin_function_or_method",
    "instance",
    "_Feature"
   ],
   "window_display": false
  }
 },
 "nbformat": 4,
 "nbformat_minor": 4
}
