{
 "cells": [
  {
   "cell_type": "code",
   "execution_count": 4,
   "metadata": {
    "ExecuteTime": {
     "end_time": "2020-12-11T20:14:52.203453Z",
     "start_time": "2020-12-11T20:14:52.103456Z"
    },
    "run_control": {
     "marked": false
    }
   },
   "outputs": [],
   "source": [
    "import glob\n",
    "import pandas as pd\n",
    "import os\n",
    "\n",
    "# files = glob.glob(\"../US-East/Wall Street Consensus/*/*/grade*.csv\")\n",
    "# df = pd.concat([pd.read_csv(f) for f in files])\n",
    "\n",
    "company_profiles = pd.read_csv(\"../reference_Data/Company_Profiles.csv\")#, encoding='cp1252')\n",
    "# company_profiles = company_profiles[['symbol','sector']]#,'exchangeShortName']]\n",
    "# company_profiles = company_profiles[['symbol','companyName','sector','industry','exchangeShortName']]"
   ]
  },
  {
   "cell_type": "markdown",
   "metadata": {},
   "source": [
    "no speed test needed, clear winner - csv"
   ]
  },
  {
   "cell_type": "code",
   "execution_count": 13,
   "metadata": {
    "ExecuteTime": {
     "end_time": "2020-12-11T20:17:19.712884Z",
     "start_time": "2020-12-11T20:17:19.600917Z"
    }
   },
   "outputs": [],
   "source": [
    "company_profiles = pd.read_csv(\"../reference_Data/Company_Profiles.csv\")#, encoding='cp1252')\n",
    "# xl_cp = pd.read_excel(\"../reference_Data/speed_test.xlsx\", engine=\"openpyxl\")"
   ]
  },
  {
   "cell_type": "code",
   "execution_count": 5,
   "metadata": {
    "ExecuteTime": {
     "end_time": "2020-12-11T20:15:16.016276Z",
     "start_time": "2020-12-11T20:15:15.999772Z"
    }
   },
   "outputs": [],
   "source": [
    "import timeit"
   ]
  },
  {
   "cell_type": "code",
   "execution_count": 12,
   "metadata": {
    "ExecuteTime": {
     "end_time": "2020-12-11T20:17:18.855883Z",
     "start_time": "2020-12-11T20:17:16.369884Z"
    },
    "run_control": {
     "marked": true
    }
   },
   "outputs": [],
   "source": [
    "xl_cp = pd.read_excel(\"../reference_Data/speed_test.xlsx\", engine=\"openpyxl\")"
   ]
  },
  {
   "cell_type": "code",
   "execution_count": 8,
   "metadata": {
    "ExecuteTime": {
     "end_time": "2020-12-09T07:43:06.284676Z",
     "start_time": "2020-12-09T07:43:05.167622Z"
    }
   },
   "outputs": [
    {
     "name": "stdout",
     "output_type": "stream",
     "text": [
      "209103\n",
      "85384\n",
      "210453\n",
      "210454\n",
      "79879\n",
      "84271\n",
      "79879\n",
      "204529\n",
      "85383\n",
      "85384\n",
      "1784\n",
      "208456\n",
      "2368\n"
     ]
    }
   ],
   "source": [
    "for x in files:\n",
    "    print(len(pd.read_csv(x)))"
   ]
  },
  {
   "cell_type": "code",
   "execution_count": 7,
   "metadata": {
    "ExecuteTime": {
     "end_time": "2020-12-11T20:16:12.025068Z",
     "start_time": "2020-12-11T20:16:11.992070Z"
    }
   },
   "outputs": [
    {
     "data": {
      "text/html": [
       "<div>\n",
       "<style scoped>\n",
       "    .dataframe tbody tr th:only-of-type {\n",
       "        vertical-align: middle;\n",
       "    }\n",
       "\n",
       "    .dataframe tbody tr th {\n",
       "        vertical-align: top;\n",
       "    }\n",
       "\n",
       "    .dataframe thead th {\n",
       "        text-align: right;\n",
       "    }\n",
       "</style>\n",
       "<table border=\"1\" class=\"dataframe\">\n",
       "  <thead>\n",
       "    <tr style=\"text-align: right;\">\n",
       "      <th></th>\n",
       "      <th>index</th>\n",
       "      <th>symbol</th>\n",
       "      <th>price</th>\n",
       "      <th>mktCap</th>\n",
       "      <th>companyName</th>\n",
       "      <th>currency</th>\n",
       "      <th>exchange_fixed</th>\n",
       "      <th>industry</th>\n",
       "      <th>description</th>\n",
       "      <th>sector</th>\n",
       "      <th>country</th>\n",
       "      <th>ipoDate</th>\n",
       "      <th>Column5</th>\n",
       "      <th>Column6</th>\n",
       "    </tr>\n",
       "  </thead>\n",
       "  <tbody>\n",
       "    <tr>\n",
       "      <th>0</th>\n",
       "      <td>30</td>\n",
       "      <td>XXII</td>\n",
       "      <td>0.8052</td>\n",
       "      <td>111809272.0</td>\n",
       "      <td>22nd Century Group Inc</td>\n",
       "      <td>USD</td>\n",
       "      <td>AMEX</td>\n",
       "      <td>Biotechnology</td>\n",
       "      <td>22nd Century Group, Inc. is a plant biotechnol...</td>\n",
       "      <td>Healthcare</td>\n",
       "      <td>US</td>\n",
       "      <td>10/17/2006</td>\n",
       "      <td>NaN</td>\n",
       "      <td>NaN</td>\n",
       "    </tr>\n",
       "    <tr>\n",
       "      <th>1</th>\n",
       "      <td>41</td>\n",
       "      <td>SCCB</td>\n",
       "      <td>25.0000</td>\n",
       "      <td>208203904.0</td>\n",
       "      <td>378</td>\n",
       "      <td>USD</td>\n",
       "      <td>AMEX</td>\n",
       "      <td>NaN</td>\n",
       "      <td>NaN</td>\n",
       "      <td>Industrials</td>\n",
       "      <td>NaN</td>\n",
       "      <td>NaN</td>\n",
       "      <td>NaN</td>\n",
       "      <td>NaN</td>\n",
       "    </tr>\n",
       "    <tr>\n",
       "      <th>2</th>\n",
       "      <td>128</td>\n",
       "      <td>FAX</td>\n",
       "      <td>3.9900</td>\n",
       "      <td>988307070.0</td>\n",
       "      <td>Aberdeen Asia-Pacific Income Fund Inc</td>\n",
       "      <td>USD</td>\n",
       "      <td>AMEX</td>\n",
       "      <td>Asset Management</td>\n",
       "      <td>NaN</td>\n",
       "      <td>Financial Services</td>\n",
       "      <td>SG</td>\n",
       "      <td>NaN</td>\n",
       "      <td>NaN</td>\n",
       "      <td>NaN</td>\n",
       "    </tr>\n",
       "    <tr>\n",
       "      <th>3</th>\n",
       "      <td>130</td>\n",
       "      <td>IAF</td>\n",
       "      <td>5.0000</td>\n",
       "      <td>113711504.0</td>\n",
       "      <td>Aberdeen Australia Equity Fund Inc</td>\n",
       "      <td>USD</td>\n",
       "      <td>AMEX</td>\n",
       "      <td>Asset Management</td>\n",
       "      <td>Aberdeen Australia Equity Fund, Inc. is a non-...</td>\n",
       "      <td>Financial Services</td>\n",
       "      <td>US</td>\n",
       "      <td>12/13/1985</td>\n",
       "      <td>NaN</td>\n",
       "      <td>NaN</td>\n",
       "    </tr>\n",
       "    <tr>\n",
       "      <th>4</th>\n",
       "      <td>133</td>\n",
       "      <td>AEF</td>\n",
       "      <td>7.2700</td>\n",
       "      <td>368965600.0</td>\n",
       "      <td>Aberdeen Emerging Markets Equity Income Fund Inc</td>\n",
       "      <td>USD</td>\n",
       "      <td>AMEX</td>\n",
       "      <td>Asset Management</td>\n",
       "      <td>Aberdeen Emerging Markets Equity Income Fund, ...</td>\n",
       "      <td>Financial Services</td>\n",
       "      <td>US</td>\n",
       "      <td>9/26/1989</td>\n",
       "      <td>NaN</td>\n",
       "      <td>NaN</td>\n",
       "    </tr>\n",
       "    <tr>\n",
       "      <th>...</th>\n",
       "      <td>...</td>\n",
       "      <td>...</td>\n",
       "      <td>...</td>\n",
       "      <td>...</td>\n",
       "      <td>...</td>\n",
       "      <td>...</td>\n",
       "      <td>...</td>\n",
       "      <td>...</td>\n",
       "      <td>...</td>\n",
       "      <td>...</td>\n",
       "      <td>...</td>\n",
       "      <td>...</td>\n",
       "      <td>...</td>\n",
       "      <td>...</td>\n",
       "    </tr>\n",
       "    <tr>\n",
       "      <th>12856</th>\n",
       "      <td>14292</td>\n",
       "      <td>YP-UN.TO</td>\n",
       "      <td>0.0000</td>\n",
       "      <td>0.0</td>\n",
       "      <td>Yieldplus Income Fund</td>\n",
       "      <td>USD</td>\n",
       "      <td>TSX</td>\n",
       "      <td>NaN</td>\n",
       "      <td>NaN</td>\n",
       "      <td>Industrials</td>\n",
       "      <td>NaN</td>\n",
       "      <td>NaN</td>\n",
       "      <td>NaN</td>\n",
       "      <td>NaN</td>\n",
       "    </tr>\n",
       "    <tr>\n",
       "      <th>12857</th>\n",
       "      <td>14300</td>\n",
       "      <td>YRB-A.TO</td>\n",
       "      <td>0.0000</td>\n",
       "      <td>0.0</td>\n",
       "      <td>Yorbeau Res A J</td>\n",
       "      <td>USD</td>\n",
       "      <td>TSX</td>\n",
       "      <td>NaN</td>\n",
       "      <td>NaN</td>\n",
       "      <td>Industrials</td>\n",
       "      <td>NaN</td>\n",
       "      <td>NaN</td>\n",
       "      <td>NaN</td>\n",
       "      <td>NaN</td>\n",
       "    </tr>\n",
       "    <tr>\n",
       "      <th>12858</th>\n",
       "      <td>14304</td>\n",
       "      <td>YPG-DB.TO</td>\n",
       "      <td>100.5000</td>\n",
       "      <td>0.0</td>\n",
       "      <td>YP DIGITAL AND MEDIA SOL 8 PCT</td>\n",
       "      <td>USD</td>\n",
       "      <td>TSX</td>\n",
       "      <td>NaN</td>\n",
       "      <td>NaN</td>\n",
       "      <td>Industrials</td>\n",
       "      <td>NaN</td>\n",
       "      <td>NaN</td>\n",
       "      <td>NaN</td>\n",
       "      <td>NaN</td>\n",
       "    </tr>\n",
       "    <tr>\n",
       "      <th>12859</th>\n",
       "      <td>14323</td>\n",
       "      <td>ZAR.TO</td>\n",
       "      <td>0.0450</td>\n",
       "      <td>1034730.0</td>\n",
       "      <td>Zargon Oil &amp; Gas Ltd</td>\n",
       "      <td>CAD</td>\n",
       "      <td>TSX</td>\n",
       "      <td>Oil &amp; Gas E&amp;P</td>\n",
       "      <td>Zargon Oil &amp; Gas Ltd. engages in the explorati...</td>\n",
       "      <td>Energy</td>\n",
       "      <td>CA</td>\n",
       "      <td>10/21/1993</td>\n",
       "      <td>NaN</td>\n",
       "      <td>NaN</td>\n",
       "    </tr>\n",
       "    <tr>\n",
       "      <th>12860</th>\n",
       "      <td>14328</td>\n",
       "      <td>ZCL.TO</td>\n",
       "      <td>0.0000</td>\n",
       "      <td>0.0</td>\n",
       "      <td>ZCL Composites Inc.</td>\n",
       "      <td>USD</td>\n",
       "      <td>TSX</td>\n",
       "      <td>NaN</td>\n",
       "      <td>NaN</td>\n",
       "      <td>Industrials</td>\n",
       "      <td>NaN</td>\n",
       "      <td>NaN</td>\n",
       "      <td>NaN</td>\n",
       "      <td>NaN</td>\n",
       "    </tr>\n",
       "  </tbody>\n",
       "</table>\n",
       "<p>12861 rows × 14 columns</p>\n",
       "</div>"
      ],
      "text/plain": [
       "       index     symbol     price       mktCap  \\\n",
       "0         30       XXII    0.8052  111809272.0   \n",
       "1         41       SCCB   25.0000  208203904.0   \n",
       "2        128        FAX    3.9900  988307070.0   \n",
       "3        130        IAF    5.0000  113711504.0   \n",
       "4        133        AEF    7.2700  368965600.0   \n",
       "...      ...        ...       ...          ...   \n",
       "12856  14292   YP-UN.TO    0.0000          0.0   \n",
       "12857  14300   YRB-A.TO    0.0000          0.0   \n",
       "12858  14304  YPG-DB.TO  100.5000          0.0   \n",
       "12859  14323     ZAR.TO    0.0450    1034730.0   \n",
       "12860  14328     ZCL.TO    0.0000          0.0   \n",
       "\n",
       "                                            companyName currency  \\\n",
       "0                                22nd Century Group Inc      USD   \n",
       "1                                                   378      USD   \n",
       "2                 Aberdeen Asia-Pacific Income Fund Inc      USD   \n",
       "3                    Aberdeen Australia Equity Fund Inc      USD   \n",
       "4      Aberdeen Emerging Markets Equity Income Fund Inc      USD   \n",
       "...                                                 ...      ...   \n",
       "12856                            Yieldplus Income Fund       USD   \n",
       "12857                                  Yorbeau Res A J       USD   \n",
       "12858                   YP DIGITAL AND MEDIA SOL 8 PCT       USD   \n",
       "12859                              Zargon Oil & Gas Ltd      CAD   \n",
       "12860                               ZCL Composites Inc.      USD   \n",
       "\n",
       "      exchange_fixed          industry  \\\n",
       "0               AMEX     Biotechnology   \n",
       "1               AMEX               NaN   \n",
       "2               AMEX  Asset Management   \n",
       "3               AMEX  Asset Management   \n",
       "4               AMEX  Asset Management   \n",
       "...              ...               ...   \n",
       "12856            TSX               NaN   \n",
       "12857            TSX               NaN   \n",
       "12858            TSX               NaN   \n",
       "12859            TSX     Oil & Gas E&P   \n",
       "12860            TSX               NaN   \n",
       "\n",
       "                                             description              sector  \\\n",
       "0      22nd Century Group, Inc. is a plant biotechnol...          Healthcare   \n",
       "1                                                    NaN         Industrials   \n",
       "2                                                    NaN  Financial Services   \n",
       "3      Aberdeen Australia Equity Fund, Inc. is a non-...  Financial Services   \n",
       "4      Aberdeen Emerging Markets Equity Income Fund, ...  Financial Services   \n",
       "...                                                  ...                 ...   \n",
       "12856                                                NaN         Industrials   \n",
       "12857                                                NaN         Industrials   \n",
       "12858                                                NaN         Industrials   \n",
       "12859  Zargon Oil & Gas Ltd. engages in the explorati...              Energy   \n",
       "12860                                                NaN         Industrials   \n",
       "\n",
       "      country     ipoDate  Column5  Column6  \n",
       "0          US  10/17/2006      NaN      NaN  \n",
       "1         NaN         NaN      NaN      NaN  \n",
       "2          SG         NaN      NaN      NaN  \n",
       "3          US  12/13/1985      NaN      NaN  \n",
       "4          US   9/26/1989      NaN      NaN  \n",
       "...       ...         ...      ...      ...  \n",
       "12856     NaN         NaN      NaN      NaN  \n",
       "12857     NaN         NaN      NaN      NaN  \n",
       "12858     NaN         NaN      NaN      NaN  \n",
       "12859      CA  10/21/1993      NaN      NaN  \n",
       "12860     NaN         NaN      NaN      NaN  \n",
       "\n",
       "[12861 rows x 14 columns]"
      ]
     },
     "execution_count": 7,
     "metadata": {},
     "output_type": "execute_result"
    }
   ],
   "source": [
    "company_profiles"
   ]
  },
  {
   "cell_type": "code",
   "execution_count": 37,
   "metadata": {
    "ExecuteTime": {
     "end_time": "2020-12-08T02:05:07.636007Z",
     "start_time": "2020-12-08T02:05:07.597482Z"
    }
   },
   "outputs": [],
   "source": [
    "# files = (glob.glob(\"../US-West/13F_Filings/*\"))\n",
    "names = [os.path.basename(x) for x in files]\n"
   ]
  },
  {
   "cell_type": "code",
   "execution_count": 13,
   "metadata": {
    "ExecuteTime": {
     "end_time": "2020-12-07T01:37:19.082288Z",
     "start_time": "2020-12-07T01:37:19.048288Z"
    }
   },
   "outputs": [],
   "source": [
    "pd.DataFrame({\"funds_ciks\":names}).to_csv(\"funds_ciks_list.csv\")"
   ]
  },
  {
   "cell_type": "code",
   "execution_count": 175,
   "metadata": {
    "ExecuteTime": {
     "end_time": "2020-12-06T22:36:12.444002Z",
     "start_time": "2020-12-06T22:36:12.432479Z"
    }
   },
   "outputs": [],
   "source": [
    "try:\n",
    "    del names\n",
    "    del names_list\n",
    "    del symbols_df\n",
    "    del sectors_df\n",
    "#     del df\n",
    "except Exception as e:\n",
    "    pass"
   ]
  },
  {
   "cell_type": "code",
   "execution_count": 176,
   "metadata": {
    "ExecuteTime": {
     "end_time": "2020-12-06T22:36:18.366630Z",
     "start_time": "2020-12-06T22:36:18.344630Z"
    }
   },
   "outputs": [
    {
     "data": {
      "text/html": [
       "<div>\n",
       "<style scoped>\n",
       "    .dataframe tbody tr th:only-of-type {\n",
       "        vertical-align: middle;\n",
       "    }\n",
       "\n",
       "    .dataframe tbody tr th {\n",
       "        vertical-align: top;\n",
       "    }\n",
       "\n",
       "    .dataframe thead th {\n",
       "        text-align: right;\n",
       "    }\n",
       "</style>\n",
       "<table border=\"1\" class=\"dataframe\">\n",
       "  <thead>\n",
       "    <tr style=\"text-align: right;\">\n",
       "      <th></th>\n",
       "      <th>Unnamed: 0</th>\n",
       "      <th>quantity</th>\n",
       "      <th>underlying</th>\n",
       "      <th>symbol</th>\n",
       "      <th>actype</th>\n",
       "      <th>porc</th>\n",
       "      <th>exchange</th>\n",
       "      <th>actdate</th>\n",
       "    </tr>\n",
       "  </thead>\n",
       "  <tbody>\n",
       "    <tr>\n",
       "      <th>0</th>\n",
       "      <td>0</td>\n",
       "      <td>2000</td>\n",
       "      <td>CMD</td>\n",
       "      <td>1CMD</td>\n",
       "      <td>C</td>\n",
       "      <td>C</td>\n",
       "      <td>AMEX</td>\n",
       "      <td>09/17/2018</td>\n",
       "    </tr>\n",
       "    <tr>\n",
       "      <th>1</th>\n",
       "      <td>1</td>\n",
       "      <td>2000</td>\n",
       "      <td>CMD</td>\n",
       "      <td>1CMD</td>\n",
       "      <td>M</td>\n",
       "      <td>C</td>\n",
       "      <td>AMEX</td>\n",
       "      <td>09/17/2018</td>\n",
       "    </tr>\n",
       "    <tr>\n",
       "      <th>2</th>\n",
       "      <td>2</td>\n",
       "      <td>866</td>\n",
       "      <td>COG</td>\n",
       "      <td>1COG</td>\n",
       "      <td>C</td>\n",
       "      <td>C</td>\n",
       "      <td>AMEX</td>\n",
       "      <td>09/17/2018</td>\n",
       "    </tr>\n",
       "    <tr>\n",
       "      <th>3</th>\n",
       "      <td>3</td>\n",
       "      <td>866</td>\n",
       "      <td>COG</td>\n",
       "      <td>1COG</td>\n",
       "      <td>F</td>\n",
       "      <td>C</td>\n",
       "      <td>AMEX</td>\n",
       "      <td>09/17/2018</td>\n",
       "    </tr>\n",
       "    <tr>\n",
       "      <th>4</th>\n",
       "      <td>4</td>\n",
       "      <td>6000</td>\n",
       "      <td>CWH</td>\n",
       "      <td>1CWH</td>\n",
       "      <td>C</td>\n",
       "      <td>C</td>\n",
       "      <td>ARCA</td>\n",
       "      <td>09/17/2018</td>\n",
       "    </tr>\n",
       "    <tr>\n",
       "      <th>...</th>\n",
       "      <td>...</td>\n",
       "      <td>...</td>\n",
       "      <td>...</td>\n",
       "      <td>...</td>\n",
       "      <td>...</td>\n",
       "      <td>...</td>\n",
       "      <td>...</td>\n",
       "      <td>...</td>\n",
       "    </tr>\n",
       "    <tr>\n",
       "      <th>99688</th>\n",
       "      <td>99688</td>\n",
       "      <td>8</td>\n",
       "      <td>ZYXI</td>\n",
       "      <td>ZYXI</td>\n",
       "      <td>M</td>\n",
       "      <td>P</td>\n",
       "      <td>BATS</td>\n",
       "      <td>08/31/2020</td>\n",
       "    </tr>\n",
       "    <tr>\n",
       "      <th>99689</th>\n",
       "      <td>99689</td>\n",
       "      <td>24</td>\n",
       "      <td>ZYXI</td>\n",
       "      <td>ZYXI</td>\n",
       "      <td>C</td>\n",
       "      <td>C</td>\n",
       "      <td>EDGX</td>\n",
       "      <td>08/31/2020</td>\n",
       "    </tr>\n",
       "    <tr>\n",
       "      <th>99690</th>\n",
       "      <td>99690</td>\n",
       "      <td>24</td>\n",
       "      <td>ZYXI</td>\n",
       "      <td>ZYXI</td>\n",
       "      <td>M</td>\n",
       "      <td>C</td>\n",
       "      <td>EDGX</td>\n",
       "      <td>08/31/2020</td>\n",
       "    </tr>\n",
       "    <tr>\n",
       "      <th>99691</th>\n",
       "      <td>99691</td>\n",
       "      <td>6</td>\n",
       "      <td>ZYXI</td>\n",
       "      <td>ZYXI</td>\n",
       "      <td>C</td>\n",
       "      <td>P</td>\n",
       "      <td>EDGX</td>\n",
       "      <td>08/31/2020</td>\n",
       "    </tr>\n",
       "    <tr>\n",
       "      <th>99692</th>\n",
       "      <td>99692</td>\n",
       "      <td>6</td>\n",
       "      <td>ZYXI</td>\n",
       "      <td>ZYXI</td>\n",
       "      <td>M</td>\n",
       "      <td>P</td>\n",
       "      <td>EDGX</td>\n",
       "      <td>08/31/2020</td>\n",
       "    </tr>\n",
       "  </tbody>\n",
       "</table>\n",
       "<p>42246335 rows × 8 columns</p>\n",
       "</div>"
      ],
      "text/plain": [
       "       Unnamed: 0  quantity underlying symbol actype porc exchange     actdate\n",
       "0               0      2000        CMD   1CMD      C    C     AMEX  09/17/2018\n",
       "1               1      2000        CMD   1CMD      M    C     AMEX  09/17/2018\n",
       "2               2       866        COG   1COG      C    C     AMEX  09/17/2018\n",
       "3               3       866        COG   1COG      F    C     AMEX  09/17/2018\n",
       "4               4      6000        CWH   1CWH      C    C     ARCA  09/17/2018\n",
       "...           ...       ...        ...    ...    ...  ...      ...         ...\n",
       "99688       99688         8       ZYXI   ZYXI      M    P     BATS  08/31/2020\n",
       "99689       99689        24       ZYXI   ZYXI      C    C     EDGX  08/31/2020\n",
       "99690       99690        24       ZYXI   ZYXI      M    C     EDGX  08/31/2020\n",
       "99691       99691         6       ZYXI   ZYXI      C    P     EDGX  08/31/2020\n",
       "99692       99692         6       ZYXI   ZYXI      M    P     EDGX  08/31/2020\n",
       "\n",
       "[42246335 rows x 8 columns]"
      ]
     },
     "execution_count": 176,
     "metadata": {},
     "output_type": "execute_result"
    }
   ],
   "source": [
    "df"
   ]
  },
  {
   "cell_type": "code",
   "execution_count": 167,
   "metadata": {
    "ExecuteTime": {
     "end_time": "2020-12-06T19:37:33.662248Z",
     "start_time": "2020-12-06T19:37:32.090735Z"
    }
   },
   "outputs": [],
   "source": [
    "# THIS\n",
    "symbols_df = pd.DataFrame({'symbol':(df['symbol']).unique()}) #historical dividends"
   ]
  },
  {
   "cell_type": "code",
   "execution_count": 143,
   "metadata": {
    "ExecuteTime": {
     "end_time": "2020-12-06T18:34:56.442909Z",
     "start_time": "2020-12-06T18:34:56.427910Z"
    }
   },
   "outputs": [],
   "source": [
    "# df - dividends - 4.6 million rows\n",
    "# df - earnings - 187314 rows\n",
    "# df - ipo - 6656 rows\n",
    "# df - stock splits - 10063 rows"
   ]
  },
  {
   "cell_type": "code",
   "execution_count": 20,
   "metadata": {
    "ExecuteTime": {
     "end_time": "2020-12-08T00:00:59.584555Z",
     "start_time": "2020-12-08T00:00:59.579554Z"
    }
   },
   "outputs": [
    {
     "data": {
      "text/plain": [
       "'AA'"
      ]
     },
     "execution_count": 20,
     "metadata": {},
     "output_type": "execute_result"
    }
   ],
   "source": [
    "names[1].split(\"~\")[1]"
   ]
  },
  {
   "cell_type": "code",
   "execution_count": 21,
   "metadata": {
    "ExecuteTime": {
     "end_time": "2020-12-08T00:01:40.190787Z",
     "start_time": "2020-12-08T00:01:40.178272Z"
    }
   },
   "outputs": [
    {
     "data": {
      "text/plain": [
       "'quarter~AA~balance_sheet.csv'"
      ]
     },
     "execution_count": 21,
     "metadata": {},
     "output_type": "execute_result"
    }
   ],
   "source": [
    "names[1]"
   ]
  },
  {
   "cell_type": "code",
   "execution_count": 38,
   "metadata": {
    "ExecuteTime": {
     "end_time": "2020-12-08T02:05:20.462615Z",
     "start_time": "2020-12-08T02:05:20.420094Z"
    }
   },
   "outputs": [],
   "source": [
    "# OR THIS\n",
    "names = [os.path.basename(x) for x in files]\n",
    "names_list=[]\n",
    "for x in names:\n",
    "#     names_list.append(x.split(\"-\")[4].split(\".csv\")[0]) # market cap n price        \n",
    "#         names_list.append(x.split(\"_\")[1])\n",
    "    names_list.append(x.split(\"~\")[1]) # financial statements eg Balance Sheet\n",
    "symbols_df = pd.DataFrame({'symbol':names_list})"
   ]
  },
  {
   "cell_type": "code",
   "execution_count": 172,
   "metadata": {
    "ExecuteTime": {
     "end_time": "2020-12-06T22:35:33.736821Z",
     "start_time": "2020-12-06T22:35:33.716303Z"
    },
    "run_control": {
     "marked": true
    }
   },
   "outputs": [],
   "source": [
    "# for minute data - large, small, tiny cap, etf+\n",
    "# minute data - Large Cap+, Small Cap+, Tiny Cap+ AND Ticks\n",
    "names = [os.path.basename(x).replace(\".\",\"-\") for x in files]\n",
    "names = [os.path.basename(x) for x in names]\n",
    "symbols_df = pd.DataFrame({'symbol':names})"
   ]
  },
  {
   "cell_type": "code",
   "execution_count": 39,
   "metadata": {
    "ExecuteTime": {
     "end_time": "2020-12-08T02:05:22.486357Z",
     "start_time": "2020-12-08T02:05:22.465835Z"
    },
    "run_control": {
     "marked": true
    }
   },
   "outputs": [
    {
     "data": {
      "text/plain": [
       "sector\n",
       "Basic Materials            480\n",
       "Communication Services     349\n",
       "Consumer Cyclical          703\n",
       "Consumer Defensive         303\n",
       "Energy                     482\n",
       "Financial Services        1336\n",
       "Healthcare                1184\n",
       "Industrials               1050\n",
       "Real Estate                393\n",
       "Technology                 860\n",
       "Utilities                  156\n",
       "Name: symbol, dtype: int64"
      ]
     },
     "execution_count": 39,
     "metadata": {},
     "output_type": "execute_result"
    }
   ],
   "source": [
    "sectors_df = pd.merge(symbols_df,  \n",
    "                      company_profiles,  \n",
    "                      on ='symbol',  \n",
    "                      how ='inner')\n",
    "sectors_df.groupby([\"sector\"]).count()['symbol']"
   ]
  },
  {
   "cell_type": "code",
   "execution_count": 5,
   "metadata": {
    "ExecuteTime": {
     "end_time": "2020-12-06T22:47:42.674943Z",
     "start_time": "2020-12-06T22:47:16.833189Z"
    }
   },
   "outputs": [],
   "source": [
    "df[\"YYYY-MM\"]=df['actdate'].apply(lambda x:\"{}-{}\".format(str(x)[-4:],str(x)[0:2]))"
   ]
  },
  {
   "cell_type": "code",
   "execution_count": 7,
   "metadata": {
    "ExecuteTime": {
     "end_time": "2020-12-06T22:48:16.726751Z",
     "start_time": "2020-12-06T22:48:04.346065Z"
    }
   },
   "outputs": [],
   "source": [
    "df_groupby_options_vol = df.groupby([\"YYYY-MM\"]).count()['symbol']"
   ]
  },
  {
   "cell_type": "code",
   "execution_count": 8,
   "metadata": {
    "ExecuteTime": {
     "end_time": "2020-12-06T22:48:16.866750Z",
     "start_time": "2020-12-06T22:48:16.852753Z"
    }
   },
   "outputs": [
    {
     "data": {
      "text/plain": [
       "MM-YYYY\n",
       "2018-09     825998\n",
       "2018-10    1904893\n",
       "2018-11    1636831\n",
       "2018-12    1449477\n",
       "2019-01    1611575\n",
       "2019-02    1540195\n",
       "2019-03    1628063\n",
       "2019-04    1670404\n",
       "2019-05    1777071\n",
       "2019-06    1557724\n",
       "2019-07    1787688\n",
       "2019-08    1815907\n",
       "2019-09    1654600\n",
       "2019-10    1893030\n",
       "2019-11    1698369\n",
       "2019-12    1750331\n",
       "2020-01    1894464\n",
       "2020-02    1805536\n",
       "2020-03    2033965\n",
       "2020-04    1861056\n",
       "2020-05    1938252\n",
       "2020-06    2217632\n",
       "2020-07    2155267\n",
       "2020-08    2138007\n",
       "Name: symbol, dtype: int64"
      ]
     },
     "execution_count": 8,
     "metadata": {},
     "output_type": "execute_result"
    }
   ],
   "source": [
    "df_groupby_options_vol"
   ]
  },
  {
   "cell_type": "code",
   "execution_count": 34,
   "metadata": {
    "ExecuteTime": {
     "end_time": "2020-12-08T02:02:11.649454Z",
     "start_time": "2020-12-08T02:02:11.612456Z"
    }
   },
   "outputs": [],
   "source": [
    "# sectors_df.to_csv(\"../Sample_Data/sector_n_exchange_count/market_cap_n_price_by_sectors_n_exchange.csv\")\n",
    "# sectors_df.to_csv(\"../Sample_Data/sector_n_exchange_count/financial_statements_by_sectors_n_exchange.csv\")\n",
    "# sectors_df.to_csv(\"../Sample_Data/sector_n_exchange_count/analyst_ratings_by_sectors_n_exchange.csv\")\n",
    "# sectors_df.to_csv(\"../Sample_Data/sector_n_exchange_count/analyst_grades_by_sectors_n_exchange.csv\")\n",
    "# sectors_df.to_csv(\"../Sample_Data/sector_n_exchange_count/dividends_by_sectors_n_exchange.csv\")\n",
    "# sectors_df.to_csv(\"../Sample_Data/sector_n_exchange_count/earnings_by_sectors_n_exchange.csv\")\n",
    "# sectors_df.to_csv(\"../Sample_Data/sector_n_exchange_count/stock_splits_by_sectors_n_exchange.csv\")\n",
    "# sectors_df.to_csv(\"../Sample_Data/sector_n_exchange_count/ipos_by_sectors_n_exchange.csv\")\n",
    "# sectors_df.to_csv(\"../Sample_Data/sector_n_exchange_count/minute_data_large_by_sectors_n_exchange.csv\")\n",
    "# sectors_df.to_csv(\"../Sample_Data/sector_n_exchange_count/minute_data_large_by_sectors_n_exchange.csv\")\n",
    "# sectors_df.to_csv(\"../Sample_Data/sector_n_exchange_count/minute_data_small_by_sectors_n_exchange.csv\")\n",
    "# sectors_df.to_csv(\"../Sample_Data/sector_n_exchange_count/minute_data_tiny_by_sectors_n_exchange.csv\")\n",
    "# sectors_df.to_csv(\"../Sample_Data/sector_n_exchange_count/minute_data_etf_by_sectors_n_exchange.csv\")\n",
    "\n",
    "# sectors_df.to_csv(\"../Sample_Data/sector_n_exchange_count/minute_data_etf_by_sectors_n_exchange.csv\")\n",
    "\n",
    "sectors_df.to_csv(\"../Sample_Data/sector_n_exchange_count/options_volume_by_sectors_n_exchange.csv\")\n"
   ]
  },
  {
   "cell_type": "code",
   "execution_count": 40,
   "metadata": {
    "ExecuteTime": {
     "end_time": "2020-12-08T02:05:31.222183Z",
     "start_time": "2020-12-08T02:05:31.198184Z"
    }
   },
   "outputs": [
    {
     "data": {
      "text/html": [
       "<div>\n",
       "<style scoped>\n",
       "    .dataframe tbody tr th:only-of-type {\n",
       "        vertical-align: middle;\n",
       "    }\n",
       "\n",
       "    .dataframe tbody tr th {\n",
       "        vertical-align: top;\n",
       "    }\n",
       "\n",
       "    .dataframe thead th {\n",
       "        text-align: right;\n",
       "    }\n",
       "</style>\n",
       "<table border=\"1\" class=\"dataframe\">\n",
       "  <thead>\n",
       "    <tr style=\"text-align: right;\">\n",
       "      <th></th>\n",
       "      <th>symbol</th>\n",
       "      <th>companyName</th>\n",
       "      <th>sector</th>\n",
       "      <th>industry</th>\n",
       "      <th>exchangeShortName</th>\n",
       "    </tr>\n",
       "  </thead>\n",
       "  <tbody>\n",
       "    <tr>\n",
       "      <th>0</th>\n",
       "      <td>AAU</td>\n",
       "      <td>Almaden Minerals Ltd</td>\n",
       "      <td>Basic Materials</td>\n",
       "      <td>Gold</td>\n",
       "      <td>AMEX</td>\n",
       "    </tr>\n",
       "    <tr>\n",
       "      <th>1</th>\n",
       "      <td>AA</td>\n",
       "      <td>Alcoa Corp</td>\n",
       "      <td>Basic Materials</td>\n",
       "      <td>Aluminum</td>\n",
       "      <td>NYSE</td>\n",
       "    </tr>\n",
       "    <tr>\n",
       "      <th>2</th>\n",
       "      <td>ABX.TO</td>\n",
       "      <td>Barrick Gold Corp</td>\n",
       "      <td>Basic Materials</td>\n",
       "      <td>Gold</td>\n",
       "      <td>TSX</td>\n",
       "    </tr>\n",
       "    <tr>\n",
       "      <th>3</th>\n",
       "      <td>ACET</td>\n",
       "      <td>Aceto Corporation</td>\n",
       "      <td>Basic Materials</td>\n",
       "      <td>Chemicals</td>\n",
       "      <td>NASDAQ</td>\n",
       "    </tr>\n",
       "    <tr>\n",
       "      <th>4</th>\n",
       "      <td>ACH</td>\n",
       "      <td>Aluminum Corporation of China Limited American...</td>\n",
       "      <td>Basic Materials</td>\n",
       "      <td>Metals &amp; Mining</td>\n",
       "      <td>NYSE</td>\n",
       "    </tr>\n",
       "    <tr>\n",
       "      <th>...</th>\n",
       "      <td>...</td>\n",
       "      <td>...</td>\n",
       "      <td>...</td>\n",
       "      <td>...</td>\n",
       "      <td>...</td>\n",
       "    </tr>\n",
       "    <tr>\n",
       "      <th>7291</th>\n",
       "      <td>WR</td>\n",
       "      <td>Westar Energy Inc.</td>\n",
       "      <td>Utilities</td>\n",
       "      <td>Utilities Regulated</td>\n",
       "      <td>NYSE</td>\n",
       "    </tr>\n",
       "    <tr>\n",
       "      <th>7292</th>\n",
       "      <td>WTRG</td>\n",
       "      <td>Essential Utilities Inc</td>\n",
       "      <td>Utilities</td>\n",
       "      <td>Utilities Regulated Water</td>\n",
       "      <td>NYSE</td>\n",
       "    </tr>\n",
       "    <tr>\n",
       "      <th>7293</th>\n",
       "      <td>WTR</td>\n",
       "      <td>Aqua America Inc.</td>\n",
       "      <td>Utilities</td>\n",
       "      <td>Utilities Regulated</td>\n",
       "      <td>NYSE</td>\n",
       "    </tr>\n",
       "    <tr>\n",
       "      <th>7294</th>\n",
       "      <td>XEL</td>\n",
       "      <td>Xcel Energy Inc</td>\n",
       "      <td>Utilities</td>\n",
       "      <td>Utilities Regulated Electric</td>\n",
       "      <td>NASDAQ</td>\n",
       "    </tr>\n",
       "    <tr>\n",
       "      <th>7295</th>\n",
       "      <td>YORW</td>\n",
       "      <td>York Water Co</td>\n",
       "      <td>Utilities</td>\n",
       "      <td>Utilities Regulated Water</td>\n",
       "      <td>NASDAQ</td>\n",
       "    </tr>\n",
       "  </tbody>\n",
       "</table>\n",
       "<p>7296 rows × 5 columns</p>\n",
       "</div>"
      ],
      "text/plain": [
       "      symbol                                        companyName  \\\n",
       "0        AAU                               Almaden Minerals Ltd   \n",
       "1         AA                                         Alcoa Corp   \n",
       "2     ABX.TO                                  Barrick Gold Corp   \n",
       "3       ACET                                  Aceto Corporation   \n",
       "4        ACH  Aluminum Corporation of China Limited American...   \n",
       "...      ...                                                ...   \n",
       "7291      WR                                 Westar Energy Inc.   \n",
       "7292    WTRG                            Essential Utilities Inc   \n",
       "7293     WTR                                  Aqua America Inc.   \n",
       "7294     XEL                                    Xcel Energy Inc   \n",
       "7295    YORW                                      York Water Co   \n",
       "\n",
       "               sector                      industry exchangeShortName  \n",
       "0     Basic Materials                          Gold              AMEX  \n",
       "1     Basic Materials                      Aluminum              NYSE  \n",
       "2     Basic Materials                          Gold               TSX  \n",
       "3     Basic Materials                     Chemicals            NASDAQ  \n",
       "4     Basic Materials               Metals & Mining              NYSE  \n",
       "...               ...                           ...               ...  \n",
       "7291        Utilities           Utilities Regulated              NYSE  \n",
       "7292        Utilities     Utilities Regulated Water              NYSE  \n",
       "7293        Utilities           Utilities Regulated              NYSE  \n",
       "7294        Utilities  Utilities Regulated Electric            NASDAQ  \n",
       "7295        Utilities     Utilities Regulated Water            NASDAQ  \n",
       "\n",
       "[7296 rows x 5 columns]"
      ]
     },
     "execution_count": 40,
     "metadata": {},
     "output_type": "execute_result"
    }
   ],
   "source": [
    "sectors_df"
   ]
  },
  {
   "cell_type": "code",
   "execution_count": 41,
   "metadata": {
    "ExecuteTime": {
     "end_time": "2020-12-08T02:05:32.915558Z",
     "start_time": "2020-12-08T02:05:32.873028Z"
    },
    "run_control": {
     "marked": true
    }
   },
   "outputs": [],
   "source": [
    "sectors_df.to_csv(\"../Sample_Data/sector_n_exchange_count/fin_statements_balance_sheet_by_sectors_n_exchange.csv\")\n"
   ]
  },
  {
   "cell_type": "code",
   "execution_count": 196,
   "metadata": {
    "ExecuteTime": {
     "end_time": "2020-12-01T21:33:13.279396Z",
     "start_time": "2020-12-01T21:33:13.265864Z"
    }
   },
   "outputs": [],
   "source": [
    "# delete 0 byte files\n",
    "# import os, os.path\n",
    "\n",
    "# for root, _, files in os.walk(\"../MVLLC/options/volbyclass/\"):\n",
    "#     for f in files:\n",
    "#         fullpath = os.path.join(root, f)\n",
    "#         try:\n",
    "#             if os.path.getsize(fullpath) < 1 * 1024:   #set file size in kb\n",
    "#                 print (fullpath)\n",
    "#                 os.remove(fullpath)\n",
    "#         except WindowsError:\n",
    "#             print (\"Error\" + fullpath)"
   ]
  },
  {
   "cell_type": "code",
   "execution_count": 206,
   "metadata": {
    "ExecuteTime": {
     "end_time": "2020-12-01T21:44:48.964185Z",
     "start_time": "2020-12-01T21:44:48.960186Z"
    },
    "run_control": {
     "marked": true
    }
   },
   "outputs": [],
   "source": [
    "# df['Underlying Security'].to_csv(\"../Sample_Data/volbyclass_symbols.csv\")"
   ]
  },
  {
   "cell_type": "code",
   "execution_count": 13,
   "metadata": {
    "ExecuteTime": {
     "end_time": "2020-12-05T21:54:10.329735Z",
     "start_time": "2020-12-05T21:54:10.310220Z"
    }
   },
   "outputs": [],
   "source": [
    "df = df.sort_values(\"date\")"
   ]
  },
  {
   "cell_type": "code",
   "execution_count": 14,
   "metadata": {
    "ExecuteTime": {
     "end_time": "2020-12-05T21:54:10.611737Z",
     "start_time": "2020-12-05T21:54:10.604739Z"
    }
   },
   "outputs": [],
   "source": [
    "df['year'] = df['date'].apply(lambda x: str(x)[:4])"
   ]
  },
  {
   "cell_type": "code",
   "execution_count": 15,
   "metadata": {
    "ExecuteTime": {
     "end_time": "2020-12-05T21:54:15.143287Z",
     "start_time": "2020-12-05T21:54:15.120274Z"
    }
   },
   "outputs": [
    {
     "data": {
      "text/html": [
       "<div>\n",
       "<style scoped>\n",
       "    .dataframe tbody tr th:only-of-type {\n",
       "        vertical-align: middle;\n",
       "    }\n",
       "\n",
       "    .dataframe tbody tr th {\n",
       "        vertical-align: top;\n",
       "    }\n",
       "\n",
       "    .dataframe thead th {\n",
       "        text-align: right;\n",
       "    }\n",
       "</style>\n",
       "<table border=\"1\" class=\"dataframe\">\n",
       "  <thead>\n",
       "    <tr style=\"text-align: right;\">\n",
       "      <th></th>\n",
       "      <th>Unnamed: 0</th>\n",
       "      <th>date</th>\n",
       "      <th>label</th>\n",
       "      <th>symbol</th>\n",
       "      <th>numerator</th>\n",
       "      <th>denominator</th>\n",
       "      <th>year</th>\n",
       "    </tr>\n",
       "  </thead>\n",
       "  <tbody>\n",
       "    <tr>\n",
       "      <th>0</th>\n",
       "      <td>0</td>\n",
       "      <td>1974-04-01</td>\n",
       "      <td>April 01, 74</td>\n",
       "      <td>AIG</td>\n",
       "      <td>5.0</td>\n",
       "      <td>4.0</td>\n",
       "      <td>1974</td>\n",
       "    </tr>\n",
       "    <tr>\n",
       "      <th>1</th>\n",
       "      <td>0</td>\n",
       "      <td>1974-04-30</td>\n",
       "      <td>April 30, 74</td>\n",
       "      <td>UIS</td>\n",
       "      <td>2.0</td>\n",
       "      <td>1.0</td>\n",
       "      <td>1974</td>\n",
       "    </tr>\n",
       "    <tr>\n",
       "      <th>2</th>\n",
       "      <td>0</td>\n",
       "      <td>1974-06-03</td>\n",
       "      <td>June 03, 74</td>\n",
       "      <td>MO</td>\n",
       "      <td>2.0</td>\n",
       "      <td>1.0</td>\n",
       "      <td>1974</td>\n",
       "    </tr>\n",
       "    <tr>\n",
       "      <th>3</th>\n",
       "      <td>0</td>\n",
       "      <td>1974-11-29</td>\n",
       "      <td>November 29, 74</td>\n",
       "      <td>DIS</td>\n",
       "      <td>102.0</td>\n",
       "      <td>100.0</td>\n",
       "      <td>1974</td>\n",
       "    </tr>\n",
       "    <tr>\n",
       "      <th>4</th>\n",
       "      <td>0</td>\n",
       "      <td>1974-12-17</td>\n",
       "      <td>December 17, 74</td>\n",
       "      <td>IFF</td>\n",
       "      <td>102.0</td>\n",
       "      <td>100.0</td>\n",
       "      <td>1974</td>\n",
       "    </tr>\n",
       "    <tr>\n",
       "      <th>...</th>\n",
       "      <td>...</td>\n",
       "      <td>...</td>\n",
       "      <td>...</td>\n",
       "      <td>...</td>\n",
       "      <td>...</td>\n",
       "      <td>...</td>\n",
       "      <td>...</td>\n",
       "    </tr>\n",
       "    <tr>\n",
       "      <th>268</th>\n",
       "      <td>0</td>\n",
       "      <td>2020-09-30</td>\n",
       "      <td>September 30, 20</td>\n",
       "      <td>AVT.PA</td>\n",
       "      <td>1.0</td>\n",
       "      <td>80.0</td>\n",
       "      <td>2020</td>\n",
       "    </tr>\n",
       "    <tr>\n",
       "      <th>299</th>\n",
       "      <td>0</td>\n",
       "      <td>2020-10-02</td>\n",
       "      <td>October 02, 20</td>\n",
       "      <td>ADRO</td>\n",
       "      <td>1.0</td>\n",
       "      <td>5.0</td>\n",
       "      <td>2020</td>\n",
       "    </tr>\n",
       "    <tr>\n",
       "      <th>300</th>\n",
       "      <td>0</td>\n",
       "      <td>2020-10-02</td>\n",
       "      <td>October 02, 20</td>\n",
       "      <td>NTES</td>\n",
       "      <td>5.0</td>\n",
       "      <td>1.0</td>\n",
       "      <td>2020</td>\n",
       "    </tr>\n",
       "    <tr>\n",
       "      <th>298</th>\n",
       "      <td>0</td>\n",
       "      <td>2020-10-05</td>\n",
       "      <td>October 05, 20</td>\n",
       "      <td>NVUS</td>\n",
       "      <td>1.0</td>\n",
       "      <td>18.0</td>\n",
       "      <td>2020</td>\n",
       "    </tr>\n",
       "    <tr>\n",
       "      <th>297</th>\n",
       "      <td>0</td>\n",
       "      <td>2020-10-09</td>\n",
       "      <td>October 09, 20</td>\n",
       "      <td>FTV</td>\n",
       "      <td>1195.0</td>\n",
       "      <td>1000.0</td>\n",
       "      <td>2020</td>\n",
       "    </tr>\n",
       "  </tbody>\n",
       "</table>\n",
       "<p>10063 rows × 7 columns</p>\n",
       "</div>"
      ],
      "text/plain": [
       "     Unnamed: 0        date             label  symbol  numerator  denominator  \\\n",
       "0             0  1974-04-01      April 01, 74     AIG        5.0          4.0   \n",
       "1             0  1974-04-30      April 30, 74     UIS        2.0          1.0   \n",
       "2             0  1974-06-03       June 03, 74      MO        2.0          1.0   \n",
       "3             0  1974-11-29   November 29, 74     DIS      102.0        100.0   \n",
       "4             0  1974-12-17   December 17, 74     IFF      102.0        100.0   \n",
       "..          ...         ...               ...     ...        ...          ...   \n",
       "268           0  2020-09-30  September 30, 20  AVT.PA        1.0         80.0   \n",
       "299           0  2020-10-02    October 02, 20    ADRO        1.0          5.0   \n",
       "300           0  2020-10-02    October 02, 20    NTES        5.0          1.0   \n",
       "298           0  2020-10-05    October 05, 20    NVUS        1.0         18.0   \n",
       "297           0  2020-10-09    October 09, 20     FTV     1195.0       1000.0   \n",
       "\n",
       "     year  \n",
       "0    1974  \n",
       "1    1974  \n",
       "2    1974  \n",
       "3    1974  \n",
       "4    1974  \n",
       "..    ...  \n",
       "268  2020  \n",
       "299  2020  \n",
       "300  2020  \n",
       "298  2020  \n",
       "297  2020  \n",
       "\n",
       "[10063 rows x 7 columns]"
      ]
     },
     "execution_count": 15,
     "metadata": {},
     "output_type": "execute_result"
    }
   ],
   "source": [
    "df"
   ]
  },
  {
   "cell_type": "code",
   "execution_count": 150,
   "metadata": {
    "ExecuteTime": {
     "end_time": "2020-12-01T21:03:44.302754Z",
     "start_time": "2020-12-01T21:03:44.296759Z"
    },
    "run_control": {
     "marked": true
    }
   },
   "outputs": [],
   "source": [
    "# df = df[df.date.notna()]\n",
    "# # df.event.unique()"
   ]
  },
  {
   "cell_type": "code",
   "execution_count": 207,
   "metadata": {
    "ExecuteTime": {
     "end_time": "2020-12-01T21:44:56.569842Z",
     "start_time": "2020-12-01T21:44:56.560324Z"
    },
    "run_control": {
     "marked": true
    }
   },
   "outputs": [],
   "source": [
    "# df.sort_values(\"date\").year.value_counts()"
   ]
  },
  {
   "cell_type": "code",
   "execution_count": 208,
   "metadata": {
    "ExecuteTime": {
     "end_time": "2020-12-01T21:44:59.829753Z",
     "start_time": "2020-12-01T21:44:59.815256Z"
    }
   },
   "outputs": [],
   "source": [
    "# df.sort_values(\"country\").country.value_counts()"
   ]
  },
  {
   "cell_type": "code",
   "execution_count": 209,
   "metadata": {
    "ExecuteTime": {
     "end_time": "2020-12-01T21:45:02.892964Z",
     "start_time": "2020-12-01T21:45:02.878965Z"
    }
   },
   "outputs": [],
   "source": [
    "# df.groupby([\"country\",\"event\"]).mean().to_csv(\"../Sample_Data/historical_economic_events.csv\")"
   ]
  },
  {
   "cell_type": "code",
   "execution_count": 210,
   "metadata": {
    "ExecuteTime": {
     "end_time": "2020-12-01T21:45:06.868024Z",
     "start_time": "2020-12-01T21:45:06.855023Z"
    }
   },
   "outputs": [],
   "source": [
    "# pd.DataFrame({'symbols':df['symbol'].unique()}).to_csv(\"../Sample_Data/historical_earnings_calendar_symbols.csv\")\n",
    "\n",
    "# pd.DataFrame({'symbols':df['symbol'].unique()}).to_csv(\"../Sample_Data/historical_dividends_symbols.csv\")\n"
   ]
  },
  {
   "cell_type": "code",
   "execution_count": 22,
   "metadata": {
    "ExecuteTime": {
     "end_time": "2020-12-01T19:47:40.886047Z",
     "start_time": "2020-12-01T19:47:40.824050Z"
    }
   },
   "outputs": [],
   "source": [
    "# pd.DataFrame({'symbols':df['symbol'].unique()}).to_csv(\"../US-East/Wall Street Consensus/ratings_symbol.csv\")\n",
    "# pd.DataFrame({'symbols':df['gradingCompany'].unique()}).to_csv((\"../US-East/Wall Street Consensus/grade_companies.csv\"))\n",
    "# pd.DataFrame({'symbols':df['symbol'].unique()}).to_csv(\"../US-East/Wall Street Consensus/grade_symbols.csv\")"
   ]
  },
  {
   "cell_type": "code",
   "execution_count": null,
   "metadata": {},
   "outputs": [],
   "source": []
  }
 ],
 "metadata": {
  "kernelspec": {
   "display_name": "quantconnect",
   "language": "python",
   "name": "quantconnect"
  },
  "language_info": {
   "codemirror_mode": {
    "name": "ipython",
    "version": 3
   },
   "file_extension": ".py",
   "mimetype": "text/x-python",
   "name": "python",
   "nbconvert_exporter": "python",
   "pygments_lexer": "ipython3",
   "version": "3.9.0"
  },
  "toc": {
   "base_numbering": 1,
   "nav_menu": {},
   "number_sections": true,
   "sideBar": true,
   "skip_h1_title": false,
   "title_cell": "Table of Contents",
   "title_sidebar": "Contents",
   "toc_cell": false,
   "toc_position": {},
   "toc_section_display": true,
   "toc_window_display": false
  },
  "varInspector": {
   "cols": {
    "lenName": 16,
    "lenType": 16,
    "lenVar": 40
   },
   "kernels_config": {
    "python": {
     "delete_cmd_postfix": "",
     "delete_cmd_prefix": "del ",
     "library": "var_list.py",
     "varRefreshCmd": "print(var_dic_list())"
    },
    "r": {
     "delete_cmd_postfix": ") ",
     "delete_cmd_prefix": "rm(",
     "library": "var_list.r",
     "varRefreshCmd": "cat(var_dic_list()) "
    }
   },
   "types_to_exclude": [
    "module",
    "function",
    "builtin_function_or_method",
    "instance",
    "_Feature"
   ],
   "window_display": false
  }
 },
 "nbformat": 4,
 "nbformat_minor": 4
}
