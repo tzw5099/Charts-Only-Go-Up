{
 "cells": [
  {
   "cell_type": "code",
   "execution_count": null,
   "metadata": {},
   "outputs": [],
   "source": []
  },
  {
   "cell_type": "code",
   "execution_count": 15,
   "metadata": {
    "ExecuteTime": {
     "end_time": "2020-12-14T18:13:35.058711Z",
     "start_time": "2020-12-14T18:13:35.050184Z"
    }
   },
   "outputs": [],
   "source": [
    "import pandas as pd\n",
    "import numpy as np\n",
    "import glob as glob\n",
    "import os\n",
    "import time\n",
    "import pathlib"
   ]
  },
  {
   "cell_type": "code",
   "execution_count": 16,
   "metadata": {
    "ExecuteTime": {
     "end_time": "2020-12-14T18:13:35.651246Z",
     "start_time": "2020-12-14T18:13:35.636732Z"
    }
   },
   "outputs": [],
   "source": [
    "uri_list = \"cash-and-cash-equivalents\"\n",
    "url_symbol_name = \"apple\"\n",
    "url_symbol = \"aapl\"\n",
    "url_fin_metric = \"cash-and-cash-equivalents\"\n"
   ]
  },
  {
   "cell_type": "code",
   "execution_count": 17,
   "metadata": {
    "ExecuteTime": {
     "end_time": "2020-12-14T18:13:35.714246Z",
     "start_time": "2020-12-14T18:13:35.700247Z"
    },
    "code_folding": [
     0
    ],
    "run_control": {
     "marked": true
    }
   },
   "outputs": [],
   "source": [
    "def magnitude_num(number, currency_symbol):\n",
    "    if len(str(number)) > 9:\n",
    "        magnitude = number/1000000000\n",
    "        magnitude_str = \"{}{}{}\".format(currency_symbol,round(magnitude,1),\"B\")\n",
    "    elif len(str(number)) > 6:\n",
    "        magnitude = number/1000000\n",
    "        magnitude_str = \"{}{}{}\".format(currency_symbol,round(magnitude,1),\"M\")\n",
    "    elif len(str(number)) > 3:\n",
    "        magnitude = number/1000\n",
    "        magnitude_str = \"{}{}{}\".format(currency_symbol,round(magnitude,1),\"K\")\n",
    "    else:\n",
    "        magnitude = number\n",
    "        magnitude_str = \"{}{}{}\".format(currency_symbol,round(magnitude,1),\"K\")\n",
    "    return magnitude_str"
   ]
  },
  {
   "cell_type": "code",
   "execution_count": null,
   "metadata": {},
   "outputs": [],
   "source": []
  },
  {
   "cell_type": "code",
   "execution_count": 18,
   "metadata": {
    "ExecuteTime": {
     "end_time": "2020-12-14T18:13:36.836935Z",
     "start_time": "2020-12-14T18:13:36.704931Z"
    },
    "code_folding": [
     3
    ],
    "run_control": {
     "marked": true
    }
   },
   "outputs": [],
   "source": [
    "company_profiles = pd.read_csv(\"../reference_data/Company_Profiles.csv\")#, encoding='cp1252')\n",
    "fin_statements_matching = pd.read_csv(\"../reference_data/Financial_Statements_Reference_Matching.csv\")#, encoding='cp1252')\n",
    "currency_symbol = list(company_profiles[company_profiles['symbol']==\"{}\".format(url_symbol.upper())]['currency symbol'])[0]\n",
    "company_profiles_col = ['symbol',\n",
    "                        'long name',\n",
    "                        'currency',\n",
    "                        'exchange',\n",
    "                        'industry',\n",
    "                        'description',\n",
    "                        'sector',\n",
    "                        'country',\n",
    "                        'ipo date',\n",
    "                        'short name']\n",
    "company_profiles = company_profiles[company_profiles_col]  "
   ]
  },
  {
   "cell_type": "code",
   "execution_count": 19,
   "metadata": {
    "ExecuteTime": {
     "end_time": "2020-12-14T18:13:36.851932Z",
     "start_time": "2020-12-14T18:13:36.839933Z"
    }
   },
   "outputs": [],
   "source": [
    "profiles_dict = {}\n",
    "profiles_value = company_profiles[company_profiles['symbol']==\"{}\".format(url_symbol.upper())].values.tolist()[0]\n",
    "\n",
    "titles_bs = list(fin_statements_matching[fin_statements_matching['Financial Statement']==\"Balance Sheet\"]['Title'])\n",
    "titles_cf = list(fin_statements_matching[fin_statements_matching['Financial Statement']==\"Cash Flow Statement\"]['Title'])\n",
    "titles_is = list(fin_statements_matching[fin_statements_matching['Financial Statement']==\"Income Statement\"]['Title'])\n",
    "\n",
    "urls_bs = list(fin_statements_matching[fin_statements_matching['Financial Statement']==\"Balance Sheet\"]['URL'])\n",
    "urls_cf = list(fin_statements_matching[fin_statements_matching['Financial Statement']==\"Cash Flow Statement\"]['URL'])\n",
    "urls_is = list(fin_statements_matching[fin_statements_matching['Financial Statement']==\"Income Statement\"]['URL'])"
   ]
  },
  {
   "cell_type": "code",
   "execution_count": 20,
   "metadata": {
    "ExecuteTime": {
     "end_time": "2020-12-14T18:13:37.382405Z",
     "start_time": "2020-12-14T18:13:37.369405Z"
    },
    "code_folding": [
     0,
     7
    ],
    "run_control": {
     "marked": true
    }
   },
   "outputs": [],
   "source": [
    "for n, profiles_col in enumerate(company_profiles_col):\n",
    "    key = profiles_col\n",
    "    value = profiles_value[n]\n",
    "    profiles_dict[key] = value \n",
    "\n",
    "if \"{}\".format(url_fin_metric) in urls_is:\n",
    "    fin_statement_dir = \"Income Statement\"\n",
    "elif \"{}\".format(url_fin_metric) in urls_bs:\n",
    "    fin_metric_pos = urls_bs.index(\"{}\".format(url_fin_metric))\n",
    "    fin_statement_dir = \"Balance Sheet\"\n",
    "    fin_statement_cols = titles_bs\n",
    "    cols = titles_bs\n",
    "    fin_metric_title = fin_statement_cols[fin_metric_pos]\n",
    "\n",
    "elif \"{}\".format(url_fin_metric) in urls_cf:\n",
    "    fin_statement_dir = \"Cash Flow Statement\"\n",
    "\n",
    "else:\n",
    "    pass\n"
   ]
  },
  {
   "cell_type": "code",
   "execution_count": 21,
   "metadata": {
    "ExecuteTime": {
     "end_time": "2020-12-14T18:13:37.429404Z",
     "start_time": "2020-12-14T18:13:37.384406Z"
    }
   },
   "outputs": [
    {
     "name": "stdout",
     "output_type": "stream",
     "text": [
      "fin metric name cashAndCashEquivalents\n"
     ]
    }
   ],
   "source": [
    "# start_time = time.time()\n",
    "csv_file = glob.glob(\"../Charts_TenDollarData/financial_statements/data/Historical Financial Statements/*/year/{}/*~{}~*\".format(fin_statement_dir, url_symbol.upper()))[-1]\n",
    "\n",
    "df = pd.read_csv(csv_file) #.format(\"NLOK\"))[-1]\n",
    "# df = df[df['date'].notna()]#fillna(method='ffill')\n",
    "df = df[0:].iloc[::-1]#.dropna()\n",
    "df_fin_statement = df\n",
    "#region Pandas data manipulation\n",
    "matching_row = fin_statements_matching[fin_statements_matching['URL']==\"{}\".format(url_fin_metric)]\n",
    "fin_metric_title = list(matching_row['Title'])[0]\n",
    "fin_metric_name = list(matching_row['Name'])[0]\n",
    "print(\"fin metric name\", fin_metric_name)\n",
    "sorted_metric = df[\"{}\".format(fin_metric_name)].sort_values()"
   ]
  },
  {
   "cell_type": "code",
   "execution_count": 22,
   "metadata": {
    "ExecuteTime": {
     "end_time": "2020-12-14T18:13:37.961930Z",
     "start_time": "2020-12-14T18:13:37.947931Z"
    }
   },
   "outputs": [],
   "source": [
    "\n",
    "\n",
    "\n",
    "# sorted_metric(int(len(sorted_metric)*(n/100)))\n",
    "quarters = round(len(sorted_metric)/4)\n",
    "bottom_25 = sorted_metric[len(sorted_metric)-1-quarters]\n",
    "top_25 = sorted_metric[quarters-1]\n",
    "max_num = sorted_metric.max()\n",
    "min_num = sorted_metric.min()\n",
    "mean = sorted_metric.mean()\n",
    "std_dev = sorted_metric.std()\n",
    "std_dev_str = \"+/-{}{}%\".format(currency_symbol,round(abs((std_dev-mean)/mean)*100,1))\n",
    "mean_str = magnitude_num(mean, currency_symbol)\n",
    "max_str = magnitude_num(max_num, currency_symbol)\n",
    "min_str = magnitude_num(min_num, currency_symbol)\n",
    "bottom_25_str = magnitude_num(bottom_25, currency_symbol)\n",
    "top_25_str = magnitude_num(top_25, currency_symbol)\n",
    "\n",
    "lifetime_sum_all_metric = df[\"{}\".format(fin_metric_name)].sum()\n",
    "lifetime_sum_all_metric = magnitude_num(lifetime_sum_all_metric,currency_symbol)\n",
    "\n",
    "latest_num = df[\"{}\".format(fin_metric_name)][0]\n",
    "first_num = list(df[\"{}\".format(fin_metric_name)])[-1]\n",
    "pct_chg = (latest_num - first_num)/first_num\n",
    "historical_pct_chg = str(round(pct_chg*100, 1))"
   ]
  },
  {
   "cell_type": "code",
   "execution_count": 23,
   "metadata": {
    "ExecuteTime": {
     "end_time": "2020-12-14T18:13:39.021672Z",
     "start_time": "2020-12-14T18:13:39.007156Z"
    }
   },
   "outputs": [],
   "source": [
    "if pct_chg>=0:\n",
    "    pct_chg_str = \"+{}%\".format(pct_chg)\n",
    "elif pct_chg<0:\n",
    "    pct_chg_str = \"-{}%\".format(pct_chg)\n",
    "else:\n",
    "    pct_chg_str = \"\"\n",
    "# historical_pct_chg = str(round(pct_chg*100, 1))\n",
    "max_min_pct_diff = ((max_num-min_num)/min_num)\n",
    "if max_min_pct_diff>=0:\n",
    "    max_min_pct_diff_str = \"+{}%\".format(round(max_min_pct_diff)*100,1)\n",
    "elif max_min_pct_diff<0:\n",
    "    max_min_pct_diff_str = \"-{}%\".format(round(max_min_pct_diff)*100,1)\n",
    "else:\n",
    "    max_min_pct_diff_str = \"\""
   ]
  },
  {
   "cell_type": "code",
   "execution_count": 24,
   "metadata": {
    "ExecuteTime": {
     "end_time": "2020-12-14T18:13:39.564699Z",
     "start_time": "2020-12-14T18:13:39.551699Z"
    },
    "run_control": {
     "marked": true
    }
   },
   "outputs": [],
   "source": [
    "df_fin_statement['Quarter & Year'] =(df_fin_statement['date'].astype(str).str[0:4]).astype(int)\n",
    "latest_year = list((df_fin_statement['date'].astype(str).str[0:4]))[0]\n",
    "earliest_year = list((df_fin_statement['date'].astype(str).str[0:4]))[-1]\n",
    "earliest_metric = (list(df[\"{}\".format(\"{}\".format(fin_metric_name))])[-1])\n",
    "latest_metric = (list(df[\"{}\".format(\"{}\".format(fin_metric_name))])[0])\n"
   ]
  },
  {
   "cell_type": "code",
   "execution_count": null,
   "metadata": {},
   "outputs": [],
   "source": []
  },
  {
   "cell_type": "code",
   "execution_count": 25,
   "metadata": {
    "ExecuteTime": {
     "end_time": "2020-12-14T18:13:40.108762Z",
     "start_time": "2020-12-14T18:13:40.095759Z"
    }
   },
   "outputs": [
    {
     "name": "stdout",
     "output_type": "stream",
     "text": [
      "SEC Filing Link is in\n",
      "Period is in\n",
      "Accepted Date is in\n",
      "Filing Date is in\n",
      "Symbol is in\n",
      "Date is in\n"
     ]
    }
   ],
   "source": [
    "titles_list = ['Date','Symbol','Filing Date','Accepted Date','Period','SEC Filing Link'][:]\n",
    "\n",
    "for x in reversed(titles_bs):\n",
    "    if x in titles_list:\n",
    "        titles_bs.remove(x)\n",
    "        print(x, \"is in\")\n",
    "    else:\n",
    "        pass\n",
    "#         print(x, \"is not in\")        "
   ]
  },
  {
   "cell_type": "code",
   "execution_count": 26,
   "metadata": {
    "ExecuteTime": {
     "end_time": "2020-12-14T18:13:41.152128Z",
     "start_time": "2020-12-14T18:13:41.141605Z"
    }
   },
   "outputs": [],
   "source": [
    "titles_bs.append('Quarter & Year') \n",
    "df_fin_statement = df_fin_statement.drop([ 'Unnamed: 0','date','symbol','fillingDate','acceptedDate','period','link'],axis=1)\n",
    "df_fin_statement.columns = titles_bs\n"
   ]
  },
  {
   "cell_type": "code",
   "execution_count": 17,
   "metadata": {
    "ExecuteTime": {
     "end_time": "2020-12-14T17:57:53.516597Z",
     "start_time": "2020-12-14T17:57:53.507610Z"
    }
   },
   "outputs": [
    {
     "data": {
      "text/plain": [
       "['cashAndCashEquivalents',\n",
       " 'shortTermInvestments',\n",
       " 'cashAndShortTermInvestments',\n",
       " 'netReceivables',\n",
       " 'inventory',\n",
       " 'otherCurrentAssets',\n",
       " 'totalCurrentAssets',\n",
       " 'propertyPlantEquipmentNet',\n",
       " 'goodwill',\n",
       " 'intangibleAssets',\n",
       " 'goodwillAndIntangibleAssets',\n",
       " 'longTermInvestments',\n",
       " 'taxAssets',\n",
       " 'otherNonCurrentAssets',\n",
       " 'totalNonCurrentAssets',\n",
       " 'otherAssets',\n",
       " 'totalAssets',\n",
       " 'accountPayables',\n",
       " 'shortTermDebt',\n",
       " 'taxPayables',\n",
       " 'deferredRevenue',\n",
       " 'otherCurrentLiabilities',\n",
       " 'totalCurrentLiabilities',\n",
       " 'longTermDebt',\n",
       " 'deferredRevenueNonCurrent',\n",
       " 'deferredTaxLiabilitiesNonCurrent',\n",
       " 'otherNonCurrentLiabilities',\n",
       " 'totalNonCurrentLiabilities',\n",
       " 'otherLiabilities',\n",
       " 'totalLiabilities',\n",
       " 'commonStock',\n",
       " 'retainedEarnings',\n",
       " 'accumulatedOtherComprehensiveIncomeLoss',\n",
       " 'othertotalStockholdersEquity',\n",
       " 'totalStockholdersEquity',\n",
       " 'totalLiabilitiesAndStockholdersEquity',\n",
       " 'totalInvestments',\n",
       " 'totalDebt',\n",
       " 'netDebt',\n",
       " 'finalLink',\n",
       " 'Quarter & Year']"
      ]
     },
     "execution_count": 17,
     "metadata": {},
     "output_type": "execute_result"
    }
   ],
   "source": [
    "list(df_fin_statement)"
   ]
  },
  {
   "cell_type": "code",
   "execution_count": null,
   "metadata": {},
   "outputs": [],
   "source": [
    "import requests\n",
    "response = requests.get(\"http://www.google.com\")\n",
    "response = requests.get(\"http://www.google.com\")\n",
    "\n",
    "http://127.0.0.1:5000/aapl-stock/apple/cash-and-cash-equivalents\n",
    "print(response.content)"
   ]
  },
  {
   "cell_type": "code",
   "execution_count": 12,
   "metadata": {
    "ExecuteTime": {
     "end_time": "2020-12-14T17:52:00.712838Z",
     "start_time": "2020-12-14T17:52:00.350830Z"
    }
   },
   "outputs": [
    {
     "ename": "ValueError",
     "evalue": "Length mismatch: Expected axis has 41 elements, new values have 42 elements",
     "output_type": "error",
     "traceback": [
      "\u001b[1;31m---------------------------------------------------------------------------\u001b[0m",
      "\u001b[1;31mValueError\u001b[0m                                Traceback (most recent call last)",
      "\u001b[1;32m<ipython-input-12-2fd90cd1ba6f>\u001b[0m in \u001b[0;36m<module>\u001b[1;34m\u001b[0m\n\u001b[0;32m     11\u001b[0m \u001b[1;31m# bug (?) - Symbol & Accepted Date not removed\u001b[0m\u001b[1;33m\u001b[0m\u001b[1;33m\u001b[0m\u001b[1;33m\u001b[0m\u001b[0m\n\u001b[0;32m     12\u001b[0m \u001b[0mtitles_bs\u001b[0m\u001b[1;33m.\u001b[0m\u001b[0mappend\u001b[0m\u001b[1;33m(\u001b[0m\u001b[1;34m'Quarter & Year'\u001b[0m\u001b[1;33m)\u001b[0m\u001b[1;33m\u001b[0m\u001b[1;33m\u001b[0m\u001b[0m\n\u001b[1;32m---> 13\u001b[1;33m \u001b[0mdf_fin_statement\u001b[0m\u001b[1;33m.\u001b[0m\u001b[0mcolumns\u001b[0m \u001b[1;33m=\u001b[0m \u001b[0mtitles_bs\u001b[0m\u001b[1;33m\u001b[0m\u001b[1;33m\u001b[0m\u001b[0m\n\u001b[0m\u001b[0;32m     14\u001b[0m \u001b[1;33m\u001b[0m\u001b[0m\n\u001b[0;32m     15\u001b[0m \u001b[1;33m\u001b[0m\u001b[0m\n",
      "\u001b[1;32m~\\quantconnect\\lib\\site-packages\\pandas\\core\\generic.py\u001b[0m in \u001b[0;36m__setattr__\u001b[1;34m(self, name, value)\u001b[0m\n\u001b[0;32m   5150\u001b[0m         \u001b[1;32mtry\u001b[0m\u001b[1;33m:\u001b[0m\u001b[1;33m\u001b[0m\u001b[1;33m\u001b[0m\u001b[0m\n\u001b[0;32m   5151\u001b[0m             \u001b[0mobject\u001b[0m\u001b[1;33m.\u001b[0m\u001b[0m__getattribute__\u001b[0m\u001b[1;33m(\u001b[0m\u001b[0mself\u001b[0m\u001b[1;33m,\u001b[0m \u001b[0mname\u001b[0m\u001b[1;33m)\u001b[0m\u001b[1;33m\u001b[0m\u001b[1;33m\u001b[0m\u001b[0m\n\u001b[1;32m-> 5152\u001b[1;33m             \u001b[1;32mreturn\u001b[0m \u001b[0mobject\u001b[0m\u001b[1;33m.\u001b[0m\u001b[0m__setattr__\u001b[0m\u001b[1;33m(\u001b[0m\u001b[0mself\u001b[0m\u001b[1;33m,\u001b[0m \u001b[0mname\u001b[0m\u001b[1;33m,\u001b[0m \u001b[0mvalue\u001b[0m\u001b[1;33m)\u001b[0m\u001b[1;33m\u001b[0m\u001b[1;33m\u001b[0m\u001b[0m\n\u001b[0m\u001b[0;32m   5153\u001b[0m         \u001b[1;32mexcept\u001b[0m \u001b[0mAttributeError\u001b[0m\u001b[1;33m:\u001b[0m\u001b[1;33m\u001b[0m\u001b[1;33m\u001b[0m\u001b[0m\n\u001b[0;32m   5154\u001b[0m             \u001b[1;32mpass\u001b[0m\u001b[1;33m\u001b[0m\u001b[1;33m\u001b[0m\u001b[0m\n",
      "\u001b[1;32mpandas\\_libs\\properties.pyx\u001b[0m in \u001b[0;36mpandas._libs.properties.AxisProperty.__set__\u001b[1;34m()\u001b[0m\n",
      "\u001b[1;32m~\\quantconnect\\lib\\site-packages\\pandas\\core\\generic.py\u001b[0m in \u001b[0;36m_set_axis\u001b[1;34m(self, axis, labels)\u001b[0m\n\u001b[0;32m    562\u001b[0m     \u001b[1;32mdef\u001b[0m \u001b[0m_set_axis\u001b[0m\u001b[1;33m(\u001b[0m\u001b[0mself\u001b[0m\u001b[1;33m,\u001b[0m \u001b[0maxis\u001b[0m\u001b[1;33m:\u001b[0m \u001b[0mint\u001b[0m\u001b[1;33m,\u001b[0m \u001b[0mlabels\u001b[0m\u001b[1;33m:\u001b[0m \u001b[0mIndex\u001b[0m\u001b[1;33m)\u001b[0m \u001b[1;33m->\u001b[0m \u001b[1;32mNone\u001b[0m\u001b[1;33m:\u001b[0m\u001b[1;33m\u001b[0m\u001b[1;33m\u001b[0m\u001b[0m\n\u001b[0;32m    563\u001b[0m         \u001b[0mlabels\u001b[0m \u001b[1;33m=\u001b[0m \u001b[0mensure_index\u001b[0m\u001b[1;33m(\u001b[0m\u001b[0mlabels\u001b[0m\u001b[1;33m)\u001b[0m\u001b[1;33m\u001b[0m\u001b[1;33m\u001b[0m\u001b[0m\n\u001b[1;32m--> 564\u001b[1;33m         \u001b[0mself\u001b[0m\u001b[1;33m.\u001b[0m\u001b[0m_mgr\u001b[0m\u001b[1;33m.\u001b[0m\u001b[0mset_axis\u001b[0m\u001b[1;33m(\u001b[0m\u001b[0maxis\u001b[0m\u001b[1;33m,\u001b[0m \u001b[0mlabels\u001b[0m\u001b[1;33m)\u001b[0m\u001b[1;33m\u001b[0m\u001b[1;33m\u001b[0m\u001b[0m\n\u001b[0m\u001b[0;32m    565\u001b[0m         \u001b[0mself\u001b[0m\u001b[1;33m.\u001b[0m\u001b[0m_clear_item_cache\u001b[0m\u001b[1;33m(\u001b[0m\u001b[1;33m)\u001b[0m\u001b[1;33m\u001b[0m\u001b[1;33m\u001b[0m\u001b[0m\n\u001b[0;32m    566\u001b[0m \u001b[1;33m\u001b[0m\u001b[0m\n",
      "\u001b[1;32m~\\quantconnect\\lib\\site-packages\\pandas\\core\\internals\\managers.py\u001b[0m in \u001b[0;36mset_axis\u001b[1;34m(self, axis, new_labels)\u001b[0m\n\u001b[0;32m    224\u001b[0m \u001b[1;33m\u001b[0m\u001b[0m\n\u001b[0;32m    225\u001b[0m         \u001b[1;32mif\u001b[0m \u001b[0mnew_len\u001b[0m \u001b[1;33m!=\u001b[0m \u001b[0mold_len\u001b[0m\u001b[1;33m:\u001b[0m\u001b[1;33m\u001b[0m\u001b[1;33m\u001b[0m\u001b[0m\n\u001b[1;32m--> 226\u001b[1;33m             raise ValueError(\n\u001b[0m\u001b[0;32m    227\u001b[0m                 \u001b[1;34mf\"Length mismatch: Expected axis has {old_len} elements, new \"\u001b[0m\u001b[1;33m\u001b[0m\u001b[1;33m\u001b[0m\u001b[0m\n\u001b[0;32m    228\u001b[0m                 \u001b[1;34mf\"values have {new_len} elements\"\u001b[0m\u001b[1;33m\u001b[0m\u001b[1;33m\u001b[0m\u001b[0m\n",
      "\u001b[1;31mValueError\u001b[0m: Length mismatch: Expected axis has 41 elements, new values have 42 elements"
     ]
    }
   ],
   "source": [
    "\n",
    "\n",
    "\n",
    "\n",
    "\n",
    "\n",
    "\n",
    "\n",
    "df_fin_statement = df_fin_statement[cols]\n",
    "\n",
    "df_fin_statement.index = df_fin_statement['Quarter & Year']\n",
    "\n",
    "million = 1000000\n",
    "billion = 1000000000\n",
    "fin_metric_history = df_fin_statement['{}'.format(fin_metric_title)]\n",
    "if list(fin_metric_history)[0]  > billion:\n",
    "    df_fin_statement['{}'.format(fin_metric_title)] = (fin_metric_history/billion).round(decimals=2)\n",
    "\n",
    "\n",
    "elif list(fin_metric_history)[0]  > million:\n",
    "    df_fin_statement['{}'.format(fin_metric_title)] = (fin_metric_history/million).round(decimals=2)\n",
    "\n",
    "    pass\n",
    "else:\n",
    "    pass\n",
    "\n",
    "df_pct_chg = df_fin_statement\n",
    "pct_chg_cols = (df_fin_statement.select_dtypes(include=['number']).pct_change(-1))\n",
    "df_pct_chg_str = df_pct_chg.drop(list(pct_chg_cols), axis=1)\n",
    "df_pct_chg = df_pct_chg_str.join(pct_chg_cols)[list(df_fin_statement)]\n",
    "\n",
    "pd.set_option('display.float_format', '{:.2f}'.format)\n",
    "df_pct_chg_t = df_pct_chg.transpose()\n",
    "df_pct_chg_t.columns = list(df_pct_chg['Quarter & Year'])\n",
    "df_pct_chg_t = df_pct_chg_t.iloc[1:]\n",
    "\n",
    "df_pct_chg_t = df_pct_chg.transpose()\n",
    "df_pct_chg_t.columns = list(df_pct_chg['Quarter & Year'])\n",
    "df_pct_chg_t = df_pct_chg_t.iloc[1:]\n",
    "df_pct_chg_t['']=df_pct_chg_t.index\n",
    "df_pct_chg_t.index = range(len(df_pct_chg_t))\n",
    "\n",
    "cols = list(df_pct_chg_t.columns)\n",
    "cols = [cols[-1]] + cols[:-1]\n",
    "df_pct_chg_t = df_pct_chg_t[cols]\n",
    "\n",
    "\n",
    "df_t = df_fin_statement.transpose()\n",
    "df_t.columns = list(df_fin_statement['Quarter & Year'])\n",
    "df_t = df_t.iloc[1:]\n",
    "df_t['']=df_t.index\n",
    "df_t.index = range(len(df_t))\n",
    "\n",
    "cols = list(df_t.columns)\n",
    "cols = [cols[-1]] + cols[:-1]\n",
    "df_t = df_t[cols]\n",
    "#endregion\n",
    "\n",
    "df_pct = df_pct_chg_t.to_html().replace('<table','<table class=\"df_tableBoot\" id=\"df_myTable1\"')# dt-responsive\" id=\"df_myTable\"')\n",
    "\n",
    "df_t = df_t[df_t.columns[::-1]]\n",
    "cols = list(df_t.columns)\n",
    "cols = [cols[-1]] + cols[:-1]\n",
    "df_t = df_t[cols]\n",
    "\n",
    "\n",
    "def isnumber(x):\n",
    "    try:\n",
    "        float(x)\n",
    "        return True\n",
    "    except:\n",
    "        return False\n",
    "df_n = df_fin_statement[df_fin_statement.applymap(isnumber)]\n",
    "df_n[df_n < 2] = np.nan\n",
    "df_n_sum = pd.DataFrame(df_n.sum())\n",
    "df_n_sum[df_n_sum == 0] = \"\"\n",
    "new_header = df_n_sum.iloc[0] #grab the first row for the header\n",
    "df_n_sum = df_n_sum[1:] #take the data less the header row\n",
    "df_n_sum.columns = new_header #set the header row as the df header\n",
    "df_n_sum.index = range(len(df_n_sum))\n",
    "df_t = pd.merge(df_n_sum, df_t, left_index=True, right_index=True,suffixes=('Total: {} - {}'.format(latest_year,earliest_year), 'Line Items'))\n",
    "df_t = df_t[0:25]\n",
    "\n",
    "\n",
    "\n",
    "col_list = []\n",
    "n=0\n",
    "while n<len(list(df_t))-0:\n",
    "    if n<6:\n",
    "            col_item = '<col id=\"col_item_{}\" class=\"col_item_class first_7_col\">'.format(n)\n",
    "    else:\n",
    "        col_item = '<col id=\"col_item_{}\" class=\"col_item_class\">'.format(n)\n",
    "    col_list.append(col_item)\n",
    "    n+=1\n",
    "col_list_str = ''.join(map(str, col_list))\n",
    "df_html = df_t.to_html().replace('border=\"1\" class=\"dataframe\">','class=\"df_tableBoot\" id=\"df_myTable\" border=\"1\" class=\"dataframe\"><colgroup>{}</colgroup>'.format(col_list_str))\n",
    "# df_table_html = df_fin_statement[['{}'.format(fin_metric_title)]].iloc[::-1].transpose().to_html()#.replace(\"\\n\",\"\")\n",
    "df_tall = df.iloc[::-1]\n",
    "# df_tall.index = df['Quarter & Year']\n",
    "# df_tall = df.index.shift(-1)\n",
    "# df_tall = df_tall.reset_index()\n",
    "df_html_tall = df_tall[['{}'.format('Quarter & Year'),'{}'.format(fin_metric_name)]].to_html(index=False)\n",
    "df_html_tall = df_html_tall.replace('border=\"1\" class=\"dataframe\">','class=\"abc\" id=\"df_myTable\" border=\"1\" class=\"dataframe\">')#.replace(\"'\",\"\")\n",
    "# df_html_tall = df_html_tall.replace(\"\\n\",\"\")\n",
    "df_html_tall = df_html_tall.replace(\"\\n\",\"\")\n",
    "df_html_tall = df_html_tall.replace(\"{}\".format(\"[\"),\"\")\n",
    "df_html_tall = df_html_tall #render_template_string(df_html_tall)\n",
    "df_html = df_html.replace('<td>','<td class=\"td_fin_statement_class fin_statement_class\">')\n",
    "df_html = df_html.replace('<th>','<th class=\"th_fin_statement_class fin_statement_class\">')\n",
    "df_html = df_html.replace('<tr>','<tr class=\"tr_fin_statement_class fin_statement_class\">')\n",
    "#  df_html_tall = df_html_tall.replace(\"\\n\",\"\")\n",
    "# df_html_tall.replace(\"\\n\",'\">')\n",
    "df_html_tall = df_html_tall.replace('<td>','<td class=\"td_fin_statement_class fin_statement_class\">')\n",
    "df_html_tall = df_html_tall.replace('<th>','<th class=\"th_fin_statement_class fin_statement_class\">')\n",
    "df_html_tall = df_html_tall.replace('<tr>','<tr class=\"tr_fin_statement_class fin_statement_class\">')\n",
    "df_html_tall = df_html_tall[0:]\n",
    "\n",
    "df = df[['date',\"{}\".format(fin_metric_name)]].dropna() #.fillna(0)#.fillna(method='bfill')\n",
    "df['date'] = pd.to_datetime(df['date']).values.astype(np.int64) // 10 ** 6\n",
    "full_path = csv_file.split(' ~ ')\n",
    "path = pathlib.PurePath(full_path[0])\n",
    "print(\"Nothing took {} seconds\".format(time.time() - start_time))\n",
    "total_seconds = ((time.time() - start_time))\n",
    "\n",
    "labels = [\n",
    "    'JAN', 'FEB', 'MAR', 'APR',\n",
    "    'MAY', 'JUN', 'JUL', 'AUG',\n",
    "    'SEP', 'OCT', 'NOV', 'DEC'\n",
    "]\n",
    "labels = list(df['date'])#[0:19]\n",
    "\n",
    "values = [\n",
    "    967.67, 1190.89, 1079.75, 1349.19,\n",
    "    2328.91, 2504.28, 2873.83, 4764.87,\n",
    "    4349.29, 6458.30, 9907, 16297\n",
    "]\n",
    "\n",
    "values = list(df[\"{}\".format(fin_metric_name)])#[0:19]\n",
    "\n",
    "colors = [\n",
    "    \"#F7464A\", \"#46BFBD\", \"#FDB45C\", \"#FEDCBA\",\n",
    "    \"#ABCDEF\", \"#DDDDDD\", \"#ABCABC\", \"#4169E1\",\n",
    "    \"#C71585\", \"#FF4500\", \"#FEDCBA\", \"#46BFBD\"]\n",
    "df_table_html = df_tall[['{}'.format(fin_metric_name)]].iloc[::-1].transpose().to_html()#.replace(\"\\n\",\"\")\n",
    "present_num = magnitude_num(int(latest_metric),currency_symbol)\n",
    "latest_num = \"${}\".format(df[\"{}\".format(fin_metric_name)][0])\n",
    "\n",
    "return render_template('current_ratio.html', company_symbol = profiles_dict['symbol'],\\\n",
    "                        company_long_name = profiles_dict['long name'],\\\n",
    "                        company_currency = profiles_dict['currency'],\\\n",
    "                        company_exchange = profiles_dict['exchange'],\\\n",
    "                        company_industry = profiles_dict['industry'],\\\n",
    "                        company_description = profiles_dict['description'],\\\n",
    "                        company_sector = profiles_dict['sector'],\\\n",
    "                        company_country = profiles_dict['country'],\\\n",
    "                        company_ipo_date = profiles_dict['ipo date'],\\\n",
    "                        company_short_name = profiles_dict['short name'],\\\n",
    "                        first_num = first_num,\\\n",
    "                        latest_num = latest_num,\\\n",
    "                        historical_pct_chg = historical_pct_chg,\\\n",
    "                        lifetime_sum_all_metric = lifetime_sum_all_metric,\\\n",
    "                        mean_str = mean_str,\\\n",
    "                        max_str = max_str,\\\n",
    "                        min_str = min_str,\\\n",
    "                        std_dev_str = std_dev_str,\\\n",
    "                        bottom_25_str = bottom_25_str,\\\n",
    "                        top_25_str = top_25_str,\\\n",
    "                        earliest_year = earliest_year,\\\n",
    "                        latest_year = latest_year,\\\n",
    "                        earliest_metric = earliest_metric,\\\n",
    "                        latest_metric = latest_metric,\\\n",
    "                        max_min_pct_diff_str = max_min_pct_diff_str, df_bs_table_html = [df_table_html],df_html_tall = [df_html_tall],fin_metric_name = fin_metric_title,\\\n",
    "                        df_date = df['date'].to_list(), df_rev = df[\"{}\".format(fin_metric_name)].to_list(),\\\n",
    "                        df_json  =df.to_numpy().tolist(),\\\n",
    "                        table_pct = [df_pct],\\\n",
    "                        tables=[df_html],\\\n",
    "                        titles=df.columns.values,\\\n",
    "                        total_time=total_seconds,\\\n",
    "                        place_name=url_symbol,\\\n",
    "                        max=17000,\\\n",
    "                        labels=labels,\\\n",
    "                        values=values)\n"
   ]
  },
  {
   "cell_type": "code",
   "execution_count": null,
   "metadata": {},
   "outputs": [],
   "source": []
  }
 ],
 "metadata": {
  "kernelspec": {
   "display_name": "quantconnect",
   "language": "python",
   "name": "quantconnect"
  },
  "language_info": {
   "codemirror_mode": {
    "name": "ipython",
    "version": 3
   },
   "file_extension": ".py",
   "mimetype": "text/x-python",
   "name": "python",
   "nbconvert_exporter": "python",
   "pygments_lexer": "ipython3",
   "version": "3.9.0"
  },
  "toc": {
   "base_numbering": 1,
   "nav_menu": {},
   "number_sections": true,
   "sideBar": true,
   "skip_h1_title": false,
   "title_cell": "Table of Contents",
   "title_sidebar": "Contents",
   "toc_cell": false,
   "toc_position": {},
   "toc_section_display": true,
   "toc_window_display": false
  },
  "varInspector": {
   "cols": {
    "lenName": 16,
    "lenType": 16,
    "lenVar": 40
   },
   "kernels_config": {
    "python": {
     "delete_cmd_postfix": "",
     "delete_cmd_prefix": "del ",
     "library": "var_list.py",
     "varRefreshCmd": "print(var_dic_list())"
    },
    "r": {
     "delete_cmd_postfix": ") ",
     "delete_cmd_prefix": "rm(",
     "library": "var_list.r",
     "varRefreshCmd": "cat(var_dic_list()) "
    }
   },
   "types_to_exclude": [
    "module",
    "function",
    "builtin_function_or_method",
    "instance",
    "_Feature"
   ],
   "window_display": false
  }
 },
 "nbformat": 4,
 "nbformat_minor": 4
}
