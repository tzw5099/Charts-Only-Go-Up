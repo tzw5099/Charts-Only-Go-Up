{
 "cells": [
  {
   "cell_type": "code",
   "execution_count": null,
   "metadata": {},
   "outputs": [],
   "source": [
    "https://login.microsoftonline.com/common/oauth2/v2.0/authorize?client_id=65f9e691-8416-40f5-a8a3-813024941287&response_mode=fragment&response_type=id_token"
   ]
  },
  {
   "cell_type": "code",
   "execution_count": null,
   "metadata": {},
   "outputs": [],
   "source": [
    "https://github.com/AtakamaLLC/onedrive-sdk-python"
   ]
  },
  {
   "cell_type": "code",
   "execution_count": 45,
   "metadata": {
    "ExecuteTime": {
     "end_time": "2020-10-20T16:21:54.990577Z",
     "start_time": "2020-10-20T16:21:17.692080Z"
    }
   },
   "outputs": [
    {
     "name": "stdout",
     "output_type": "stream",
     "text": [
      "Collecting Office365-REST-Python-Client\n",
      "  Downloading Office365_REST_Python_Client-2.2.1-py3-none-any.whl (416 kB)\n",
      "Requirement already satisfied: adal in c:\\users\\tom\\quantconnect\\lib\\site-packages (from Office365-REST-Python-Client) (1.2.4)\n",
      "Requirement already satisfied: requests in c:\\users\\tom\\quantconnect\\lib\\site-packages (from Office365-REST-Python-Client) (2.23.0)\n",
      "Requirement already satisfied: PyJWT>=1.0.0 in c:\\users\\tom\\quantconnect\\lib\\site-packages (from adal->Office365-REST-Python-Client) (1.7.1)\n",
      "Requirement already satisfied: cryptography>=1.1.0 in c:\\users\\tom\\quantconnect\\lib\\site-packages (from adal->Office365-REST-Python-Client) (2.9.2)\n",
      "Requirement already satisfied: python-dateutil>=2.1.0 in c:\\users\\tom\\quantconnect\\lib\\site-packages (from adal->Office365-REST-Python-Client) (2.8.1)\n",
      "Requirement already satisfied: urllib3!=1.25.0,!=1.25.1,<1.26,>=1.21.1 in c:\\users\\tom\\quantconnect\\lib\\site-packages (from requests->Office365-REST-Python-Client) (1.25.8)\n",
      "Requirement already satisfied: certifi>=2017.4.17 in c:\\users\\tom\\quantconnect\\lib\\site-packages (from requests->Office365-REST-Python-Client) (2019.11.28)\n"
     ]
    },
    {
     "name": "stderr",
     "output_type": "stream",
     "text": [
      "WARNING: You are using pip version 20.1.1; however, version 20.2.3 is available.\n",
      "You should consider upgrading via the 'C:\\Users\\Tom\\quantconnect\\Scripts\\python.exe -m pip install --upgrade pip' command.\n"
     ]
    },
    {
     "name": "stdout",
     "output_type": "stream",
     "text": [
      "Requirement already satisfied: chardet<4,>=3.0.2 in c:\\users\\tom\\quantconnect\\lib\\site-packages (from requests->Office365-REST-Python-Client) (3.0.4)\n",
      "Requirement already satisfied: idna<3,>=2.5 in c:\\users\\tom\\quantconnect\\lib\\site-packages (from requests->Office365-REST-Python-Client) (2.9)\n",
      "Requirement already satisfied: cffi!=1.11.3,>=1.8 in c:\\users\\tom\\quantconnect\\lib\\site-packages (from cryptography>=1.1.0->adal->Office365-REST-Python-Client) (1.14.0)\n",
      "Requirement already satisfied: six>=1.4.1 in c:\\users\\tom\\quantconnect\\lib\\site-packages (from cryptography>=1.1.0->adal->Office365-REST-Python-Client) (1.14.0)\n",
      "Requirement already satisfied: pycparser in c:\\users\\tom\\quantconnect\\lib\\site-packages (from cffi!=1.11.3,>=1.8->cryptography>=1.1.0->adal->Office365-REST-Python-Client) (2.20)\n",
      "Installing collected packages: Office365-REST-Python-Client\n",
      "Successfully installed Office365-REST-Python-Client-2.2.1\n"
     ]
    }
   ],
   "source": [
    "!{sys.executable} -m pip install Office365-REST-Python-Client"
   ]
  },
  {
   "cell_type": "code",
   "execution_count": null,
   "metadata": {
    "ExecuteTime": {
     "end_time": "2020-10-20T16:16:26.675812Z",
     "start_time": "2020-10-20T16:16:15.479495Z"
    }
   },
   "outputs": [],
   "source": []
  },
  {
   "cell_type": "code",
   "execution_count": 41,
   "metadata": {
    "ExecuteTime": {
     "end_time": "2020-10-20T16:18:11.242587Z",
     "start_time": "2020-10-20T16:17:59.981140Z"
    },
    "run_control": {
     "marked": true
    },
    "scrolled": true
   },
   "outputs": [
    {
     "name": "stdout",
     "output_type": "stream",
     "text": [
      "C:\\Users\\Tom\\quantconnect\\Scripts\\python.exe\n",
      "Requirement already satisfied: office365 in c:\\users\\tom\\quantconnect\\lib\\site-packages (0.3.10)"
     ]
    },
    {
     "name": "stderr",
     "output_type": "stream",
     "text": [
      "WARNING: You are using pip version 20.1.1; however, version 20.2.3 is available.\n",
      "You should consider upgrading via the 'C:\\Users\\Tom\\quantconnect\\Scripts\\python.exe -m pip install --upgrade pip' command.\n"
     ]
    },
    {
     "name": "stdout",
     "output_type": "stream",
     "text": [
      "\n",
      "Requirement already satisfied: maybe-else in c:\\users\\tom\\quantconnect\\lib\\site-packages (from office365) (0.2.1)\n",
      "Requirement already satisfied: pysubtypes in c:\\users\\tom\\quantconnect\\lib\\site-packages (from office365) (0.3.10)\n",
      "Requirement already satisfied: pyiotools in c:\\users\\tom\\quantconnect\\lib\\site-packages (from office365) (0.3.9)\n",
      "Requirement already satisfied: azure-storage-blob in c:\\users\\tom\\quantconnect\\lib\\site-packages (from office365) (12.5.0)\n",
      "Requirement already satisfied: O365 in c:\\users\\tom\\quantconnect\\lib\\site-packages (from office365) (2.0.11)\n",
      "Requirement already satisfied: pymiscutils in c:\\users\\tom\\quantconnect\\lib\\site-packages (from office365) (0.3.8)\n",
      "Requirement already satisfied: pathmagic in c:\\users\\tom\\quantconnect\\lib\\site-packages (from office365) (0.3.8)\n",
      "Requirement already satisfied: tabulate in c:\\users\\tom\\quantconnect\\lib\\site-packages (from pysubtypes->office365) (0.8.7)\n",
      "Requirement already satisfied: simplejson in c:\\users\\tom\\quantconnect\\lib\\site-packages (from pysubtypes->office365) (3.17.0)\n",
      "Requirement already satisfied: html-text in c:\\users\\tom\\quantconnect\\lib\\site-packages (from pysubtypes->office365) (0.5.2)\n",
      "Requirement already satisfied: aenum in c:\\users\\tom\\quantconnect\\lib\\site-packages (from pysubtypes->office365) (2.2.4)\n",
      "Requirement already satisfied: regex in c:\\users\\tom\\quantconnect\\lib\\site-packages (from pysubtypes->office365) (2020.5.14)\n",
      "Requirement already satisfied: clipboard in c:\\users\\tom\\quantconnect\\lib\\site-packages (from pysubtypes->office365) (0.0.4)\n",
      "Requirement already satisfied: python-dateutil in c:\\users\\tom\\quantconnect\\lib\\site-packages (from pysubtypes->office365) (2.8.1)\n",
      "Requirement already satisfied: pandas in c:\\users\\tom\\quantconnect\\lib\\site-packages (from pysubtypes->office365) (1.0.5)\n",
      "Requirement already satisfied: colour in c:\\users\\tom\\quantconnect\\lib\\site-packages (from pysubtypes->office365) (0.1.5)\n",
      "Requirement already satisfied: case-conversion in c:\\users\\tom\\quantconnect\\lib\\site-packages (from pysubtypes->office365) (2.1.0)\n",
      "Requirement already satisfied: requests in c:\\users\\tom\\quantconnect\\lib\\site-packages (from pysubtypes->office365) (2.23.0)\n",
      "Requirement already satisfied: parsedatetime in c:\\users\\tom\\quantconnect\\lib\\site-packages (from pysubtypes->office365) (2.6)\n",
      "Requirement already satisfied: bs4 in c:\\users\\tom\\quantconnect\\lib\\site-packages (from pysubtypes->office365) (0.0.1)\n",
      "Requirement already satisfied: inflect in c:\\users\\tom\\quantconnect\\lib\\site-packages (from pysubtypes->office365) (4.1.0)\n",
      "Requirement already satisfied: fuzzywuzzy in c:\\users\\tom\\quantconnect\\lib\\site-packages (from pysubtypes->office365) (0.18.0)\n",
      "Requirement already satisfied: prettierfier in c:\\users\\tom\\quantconnect\\lib\\site-packages (from pysubtypes->office365) (1.0.3)\n",
      "Requirement already satisfied: readchar in c:\\users\\tom\\quantconnect\\lib\\site-packages (from pyiotools->office365) (2.0.1)\n",
      "Requirement already satisfied: colorama in c:\\users\\tom\\quantconnect\\lib\\site-packages (from pyiotools->office365) (0.4.3)\n",
      "Requirement already satisfied: PyQt5 in c:\\users\\tom\\quantconnect\\lib\\site-packages (from pyiotools->office365) (5.15.1)\n",
      "Requirement already satisfied: dill in c:\\users\\tom\\quantconnect\\lib\\site-packages (from pyiotools->office365) (0.3.2)\n",
      "Requirement already satisfied: typepy in c:\\users\\tom\\quantconnect\\lib\\site-packages (from pyiotools->office365) (1.1.1)\n",
      "Requirement already satisfied: cryptography in c:\\users\\tom\\quantconnect\\lib\\site-packages (from pyiotools->office365) (2.9.2)\n",
      "Requirement already satisfied: cursor in c:\\users\\tom\\quantconnect\\lib\\site-packages (from pyiotools->office365) (1.3.4)\n",
      "Requirement already satisfied: infi.systray in c:\\users\\tom\\quantconnect\\lib\\site-packages (from pyiotools->office365) (0.1.12)\n",
      "Requirement already satisfied: azure-core<2.0.0,>=1.6.0 in c:\\users\\tom\\quantconnect\\lib\\site-packages (from azure-storage-blob->office365) (1.8.2)\n",
      "Requirement already satisfied: msrest>=0.6.10 in c:\\users\\tom\\quantconnect\\lib\\site-packages (from azure-storage-blob->office365) (0.6.19)\n",
      "Requirement already satisfied: tzlocal>=1.5.0 in c:\\users\\tom\\quantconnect\\lib\\site-packages (from O365->office365) (1.5.1)\n",
      "Requirement already satisfied: pytz>=2018.5 in c:\\users\\tom\\quantconnect\\lib\\site-packages (from O365->office365) (2019.3)\n",
      "Requirement already satisfied: stringcase>=1.2.0 in c:\\users\\tom\\quantconnect\\lib\\site-packages (from O365->office365) (1.2.0)\n",
      "Requirement already satisfied: beautifulsoup4>=4.0.0 in c:\\users\\tom\\quantconnect\\lib\\site-packages (from O365->office365) (4.9.1)\n",
      "Requirement already satisfied: requests-oauthlib>=1.2.0 in c:\\users\\tom\\quantconnect\\lib\\site-packages (from O365->office365) (1.3.0)\n",
      "Requirement already satisfied: gender-guesser in c:\\users\\tom\\quantconnect\\lib\\site-packages (from pymiscutils->office365) (0.4.0)\n",
      "Requirement already satisfied: pyinstrument in c:\\users\\tom\\quantconnect\\lib\\site-packages (from pymiscutils->office365) (3.2.0)\n",
      "Requirement already satisfied: numpy in c:\\users\\tom\\quantconnect\\lib\\site-packages (from pymiscutils->office365) (1.18.4)\n",
      "Requirement already satisfied: Pillow in c:\\users\\tom\\quantconnect\\lib\\site-packages (from pathmagic->office365) (8.0.0)\n",
      "Requirement already satisfied: pydub in c:\\users\\tom\\quantconnect\\lib\\site-packages (from pathmagic->office365) (0.24.1)\n",
      "Requirement already satisfied: moviepy in c:\\users\\tom\\quantconnect\\lib\\site-packages (from pathmagic->office365) (1.0.3)\n",
      "Requirement already satisfied: appdirs in c:\\users\\tom\\quantconnect\\lib\\site-packages (from pathmagic->office365) (1.4.4)\n",
      "Requirement already satisfied: docx in c:\\users\\tom\\quantconnect\\lib\\site-packages (from pathmagic->office365) (0.2.4)\n",
      "Requirement already satisfied: PyPDF2 in c:\\users\\tom\\quantconnect\\lib\\site-packages (from pathmagic->office365) (1.26.0)\n",
      "Requirement already satisfied: Send2Trash in c:\\users\\tom\\quantconnect\\lib\\site-packages (from pathmagic->office365) (1.5.0)\n",
      "Requirement already satisfied: lxml in c:\\users\\tom\\quantconnect\\lib\\site-packages (from html-text->pysubtypes->office365) (4.5.1)\n",
      "Requirement already satisfied: pyperclip>=1.3 in c:\\users\\tom\\quantconnect\\lib\\site-packages (from clipboard->pysubtypes->office365) (1.8.0)\n",
      "Requirement already satisfied: six>=1.5 in c:\\users\\tom\\quantconnect\\lib\\site-packages (from python-dateutil->pysubtypes->office365) (1.14.0)\n",
      "Requirement already satisfied: certifi>=2017.4.17 in c:\\users\\tom\\quantconnect\\lib\\site-packages (from requests->pysubtypes->office365) (2019.11.28)\n",
      "Requirement already satisfied: chardet<4,>=3.0.2 in c:\\users\\tom\\quantconnect\\lib\\site-packages (from requests->pysubtypes->office365) (3.0.4)\n",
      "Requirement already satisfied: urllib3!=1.25.0,!=1.25.1,<1.26,>=1.21.1 in c:\\users\\tom\\quantconnect\\lib\\site-packages (from requests->pysubtypes->office365) (1.25.8)\n",
      "Requirement already satisfied: idna<3,>=2.5 in c:\\users\\tom\\quantconnect\\lib\\site-packages (from requests->pysubtypes->office365) (2.9)\n",
      "Requirement already satisfied: importlib-metadata; python_version < \"3.8\" in c:\\users\\tom\\quantconnect\\lib\\site-packages (from inflect->pysubtypes->office365) (1.6.0)\n",
      "Requirement already satisfied: PyQt5-sip<13,>=12.8 in c:\\users\\tom\\quantconnect\\lib\\site-packages (from PyQt5->pyiotools->office365) (12.8.1)\n",
      "Requirement already satisfied: mbstrdecoder<2,>=1.0.0 in c:\\users\\tom\\quantconnect\\lib\\site-packages (from typepy->pyiotools->office365) (1.0.0)\n",
      "Requirement already satisfied: setuptools>=38.3.0 in c:\\users\\tom\\quantconnect\\lib\\site-packages (from typepy->pyiotools->office365) (40.6.2)\n",
      "Requirement already satisfied: cffi!=1.11.3,>=1.8 in c:\\users\\tom\\quantconnect\\lib\\site-packages (from cryptography->pyiotools->office365) (1.14.0)\n",
      "Requirement already satisfied: isodate>=0.6.0 in c:\\users\\tom\\quantconnect\\lib\\site-packages (from msrest>=0.6.10->azure-storage-blob->office365) (0.6.0)\n",
      "Requirement already satisfied: soupsieve>1.2 in c:\\users\\tom\\quantconnect\\lib\\site-packages (from beautifulsoup4>=4.0.0->O365->office365) (2.0.1)\n",
      "Requirement already satisfied: oauthlib>=3.0.0 in c:\\users\\tom\\quantconnect\\lib\\site-packages (from requests-oauthlib>=1.2.0->O365->office365) (3.1.0)\n",
      "Requirement already satisfied: pyinstrument-cext>=0.2.2 in c:\\users\\tom\\quantconnect\\lib\\site-packages (from pyinstrument->pymiscutils->office365) (0.2.2)\n",
      "Requirement already satisfied: imageio<3.0,>=2.5; python_version >= \"3.4\" in c:\\users\\tom\\quantconnect\\lib\\site-packages (from moviepy->pathmagic->office365) (2.9.0)\n",
      "Requirement already satisfied: tqdm<5.0,>=4.11.2 in c:\\users\\tom\\quantconnect\\lib\\site-packages (from moviepy->pathmagic->office365) (4.46.0)\n",
      "Requirement already satisfied: imageio-ffmpeg>=0.2.0; python_version >= \"3.4\" in c:\\users\\tom\\quantconnect\\lib\\site-packages (from moviepy->pathmagic->office365) (0.4.2)\n",
      "Requirement already satisfied: proglog<=1.0.0 in c:\\users\\tom\\quantconnect\\lib\\site-packages (from moviepy->pathmagic->office365) (0.1.9)\n",
      "Requirement already satisfied: decorator<5.0,>=4.0.2 in c:\\users\\tom\\quantconnect\\lib\\site-packages (from moviepy->pathmagic->office365) (4.4.2)\n",
      "Requirement already satisfied: zipp>=0.5 in c:\\users\\tom\\quantconnect\\lib\\site-packages (from importlib-metadata; python_version < \"3.8\"->inflect->pysubtypes->office365) (3.1.0)\n",
      "Requirement already satisfied: pycparser in c:\\users\\tom\\quantconnect\\lib\\site-packages (from cffi!=1.11.3,>=1.8->cryptography->pyiotools->office365) (2.20)\n"
     ]
    }
   ],
   "source": [
    "import sys\n",
    "print (sys.executable)\n",
    "!{sys.executable} -m pip install office365\n",
    "#-i https://test.pypi.org/simple/ msgraphcore\n",
    "    #azure-identity"
   ]
  },
  {
   "cell_type": "code",
   "execution_count": 13,
   "metadata": {
    "ExecuteTime": {
     "end_time": "2020-10-20T14:17:58.670675Z",
     "start_time": "2020-10-20T14:17:52.625178Z"
    },
    "collapsed": true
   },
   "outputs": [
    {
     "name": "stdout",
     "output_type": "stream",
     "text": [
      "Paste this URL into your browser, approve the app's access.\n",
      "Copy everything in the address bar after \"code=\", and paste it below.\n",
      "https://login.live.com/oauth20_authorize.srf?client_id=65f9e691-8416-40f5-a8a3-813024941287&response_type=code&redirect_uri=&scope=wl.signin+wl.offline_access+onedrive.readwrite\n"
     ]
    },
    {
     "ename": "KeyboardInterrupt",
     "evalue": "Interrupted by user",
     "output_type": "error",
     "traceback": [
      "\u001b[1;31m---------------------------------------------------------------------------\u001b[0m",
      "\u001b[1;31mKeyboardInterrupt\u001b[0m                         Traceback (most recent call last)",
      "\u001b[1;32m<ipython-input-13-24613b21f7dc>\u001b[0m in \u001b[0;36m<module>\u001b[1;34m\u001b[0m\n\u001b[0;32m     19\u001b[0m \u001b[0mprint\u001b[0m\u001b[1;33m(\u001b[0m\u001b[1;34m'Copy everything in the address bar after \"code=\", and paste it below.'\u001b[0m\u001b[1;33m)\u001b[0m\u001b[1;33m\u001b[0m\u001b[1;33m\u001b[0m\u001b[0m\n\u001b[0;32m     20\u001b[0m \u001b[0mprint\u001b[0m\u001b[1;33m(\u001b[0m\u001b[0mauth_url\u001b[0m\u001b[1;33m)\u001b[0m\u001b[1;33m\u001b[0m\u001b[1;33m\u001b[0m\u001b[0m\n\u001b[1;32m---> 21\u001b[1;33m \u001b[0mcode\u001b[0m \u001b[1;33m=\u001b[0m \u001b[0minput\u001b[0m\u001b[1;33m(\u001b[0m\u001b[1;34m'Paste code here: '\u001b[0m\u001b[1;33m)\u001b[0m\u001b[1;33m\u001b[0m\u001b[1;33m\u001b[0m\u001b[0m\n\u001b[0m\u001b[0;32m     22\u001b[0m \u001b[1;33m\u001b[0m\u001b[0m\n\u001b[0;32m     23\u001b[0m \u001b[0mclient\u001b[0m\u001b[1;33m.\u001b[0m\u001b[0mauth_provider\u001b[0m\u001b[1;33m.\u001b[0m\u001b[0mauthenticate\u001b[0m\u001b[1;33m(\u001b[0m\u001b[0mcode\u001b[0m\u001b[1;33m,\u001b[0m \u001b[0mredirect_uri\u001b[0m\u001b[1;33m,\u001b[0m \u001b[0mclient_secret\u001b[0m\u001b[1;33m)\u001b[0m\u001b[1;33m\u001b[0m\u001b[1;33m\u001b[0m\u001b[0m\n",
      "\u001b[1;32m~\\quantconnect\\lib\\site-packages\\ipykernel\\kernelbase.py\u001b[0m in \u001b[0;36mraw_input\u001b[1;34m(self, prompt)\u001b[0m\n\u001b[0;32m    861\u001b[0m             \u001b[0mself\u001b[0m\u001b[1;33m.\u001b[0m\u001b[0m_parent_ident\u001b[0m\u001b[1;33m,\u001b[0m\u001b[1;33m\u001b[0m\u001b[1;33m\u001b[0m\u001b[0m\n\u001b[0;32m    862\u001b[0m             \u001b[0mself\u001b[0m\u001b[1;33m.\u001b[0m\u001b[0m_parent_header\u001b[0m\u001b[1;33m,\u001b[0m\u001b[1;33m\u001b[0m\u001b[1;33m\u001b[0m\u001b[0m\n\u001b[1;32m--> 863\u001b[1;33m             \u001b[0mpassword\u001b[0m\u001b[1;33m=\u001b[0m\u001b[1;32mFalse\u001b[0m\u001b[1;33m,\u001b[0m\u001b[1;33m\u001b[0m\u001b[1;33m\u001b[0m\u001b[0m\n\u001b[0m\u001b[0;32m    864\u001b[0m         )\n\u001b[0;32m    865\u001b[0m \u001b[1;33m\u001b[0m\u001b[0m\n",
      "\u001b[1;32m~\\quantconnect\\lib\\site-packages\\ipykernel\\kernelbase.py\u001b[0m in \u001b[0;36m_input_request\u001b[1;34m(self, prompt, ident, parent, password)\u001b[0m\n\u001b[0;32m    902\u001b[0m             \u001b[1;32mexcept\u001b[0m \u001b[0mKeyboardInterrupt\u001b[0m\u001b[1;33m:\u001b[0m\u001b[1;33m\u001b[0m\u001b[1;33m\u001b[0m\u001b[0m\n\u001b[0;32m    903\u001b[0m                 \u001b[1;31m# re-raise KeyboardInterrupt, to truncate traceback\u001b[0m\u001b[1;33m\u001b[0m\u001b[1;33m\u001b[0m\u001b[1;33m\u001b[0m\u001b[0m\n\u001b[1;32m--> 904\u001b[1;33m                 \u001b[1;32mraise\u001b[0m \u001b[0mKeyboardInterrupt\u001b[0m\u001b[1;33m(\u001b[0m\u001b[1;34m\"Interrupted by user\"\u001b[0m\u001b[1;33m)\u001b[0m \u001b[1;32mfrom\u001b[0m \u001b[1;32mNone\u001b[0m\u001b[1;33m\u001b[0m\u001b[1;33m\u001b[0m\u001b[0m\n\u001b[0m\u001b[0;32m    905\u001b[0m             \u001b[1;32mexcept\u001b[0m \u001b[0mException\u001b[0m \u001b[1;32mas\u001b[0m \u001b[0me\u001b[0m\u001b[1;33m:\u001b[0m\u001b[1;33m\u001b[0m\u001b[1;33m\u001b[0m\u001b[0m\n\u001b[0;32m    906\u001b[0m                 \u001b[0mself\u001b[0m\u001b[1;33m.\u001b[0m\u001b[0mlog\u001b[0m\u001b[1;33m.\u001b[0m\u001b[0mwarning\u001b[0m\u001b[1;33m(\u001b[0m\u001b[1;34m\"Invalid Message:\"\u001b[0m\u001b[1;33m,\u001b[0m \u001b[0mexc_info\u001b[0m\u001b[1;33m=\u001b[0m\u001b[1;32mTrue\u001b[0m\u001b[1;33m)\u001b[0m\u001b[1;33m\u001b[0m\u001b[1;33m\u001b[0m\u001b[0m\n",
      "\u001b[1;31mKeyboardInterrupt\u001b[0m: Interrupted by user"
     ]
    }
   ],
   "source": [
    "import onedrivesdk_fork\n",
    "\n",
    "redirect_uri = ''\n",
    "client_secret = 'aormSNKA63?)gjpXFO919_('\n",
    "client_id='65f9e691-8416-40f5-a8a3-813024941287'\n",
    "api_base_url='https://api.onedrive.com/v1.0/'\n",
    "scopes=['wl.signin', 'wl.offline_access', 'onedrive.readwrite']\n",
    "\n",
    "http_provider = onedrivesdk_fork.HttpProvider()\n",
    "auth_provider = onedrivesdk_fork.AuthProvider(\n",
    "    http_provider=http_provider,\n",
    "    client_id=client_id,\n",
    "    scopes=scopes)\n",
    "\n",
    "client = onedrivesdk_fork.OneDriveClient(api_base_url, auth_provider, http_provider)\n",
    "auth_url = client.auth_provider.get_auth_url(redirect_uri)\n",
    "# Ask for the code\n",
    "print('Paste this URL into your browser, approve the app\\'s access.')\n",
    "print('Copy everything in the address bar after \"code=\", and paste it below.')\n",
    "print(auth_url)\n",
    "code = input('Paste code here: ')\n",
    "\n",
    "client.auth_provider.authenticate(code, redirect_uri, client_secret)\n",
    "\n"
   ]
  },
  {
   "cell_type": "code",
   "execution_count": null,
   "metadata": {
    "ExecuteTime": {
     "start_time": "2020-10-20T14:07:26.664Z"
    }
   },
   "outputs": [],
   "source": [
    "import onedrivesdk_fork\n",
    "from onedrivesdk_fork.helpers import GetAuthCodeServer\n",
    "\n",
    "redirect_uri = ''\n",
    "client_secret = 'aormSNKA63?)gjpXFO919_('\n",
    "scopes=['wl.signin', 'wl.offline_access', 'onedrive.readwrite']\n",
    "\n",
    "client = onedrivesdk_fork.get_default_client(\n",
    "    client_id='65f9e691-8416-40f5-a8a3-813024941287', scopes=scopes)\n",
    "\n",
    "auth_url = client.auth_provider.get_auth_url(redirect_uri)\n",
    "\n",
    "#this will block until we have the code\n",
    "code = GetAuthCodeServer.get_auth_code(auth_url, redirect_uri)\n",
    "\n",
    "client.auth_provider.authenticate(code, redirect_uri, client_secret)"
   ]
  },
  {
   "cell_type": "code",
   "execution_count": 3,
   "metadata": {
    "ExecuteTime": {
     "end_time": "2020-10-20T14:09:23.441059Z",
     "start_time": "2020-10-20T14:09:22.830554Z"
    }
   },
   "outputs": [],
   "source": [
    "#get the top three elements of root, leaving the next page for more elements\n",
    "collection = client.item(drive='me', id='root').children.request(top=3).get()\n",
    "\n",
    "#get the first item in the collection\n",
    "item = collection[0]\n",
    "\n",
    "#get the next page of three elements, if none exist, returns None\n",
    "collection2 = onedrivesdk_fork.ChildrenCollectionRequest.get_next_page_request(collection, client).get()"
   ]
  },
  {
   "cell_type": "code",
   "execution_count": 5,
   "metadata": {
    "ExecuteTime": {
     "end_time": "2020-10-20T14:09:36.866501Z",
     "start_time": "2020-10-20T14:09:36.848951Z"
    }
   },
   "outputs": [
    {
     "data": {
      "text/plain": [
       "<onedrivesdk_fork.model.children_collection_page.ChildrenCollectionPage at 0x21b6e26ab00>"
      ]
     },
     "execution_count": 5,
     "metadata": {},
     "output_type": "execute_result"
    }
   ],
   "source": [
    "collection2"
   ]
  },
  {
   "cell_type": "code",
   "execution_count": null,
   "metadata": {},
   "outputs": [],
   "source": [
    "https://github.com/GearPlug/microsoftgraph-python"
   ]
  },
  {
   "cell_type": "code",
   "execution_count": 8,
   "metadata": {
    "ExecuteTime": {
     "end_time": "2020-10-20T14:15:53.094573Z",
     "start_time": "2020-10-20T14:15:53.057050Z"
    }
   },
   "outputs": [],
   "source": [
    "from microsoftgraph.client import Client\n"
   ]
  },
  {
   "cell_type": "code",
   "execution_count": 9,
   "metadata": {
    "ExecuteTime": {
     "end_time": "2020-10-20T14:15:56.017616Z",
     "start_time": "2020-10-20T14:15:55.999611Z"
    }
   },
   "outputs": [],
   "source": [
    "client = Client('aormSNKA63?)gjpXFO919_(', '65f9e691-8416-40f5-a8a3-813024941287', account_type='by defect common', office365=True)\n"
   ]
  },
  {
   "cell_type": "code",
   "execution_count": 14,
   "metadata": {
    "ExecuteTime": {
     "end_time": "2020-10-20T14:18:03.654170Z",
     "start_time": "2020-10-20T14:18:03.630909Z"
    },
    "collapsed": true
   },
   "outputs": [
    {
     "ename": "AttributeError",
     "evalue": "'OneDriveClient' object has no attribute 'authorization_url'",
     "output_type": "error",
     "traceback": [
      "\u001b[1;31m---------------------------------------------------------------------------\u001b[0m",
      "\u001b[1;31mAttributeError\u001b[0m                            Traceback (most recent call last)",
      "\u001b[1;32m<ipython-input-14-8698ea56624e>\u001b[0m in \u001b[0;36m<module>\u001b[1;34m\u001b[0m\n\u001b[0;32m      1\u001b[0m \u001b[0mredirect_uri\u001b[0m\u001b[1;33m=\u001b[0m\u001b[1;34m''\u001b[0m\u001b[1;33m\u001b[0m\u001b[1;33m\u001b[0m\u001b[0m\n\u001b[1;32m----> 2\u001b[1;33m \u001b[0murl\u001b[0m \u001b[1;33m=\u001b[0m \u001b[0mclient\u001b[0m\u001b[1;33m.\u001b[0m\u001b[0mauthorization_url\u001b[0m\u001b[1;33m(\u001b[0m\u001b[0mredirect_uri\u001b[0m\u001b[1;33m,\u001b[0m \u001b[0mscope\u001b[0m\u001b[1;33m,\u001b[0m \u001b[0mstate\u001b[0m\u001b[1;33m=\u001b[0m\u001b[1;32mNone\u001b[0m\u001b[1;33m)\u001b[0m\u001b[1;33m\u001b[0m\u001b[1;33m\u001b[0m\u001b[0m\n\u001b[0m",
      "\u001b[1;31mAttributeError\u001b[0m: 'OneDriveClient' object has no attribute 'authorization_url'"
     ]
    }
   ],
   "source": [
    "redirect_uri=''\n",
    "url = client.authorization_url(redirect_uri, scope, state=None)\n"
   ]
  },
  {
   "cell_type": "code",
   "execution_count": null,
   "metadata": {},
   "outputs": [],
   "source": []
  },
  {
   "cell_type": "code",
   "execution_count": null,
   "metadata": {},
   "outputs": [],
   "source": [
    "https://github.com/microsoftgraph/msgraph-sdk-python-core"
   ]
  },
  {
   "cell_type": "code",
   "execution_count": 15,
   "metadata": {
    "ExecuteTime": {
     "end_time": "2020-10-20T14:18:30.068301Z",
     "start_time": "2020-10-20T14:18:27.699587Z"
    }
   },
   "outputs": [],
   "source": [
    "from azure.identity import UsernamePasswordCredential, DeviceCodeCredential\n",
    "from msgraphcore import GraphSession"
   ]
  },
  {
   "cell_type": "code",
   "execution_count": 28,
   "metadata": {
    "ExecuteTime": {
     "end_time": "2020-10-20T14:38:35.122057Z",
     "start_time": "2020-10-20T14:38:35.117574Z"
    }
   },
   "outputs": [],
   "source": [
    "# Added UsernamePassword for demo purposes only, please don't use this in production.\n",
    "# ugly_credential = UsernamePasswordCredential('set-clientId', 'set-username', 'set-password')\n",
    "ugly_credential = UsernamePasswordCredential('65f9e691-8416-40f5-a8a3-813024941287', 'ocean@tendollardata.com', '5DeltaTheta')\n",
    "\n",
    "device_credential = DeviceCodeCredential(\n",
    "    'set-clientId')\n",
    "\n",
    "# There are many other options for getting an access token. See the following for more information.\n",
    "# https://pypi.org/project/azure-identity/"
   ]
  },
  {
   "cell_type": "code",
   "execution_count": 29,
   "metadata": {
    "ExecuteTime": {
     "end_time": "2020-10-20T14:38:39.995079Z",
     "start_time": "2020-10-20T14:38:39.989080Z"
    }
   },
   "outputs": [],
   "source": [
    "scopes = ['mail.send', 'user.read']\n",
    "graph_session = GraphSession(device_credential, scopes)"
   ]
  },
  {
   "cell_type": "code",
   "execution_count": 30,
   "metadata": {
    "ExecuteTime": {
     "end_time": "2020-10-20T14:38:43.938802Z",
     "start_time": "2020-10-20T14:38:43.629807Z"
    },
    "collapsed": true
   },
   "outputs": [
    {
     "name": "stderr",
     "output_type": "stream",
     "text": [
      "DeviceCodeCredential.get_token failed: Couldn't begin authentication: AADSTS50059: No tenant-identifying information found in either the request or implied by any provided credentials.\r\n",
      "Trace ID: 4128e902-fd39-466a-8152-554ed552cd00\r\n",
      "Correlation ID: 905ceb28-5d71-44b6-9204-28ca20cc4007\r\n",
      "Timestamp: 2020-10-20 14:38:42Z\n"
     ]
    },
    {
     "ename": "ClientAuthenticationError",
     "evalue": "Couldn't begin authentication: AADSTS50059: No tenant-identifying information found in either the request or implied by any provided credentials.\r\nTrace ID: 4128e902-fd39-466a-8152-554ed552cd00\r\nCorrelation ID: 905ceb28-5d71-44b6-9204-28ca20cc4007\r\nTimestamp: 2020-10-20 14:38:42Z",
     "output_type": "error",
     "traceback": [
      "\u001b[1;31m---------------------------------------------------------------------------\u001b[0m",
      "\u001b[1;31mClientAuthenticationError\u001b[0m                 Traceback (most recent call last)",
      "\u001b[1;32m<ipython-input-30-4d56bd52261d>\u001b[0m in \u001b[0;36m<module>\u001b[1;34m\u001b[0m\n\u001b[1;32m----> 1\u001b[1;33m \u001b[0mresult\u001b[0m \u001b[1;33m=\u001b[0m \u001b[0mgraph_session\u001b[0m\u001b[1;33m.\u001b[0m\u001b[0mget\u001b[0m\u001b[1;33m(\u001b[0m\u001b[1;34m'/me'\u001b[0m\u001b[1;33m)\u001b[0m\u001b[1;33m\u001b[0m\u001b[1;33m\u001b[0m\u001b[0m\n\u001b[0m\u001b[0;32m      2\u001b[0m \u001b[0mprint\u001b[0m\u001b[1;33m(\u001b[0m\u001b[0mresult\u001b[0m\u001b[1;33m.\u001b[0m\u001b[0mjson\u001b[0m\u001b[1;33m(\u001b[0m\u001b[1;33m)\u001b[0m\u001b[1;33m)\u001b[0m\u001b[1;33m\u001b[0m\u001b[1;33m\u001b[0m\u001b[0m\n",
      "\u001b[1;32m~\\quantconnect\\lib\\site-packages\\msgraphcore\\middleware\\options\\middleware_control.py\u001b[0m in \u001b[0;36mwrapper\u001b[1;34m(*args, **kwargs)\u001b[0m\n\u001b[0;32m     22\u001b[0m                 \u001b[1;31m# Set middleware options, for use by middleware in the middleware pipeline\u001b[0m\u001b[1;33m\u001b[0m\u001b[1;33m\u001b[0m\u001b[1;33m\u001b[0m\u001b[0m\n\u001b[0;32m     23\u001b[0m                 \u001b[0mself\u001b[0m\u001b[1;33m.\u001b[0m\u001b[0mset\u001b[0m\u001b[1;33m(\u001b[0m\u001b[0mAUTH_MIDDLEWARE_OPTIONS\u001b[0m\u001b[1;33m,\u001b[0m \u001b[0mAuthMiddlewareOptions\u001b[0m\u001b[1;33m(\u001b[0m\u001b[0mscopes\u001b[0m\u001b[1;33m)\u001b[0m\u001b[1;33m)\u001b[0m\u001b[1;33m\u001b[0m\u001b[1;33m\u001b[0m\u001b[0m\n\u001b[1;32m---> 24\u001b[1;33m             \u001b[1;32mreturn\u001b[0m \u001b[0mfunc\u001b[0m\u001b[1;33m(\u001b[0m\u001b[1;33m*\u001b[0m\u001b[0margs\u001b[0m\u001b[1;33m,\u001b[0m \u001b[1;33m**\u001b[0m\u001b[0mkwargs\u001b[0m\u001b[1;33m)\u001b[0m\u001b[1;33m\u001b[0m\u001b[1;33m\u001b[0m\u001b[0m\n\u001b[0m\u001b[0;32m     25\u001b[0m         \u001b[1;32mreturn\u001b[0m \u001b[0mwrapper\u001b[0m\u001b[1;33m\u001b[0m\u001b[1;33m\u001b[0m\u001b[0m\n\u001b[0;32m     26\u001b[0m \u001b[1;33m\u001b[0m\u001b[0m\n",
      "\u001b[1;32m~\\quantconnect\\lib\\site-packages\\msgraphcore\\graph_session.py\u001b[0m in \u001b[0;36mget\u001b[1;34m(self, url, **kwargs)\u001b[0m\n\u001b[0;32m     39\u001b[0m         \u001b[1;33m:\u001b[0m\u001b[0mrtype\u001b[0m\u001b[1;33m:\u001b[0m \u001b[0mrequests\u001b[0m\u001b[1;33m.\u001b[0m\u001b[0mResponse\u001b[0m\u001b[1;33m\u001b[0m\u001b[1;33m\u001b[0m\u001b[0m\n\u001b[0;32m     40\u001b[0m         \"\"\"\n\u001b[1;32m---> 41\u001b[1;33m         \u001b[1;32mreturn\u001b[0m \u001b[0msuper\u001b[0m\u001b[1;33m(\u001b[0m\u001b[1;33m)\u001b[0m\u001b[1;33m.\u001b[0m\u001b[0mget\u001b[0m\u001b[1;33m(\u001b[0m\u001b[0mself\u001b[0m\u001b[1;33m.\u001b[0m\u001b[0m_graph_url\u001b[0m\u001b[1;33m(\u001b[0m\u001b[0murl\u001b[0m\u001b[1;33m)\u001b[0m\u001b[1;33m)\u001b[0m\u001b[1;33m\u001b[0m\u001b[1;33m\u001b[0m\u001b[0m\n\u001b[0m\u001b[0;32m     42\u001b[0m \u001b[1;33m\u001b[0m\u001b[0m\n\u001b[0;32m     43\u001b[0m     \u001b[1;33m@\u001b[0m\u001b[0mmiddleware_control\u001b[0m\u001b[1;33m.\u001b[0m\u001b[0mget_middleware_options\u001b[0m\u001b[1;33m\u001b[0m\u001b[1;33m\u001b[0m\u001b[0m\n",
      "\u001b[1;32m~\\quantconnect\\lib\\site-packages\\requests\\sessions.py\u001b[0m in \u001b[0;36mget\u001b[1;34m(self, url, **kwargs)\u001b[0m\n\u001b[0;32m    541\u001b[0m \u001b[1;33m\u001b[0m\u001b[0m\n\u001b[0;32m    542\u001b[0m         \u001b[0mkwargs\u001b[0m\u001b[1;33m.\u001b[0m\u001b[0msetdefault\u001b[0m\u001b[1;33m(\u001b[0m\u001b[1;34m'allow_redirects'\u001b[0m\u001b[1;33m,\u001b[0m \u001b[1;32mTrue\u001b[0m\u001b[1;33m)\u001b[0m\u001b[1;33m\u001b[0m\u001b[1;33m\u001b[0m\u001b[0m\n\u001b[1;32m--> 543\u001b[1;33m         \u001b[1;32mreturn\u001b[0m \u001b[0mself\u001b[0m\u001b[1;33m.\u001b[0m\u001b[0mrequest\u001b[0m\u001b[1;33m(\u001b[0m\u001b[1;34m'GET'\u001b[0m\u001b[1;33m,\u001b[0m \u001b[0murl\u001b[0m\u001b[1;33m,\u001b[0m \u001b[1;33m**\u001b[0m\u001b[0mkwargs\u001b[0m\u001b[1;33m)\u001b[0m\u001b[1;33m\u001b[0m\u001b[1;33m\u001b[0m\u001b[0m\n\u001b[0m\u001b[0;32m    544\u001b[0m \u001b[1;33m\u001b[0m\u001b[0m\n\u001b[0;32m    545\u001b[0m     \u001b[1;32mdef\u001b[0m \u001b[0moptions\u001b[0m\u001b[1;33m(\u001b[0m\u001b[0mself\u001b[0m\u001b[1;33m,\u001b[0m \u001b[0murl\u001b[0m\u001b[1;33m,\u001b[0m \u001b[1;33m**\u001b[0m\u001b[0mkwargs\u001b[0m\u001b[1;33m)\u001b[0m\u001b[1;33m:\u001b[0m\u001b[1;33m\u001b[0m\u001b[1;33m\u001b[0m\u001b[0m\n",
      "\u001b[1;32m~\\quantconnect\\lib\\site-packages\\requests\\sessions.py\u001b[0m in \u001b[0;36mrequest\u001b[1;34m(self, method, url, params, data, headers, cookies, files, auth, timeout, allow_redirects, proxies, hooks, stream, verify, cert, json)\u001b[0m\n\u001b[0;32m    528\u001b[0m         }\n\u001b[0;32m    529\u001b[0m         \u001b[0msend_kwargs\u001b[0m\u001b[1;33m.\u001b[0m\u001b[0mupdate\u001b[0m\u001b[1;33m(\u001b[0m\u001b[0msettings\u001b[0m\u001b[1;33m)\u001b[0m\u001b[1;33m\u001b[0m\u001b[1;33m\u001b[0m\u001b[0m\n\u001b[1;32m--> 530\u001b[1;33m         \u001b[0mresp\u001b[0m \u001b[1;33m=\u001b[0m \u001b[0mself\u001b[0m\u001b[1;33m.\u001b[0m\u001b[0msend\u001b[0m\u001b[1;33m(\u001b[0m\u001b[0mprep\u001b[0m\u001b[1;33m,\u001b[0m \u001b[1;33m**\u001b[0m\u001b[0msend_kwargs\u001b[0m\u001b[1;33m)\u001b[0m\u001b[1;33m\u001b[0m\u001b[1;33m\u001b[0m\u001b[0m\n\u001b[0m\u001b[0;32m    531\u001b[0m \u001b[1;33m\u001b[0m\u001b[0m\n\u001b[0;32m    532\u001b[0m         \u001b[1;32mreturn\u001b[0m \u001b[0mresp\u001b[0m\u001b[1;33m\u001b[0m\u001b[1;33m\u001b[0m\u001b[0m\n",
      "\u001b[1;32m~\\quantconnect\\lib\\site-packages\\requests\\sessions.py\u001b[0m in \u001b[0;36msend\u001b[1;34m(self, request, **kwargs)\u001b[0m\n\u001b[0;32m    641\u001b[0m \u001b[1;33m\u001b[0m\u001b[0m\n\u001b[0;32m    642\u001b[0m         \u001b[1;31m# Send the request\u001b[0m\u001b[1;33m\u001b[0m\u001b[1;33m\u001b[0m\u001b[1;33m\u001b[0m\u001b[0m\n\u001b[1;32m--> 643\u001b[1;33m         \u001b[0mr\u001b[0m \u001b[1;33m=\u001b[0m \u001b[0madapter\u001b[0m\u001b[1;33m.\u001b[0m\u001b[0msend\u001b[0m\u001b[1;33m(\u001b[0m\u001b[0mrequest\u001b[0m\u001b[1;33m,\u001b[0m \u001b[1;33m**\u001b[0m\u001b[0mkwargs\u001b[0m\u001b[1;33m)\u001b[0m\u001b[1;33m\u001b[0m\u001b[1;33m\u001b[0m\u001b[0m\n\u001b[0m\u001b[0;32m    644\u001b[0m \u001b[1;33m\u001b[0m\u001b[0m\n\u001b[0;32m    645\u001b[0m         \u001b[1;31m# Total elapsed time of the request (approximately)\u001b[0m\u001b[1;33m\u001b[0m\u001b[1;33m\u001b[0m\u001b[1;33m\u001b[0m\u001b[0m\n",
      "\u001b[1;32m~\\quantconnect\\lib\\site-packages\\msgraphcore\\middleware\\middleware.py\u001b[0m in \u001b[0;36msend\u001b[1;34m(self, request, **kwargs)\u001b[0m\n\u001b[0;32m     24\u001b[0m     \u001b[1;32mdef\u001b[0m \u001b[0msend\u001b[0m\u001b[1;33m(\u001b[0m\u001b[0mself\u001b[0m\u001b[1;33m,\u001b[0m \u001b[0mrequest\u001b[0m\u001b[1;33m,\u001b[0m \u001b[1;33m**\u001b[0m\u001b[0mkwargs\u001b[0m\u001b[1;33m)\u001b[0m\u001b[1;33m:\u001b[0m\u001b[1;33m\u001b[0m\u001b[1;33m\u001b[0m\u001b[0m\n\u001b[0;32m     25\u001b[0m         \u001b[1;32mif\u001b[0m \u001b[0mself\u001b[0m\u001b[1;33m.\u001b[0m\u001b[0m_middleware_present\u001b[0m\u001b[1;33m(\u001b[0m\u001b[1;33m)\u001b[0m\u001b[1;33m:\u001b[0m\u001b[1;33m\u001b[0m\u001b[1;33m\u001b[0m\u001b[0m\n\u001b[1;32m---> 26\u001b[1;33m             \u001b[1;32mreturn\u001b[0m \u001b[0mself\u001b[0m\u001b[1;33m.\u001b[0m\u001b[0m_middleware\u001b[0m\u001b[1;33m.\u001b[0m\u001b[0msend\u001b[0m\u001b[1;33m(\u001b[0m\u001b[0mrequest\u001b[0m\u001b[1;33m,\u001b[0m \u001b[1;33m**\u001b[0m\u001b[0mkwargs\u001b[0m\u001b[1;33m)\u001b[0m\u001b[1;33m\u001b[0m\u001b[1;33m\u001b[0m\u001b[0m\n\u001b[0m\u001b[0;32m     27\u001b[0m         \u001b[1;31m# No middleware in pipeline, call superclass' send\u001b[0m\u001b[1;33m\u001b[0m\u001b[1;33m\u001b[0m\u001b[1;33m\u001b[0m\u001b[0m\n\u001b[0;32m     28\u001b[0m         \u001b[1;32mreturn\u001b[0m \u001b[0msuper\u001b[0m\u001b[1;33m(\u001b[0m\u001b[1;33m)\u001b[0m\u001b[1;33m.\u001b[0m\u001b[0msend\u001b[0m\u001b[1;33m(\u001b[0m\u001b[0mrequest\u001b[0m\u001b[1;33m,\u001b[0m \u001b[1;33m**\u001b[0m\u001b[0mkwargs\u001b[0m\u001b[1;33m)\u001b[0m\u001b[1;33m\u001b[0m\u001b[1;33m\u001b[0m\u001b[0m\n",
      "\u001b[1;32m~\\quantconnect\\lib\\site-packages\\msgraphcore\\middleware\\authorization.py\u001b[0m in \u001b[0;36msend\u001b[1;34m(self, request, **kwargs)\u001b[0m\n\u001b[0;32m     14\u001b[0m         \u001b[0mself\u001b[0m\u001b[1;33m.\u001b[0m\u001b[0m_update_scopes_from_middleware_options\u001b[0m\u001b[1;33m(\u001b[0m\u001b[1;33m)\u001b[0m\u001b[1;33m\u001b[0m\u001b[1;33m\u001b[0m\u001b[0m\n\u001b[0;32m     15\u001b[0m \u001b[1;33m\u001b[0m\u001b[0m\n\u001b[1;32m---> 16\u001b[1;33m         \u001b[0mrequest\u001b[0m\u001b[1;33m.\u001b[0m\u001b[0mheaders\u001b[0m\u001b[1;33m.\u001b[0m\u001b[0mupdate\u001b[0m\u001b[1;33m(\u001b[0m\u001b[1;33m{\u001b[0m\u001b[1;34m'Authorization'\u001b[0m\u001b[1;33m:\u001b[0m \u001b[1;34m'Bearer {}'\u001b[0m\u001b[1;33m.\u001b[0m\u001b[0mformat\u001b[0m\u001b[1;33m(\u001b[0m\u001b[0mself\u001b[0m\u001b[1;33m.\u001b[0m\u001b[0m_get_access_token\u001b[0m\u001b[1;33m(\u001b[0m\u001b[1;33m)\u001b[0m\u001b[1;33m)\u001b[0m\u001b[1;33m}\u001b[0m\u001b[1;33m)\u001b[0m\u001b[1;33m\u001b[0m\u001b[1;33m\u001b[0m\u001b[0m\n\u001b[0m\u001b[0;32m     17\u001b[0m         \u001b[0mresponse\u001b[0m \u001b[1;33m=\u001b[0m \u001b[0msuper\u001b[0m\u001b[1;33m(\u001b[0m\u001b[1;33m)\u001b[0m\u001b[1;33m.\u001b[0m\u001b[0msend\u001b[0m\u001b[1;33m(\u001b[0m\u001b[0mrequest\u001b[0m\u001b[1;33m,\u001b[0m \u001b[1;33m**\u001b[0m\u001b[0mkwargs\u001b[0m\u001b[1;33m)\u001b[0m\u001b[1;33m\u001b[0m\u001b[1;33m\u001b[0m\u001b[0m\n\u001b[0;32m     18\u001b[0m \u001b[1;33m\u001b[0m\u001b[0m\n",
      "\u001b[1;32m~\\quantconnect\\lib\\site-packages\\msgraphcore\\middleware\\authorization.py\u001b[0m in \u001b[0;36m_get_access_token\u001b[1;34m(self)\u001b[0m\n\u001b[0;32m     31\u001b[0m \u001b[1;33m\u001b[0m\u001b[0m\n\u001b[0;32m     32\u001b[0m     \u001b[1;32mdef\u001b[0m \u001b[0m_get_access_token\u001b[0m\u001b[1;33m(\u001b[0m\u001b[0mself\u001b[0m\u001b[1;33m)\u001b[0m\u001b[1;33m:\u001b[0m\u001b[1;33m\u001b[0m\u001b[1;33m\u001b[0m\u001b[0m\n\u001b[1;32m---> 33\u001b[1;33m         \u001b[1;32mreturn\u001b[0m \u001b[0mself\u001b[0m\u001b[1;33m.\u001b[0m\u001b[0mcredential\u001b[0m\u001b[1;33m.\u001b[0m\u001b[0mget_token\u001b[0m\u001b[1;33m(\u001b[0m\u001b[1;33m*\u001b[0m\u001b[0mself\u001b[0m\u001b[1;33m.\u001b[0m\u001b[0mscopes\u001b[0m\u001b[1;33m)\u001b[0m\u001b[1;33m[\u001b[0m\u001b[1;36m0\u001b[0m\u001b[1;33m]\u001b[0m\u001b[1;33m\u001b[0m\u001b[1;33m\u001b[0m\u001b[0m\n\u001b[0m",
      "\u001b[1;32m~\\quantconnect\\lib\\site-packages\\azure\\identity\\_internal\\interactive.py\u001b[0m in \u001b[0;36mget_token\u001b[1;34m(self, *scopes, **kwargs)\u001b[0m\n\u001b[0;32m    123\u001b[0m \u001b[1;33m\u001b[0m\u001b[0m\n\u001b[0;32m    124\u001b[0m         \u001b[1;32mtry\u001b[0m\u001b[1;33m:\u001b[0m\u001b[1;33m\u001b[0m\u001b[1;33m\u001b[0m\u001b[0m\n\u001b[1;32m--> 125\u001b[1;33m             \u001b[0mresult\u001b[0m \u001b[1;33m=\u001b[0m \u001b[0mself\u001b[0m\u001b[1;33m.\u001b[0m\u001b[0m_request_token\u001b[0m\u001b[1;33m(\u001b[0m\u001b[1;33m*\u001b[0m\u001b[0mscopes\u001b[0m\u001b[1;33m,\u001b[0m \u001b[1;33m**\u001b[0m\u001b[0mkwargs\u001b[0m\u001b[1;33m)\u001b[0m\u001b[1;33m\u001b[0m\u001b[1;33m\u001b[0m\u001b[0m\n\u001b[0m\u001b[0;32m    126\u001b[0m             \u001b[1;32mif\u001b[0m \u001b[1;34m\"access_token\"\u001b[0m \u001b[1;32mnot\u001b[0m \u001b[1;32min\u001b[0m \u001b[0mresult\u001b[0m\u001b[1;33m:\u001b[0m\u001b[1;33m\u001b[0m\u001b[1;33m\u001b[0m\u001b[0m\n\u001b[0;32m    127\u001b[0m                 \u001b[0mmessage\u001b[0m \u001b[1;33m=\u001b[0m \u001b[1;34m\"Authentication failed: {}\"\u001b[0m\u001b[1;33m.\u001b[0m\u001b[0mformat\u001b[0m\u001b[1;33m(\u001b[0m\u001b[0mresult\u001b[0m\u001b[1;33m.\u001b[0m\u001b[0mget\u001b[0m\u001b[1;33m(\u001b[0m\u001b[1;34m\"error_description\"\u001b[0m\u001b[1;33m)\u001b[0m \u001b[1;32mor\u001b[0m \u001b[0mresult\u001b[0m\u001b[1;33m.\u001b[0m\u001b[0mget\u001b[0m\u001b[1;33m(\u001b[0m\u001b[1;34m\"error\"\u001b[0m\u001b[1;33m)\u001b[0m\u001b[1;33m)\u001b[0m\u001b[1;33m\u001b[0m\u001b[1;33m\u001b[0m\u001b[0m\n",
      "\u001b[1;32m~\\quantconnect\\lib\\site-packages\\azure\\identity\\_internal\\decorators.py\u001b[0m in \u001b[0;36mwrapper\u001b[1;34m(*args, **kwargs)\u001b[0m\n\u001b[0;32m     43\u001b[0m     \u001b[1;32mdef\u001b[0m \u001b[0mwrapper\u001b[0m\u001b[1;33m(\u001b[0m\u001b[1;33m*\u001b[0m\u001b[0margs\u001b[0m\u001b[1;33m,\u001b[0m \u001b[1;33m**\u001b[0m\u001b[0mkwargs\u001b[0m\u001b[1;33m)\u001b[0m\u001b[1;33m:\u001b[0m\u001b[1;33m\u001b[0m\u001b[1;33m\u001b[0m\u001b[0m\n\u001b[0;32m     44\u001b[0m         \u001b[1;32mtry\u001b[0m\u001b[1;33m:\u001b[0m\u001b[1;33m\u001b[0m\u001b[1;33m\u001b[0m\u001b[0m\n\u001b[1;32m---> 45\u001b[1;33m             \u001b[1;32mreturn\u001b[0m \u001b[0mfn\u001b[0m\u001b[1;33m(\u001b[0m\u001b[1;33m*\u001b[0m\u001b[0margs\u001b[0m\u001b[1;33m,\u001b[0m \u001b[1;33m**\u001b[0m\u001b[0mkwargs\u001b[0m\u001b[1;33m)\u001b[0m\u001b[1;33m\u001b[0m\u001b[1;33m\u001b[0m\u001b[0m\n\u001b[0m\u001b[0;32m     46\u001b[0m         \u001b[1;32mexcept\u001b[0m \u001b[0mClientAuthenticationError\u001b[0m\u001b[1;33m:\u001b[0m\u001b[1;33m\u001b[0m\u001b[1;33m\u001b[0m\u001b[0m\n\u001b[0;32m     47\u001b[0m             \u001b[1;32mraise\u001b[0m\u001b[1;33m\u001b[0m\u001b[1;33m\u001b[0m\u001b[0m\n",
      "\u001b[1;32m~\\quantconnect\\lib\\site-packages\\azure\\identity\\_credentials\\device_code.py\u001b[0m in \u001b[0;36m_request_token\u001b[1;34m(self, *scopes, **kwargs)\u001b[0m\n\u001b[0;32m     66\u001b[0m         \u001b[1;32mif\u001b[0m \u001b[1;34m\"error\"\u001b[0m \u001b[1;32min\u001b[0m \u001b[0mflow\u001b[0m\u001b[1;33m:\u001b[0m\u001b[1;33m\u001b[0m\u001b[1;33m\u001b[0m\u001b[0m\n\u001b[0;32m     67\u001b[0m             raise ClientAuthenticationError(\n\u001b[1;32m---> 68\u001b[1;33m                 \u001b[0mmessage\u001b[0m\u001b[1;33m=\u001b[0m\u001b[1;34m\"Couldn't begin authentication: {}\"\u001b[0m\u001b[1;33m.\u001b[0m\u001b[0mformat\u001b[0m\u001b[1;33m(\u001b[0m\u001b[0mflow\u001b[0m\u001b[1;33m.\u001b[0m\u001b[0mget\u001b[0m\u001b[1;33m(\u001b[0m\u001b[1;34m\"error_description\"\u001b[0m\u001b[1;33m)\u001b[0m \u001b[1;32mor\u001b[0m \u001b[0mflow\u001b[0m\u001b[1;33m.\u001b[0m\u001b[0mget\u001b[0m\u001b[1;33m(\u001b[0m\u001b[1;34m\"error\"\u001b[0m\u001b[1;33m)\u001b[0m\u001b[1;33m)\u001b[0m\u001b[1;33m\u001b[0m\u001b[1;33m\u001b[0m\u001b[0m\n\u001b[0m\u001b[0;32m     69\u001b[0m             )\n\u001b[0;32m     70\u001b[0m \u001b[1;33m\u001b[0m\u001b[0m\n",
      "\u001b[1;31mClientAuthenticationError\u001b[0m: Couldn't begin authentication: AADSTS50059: No tenant-identifying information found in either the request or implied by any provided credentials.\r\nTrace ID: 4128e902-fd39-466a-8152-554ed552cd00\r\nCorrelation ID: 905ceb28-5d71-44b6-9204-28ca20cc4007\r\nTimestamp: 2020-10-20 14:38:42Z"
     ]
    }
   ],
   "source": [
    "result = graph_session.get('/me')\n",
    "print(result.json())"
   ]
  },
  {
   "cell_type": "code",
   "execution_count": null,
   "metadata": {},
   "outputs": [],
   "source": [
    "https://keathmilligan.net/automate-your-work-with-msgraph-and-python\n",
    "https://gist.github.com/keathmilligan/590a981cc629a8ea9b7c3bb64bfcb417"
   ]
  },
  {
   "cell_type": "code",
   "execution_count": null,
   "metadata": {},
   "outputs": [],
   "source": []
  },
  {
   "cell_type": "code",
   "execution_count": null,
   "metadata": {
    "code_folding": [
     0
    ],
    "run_control": {
     "marked": true
    }
   },
   "outputs": [],
   "source": [
    "# hide\n",
    "import requests\n",
    "import msal\n",
    "import atexit\n",
    "import os.path\n",
    "import urllib.parse\n",
    "import os\n",
    "\n",
    "\n",
    "TENANT_ID = '<your tenant id>'\n",
    "CLIENT_ID = '<your application id>'\n",
    "SHAREPOINT_HOST_NAME = 'yourcompany.sharepoint.com'\n",
    "SITE_NAME = '<your site name>'\n",
    "\n",
    "AUTHORITY = 'https://login.microsoftonline.com/' + TENANT_ID\n",
    "ENDPOINT = 'https://graph.microsoft.com/v1.0'\n",
    "\n",
    "SCOPES = [\n",
    "    'Files.ReadWrite.All',\n",
    "    'Sites.ReadWrite.All',\n",
    "    'User.Read',\n",
    "    'User.ReadBasic.All'\n",
    "]\n",
    "\n",
    "cache = msal.SerializableTokenCache()\n",
    "\n",
    "if os.path.exists('token_cache.bin'):\n",
    "    cache.deserialize(open('token_cache.bin', 'r').read())\n",
    "\n",
    "atexit.register(lambda: open('token_cache.bin', 'w').write(cache.serialize()) if cache.has_state_changed else None)\n",
    "\n",
    "app = msal.PublicClientApplication(CLIENT_ID, authority=AUTHORITY, token_cache=cache)\n",
    "\n",
    "accounts = app.get_accounts()\n",
    "result = None\n",
    "if len(accounts) > 0:\n",
    "    result = app.acquire_token_silent(SCOPES, account=accounts[0])\n",
    "\n",
    "if result is None:\n",
    "    flow = app.initiate_device_flow(scopes=SCOPES)\n",
    "    if 'user_code' not in flow:\n",
    "        raise Exception('Failed to create device flow')\n",
    "\n",
    "    print(flow['message'])\n",
    "\n",
    "    result = app.acquire_token_by_device_flow(flow)\n",
    "\n",
    "if 'access_token' in result:\n",
    "    access_token = result['access_token']\n",
    "    headers={'Authorization': 'Bearer ' + access_token}\n",
    "\n",
    "    # get the site id\n",
    "    result = requests.get(f'{ENDPOINT}/sites/{SHAREPOINT_HOST_NAME}:/sites/{SITE_NAME}', headers=headers)\n",
    "    result.raise_for_status()\n",
    "    site_info = result.json()\n",
    "    site_id = site_info['id']\n",
    "\n",
    "    # get the drive id\n",
    "    result = requests.get(f'{ENDPOINT}/sites/{site_id}/drive', headers=headers)\n",
    "    result.raise_for_status()\n",
    "    drive_info = result.json()\n",
    "    drive_id = drive_info['id']\n",
    "\n",
    "    # upload a large file to the 'General' folder -- replace these\n",
    "    filename = 'Large File.pdf'\n",
    "    folder_path = 'General'\n",
    "\n",
    "    folder_url = urllib.parse.quote(folder_path)\n",
    "    result = requests.get(f'{ENDPOINT}/drives/{drive_id}/root:/{folder_url}', headers=headers)\n",
    "    result.raise_for_status()\n",
    "    folder_info = result.json()\n",
    "    folder_id = folder_info['id']\n",
    "\n",
    "    file_url = urllib.parse.quote(filename)\n",
    "    result = requests.post(\n",
    "        f'{ENDPOINT}/drives/{drive_id}/items/{folder_id}:/{file_url}:/createUploadSession',\n",
    "        headers=headers,\n",
    "        json={\n",
    "            '@microsoft.graph.conflictBehavior': 'replace',\n",
    "            'description': 'A large test file',\n",
    "            'fileSystemInfo': {'@odata.type': 'microsoft.graph.fileSystemInfo'},\n",
    "            'name': filename\n",
    "        }\n",
    "    )\n",
    "    result.raise_for_status()\n",
    "    upload_session = result.json()\n",
    "    upload_url = upload_session['uploadUrl']\n",
    "\n",
    "    st = os.stat(filename)\n",
    "    size = st.st_size\n",
    "    CHUNK_SIZE = 10485760\n",
    "    chunks = int(size / CHUNK_SIZE) + 1 if size % CHUNK_SIZE > 0 else 0\n",
    "    with open(filename, 'rb') as fd:\n",
    "        start = 0\n",
    "        for chunk_num in range(chunks):\n",
    "            chunk = fd.read(CHUNK_SIZE)\n",
    "            bytes_read = len(chunk)\n",
    "            upload_range = f'bytes {start}-{start + bytes_read - 1}/{size}'\n",
    "            print(f'chunk: {chunk_num} bytes read: {bytes_read} upload range: {upload_range}')\n",
    "            result = requests.put(\n",
    "                upload_url,\n",
    "                headers={\n",
    "                    'Content-Length': str(bytes_read),\n",
    "                    'Content-Range': upload_range\n",
    "                },\n",
    "                data=chunk\n",
    "            )\n",
    "            result.raise_for_status()\n",
    "            start += bytes_read\n",
    "\n",
    "else:\n",
    "    raise Exception('no access token in result')"
   ]
  },
  {
   "cell_type": "code",
   "execution_count": null,
   "metadata": {},
   "outputs": [],
   "source": [
    "#\n",
    "import requests\n",
    "import msal\n",
    "import atexit\n",
    "import os.path\n",
    "import urllib.parse\n",
    "import os\n",
    "\n",
    "\n",
    "TENANT_ID = '<your tenant id>'\n",
    "CLIENT_ID = '<your application id>'\n",
    "SHAREPOINT_HOST_NAME = 'yourcompany.sharepoint.com'\n",
    "SITE_NAME = '<your site name>'\n",
    "\n",
    "AUTHORITY = 'https://login.microsoftonline.com/' + TENANT_ID\n",
    "ENDPOINT = 'https://graph.microsoft.com/v1.0'\n",
    "\n",
    "SCOPES = [\n",
    "    'Files.ReadWrite.All',\n",
    "    'Sites.ReadWrite.All',\n",
    "    'User.Read',\n",
    "    'User.ReadBasic.All'\n",
    "]\n",
    "\n",
    "cache = msal.SerializableTokenCache()\n",
    "\n",
    "if os.path.exists('token_cache.bin'):\n",
    "    cache.deserialize(open('token_cache.bin', 'r').read())\n",
    "\n",
    "atexit.register(lambda: open('token_cache.bin', 'w').write(cache.serialize()) if cache.has_state_changed else None)\n",
    "\n",
    "app = msal.PublicClientApplication(CLIENT_ID, authority=AUTHORITY, token_cache=cache)\n",
    "\n",
    "accounts = app.get_accounts()\n",
    "result = None\n",
    "if len(accounts) > 0:\n",
    "    result = app.acquire_token_silent(SCOPES, account=accounts[0])\n",
    "\n",
    "if result is None:\n",
    "    flow = app.initiate_device_flow(scopes=SCOPES)\n",
    "    if 'user_code' not in flow:\n",
    "        raise Exception('Failed to create device flow')\n",
    "\n",
    "    print(flow['message'])\n",
    "\n",
    "    result = app.acquire_token_by_device_flow(flow)\n",
    "\n",
    "if 'access_token' in result:\n",
    "    access_token = result['access_token']\n",
    "    headers={'Authorization': 'Bearer ' + access_token}\n",
    "\n",
    "    # get the site id\n",
    "    result = requests.get(f'{ENDPOINT}/sites/{SHAREPOINT_HOST_NAME}:/sites/{SITE_NAME}', headers=headers)\n",
    "    result.raise_for_status()\n",
    "    site_info = result.json()\n",
    "    site_id = site_info['id']\n",
    "\n",
    "    # get the drive id\n",
    "    result = requests.get(f'{ENDPOINT}/sites/{site_id}/drive', headers=headers)\n",
    "    result.raise_for_status()\n",
    "    drive_info = result.json()\n",
    "    drive_id = drive_info['id']\n",
    "\n",
    "    # upload a large file to the 'General' folder -- replace these\n",
    "    filename = 'Large File.pdf'\n",
    "    folder_path = 'General'\n",
    "\n",
    "    folder_url = urllib.parse.quote(folder_path)\n",
    "    result = requests.get(f'{ENDPOINT}/drives/{drive_id}/root:/{folder_url}', headers=headers)\n",
    "    result.raise_for_status()\n",
    "    folder_info = result.json()\n",
    "    folder_id = folder_info['id']\n",
    "\n",
    "    file_url = urllib.parse.quote(filename)\n",
    "    result = requests.post(\n",
    "        f'{ENDPOINT}/drives/{drive_id}/items/{folder_id}:/{file_url}:/createUploadSession',\n",
    "        headers=headers,\n",
    "        json={\n",
    "            '@microsoft.graph.conflictBehavior': 'replace',\n",
    "            'description': 'A large test file',\n",
    "            'fileSystemInfo': {'@odata.type': 'microsoft.graph.fileSystemInfo'},\n",
    "            'name': filename\n",
    "        }\n",
    "    )\n",
    "    result.raise_for_status()\n",
    "    upload_session = result.json()\n",
    "    upload_url = upload_session['uploadUrl']\n",
    "\n",
    "    st = os.stat(filename)\n",
    "    size = st.st_size\n",
    "    CHUNK_SIZE = 10485760\n",
    "    chunks = int(size / CHUNK_SIZE) + 1 if size % CHUNK_SIZE > 0 else 0\n",
    "    with open(filename, 'rb') as fd:\n",
    "        start = 0\n",
    "        for chunk_num in range(chunks):\n",
    "            chunk = fd.read(CHUNK_SIZE)\n",
    "            bytes_read = len(chunk)\n",
    "            upload_range = f'bytes {start}-{start + bytes_read - 1}/{size}'\n",
    "            print(f'chunk: {chunk_num} bytes read: {bytes_read} upload range: {upload_range}')\n",
    "            result = requests.put(\n",
    "                upload_url,\n",
    "                headers={\n",
    "                    'Content-Length': str(bytes_read),\n",
    "                    'Content-Range': upload_range\n",
    "                },\n",
    "                data=chunk\n",
    "            )\n",
    "            result.raise_for_status()\n",
    "            start += bytes_read\n",
    "\n",
    "else:\n",
    "    raise Exception('no access token in result')"
   ]
  },
  {
   "cell_type": "code",
   "execution_count": null,
   "metadata": {},
   "outputs": [],
   "source": [
    "https://github.com/vgrem/Office365-REST-Python-Client\n",
    "    #Working-with-OneDrive-API"
   ]
  },
  {
   "cell_type": "code",
   "execution_count": 43,
   "metadata": {
    "ExecuteTime": {
     "end_time": "2020-10-20T16:18:55.117676Z",
     "start_time": "2020-10-20T16:18:55.096680Z"
    }
   },
   "outputs": [],
   "source": [
    "import msal\n",
    "\n",
    "def acquire_token():\n",
    "    \"\"\"\n",
    "    Acquire token via MSAL\n",
    "    \"\"\"\n",
    "    authority_url = 'https://login.microsoftonline.com/26c88e9c-9423-4bce-907b-a2b18d21c4f4'\n",
    "    app = msal.ConfidentialClientApplication(\n",
    "        authority=authority_url,\n",
    "        client_id='c76277da-dc7d-4b50-baf2-c634400979a4',\n",
    "        client_credential='.cSPdDQcMSjT-uQ0_ZcTQqm4b..8x6Yk7G'\n",
    "    )\n",
    "    token = app.acquire_token_for_client(scopes=[\"https://graph.microsoft.com/.default\"])\n",
    "    return token"
   ]
  },
  {
   "cell_type": "code",
   "execution_count": 48,
   "metadata": {
    "ExecuteTime": {
     "end_time": "2020-10-20T16:29:54.945273Z",
     "start_time": "2020-10-20T16:29:54.916274Z"
    },
    "run_control": {
     "marked": false
    },
    "scrolled": true
   },
   "outputs": [
    {
     "ename": "TypeError",
     "evalue": "__init__() missing 1 required positional argument: 'acquire_token_callback'",
     "output_type": "error",
     "traceback": [
      "\u001b[1;31m---------------------------------------------------------------------------\u001b[0m",
      "\u001b[1;31mTypeError\u001b[0m                                 Traceback (most recent call last)",
      "\u001b[1;32m<ipython-input-48-acef7c7534b6>\u001b[0m in \u001b[0;36m<module>\u001b[1;34m\u001b[0m\n\u001b[0;32m      2\u001b[0m \u001b[1;33m\u001b[0m\u001b[0m\n\u001b[0;32m      3\u001b[0m \u001b[0mtenant_name\u001b[0m \u001b[1;33m=\u001b[0m \u001b[1;34m\"oceantendollardata.onmicrosoft.com\"\u001b[0m\u001b[1;33m\u001b[0m\u001b[1;33m\u001b[0m\u001b[0m\n\u001b[1;32m----> 4\u001b[1;33m \u001b[0mclient\u001b[0m \u001b[1;33m=\u001b[0m \u001b[0mGraphClient\u001b[0m\u001b[1;33m(\u001b[0m\u001b[0macquire_token\u001b[0m\u001b[1;33m)\u001b[0m\u001b[1;33m\u001b[0m\u001b[1;33m\u001b[0m\u001b[0m\n\u001b[0m\u001b[0;32m      5\u001b[0m \u001b[0mdrives\u001b[0m \u001b[1;33m=\u001b[0m \u001b[0mclient\u001b[0m\u001b[1;33m.\u001b[0m\u001b[0mdrives\u001b[0m\u001b[1;33m\u001b[0m\u001b[1;33m\u001b[0m\u001b[0m\n\u001b[0;32m      6\u001b[0m \u001b[0mclient\u001b[0m\u001b[1;33m.\u001b[0m\u001b[0mload\u001b[0m\u001b[1;33m(\u001b[0m\u001b[0mdrives\u001b[0m\u001b[1;33m)\u001b[0m\u001b[1;33m\u001b[0m\u001b[1;33m\u001b[0m\u001b[0m\n",
      "\u001b[1;31mTypeError\u001b[0m: __init__() missing 1 required positional argument: 'acquire_token_callback'"
     ]
    }
   ],
   "source": [
    "from office365.graph_client import GraphClient\n",
    "\n",
    "tenant_name = \"oceantendollardata.onmicrosoft.com\"\n",
    "client = GraphClient(acquire_token)\n",
    "drives = client.drives\n",
    "client.load(drives)\n",
    "client.execute_query()\n",
    "for drive in drives:\n",
    "    print(\"Drive url: {0}\".format(drive.web_url))"
   ]
  },
  {
   "cell_type": "code",
   "execution_count": 51,
   "metadata": {
    "ExecuteTime": {
     "end_time": "2020-10-20T16:35:11.674529Z",
     "start_time": "2020-10-20T16:35:11.664493Z"
    }
   },
   "outputs": [],
   "source": [
    "import json"
   ]
  },
  {
   "cell_type": "code",
   "execution_count": 52,
   "metadata": {
    "ExecuteTime": {
     "end_time": "2020-10-20T16:35:11.719494Z",
     "start_time": "2020-10-20T16:35:11.678498Z"
    },
    "run_control": {
     "marked": true
    }
   },
   "outputs": [
    {
     "ename": "FileNotFoundError",
     "evalue": "[Errno 2] No such file or directory: '-f'",
     "output_type": "error",
     "traceback": [
      "\u001b[1;31m---------------------------------------------------------------------------\u001b[0m",
      "\u001b[1;31mFileNotFoundError\u001b[0m                         Traceback (most recent call last)",
      "\u001b[1;32m<ipython-input-52-a2b8c1b96fe1>\u001b[0m in \u001b[0;36m<module>\u001b[1;34m\u001b[0m\n\u001b[1;32m----> 1\u001b[1;33m \u001b[0mconfig\u001b[0m \u001b[1;33m=\u001b[0m \u001b[0mjson\u001b[0m\u001b[1;33m.\u001b[0m\u001b[0mload\u001b[0m\u001b[1;33m(\u001b[0m\u001b[0mopen\u001b[0m\u001b[1;33m(\u001b[0m\u001b[0msys\u001b[0m\u001b[1;33m.\u001b[0m\u001b[0margv\u001b[0m\u001b[1;33m[\u001b[0m\u001b[1;36m1\u001b[0m\u001b[1;33m]\u001b[0m\u001b[1;33m)\u001b[0m\u001b[1;33m)\u001b[0m\u001b[1;33m\u001b[0m\u001b[1;33m\u001b[0m\u001b[0m\n\u001b[0m\u001b[0;32m      2\u001b[0m \u001b[1;33m\u001b[0m\u001b[0m\n\u001b[0;32m      3\u001b[0m app = msal.PublicClientApplication(\n\u001b[0;32m      4\u001b[0m     \u001b[0mconfig\u001b[0m\u001b[1;33m[\u001b[0m\u001b[1;34m\"client_id\"\u001b[0m\u001b[1;33m]\u001b[0m\u001b[1;33m,\u001b[0m \u001b[0mauthority\u001b[0m\u001b[1;33m=\u001b[0m\u001b[0mconfig\u001b[0m\u001b[1;33m[\u001b[0m\u001b[1;34m\"authority\"\u001b[0m\u001b[1;33m]\u001b[0m\u001b[1;33m,\u001b[0m\u001b[1;33m\u001b[0m\u001b[1;33m\u001b[0m\u001b[0m\n\u001b[0;32m      5\u001b[0m     \u001b[1;31m# token_cache=...  # Default cache is in memory only.\u001b[0m\u001b[1;33m\u001b[0m\u001b[1;33m\u001b[0m\u001b[1;33m\u001b[0m\u001b[0m\n",
      "\u001b[1;31mFileNotFoundError\u001b[0m: [Errno 2] No such file or directory: '-f'"
     ]
    }
   ],
   "source": [
    "config = json.load(open(sys.argv[1]))\n",
    "\n",
    "app = msal.PublicClientApplication(\n",
    "    config[\"client_id\"], authority=config[\"authority\"],\n",
    "    # token_cache=...  # Default cache is in memory only.\n",
    "                       # You can learn how to use SerializableTokenCache from\n",
    "                       # https://msal-python.rtfd.io/en/latest/#msal.SerializableTokenCache\n",
    "    )"
   ]
  },
  {
   "cell_type": "code",
   "execution_count": 49,
   "metadata": {
    "ExecuteTime": {
     "end_time": "2020-10-20T16:32:18.066160Z",
     "start_time": "2020-10-20T16:32:18.032081Z"
    }
   },
   "outputs": [
    {
     "ename": "NameError",
     "evalue": "name 'app' is not defined",
     "output_type": "error",
     "traceback": [
      "\u001b[1;31m---------------------------------------------------------------------------\u001b[0m",
      "\u001b[1;31mNameError\u001b[0m                                 Traceback (most recent call last)",
      "\u001b[1;32m<ipython-input-49-05a596990629>\u001b[0m in \u001b[0;36m<module>\u001b[1;34m\u001b[0m\n\u001b[0;32m      2\u001b[0m \u001b[1;33m\u001b[0m\u001b[0m\n\u001b[0;32m      3\u001b[0m \u001b[1;31m# Firstly, check the cache to see if this end user has signed in before\u001b[0m\u001b[1;33m\u001b[0m\u001b[1;33m\u001b[0m\u001b[1;33m\u001b[0m\u001b[0m\n\u001b[1;32m----> 4\u001b[1;33m \u001b[0maccounts\u001b[0m \u001b[1;33m=\u001b[0m \u001b[0mapp\u001b[0m\u001b[1;33m.\u001b[0m\u001b[0mget_accounts\u001b[0m\u001b[1;33m(\u001b[0m\u001b[0musername\u001b[0m\u001b[1;33m=\u001b[0m\u001b[0mconfig\u001b[0m\u001b[1;33m[\u001b[0m\u001b[1;34m\"username\"\u001b[0m\u001b[1;33m]\u001b[0m\u001b[1;33m)\u001b[0m\u001b[1;33m\u001b[0m\u001b[1;33m\u001b[0m\u001b[0m\n\u001b[0m\u001b[0;32m      5\u001b[0m \u001b[1;32mif\u001b[0m \u001b[0maccounts\u001b[0m\u001b[1;33m:\u001b[0m\u001b[1;33m\u001b[0m\u001b[1;33m\u001b[0m\u001b[0m\n\u001b[0;32m      6\u001b[0m     \u001b[0mresult\u001b[0m \u001b[1;33m=\u001b[0m \u001b[0mapp\u001b[0m\u001b[1;33m.\u001b[0m\u001b[0macquire_token_silent\u001b[0m\u001b[1;33m(\u001b[0m\u001b[0mconfig\u001b[0m\u001b[1;33m[\u001b[0m\u001b[1;34m\"scope\"\u001b[0m\u001b[1;33m]\u001b[0m\u001b[1;33m,\u001b[0m \u001b[0maccount\u001b[0m\u001b[1;33m=\u001b[0m\u001b[0maccounts\u001b[0m\u001b[1;33m[\u001b[0m\u001b[1;36m0\u001b[0m\u001b[1;33m]\u001b[0m\u001b[1;33m)\u001b[0m\u001b[1;33m\u001b[0m\u001b[1;33m\u001b[0m\u001b[0m\n",
      "\u001b[1;31mNameError\u001b[0m: name 'app' is not defined"
     ]
    }
   ],
   "source": [
    "result = None\n",
    "\n",
    "# Firstly, check the cache to see if this end user has signed in before\n",
    "accounts = app.get_accounts(username=config[\"username\"])\n",
    "if accounts:\n",
    "    result = app.acquire_token_silent(config[\"scope\"], account=accounts[0])\n",
    "\n",
    "if not result:\n",
    "    result = app.acquire_token_by_xxx(scopes=config[\"scope\"])"
   ]
  },
  {
   "cell_type": "code",
   "execution_count": null,
   "metadata": {},
   "outputs": [],
   "source": []
  }
 ],
 "metadata": {
  "kernelspec": {
   "display_name": "quantconnect",
   "language": "python",
   "name": "quantconnect"
  },
  "language_info": {
   "codemirror_mode": {
    "name": "ipython",
    "version": 3
   },
   "file_extension": ".py",
   "mimetype": "text/x-python",
   "name": "python",
   "nbconvert_exporter": "python",
   "pygments_lexer": "ipython3",
   "version": "3.6.8"
  }
 },
 "nbformat": 4,
 "nbformat_minor": 4
}
